{
  "nbformat": 4,
  "nbformat_minor": 0,
  "metadata": {
    "colab": {
      "provenance": [],
      "authorship_tag": "ABX9TyNNCOmv1EoXseYuroRYN4FK",
      "include_colab_link": true
    },
    "kernelspec": {
      "name": "python3",
      "display_name": "Python 3"
    },
    "language_info": {
      "name": "python"
    }
  },
  "cells": [
    {
      "cell_type": "markdown",
      "metadata": {
        "id": "view-in-github",
        "colab_type": "text"
      },
      "source": [
        "<a href=\"https://colab.research.google.com/github/SPraveeen/python_google_colab_study/blob/main/week10.ipynb\" target=\"_parent\"><img src=\"https://colab.research.google.com/assets/colab-badge.svg\" alt=\"Open In Colab\"/></a>"
      ]
    },
    {
      "cell_type": "code",
      "execution_count": null,
      "metadata": {
        "colab": {
          "base_uri": "https://localhost:8080/"
        },
        "id": "ExD0iw8tMKkt",
        "outputId": "020a47a7-c60e-43eb-bbb7-eb11e36f26cc"
      },
      "outputs": [
        {
          "output_type": "stream",
          "name": "stdout",
          "text": [
            "Foo object Created\n",
            "10\n"
          ]
        }
      ],
      "source": [
        "class Foo:\n",
        "  def __init__(self):\n",
        "    print('Foo object Created')\n",
        "obj=Foo()\n",
        "obj.x=10\n",
        "print(obj.x)"
      ]
    },
    {
      "cell_type": "code",
      "source": [
        "class Foo:\n",
        "  x=0\n",
        "\n",
        "objj=Foo()\n",
        "print(objj.x)\n",
        "objj.x=objj.x+10\n",
        "print(objj.x)\n",
        "print(objj.x,Foo.x)"
      ],
      "metadata": {
        "colab": {
          "base_uri": "https://localhost:8080/"
        },
        "id": "Ra2ZJgVVM4Q5",
        "outputId": "131fdc45-bca9-45b1-94df-d23384299582"
      },
      "execution_count": null,
      "outputs": [
        {
          "output_type": "stream",
          "name": "stdout",
          "text": [
            "0\n",
            "10\n",
            "10 0\n"
          ]
        }
      ]
    },
    {
      "cell_type": "code",
      "source": [
        "class Foo:\n",
        "    x = 0\n",
        "    def __init__(self):\n",
        "        self.x = 100\n",
        "obj = Foo()\n",
        "print(obj.x, Foo.x)"
      ],
      "metadata": {
        "colab": {
          "base_uri": "https://localhost:8080/"
        },
        "id": "726bQIe3PUMj",
        "outputId": "dc08ab55-f20e-4177-de03-8a207aa7367d"
      },
      "execution_count": null,
      "outputs": [
        {
          "output_type": "stream",
          "name": "stdout",
          "text": [
            "100 0\n"
          ]
        }
      ]
    },
    {
      "cell_type": "code",
      "source": [
        "class Foo:\n",
        "    def __init__(self):\n",
        "        x = 1\n",
        "\n",
        "obj = Foo()\n",
        "print(obj.x)"
      ],
      "metadata": {
        "colab": {
          "base_uri": "https://localhost:8080/",
          "height": 176
        },
        "id": "212b6ZiNQTKU",
        "outputId": "48fe19fc-8566-4654-b0b0-04df603ad8d9"
      },
      "execution_count": null,
      "outputs": [
        {
          "output_type": "error",
          "ename": "AttributeError",
          "evalue": "'Foo' object has no attribute 'x'",
          "traceback": [
            "\u001b[0;31m---------------------------------------------------------------------------\u001b[0m",
            "\u001b[0;31mAttributeError\u001b[0m                            Traceback (most recent call last)",
            "\u001b[0;32m<ipython-input-8-05b99137be6f>\u001b[0m in \u001b[0;36m<cell line: 0>\u001b[0;34m()\u001b[0m\n\u001b[1;32m      4\u001b[0m \u001b[0;34m\u001b[0m\u001b[0m\n\u001b[1;32m      5\u001b[0m \u001b[0mobj\u001b[0m \u001b[0;34m=\u001b[0m \u001b[0mFoo\u001b[0m\u001b[0;34m(\u001b[0m\u001b[0;34m)\u001b[0m\u001b[0;34m\u001b[0m\u001b[0;34m\u001b[0m\u001b[0m\n\u001b[0;32m----> 6\u001b[0;31m \u001b[0mprint\u001b[0m\u001b[0;34m(\u001b[0m\u001b[0mobj\u001b[0m\u001b[0;34m.\u001b[0m\u001b[0mx\u001b[0m\u001b[0;34m)\u001b[0m\u001b[0;34m\u001b[0m\u001b[0;34m\u001b[0m\u001b[0m\n\u001b[0m",
            "\u001b[0;31mAttributeError\u001b[0m: 'Foo' object has no attribute 'x'"
          ]
        }
      ]
    },
    {
      "cell_type": "code",
      "source": [
        "class Foo:\n",
        "  x=1\n",
        "\n",
        "obj=Foo()\n",
        "obj.x"
      ],
      "metadata": {
        "colab": {
          "base_uri": "https://localhost:8080/"
        },
        "id": "-oclQsxcQhf_",
        "outputId": "1a5f9932-ee95-4ff3-e329-ebfe53b0f8b3"
      },
      "execution_count": null,
      "outputs": [
        {
          "output_type": "execute_result",
          "data": {
            "text/plain": [
              "1"
            ]
          },
          "metadata": {},
          "execution_count": 13
        }
      ]
    },
    {
      "cell_type": "code",
      "source": [
        "class Foo:\n",
        "    def how(self):\n",
        "        print('No arguments, but how?')\n",
        "obj = Foo()\n",
        "obj.how()\n",
        "# how(obj)"
      ],
      "metadata": {
        "colab": {
          "base_uri": "https://localhost:8080/"
        },
        "id": "HqH9DDSQQ3Yw",
        "outputId": "2d61420f-26a7-4851-a216-e7b2dac2fccc"
      },
      "execution_count": null,
      "outputs": [
        {
          "output_type": "stream",
          "name": "stdout",
          "text": [
            "No arguments, but how?\n"
          ]
        }
      ]
    },
    {
      "cell_type": "code",
      "source": [
        "class Foo:\n",
        "    foo = 'foo'\n",
        "\n",
        "class Bar(Foo):\n",
        "    bar = 'bar'\n",
        "obj = Bar()\n",
        "print(obj.foo)\n",
        "print(obj.bar)"
      ],
      "metadata": {
        "colab": {
          "base_uri": "https://localhost:8080/"
        },
        "id": "KpyMvBijRaE6",
        "outputId": "57f9528e-f612-4b31-da61-cdcf8c1f041f"
      },
      "execution_count": null,
      "outputs": [
        {
          "output_type": "stream",
          "name": "stdout",
          "text": [
            "foo\n",
            "bar\n"
          ]
        }
      ]
    },
    {
      "cell_type": "code",
      "source": [
        "class Foo:\n",
        "    def __init__(self,a):\n",
        "        self.foo = 'foo'\n",
        "        self.a=a\n",
        "\n",
        "class Bar(Foo):\n",
        "    def __init__(self,a):\n",
        "        super().__init__(a)\n",
        "        self.bar = 'bar'\n",
        "\n",
        "a=10\n",
        "obj = Bar(a)\n",
        "print(obj.bar)\n",
        "print(obj.foo)"
      ],
      "metadata": {
        "colab": {
          "base_uri": "https://localhost:8080/"
        },
        "id": "IC-PCOE8SaiI",
        "outputId": "9aeb4d2c-5523-4099-d44d-ddce245ab935"
      },
      "execution_count": null,
      "outputs": [
        {
          "output_type": "stream",
          "name": "stdout",
          "text": [
            "bar\n",
            "foo\n"
          ]
        }
      ]
    },
    {
      "cell_type": "code",
      "source": [
        "class Foo:\n",
        "    pass\n",
        "class Bar(Foo):\n",
        "    pass\n",
        "obj_1 = Foo()\n",
        "\n",
        "obj_2 = Bar()\n",
        "obj_1.x = 100\n",
        "\n",
        "print(obj_2.x)"
      ],
      "metadata": {
        "colab": {
          "base_uri": "https://localhost:8080/",
          "height": 176
        },
        "id": "55cYHs_rTIX_",
        "outputId": "155fac45-4f05-4596-82db-fd10d4e039b5"
      },
      "execution_count": null,
      "outputs": [
        {
          "output_type": "error",
          "ename": "AttributeError",
          "evalue": "'Bar' object has no attribute 'x'",
          "traceback": [
            "\u001b[0;31m---------------------------------------------------------------------------\u001b[0m",
            "\u001b[0;31mAttributeError\u001b[0m                            Traceback (most recent call last)",
            "\u001b[0;32m<ipython-input-26-1d9a0bdcbc7a>\u001b[0m in \u001b[0;36m<cell line: 0>\u001b[0;34m()\u001b[0m\n\u001b[1;32m      8\u001b[0m \u001b[0mobj_1\u001b[0m\u001b[0;34m.\u001b[0m\u001b[0mx\u001b[0m \u001b[0;34m=\u001b[0m \u001b[0;36m100\u001b[0m\u001b[0;34m\u001b[0m\u001b[0;34m\u001b[0m\u001b[0m\n\u001b[1;32m      9\u001b[0m \u001b[0;34m\u001b[0m\u001b[0m\n\u001b[0;32m---> 10\u001b[0;31m \u001b[0mprint\u001b[0m\u001b[0;34m(\u001b[0m\u001b[0mobj_2\u001b[0m\u001b[0;34m.\u001b[0m\u001b[0mx\u001b[0m\u001b[0;34m)\u001b[0m\u001b[0;34m\u001b[0m\u001b[0;34m\u001b[0m\u001b[0m\n\u001b[0m",
            "\u001b[0;31mAttributeError\u001b[0m: 'Bar' object has no attribute 'x'"
          ]
        }
      ]
    },
    {
      "cell_type": "code",
      "source": [
        "class Country:\n",
        "  def __init__(self):\n",
        "    pass\n",
        "\n",
        "  def set_name(self,name):\n",
        "    self.name=name\n",
        "    return name\n",
        "\n",
        "  def set_capital(self,capital):\n",
        "    self.capital=capital\n",
        "    return capital\n",
        "\n",
        "  def display(self):\n",
        "    return f\"{self.capital} is the capital of {self.name}\""
      ],
      "metadata": {
        "id": "8tEWI3gQXEsW"
      },
      "execution_count": null,
      "outputs": []
    },
    {
      "cell_type": "code",
      "source": [
        "obj=Country()\n",
        "\n",
        "\n",
        "a=obj.set_capital(\"Delhi\")\n",
        "print(a)\n",
        "\n",
        "b=obj.set_name(\"India\")\n",
        "print(b)\n",
        "\n",
        "c=obj.display()\n",
        "print(c)\n",
        "# obj.set_name=\"India\"\n",
        "# print(obj.display)"
      ],
      "metadata": {
        "colab": {
          "base_uri": "https://localhost:8080/"
        },
        "id": "nOs_EPtrZE4g",
        "outputId": "181eaec6-b2c9-4fb2-9a81-a66e1b262ee9"
      },
      "execution_count": null,
      "outputs": [
        {
          "output_type": "stream",
          "name": "stdout",
          "text": [
            "Delhi\n",
            "India\n",
            "Delhi is the capital of India\n"
          ]
        }
      ]
    },
    {
      "cell_type": "code",
      "source": [
        "class Calculator:\n",
        "  def __init__(self):\n",
        "    pass\n",
        "\n",
        "  def add(self,a,b):\n",
        "    self.a=a\n",
        "    self.b=b\n",
        "    return (a+b)\n",
        "\n",
        "  def sub(self,a,b):\n",
        "    self.a=a\n",
        "    self.b=b\n",
        "    return (a-b)"
      ],
      "metadata": {
        "id": "IzLjHufZZZgl"
      },
      "execution_count": null,
      "outputs": []
    },
    {
      "cell_type": "code",
      "source": [
        "calc=Calculator()\n",
        "print(calc.add(5,6))\n",
        "print(calc.sub(5,6))"
      ],
      "metadata": {
        "colab": {
          "base_uri": "https://localhost:8080/"
        },
        "id": "XsfKPqavaOS7",
        "outputId": "a932bb29-b38b-4a12-955f-c5ca0c47c220"
      },
      "execution_count": null,
      "outputs": [
        {
          "output_type": "stream",
          "name": "stdout",
          "text": [
            "11\n",
            "-1\n"
          ]
        }
      ]
    },
    {
      "cell_type": "code",
      "source": [
        "import pandas as pd\n",
        "openn=pd.read_csv(\"https://raw.githubusercontent.com/icyrockcom/country-capitals/master/data/country-list.csv\")\n",
        "print(openn)"
      ],
      "metadata": {
        "colab": {
          "base_uri": "https://localhost:8080/"
        },
        "id": "Solk2kZXaVzu",
        "outputId": "1e6ad4db-fcf8-4840-ab35-0a73a5a8b592"
      },
      "execution_count": null,
      "outputs": [
        {
          "output_type": "stream",
          "name": "stdout",
          "text": [
            "                   country              capital            type\n",
            "0                 Abkhazia              Sukhumi  countryCapital\n",
            "1              Afghanistan                Kabul  countryCapital\n",
            "2    Akrotiri and Dhekelia  Episkopi Cantonment  countryCapital\n",
            "3                  Albania               Tirana  countryCapital\n",
            "4                  Algeria              Algiers  countryCapital\n",
            "..                     ...                  ...             ...\n",
            "243      Wallis and Futuna             Mata-Utu  countryCapital\n",
            "244         Western Sahara             El Aaiún  countryCapital\n",
            "245                  Yemen                Sanaá  countryCapital\n",
            "246                 Zambia               Lusaka  countryCapital\n",
            "247               Zimbabwe               Harare  countryCapital\n",
            "\n",
            "[248 rows x 3 columns]\n"
          ]
        }
      ]
    },
    {
      "cell_type": "code",
      "source": [
        "countries=[]\n",
        "f=open(\"C:/Book1.csv\",\"r\")\n",
        "lines=f.readlines()[1:]\n",
        "for i in lines:\n",
        "  name,capital=i.strip().split(\",\")"
      ],
      "metadata": {
        "colab": {
          "base_uri": "https://localhost:8080/",
          "height": 176
        },
        "id": "TPjBMWINb1eN",
        "outputId": "acbb3daa-5eed-45e1-a052-74319ef09bec"
      },
      "execution_count": null,
      "outputs": [
        {
          "output_type": "error",
          "ename": "FileNotFoundError",
          "evalue": "[Errno 2] No such file or directory: 'C:/Book1.csv'",
          "traceback": [
            "\u001b[0;31m---------------------------------------------------------------------------\u001b[0m",
            "\u001b[0;31mFileNotFoundError\u001b[0m                         Traceback (most recent call last)",
            "\u001b[0;32m<ipython-input-45-f4022731af75>\u001b[0m in \u001b[0;36m<cell line: 0>\u001b[0;34m()\u001b[0m\n\u001b[1;32m      1\u001b[0m \u001b[0mcountries\u001b[0m\u001b[0;34m=\u001b[0m\u001b[0;34m[\u001b[0m\u001b[0;34m]\u001b[0m\u001b[0;34m\u001b[0m\u001b[0;34m\u001b[0m\u001b[0m\n\u001b[0;32m----> 2\u001b[0;31m \u001b[0mf\u001b[0m\u001b[0;34m=\u001b[0m\u001b[0mopen\u001b[0m\u001b[0;34m(\u001b[0m\u001b[0;34m\"C:/Book1.csv\"\u001b[0m\u001b[0;34m,\u001b[0m\u001b[0;34m\"r\"\u001b[0m\u001b[0;34m)\u001b[0m\u001b[0;34m\u001b[0m\u001b[0;34m\u001b[0m\u001b[0m\n\u001b[0m\u001b[1;32m      3\u001b[0m \u001b[0mprint\u001b[0m\u001b[0;34m(\u001b[0m\u001b[0mf\u001b[0m\u001b[0;34m)\u001b[0m\u001b[0;34m\u001b[0m\u001b[0;34m\u001b[0m\u001b[0m\n",
            "\u001b[0;31mFileNotFoundError\u001b[0m: [Errno 2] No such file or directory: 'C:/Book1.csv'"
          ]
        }
      ]
    },
    {
      "cell_type": "code",
      "source": [
        "a=('country','title','author')\n",
        "name,country=a.strip().split(',')\n",
        "print(name,country)"
      ],
      "metadata": {
        "colab": {
          "base_uri": "https://localhost:8080/",
          "height": 176
        },
        "id": "3s4FxbFgcxJt",
        "outputId": "229fb9fd-72c5-4bec-d670-ad9cbeafb0c0"
      },
      "execution_count": null,
      "outputs": [
        {
          "output_type": "error",
          "ename": "AttributeError",
          "evalue": "'tuple' object has no attribute 'strip'",
          "traceback": [
            "\u001b[0;31m---------------------------------------------------------------------------\u001b[0m",
            "\u001b[0;31mAttributeError\u001b[0m                            Traceback (most recent call last)",
            "\u001b[0;32m<ipython-input-47-a92c50fd4761>\u001b[0m in \u001b[0;36m<cell line: 0>\u001b[0;34m()\u001b[0m\n\u001b[1;32m      1\u001b[0m \u001b[0ma\u001b[0m\u001b[0;34m=\u001b[0m\u001b[0;34m(\u001b[0m\u001b[0;34m'country'\u001b[0m\u001b[0;34m,\u001b[0m\u001b[0;34m'title'\u001b[0m\u001b[0;34m,\u001b[0m\u001b[0;34m'author'\u001b[0m\u001b[0;34m)\u001b[0m\u001b[0;34m\u001b[0m\u001b[0;34m\u001b[0m\u001b[0m\n\u001b[0;32m----> 2\u001b[0;31m \u001b[0mname\u001b[0m\u001b[0;34m,\u001b[0m\u001b[0mcountry\u001b[0m\u001b[0;34m=\u001b[0m\u001b[0ma\u001b[0m\u001b[0;34m.\u001b[0m\u001b[0mstrip\u001b[0m\u001b[0;34m(\u001b[0m\u001b[0;34m)\u001b[0m\u001b[0;34m.\u001b[0m\u001b[0msplit\u001b[0m\u001b[0;34m(\u001b[0m\u001b[0;34m','\u001b[0m\u001b[0;34m)\u001b[0m\u001b[0;34m\u001b[0m\u001b[0;34m\u001b[0m\u001b[0m\n\u001b[0m\u001b[1;32m      3\u001b[0m \u001b[0mprint\u001b[0m\u001b[0;34m(\u001b[0m\u001b[0mname\u001b[0m\u001b[0;34m,\u001b[0m\u001b[0mcountry\u001b[0m\u001b[0;34m)\u001b[0m\u001b[0;34m\u001b[0m\u001b[0;34m\u001b[0m\u001b[0m\n",
            "\u001b[0;31mAttributeError\u001b[0m: 'tuple' object has no attribute 'strip'"
          ]
        }
      ]
    },
    {
      "cell_type": "code",
      "source": [
        "class Book:\n",
        "  def __init__(self,name,author,pages,genre):\n",
        "    self.name=name\n",
        "    self.author=author\n",
        "    self.pages=pages\n",
        "    self.genre=genre\n",
        "\n",
        "  def is_fiction(self):\n",
        "    if self.genre == 'Fiction':\n",
        "      return True\n",
        "    else:\n",
        "      return False\n",
        "\n",
        "  def is_nonFiction(self):\n",
        "    if self.genre != 'Fiction':\n",
        "      return True\n",
        "    else:\n",
        "      return False\n",
        "\n",
        "  def time_to_read(self):\n",
        "    if self.pages <100:\n",
        "      return \"5 days\"\n",
        "    elif self.pages >=100 and self.pages<500:\n",
        "      return \"20 Days\"\n",
        "    else:\n",
        "      return \"Infinite\"\n",
        "\n",
        "  def same_author(self,book):\n",
        "    if self.author==book.author:\n",
        "      return True\n",
        "    else:\n",
        "      return False\n",
        "\n",
        "\n",
        "book1 = Book(\"Igniting Minds\", \"Kalam\", 178, \"Nonfiction\")\n",
        "book2 = Book(\"Wings of Fire\", \"Kalam\", 180, \"Nonfiction\")\n",
        "book3 = Book(\"Harry Potter-1\", \"Rowling\", 309, \"Fiction\")\n",
        "book4 = Book(\"Harry Potter-2\", \"Rowling\", 341, \"Fiction\")\n",
        "\n",
        "print(book3.time_to_read())"
      ],
      "metadata": {
        "colab": {
          "base_uri": "https://localhost:8080/"
        },
        "id": "1wyqFgEJfo62",
        "outputId": "1ffe0a78-42e3-42f1-86e7-4face53bbe61"
      },
      "execution_count": null,
      "outputs": [
        {
          "output_type": "stream",
          "name": "stdout",
          "text": [
            "20 Days\n"
          ]
        }
      ]
    },
    {
      "cell_type": "code",
      "source": [
        "class Shape:\n",
        "    def __init__(self):\n",
        "        self.name = None\n",
        "        self.area = None\n",
        "\n",
        "    def display(self):\n",
        "        print(f'{self.name} has an area of {self.area}')\n",
        "\n",
        "    def get_area(self):\n",
        "        return self.area\n",
        "\n",
        "    def is_larger(self, shape):\n",
        "        return self.area > shape.area\n",
        "\n",
        "class Triangle(Shape):\n",
        "    def __init__(self,side):\n",
        "      super().__init__()\n",
        "      self.name=\"Triangle\"\n",
        "      self.side=side\n",
        "\n",
        "    def get_area(self):\n",
        "      self.area= round((3**0.5)*(self.side**2)/4,2)\n",
        "      return self.area\n",
        "\n",
        "\n",
        "\n"
      ],
      "metadata": {
        "id": "xDy7n0P2l8Sz"
      },
      "execution_count": null,
      "outputs": []
    },
    {
      "cell_type": "code",
      "source": [
        "round((3**0.5) * (variable **2)/4,2)"
      ],
      "metadata": {
        "colab": {
          "base_uri": "https://localhost:8080/"
        },
        "id": "GFKTTmHZCbP3",
        "outputId": "b91deb50-f14d-4e74-c1bf-73c6a9f1707f"
      },
      "execution_count": null,
      "outputs": [
        {
          "output_type": "execute_result",
          "data": {
            "text/plain": [
              "1"
            ]
          },
          "metadata": {},
          "execution_count": 58
        }
      ]
    },
    {
      "cell_type": "code",
      "source": [
        "# import pandas as pd\n",
        "# data=pd.read_csv('C:/Book1.csv')\n",
        "# data['country']"
      ],
      "metadata": {
        "colab": {
          "base_uri": "https://localhost:8080/",
          "height": 321
        },
        "id": "Yd5nk0FtCcOk",
        "outputId": "ae9adc42-919c-48f2-e777-810b157c33d6"
      },
      "execution_count": null,
      "outputs": [
        {
          "output_type": "error",
          "ename": "FileNotFoundError",
          "evalue": "[Errno 2] No such file or directory: 'C:/Book1.csv'",
          "traceback": [
            "\u001b[0;31m---------------------------------------------------------------------------\u001b[0m",
            "\u001b[0;31mFileNotFoundError\u001b[0m                         Traceback (most recent call last)",
            "\u001b[0;32m<ipython-input-59-502428a4cb45>\u001b[0m in \u001b[0;36m<cell line: 0>\u001b[0;34m()\u001b[0m\n\u001b[1;32m      1\u001b[0m \u001b[0;32mimport\u001b[0m \u001b[0mpandas\u001b[0m \u001b[0;32mas\u001b[0m \u001b[0mpd\u001b[0m\u001b[0;34m\u001b[0m\u001b[0;34m\u001b[0m\u001b[0m\n\u001b[0;32m----> 2\u001b[0;31m \u001b[0mdata\u001b[0m\u001b[0;34m=\u001b[0m\u001b[0mpd\u001b[0m\u001b[0;34m.\u001b[0m\u001b[0mread_csv\u001b[0m\u001b[0;34m(\u001b[0m\u001b[0;34m'C:/Book1.csv'\u001b[0m\u001b[0;34m)\u001b[0m\u001b[0;34m\u001b[0m\u001b[0;34m\u001b[0m\u001b[0m\n\u001b[0m\u001b[1;32m      3\u001b[0m \u001b[0mdata\u001b[0m\u001b[0;34m[\u001b[0m\u001b[0;34m'country'\u001b[0m\u001b[0;34m]\u001b[0m\u001b[0;34m\u001b[0m\u001b[0;34m\u001b[0m\u001b[0m\n",
            "\u001b[0;32m/usr/local/lib/python3.11/dist-packages/pandas/io/parsers/readers.py\u001b[0m in \u001b[0;36mread_csv\u001b[0;34m(filepath_or_buffer, sep, delimiter, header, names, index_col, usecols, dtype, engine, converters, true_values, false_values, skipinitialspace, skiprows, skipfooter, nrows, na_values, keep_default_na, na_filter, verbose, skip_blank_lines, parse_dates, infer_datetime_format, keep_date_col, date_parser, date_format, dayfirst, cache_dates, iterator, chunksize, compression, thousands, decimal, lineterminator, quotechar, quoting, doublequote, escapechar, comment, encoding, encoding_errors, dialect, on_bad_lines, delim_whitespace, low_memory, memory_map, float_precision, storage_options, dtype_backend)\u001b[0m\n\u001b[1;32m   1024\u001b[0m     \u001b[0mkwds\u001b[0m\u001b[0;34m.\u001b[0m\u001b[0mupdate\u001b[0m\u001b[0;34m(\u001b[0m\u001b[0mkwds_defaults\u001b[0m\u001b[0;34m)\u001b[0m\u001b[0;34m\u001b[0m\u001b[0;34m\u001b[0m\u001b[0m\n\u001b[1;32m   1025\u001b[0m \u001b[0;34m\u001b[0m\u001b[0m\n\u001b[0;32m-> 1026\u001b[0;31m     \u001b[0;32mreturn\u001b[0m \u001b[0m_read\u001b[0m\u001b[0;34m(\u001b[0m\u001b[0mfilepath_or_buffer\u001b[0m\u001b[0;34m,\u001b[0m \u001b[0mkwds\u001b[0m\u001b[0;34m)\u001b[0m\u001b[0;34m\u001b[0m\u001b[0;34m\u001b[0m\u001b[0m\n\u001b[0m\u001b[1;32m   1027\u001b[0m \u001b[0;34m\u001b[0m\u001b[0m\n\u001b[1;32m   1028\u001b[0m \u001b[0;34m\u001b[0m\u001b[0m\n",
            "\u001b[0;32m/usr/local/lib/python3.11/dist-packages/pandas/io/parsers/readers.py\u001b[0m in \u001b[0;36m_read\u001b[0;34m(filepath_or_buffer, kwds)\u001b[0m\n\u001b[1;32m    618\u001b[0m \u001b[0;34m\u001b[0m\u001b[0m\n\u001b[1;32m    619\u001b[0m     \u001b[0;31m# Create the parser.\u001b[0m\u001b[0;34m\u001b[0m\u001b[0;34m\u001b[0m\u001b[0m\n\u001b[0;32m--> 620\u001b[0;31m     \u001b[0mparser\u001b[0m \u001b[0;34m=\u001b[0m \u001b[0mTextFileReader\u001b[0m\u001b[0;34m(\u001b[0m\u001b[0mfilepath_or_buffer\u001b[0m\u001b[0;34m,\u001b[0m \u001b[0;34m**\u001b[0m\u001b[0mkwds\u001b[0m\u001b[0;34m)\u001b[0m\u001b[0;34m\u001b[0m\u001b[0;34m\u001b[0m\u001b[0m\n\u001b[0m\u001b[1;32m    621\u001b[0m \u001b[0;34m\u001b[0m\u001b[0m\n\u001b[1;32m    622\u001b[0m     \u001b[0;32mif\u001b[0m \u001b[0mchunksize\u001b[0m \u001b[0;32mor\u001b[0m \u001b[0miterator\u001b[0m\u001b[0;34m:\u001b[0m\u001b[0;34m\u001b[0m\u001b[0;34m\u001b[0m\u001b[0m\n",
            "\u001b[0;32m/usr/local/lib/python3.11/dist-packages/pandas/io/parsers/readers.py\u001b[0m in \u001b[0;36m__init__\u001b[0;34m(self, f, engine, **kwds)\u001b[0m\n\u001b[1;32m   1618\u001b[0m \u001b[0;34m\u001b[0m\u001b[0m\n\u001b[1;32m   1619\u001b[0m         \u001b[0mself\u001b[0m\u001b[0;34m.\u001b[0m\u001b[0mhandles\u001b[0m\u001b[0;34m:\u001b[0m \u001b[0mIOHandles\u001b[0m \u001b[0;34m|\u001b[0m \u001b[0;32mNone\u001b[0m \u001b[0;34m=\u001b[0m \u001b[0;32mNone\u001b[0m\u001b[0;34m\u001b[0m\u001b[0;34m\u001b[0m\u001b[0m\n\u001b[0;32m-> 1620\u001b[0;31m         \u001b[0mself\u001b[0m\u001b[0;34m.\u001b[0m\u001b[0m_engine\u001b[0m \u001b[0;34m=\u001b[0m \u001b[0mself\u001b[0m\u001b[0;34m.\u001b[0m\u001b[0m_make_engine\u001b[0m\u001b[0;34m(\u001b[0m\u001b[0mf\u001b[0m\u001b[0;34m,\u001b[0m \u001b[0mself\u001b[0m\u001b[0;34m.\u001b[0m\u001b[0mengine\u001b[0m\u001b[0;34m)\u001b[0m\u001b[0;34m\u001b[0m\u001b[0;34m\u001b[0m\u001b[0m\n\u001b[0m\u001b[1;32m   1621\u001b[0m \u001b[0;34m\u001b[0m\u001b[0m\n\u001b[1;32m   1622\u001b[0m     \u001b[0;32mdef\u001b[0m \u001b[0mclose\u001b[0m\u001b[0;34m(\u001b[0m\u001b[0mself\u001b[0m\u001b[0;34m)\u001b[0m \u001b[0;34m->\u001b[0m \u001b[0;32mNone\u001b[0m\u001b[0;34m:\u001b[0m\u001b[0;34m\u001b[0m\u001b[0;34m\u001b[0m\u001b[0m\n",
            "\u001b[0;32m/usr/local/lib/python3.11/dist-packages/pandas/io/parsers/readers.py\u001b[0m in \u001b[0;36m_make_engine\u001b[0;34m(self, f, engine)\u001b[0m\n\u001b[1;32m   1878\u001b[0m                 \u001b[0;32mif\u001b[0m \u001b[0;34m\"b\"\u001b[0m \u001b[0;32mnot\u001b[0m \u001b[0;32min\u001b[0m \u001b[0mmode\u001b[0m\u001b[0;34m:\u001b[0m\u001b[0;34m\u001b[0m\u001b[0;34m\u001b[0m\u001b[0m\n\u001b[1;32m   1879\u001b[0m                     \u001b[0mmode\u001b[0m \u001b[0;34m+=\u001b[0m \u001b[0;34m\"b\"\u001b[0m\u001b[0;34m\u001b[0m\u001b[0;34m\u001b[0m\u001b[0m\n\u001b[0;32m-> 1880\u001b[0;31m             self.handles = get_handle(\n\u001b[0m\u001b[1;32m   1881\u001b[0m                 \u001b[0mf\u001b[0m\u001b[0;34m,\u001b[0m\u001b[0;34m\u001b[0m\u001b[0;34m\u001b[0m\u001b[0m\n\u001b[1;32m   1882\u001b[0m                 \u001b[0mmode\u001b[0m\u001b[0;34m,\u001b[0m\u001b[0;34m\u001b[0m\u001b[0;34m\u001b[0m\u001b[0m\n",
            "\u001b[0;32m/usr/local/lib/python3.11/dist-packages/pandas/io/common.py\u001b[0m in \u001b[0;36mget_handle\u001b[0;34m(path_or_buf, mode, encoding, compression, memory_map, is_text, errors, storage_options)\u001b[0m\n\u001b[1;32m    871\u001b[0m         \u001b[0;32mif\u001b[0m \u001b[0mioargs\u001b[0m\u001b[0;34m.\u001b[0m\u001b[0mencoding\u001b[0m \u001b[0;32mand\u001b[0m \u001b[0;34m\"b\"\u001b[0m \u001b[0;32mnot\u001b[0m \u001b[0;32min\u001b[0m \u001b[0mioargs\u001b[0m\u001b[0;34m.\u001b[0m\u001b[0mmode\u001b[0m\u001b[0;34m:\u001b[0m\u001b[0;34m\u001b[0m\u001b[0;34m\u001b[0m\u001b[0m\n\u001b[1;32m    872\u001b[0m             \u001b[0;31m# Encoding\u001b[0m\u001b[0;34m\u001b[0m\u001b[0;34m\u001b[0m\u001b[0m\n\u001b[0;32m--> 873\u001b[0;31m             handle = open(\n\u001b[0m\u001b[1;32m    874\u001b[0m                 \u001b[0mhandle\u001b[0m\u001b[0;34m,\u001b[0m\u001b[0;34m\u001b[0m\u001b[0;34m\u001b[0m\u001b[0m\n\u001b[1;32m    875\u001b[0m                 \u001b[0mioargs\u001b[0m\u001b[0;34m.\u001b[0m\u001b[0mmode\u001b[0m\u001b[0;34m,\u001b[0m\u001b[0;34m\u001b[0m\u001b[0;34m\u001b[0m\u001b[0m\n",
            "\u001b[0;31mFileNotFoundError\u001b[0m: [Errno 2] No such file or directory: 'C:/Book1.csv'"
          ]
        }
      ]
    },
    {
      "cell_type": "code",
      "source": [],
      "metadata": {
        "id": "Mbx6P9PXFLT9"
      },
      "execution_count": null,
      "outputs": []
    }
  ]
}