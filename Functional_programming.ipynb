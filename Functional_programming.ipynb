{
  "nbformat": 4,
  "nbformat_minor": 0,
  "metadata": {
    "colab": {
      "provenance": [],
      "authorship_tag": "ABX9TyOIlRFX07mXVvEbe9VO5+6R",
      "include_colab_link": true
    },
    "kernelspec": {
      "name": "python3",
      "display_name": "Python 3"
    },
    "language_info": {
      "name": "python"
    }
  },
  "cells": [
    {
      "cell_type": "markdown",
      "metadata": {
        "id": "view-in-github",
        "colab_type": "text"
      },
      "source": [
        "<a href=\"https://colab.research.google.com/github/SPraveeen/python_google_colab_study/blob/main/Functional_programming.ipynb\" target=\"_parent\"><img src=\"https://colab.research.google.com/assets/colab-badge.svg\" alt=\"Open In Colab\"/></a>"
      ]
    },
    {
      "cell_type": "markdown",
      "source": [
        "**Agenda**\n",
        "1.   `Functional Programming`\n",
        "2.   `Lambda Function`\n",
        "3.   `Exmples`\n",
        "4.   `Higher order functions`\n",
        "5.   `Decorators`\n",
        "\n"
      ],
      "metadata": {
        "id": "p0dy0coSLAV_"
      }
    },
    {
      "cell_type": "code",
      "source": [
        "#lambda function\n",
        "#check whether number is positive or not\n",
        "def check_number(a):\n",
        "  if (a>=0):\n",
        "    return 'Positive number'\n",
        "  else :\n",
        "    return 'Negative Number'"
      ],
      "metadata": {
        "id": "8cv0yYDTLXiK"
      },
      "execution_count": null,
      "outputs": []
    },
    {
      "cell_type": "code",
      "source": [
        "print(check_number(-5))"
      ],
      "metadata": {
        "colab": {
          "base_uri": "https://localhost:8080/"
        },
        "id": "9gDHsPPhONbv",
        "outputId": "fcaa7267-aa73-481d-8fa3-160fc74121c6"
      },
      "execution_count": null,
      "outputs": [
        {
          "output_type": "stream",
          "name": "stdout",
          "text": [
            "Negative Number\n"
          ]
        }
      ]
    },
    {
      "cell_type": "code",
      "source": [
        "def func(n):\n",
        "  return True if n>=0 else False"
      ],
      "metadata": {
        "id": "RmdZf7o6OQia"
      },
      "execution_count": null,
      "outputs": []
    },
    {
      "cell_type": "code",
      "source": [
        "func(-100)"
      ],
      "metadata": {
        "colab": {
          "base_uri": "https://localhost:8080/"
        },
        "id": "s78ZZVTGOw3q",
        "outputId": "96a2c2f2-d5bb-4234-86dd-1215f9f2aed2"
      },
      "execution_count": null,
      "outputs": [
        {
          "output_type": "execute_result",
          "data": {
            "text/plain": [
              "False"
            ]
          },
          "metadata": {},
          "execution_count": 6
        }
      ]
    },
    {
      "cell_type": "code",
      "source": [
        "#syntax -> for lambda function ( lambda i/p : o/p) --> lambda -> anonyms function\n",
        "find_square=lambda s : s**2\n",
        "find_square(5)"
      ],
      "metadata": {
        "colab": {
          "base_uri": "https://localhost:8080/"
        },
        "id": "TMDQdJjuOyKa",
        "outputId": "9315ac95-d52b-4b29-f297-5a3ffb9c092e"
      },
      "execution_count": null,
      "outputs": [
        {
          "output_type": "execute_result",
          "data": {
            "text/plain": [
              "25"
            ]
          },
          "metadata": {},
          "execution_count": 7
        }
      ]
    },
    {
      "cell_type": "code",
      "source": [
        "(lambda x : x**2)(10)"
      ],
      "metadata": {
        "colab": {
          "base_uri": "https://localhost:8080/"
        },
        "id": "hFa7krtsRCRL",
        "outputId": "51381d54-8028-474d-d85f-6370eb1f16ad"
      },
      "execution_count": null,
      "outputs": [
        {
          "output_type": "execute_result",
          "data": {
            "text/plain": [
              "100"
            ]
          },
          "metadata": {},
          "execution_count": 8
        }
      ]
    },
    {
      "cell_type": "code",
      "source": [
        "#l.sort update values\n",
        "l=[1,3,4,5,2]\n",
        "l.sort()"
      ],
      "metadata": {
        "id": "7aFf8LJfReJp"
      },
      "execution_count": null,
      "outputs": []
    },
    {
      "cell_type": "code",
      "source": [
        "l"
      ],
      "metadata": {
        "colab": {
          "base_uri": "https://localhost:8080/"
        },
        "id": "4TxzVfs5TB6b",
        "outputId": "77649ee4-5807-4cf9-a049-e6df4cff345f"
      },
      "execution_count": null,
      "outputs": [
        {
          "output_type": "execute_result",
          "data": {
            "text/plain": [
              "[1, 2, 3, 4, 5]"
            ]
          },
          "metadata": {},
          "execution_count": 10
        }
      ]
    },
    {
      "cell_type": "code",
      "source": [
        "#sorted doesn't store automataically we ned to assign it to a variable\n",
        "x=[1,4,3,2,5]\n",
        "sorted(x)\n",
        "x"
      ],
      "metadata": {
        "colab": {
          "base_uri": "https://localhost:8080/"
        },
        "id": "T8vcTmhfTC-o",
        "outputId": "bff04cb4-5adb-49b5-aee1-955bcc383f37"
      },
      "execution_count": null,
      "outputs": [
        {
          "output_type": "execute_result",
          "data": {
            "text/plain": [
              "[1, 4, 3, 2, 5]"
            ]
          },
          "metadata": {},
          "execution_count": 11
        }
      ]
    },
    {
      "cell_type": "code",
      "source": [
        "x=[1,4,3,2,5]\n",
        "a=sorted(x)\n",
        "a"
      ],
      "metadata": {
        "colab": {
          "base_uri": "https://localhost:8080/"
        },
        "id": "D-gXWeTFVVm6",
        "outputId": "b0fe1055-33ed-4b60-a99a-9a050b1532e2"
      },
      "execution_count": null,
      "outputs": [
        {
          "output_type": "execute_result",
          "data": {
            "text/plain": [
              "[1, 2, 3, 4, 5]"
            ]
          },
          "metadata": {},
          "execution_count": 12
        }
      ]
    },
    {
      "cell_type": "markdown",
      "source": [
        "\n",
        "\n"
      ],
      "metadata": {
        "id": "d3PLk-S7ViiO"
      }
    },
    {
      "cell_type": "markdown",
      "source": [
        "![image.png](data:image/png;base64,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)\n",
        "\n",
        "coordinates :[(1,-1),(-1,2),(3,5)]\n",
        "sorted (coordinates)\n"
      ],
      "metadata": {
        "id": "AmKWRowsVjxy"
      }
    },
    {
      "cell_type": "code",
      "source": [
        "coordinates =[(1,-1),(-1,2),(3,5),(5,3),(7,7),(2,1)]\n",
        "x=sorted(coordinates)\n",
        "print(x)"
      ],
      "metadata": {
        "colab": {
          "base_uri": "https://localhost:8080/"
        },
        "id": "Vyfh4THfWd24",
        "outputId": "5eb425cc-a268-47df-bc34-06994a14fb7a"
      },
      "execution_count": null,
      "outputs": [
        {
          "output_type": "stream",
          "name": "stdout",
          "text": [
            "[(-1, 2), (1, -1), (2, 1), (3, 5), (5, 3), (7, 7)]\n"
          ]
        }
      ]
    },
    {
      "cell_type": "code",
      "source": [
        "#it sorted based on histogram\n",
        "#sorted on x order #need to sort on y\n",
        "help(sorted)"
      ],
      "metadata": {
        "colab": {
          "base_uri": "https://localhost:8080/"
        },
        "id": "sNjexxMjW1BI",
        "outputId": "b02c7e72-688a-4d27-84bc-c7e5b9fd2f0e"
      },
      "execution_count": null,
      "outputs": [
        {
          "output_type": "stream",
          "name": "stdout",
          "text": [
            "Help on built-in function sorted in module builtins:\n",
            "\n",
            "sorted(iterable, /, *, key=None, reverse=False)\n",
            "    Return a new list containing all items from the iterable in ascending order.\n",
            "    \n",
            "    A custom key function can be supplied to customize the sort order, and the\n",
            "    reverse flag can be set to request the result in descending order.\n",
            "\n"
          ]
        }
      ]
    },
    {
      "cell_type": "code",
      "source": [
        "#sorted based on y\n",
        "coordinates =[(1,-1),(-1,2),(3,5),(5,3),(7,7),(2,1)]\n",
        "\n",
        "def get_y(tup):\n",
        "  return tup[1]\n",
        "\n",
        "sorted(coordinates,key=get_y)"
      ],
      "metadata": {
        "colab": {
          "base_uri": "https://localhost:8080/"
        },
        "id": "6M_ukN8XXa03",
        "outputId": "34e6f942-cf89-4802-af7f-eb4a183d756d"
      },
      "execution_count": null,
      "outputs": [
        {
          "output_type": "execute_result",
          "data": {
            "text/plain": [
              "[(1, -1), (2, 1), (-1, 2), (5, 3), (3, 5), (7, 7)]"
            ]
          },
          "metadata": {},
          "execution_count": 15
        }
      ]
    },
    {
      "cell_type": "code",
      "source": [
        "#in lambda function\n",
        "#lambda tup :tup[1]\n",
        "coordinates =[(1,-1),(-1,2),(3,5),(5,3),(7,7),(2,1)]\n",
        "sorted(coordinates,key=lambda tup:tup[1])"
      ],
      "metadata": {
        "colab": {
          "base_uri": "https://localhost:8080/"
        },
        "id": "51eA9xWKZdWY",
        "outputId": "1716bd84-acb7-44eb-92eb-bfd2a0495adc"
      },
      "execution_count": null,
      "outputs": [
        {
          "output_type": "execute_result",
          "data": {
            "text/plain": [
              "[(1, -1), (2, 1), (-1, 2), (5, 3), (3, 5), (7, 7)]"
            ]
          },
          "metadata": {},
          "execution_count": 17
        }
      ]
    },
    {
      "cell_type": "code",
      "source": [
        "student=[{'name':'A','marks':50},\n",
        "         {'name':'B','marks':45},\n",
        "         {'name':'C','marks':56},\n",
        "         {'name':'D','marks':25}]\n",
        "\n",
        "\n",
        "sorted(student,key=lambda dict:dict['marks'], reverse=False)"
      ],
      "metadata": {
        "colab": {
          "base_uri": "https://localhost:8080/"
        },
        "id": "oUpvzBuhZx4W",
        "outputId": "6b4e787c-8081-41a1-f09f-578a951dd2d2"
      },
      "execution_count": null,
      "outputs": [
        {
          "output_type": "execute_result",
          "data": {
            "text/plain": [
              "[{'name': 'D', 'marks': 25},\n",
              " {'name': 'B', 'marks': 45},\n",
              " {'name': 'A', 'marks': 50},\n",
              " {'name': 'C', 'marks': 56}]"
            ]
          },
          "metadata": {},
          "execution_count": 23
        }
      ]
    },
    {
      "cell_type": "code",
      "source": [
        "sorted(student,key=lambda dic:dic['marks'], reverse=True)"
      ],
      "metadata": {
        "colab": {
          "base_uri": "https://localhost:8080/"
        },
        "id": "clJONh_qcGkn",
        "outputId": "64ac956a-ff6c-45e0-b41e-8602c15d13ec"
      },
      "execution_count": null,
      "outputs": [
        {
          "output_type": "execute_result",
          "data": {
            "text/plain": [
              "[{'name': 'C', 'marks': 56},\n",
              " {'name': 'A', 'marks': 50},\n",
              " {'name': 'B', 'marks': 45},\n",
              " {'name': 'D', 'marks': 25}]"
            ]
          },
          "metadata": {},
          "execution_count": 24
        }
      ]
    },
    {
      "cell_type": "code",
      "source": [
        "#higher order function\n",
        "#function which returns another funtion\n",
        "def gen_exp(n):\n",
        "  def exp(x):\n",
        "    return x**n\n",
        "  return exp\n",
        "exp_5=gen_exp(5)\n",
        "exp_5(2)"
      ],
      "metadata": {
        "id": "yeAFQRhtcI71",
        "colab": {
          "base_uri": "https://localhost:8080/"
        },
        "outputId": "5aeda655-dbd2-4ac7-894d-09215588ed7f"
      },
      "execution_count": null,
      "outputs": [
        {
          "output_type": "execute_result",
          "data": {
            "text/plain": [
              "32"
            ]
          },
          "metadata": {},
          "execution_count": 1
        }
      ]
    },
    {
      "cell_type": "code",
      "source": [
        "coordinates =[(1,-1),(-1,2),(3,5),(5,3),(7,7),(2,1)]\n",
        "a=sorted(coordinates)"
      ],
      "metadata": {
        "id": "iBPIq9IW6QUI"
      },
      "execution_count": null,
      "outputs": []
    },
    {
      "cell_type": "code",
      "source": [
        "a"
      ],
      "metadata": {
        "colab": {
          "base_uri": "https://localhost:8080/"
        },
        "id": "11wr-NOzNV-A",
        "outputId": "eda16905-ac98-4760-9983-de577dc28071"
      },
      "execution_count": null,
      "outputs": [
        {
          "output_type": "execute_result",
          "data": {
            "text/plain": [
              "[(-1, 2), (1, -1), (2, 1), (3, 5), (5, 3), (7, 7)]"
            ]
          },
          "metadata": {},
          "execution_count": 2
        }
      ]
    },
    {
      "cell_type": "code",
      "source": [
        "#sort by y\n",
        "def get_y(tup):\n",
        "  return tup[1]\n",
        "\n",
        "get_y((1,-1))"
      ],
      "metadata": {
        "colab": {
          "base_uri": "https://localhost:8080/"
        },
        "id": "7gLgNrc4NkjB",
        "outputId": "1c9ca998-b4ac-4a5f-f597-d027d757cf50"
      },
      "execution_count": null,
      "outputs": [
        {
          "output_type": "execute_result",
          "data": {
            "text/plain": [
              "-1"
            ]
          },
          "metadata": {},
          "execution_count": 7
        }
      ]
    },
    {
      "cell_type": "code",
      "source": [
        "def get_y(tup):\n",
        "  return tup[1]\n",
        "\n",
        "sorted(coordinates,key=get_y)"
      ],
      "metadata": {
        "colab": {
          "base_uri": "https://localhost:8080/"
        },
        "id": "4Wy182TCN2G_",
        "outputId": "ea4a4d19-cb33-4496-f2f0-6d724901dfc6"
      },
      "execution_count": null,
      "outputs": [
        {
          "output_type": "execute_result",
          "data": {
            "text/plain": [
              "[(1, -1), (2, 1), (-1, 2), (5, 3), (3, 5), (7, 7)]"
            ]
          },
          "metadata": {},
          "execution_count": 8
        }
      ]
    },
    {
      "cell_type": "code",
      "source": [
        "sorted(coordinates,key=lambda tup:tup[1])"
      ],
      "metadata": {
        "colab": {
          "base_uri": "https://localhost:8080/"
        },
        "id": "v7Mom4QWPVq9",
        "outputId": "208a1078-02bb-4bce-b276-3df614d2a753"
      },
      "execution_count": null,
      "outputs": [
        {
          "output_type": "execute_result",
          "data": {
            "text/plain": [
              "[(1, -1), (2, 1), (-1, 2), (5, 3), (3, 5), (7, 7)]"
            ]
          },
          "metadata": {},
          "execution_count": 9
        }
      ]
    },
    {
      "cell_type": "code",
      "source": [
        "student=[{'name':'A','marks':50},\n",
        "         {'name':'B','marks':45},\n",
        "         {'name':'C','marks':56},\n",
        "         {'name':'D','marks':25}]"
      ],
      "metadata": {
        "id": "S1HBfrYCQdet"
      },
      "execution_count": null,
      "outputs": []
    },
    {
      "cell_type": "code",
      "source": [
        "sorted(student,key=lambda d: d.get('marks'),reverse=True)"
      ],
      "metadata": {
        "colab": {
          "base_uri": "https://localhost:8080/"
        },
        "id": "bBBr-Dw0RHlt",
        "outputId": "8f6bdd47-a5b5-4e56-f35d-4e537cca712a"
      },
      "execution_count": null,
      "outputs": [
        {
          "output_type": "execute_result",
          "data": {
            "text/plain": [
              "[{'name': 'C', 'marks': 56},\n",
              " {'name': 'A', 'marks': 50},\n",
              " {'name': 'B', 'marks': 45},\n",
              " {'name': 'D', 'marks': 25}]"
            ]
          },
          "metadata": {},
          "execution_count": 13
        }
      ]
    },
    {
      "cell_type": "code",
      "source": [
        "def get_marks(d):\n",
        "  return d['marks']\n",
        "\n",
        "sorted(student,key=get_marks,reverse=True)"
      ],
      "metadata": {
        "id": "sDrt9hYNROv6",
        "colab": {
          "base_uri": "https://localhost:8080/"
        },
        "outputId": "97425389-3a0a-41be-f73a-a9b929e8ac04"
      },
      "execution_count": null,
      "outputs": [
        {
          "output_type": "execute_result",
          "data": {
            "text/plain": [
              "[{'name': 'C', 'marks': 56},\n",
              " {'name': 'A', 'marks': 50},\n",
              " {'name': 'B', 'marks': 45},\n",
              " {'name': 'D', 'marks': 25}]"
            ]
          },
          "metadata": {},
          "execution_count": 15
        }
      ]
    },
    {
      "cell_type": "code",
      "source": [
        "def create_beautify(func):\n",
        "  def line_building():\n",
        "    print('-'* 50)\n",
        "    func()\n",
        "    print('-'*50)\n",
        "    return func"
      ],
      "metadata": {
        "id": "Mg1xEalnZ8Yd"
      },
      "execution_count": null,
      "outputs": []
    },
    {
      "cell_type": "code",
      "source": [
        "bff=create_beautify('Hello')"
      ],
      "metadata": {
        "id": "f_Dt3Yviqmdg"
      },
      "execution_count": null,
      "outputs": []
    },
    {
      "cell_type": "code",
      "source": [
        "bff()"
      ],
      "metadata": {
        "colab": {
          "base_uri": "https://localhost:8080/",
          "height": 141
        },
        "id": "YilkGiK9qrFs",
        "outputId": "52769927-0a91-48b2-8749-a44d30da0c36"
      },
      "execution_count": null,
      "outputs": [
        {
          "output_type": "error",
          "ename": "TypeError",
          "evalue": "'NoneType' object is not callable",
          "traceback": [
            "\u001b[0;31m---------------------------------------------------------------------------\u001b[0m",
            "\u001b[0;31mTypeError\u001b[0m                                 Traceback (most recent call last)",
            "\u001b[0;32m<ipython-input-29-6a524d31a57b>\u001b[0m in \u001b[0;36m<cell line: 0>\u001b[0;34m()\u001b[0m\n\u001b[0;32m----> 1\u001b[0;31m \u001b[0mbff\u001b[0m\u001b[0;34m(\u001b[0m\u001b[0;34m)\u001b[0m\u001b[0;34m\u001b[0m\u001b[0;34m\u001b[0m\u001b[0m\n\u001b[0m",
            "\u001b[0;31mTypeError\u001b[0m: 'NoneType' object is not callable"
          ]
        }
      ]
    },
    {
      "cell_type": "markdown",
      "source": [
        "**MAP**\n",
        "\n",
        "---\n",
        "\n",
        "\n",
        "**FILTER**\n",
        "\n",
        "\n",
        "---\n",
        "\n",
        "\n",
        "**REDUCE**\n",
        "\n",
        "---\n",
        "\n",
        "\n",
        "**ZIP**\n",
        "\n",
        "---\n",
        "\n",
        "\n",
        "**ARGS and KWARGS**"
      ],
      "metadata": {
        "id": "9RiwhcFFJRab"
      }
    },
    {
      "cell_type": "code",
      "source": [
        "# /what is functional programming\n",
        "# State of data is unchanged\n",
        "x=5\n",
        "\n",
        "x=3*x #15\n",
        "x+=1 ##16\n",
        "\n",
        "print(x) #here original value of x changed"
      ],
      "metadata": {
        "id": "BM9pBGloqufc",
        "colab": {
          "base_uri": "https://localhost:8080/"
        },
        "outputId": "74708425-bd03-4165-e947-54020903a34f"
      },
      "execution_count": null,
      "outputs": [
        {
          "output_type": "stream",
          "name": "stdout",
          "text": [
            "16\n"
          ]
        }
      ]
    },
    {
      "cell_type": "code",
      "source": [
        "# not to change base / mutation(overwriting) should not happen\n",
        "x=5\n",
        "\n",
        "y=3*x\n",
        "z=y+1\n",
        "\n",
        "print(z)\n",
        "# drawbacks-> storing too much variable, wstage of menmoreis"
      ],
      "metadata": {
        "colab": {
          "base_uri": "https://localhost:8080/"
        },
        "id": "ydWJFq1pJ-j5",
        "outputId": "cf86f7d8-9e84-46ce-891e-17ae45ddba1b"
      },
      "execution_count": null,
      "outputs": [
        {
          "output_type": "stream",
          "name": "stdout",
          "text": [
            "16\n"
          ]
        }
      ]
    },
    {
      "cell_type": "code",
      "source": [
        "# best way\n",
        "x=5\n",
        "\n",
        "def mutation_1(numberr):\n",
        "  numberr = numberr *2\n",
        "  numberr += 1\n",
        "\n",
        "  return numberr\n",
        "\n",
        "y=mutation_1(x)\n",
        "print(y)\n",
        "print(x)\n",
        "# here original value is not chnaged and also only one extra variable there so no extra memmory issue"
      ],
      "metadata": {
        "colab": {
          "base_uri": "https://localhost:8080/"
        },
        "id": "bLO82H9DKiEJ",
        "outputId": "13b6f17c-38d8-46f9-f71e-183c0ff87cb8"
      },
      "execution_count": null,
      "outputs": [
        {
          "output_type": "stream",
          "name": "stdout",
          "text": [
            "11\n",
            "5\n"
          ]
        }
      ]
    },
    {
      "cell_type": "code",
      "source": [
        "# map function -> used to perfom function on every element of an iterable\n",
        "# syntax -> map(function, *iterable)\n",
        "b=[1,2,3,4,5]\n",
        "# operation : square each element of list and generate new list\n",
        "a=[]\n",
        "for i in b:\n",
        "  a.append(i**2)\n",
        "\n",
        "print(a)"
      ],
      "metadata": {
        "id": "jjSsjMPRMEY_",
        "colab": {
          "base_uri": "https://localhost:8080/"
        },
        "outputId": "1b3fb762-448a-4011-ed8c-9af2833cc74f"
      },
      "execution_count": 40,
      "outputs": [
        {
          "output_type": "stream",
          "name": "stdout",
          "text": [
            "[1, 4, 9, 16, 25]\n"
          ]
        }
      ]
    },
    {
      "cell_type": "code",
      "source": [
        "#using map function\n",
        "map(lambda x : x**2,a)"
      ],
      "metadata": {
        "colab": {
          "base_uri": "https://localhost:8080/"
        },
        "id": "2Jd57CeLgKdn",
        "outputId": "047fced1-7fdc-4edd-9bb4-4a37d668afb5"
      },
      "execution_count": null,
      "outputs": [
        {
          "output_type": "execute_result",
          "data": {
            "text/plain": [
              "<map at 0x7bf944c0b2e0>"
            ]
          },
          "metadata": {},
          "execution_count": 6
        }
      ]
    },
    {
      "cell_type": "code",
      "source": [
        "range(0,100)"
      ],
      "metadata": {
        "colab": {
          "base_uri": "https://localhost:8080/"
        },
        "id": "bxh7-Vlpghk6",
        "outputId": "72ca8afd-44e6-4886-abd9-d076efb11237"
      },
      "execution_count": null,
      "outputs": [
        {
          "output_type": "execute_result",
          "data": {
            "text/plain": [
              "range(0, 100)"
            ]
          },
          "metadata": {},
          "execution_count": 7
        }
      ]
    },
    {
      "cell_type": "code",
      "source": [
        "# to see actual output need to do type casting\n",
        "list(range(0,10))"
      ],
      "metadata": {
        "colab": {
          "base_uri": "https://localhost:8080/"
        },
        "id": "GXIti6U3gnQq",
        "outputId": "0378a69a-e0db-4a90-f6b8-9d3a6f0c488f"
      },
      "execution_count": null,
      "outputs": [
        {
          "output_type": "execute_result",
          "data": {
            "text/plain": [
              "[0, 1, 2, 3, 4, 5, 6, 7, 8, 9]"
            ]
          },
          "metadata": {},
          "execution_count": 8
        }
      ]
    },
    {
      "cell_type": "code",
      "source": [
        "list(map(lambda x:x**2,a)) #typecast map to list"
      ],
      "metadata": {
        "colab": {
          "base_uri": "https://localhost:8080/"
        },
        "id": "sefvg-eUgtuL",
        "outputId": "99f60e05-7a29-4d09-b35f-71d94407cfd4"
      },
      "execution_count": null,
      "outputs": [
        {
          "output_type": "execute_result",
          "data": {
            "text/plain": [
              "[1, 16, 81, 256, 625]"
            ]
          },
          "metadata": {},
          "execution_count": 9
        }
      ]
    },
    {
      "cell_type": "markdown",
      "source": [
        "Convert given heights from alist to t-shirt sizes\n",
        "\n",
        "\n",
        "*   h<150 -> s\n",
        "*   h>=150 and h<180 -> M\n",
        "*   h>=180 -> L\n",
        "\n",
        "\n",
        "\n"
      ],
      "metadata": {
        "id": "L7cvf7-gh8zg"
      }
    },
    {
      "cell_type": "code",
      "source": [
        "def complex_logic(h):\n",
        "  if h<150:\n",
        "    return 's'\n",
        "  elif h>=150 and h<180:\n",
        "    return 'm'\n",
        "  else:\n",
        "    return 'L'"
      ],
      "metadata": {
        "id": "0HUNWLvCg0FF"
      },
      "execution_count": null,
      "outputs": []
    },
    {
      "cell_type": "code",
      "source": [
        "complex_logic(190)"
      ],
      "metadata": {
        "colab": {
          "base_uri": "https://localhost:8080/",
          "height": 35
        },
        "id": "-wUNVfFgii9g",
        "outputId": "186db493-6c5a-492d-c979-65490e5c3d65"
      },
      "execution_count": null,
      "outputs": [
        {
          "output_type": "execute_result",
          "data": {
            "text/plain": [
              "'L'"
            ],
            "application/vnd.google.colaboratory.intrinsic+json": {
              "type": "string"
            }
          },
          "metadata": {},
          "execution_count": 16
        }
      ]
    },
    {
      "cell_type": "code",
      "source": [
        "heights=[144,154,167,189,170,190,30,130]"
      ],
      "metadata": {
        "id": "WwiyXtpEk2IE"
      },
      "execution_count": null,
      "outputs": []
    },
    {
      "cell_type": "code",
      "source": [
        "list(map(complex_logic,heights))"
      ],
      "metadata": {
        "colab": {
          "base_uri": "https://localhost:8080/"
        },
        "id": "fnoT31r4itQ1",
        "outputId": "53cb1666-c986-4ca2-8ef2-b87abe00a081"
      },
      "execution_count": null,
      "outputs": [
        {
          "output_type": "execute_result",
          "data": {
            "text/plain": [
              "['s', 'm', 'm', 'L', 'm', 'L', 's', 's']"
            ]
          },
          "metadata": {},
          "execution_count": 18
        }
      ]
    },
    {
      "cell_type": "code",
      "source": [
        "A=[1,0,0,1,0,1,0,1,1,0,1]\n",
        "B=[0,1,0,1,1,0,1,0,1,0,1]\n",
        "\n",
        "# c=[true,false,true]\n",
        "# if both a and b have same element, then c= true, else c=false"
      ],
      "metadata": {
        "id": "zgzoP29lk8WF"
      },
      "execution_count": null,
      "outputs": []
    },
    {
      "cell_type": "code",
      "source": [
        "c=list(map(lambda x,y:x==y, A,B))\n",
        "print(c)"
      ],
      "metadata": {
        "colab": {
          "base_uri": "https://localhost:8080/"
        },
        "id": "H2HPgpUSmKhY",
        "outputId": "eb307027-c874-4d96-9412-b7e2c5c4693e"
      },
      "execution_count": null,
      "outputs": [
        {
          "output_type": "stream",
          "name": "stdout",
          "text": [
            "[False, False, True, True, False, False, False, False, True, True, True]\n"
          ]
        }
      ]
    },
    {
      "cell_type": "markdown",
      "source": [
        "**Filter Function**\n"
      ],
      "metadata": {
        "id": "u2Inxh9Am0e5"
      }
    },
    {
      "cell_type": "code",
      "source": [
        "# filter out elements from iterable on the basis of some condition\n",
        "# input=[1,2,3,4] o/p=[2,4]\n",
        "a=[1,2,3,4]\n",
        "b=[]\n",
        "\n",
        "for i in a:\n",
        "  if i%2 ==0:\n",
        "    b.append(i)\n",
        "\n",
        "print(b)"
      ],
      "metadata": {
        "colab": {
          "base_uri": "https://localhost:8080/"
        },
        "id": "XBXRHEA7mwxf",
        "outputId": "616336f3-fd70-4694-94f0-063a7d908f94"
      },
      "execution_count": null,
      "outputs": [
        {
          "output_type": "stream",
          "name": "stdout",
          "text": [
            "[2, 4]\n"
          ]
        }
      ]
    },
    {
      "cell_type": "markdown",
      "source": [
        "Only gives the filter answers/values"
      ],
      "metadata": {
        "id": "SMAnQfvEqR0F"
      }
    },
    {
      "cell_type": "code",
      "source": [
        "list(filter(lambda x:x%2==0,a))"
      ],
      "metadata": {
        "colab": {
          "base_uri": "https://localhost:8080/"
        },
        "id": "LSU5H_SJnCRJ",
        "outputId": "1ef3c2d7-23a8-4e82-a6b3-5ac0115ce89d"
      },
      "execution_count": null,
      "outputs": [
        {
          "output_type": "execute_result",
          "data": {
            "text/plain": [
              "[2, 4]"
            ]
          },
          "metadata": {},
          "execution_count": 35
        }
      ]
    },
    {
      "cell_type": "markdown",
      "source": [
        "**zip function**\n",
        "\n",
        "\n",
        "*   Generate list of tuples from iterables\n",
        "\n"
      ],
      "metadata": {
        "id": "u9sVp3cAqWaz"
      }
    },
    {
      "cell_type": "code",
      "source": [
        "# it converts to tuple of input values\n",
        "a=[1,2,3]\n",
        "b=['a','b','c','d','e']\n",
        "c=[2.3,3.2,4.1,3.2]\n",
        "\n",
        "d=list(zip(a,b,c))\n",
        "d"
      ],
      "metadata": {
        "colab": {
          "base_uri": "https://localhost:8080/"
        },
        "id": "0T53T52Mp8xX",
        "outputId": "d6d5be1c-66ce-45c3-81dc-c78216978496"
      },
      "execution_count": null,
      "outputs": [
        {
          "output_type": "execute_result",
          "data": {
            "text/plain": [
              "[(1, 'a', 2.3), (2, 'b', 3.2), (3, 'c', 4.1)]"
            ]
          },
          "metadata": {},
          "execution_count": 38
        }
      ]
    },
    {
      "cell_type": "code",
      "source": [
        "for x,y,z in d:\n",
        "  print (x,y,z)"
      ],
      "metadata": {
        "id": "iW2GABfarj63",
        "colab": {
          "base_uri": "https://localhost:8080/"
        },
        "outputId": "5abdfbad-9b05-4824-cbdd-cef37dc42110"
      },
      "execution_count": 43,
      "outputs": [
        {
          "output_type": "stream",
          "name": "stdout",
          "text": [
            "1 a 2.3\n",
            "2 b 3.2\n",
            "3 c 4.1\n"
          ]
        }
      ]
    },
    {
      "cell_type": "markdown",
      "source": [
        "**Reduce function**\n",
        "\n",
        "\n",
        "---\n",
        "\n",
        "\n",
        "\n",
        "*   Reduce the iterable to a single value\n",
        "\n"
      ],
      "metadata": {
        "id": "FEVbScZ_vcys"
      }
    },
    {
      "cell_type": "code",
      "source": [],
      "metadata": {
        "id": "r-nWXze5vEoC"
      },
      "execution_count": null,
      "outputs": []
    }
  ]
}