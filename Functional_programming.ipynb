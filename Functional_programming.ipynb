{
  "nbformat": 4,
  "nbformat_minor": 0,
  "metadata": {
    "colab": {
      "provenance": [],
      "authorship_tag": "ABX9TyN9NOhdjm/69CvOEzxL9OVH",
      "include_colab_link": true
    },
    "kernelspec": {
      "name": "python3",
      "display_name": "Python 3"
    },
    "language_info": {
      "name": "python"
    }
  },
  "cells": [
    {
      "cell_type": "markdown",
      "metadata": {
        "id": "view-in-github",
        "colab_type": "text"
      },
      "source": [
        "<a href=\"https://colab.research.google.com/github/SPraveeen/python_google_colab_study/blob/main/Functional_programming.ipynb\" target=\"_parent\"><img src=\"https://colab.research.google.com/assets/colab-badge.svg\" alt=\"Open In Colab\"/></a>"
      ]
    },
    {
      "cell_type": "markdown",
      "source": [
        "**Agenda**\n",
        "1.   `Functional Programming`\n",
        "2.   `Lambda Function`\n",
        "3.   `Exmples`\n",
        "4.   `Higher order functions`\n",
        "5.   `Decorators`\n",
        "\n"
      ],
      "metadata": {
        "id": "p0dy0coSLAV_"
      }
    },
    {
      "cell_type": "code",
      "source": [
        "#lambda function\n",
        "#check whether number is positive or not\n",
        "def check_number(a):\n",
        "  if (a>=0):\n",
        "    return 'Positive number'\n",
        "  else :\n",
        "    return 'Negative Number'"
      ],
      "metadata": {
        "id": "8cv0yYDTLXiK"
      },
      "execution_count": null,
      "outputs": []
    },
    {
      "cell_type": "code",
      "source": [
        "print(check_number(-5))"
      ],
      "metadata": {
        "colab": {
          "base_uri": "https://localhost:8080/"
        },
        "id": "9gDHsPPhONbv",
        "outputId": "fcaa7267-aa73-481d-8fa3-160fc74121c6"
      },
      "execution_count": null,
      "outputs": [
        {
          "output_type": "stream",
          "name": "stdout",
          "text": [
            "Negative Number\n"
          ]
        }
      ]
    },
    {
      "cell_type": "code",
      "source": [
        "def func(n):\n",
        "  return True if n>=0 else False"
      ],
      "metadata": {
        "id": "RmdZf7o6OQia"
      },
      "execution_count": null,
      "outputs": []
    },
    {
      "cell_type": "code",
      "source": [
        "func(-100)"
      ],
      "metadata": {
        "colab": {
          "base_uri": "https://localhost:8080/"
        },
        "id": "s78ZZVTGOw3q",
        "outputId": "96a2c2f2-d5bb-4234-86dd-1215f9f2aed2"
      },
      "execution_count": null,
      "outputs": [
        {
          "output_type": "execute_result",
          "data": {
            "text/plain": [
              "False"
            ]
          },
          "metadata": {},
          "execution_count": 6
        }
      ]
    },
    {
      "cell_type": "code",
      "source": [
        "#syntax -> for lambda function ( lambda i/p : o/p) --> lambda -> anonyms function\n",
        "find_square=lambda s : s**2\n",
        "find_square(5)"
      ],
      "metadata": {
        "colab": {
          "base_uri": "https://localhost:8080/"
        },
        "id": "TMDQdJjuOyKa",
        "outputId": "9315ac95-d52b-4b29-f297-5a3ffb9c092e"
      },
      "execution_count": null,
      "outputs": [
        {
          "output_type": "execute_result",
          "data": {
            "text/plain": [
              "25"
            ]
          },
          "metadata": {},
          "execution_count": 7
        }
      ]
    },
    {
      "cell_type": "code",
      "source": [
        "(lambda x : x**2)(10)"
      ],
      "metadata": {
        "colab": {
          "base_uri": "https://localhost:8080/"
        },
        "id": "hFa7krtsRCRL",
        "outputId": "51381d54-8028-474d-d85f-6370eb1f16ad"
      },
      "execution_count": null,
      "outputs": [
        {
          "output_type": "execute_result",
          "data": {
            "text/plain": [
              "100"
            ]
          },
          "metadata": {},
          "execution_count": 8
        }
      ]
    },
    {
      "cell_type": "code",
      "source": [
        "#l.sort update values\n",
        "l=[1,3,4,5,2]\n",
        "l.sort()"
      ],
      "metadata": {
        "id": "7aFf8LJfReJp"
      },
      "execution_count": null,
      "outputs": []
    },
    {
      "cell_type": "code",
      "source": [
        "l"
      ],
      "metadata": {
        "colab": {
          "base_uri": "https://localhost:8080/"
        },
        "id": "4TxzVfs5TB6b",
        "outputId": "77649ee4-5807-4cf9-a049-e6df4cff345f"
      },
      "execution_count": null,
      "outputs": [
        {
          "output_type": "execute_result",
          "data": {
            "text/plain": [
              "[1, 2, 3, 4, 5]"
            ]
          },
          "metadata": {},
          "execution_count": 10
        }
      ]
    },
    {
      "cell_type": "code",
      "source": [
        "#sorted doesn't store automataically we ned to assign it to a variable\n",
        "x=[1,4,3,2,5]\n",
        "sorted(x)\n",
        "x"
      ],
      "metadata": {
        "colab": {
          "base_uri": "https://localhost:8080/"
        },
        "id": "T8vcTmhfTC-o",
        "outputId": "bff04cb4-5adb-49b5-aee1-955bcc383f37"
      },
      "execution_count": null,
      "outputs": [
        {
          "output_type": "execute_result",
          "data": {
            "text/plain": [
              "[1, 4, 3, 2, 5]"
            ]
          },
          "metadata": {},
          "execution_count": 11
        }
      ]
    },
    {
      "cell_type": "code",
      "source": [
        "x=[1,4,3,2,5]\n",
        "a=sorted(x)\n",
        "a"
      ],
      "metadata": {
        "colab": {
          "base_uri": "https://localhost:8080/"
        },
        "id": "D-gXWeTFVVm6",
        "outputId": "b0fe1055-33ed-4b60-a99a-9a050b1532e2"
      },
      "execution_count": null,
      "outputs": [
        {
          "output_type": "execute_result",
          "data": {
            "text/plain": [
              "[1, 2, 3, 4, 5]"
            ]
          },
          "metadata": {},
          "execution_count": 12
        }
      ]
    },
    {
      "cell_type": "markdown",
      "source": [
        "\n",
        "\n"
      ],
      "metadata": {
        "id": "d3PLk-S7ViiO"
      }
    },
    {
      "cell_type": "markdown",
      "source": [
        "![image.png](data:image/png;base64,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)\n",
        "\n",
        "coordinates :[(1,-1),(-1,2),(3,5)]\n",
        "sorted (coordinates)\n"
      ],
      "metadata": {
        "id": "AmKWRowsVjxy"
      }
    },
    {
      "cell_type": "code",
      "source": [
        "coordinates =[(1,-1),(-1,2),(3,5),(5,3),(7,7),(2,1)]\n",
        "x=sorted(coordinates)\n",
        "print(x)"
      ],
      "metadata": {
        "colab": {
          "base_uri": "https://localhost:8080/"
        },
        "id": "Vyfh4THfWd24",
        "outputId": "5eb425cc-a268-47df-bc34-06994a14fb7a"
      },
      "execution_count": null,
      "outputs": [
        {
          "output_type": "stream",
          "name": "stdout",
          "text": [
            "[(-1, 2), (1, -1), (2, 1), (3, 5), (5, 3), (7, 7)]\n"
          ]
        }
      ]
    },
    {
      "cell_type": "code",
      "source": [
        "#it sorted based on histogram\n",
        "#sorted on x order #need to sort on y\n",
        "help(sorted)"
      ],
      "metadata": {
        "colab": {
          "base_uri": "https://localhost:8080/"
        },
        "id": "sNjexxMjW1BI",
        "outputId": "b02c7e72-688a-4d27-84bc-c7e5b9fd2f0e"
      },
      "execution_count": null,
      "outputs": [
        {
          "output_type": "stream",
          "name": "stdout",
          "text": [
            "Help on built-in function sorted in module builtins:\n",
            "\n",
            "sorted(iterable, /, *, key=None, reverse=False)\n",
            "    Return a new list containing all items from the iterable in ascending order.\n",
            "    \n",
            "    A custom key function can be supplied to customize the sort order, and the\n",
            "    reverse flag can be set to request the result in descending order.\n",
            "\n"
          ]
        }
      ]
    },
    {
      "cell_type": "code",
      "source": [
        "#sorted based on y\n",
        "coordinates =[(1,-1),(-1,2),(3,5),(5,3),(7,7),(2,1)]\n",
        "\n",
        "def get_y(tup):\n",
        "  return tup[1]\n",
        "\n",
        "sorted(coordinates,key=get_y)"
      ],
      "metadata": {
        "colab": {
          "base_uri": "https://localhost:8080/"
        },
        "id": "6M_ukN8XXa03",
        "outputId": "34e6f942-cf89-4802-af7f-eb4a183d756d"
      },
      "execution_count": null,
      "outputs": [
        {
          "output_type": "execute_result",
          "data": {
            "text/plain": [
              "[(1, -1), (2, 1), (-1, 2), (5, 3), (3, 5), (7, 7)]"
            ]
          },
          "metadata": {},
          "execution_count": 15
        }
      ]
    },
    {
      "cell_type": "code",
      "source": [
        "#in lambda function\n",
        "#lambda tup :tup[1]\n",
        "coordinates =[(1,-1),(-1,2),(3,5),(5,3),(7,7),(2,1)]\n",
        "sorted(coordinates,key=lambda tup:tup[1])"
      ],
      "metadata": {
        "colab": {
          "base_uri": "https://localhost:8080/"
        },
        "id": "51eA9xWKZdWY",
        "outputId": "1716bd84-acb7-44eb-92eb-bfd2a0495adc"
      },
      "execution_count": null,
      "outputs": [
        {
          "output_type": "execute_result",
          "data": {
            "text/plain": [
              "[(1, -1), (2, 1), (-1, 2), (5, 3), (3, 5), (7, 7)]"
            ]
          },
          "metadata": {},
          "execution_count": 17
        }
      ]
    },
    {
      "cell_type": "code",
      "source": [
        "student=[{'name':'A','marks':50},\n",
        "         {'name':'B','marks':45},\n",
        "         {'name':'C','marks':56},\n",
        "         {'name':'D','marks':25}]\n",
        "\n",
        "\n",
        "sorted(student,key=lambda dict:dict['marks'], reverse=False)"
      ],
      "metadata": {
        "colab": {
          "base_uri": "https://localhost:8080/"
        },
        "id": "oUpvzBuhZx4W",
        "outputId": "6b4e787c-8081-41a1-f09f-578a951dd2d2"
      },
      "execution_count": null,
      "outputs": [
        {
          "output_type": "execute_result",
          "data": {
            "text/plain": [
              "[{'name': 'D', 'marks': 25},\n",
              " {'name': 'B', 'marks': 45},\n",
              " {'name': 'A', 'marks': 50},\n",
              " {'name': 'C', 'marks': 56}]"
            ]
          },
          "metadata": {},
          "execution_count": 23
        }
      ]
    },
    {
      "cell_type": "code",
      "source": [
        "sorted(student,key=lambda dic:dic['marks'], reverse=True)"
      ],
      "metadata": {
        "colab": {
          "base_uri": "https://localhost:8080/"
        },
        "id": "clJONh_qcGkn",
        "outputId": "64ac956a-ff6c-45e0-b41e-8602c15d13ec"
      },
      "execution_count": null,
      "outputs": [
        {
          "output_type": "execute_result",
          "data": {
            "text/plain": [
              "[{'name': 'C', 'marks': 56},\n",
              " {'name': 'A', 'marks': 50},\n",
              " {'name': 'B', 'marks': 45},\n",
              " {'name': 'D', 'marks': 25}]"
            ]
          },
          "metadata": {},
          "execution_count": 24
        }
      ]
    },
    {
      "cell_type": "code",
      "source": [
        "#higher order function\n",
        "#function which returns another funtion\n",
        "def gen_exp(n):\n",
        "  def exp(x):\n",
        "    return x**n\n",
        "  return exp\n",
        "exp_5=gen_exp(5)\n",
        "exp_5(2)"
      ],
      "metadata": {
        "id": "yeAFQRhtcI71",
        "colab": {
          "base_uri": "https://localhost:8080/"
        },
        "outputId": "5aeda655-dbd2-4ac7-894d-09215588ed7f"
      },
      "execution_count": null,
      "outputs": [
        {
          "output_type": "execute_result",
          "data": {
            "text/plain": [
              "32"
            ]
          },
          "metadata": {},
          "execution_count": 1
        }
      ]
    },
    {
      "cell_type": "code",
      "source": [
        "coordinates =[(1,-1),(-1,2),(3,5),(5,3),(7,7),(2,1)]\n",
        "a=sorted(coordinates)"
      ],
      "metadata": {
        "id": "iBPIq9IW6QUI"
      },
      "execution_count": null,
      "outputs": []
    },
    {
      "cell_type": "code",
      "source": [
        "a"
      ],
      "metadata": {
        "colab": {
          "base_uri": "https://localhost:8080/"
        },
        "id": "11wr-NOzNV-A",
        "outputId": "eda16905-ac98-4760-9983-de577dc28071"
      },
      "execution_count": null,
      "outputs": [
        {
          "output_type": "execute_result",
          "data": {
            "text/plain": [
              "[(-1, 2), (1, -1), (2, 1), (3, 5), (5, 3), (7, 7)]"
            ]
          },
          "metadata": {},
          "execution_count": 2
        }
      ]
    },
    {
      "cell_type": "code",
      "source": [
        "#sort by y\n",
        "def get_y(tup):\n",
        "  return tup[1]\n",
        "\n",
        "get_y((1,-1))"
      ],
      "metadata": {
        "colab": {
          "base_uri": "https://localhost:8080/"
        },
        "id": "7gLgNrc4NkjB",
        "outputId": "1c9ca998-b4ac-4a5f-f597-d027d757cf50"
      },
      "execution_count": null,
      "outputs": [
        {
          "output_type": "execute_result",
          "data": {
            "text/plain": [
              "-1"
            ]
          },
          "metadata": {},
          "execution_count": 7
        }
      ]
    },
    {
      "cell_type": "code",
      "source": [
        "def get_y(tup):\n",
        "  return tup[1]\n",
        "\n",
        "sorted(coordinates,key=get_y)"
      ],
      "metadata": {
        "colab": {
          "base_uri": "https://localhost:8080/"
        },
        "id": "4Wy182TCN2G_",
        "outputId": "ea4a4d19-cb33-4496-f2f0-6d724901dfc6"
      },
      "execution_count": null,
      "outputs": [
        {
          "output_type": "execute_result",
          "data": {
            "text/plain": [
              "[(1, -1), (2, 1), (-1, 2), (5, 3), (3, 5), (7, 7)]"
            ]
          },
          "metadata": {},
          "execution_count": 8
        }
      ]
    },
    {
      "cell_type": "code",
      "source": [
        "sorted(coordinates,key=lambda tup:tup[1])"
      ],
      "metadata": {
        "colab": {
          "base_uri": "https://localhost:8080/"
        },
        "id": "v7Mom4QWPVq9",
        "outputId": "208a1078-02bb-4bce-b276-3df614d2a753"
      },
      "execution_count": null,
      "outputs": [
        {
          "output_type": "execute_result",
          "data": {
            "text/plain": [
              "[(1, -1), (2, 1), (-1, 2), (5, 3), (3, 5), (7, 7)]"
            ]
          },
          "metadata": {},
          "execution_count": 9
        }
      ]
    },
    {
      "cell_type": "code",
      "source": [
        "student=[{'name':'A','marks':50},\n",
        "         {'name':'B','marks':45},\n",
        "         {'name':'C','marks':56},\n",
        "         {'name':'D','marks':25}]"
      ],
      "metadata": {
        "id": "S1HBfrYCQdet"
      },
      "execution_count": null,
      "outputs": []
    },
    {
      "cell_type": "code",
      "source": [
        "sorted(student,key=lambda d: d.get('marks'),reverse=True)"
      ],
      "metadata": {
        "colab": {
          "base_uri": "https://localhost:8080/"
        },
        "id": "bBBr-Dw0RHlt",
        "outputId": "8f6bdd47-a5b5-4e56-f35d-4e537cca712a"
      },
      "execution_count": null,
      "outputs": [
        {
          "output_type": "execute_result",
          "data": {
            "text/plain": [
              "[{'name': 'C', 'marks': 56},\n",
              " {'name': 'A', 'marks': 50},\n",
              " {'name': 'B', 'marks': 45},\n",
              " {'name': 'D', 'marks': 25}]"
            ]
          },
          "metadata": {},
          "execution_count": 13
        }
      ]
    },
    {
      "cell_type": "code",
      "source": [
        "def get_marks(d):\n",
        "  return d['marks']\n",
        "\n",
        "sorted(student,key=get_marks,reverse=True)"
      ],
      "metadata": {
        "id": "sDrt9hYNROv6",
        "colab": {
          "base_uri": "https://localhost:8080/"
        },
        "outputId": "97425389-3a0a-41be-f73a-a9b929e8ac04"
      },
      "execution_count": null,
      "outputs": [
        {
          "output_type": "execute_result",
          "data": {
            "text/plain": [
              "[{'name': 'C', 'marks': 56},\n",
              " {'name': 'A', 'marks': 50},\n",
              " {'name': 'B', 'marks': 45},\n",
              " {'name': 'D', 'marks': 25}]"
            ]
          },
          "metadata": {},
          "execution_count": 15
        }
      ]
    },
    {
      "cell_type": "code",
      "source": [
        "def create_beautify(func):\n",
        "  def line_building():\n",
        "    print('-'* 50)\n",
        "    func()\n",
        "    print('-'*50)\n",
        "    return func"
      ],
      "metadata": {
        "id": "Mg1xEalnZ8Yd"
      },
      "execution_count": null,
      "outputs": []
    },
    {
      "cell_type": "code",
      "source": [
        "bff=create_beautify('Hello')"
      ],
      "metadata": {
        "id": "f_Dt3Yviqmdg"
      },
      "execution_count": null,
      "outputs": []
    },
    {
      "cell_type": "code",
      "source": [
        "bff()"
      ],
      "metadata": {
        "colab": {
          "base_uri": "https://localhost:8080/",
          "height": 141
        },
        "id": "YilkGiK9qrFs",
        "outputId": "52769927-0a91-48b2-8749-a44d30da0c36"
      },
      "execution_count": null,
      "outputs": [
        {
          "output_type": "error",
          "ename": "TypeError",
          "evalue": "'NoneType' object is not callable",
          "traceback": [
            "\u001b[0;31m---------------------------------------------------------------------------\u001b[0m",
            "\u001b[0;31mTypeError\u001b[0m                                 Traceback (most recent call last)",
            "\u001b[0;32m<ipython-input-29-6a524d31a57b>\u001b[0m in \u001b[0;36m<cell line: 0>\u001b[0;34m()\u001b[0m\n\u001b[0;32m----> 1\u001b[0;31m \u001b[0mbff\u001b[0m\u001b[0;34m(\u001b[0m\u001b[0;34m)\u001b[0m\u001b[0;34m\u001b[0m\u001b[0;34m\u001b[0m\u001b[0m\n\u001b[0m",
            "\u001b[0;31mTypeError\u001b[0m: 'NoneType' object is not callable"
          ]
        }
      ]
    },
    {
      "cell_type": "markdown",
      "source": [
        "**MAP**\n",
        "\n",
        "---\n",
        "\n",
        "\n",
        "**FILTER**\n",
        "\n",
        "\n",
        "---\n",
        "\n",
        "\n",
        "**REDUCE**\n",
        "\n",
        "---\n",
        "\n",
        "\n",
        "**ZIP**\n",
        "\n",
        "---\n",
        "\n",
        "\n",
        "**ARGS and KWARGS**"
      ],
      "metadata": {
        "id": "9RiwhcFFJRab"
      }
    },
    {
      "cell_type": "code",
      "source": [
        "# /what is functional programming\n",
        "# State of data is unchanged\n",
        "x=5\n",
        "\n",
        "x=3*x #15\n",
        "x+=1 ##16\n",
        "\n",
        "print(x) #here original value of x changed"
      ],
      "metadata": {
        "id": "BM9pBGloqufc",
        "colab": {
          "base_uri": "https://localhost:8080/"
        },
        "outputId": "74708425-bd03-4165-e947-54020903a34f"
      },
      "execution_count": null,
      "outputs": [
        {
          "output_type": "stream",
          "name": "stdout",
          "text": [
            "16\n"
          ]
        }
      ]
    },
    {
      "cell_type": "code",
      "source": [
        "# not to change base / mutation(overwriting) should not happen\n",
        "x=5\n",
        "\n",
        "y=3*x\n",
        "z=y+1\n",
        "\n",
        "print(z)\n",
        "# drawbacks-> storing too much variable, wstage of menmoreis"
      ],
      "metadata": {
        "colab": {
          "base_uri": "https://localhost:8080/"
        },
        "id": "ydWJFq1pJ-j5",
        "outputId": "cf86f7d8-9e84-46ce-891e-17ae45ddba1b"
      },
      "execution_count": null,
      "outputs": [
        {
          "output_type": "stream",
          "name": "stdout",
          "text": [
            "16\n"
          ]
        }
      ]
    },
    {
      "cell_type": "code",
      "source": [
        "# best way\n",
        "x=5\n",
        "\n",
        "def mutation_1(numberr):\n",
        "  numberr = numberr *2\n",
        "  numberr += 1\n",
        "\n",
        "  return numberr\n",
        "\n",
        "y=mutation_1(x)\n",
        "print(y)\n",
        "print(x)\n",
        "# here original value is not chnaged and also only one extra variable there so no extra memmory issue"
      ],
      "metadata": {
        "colab": {
          "base_uri": "https://localhost:8080/"
        },
        "id": "bLO82H9DKiEJ",
        "outputId": "13b6f17c-38d8-46f9-f71e-183c0ff87cb8"
      },
      "execution_count": null,
      "outputs": [
        {
          "output_type": "stream",
          "name": "stdout",
          "text": [
            "11\n",
            "5\n"
          ]
        }
      ]
    },
    {
      "cell_type": "code",
      "source": [
        "# map function -> used to perfom function on every element of an iterable\n",
        "# syntax -> map(function, *iterable)\n",
        "b=[1,2,3,4,5]\n",
        "# operation : square each element of list and generate new list\n",
        "a=[]\n",
        "for i in b:\n",
        "  a.append(i**2)\n",
        "\n",
        "print(a)"
      ],
      "metadata": {
        "id": "jjSsjMPRMEY_",
        "colab": {
          "base_uri": "https://localhost:8080/"
        },
        "outputId": "1b3fb762-448a-4011-ed8c-9af2833cc74f"
      },
      "execution_count": 40,
      "outputs": [
        {
          "output_type": "stream",
          "name": "stdout",
          "text": [
            "[1, 4, 9, 16, 25]\n"
          ]
        }
      ]
    },
    {
      "cell_type": "code",
      "source": [
        "#using map function\n",
        "map(lambda x : x**2,a)"
      ],
      "metadata": {
        "colab": {
          "base_uri": "https://localhost:8080/"
        },
        "id": "2Jd57CeLgKdn",
        "outputId": "047fced1-7fdc-4edd-9bb4-4a37d668afb5"
      },
      "execution_count": null,
      "outputs": [
        {
          "output_type": "execute_result",
          "data": {
            "text/plain": [
              "<map at 0x7bf944c0b2e0>"
            ]
          },
          "metadata": {},
          "execution_count": 6
        }
      ]
    },
    {
      "cell_type": "code",
      "source": [
        "range(0,100)"
      ],
      "metadata": {
        "colab": {
          "base_uri": "https://localhost:8080/"
        },
        "id": "bxh7-Vlpghk6",
        "outputId": "72ca8afd-44e6-4886-abd9-d076efb11237"
      },
      "execution_count": null,
      "outputs": [
        {
          "output_type": "execute_result",
          "data": {
            "text/plain": [
              "range(0, 100)"
            ]
          },
          "metadata": {},
          "execution_count": 7
        }
      ]
    },
    {
      "cell_type": "code",
      "source": [
        "# to see actual output need to do type casting\n",
        "list(range(0,10))"
      ],
      "metadata": {
        "colab": {
          "base_uri": "https://localhost:8080/"
        },
        "id": "GXIti6U3gnQq",
        "outputId": "0378a69a-e0db-4a90-f6b8-9d3a6f0c488f"
      },
      "execution_count": null,
      "outputs": [
        {
          "output_type": "execute_result",
          "data": {
            "text/plain": [
              "[0, 1, 2, 3, 4, 5, 6, 7, 8, 9]"
            ]
          },
          "metadata": {},
          "execution_count": 8
        }
      ]
    },
    {
      "cell_type": "code",
      "source": [
        "list(map(lambda x:x**2,a)) #typecast map to list"
      ],
      "metadata": {
        "colab": {
          "base_uri": "https://localhost:8080/"
        },
        "id": "sefvg-eUgtuL",
        "outputId": "99f60e05-7a29-4d09-b35f-71d94407cfd4"
      },
      "execution_count": null,
      "outputs": [
        {
          "output_type": "execute_result",
          "data": {
            "text/plain": [
              "[1, 16, 81, 256, 625]"
            ]
          },
          "metadata": {},
          "execution_count": 9
        }
      ]
    },
    {
      "cell_type": "markdown",
      "source": [
        "Convert given heights from alist to t-shirt sizes\n",
        "\n",
        "\n",
        "*   h<150 -> s\n",
        "*   h>=150 and h<180 -> M\n",
        "*   h>=180 -> L\n",
        "\n",
        "\n",
        "\n"
      ],
      "metadata": {
        "id": "L7cvf7-gh8zg"
      }
    },
    {
      "cell_type": "code",
      "source": [
        "def complex_logic(h):\n",
        "  if h<150:\n",
        "    return 's'\n",
        "  elif h>=150 and h<180:\n",
        "    return 'm'\n",
        "  else:\n",
        "    return 'L'"
      ],
      "metadata": {
        "id": "0HUNWLvCg0FF"
      },
      "execution_count": null,
      "outputs": []
    },
    {
      "cell_type": "code",
      "source": [
        "complex_logic(190)"
      ],
      "metadata": {
        "colab": {
          "base_uri": "https://localhost:8080/",
          "height": 35
        },
        "id": "-wUNVfFgii9g",
        "outputId": "186db493-6c5a-492d-c979-65490e5c3d65"
      },
      "execution_count": null,
      "outputs": [
        {
          "output_type": "execute_result",
          "data": {
            "text/plain": [
              "'L'"
            ],
            "application/vnd.google.colaboratory.intrinsic+json": {
              "type": "string"
            }
          },
          "metadata": {},
          "execution_count": 16
        }
      ]
    },
    {
      "cell_type": "code",
      "source": [
        "heights=[144,154,167,189,170,190,30,130]"
      ],
      "metadata": {
        "id": "WwiyXtpEk2IE"
      },
      "execution_count": null,
      "outputs": []
    },
    {
      "cell_type": "code",
      "source": [
        "list(map(complex_logic,heights))"
      ],
      "metadata": {
        "colab": {
          "base_uri": "https://localhost:8080/"
        },
        "id": "fnoT31r4itQ1",
        "outputId": "53cb1666-c986-4ca2-8ef2-b87abe00a081"
      },
      "execution_count": null,
      "outputs": [
        {
          "output_type": "execute_result",
          "data": {
            "text/plain": [
              "['s', 'm', 'm', 'L', 'm', 'L', 's', 's']"
            ]
          },
          "metadata": {},
          "execution_count": 18
        }
      ]
    },
    {
      "cell_type": "code",
      "source": [
        "A=[1,0,0,1,0,1,0,1,1,0,1]\n",
        "B=[0,1,0,1,1,0,1,0,1,0,1]\n",
        "\n",
        "# c=[true,false,true]\n",
        "# if both a and b have same element, then c= true, else c=false"
      ],
      "metadata": {
        "id": "zgzoP29lk8WF"
      },
      "execution_count": null,
      "outputs": []
    },
    {
      "cell_type": "code",
      "source": [
        "c=list(map(lambda x,y:x==y, A,B))\n",
        "print(c)"
      ],
      "metadata": {
        "colab": {
          "base_uri": "https://localhost:8080/"
        },
        "id": "H2HPgpUSmKhY",
        "outputId": "eb307027-c874-4d96-9412-b7e2c5c4693e"
      },
      "execution_count": null,
      "outputs": [
        {
          "output_type": "stream",
          "name": "stdout",
          "text": [
            "[False, False, True, True, False, False, False, False, True, True, True]\n"
          ]
        }
      ]
    },
    {
      "cell_type": "markdown",
      "source": [
        "**Filter Function**\n"
      ],
      "metadata": {
        "id": "u2Inxh9Am0e5"
      }
    },
    {
      "cell_type": "code",
      "source": [
        "# filter out elements from iterable on the basis of some condition\n",
        "# input=[1,2,3,4] o/p=[2,4]\n",
        "a=[1,2,3,4]\n",
        "b=[]\n",
        "\n",
        "for i in a:\n",
        "  if i%2 ==0:\n",
        "    b.append(i)\n",
        "\n",
        "print(b)"
      ],
      "metadata": {
        "colab": {
          "base_uri": "https://localhost:8080/"
        },
        "id": "XBXRHEA7mwxf",
        "outputId": "616336f3-fd70-4694-94f0-063a7d908f94"
      },
      "execution_count": null,
      "outputs": [
        {
          "output_type": "stream",
          "name": "stdout",
          "text": [
            "[2, 4]\n"
          ]
        }
      ]
    },
    {
      "cell_type": "markdown",
      "source": [
        "Only gives the filter answers/values"
      ],
      "metadata": {
        "id": "SMAnQfvEqR0F"
      }
    },
    {
      "cell_type": "code",
      "source": [
        "list(filter(lambda x:x%2==0,a))"
      ],
      "metadata": {
        "colab": {
          "base_uri": "https://localhost:8080/"
        },
        "id": "LSU5H_SJnCRJ",
        "outputId": "1ef3c2d7-23a8-4e82-a6b3-5ac0115ce89d"
      },
      "execution_count": null,
      "outputs": [
        {
          "output_type": "execute_result",
          "data": {
            "text/plain": [
              "[2, 4]"
            ]
          },
          "metadata": {},
          "execution_count": 35
        }
      ]
    },
    {
      "cell_type": "markdown",
      "source": [
        "**zip function**\n",
        "\n",
        "\n",
        "*   Generate list of tuples from iterables\n",
        "\n"
      ],
      "metadata": {
        "id": "u9sVp3cAqWaz"
      }
    },
    {
      "cell_type": "code",
      "source": [
        "# it converts to tuple of input values\n",
        "a=[1,2,3]\n",
        "b=['a','b','c','d','e']\n",
        "c=[2.3,3.2,4.1,3.2]\n",
        "\n",
        "d=list(zip(a,b,c))\n",
        "d"
      ],
      "metadata": {
        "colab": {
          "base_uri": "https://localhost:8080/"
        },
        "id": "0T53T52Mp8xX",
        "outputId": "d6d5be1c-66ce-45c3-81dc-c78216978496"
      },
      "execution_count": null,
      "outputs": [
        {
          "output_type": "execute_result",
          "data": {
            "text/plain": [
              "[(1, 'a', 2.3), (2, 'b', 3.2), (3, 'c', 4.1)]"
            ]
          },
          "metadata": {},
          "execution_count": 38
        }
      ]
    },
    {
      "cell_type": "code",
      "source": [
        "for x,y,z in d:\n",
        "  print (x,y,z)"
      ],
      "metadata": {
        "id": "iW2GABfarj63",
        "colab": {
          "base_uri": "https://localhost:8080/"
        },
        "outputId": "5abdfbad-9b05-4824-cbdd-cef37dc42110"
      },
      "execution_count": 43,
      "outputs": [
        {
          "output_type": "stream",
          "name": "stdout",
          "text": [
            "1 a 2.3\n",
            "2 b 3.2\n",
            "3 c 4.1\n"
          ]
        }
      ]
    },
    {
      "cell_type": "markdown",
      "source": [
        "**Reduce function**\n",
        "\n",
        "\n",
        "---\n",
        "\n",
        "\n",
        "\n",
        "*   Reduce the iterable to a single value\n",
        "\n",
        "![image.png](data:image/png;base64,iVBORw0KGgoAAAANSUhEUgAAApoAAAHYCAYAAADtdEgFAAAAAXNSR0IArs4c6QAAAARnQU1BAACxjwv8YQUAAAAJcEhZcwAAFiUAABYlAUlSJPAAAABhaVRYdFNuaXBNZXRhZGF0YQAAAAAAeyJjbGlwUG9pbnRzIjpbeyJ4IjowLCJ5IjowfSx7IngiOjY2NiwieSI6MH0seyJ4Ijo2NjYsInkiOjQ3M30seyJ4IjowLCJ5Ijo0NzN9XX0XDWfQAAD/OElEQVR4Xuz9d5hdyX0diq6TT+ccgG7kHAYYYAaDweThkBySGlIkRUqkRGU929K9tmxfW/b15+dP+vxd//Hkp2dZDkqkAkmRYh5ycs7IOTXQQOec08nprVX7VPdBTwODHGb2Aqr3PrUr7Uq/Vb8K25PJDOWGBzowPnoSQf8UAD8y2VKUlTWjtmENfIEawFuMHJ94aOxVsFcXLly4uBHIZrNIJBJIJpPmt8/nQyaTMfbhcNiYaDQ6+1vPhXQ6jVgsZuxCoZCxy+Vy8HiuT6+VTkeQSk0gPj2AdGwSQV8YpeX18JXUsmMMMS4/XTk9pgcZXrPsR/U7QBsf06GelHbw5s3Vwgknl00wzBS62o8jm5lGbQ3ToXhyNLrjs0RsBAODLaipK0Z5eRPSmUqmrBg+f4guZ9DX1QJfsARL1tyNnKcKaVTQr8+kTmE4Oaf4ZOZjzsWFkNs00oleDPadRChQhNrGFRQzlYiOjWFo+Ayal5TBX7yM7uppmCfZCfR2MC0+LxoXrWeW1SA+OYDh4U7UNDajuKyB7oI0Tlk7+Xix+F24uH2RzWVYa9MY7GlBMjaOJctY332V8LAfSyUj6Ok+yLbsR1nVWrZr2uemMTJ0GvHoAJYsX8p2tJhNjO3GU5QP8cqg1um0mixmhs5jauQAyot7MDb0BqYnjiHsr8CyZTtJAVdhOlYEvzcIT3YGQ52vAckzTKsfjcu2I+5biUxoE2oWP8wAmxhewIRq4c2k0ohO9CAy1ooi3wjqK3NorFdHFGYCsuy85roVJejCTseFCxcubhxEKmVEIGW8Xq+5ijCmUilDMGVnIXvZXU9SuSByUYyNnMbQwBmmL0JSO47hoTZkYoPsJKM0M/B4Y+Y+543Q8ApeMU3PuiYUCM31SKPCoSF5TWczmJiZQndvJzq7zqFr1pzF0GAnBdQYxkd60d3dRiHWid7ebnS0tdGcx9joIJJxpp3wFPTytv93IDtLjq00sNeFIN8SppQlhhCSdBuS7eMAoALhQBliUwlk08yr7CRymXES9zE6S6OspILuSNiTaf71UsCl4TWJmYtLP61x4eJOg2qyU5tZvzUo5ADVozqfZT/nD6O6ejnCoWY+L+MztbMc/7FPzLEtGY/Xq/azxasfJXHMeYLwcnCXFoENLELWV0Zyex5dra+gv3s30zGBcGkFopkqJrMRXl8dSXApW3QJk0KCqWZOFKbMSxcIeONs1D74PeoMUiiprkBxRQnjZMTsrOcyw4ULFy5uDkQWRTJFGIuLi1FaWoqioqLZq7SWVtMptzKCiKjs5Vd2cidcD+JJDmt6z1hsBNFIJ0f7lWhcsRiNS2oNsYzM9NPBNJIzA4hP9xuNZ3SS16kBEqo+TE/1IhIbQCpN4mmSe61pcrpzJ5QcvOyzS8tLsWrNCqxbtwobNq7B+vWrsWbDaqxe2YSaimKsXNqEletot3YF1q5dxetKrN20FsuWLmI+hw0XNIKPRqHnX/ki+KD0OyEYkklZ4/WqvDRzFoWvJICy8jJMjI1hrOM4UiPHEBk6gp6uYwgV5VBSUcRkkJCTtHu908hkp+HzKnGM05R31miE+Nfc2zqwkHHh4vaEbWGsv7OtjPXbo0F1GBXVSxEobuLjMPsvElGSQZFMUk26k3u1P/I03VpzBZhtvQwzVFQMf6gEyWwIZZWrESxaTcLZhKynFEn2d4FcN/zZbmSSQ+x/K5DxNKOq7m6mbwnHhaUoLWlkONJkOomYex/2Sx6lkQSztKwexaVLMDaWwHhvD7KxGTpgB51LzyUmnyGOucI3cuHChYurhLSUgiUNgUAAwaCmT9nNsvP1+/1GwxmPxxGJRIw72V1vmOjZIWpaKxzOIRTWD5KhIAfqNLEYSVQ2gonxYXR1d2JgoA/DIwPo7esy9/39XeZ3JsN+1XM90+fkS5YJ9HqZlkAI3lCI/X4YuRDJo64k4AFfgMIqwHuaEOMPkE7ymvP6SdA9TBMFgp/ujWbFCdWaq4MjPZgqxqv7BNM4yfIcoRlHUWUIjYtrOTqIYWjkDGZifaipD6NmUTnTmGC66NY3jnRuhPkbpZCNmfAotPSHwV9b6ly4uLVgv+Yhz/KmSehokKIdB2McQOU0M5NmPc+wnaq+y04DKt6aQTObqmlfOZ/TBK62GRi/7C8DRQiEKjEdC8AXakR13QYUlTSxryO5Tcbh98SQS00gFZ9CKFSF2vq7zJT+TCSAkrLF8JfWMU0kmkoj+zcFnOMb6a/vP/6//+APp6aHGEEZqhvX8WEYo6MzZKg+lJRUsQMo4btoGl2wb6Nf1rhw4cLFjYEIozpVkUk7Ra7fsre/RTrtva7SaIpkioja39bP9dBqqgvMpMcxPdWHgJ9xFZUil4xiZnoaId6Hi2sQDHCEX16L0tIKlJSWo7yiGmXllbSrRklxJULBUqaFpE/EbrZPvVrk+2VPFpHoFKanx9nXp5GOx5COxpGaiSIXm0EsMoHJ6Ul4GS9SXiRmEkhEE4jNTCMVGcX4+CjCRbUorlzKsIopInwX9PZODl8ZHP85pDMJRGdmOAiYpGUS8UQSUzNa5xpjHmhpRBb+kA8+lZk/hEQ8SYHGtCeiiE6PYmqaxJT/Kiqb+LyaYTA1lmTyqnk3aWAvhutS7i5cXGdofSYbI2LTwyRzUyivKiFvTLNWS/PPAawnyfs4DUmelt14phCNDpp2U1VZz0ZZySZQRrf5um8b65VA7k1D1UDUbzSm02yrFZXst8ormK4YopEhs847wH6ruKQBRVUr4Qk0IJYkCfZVoKxea6lFNDlIVVpMOubaoyeTncoND7WSzfpRU93AHjSOkb4OzExNoXnJKvjLl7GDLqZLNWSrybRvc6Vv5MKFCxeXBxFDGbsO05IFSxoFu37T4kYTiqyiZTeYzQxhYuw0ItN9CIfUE/KBN4TqSvaZ4cXsfNVn2mkkZ+rege18lWaZwr70atKeT5BoWDaJRJJkcmqAJHgE3mwGfpHZrCiYBBeFVTYOn+SA10+fQQoVpkECIZtAMUleRe1y+MtINFFK8efkq1Isc7WpI81ELhNjXg1hfKyT4cSQ9QWQJFn05DJMZ9qkT2swjeKGfxzS6GxkEgIBH6pqalBctITW2uikTVUK28okuZWfheESTQfKKXtVjtir4ObQLUA2xU4sivhML4YHziAcJtljh5Jh28ho+pyF4jF9nTSDafY/McxExlEcrkRj80basy3kquhIsyP50ryigsz7cboQNvQUkzSCwYEjfNTPVjaDIn8S3vQYfNkI+2HG42HfwDin48UcGFagpnE5UMQ+z6MBoJ5zgKq+m1cLTzaXyEXjU/D7QmSzYQaUQY6/o5Epjm6L2F/SM8RSlXrbqHVvjQsXLlxcf1gyWYhbTRgyZJrZTJYELsX+NI54pJd95QD7Tx9KSmvZ8dazm9QmFnay0rIarRv7TRJiJp69J+0MaVZo9v3042qpnEJROCLkTJM3zai0Cz8FL/PPq3VdZq6N8ef4nGlxBJcDPdIKSqRJK0WMi5j2XJj2YYo1rdOco8NXA/P2jM/HADKZOHLpKC0TFKJZpL3SRNLQkUeDCceLszm/sJxzfEYy7A1KDhXxd4i+bKqcMJR/Jm8vApdoOnBqyvthsty5dXFTwdIQ2cxNYWrwLKZnhpHzsm3QWkRTp1N4WP81W+Fnw0imYygpKkF11RIEixppX0q/bBcidaavUbu4eDu4KAqpnZa3ZAY5MJTCsQ+Z+ARDJdk0O+TZ2rIkk/5KhErqUVnLgR9JLzJKQwmjtoTXyyB1deDJZDP85XRIJjLTdrVmgInliFh9ksdnPQu62mrpVk0XLlzcOBSSzduBLNi1orxhn8m0+fR7xuk7vexoM0yjx6g4CXWevJGgkDF9J/tZ9a0GZtdNHvJw5QJCITo5JLqp8DIMxWoEbZiOCyeR9l7Qb9lQgEhVK+9KrzTEHj+JpoSWUiwyJzh/rwSKTUErWOftZGNsnXhnw1wobLnLXymL5MaQSaMpsSly3sFMpfOZiLNgLvLOG3NxiaaB8sLmaiGUO3d6DhW+153yLk4V1d8kx1/j/ME24fcgw34vx8GV6q1DNNmueZ8j2UOWdjrOyBxplG8Lpn7L6LfTbq8IF2SeZmDyU/e8RscGzakQWuKiuAOBEgRLqtncGL8vyCv5ocin4p3t29TC822T4OA235Prr4zc6blNt8Gchzlc4MCFCxcubhpuhbZTcWoxvtZVivcoCV4PCaf6WHbA6mQlBwwPMihIox7ows54Lp220736vtSGIDg7r7XMQNPIEkrKk/xDwmaZUXwQZpqaxnT3/KPXMA+NoPEayuqELnqn+4XTeKmUO74dNwu5s6LGuOMfEwuvNq35y9x78KEzXe7AaGh1kyea+iE/9h0FSz4L8VElnsqWgqyZAzNcROa2wfxEfkDSVCPsu8mpjGrE7Q6lV6o+nxqgNl6bMih8C/tWjtE/u6xERyA5533J6G/hAPOD4fhy4PiwNmxhafVrDMt0IrJTn6A+jPGqrWlAbRSQxPzo6EVttLDdzRHNi8B5qNdTeA73tv7nh+/ChQsXtyPUb2kKV5jfb832Z5cpaJ0u80K38706Mc0RIsH6M0d93ACYHecLvIOTFgf2qVJWmDrZy5gDjSjw5CebT6d6fy8FjNVrCs6bOHD8Fj69EM4TJxWSIRaysUZwwnGMxawb68j8mku5xwho+ZEe1zmOycKQTQZWaFeIjyLZVF5YI+SzyJgbUyuvAhctsPy1APZdVCOcoZzzHtZc7xK28V0pbB6/Hw63ct7BuXNmJBzMxef8dewdQjk/PLkwdo7Ti4OO5sJ1IH/zw5uFXZhuMTeSdmAbmoETqkOJ5zCPaBZ6cCCbQg8Wl0yYCxcuXNxGUB+mrvLC7k8d4IV92ZWRzYu7dzraC+PSb62XvFFEU2m63PQrL6zomH13Gq2sMseo8D6bD8t5DwmX96dbLhwjOlkgjBaEXCqsOV+CbGxOOTZzsPazYspoNK2t4MRpBK82F5lfF4YpzMXm4KNIMgXliXJsfv6oZAvpw5XUpeuKwkQtBCZpvhP9lr7N1j5LMmXml/u1Yn6+XS4ung4nRKVdunnHnWqz4MSU19lfgIuGd5mJM7MZ+XvhouFdFHO+dWf9Om/i/LogfFaoSyZNDxdycOUJc+HChYtbA/Vhok/z+zP1YZp9KuzProeAdejQAj0nrW420VQq5tvKzqau8JnIotaBmWdGc2FdWtH9/rAEZ67LmkIX/C0rA9rPPtLNQiHNhWJDMq7yYkp5mi2YF3dCEMnNbway7vigMAyVcWGuf5SJ5nxj8idvLG5LoplPzkJORG+k0bTvYqH76/0W8+O/GIUqzL+Lp0F+bU9RqO//INDlwtFePi47MhuR9WB/O+m25lLBuUTThYtbANuu7ChcbelGdIofddi+y1lc79zr4uT/XMdu8l7CVdcbSDQV45WIk6uFrVs2Fe8jWvpDOy0tzel9LbEwa0lJNHmfpQ8RSIeIO7Vzft4obIkQhaNfhXV4zqXCdS6WCOpIJSt6Znkjw1ZqTbp5r13zik/l4oThkEwZBWX0l4YU8+rxI2UiMS7z0fEdFAbvzTExWaZP4SmefNg2akHuCq93EvQeTklbbdgHgO+fMe9PP/xfWG4mLD4vXIYxv9xvGBT5gsg/sOlg+mbv85CLwnewS0kuN+W2TlwONM2tJJgBjeJhLPJZGL9Nj/JW94WYi8dxaeI2v/P2+cus/WwAhaE69dfp1+b8m6DnR2jhOJoD3b1vUCZ7wvltn8yDdUyovaa1dp0+nTrjpCX/2MAlmi5c3AKoTUlEpvT1BzakoMdnpq7cNnUdUNhhMUNFMtPMZx87QSt45MRoQbSjk5B9obC4VsEqAW6EuDE2RoXv/LvRMO/GONMZbQ7S15M98OXzRfXNkjvdK2+URyZ/KGW0wUkkU06y2Qyy+opRzgu/NwCf3VWq/FG+Mv9SEjK016PC0yzNWxopxtRot74c5P0pfUna6Rvmfhsm7VOKj7cmHiZAaTJlYc48YjAMS2nySytM9xmdvcl/Hn8I+oad/Brn5v1U7s7KPR/dKxy9t+IzBJS/89lgoBisudOgMlRZBHy+2Xq8IEyhKv/V7/D9mQ+GAtCDITW002YyQxhkn8e1tofLRmGBFN6zHFWf7WyA6oGP6TQoSOcslF7WGT25nJTr3eef13sxyG0mn99Kg/zpKz4Bm2+EqXeMX6VhUkx7NQWLuTiY/6rzOv6MMO+kZ3LPMDN8Zo72yrcHA3k19T/ff/GZacN066f/oE6NKMySwkyYi5aG70H/xqkO1+VDPbbzGIKTg/ZXHoU/6UFtKck+QoNNHfjubEW8EJdFNO1Vnu1VmB/YhwYXy5EP7QtfJRbKJzePLh8kAZlk0nQknkDAybu8QHVxeVAVLKyGzmaW/A+BHbA68VQyhVAgyF40342q20vTnh2kboPhsOmwVQbqMCUICktCQYrEON3xB8OSTP2Ve3vV30vQgGuG4hEMkUyzfmVSfGW/E7kEL696ZAS2hJteihmQSCXNRzu00zRDlib/XmUE8yidTBvB6g8GaHR0Ex9KENJfOp5ANpVCkPYe+jf1V5lkkaEAT6WZzxkE/c5nLYUsyU6KcXppJwFt/DHYlA5vZ7K0sz+VTZn4lFT90SWddg5d8qgcKRyTiYRJv8LWVH8mnzZz6hRNJsX0iQSwfFP0kssLf0WmtHjNRgfeGeHOW3Ov650Bpd4UIctA+RwIBp28mfcO+bc0N8l4nGWaNPkuAi6INGmwoTJWGKauqGHkcUuJJss0wXqWYx0KB0Ksi2lTD/zsMw3h47sXQt5Ul4PBMPOC7/cBSdd7yugTtvqiWOEHIN4HZbapzzr7MoeAR59vhWk/oZC+R57Pz/xzv/KSCdA3+Z2+x8Fs/6K4+S5JIwc8CPgpBwzp4yO+W5L9lmk3fvo1bSSfKWzI+liF8kQfZdDHGtIp3ocCbFNsowqi4L3lS0Wo0yxNH8n3yKZTpg0qLWq/kAyiP+PWetIf05lcCGWDYFKqtpxImqupOzo0l2kVdbZh+f6QkNuLQY4uZj6yuIUvb4t8/lW4qcl6f92bw51QOWwL+CBcrrv3QR7fbzR+1GhcGpfc2CR63tyDYN8oAvX1bI10wk5Gnd78jl2+F7oKV5fdTnqu3Ai3TwErRbZDU96qE9UhxznTOWbgYQc4erIFJ159E4soCLxVVeph+YyEqrUDLS+8jomTrairqQPKdOCwh0KX/kQ6CTuiV9jOJG2+o/4A49BJR7dU+M/mnVwVXoXrkauGdNCIQKV6BzFw8CjKvBRUZaW05HswEqsVMlUsljL5cOStd4wmpLS6ioLTC1+a7xBNIHriLFqefw1tew8hQNJZvniREw7raGZiEudfewftz7+B4uk4isor4CnKE3alwkTgxcjRkzixZx9qy8sRYPiIJTCy9zBO/+wlpManUL20yfjJRqM49+ZuJFrakOrqQ8ueAyguLUZRTaUZLOQmZ9C5+wCCwxMILl6MXCKGE+/tRt/h42iob4KXZFIk1WiVSI4TLR3oe/ENDO87iuraWvgry2idotzUgfssG50rwwxLRuPIxuLwSTsksmzSzst1KZEbA0sCdcqMiHTvqTPo2H8ElaVlCJQUKxNMXbD1wWovlTct7+3FsedeQ+x4KzxtvYicOIe2/Ydx9tgJesihWn1RwGfK2BAiBWDK8iZD78iqlCHZOr57L1rf24/ajBfDR1twdt8hlLAy97a04tDrb6Od79516DjOHzmOM6wPiakZNLLMvaqPwiWSr3yZmZnB6dOnDcksKyt7Xx9sclt2rDPpiRmce+UtRM53oaqyFhOHT+Dwm+9iSV09vKVsZyyPtt37MXWuA1XVtUDIj6xIYkF4s+2UYcYGhnDg+ZcR6+5DXWMjckEfiWUAM109OPjya6j2BRGqq8mXKdOgwREHCf0nz7B9H0dp0oOpdw6i7dV3UMx2GzZtVHHJnQgfB9v5tMuvNiSmxqcx+u5BtLzyNoaPtaDWH4ZPaaV79Xamr1ICdckn29YD9bfqC5UMkyfxJFpffQtTx86gRnWnvNRoabU0Q+8pOD2OiwsxVx8WhsngvLkFsNHOv940fFCEtyhfLhuFGfdBRrDXq8KFntXoMxrdstHPnDmP08+8jC4KavQN0yndspNSB7dQlPOTs5CbK8flhnJ9YrvesE3VEHjmrjPxmkWad6RQvM1g5Hw7TpJIRc51AuwUEYkjTSEx/NZudL31HjtquuNIPOdhCOqY852pFQYGKhcREZlL4oPzybqYf70ekGbKhEfhfO7t9/DeT59FrKPHEC8Tk6SFiHQmi8TwONI9w4juP4GJdw+hPsp30+eVxyJID04hceA02p57A+2v70aGhLCiosIMhET6RFgiDLeLhDHZ1Y/jz76Cmd0HmbcMQFrONONjHJiK4Oy7+zB4tg1BiRsSytz4JE6/8iZ6XnnHqfeJFO198KaymDp5Fh3Pv46TT7+IdN8QSunHK60NSUWqrRutb+9BemyK5cH3YJnEI1EceHc32p97CYnTnUic6SSBOo/Ym/tw7B9/iMPPvIRJkmVvlOmZSaGIyQuQrCDCujI0iRiF7PEfPo3uA4eYP7RnfbEy1uTjbQpDAGnMUIZl20GSNX7qHDAdM9pNabtM/V1AllXUVBvNZVtbG/a/twcH33kXbafPIEXCXVNeKXWgU1Xy7m8a5me42qIGGEyING4dTO9Pf/Qj7N/DOkD7EtbH6ro6VJFQBvg8EAiQJJaTrDWgsWkxfBxYqkg/CMpHEczKykoUF5OkE5bIW+iX+VhDMosuDl4Gdh/Cogjr3/6j2PvT55EYm2TT8BltJ5iPrYeOYqKzz/HIsI2WOR+OuaqOmThYryen0cL6lyH5g9+PjMLg+00Mj+Lou3sQ7RlkG2HcbB9etWMZek1z0HRo3z4c+MnTOPny6+h5Yzdi7WzrgqnHTo+ofo3DBrZ5tnuGkejsxdmfPY9jb73NweIUujgQbHtnLzA4oc+uw5tWzSGYRg1kdHS7dMZp3ju9C43CN7MLHLCzb2gj0Y+3MW7TcYqEOmHQiymCD9RourhMKEdvIRT9TUmCbSkfhFucH9cdV/0+F3pkF2Hgn4lj8MBRTB09g4pYBjUb1gJNtewUOEJUh0VcaZRXl8Q5X063dzHYJ7peXUw3AhqpU1I4Apf/jFxhJ5dmPmpcHmCnGW3vZmc9gC2r1iJXVIxEyxkMvbkbQ0dPo76mDit/7klgdTMS3hxSHq+j7WIws4ZRyMZH6WDXYOnBwvllbYxP5/YycGWuLw4z9SyNJDv8E6++gTSJ3l0fewIoDhnNiqBJ6CyF2OFnX0b6wCkU9Y2ijFKkuHkpUiOjGCfpGN9zCF0imKMT2PXQw1jz+acQWr1UCxyNYM6NTaPjdZH0LO77zGfhmZ4kcWnH4pXL4aksZx3m21C4Ztq6cO69/Vixdg0aNm9g5AGkunpx/tW3sRQhbHjiccBoNEkqJmeQJSmcONGKDStWYv1nn4J/sT6z50F6YAR9HBiEfX4sfegBoLTITCfWVVUZ7VX3sVNInzyD/sPH0HX4KHo4uCguK0NtVbURiOWpjNFEiaRm+keQPt+Jcba/YwcPIeXzYNmG9Siqr2GaPciy/UlMGq2Oud6eUP3TzEhmgmWx5yDW1zSiZstmeEpIsKSRzCdcF0tMdV9WX4dV69Zh7YZ1WLN5M9Zu24qNjz2C1Q/uRNGiBvoV4XYGvPJggtH9LYDam9aM1i9txtqVq1DL9G3bdT9W3r8D/qZ6lDQ1YMn6DVi9dQtW3rMdy+/egmVbN6K8UTNE+enmiyTdai1lghxoVldXIxwOG3u1oUKtpviT1vamWJ/f/cefYHlZFULpHE4cPYaGlStw/+c/CyyqM/memZzCuROnsHTxYlRuXo8c89N8MIxh2KSIaJp+hX3NTEc3Bto6sfPeHQgsa2afxjbM9MTGJ9DFtrh15RoEFjVyAJFGlgNITX/n0klU1deirLjIlNWiQBg1Hj+WbN0MrF3OwFmD+e6qx1oH7dEymmiCg7FzOPXSa5gYGMLW++7Duod2wc/20XbsBJaVVsDXwPYWdpZxWZIpgmn6Ov7xqzwYqC8uMuzMzGF6Bn3HTmNZRQ1K79mmDQdmiYrJW+ah1lm7RJMorFBi4zmpl3Vv7fjc3Otn3up9uJj9DcBCUV0qabcEt1VirgH5jFV7sriWV9POWE1jBdjohw4eR+p8D+r8IZRtWgMsX8zOgeF/ANFcyD6fzKuC3k1GnekHv+e1xHT94GgDnJQ4Sgvmq8bbtDBkXTaJOAIzCYwdPoXg+DTq6hoROXsGLadbUKzONxJDUW0VKu7ZClSWIZXLwEuiEWAgZpkRozD9gtZkDYwiS3Jl1jtKgCkCCgmlQrfvh3Hg3F4Grsz1xWHPvpSGZvpsG6ZJHNc++CBQUSYpYeqe6tdU/xBa9x9C9Ew7wqPTZvo4MjKE9nOtGJ+cQEBaXpKySgrf2s98AljRxDxPUnBQylDIRA+fRM/hE1hJghbeuR2VFNCd9FvMawlJoukvg35MHz+LoVPnsGXXTviWsH4nEphubeMg6zi2LlqCwK5dyDGzk63nMbR7L0YodIv8fsZbBW9pidFcJTu70LN3P6ZHx7DpwfvhXavwmT4KRH9RGEuWNBtNllBOElXaUI8lm9Zh5ZNPoH7FMozNTOFsayv6OMDoP9WCMYY30t3DQQWwcsc2rH/sIRStXOZUJJJXbS/SwEJGuB7lcr2htqp0SfjP9A6gd/8x3L18NbBuFQcUTLk0z8Zl3l2+Xqi+Gs0cBwy+6gp4G+vgoUFFqTMQsWsa8zJPAwYTju51vZEwCZ1v+EeG6QlWlKOSgxI/26zqlmmk0myr3Ayp1FWeCNVTQzLnZofyT2YxK/PzMPlCzLfXb7Pxh9fI4AiG2jqYL14kmYdL77kLyz75GNDIQUqIaWD+pSIRTI2Po5H1srihFlmmVSE7/ZSDOaLpQXRoBP19vVi7aRN8JMjKccWpDXFDbA+j3b0o5mAqyus0f4+wrWQzKZQw7MrFDWhYvRpliTQm2ztRtfUuoJlkMS0dpGYD+P4zMSTbe9C35wBO7dnHNlqE+554DMXbSEprqlDNsp8YHMIY22VluBh+abXZz3lJQAPKd6YjwHboS/EtOHrJTsYQOX0WY+c7UFZBt6kUutkX1AaKULqW9a84gDQ7zzRfWG1M0+wu0czDVC1W2lQ8wZxhR6O1OnlhZqBKuxBkfZFHNwIXi+omJ8NAot2Jc4GYb3ZibhT4HuokNGWgt1VncS2v5nxzhQNfCuuBg8eQ6R1BVTCM0rvWkWguEndhXftgojn/2UJ2isnaFd4vBAkudQiOO0eoLOz+4k9uJtQRzxoNDGV4r08wSmCE+CKBON9oIoIIieb42Xb4JqYwkoxh2X3b0UCCNNHfj3BdNco0CqeA8KUz4FjefIHRlLQRPBQyQ6PoePlNjO87ippaCuUqkhpKiRw7Y+VYoQCZw5Xl0/XKVWctXgb+nBdTZ0neunqwfvt2h0j4mDd8T6W5qKgYixoaUOcNITE0hoplTai+exMqVi/DauZPzcaNzJ8+eKvKULXjbqA0SMEhYetH/MRZnKPQqq+pQf3Du4Bqhe3BcE8vIlNTaFjcDE+J1oR6MfDuPiRGxrHsIborKaLkyWD8+Gn0nTqDhvJq5GIRxM624NzBw5ik39Xb7kYjSWL7QB/6zrRg6OxZdLSeg7cohM0PPQj/5rWGSCHINqIpXhJDb1kpypcvZZrXoXL7ZlRtuwvFq5dz8MA0NDCNG9aglgK5nAS0hkRl8brVWMJ3bdh1D4q2bkAuLNLCzNMn9wgRALPb3fy7PaF2KiitoyQYQyfOYMXqdfDwPVWBs3wX1QXjRiZ/L38iOQ6h1A1tNKLSq7MMjSZa1nmSpns7eHH+3njYdyuEaduFT5g+DTa19tEMnpgRc2lnGHl760PWH5R+25/Mh7FjXCKFoZISNCxhW2H9WsIBVvHdG0nWVP/pME/S/ewX6hc1okza4bA2Zylz59Ul/pCNsj5EIlpeW4Mq1mFw4GRSzbgC5eWoY92eGp/A6MgIBvv6MTU8ilQsYdyXkiQqfMU72XIOk919qL1rE0kv+6gkJQ15TGpkErFDx9Dy3j70s54sZ7te99iD8KxY4rShogA8JO6NbMttbGf9x0+hjrIpnfMhG0/qI2HIRlPIRJNI0yQ7+zDFsE4eOGS0v9VrVrMOZtB59CRKSUIr13Kwk9eoxyhRRDRVBrcd0SyoShfggkK6zjAaTf7LkGSe3bPfrA0qb+ToO9/xmMrM64JpuIyE2Xe6mneQ30Ij0bdQeLq/mvCvGAWReDQ3YxKTt7TPbkpCbjD0Dvn3MCNdERl1ZPNe7kpfVURTwsEfiaObRBMjEygPhlAqjeYy1jl1aoYMMGs10JnX8Rn7vBHsU10LXRYSRz2Z/1ywYZj6T+OnhY7AUZ+5UIfrYKGQbg2UfpMS3pijQFJpM+rWtE6KBDPRNYDo3kMY4Oi7lJ3iMo726x+5H+FtG5GLRtFx/ASam5bAU1WF2OlzmDjeAu9kFAGSMPaiCpTEKIeud3bj/KvvItc3jMUkZ56lLCcKhxQzS2lYWPN18Xyythe7XgtU5iptH+vq+KmzGCL5W3///UCZNohQMLNP05SYLxBAsL7WaHwHOzqxlMLH/8RDCHOwg2UNJIAxnDlxHJVV1aigcNImGS+JeJQE8RhJd1FREVY9+pDRdCLMGlNeZrQo5ySokhkS1BrWKQ9mjp1GfGwCdXdtRiYYROLEKZw5cgzVJOzTTG1nfw8i7GbrVy7HuiceQ5ik1r92BRpWLkM1SZOPpL553RqsePgBeNevdISYNG+GVCjHZFhOEuaa8vPzt/pt7dKVdkumOITQkkUoW7EMZWtXIbRqObxLGx0iyjJO00+WpFh5ZzSZCtewMRpdbkPYuq+kTvQN4szRY1jCsirigAHFQQ6CmAf5Nuy4m3sR61evqI1fkm/SPqleyJ3p5ix47wy3HHOjobRZGTffGMJLIwIpN+bePjf2us65L0yv7gt/XynM8UIC61WwrgahRfXwqP6IrDFgwxHUXxNaj+krL+EAhiROmlbZmb9zsL+9FAbeUNDZZKeNS3qgcBQfr0VsJ01r1mAJ20PzmlVYvmkTFm/fhtKVJKVBygnWdcmTMfZdqZ5BVK5ajXgigSQHmDPHTqBj9z50sM2WVFfh3scfRfX2LUAzCTAJptl0pMJmXfHyeV1dHQntKAbOnEPfwUOYaj2PCP2OHD6KsaMn0HvgIDoOHUEsEcdKEtrmXfchxwGsh+1nqL0LEyS6NWzj3jq2W6Y/TJlZ7A3wykH8LSOaTpk4UEHxYq1MXuevWoOle9P48yh0d61QWDoeQQt5UzMR7P7eTxA/3Yblqyj4tTCY5Z3Oq+PzVc2J2JoPgMK36RUKf19O+uVWeWMaFmF/z4/+fcmRw8uJ4GqgcJmI+OQ00vE4/BLKhQm4UfHeSBSmX+C9yWc2Fm1S0I49CSF1ZHaEb3HhrwXKt6AsJMzU9fhmYug6cJTEJoKSQAjl61c5Qpt1TUJPcRtZl/doyGC+YzXPaPSk0BRC56OJ1MqfUVgozfMSZuin3k8dG0fAyakoR7EpymmmUB1d3suFYevXhTY3HUyUKQfempRk0hhp60DXvkNInOtA4uQ5dL35Hjre24upXpLNiSls2rkD/p/7JLC03mjEIq1tGD7RirKcF8MHjuDoW++ip60Tg2dasbSiGt4mEhE1+EQKZ198Dd7BcSyvqEGORCe8ZplZIyghbcmJxYV3c79sRlrbhcz1gAYYKnOtM50gee7v6saGnTsdoklinKZgEaFQmWut1fDpFvR192DJfVuBxTWse3wj1b9oDB0k6EWZLIrLqpAmWZw5fBy7X3rFaDK2feoJYNUSE6ZJPQVeGYlrdnoGrUeOY7q9HV4KrdjYJNPQBc/EJAaPn8TZ06dRt6QJmz/zSTQ8cB+W7tyOxp33oGwryWwTBWAJBaBWMtdXm/Vq5SSF4eXN8JipfxUIEy2hroGf6q3JPL4T63tO0wFmSqAwP3mXnxLVMTSGeGoNonFA/3zXNMNUfVI5zp4BaNo4jflxe8K0baWZg4AiyqqKxnqEpdHMT+Ea5F/BEk3Zipjomndh3l2lKCg8a2+Qf2bCMBY3ForLpqUQhfHratNv7ecb9bHz7a4WNu9MHyxixv86RkvkVmlQek1aeGPOnKW98lTnWhqonsov7RVSodGw0Ghf5cYoMxiS7vN9sJ6ZARTrv6eqApDReuuwn4MJDhw5uPNG4xg7fBKJVrazSATHD5BcnjyFPg4ySysrsf3xR9D4sUfgXcIBZCn9arDJOq/lAB6PajzBaP3VlWjavAmLOJDO+QNKjunf4ukkMkxLqLQESzatx9rHH0LJFrbX8mK2nbRZ4lIaKkIf+852tvEg+1w/B5upqThS0zEkh8bVVvVWtwAFsapQjFDkvYpC+hynEpksMGRTdyoonfXFm/zza4fiFNHUjrWZngG89v/9X2gYj2Ln134ZUOcb9iDJkYOgE7GEwgy7nDTIvTVOl+dUTDWGi8HGIff5btJcrVDTX47r8+701+YWYT0L1yOTCqD8F2nxpHM48NyLJk33ffpJ04GrBB2t322OwvyxYLLVLdh6pXtTPrE0Bx7nEJmaRs261RSAFLpibvk66OT8nNFvx850IbxzoDvllQ63DvKJd2AMe7/+Hfja+1EfLMLSz5MEPbaDkUrr5KzpMYKUcI7qYWhs+WaRtfmn8BmjysO4ogumyUD+aHIkCY5XupCZqzAKnE74PJ1BJhLH6KETOLf3IDwcXd/7qY8jsGY5OxvF7bznHOyb3kLwHdTRO+XFPoEj+NPv7TFHhOiYnSqvHxXl5dh691aUFJfh+FtvYsX2rSj9NMlREd8mk0Lfi2+h40cvocQfQhEJ0lqO9lFZjjMvvIIa+q39/KdJfGqAzj6897/+BpXTCTSWViC4aRVKv8iyqi5BkmWhcvIzr5Ujmm41MHl8kXy6wVmXZOTqz4oDQZz7wbM4/O5ufPmf/3OSyFomMGPWlaWY6mJRqlgKx37wU0zxHR/6lS8DyxoRk+DwBuHXcS8vvYm2N3ajRtNoJGtxtvHFG9di02MPm/XEOR/rD/PaeSm+tMjN8Dh6WZfazpzFyMAAg1zMtITQ19trpu23kPDXa3qvttJoVQyUX6auk/AxCG2Y0wBPItB+btLsbdCN+hcanR9ozyw0ApkXpsb81F/zxPFqLLQL1nxViJYOPXPaj0k5nznt2fnthKo7mdsTJstoLkilKqMs2XFZBY2F7RvMX9XX/EM7YNNVeB/RJGw4s/HcQCgtMvOhuAuNgc2AhXCDEq1gZfIU0siI+XVNMtJsUlRfzXqs57N98zxcKu8VpHiRwnO0uGwTvFd/k81HGkiR2I5MofXvfojowdMIc3DW+MhOVOg4JBJHrcE0g2I/+0mOLKW5ViwKS1AbU1B6HyUjwAZo6oYstBNIbcMSZuOArjVrQEemreq96CbAkFLHzqJj32G0HzpmNi55gwE1K3OG7q2fOmdCnNfQW8gwE/NTld6Mkxlm/ZWeseDEsM0t/+ipfFwrFJ8WzycnptC3h8K2bxjL1q1lx9tshLOmm5Su/ISm+aerY5SGS6SCTvRUGe40Ivku7NAuDhM602YIhzpeEyV906PeX9BfHQFhyJ8pdGN9IRyn1wUKXvFoWszHtFVUVaG0TudvsdKZF3p/R3UnQFoe1UOVkbJL5aSdeumWdhz57tM4/c4erFu6HGisZ6NnfaFw03sqP1QnTYfCH8obk0d5I8yVO+3YKHVUC6ZiGDx8DL7JCIp9AVRoEb80mhKGKl8JRhKodDJhpjmNRpLG5C3jymrHH2+VDtUmxat4hFwyheTIOKbbe5AZGEUmmoIvHCaJnBvaOBtmGGYijb7dB3HipddRnPGi49RpFJeVombzBvOeRvvluMxDd3O/bgkYvfPFG6em6ZDl+ro6bFi/HneRXK6/fyeWPPwAgtu2IDc9ibOnT6Jm5TJnw4emSaNRDO49gti5bqzYsglLvvAUsH0ziSbJY38/IoPDqNIaPw4qcL4Tg/uOoIIdqfK6cuMqeLSrU5pnacdU7ml29kqPykgwV2vmYQGr6wnVYekOdBj3+Ll2DA0NY8P9HMCUl5qndopPAgUzcQqFo6goLUP9PXc7mhPWUvOFEb5DfX292ZRTXFGOiubF2PrIA2h87EHkGqrFrpHk+5t+Ry9lNWgULuUrlmHZ1s1YT7P43u2ovXcbVtx7N1bu2oGS9RysMZ+NZlESTXklr4ZAsqaxczNfU+HVfG2IYZt7dXoygvJQ3o1f2TkWeetZY2BveHXsnTZkwnWs879pGJ6uDhzXdwpUpkYzln8B9TWFMHmlK42eidwYY2wL8iHvrhCyeb/tjYFJm3N7AWwaLkjLQol634vnr9cRNg3KL3tvb0z0ykPnv7GQnZGZ+r0AnHo3V38LIVv51XNDCvNhC2b3tzr9/hEMHjqO6mARVnzxKYQfuY+D5DqSzHJki3WgvNqq5IoYjOPZlLXCNr+cIGWX1YhOrvgjxzaeC/KJlsZIdsjkSaZNhozSpf7P11CHmtWrsGrbVjQtbUJV0yLUL1uClZs2mLBvDWwq2UAsSw+SWAZTZMfJNDITUcT6RhA734vY2W6kxqaNUAwwB8yL0et1TzyFhqacdNhxoq8P4KheiXSog8iCjK3JzlV/rc0lwffTdJWPBeIXseX9QpgNT+4lvFIUDpMx5kcEmfEIvDMJ+FN6Rlf5MDTtbzqShYO8uP1VwFkkrxugYeNaNG4iIRd/MZY2p+5MqHwlqGVE6tNDY+h+7wCCPcNoRsgcbq2H9sBrvayPdcXs0CW505dYOPw0WaF8kDF1hqTRR/sA63ZQmwG1e49uVd/9NAojn4H0RLf0mZ2cNgv8kxz06PBsr4g93ejYmtzoJDJjU/AlGY4iyHsVdKvjTo6/9AYO/ehZ7P3xszj63AuId3aZ51rLKAGjwYlcJzp6cPbN97Bx6Urc98u/guaGRkNUTU+Sh1JnMHtza6FkaGCoq4xG/d7SYhSvWoagNousI6Gs1BrLJBKJKDJ+H4o0sjfkhnU0ksAMifiSZUtR87GHOaCsYwhRo+3M1Vdign4wOcnBAK8s8wD7nQTJqb4s4xH5DHlZzNo45EWIz7IDY4j1DphpdqXIDCkKyuRmQtEaYcQ6VdRQi+V3k0Br2lmkLv/MDFjlMhZHJBpBCYkkdOag6qjHhzCNvtjjqatB48P3Y/lXv2CMf8cWQxLTrIQpretiv2Om9vL5amB2A/Mapv/FOry5iM+YLzVMQ5mW2LBvZ7lo2k9aaWkZbTmaZDnJdKB2MfvAgequ1dap6lso9kJzQTiE7NRqlTRr9NsYpl3G+LsDoXzQ2a+qfWrVhfkyHzY7rbGYzbc7GfPK/EbA5pOtOzbPTBnkr4IZQ8moXtm2sQBseNYUwtoV1lsnTskC/lNkmp4+24GZoRE06fiwVUtpyZrAMWOGRDHuySDBtqrlXgpL8w+OURhz72DfR78ylG9xuo+xbcf5MEHbODM3zrdL8KoNPuY9+X5GuaJb9gHGlDDi5Y0oevw+1H/+42j4hU+h/FOP5MO+BVCdMEZTIBTUHpKnzGQUkdZOjLx7GKe+8yMc+sZ3cPSb38fhb/8A5378PBKn2yRVjD8zhU4iZjqja0DhygEjfPm7vKwMQ4NDwPi4iUzaKv1T5opGOD6UvU5aZG8yfiGYUqBvqZL5nj6SaF80baaeF4KxNXEyTObH1OFTaP3Jc2j59o/R+v2fYuTNPcAA00UCmpcdl6zINwSKV4akRe8mBZ3e3zaGOxHKQaVdAwm9iw6tHTrdilh7L1aV1aBWu2hLJbDlJl/aqnust9Nn29H95l5kOzg4YWYoLNvp6AsJiCaQJGmdobtIGwdNM3FIm+SNp8zAQ98510G9RljLsG5Ee4dw+KcvYKrlPH/Tju5UD0VSu/cdxkHWCeiAX0VEaxWH4tWBwt0c3fYePIYty1bjsccex7L16xCURosJkpDOpFkPlbhIDCfffBfBqRiadtyH1NAAhqcn0bxiuULKh2lCnYMsbyEUvZmWMnckmPwrAi6yqS/6pLXjVodIaVo2l0YP30kaz6LKChYq3yUax+iZVkwMj6B2BQnpssXIlYcQDTIrOWIPVFciwt4zPsY2JtUyy8gcnhyZQSlH6NBO0izjMGXB+AbHcOb513D+3QNmnauSpbWC+RpyU6G+TB2/OTia9W7xXRux/VMfd6aoOYDRETDqM8xnB1nPpNWOppIoEtEUWTRgiWsDgzG0Y7XUFHmO5DIbEDl0wjFn4zlF4PTFxivd615+tSNcQSrCcMAhiDpPkEQ0w+cSZs7B+DJONTZG7mjMDAPLyxppYo02VnHQSMNpCPXFoEcXPNYP1ZZL+LlDYV+VuT57bwnOQkRn/rNC4+LqYHNu9rpAfhbmc6G5EuSbHPtAtpx0GmnKh/bX30NiYgZoZv9UyoFdgDWB7UMzAyHKFi35CzFlIpiqIzJOv+lcC1uFc5+jWw4680YLuZx7dQc5408wGnEa9XVqr1qSk2bcafYXafaRkn2SpplcyoR785Dvjyz0cp6cFp4nEKVA733hdez9hx/hFIVfcjpqTvhfsW4dlq5di8H2Tpx6413z5QOTSeroNW1yhQVlYQpLJp9Zgpl+oCkvKzffgsUUC48OJZTNhon5L5CHM75e+KkZfdPoRH5pp6beOojE3uPIDU8ZD5bo6q+MyRMRaJLMiUMncOiVNzDQ0W2mSqPjUzj2xjtInTzLgJ2iWyjOG4rCCDVSYuevNVWydirpnQmlXQ3Rrg/WF2SiA8MoIZEMJ9JYrE8UaokA65uPlcYMSvju0np1v70Ph59+HjOtHWxxTgaZDQbMDRHJaFcfjj//Ct7+9vfx7vd+jHPPv4REWzsy0RhSNAEJ5iC7A9VlkXcNviYjQP8YyhMMT4MShav4mBaR38i5LnPOociOtJSqy8r73PCY+RTb8vpFqHv4IfjuuRuLHtwBX1ODqefSBHp1rlpbLzKnOzBy6BTuXbeJHVQF2vbvQ9PqlShesYJxigLMgyxo9IbOW94aqHNWe9Co3KZRk6xZdq4cziHJfiGtPEnEMc38DZtd5OyAlc/skHuOnEIynkB42RKjeUuxwDP+IP17UNZYj9LFjThvdly2Ii7tMfM4XF6Gii13AToA3ONHgO0vNTSOrjd2Y5DtsV7nyRlypQkp5k++Xd9MmH6GV1N/2TZzxWHkyvjeYp8FjdMMlXmvOlrZ1GjO+jPCSe4E9T8GJJbMsyTzJc48jfPdkvRnB2PGFX8bgWNqhMJVJLrXU17pT+UiIZSiY7P+kr8FM0Vu7uZQ4PN95kK83+ajBuW0hfLRmjsdhe8lzP99u+JSeX+lhPJSUEg6ASLDvql3/1HEuwfQqE8/arZF+0nYZk0LZX+gj0xoQChyKKM0yv/FUiN761bE0iGXhUaaUGeJiQ1D7d8OFNO0VR+cZhpSNAn1HewXb129tB0xO7XBYydx4Ls/xKlX3kIFe6LHnvg4dn7ly1j7lS+i4TOPo/nLn8V9n/wY+to7ED91Rm9Df3n/F8sxYrYr0s3sj4Kf6pgLnmkNlgRYTSWFBq/Z6WnaMgKSWufoFwk2h4goWmM01WnCMN3ubNj5IA1UyXQW37nX38Gxn72E1p++hMixU06PyrAlIGznarRWRFLfYX7rPTTU1OJjX/oCtv3yL2LHFz9rdhcOnWt3/BIq3MK4bjhsfuevJs3O7Z0NvojR9sjoNxtyfHoGkYlJxCankQkVIRGNI5dI0C1Hi8p4vniOZDRypgPFUwkUJWjJeqk8MY0ul0ZqdMp8gm+6vRsbV67BiuUrMDw2hrb29vzaYDZdHcWinfsimRLCvE70DZjv1pYXlZq0zAp/Eid98qvSwy4gp5Q6ua845UaHN2fGJrFm43qzRkfTlpmwDzE6TegF6TzW3Y9TP3kBk6/tQUMsi2DDYkRefRW9gwPY8uD9zpmLrM9aA2k7CL2PU0f10ia2WwK9rdLkZyeme5PXTKvu1QnazlDLTtKJJCLRKIrVnkU22X4zgyMYZlmUV7JT1i5nhqN/If1luRbV1qJx3Vr0DA9x0PtdnHrnXURI/HMsn5lYjHUiygFfBDNnO9D2wqs4ffAQNt5NMr91iyGtIlpm/bJ631sAxSqjHNFh5zIZEkhnilq5xRKU0NPUf1UF7n38EZQtbzb2hojLswY0eai/k9iyRu5EyKWr0NeXdJWd89cxF8KxVYhypfB0r5p7pUblbs1cCq8W70+pg4vZ317Q+1vzYcL8d7pT3vNi6VRbu14kczYOygdv1oPBE2cw3tmDyrJylNVzAFytjxaop87jItHadmrNxXDp505q9M9Z68nBv7Gx2lD1w869jJUjNwcFL67MYvxk47145/mXUF1cih2b7nLsV60E6igcSvzIFrGLCeZQvGkNSmqrcO7UaQrbFHtSemZ4NjOsEey9OkGzA0y/JBzNxSF1evGcphBT7HBFWlk+WtSvz5UVUahIyySSYYQ8kZ2OITUxbdbLOdnKbjObMWsotSbOK3sGo1dU+DKCBB5iSQySIE+2deK+HfehjB18Z1cn48xILhHqgulOZDXN1A5N4sze/WZ38sYHdwErdbgqU1wUMtOAmobXu+Q9m1vzx9wQBfl8I1EY3U2K8vpjgcQbsen1ozQYxlR0BsOJCNpOHsfZ7/0jpt7da7SY9hiK+OAQpliHK3wBBEIh4zthahxrCMtp4Ow5THf0YPvd27Hsc09hzec+g0d+5Rex4dGH4SsqwmQ6gYy0ThX5DRKsd7mZCIbbOlCiNZ+aUldlFYNi28iyTmq6tsSs8xQBVR1y6o92Xw90dZnRbvFSkgct4mb7SQS8Zo2NDtBV+vrOtyGnz/Cd6URJIo2pI4dxsOUENj76AMKbSVDlj/EpVB2DIV96I7UnHd9h4qSdcCs0d4LiNzEzfmcK1ZnS8fOv3xA9P9KTUcQiUbY3kkp9qo0YGRvHDMlnpabBzcHrGqFresnHcBhCwI9F27bgoV/8Ihbffy+aHt6JTZ99EkMcab72wnPY//ffwtt//g28+vffQTcHfFsfegCLtZu91vkOuMkPmye6Kmk2s+z1BqFQoCkFmgKXmaN3Ts9lEqL6y0FrUUOds1FI2sz8o0Ko6jn5qquExpxg0T9zbwbgTpwLQWHYKqzhgcIz0chDQbSXMgYXRDBre5W4mP9rDffmw6ZY1ys1gr3eDrDpUn2x94XmkrAO5l9vMm5kMrLkJz72U5EzbTi/5xCqS8vhpRwp0TmcOo5Rg0UOImf7ZUVekIB8k5s1gnVSaAR7/SDInW3fTht3TKGd7m8qJLz05QpHewP0tbUjOTWFzU9+EtWLGtA+0EsBGiexYlKZwjSFXkZqpuoyjrybMDAyCFB4OLnEMEyImjqUKNRd/jcz2nR/7Hy1fsAoGGgnH8azCiKRQZLCKENhqyNP/IkkI0zDy8IKBQLIxJkOkU+6HW89j1M/ex7Znn7jXRAp1sGoXS++hlz3gJOcfBoMtD5PWTw0is6jx9FYW4vQzu2ofWAbilZqhzE98LHkg9aqepUn0TgmDx1F67ETWLF+DbCokflARyShsdZziM5Mo7J5MUtSnhwRMluI+WgN9L43GDY6RXUToru+mJ9o3pty038NDlgW1SWlCNVWo3rnNmz47CeRCftxYPcegMTSrMfjAGJydBTRaZaJjpLQkRKkY7FM0pRJlmXZfvwUqotKUEHygvIQslJcamMER6ApEsBRug1o00RNBeso42U64sOjmOjoQrHSoTRqp58CZB2ZIQGN9Q+gSHWFv83yBV016CHhHB0dRkhfi9B3m3UmIv1qOYBp7Cow1TM+TyYTiE5OIBqLoC8+jQe//PNofGgHcqUBZDkczbL5iWRqI1MmlzYE05dIIT0+xXd38mkWGvTJFNrdBChrzFpB3jlUR4Zg1pBhIcEBYIZpNkSTnbEe63BwT2UFylYsZZ9CcmhOlHB8m/Tr0GTal9yzCet//Uto+PJnUf3zT+KeX/oCKjesxghJaozl2rxqFT7+S7+I5ic/7mx0KQ4ZQq6z6QykFSzQDNqk3UhY7YmM2fTDSDU9LSItEm3OzMsbVShzrI8GR2Z9sPIhb3RPoy5SRjVIeaNwROR1lIk15p/CpBtrZsMpMPrnTJVbN8wQ5cmV5Itxqz+FYV9JAMJ8/xczVxrurYFSad/I3l+JKfR3u8Cmq7AkCs0lYR18oMMbA5tGm+5rzV91SbNGfX6afXokjnMHj6JUe+yq65AsKUIZ+yOUsR8ybXeujc836unm29r0FZpC+wVR6JhQbNJi6jrfj43nFsBmHZBKp1AhIV1ehlQ26RzBYg7UpZCj4NQaSq0lEksva6jFVCRidkuat2HGi1YaTaB+8l7W0uhIU+lL5ZwvhVAIiniasCiQ1S2mpyLo3b0fLc+/gu6X3kS6pQN+bc5Qz6qwGLaZKsprcPpaWtH61h7EzneZ9Xt6pA59tLPbrB3NdPbQndxL3Cg9NLpPZxHns8TUDJas0TmMlSh55F6sfPQBdvAqFgf6kodGI5mxCZzee8Ccj1XTwFGKFvbPxJDo7sOJPfvN569K791GAaE3VcHyqiQ7yb6pMHmdNyY1tyAN1wWsHxoBpqUpjmtXP+tlazs6Ws6iev0qVP/qF4CffwKrHtkJ7ZbNDQ6zDspR1mgESzkoqddC7DoSGhaXl3WMdAXRrn6Ms9yWLVtuiGQ6mMNU2EsiSr/RCDKsY4HKcpStWUGiQvKnAVgkhqlznQjNxFGknCUhRIpGdW58Gr3HT5tTGYL5kavaiaYws0x7hvUkPR1FZXk5B2okDySZ+tiA/nHYhJCpmx6suudubP34o+ghwWxYvxobf+NX4du6AVmSzFggi2m2OKXFS/ehdA7hWAbBSBqxU+dx4hW2lV4OtrRulP+lxb/VUN1zWkMeGlWq+ZFkBvxBFFVI28j8IilvXL8W93/p59F8H9tQEQm5yce8P0H38k6Sr80yOT+vZQHUPLwDj/zW1/CFf/1/4vP/1+/jnl/9KrCJnbumy3VkEv1og4sOOzfHzDih3TLYPCk07wPTa3oqPlwovVpLaddTmiOGZKf7AlMY7oJx5GH9XsqNCxeFcOuKA9s2pVAIhMOYokyZ7uzDiooajE9MoFjHMOqTkuROpuvLc5gbDcViY1JZze8PLOyzWwBGLWLFVCaZgpksBS87dZ/RzlDY519hdsJHnR1NgCPvoEbgslRm5o3TBTrQmZPZSALRgTFE2/uRG56ENyFtYX4aXaMC3g+cOoN9L71KotiD3nPtGJWmUgSVQWqdpAicDsg2o/1kEpMkF/qKSIlP6h5GpGcs+DSFmaa4/dI+6ViYFA2FtFmxoHecmkLbidMoLS2FX1oU7QClcNLZVnpH52XklAKPYUz29aGvqxuLK6pJvmuQHZ1C9PAJtLz4qtHebHz4QWfRL72ao0UUhNIjFJa07G8kGL5IhvLKkI0bHd/1RD7bTJJVjnoHksYg81HHDyXPd6Pj0HH4Q0Esf3AH0KCRIgnoikXwl5Vgoq8faZZLZnQGgfEp1JWVo1rLPTQVy/pVQj6nAU62f4SDlyQql7ITKA87U9eMTkcaiZEWcxBRV1tDgsqy1k5mln96YBjDp1pRGSyCPxg0n0WFjk9Ke5E8eQ4jJKGVNdVIqJ1I2y4/TH+QdVtxlrASmDqqZ1pzzKhY61GUZfuJphEdG0e2OIyi++/BUIkPSWnjliw2g54E61OM4abYDnTWpzfOd5hJIdbWj6nn3sCxHz+PIX3qTGnKtyNBnZuZMbB171ZCSTImhyjT6QmGENKuarUV5k1x02Is1rmSjbXmnc0UsuC8igM69bIvYsdjiHqCRDJDp9mKMLL15cg1lhnNrzmzUANjE7ZClxfpjy8M7nbG7VJsLly4uDjMbBv7I8n6rvPtyMWS0Gkm0/EYKlbrOLdSiRTYD9/cDFxJ35HvZW8eTOKYYYZ180dlQz0yQQlGSnjB2PNBThoFk69ISXPDjl87ZuOazhbYoVvmLjd2l6+E8siBIzjyre/hwN/9AyZJGCg9DZHQGrOwdoaSIJ6nfSPJ3OM///N46EtfQMM9d8MXDlJmMEsoQKUFLdJOVRFbxjkxNoaMdqIXay2dhJAizmFqcpICLZ4XtEwJn5kpKZMqCqrhUQyTmCxqbnIIhY74yGaQonDSUR22Wpi/9BssKYaXAjAWiSC+bx/Gn38RR956G/7SYmz/zCcBLdz3MD/I7vQ+s9Bt3lywTkxQ2q438u9vtLYiHYXx3eZQSm0JiSRoSiLRO4TE8fNInu5ExwuvI8JyXfPgTmBpI7JhjhRJzgK1lWhYvQLHz51F589+isGfPYOWltN8HkAsFkV6bBLpqRhSnQzrdLvZbV6m1h8uZj6x6BmxNvGEkiQvZ9sRGxxFmb6sEhdp9KFoJo3JE61IDI2ZQ8dnysIYae8Eptl9dA2j/bX3sKihAbXrV2M8HgXMNLYHYQ6kJhlfpK2LBBGY4Cg3MxljuCmE4hwFT8UR6x3B4Ju7ceDZl5DQsV1BDs9WNeNEbyeJdTs7rTSKppKomc6gNsE6PDSNyOHTGP3ZSzj6ze/gxHv7UFNRhSc/+zkUr1zhlLnaaR63VekrWWyDnnAI9TqkvUxHOzGFKmsRRq+WA4h+5zE/8fpNY6o4jXqmGC0i7IdiNHG+e5Jt3ZBPOpJzuZWh1fuCu11h02yNCxcubk9Ipov/SLGgbncyMo3W3i7UrF+FIn2+mGJEfZW+cS9+dbvhln0ZyGQGSV0xSWZDbT3KGhdh4shxDI2PYY0+BxfyIyNlIrttaXpC7NHHOrow1NWDDffcM/tZJfNdaAaV0JS4SGL3AI48/QJqSyuQicUx1D+AJXdvM+5TuTR5nh/Z8z0kb+9g07r1KN+yyUxroqoImalpdO09hDqdSBrwo1ifHFxKgpiImensYkakr1ugioJLZUmBozMLJ3v6sG7nPfAsaTSCLCXtLKWNtJT9B4+h/+x5bLj7bviXMCx9CJ/J9EoLYtxQ+LES6fBiaWZ1YP1w63lMkaBKOxIjiWm+ZwuW33+v8zF8TdUxzxSG3tvJR12VqQxQUk7kjzdmw4qgZ9cThlQyUF3IsM2nDJUASzZNYm5PmCTnjTlInWmdaO/GqZ++gPF3DmLmdCv8vgBWPXgfQpvXACUhZEn8VVzSVVVVVMAXDKJnsN/Uzea1a1kePnSeOQNPdy+mz7Ti/MHDSI2Ms/4lkJmJYvG6dfDUVMGfziAbSyG67xjOv/keilm+iUgMJczDLAc9iSMncebt3Vi9fj2KH7ofkVQM7WfOomZ4CjOHjmJocBCbP/0JFC1djM7WcyhnWEmvD5McWB3avQclpSWorq5B69mzCI9OwD8eRbJ7EKP7j6D1jXcwwnpat2wp6pcvhbei1KzK6Dp1Ft5TrSgem0Kqqx+pc91IHm9B9+vv4Oy7ezHAQVJV8yJse+wR1D3yIDyL65ALsV4FtA5IOZqvXvxzO3RwVrPq8ekzlGWoaqiDT2tn2VdoBkBnN9p2I1J4AfJ+Z42Bc6MZDrVVZ62j19zriQYpus7+NjVrdhWiCxcuXFw1rKxi92JmayXTgxw0p6NxLFu/FvUP78p/zpVyyutwCPU71lwcTj91s3DrPkGpnGMn7QsFUFbfSAIVRt87uzGZjGPVw876RWkXQylyTp0ZmSQBO3EK8YkprNy+3RAAkTrzLWYWgHZ3a+fo9KETGD1wAts+9RQyQ0MYmRjF8p36BFuYg4E0/GRoE8dO4/iBg7hn104Eli1mITF8FmB8YhJdew6iZDoOb2UpirdtdgoxmcSZ3XvRUFLqTLuZT6jRD4cQQweOIjs8gVWyb6qDPjIfJ+kNMDwJpQ4K6+jgCNY+lJ/y9mTMtJypECprwhwXwnfQV4kQTaL78HEUBcPY/oXPo/aBe1GycQ1yTI9H6+5ojKZXRn4Zjtaymkqoo3WmIhhr70I2nkRQi4O1aei6Q5Ez8Sw/bVzROlUJ1oB2r6pc7wCYqQgSTX3G6+jBg3j3mRfgnYlj0coVWPX4Q/BvXQ9UcPDh9xoyahqmypRkrmJZM5auXY3FmzeiZOsm86ktnSc6OklCmEqihr9X3XsPfEVhtLacQVUiBZY64v1DmNh7GIffeBuV9XVY99AuTHEQc/LUSUwdPYFerQld1oTmz3zcaFKLqksxPDCIrpOnMUF3m594FMFdHGQ1ViEeieDY0aPoOMHB2dio+ZTiStbn4qZGc2bh+XPnMd7eiYG2dgxPTKBq8SJseXAXGndsh7eM9ZfEq2ZxI0rDxeg534bh3j4MsRwH6Kef92m+a9PaNVj/0E40PfYQvHxf5zBgjmN0ADffV+TK9FeEyaLbpOzVJ5BWso8Iw1dSzDRrloFtg2lWm1H9VX217c/AJj1/tY/0U21V7kU2nd+OEVG1BFPE1brNBzF7deHChYurgfohGfUqjhwiVaJcX7xsKUq0Wbiuwig6JNHU75tBsHH1Qf3Pze2dyE/YA99UOFnnRMqOX8I+nYEnG8CR/9//wFQ6hUf+5f9BcpdAdHQMiZ5+hKvqKHRrcPhb/2C+cLLpq78IFPuQC/sc7QQF+VT/IPwZHyZfeBPxE+fR9PhjOPr2a6i7az1WfuULQFkIyXScPC2M89/8IY4eOoIv/r9+0xwdlA574WfxxDp6sPe//SUquoewmiSg7CkK/MZ6ZLq78fJf/S3WMh0rf41xN2rNF4tzYgZH/urbQM8w7v69Xwc2LEPal8ZMOo1Sn5/p8WL3//obxNv78Pjv/g7jIqnVRhAtFTDZIJKoKThVDu3KJPpGsefvvosUCePDv/o1YDlJjD9Dwe9h2nUiFb2xyLSRRO8uVbnOygtrdUE6h7GjJ3HgtTdxl45defg+Jx7Vqbxxcn/O6qpgA6DU7tp3CG+/+DK2ML/u+tgj5J4sT5Hw2xT2/c1CC96IoPeTXPUcO4Wmkgo06xv3tdUsI6/5kokw9zaqtw5VmQ1IIOnWagYdpm4QcAYEGBnHqdffwcCBY0hPzSARj6O4uhKLOBLd+PFHAX0WkXW89fBRZ9NQ8xI07NhqPoOozsPDMk/1D3MgM45AMATvkmaOukTyGN9M1JzNGZuJoJak1auTCLTbXOWi0xNYfzA5wzQyvdocpC/j6IgsQReaXC4Nj3aQy934lNHom+kZrUuuZtrKOVBRHsi9wmV6NADUCmTVQX0P+3ZDvnR4w3qodHLQpy/1GE2n2mwe5qdubBla5F/JFu/8N7TOrf385y5cuHBxvaD+TMb2V7qaPkiWmrlUn5yXt1pKJ5lmCenthFum0dT6SnX++rqeR0QrlsCRl19FCQVx8733ItnWgUM/eJp2byBxrhO1dCgStf6+HfCtX0lPzFa/1mkyxylY97zwCjrf3o1c5wCCkxEMdZxHtr7KnIEn1q/vcIpUeMnzzr/6phGUqx7Q4dTFSOiIGQqhQCSBwf1HEJyJYekjuwCdKUhBPrDnAAZPtGBRcTnK1zLusmK+gAeZ893ofn03qimsqzSlXl5spsSDrBLSsHriKfSQiHlJhJfeu93sLDYbEFQRTA1irTAbPbTDXRnBCsOfM21dGOrsxcrlK+GlwPeE/CbtGtXoSCXzAXveSzurMwP9yTRSY1OYPHUWR958l69bhbW7djK+IqciWvnKWwvdFvy8MuQ9qvwqS8tQV1OD2qYmhCtKnYFDgUC/XWHyMt8gK5jHTRvWolznlWpRtQgZ64uKSG/iuBLJ1LpYljuNtNAy5pN4zGOPn1eRQ20O4a2WNnhKi1G3ZjVWrF6F2kWNWL1pI9aRjNc9yrrVyDqpjWFVZahZtwZN2+5GqUaorI8pVhMzXe+l4cDKt6geHh3Iy3pgdjizvXiKQgg21qJk2WJ4pHUnudV5mlL+55iOXEmYRJYEU+c7loXhsYRRoxmlj/9U3zxsQ1p/quUj5tvUi2rN0UvSBiLA95I2UF+NUZwsV+WJvJp8yeffbQe1FaZV6TProJVOGqV2VgOZNxf8MBYXYv7j+caFCxcubhQMqczD6ATVn/HeKpnMp1mNDfs19cv5/u12g+TFLYGTGRR3yjz9ikXRNzyESn3FI5VG2+79CKey+PwXvoxirx+nnn4Wy4orEFhBomcEpiPodW5dzufD5q1b0bxsuTkDUQSogUL93i9/AVi6yLjVtLlZwxmLYWJ8AmF98i9EYZrKmPWfkqDJsQlkY3FU6nNyOnuPYcVJ3vpOnMFiHSUwMozomXNIzSSR6B3GCImvdyaKXCQGjE6a0tf3ycdJSiPnOgyBDIVCiKfTSEfpJsV3FQMhmczxmc75Gz96CiN7DzvfrZYULy7BknVr+TyNAeaB1sxhNEoiLkKqTSN0lGa+zaTMt+FjXUMY330YLT97CUdIoGvq67Ht44/l15HSHaNTfsgIuij78j+vCqaiy7DschUlWLRjKyqWNZmyvBNIZiFERrRsQZ8sTLEu6aqde3q/PCcz0Dvna+osXyPtM1dBjV0kW8bZcEJDx1rPmFvdhPInH0DRZx5EduNSEje5FWlllchmkNV3YYN07HzrlH6li3NIXVJhyh3Dt+lSGqTRNulVOMaNo+GW0S70ZCaNZCqFFI2OxTBpM29ASAPLi7os2ac40Eqlk3QntzRZGmnalRY5NP4co3dXZybjtN3bC0quTZtNnfOujr29l7kUjPv81YULFy5uJmyPK8z2Wey/CqHn6sMlLW533NI1msooCUm/x4csSd7uF1/Gzp07UVxWhuOvvIadm7Yg8OBDqBgfx7lDx7BqyTL4dt0HHXwtEpXS+kNpfSgRymvqULduHUIMR5+eW/TUp+BduVQxQFPVZvONiFoK6Ny9D8UkgE3b75X0gSeZQmJgBF1v7cZUVy/CDLB0yRJkJibR8s57qK2tw9p7t5FLjqOzowPZvn4MnTyN6bFxs5FpcmoSJaEA0jSTp1pw8uhRBMNhVDY1ITk5he7OTgQZR5CkNjk6juTAAKLd/Wjbf9isj5O2sq6hwdEicZQSLCkjYZ3GUEcXkt29CIyMIzE4bNIogpvsHUT8bBvGSYLb9+5H/7l2cxTOhu13Y+WjDyLXWM1wmL8MKyPCw4oogiKYCuvcXhVUZgrLVHKWoYi+1oXo3mqR7iSIkKgOCk76tYjBISQiGvNh888QroLfxofePW/0T3kkImgIHu30WycoSFtptGyEiLkZmeop7ZUG618upPRWnoqYiihJk23SJf9yx/SasPLuBPPpSLYLfRVGU+EmzAIYVwzPGLYjfaBAswpmd5Dc0szmheKwfgyclFmSebuWt6mP9t6a2zStLly4cDEfTg/7fsz2ZzRWVhnzvr769sGtI5omG6VNyiLg8SM+NITDr7+NRz/2ODyZDFoPHsGiJcuRnImg9cghFJeWYiYaQflKkk1N7encQT+JFHNVGaxDsj0BP4ooLI+fOglvZAbeqkqzZtAXCJhnhmiSU/QfPQF9Sq129RrkUinE+gZx/o13kBqdxJoN6zE4MoSJjk5Mnu9EriiEtY88AKxfgaqmBqPxmhkeRZICetW2LajdvAFTySjOdLRhsqsTg4NDWL5hHZZsXAtPZSkqpRml0O5sPY+R8x3oP9OKgbYODPf0w8t0rdq4Ecs0ra7pT76PiK/W2tXW1SBcUowRhtfVchY99N915ix6T5xGHwnmWP8ApiYmUFZVjXV3b8Wyjz2KotXLkKssQtLPfCXR1FoN5Y2hUSQGqoZW1l5rZZR/GWmJRZRNo8gHfq1h32xoLaT+mfzib9Ey+37vh1NvC5/be8fk85n/1Ak4ZUAyyGcy2iAme8UxFw//5t2IcBZ2Hna9jZO2OXvB/jbh5d0VEkMbh4nHpMMxppzyjpxbJ615K2Ns2ubgvLdMnmM6Yd3muOC9Xbhw4eJDgoV6NKeHvv1AjmDFxs2ConOIiUSbvkASJNHs2b0fz/zvv8Y/+7//A3R0yit//21kSfzCJSWoWdKETXffg+OvvIpwZQVWf/ZT8FSVmF3BKZFNhqWd51obiZkEBg4dxdG330M2mUIt/W7YtQOla1ZAn/jzZLxoe+FVHCKxXL98BYoYfu/ggNnxfe99OxHcuA7TZ07i3P6jqCutQPNDO4HVS515UhHB6YTZBIRQENA3qnXA9cAQelvOIERG17h8KTw6qb84YDZuaBmAviKT6hsy2kyP1mOSeIa0QUNna0qLqXC1xo+Ex+SL1FgpBqap9r5h5EiE9YlKHaSd0TQ8SXaJjtnRhg1tXCGh1RS5zlTSxqIoQ2HqTHoEk+Mk9IZMSGN1DTVRYVnMD0bR3a4V3cKmX1el057FqntL1haCU2NtvXXwPteFD81ahQIXvFX+WCcqrkL3qsN6LnvzbB4KQro6KK4LQAst6snfXhKKfDatdxbRdOHChYs7DbZLnu12PwCF7m7HXvkWEM0Lkc1mzDTfyWdexqHnXsav/of/2xyj0rvvgJlWXrN+HarN0SplmDl2HK/97Bns2nEfqnbeC7+OCwp6EaeYFoEKSUTrbRJJZAdGjQZwZGIcyzasQ93mDUim4iS1PmSHx3Do9XcwIa0iSV1dYwPuume7Q/xEHrXwbkbfOWdgOkZJ6+dUehLMWh8p8qhNPYaz0c4XgCdBAioLnw85felImza82sTDtDFO80xr40wt4B8xC/mVhcKVJjMPQ2fsokqlgW6MP94aiImIlaQYiJYP8EFS+RgMGA2veGqQRkv+TFyyUDErELPcgIb/jbmOUPKuc5A3HIVE85qJU2EGOMHOXU0Ezk8ZFeHsM0LFbYm6eXYNULA2GcLs74L4rhp6B5tn15pfLly4cOHiQ4+bTzRtbFZGZSheSRLf++b3Md7WhZ/7l/+nc0yLiFsg4OwAJokyW/kzOZx59Q2c23sQGzdvQt1996JkcS3S2nDBMDQdbpDNkniK5Omef2SdJ2Tmt+IUgdOnAPXbp928efZGTqgd6nKqD/3ktKbOrF9zdriLmGh602yn4H8pOqVN9TNOq+rJ0K3W3cmNQxrpQ8/kjhejWRSz8DjhmvTJKwW3rPWVI7Ouknb6QpGP6dV5j5qiNn6UHsbnBMEEK2/kmG5MGnSeZiaNDIloNsEriXc6EUegKIxwfY2z+11xMhgTLY2LGwBl7nwws2fzvPB53j5/e0UoLEPVN1NNeC9jNgjxqm/4OwpMFrpgPdirCxcuXLhwcQNw64imICGnXdTkSc//5dcRSgMf03mTUgCKuGkq2ZvLfzVH2kCSx5k42t56D61Hjpp1mzueehJhnYWpw9hJurQxwpwnRf8iZyJy79O86JVpDFk0RkKYdtL00ch/lsQtL5LpRJP8DkTu9ArWp36YL+PwZjZEuyYv71ZGYepOwl5u/HxJEU7zyxSBjEMMtIFE7yHuqJACzB9mAx/yj656H+1W1m7iOM1MdNbkohFkIzGzCWl6ehrxaByRWAzjkRk0rV2FDT//c0BNsZPvJNcmOEXs4o6Eys8pQ9U9p95qMGSOwZKN6jMrckC/1B5sWzBXmksUvsKdD7euuHDhwoWLK8HNJZrzY5LUSpJdxlP47n//n1i6qAkP/NZXHRUMHetfigxLn3QUKTPLJNMUosksYl3d5uPyy+7aiPCSRgpYTcGTOImgyTsh/4YsMl6z/k7x5wmlhLGIoBHKfGa0jHKbB7mdcS7hLZJnSacJgkZurXv91td5pOmUnSGFxs65On4sFdWdE58OiRd5NM5IVvnIgVVDSfOqUKdjyKTSyMTjyJI4GlI5MYn45CRi0zOITZFQRqJIJhIMJoeEvsnOIHzhMEJlZfCXlCBQVoz65ctQe982oJg5KdLqU5rm3sPF9YctUuFG5PNc+KxHOdZaNqcM60s2lUJA3+kvDiITcDYfORpNpYJG7cGQzYUhp4Vpt8j7duHChQsXLi4Lt55opkmkRsbxv//kv+GTj38Mqz/9uEOy8tIs49GnlUTitJnFi0A2C585DZsORFI11S23Pt7QzkZhhaG9GuihDdeEOQcdG1PoVk6t8wvCuAhEMvVvjpBKsyStkvnBQIyonw1MU+cyRquZ1tR3xiGTfKfsRISkkm89Om4IZXJoGLFIBDMklIlYDGm6T6ZThiR7Q0GEy0rNpqmSinJU1tSgpJLksqjI+bKLjAiHDt3WznstEVAaCo2LOxpqwqYYMxnEz3Zi/NAJ88Wg5k3rEbxnC8ufFVDtQ/VwFvThEk0XLly4cHGDceuIpqI1go6UbGwar/z0GTz04EMoWrvU0bblhaDoYNoj2ubAEEIJVmkCRSx5b6ao5V6/Z90tLBD1XEYk07oV5HYh95cD408aSYYqumqz1CGdfGrUo3yuhJr1oRlkUySWIpXRONJjJJQkkdMjozRjSEzPYHp0zLhLpdPmnMNgURgl5RUoJnGsa1qEIpJLrbk0X//hPfT9akMo82TSMl77UkqSvc/n7dzv/NXFnQnVKVUv1pnD3/mJOalA7SRYU4kNv/M1oDJ/ssEFUKFfvOBtO5mPS/ty4cKFCxcuLsStJZqCmR6mECTRQpikSZ/lszLRONEXT+aIpm5mH4tw5smlZpul17Hu5EZT7YVwnsmNo83Ub6vHnBWes9nh2BhtqYH17aAwHk1Jak2cQzbpQkSZv/WVolQ8iXQ0gWwkSlIZQ3ZiChgeRWp0AtGRCSQTSUxFI4hpWtzvg6+kGCU1VeZTnGXVVSjTfVUlCWWxQybDIpcklEqB4rSkUb91q/TL6H7W2BzjddZ9ARawcnH7wzRdlqdzHBYQe28/9j77Ih77+CeB8Uk89/or+My//1fAsga6oxuteZY/GtV7W/cXgnU3H7ZKuXDhwoULF5eDW0o0DYmTnTbhEB7tlpYwzEsyhx45Iq8wmZoyFvTXHrYtkima50xhO35FNM16SUOubGQ09O8oTemzwNoQNF0N8onIX2b9y6PcSHCLJGcyhlCm4ylkSRozJJOZqUnkpmaQmpnBSO8AxgeGkErEzReLYrEYAj4fwsEwyssrUFFdbb6DXVRaAl99HVBXA5SIcJNMSgsVyCdAadPue+WVjlYSkdXUfJ44SqOrZF14FmThvWDDci4G8524uGNg1xebIhyL4fTXv2nqxYbf+k1k9u7DM08/jZ//dySaKxaznFlXdXJCvvCdVnPxwperwmpiIR9ulXHhwoULF5eLW0M0KamsIJMxAjMvNB2S6YhAGbMv2iRRV9lotabzULb5VY5GgBqiKXu6F8H00eiq505E+RuFJyNSRuKoI4zM9LbuRSTzZFLhmG9Xp0kmaZdJJpFLpgy5zGrjTSSKzOQk0trZPTKG6OQUotMziERmDPn0+f3m05D6AlBJdRXKaYqqylHV2AB/A0llRSlyYRJKHeyuOBWpIYqizXnoxv7IE3KDgtsLoGAKcTF3syiMwMWdAlvMpq6zzmRauvDWn/0l7nvicZR8+glMvPAKXnvhJXxRRHNJQ74xOETTKfFLl3u+Nr4Pbm1x4cKFCxdXgptLNC0YoyIVKRT3070UhPojTaS5z0NnVBpS6LiiB/rI3xqIfEqzqA01eegrOiKH+pJONp0mOUwiG0+ar/TosPWcPkVJoyA8/J2cnjbaVIWdiZNAyg0JZobhxmMx8zUeEcEZuktrE45Ip9zSTVpx0WtZeTn8JJRlFZUoqyxHeWUFwjXVQGkpYKa+9R1zHxD2Fywg1bmcTCNfyGok7fel5++Cn4NcXQILPV4wIBNbgXFxJ8GMmQTWUS/rTP/PXsXZl9/Ao7/968CG1Rh95XW89rNn8eV/93/NEk2dNSt9vzNTcOlyV+24WFVya4sLFy5cuLhc3Hyimdfcmb/6Y6UW72ePIJKbvGbPEEsaJVNaQplMkmSPJFJEMBeNITc9g+zUjNE2ekkSs/E4EokExsbGkCTJlNG0dVbPRAwZnuIK+PyONoh2Js58VhiSx+h1GHooHIafBNEX8CMQCpsNON5g0Ex1l1aVIyAiqU05FdrhXe4cNi9JHuAf/s8lGbb9Gg9hprp1a95vDorZid35Ox8XuhYWdjcf7/c3HyYxzq2LOwa29PVJU3184K3/8ZconYxi+z/9baCmHKOvvYXXfvqMSzRduHDhwsUtxc0jmpZVSnNIEpiWllBKSC9FX57kZUUcU/ydcrSG2RTJ4cw0ciSOSZlY3ExZRyamzH00GnWms0kg4zMRo90pDRfBZ4hhwExZ+4IB+MMhhIqLEBJRJEkMkDSGQiESSD+CoSA8JSSLRnoyHfoaEQWyuddXd0QiBRFD3Wuqm2Ga347Edq7yb8PQpiDeS6hLU0lqawimNE+C41R/5WIOxnsesp/VWl0DFKZN5sJwUuPizoKajhTjpqKMTOG7/8//Bw+v34Smr3wJ+s7+wPOv4O3nX8SX//2/AZrqWAlY18zXqj546tzWycK6Ob+eWp8Lh+DChQsXLlw4uOFEU4FLGJnpbDKnqd5hJE+0YHpi0kydewy5TJspbmkqdZZkmkQzTgKZSCZIODNIZ9JmE43RLJIEhoqKDWH0kySWVlagrKoSoUAQxUVFKK+oAGgPkkpDDP1+hxhqY43u9fnG+VJS5JL3Zgmo1mRKi2qfKXukjRRJ1AvY37zOTm7rYjWUcmrvzcvrvjCL888MCu0J4965FfTTmquFSGZhjHOwkVnj4k5CIdFMnenAP/zJf8eXP/EpFD/5BOs5cO4nP0PL/kN46g/+FVDLNkGimc0f0O/UiYXLvbCuvf9ef2dr/UVCcOHChQsXLuZwU4imM1XtRXRkDK98+3uItHWjrLgEKZJIP4mYX98l57W4uNhoGgMkioFgGOHiMErLS0kseS0tNWsgvdIolpWTPJJMGkNxq13YhkDmxZ6VfubV8q8nkmimsCVmiTyZlJbHgPe0MQJcVwttPbowg5zAdU7hhSTOuZOdIQDzsVA2W88LPLLP7CNd5+L6YBS6v7Q/Pb2SkF1cD9g6dqncVxkW1sXC+qZnMl5W2OF39+OZb3wTv/krXwPuv5eVOIHD3/0+B3UDePRf/R9AidqJFyl5Zj30m0BUS0UaFYqQD5nP7XrhuSe8038+M2MuPZCbfHvL+3ThwoULFy7eh5syda4oRCQnh0fRsvcAmiuq0bS4yZyPqV3hZJDOQePSLJoNM2GmjGJVkrVQutqrTbElizR8kVlrIw0F656wzzxmndocRCRFGWVXaG+R3+M+C32dSMEqWReDnpuo5wdYkB6DhSK0mO/Wxe2NyyxL60wDGt2rHl0wMLEO6McOemSsO1Pv5IbPzZehWPnbn34Jb/7oafzGv/rXwJplQHwGL/35X6M2WITtv/vbbFcMgYO1hEJMpxDUMMnvZzAMRG0zH57Io9Y+e70+6ONbaVopPj33ah1zRstb+NxP4qpEaB1ywbstDBOwc+vChQsXLj5yMHLrRsNOJZdXV2LnZ55E00P3Ire8ER6d77eyCVhSh1xjFXLVpUBlERCiez+FozmbSFIwL251T5Mz680o6oIkiBR2WT9NwGdMRsbnRZomRVIpk6bJ5k2h8JaxWaAU6k7CvNAEaFtoSIed8zllJIDtfYGZFau6KTB6E5lZWIfz3M3au7jzwLIzSzAKrha27HUtfGTrhamTeX+2njrP7L/8b7nRVWPEdA6p8SlUFZUAJcWmAqbGRzE2NoqmRYuc5SPS5hM+Dsw8MzFkJ6dNBPrIgEmD2pUGbQw4E4khNxM1x26q/isVGlqlpmYwc/wMRt7ej+mWNmRHJwFtdDOb+5z0XIj327hw4cKFi48exItuGjw+H8WPswYynU6bXeA6RkjrMDPaAJTJ/85lDJl0zv6jyNLaMpFJr2fOUEIawaxwTejO1ZI9SxRFCnW19h9kFMZ8M//5LC748cGw4V2AKwzDxW2KfOHaOunsb2NtFxkkCmmXnKouqV7qvpBU6prKXzVl7adlkD807pJb60bGLBWJJREbHkNlib4aFWJgGQz09CDDNtWwbCnd0If5/GQW/lQWPUdPY4RmliQyDKPZ9LB9kWS2v7sPU3qe8cCbcTSmuWgUPXsP4eizL+P06+/i8Pd/guG9B4HRKUN0L3i5WSi1gk3xgo5cuHDhwsWHHJJANw0SujpiJUvC6dWGnWDAkMac3w+P2bCjKTuvmdYzpJT35ktB8ltgCiFxJmOJYKG5XIJpw7iYceHiolDlLOBQps5wIOXN0JCEeVMkdMms0RDqWWEd1m9bt9P66pP88T5AAhhIkxjG0/BORJHqHUFubJrhsb5ycObjM9VtA/6eGR1HKJg/DSGexHBnD2qqqoGlzSZMafJNJDNxnHrtbQycOGPS5KhG84nn/cy5Duz50TPofmsfCSzpLtPh4Ygu1jOAU+/sRU2gCI9+5jNYvHgxju8j0ewfpke2UcZRkAUuXLhw4cLFLCTXbhp0ZqURxBJuFE662oPJZfTcuhEusNc1b2bt81cXLm45WKVFuMx3x2MJRPuGMdXSjonDLYi19RoC6Kg5Hc5XaAR9mMCXyiIzOYNIex8ip9oR2Xca06/vRcdPXkDi+FlgOo6p0+dJPEnwpG0kmdWHB6amp1BaXmamybO9/Rgn0Vy2dClQXsKQSQI5WDOtZWQSqeFx1ISK+NOhqorftCGS4qn2bsTOdyM4MgVEmV6BRHmk5TzS0xGsv/ceYMcWLN+6GTOxKN8zTs9qhea1XLhw4cKFi/fBkRI3EUbk5QmlJZVKhLmnuZjEmnVXYGRnjQsXNx0FdVVLPjR4yk3HMPLuIZz8/k9x9Hs/wSGa1p+9gPS5bj7XdLSjjbQkU/r6IMPxJdKYPNmKrmdeQ8u3f4Qzf/M9nP67f0TLS28gPRVFcbgE2bYu7P7uTxj+fmAmab5qhVQKyWwG5WUkmiSz0ydPIRBLYc3GTUAZiaZXsSgyRjITRYDxV8itGhDjNlP7Iov0mx4aQ3XOh8VllUwQU8n3QTyF6Y4ec3QYGmqARAbDg4PwSkuq6fq8RtRtgy5cuHDhYiEYcXMjcDWb2eXH/NO1wMxCtzfaXAsWCu9ixsWHCllpM9mcouc6cfq1d+CNJLD+ri3YuGETYiNjmDzfYUiaptBto1Nd92dyyJBIDu05jAM//Bm69h9FnSeE6mQOxYksVm/ejE2f+zlg7VpMnuvAaMt55PpHnalv/s+lkkikkyjTSQ3DY+g6dRZLmhbDv3wpkEkyMh3ERYhoTkfMV7BCOmtW6za9JJpKkNpYMo305AzCPj9K6/UlIRJNaULjCSRGJ1Emclpfi9TYKM4eOWZOjUBjPcPlOzH4G9aRuHDhwoWLOxo3TD7YneYXw0LPF7JzOZmL2xaqrnmj5Y6swJgYGEQJfLjnYx9D3ac/jsb770WYJC0ZjTkbcBzaZ7Sa2uCTm4xi5L0DOEFy2ty4GI//4i+hbv16c5LC6vvvQdUnHgFWLaa3DIa7u+FJJFBbU8MA2HTDISRmZpBNp1DpCyK5/zBi0zNYetdmoEQfKxCZpBHJzHqQmpxivB4E9Q1++tfRXUajqfWh8RjGh4eR0uah1cuc82mVyEQc6VgUNeES5GYi6H75VaQjMdz10C6gSl/UUgtVBvAi48KFCxcuXBTgtldEOGI5DyPMb7C5FiwU3sWMiw8FxK3IFx3CRgS1TpIkLeOjLZlkDilMebOIicyZpSHSY7LhyX0sgelTZ9G59zCWL1mGdU9+AsmAFycP70FiUSWCj+4AGsqBIjbTBAlpfz/KqyoQXLk0f4ZlBul0EsFMDjP9Qxg4cBgrN22Eb/1K81wnNZhUKa5IFJNdvWaTkSGfqoNeH7mo2CSfp9N0MoO6pU3AchJbplmfgdX0uZ/+i6NxRF59Cz3HTuG+Rx5BcPUKvh/M7nZ92ctkggsXLly4cDEPtx3RlFZzvnHh4naHL78ppqxpESrXrUKsLGy0gqlwACmfB94gWZkIXy6LlNZzJtOIdfTg5Hv7UFdeidWPP4ZceQk6jhxAgsRv9RMPAysagTDDzaSR6OrC9PAo1m7aAIhokmSKHHoTaYSTWXS2nkeosgK1O+8BavTlLC/0QYRsNsVG7kOacQ2cOIsiEUKxT+2K5z+/VLGJFNITU8jGE6irrTHhigQr7FwsiRK6GW/rxNDxFmy7516U3b2VJNOP5PAYBo+fQqqrj+Ex0HweuHDhwoULFxauZHDh4hpgFIMkkIZo8hpesghrP/4ISpc18Yk5odJ8bcdoDjVoohszeIqnMHD6HGIzESy9ewvQWIfp7g6cOXsWm+/agsDqVYYsKoBU/zDa9h1CLhJDs3aTV+Q34ZBrpobGECIhLCkrRcOjD5CcNtOfP7/T3ANfzovEwAj63tmD6PAISrwB+lWg8qzNRGkkx2fQe+QouWsWiZkopvYfxMTRExg7cBRj+w6aQ9xnxiZQXV4B75IlmJkcx/iJFpx/9S207TmIxFTEeTcXLly4cOFiHlyi6cLFtUIaQkFcKxxArqESOa2RzGWRTqXMsUd+v99ZV0kyF8jkkCZx6zvTiqYlzfBtWiM2inMtZ+BJZ1F5111OeAwwOTqFzrf2YvB4C8o9ARSVlJFIkixmPIi2tKP/2Cn4SVqXrlwBbFgv1aqJV0eH+cQlR6fR9sqbGOrqQdPmTUgji0j/ADAVAyLSqg6g46U30NvWiY0P7kJoUT1OHzuKoy++ggMvvIIzTGOguRHV69egc3QYZ196ESd+9BPs/9mzGGnvxvoNG1G2aqWzHjSfERds4HPhwoULFx9p+P6QyN+7cOHiajBLNEnyvB5kSLSy5F06IzY6OIL+llY0L1mColXLSRDTxunwsRYMnG7F5vvvQ0Cbb6ZncObd3Wgsr0DDzp2GLKbiCbS//hZ6Dh/DiuoG5KIxlC5ahGxxGWZOnsYZPvNMRMz6y1BpMUru0ZQ2A/dLY5lDrHsInSSLPSdbcM8jj6D6oV3oP3cGA+0dKIomEB8ew/k338FwVy+2PvgAanbdh9p1q1GxuAEVTYvRuHw51t2zHbU7tqOGZNJfXIRcKARfMIjmVSuwmeGVkICilKRaPFMcV8sCdCvSbZi3TP6hCxcuXLj4yMGTc9UPLlxcG7RpJg996SrDq4y+LT59tAVHfvoitu/aicrHHjDHBYlsHvvxs0j3j2D7V34BWNIADI3g1W99F/WBIqx+8tNIT45hiKTwzOkWbFizDiuWLsfbP34aXr8PpZWVGJ4YQ3l1Ne576BEMknSePXUCWz7zKQRWLkUu4EFqYAgd+w6gr6cXOx59BHWPPEhCWITx9/bgyJvvIjE5jWAwjEBJMe5+YBfKtm8xa0qNtpT+zQvMvhbJo/ijeTHeaMpdGszyIJBIIufJwaPPX5JMimheOItuyaYLFy5cuPgowiWaLlxcL6glkVOJk5F+wcemNXnoFA7/6DnsfOxhlD96v9l4kx0dxYt/+22sa2jGyq98AbliHzyxBI68+Cp6Dh7D0tIKxEjmprIprL93O5bs3AGEghg8egSnDhwx5K555UqsueduYNFiYHwM+773A8QHhlFWUmKSEY3HECQh3fb4QwhI61gSQi7EeCJxYDKCWP+QjtFEaDH9m3M16UkWTL1Z32l6BV4NT8wTRdkZM3tDP16zB0i/BI+7IciFCxcuXBTAJZouXNwApEi9AtqtfawF+/7xaex84H5UPvSAIWmxlha88OOn8YknPo7Sx3chm46TrHkRH51A37HTmOnsRVlVFZpXr0RwxVKzuQdFAZhzLadIFJNp/i5yNJCMR0041dmDvuOnMMprOBBE8/JlqLhrI1BXhVyQRNHnQdqjz1ZmzNpNBBieCKRaf4rUWPxQa0hplVGY/KkftnMo7CQM93RuZ+9deunChQsXLhaCSzRduLgBkFZTu7jjbT1473s/wdrmpVjy6GPQsUA9b76Ok2fP4smv/TKwtJEsLYM0m6Ff09ZxssBYAtCXfqRZ1HpLfQpSZ2KK0ZFkenwkniSM+npPzpNFmjRQh797kinnUHhDIkkOxf7oL+0lcSSpVEM3Vh6GlcmR3GonPC34wKO1ldJG6rdjZd7hYsg7M7D3hXYuXLhw4cKF4BJNFy5uANSociSD3ukYDj77EiLnu7BlzUa2OA9OnjiG2nUrse5znwFKQ4b9ZUn0zPfD0zrknaA7Nk5Hy8hrlizOkEXtYDdX55ikDB9LQSkaqWOW+NP8EjnNiCqSlEq7KnsZp7HrY5nOYe7y51FY8muIpiJyXBliuwDcs21duHDhwsXlwiWaLlxcR6g5iYg5JI6/M1mMnjmPnvcOItHea+zKlzZj7cM74V2znESQbsTv5JmET/4z/KHf+a+UO+CtNIw2XGP4Q2RQJNRMd2sjjggjn8mF7EUc5zdwx7/Ipsjs3G9zI8gDw7FEU24uC5cioJd45MKFCxcuPrxwiaYLFzcAOuLIR+KV0ZpI7UofmkBmcMxoLgNNi5xvkRcFkPWRENKtprMN0eQlTVImsqi9OfNJnsifrMy+HQvaZegwrwvNE00H1tm8YOh/jmiaKfpCKB15K3OZ7/licImmCxcuPgKwtMmd3bk8uETThYsbADUqmdluSN8YF5nU/h3dplMkmV5kvc7ay4Bc5j1Ic2nI4kItc87ZBc91xNAVEU2GYLSYLly4cOHiiiAFgqiTPsShq5nFyl9dvB8u0XTh4gZAjarQqPtx7tkZ8Z/IoOw05a078c8LuihZL4T5/Zh1R6Kpf+bW/J3DwkG5RNOFCxcurgZZrYHXbJXPZ8ilSzQvjULlhwsXLq4z1O3IzK2vdOid7gt/X4CFmeHCsBFceHsBrP1848KFi9sLIjCu7uf2hgimyknQBk5LLl2SeXG4RNOFixsMdT/zG5rtknR1uycXLj7aELm0GjFLYlzcnlA5pVIpTE5OIhaLzZaXW24Xhzt17sLFDYDVWBbC/l6IWF5AOC/VIi/KSheK8VK4IEYXLlzcIkgES0sWj8cxNDSEYDCIxYsXG22ZJZ8ubh1sGegqgjk8PIzjx4+jv78fDz74INauXWueCW5ZLQxXo+nCxQ3C/C7HpXYuXLgohAiKTCQSwVtvvYU/+ZM/wTvvvGPspCFzicutRaG2cmxsDO+++y7+7M/+DN/+9rcxPj5uBgW2nNyyujhcjaYLFzcQl6tnvICEXsrDRfsyG5PMpTo8+/yCGF18BGG7fnt1heXNg/JcRiRldHQUzzzzDL73ve+ZXcy/+Zu/ic9+9rOGxMiNWy63BiqbdDpt7nt6evD000/jpZdeQklJCT7/+c/jYx/7GOrr600ZqdzcMro4XKLpwsUNhG1clt7NR6H9JbupiwUwCzmwsV0OFNglA3TxIYemay0kVO3GBvOFKhc3BFbcisAon/v6+vC3f/u3ePbZZ7Fr1y788i//MtasWYPS0tLZqXPtbHZxc6H2oPYhTXNrayu++c1vYv/+/Xj00Ufx67/+61i+fDmKioqMO1umtv24eD9counChQsXHzGo25dQ1JqzaDRqiI/ITSAQcInmDYAVs7paEnP27Fn84z/+Iw4cOIAnn3zSkMza2lpTLjJy65bFtcHW8yuB/Kg9qF1oqvzHP/4xRkZG8MlPfhJf+9rXTDtJJpMIhUJ5Hy4+CC7RdOHChYuPCAq7+5mZGaOtOXXqFBKJBB566CGjqdGUrauZuf5Q3sso31taWvBXf/VXZufyV7/6VaMpq6qqmtV0Kv9dknltUF6L1F+uRti2DfnRcgZNk3/3u9815fLbv/3buPvuu1FRUWHKSOWj6fJCyL/bbhaGW5NduHDh4iMCCVEJQ00Jvvrqq/j617+O1157DefPn8fU1JQrLG8QlK8y2ll+6NAhfOtb3zJlIJIpTZnW/em5yItLMK8NykdBWmORwg+C3KtdSLuv68DAgNFiarq8oaEBv/Vbv4UdO3agvLzcPJfWv5Bk2viEwnsXc3A1mi5cuHDxEYAVqJoSfP755/H9738fS5cuxVNPPWU0mXV1dUabKUHqks0rgxWjC+WbfTY9PY3XX3/dbCopKyvDl770JezcuXPWj/3KjGCv8uuWxeVD+SUjsq6lCVoDqyOIVKfn56UtF7UJ3etMzO7ubvzN3/yNOb7o3nvvxa/+6q+atqHnmipfqCxsOIVwy+xCuETTxYVQbci3EVsx3CbjwsWdD2l3tLbsueeew//8n//TTAX+/u//vjmzUSRHwllaoPlTgi4uDYlQkRXBTtPKTmRD9jLSXopg/vVf/zU2bdqEf/7P/7nZ9CM31o/Kx+5etv7t1cXlQXmt/FJe/umf/qk5KkqbrSorK2fzdz6kyZSxmmatmf21X/s1o22WP5HUy4VbXgvD1dG7cCBWqb5SO1HZWNRgrJWMvbfk04ULF7c31IYLrxK02tzwjW98A+vWrTMkUxpNTedqjaaEtDtte3Uw/WWBsRBxn5iYwA9/+EP8j//xP7B69Wr8y3/5L7FhwwbjzhIjm/fWryUrhWG5+GAov5R3OvNShNGSS2tv89Nele9aMvLKK6/gj//4j9HW1oZ//+//vVmTWV1dfYEfF1cPt1dxUQB2khnSyQwbVjbfIPnPkk0dhuI2ORcu7hxISIrsiEjqeJa/+Iu/MBrMf/2v/zWam5uNIC4uLr7otKCLhaF8tQREpEZTrSdPnjSkXfktDZme60s/0pLpgO/HHnsM//k//2esXLlyVnNsp3TttLktAxu+WyZXBhFHoaury+T9V77yFbNLXPVc0HMZ/VYZaW3yP/zDP5hD2LVO9t/+239rljSEw2HjzmqbLxdueS0Ml2h+lKF+0hpd1NEF/GotyKUz8NL42W5VSSzBtFcXLuZDgtF24rbDd3H9YUnIB8EKPZGao0ePGk2mdtBq2nbVqlWmnCRI7XSti8uH6rcllG+//bZZiqANJNKOKT9F7Ds7O8062BdffNEcwP5v/s2/QVNT0+z0bWGeF5LKyylbF+9HYZ+jA9aVzxs3bjS/VVa2zDQY0ODg4MGD+Mu//EtTbnfddRf+w3/4D+YQdrmTdnmhcnJxdXCJpgsHbEvSXubMNYvh9k7EugeANBsdH8u4zc3FxWAFpQTtmTNnzHShi+uH+eRDAvNShETPJDAlVFUe3/nOd8wmoN/4jd8wawT1TCSzcLrWxeXDkhodgyMiqd92Y49I5okTJ8zxRXv27DEaMmnWRPIFuRGJcfP9+sHWd+Wt7kXyld/a4Cb7wvYgLabIpQYHmirXesw/+IM/MO1CsOEI9uri2uASzY8yRCrVjnTVhY1KJjsVxf4XXsHQ4ZN84HMe5uE2OxcXgzrz9vZ2/P3f/73Z8WntXFxfiMjYNZWC8tgaC93ruXbd/uAHPzBXbW7QBiCRS6uxKRSo1ri4NGxei6grXwcHB820+Mc//nGza1+aMmmPdT7p5z73OUM0tanEasis/0vltVseVwfVaw3CNG2uMy81HW5nWHRskb4n/+d//ufmk586HF9a5l/5lV8xxxgpr+3gy8KWlYtrg0s0P6JQ05lvPGpQ/J8dGcf0+S6UpfIP8us1Xbi4FNRRa8rq9OnTZnez4HbS1w9W6InE6zBpCVPBEk4L/ZY7kVF92lBatU9/+tN45JFHjCDVc0tgbJguLh/KO5ERXbWbXPfSnEmbL+2mdjur/v/u7/6uIZo6yqgwz+3VxfWFrcsyIps6rmh8fBy9vb2GYP73//7fzVS5Zls06NISkvvvv98MAArbkMrHbRPXFy7RvKVQZb5Scy24MCz9s1dzr8aVzmHqfCfCyQyqlyzJ15A5P4XG+Hnfbxd3Ij6o5C6nZPWVkzfffNNMWWmjiTprV6heH1jyqOu+ffvwX//rfzVX/S4UkoJ+S4vzxhtvmN3ODz/8sDkrU9odq7Fxy+XaYctD07Hnzp0zm0pEZrSRRCRGGk59D1sonCp3ScyNg/JW9buxsdFMi2uTj9qKdpRrw5YGW//xP/5HfOELXzDrZeVepFTtwvp328b1h0s0bxnU2VylWcDqfXif3YUeOGa7wLDLpD1NPImJtk7UVlUCy5ul5rzAj3FD49BK55+eFf5zcedgrnQv3xRCHbOMBK60bNrZLAGrjl52bqd97bB5bPNZmkztEhdxlJC0bvRMVwlNlYO0N9oMoaNaRP5VFlagFqKwjNzyujwon5T3qufK2+9973t4+eWX8cQTT+AP//APsXXrVuPOknpLNGUuBpv3bhlcOWwe66o819eWtJxBZFMH5atP+qM/+iP83u/9njlaSm7VFlQeureYXwa62nsXVw/3wPZbhkLRfTkV2bqj0cJKXYz9HGZDKXxwgaU1s5Z5eJDOpeHP0n5gCsf/6pvwVZRg4+/+NntKEksfO0g2XgdO4Gp8NhqFRhf5OzZMc3VxJ8DWiMuFU8JzsN2Hvt2so0GWLFmC//Sf/pOZSlSHL+Pi2qA8Fom0xF0aGmnQdFSO1pZJeymhqefKbx3t8u/+3b8zmja52bJli9kdbQ+eVngLCU9XoF4ZlN8im9p1ruUi27ZtM3mt46KUx5Zk2nK7FNy8vzYU0hjlpX5rhkXT5BqQ6UxMtRHbVqwbN99vDlwpcMtxuRV9zp14pppVXgd5abLwvofz49NvGrMOk1eO/mYmJlG9qAEI6Zk0JqSOapR042GEMoo479PA0kv728XtDVstLqgaVwB10hKggo4K0TezRWa0sF6L7K2QdXHtUD7avJT2RVq04eFhs7nBloElmVojq80OMzMzZvpWxEf4oPJwy+rKYQmkjsTResxdu3bNkkyXzNxcKI+tsdC3yfVBAvVHhdpLWy627bi48XCJ5mXgWoXy9YQaiDH53ypAGc1wXyp9eqZmdTE3pnlmskiMjiIej6GSwsyxzPsg30yNTmHiXBeyQ5P8zYf5djob5qUS4OK2w9UWl+2kddVmiJ/97GfmnMZf/uVfNsRGWh49cwXs9YXIoqBPF+qoIuW5JZDKb2lwtCZTu541Xf7AAw/MloX1O18YC245XT0sgVE+q03IyM7CzdtbA+W7tJcytg1Y6H5+Obm4sfhIEs3LFbBydyXCWG4tmfsgfx/kxj6/0E1+hKw7Xn3SMKYZY0Z2eZfzA6VjaUBtuhZKH5sdKwIdpVLo6+mFPxhEuL7OcSQBxWtyeBSDr7+LY9/6Pmb2HGJACtQhvIVhXfjDxYcRtqPWVRtSdHzOQw89hCeffNJshJDWQMSmsHN3cW2Q4LR5un79erPZSp+T1E5n2WuHuQi/PqX3mc98xqwV1FS5JTq62vJwyc/1gdWO2XuVg67zITcfZFxcX6iuqyzUBgrLSfa6twMvFzcHH+rctqSqELKbb7+QOLTujFtWTtNJO/8vGoYmmbVNJiv3ebtCNxbWfn4YFvaZ/eSjNfprOib9S+eQGBrH8ImzmGjpQHJi2kxtM6HO1HrezKZV6TchzA/XeTePh1UhncHI8DAqamuA6mp6pEs10HgC/e/sx/jh00ie78XE+c68ZxFcF3cyVH4fZC5Avh5JG6AzM3UQuKamdFZgTU2N6dj1zBWg1x82P7XeTMReh4JLeymSuXv3bvMVGn3h5Itf/KLZ7SxhKmPLQsb2AxZuGV07CvPXxe2Di5XHrCyc1xZc3Dh8aImmJVizRItG0NUaKzStG8E+y/CZsZMb/nfWJjr3em7IpK2oJgLd5x/SmM3a85F/ZtzmSaEDNghzn28Y1l7X/L3+zrpIZ5EYHEXna+/g6Pd/ijM/eQ6D7x0CYs7ZhdI2CflQCIcQeunPo2fShPLhhWmki3gSM+MThjiguAhIpQ0rTXX2YfjoaTR7w2goKUNpFUmokPefT7UD/lDs880FUbm4YVA+F+a3rtYUQmU236iuZc00E+tJ4TPaG2N/swPv7+8333DWl1G+9rWvmelcwRW4NwY2T+318ccfN98s1ze0n376afMNc+1+/vVf/3WzQUgE004NFpaH7p2BpVtOLj7cmF+/bZ0vNC5uDj60RLNQwBYaQ9xItgxp1PRf4bMCZHIZeCV4J2cw3dmLaN8gMBU1U9VmPWReGJvw6NuTycEfiSMzMg7ftHUn4Wx0hsaNMbTLpdMkfWn4SAzN1Lex19W5Vfi+RAqemRi8uiqtziOCIc5E0LXvAIZaWrFyzVrUUuBEJyYBxoskyaHIpNJOowL2JfmeY1OItvUC/WPwx9Lw0E6MhM3NuJX6Mzc8jvgYiWZZOdklGWYsBUxEMXn4JDz9I0iQhBbXVqF65zYnkfl2Or+5Gq1u3pC2GOOk3cX1gvJTNWa+kf3lGkFX+ROkAU+mU0hnsnPhmTqsGxW5BlfaLzZtyM3rr7+OL3/5y+bQY5GahaYNXdwYrFy50mxA0bpMHWMkkvkv/sW/MITfTuFeTJi6AtbFhxmFmkq3rt8e8P2hDv36EKJQgKqqiTSajpeWuVgCPhJD88zjRZb2PjqSO1stfaRoqakZ9O4+iI4X38TkuU6UBgIIVVXSD0mUwvD6GBh9sGPPkYROHjmJ3n2HEZiYRri8DAgFGRLj9YpuKi6FzDQkkpjp6kOqbxhBHegbCpjnILn1UMiL5I2dOIvxs+dREg7DW8aw6NdExZtYZw+OvfEONq1YheanPo3qlUsR4vvFSQTD1VXwhkPIGBKdI8lMI9reh+G396P/vf3IkTD6AyEERAoYtvPCTCP5aaq1HR0HjqEqVIw0iW9sbBxJvvf4vqOIDg2jorkZSz/5CLBxJXIBeuV7QcYJwrnwpyEozs9ZiPAaUkvYZ3mfLi4D8/PT5nGhKYQdQdrxwPy8Nnb6I4/5h+MTE+jp7TXTroFQiHHk24x1wjoVi8fx7HPP4sc/+QkeffRR/OIv/qLZaWunaV3ceFjhuWzZMqxevdqc2ajpcp2ZKSEr0u+WhYuPKkyflW8jLm4PfGiJpiCiperGsb3ROEodk5mcQbxnCLHeQSSHxiiQvQiQmHnUMdOxlbseErSeQ8fR9u4+VBSVkYzmDPmqXtyMSHcfeo6dRmWwGJ6iYiCTxsiBI+jYcwCRgSHMjI6jxB+Ar6QIXp1dpyksGzYZQqKjF8d+8iwSbV2oW7YUqCpDJkemx8bhTaQRO9OBAz98hmTzDOobGhBc2sRHeaEfS6Fz30GM9/Zjy65dQH0tEJ3GwZdewVhbD5o3bwLKSCDTGfjTWUyfaUP3G7sxw3SJ4A62nke6Z8Csp0NjnWEkpkky3knG13WmlbzXj6mRIQz1diNyrgOjbZ1YRyFW94WngHXLkQ57kA1QmBmPatS6OjB7hPL3gp8v7WO+e8VAFRP/z+axHAjWwsUloWyy0L01grJP1MJc7aDK/HbagDF0bO8d0I3cmn/A3jffwrf//psciASwfNVKPrZlS490F03E8ebrb+Cvv/F1bN++Hb/zO7+D2toaQ27sGY0ubjysxkZlrOlzaTGl0dSSmcIpcxe3BioHl+i4cDGHD+2wV83cx/5YRMdIY5KuWPcget/Yg86X3kT/a++i7+W3MfLae8h2DgDxlHFnu4fk4AiGj7dg+aImbP3SF7H9i5/D0m1bgEgMbS++gTPPv4bs+S4StCxmznXixN4DqK+pxf1PfAKLli7FmSNHMbL/KMPVVDYDpHAwE8iTEQzsO4L+/cdQFOUzn7SeHiSzGQoJv5n+7t5zCDmmqT6eg38mPutfdCA3MYm+1jY0LloEkIAi4EV8fAztp87AMzp37BDFDRJd/Wh57R14o0ls/eQncdenP4FKEoOJ7l6SU4ZLMmryRoIrlcbA0BDqGObGJ5/A8ofux7L778XizeuRLg6hYiUJ8boVJlMTlGNpRqJjI8wmIoWhjKMx75iHSE5O35vtJGEdGXUs+ViCcs6Vi8uF8kzGEnlleU71hlfVdRFJr65ajpHmjep0NAGoDkVoVOYyMdrJ6JmWRyRZD5I5dHFgte+l13DkrXeQjcZYg1jjFBTLeSoawSuvv46/+ptvmF3PWgu4iHVQ6fH6fbNpu5RxcX0hMqM2KCNoutwlmTcXlvTrKoKps011eLvOMbX2Llx81PGhJprS1hiBm8kh2jeE8yRdvafPoriqGis23YXF9YsN4Rt79V2zdlHuDCioB1taSTZHsZJCFZVlNKUIrliCRF8/Jk+dR0WCJJCiWIL71J59Rru3ZOcOYNM61K1fg7GxcYye7zACXJtvcjJMVap/CMNHTqE5VIrlW+4GykpNYr0UEEaoDwxj8mw7FoVLUV1SjjDJK3xzR8UkZyKYGZ9EVV0dUEG/pB2D/QNITE6jOhBWQM57jE+jZ89hJGm/7tFHgA2rgBWLUL682WisoCl7rRdg5wiRxUQCY5MTKNNB7Zs3oGT7FtQ9vBM1WzciXhbCdCYpxkG3PoT43kHe+kVqtSZU0/38bwkkb/nKWfhoP36+E/t++AwGT5xx2Ibc5I2Ly4fyVGtd0zTKW63p9bHsfKyrPv70pLLwTEWRGBrFREcfBo+dweC+4+h9cx96X9uNvtf2OOb1veh7wzH97x6km6MYOngSoyfOwts/ikdWrMcXdz6C4pwfftZdL8s8EYni2eefx19+4+toXr4M/+Sf/VM0LGo0yzPMQEPLT/JptEbUR2a+vVvq1w6jrc5rzEQsZVwN2q2B8t1qMLUx7u///u/xd3/3d+jr68u7+GjD9vWF/f316v8XCvtSuF7xurhyfGiJppA1xIgVbHIGbW+9i+muXmzetRMrfu6TCD1wLwLNi5Egaes+cAwYmaAHVkLVQ5LH4c4elIeL4dF5ktrjoJwiGRvu7kVqYgoNIoA11Ui0t2PwfBvWbNwANDUCxQHEPRTOqSRKpa002gYlQmHnEBkcRnJ4jLyV5LWRpE4MlfZ+RZBMId4/As90jMnIoXgR41jE+MlAM2be02OOMkkkEyjWrnCFPRM10+g5Er6yinKGRXHO90h09WCo9TzW3rUZ2EiSGaB/pi0ZCiBN4opwSFKK5DHlMIB4AimGF6pkGEVMdy6JXIbPKkuQIdE+19WJuIjzZBT+qTiJbATTvUMYbW13drsreTJ6V/1Ik4DGEji//zCi7crLEmPt4vKh7JIpJGj25AOvqnaK9YYEMzE4htGW8+h5czdafvQCTnzvJzj6nR/i1PMv49Srb+H0O3tw+u3dxpx6812ad8y15dU36eYVnPzxMzj1g6eRHRrHupoGlCeyHCT1IDc8ifToNN599kV86y+/jjXLluOf/s4/wYrmpQj6As66TJW4YZFK1/sN/86m3d7LyItahnlmHbi4YhSSThfXhislLhZWo3zkyBH86Ec/wqpVq1BZWWnsPggfduJj66dMYd6KnBe+e+Gz+VjomX4rDOW9rvOxkHtrV3idb1zcGHyIiabWqTnX6dOtGCJJ2njXXSjfugmoIMlKzqD7/Gkg6EeV1lnKsc6NFBJJZEnoqkpL5zbMBAOGCE4MDiEUCqJx/WqgthJ9ra2o8AexePUaElJmJytramrakNXKEpIrM5XlfJnDL+1fJIpwMIhENo2x1jPIjYwB5HN+PtK0t3cqgsxMBGmGVbKRcdSxw/KyEZgFkXON1i8tovxop/noJIqKQihbs9whidEY+s+1oYTFW7dhHdPOBsT4clo+MDODgN7FbGSify2qJFkRKUyRHBZXMb4A7cJBsy5Vmty1j+zCYCKKlmefQeeLL6P7lTfR/sKrOPXs82jZs4cklcTTaF05smeQXjZ80hAS/Ah6mfebl69C7bq1Jm/kwJaLYwjz+6MNUxSzxtmxLyMNpmqlliFoGUiQhC4oTeNEBDPSXO4+hNafvYjjTz+Ho+/sNtrt4upqrLpnG+569CE8+oufx2Nf+SIepXn8q7+Ah/n7wV/4eTxCs/Ozn8bWjz+GdQ/twqKtG1FeX4vhiTG8/vLLOPIP30P3T1/EmR88g9f/5jt4cOlq/Jvf/KfY3LwCwXgWQZJRXzIDL9PiY/3VyQY+El8f66QvzbRmaJhWjdGccZpOQHDK3GpmU+ZeL2frQqFx4eLasBCJmE9KFiIpwnx/FvN/C+qPBX1XW0dLfeUrXzHf+hfsM/mzcRWGYZ8LlxvfnQ59qlbGojBvLoXC/NFVShctUYjFYhfk7fzwrB/Z2UGBtZuPi9m7uDZ8aDcDqVKZtWPDk2h5+Q0KOw9WfuxRoDyEdDF/pVMYHxqGbyqKcl8Apds25kkdPSeT6D95Br5YHDWrV1FSkpSRZGqneNu7e7B8cRPqHn0AKA3h9L79JJoBNNy9hX49yI5PY/LoCcz09mHd3duAFc2ONlGbjYbG0XfoKIo8PlSuXoGOtlYUMZ1FVbWMlM+nI5g6chL9Z89h2d0kxY/cZzSKRlKzAXhJDn0kwT1nzpi1osUl5UgPj2Lo2DGU1tZg1ac/AbJjPptG55FjKPeQRO+61/FPoZ/qHUbHu3vNsUr1JKDe4iJESHTTjNfHBnvu3Dks37Qe4SUNYjbwiCQH/KhZtMjsRO4a6EVvfx9Gh4cxESFhLS/Dis0bUNa8mHHoYGimke3bSxLs9QSQ6OjByff2YgfzIbiOpFn5oOl6Egn9netj5zrbDx3UbzmvfMFrzu/O9FtmjmTqXnYiaF4zTa5zUBNDY0YzP3XoOLre24fuk6cwE4lg0apV2Prg/djw6MNYtOMeVG9ej+KVS+Brrod3Ua0xnkU18DXVIbC4Hr7FvDY3omh5sxmgVG9ZhzQHQU+/9CIampvgmYnizDv70HPqDJbV1ePXfvGr8BeXINLTZzT6cR2FNTCKxPgU0hOTyHBQkePgyhNPwpOgENHxWGYDGOFh3eDLmRMVzBs5//SeXlYCEVDj0mbKbD4VZJgLF1cASxgKSYYG+yIadke+nsleZE9kRd/s1/S3CEwwGDTuLBHUVe5teIUEUfcyScoN+b377rtRIiUDIffWr+LWMgdLgkS29ClRPbf2cqd4C/0VQnZ3Guw76P2HhoaM5vf8+fMoLS01+aQ8U/7HpbAg7FIQ66/wnXWvfO7s7MTevXtxjLJPR3w1NjaaDYnpdNq4seWqMGQ3MjKCs2fPoqury+Svylf+dB6wrnIvGWfjcHF98eEmmhRU0ZZzOL/vEDZs34qirRuQC3sx7cmgiBWtJlSMcRLKYCSBsu2bSDTLkXP6IEyTgI0ODPBZFPGxcUTPtaNj734MnG83HYlvK4lp2IOuc62Ij08i7PMj2taG+GlW5hOnzLFEjTt2AA3VbGkUvIk0ooyr48xZrL9nO8off4icK4PWUy0ooZBOUDhH6VeCXbuG15E0YM0KvYlaqtnkwRYCbyiIHBtmb3sHMl3dmG49h5H+AazfsR2lSlOA5DCTRv+ZVnhIKMtXLDWz89H+EQyQZEZGx9SSSZwTfK8RdJ46hQw7u5KKMnQPDaJ25XKU1NchQydSmIor5Hhf0ViPVdu2YN2WzVi1eRNW378DS7ZtRdkSEmmjbSVEJLRWUGd0ziQwfvwUxvoGsOk+5oOWAYQYkHFaSDTNnW4+fLhQRjgoeNXCx7q3RmIow7+qv9qx7ydpS49MYKK1HT3v7Uf34aMY7RtEUWU51pJUbnziUdSx/INNHCCUFbN8GYCfESmuHAmfBFc+bOe8VuX/vDxnQZfVVGJ0egJnKQR8JI2lqRyW1zVg/YpV5pvm51tOY4D1bYptYYTX4bOtGGV9HuPAaOpcG6Zpom2diHfr3NkBczxYZnyGBDQBnwgo25ni1SBESZTi3DQ3Xk36lCQyUidt1rhwceUQWSgkGpZsDA4Oms926pld3ypyqS8rvfHGG4a8nOFAPhQKmQ9XaIOVCKHIkAiOwis8L9aSEhEWnS/74IMPmmlzSxbVbnRVPPYqP5ZwHT582GjlpAGVHz0XbLjzcTH7OwHaKPWTn/zEfCr1vffeM/mo82BPnjxpfre0tBjiLdJo89gSRnuV6e7uxt/8zd+Y8hJJlJ1OXlA59vb2zn6hTGWustPmLC1pePHFF40f1QOV7XPPPYeXX37ZxKs6sWLFChNW4QDDxfXBh5JoqkELnnSGQvkYZvqHsH4XiVtDDTJkbAlWvqKMB/FznWh/ay8ag0UounuzIZppMTqfF+HiYsRjcfR292BSgpNkUzuzYxNTWEei5Vm/isTJOTswyo5imCOsqYEho3WKjE2QBFSgbvsWoLrMCH5t0ji/ez9CJcVo2HkP0FiD4spSzLChjHR0YaKtHdMTkwiyg0tS+obKSpHT1H2chJBENsO4zZS334fqRfUor66Eh791Juj44DBWkQAGlSaln2maIVEWGc2SWCb5vP/4SUQmp7CGpK90cQN6x4YxEWUnWFyE+lXLUEZy6S8vQfniRgTLy5AkOdah9R4PR9q6sgP0Mm3ge3lqqsAhYX59J+Nj2jKROJITM4iOjjO/hxFtbcP5oydQVlWJxTvvNVPw0npKk8WSMcZpy879RwYLvOpsfWWGmPzhb+WNjqfSet2p1k4M7D2Mc/sPYXp8HLUk9+vvvw/ND9yPonUsc9ZblXvWk3WWWGgNrogm7z26V2AKW1d1osY4dsbkD5ENlJVg7dq1qK2rRzidQ01RCSoqKuBjnU2UFcFfX43SOtXbSoRZrjI+1p8s6yQ5KSbZRoYHBzA2OISxrh5Mk3RGSD5nzpxDsq0bMbbDZCSGXDKDgDluTFRaadGqEQoTvb3S4+SG+efi5kB10E4rfpiErAiKSKI0XyIWb7/9tiE2IjRNTU2G5ImEvPTSS4YUSssmYiKjz3nqt7Rvhw4dQkdHB8rKykybsGGr/xfB/PrXv24I6mOPPWY0Y9LQiRAdPXrUkNtwOGzIqwiUNKciXD/+8Y/NZ0RFbkW4li5dasrBkipBvwvL404pG9un6V3sVfkvsqcPPCj/lcfKT+XD8ePHZ/NZZ8OKLIqMi5yKMNqzehWuvvGvMtPXsX7lV37FnCOrMv7GN75h8vuee+4xea2BQWtrq/mggcpG5Sl3+/fvN6T0hRdeMARVaRAxXbdunbm6RPP640NHNJ3qLTGlBupF96Fj8E7F0HQvyV1pkdESBfV3eAKdJJnxTo6AissQItnyaHe5hx0uBW8xO5P6psWoWdpstHkrtm5BQ3kl+rq6sXz9OoDuJdzLG+rQtGI5Kkj+mtasRP3ylZgYHkImHEDDlo0AyZu+s9Jx+AiG+wew5t5tCK9cYkiqp6wYdYsaUVpTDW9lOZo2rsMimkxRCG1dnYj29iDVO4Dx8+0kdUmUNtQbNVCuOIQS+qlsXorSRAYDre1Yun4t/Jqm14A4zOckqhLe4+MTmGFHWERSsOa+e1B671aU0t2i1cvRtGEtmu7aiOLmRqCkyLxngMRBRMSf9SDAPsJPMuDPkWSmMshORZGcnjHENzYyjsjAsFlOICIxeaYVoy2tGDh9xmyOmmZnWkoyvHLHNoSWLUIuxBEq266IhFdTqaYh28b8IW3U819r3m/z03bI5gf/aDc5rYLxjDmeapgEs3vfYUyIYC5bygETCSYHKsHlLGvWA7MriPU1S5PkYCArckmj7r0wurl2MWcucJC/D5NUNi5ajGEKyXJ2wMtZfksZnwZHi7ZuQsPG9ahlvZHR+t8GEt3FvDbdtQnL1q9Bw9pVaFi1knVzMUlomOnyIpKImbWjE339pi6LfGZ7BhAfmUA2mkQwxzqhDl5Uk2lXvVWCDNHMC1oruCxud0EwnyDc7hARkEAXPgyC1ua/3kuaQ5EQkQsdci+NlrRYy5cvx549e/Dd737XfHzgq1/9Kj7+8Y8bjaRIkYifpli/+c1vGnKzb98+Q4B0vJdIucKWBlIk9n//7/9tiMp9991nyIo0a9qBLo2lCNXw8DCamylLKFdEcP76r/8amzdvNvE+88wzJr0PP/zwbLoVvrRslvhY3CnlYtMpsidyrff/3ve+Z45E++3f/m1DtqVF1lS2tI768IMI42uvvWZIusrgBz/4AZ5//nlTbtpgJQIvt3IjDbLO8VWeiyiKoP7xH/+xiVN5qgHCqVOn8Fd/9VdG66k4f+EXfsE8f+uttwyxFcn8L//lvxhiqo8dyI/Nf0tqhTslz29nfGinzk3VYMc5er4Tk919qGtqRjBURLssklMzGNlzEBNtnVhMspbKpDA9PmamzYvYEeTCQaMJ8rBi+2oqULyoAZ76aqRIStvPncPKDeuBZZoyFiPwI1tajGADyWJtFTz0286OJUf7xRS+IrdpCtpOEtT6xY1GWGeLAmY6mrWZBCyAQFMjykhcA4vqTDyVixvgJ/FL8SVyXh9K2ehqV62Ar7aS/jxI5dJmzV6G79HF94j2D2MFCSyaG2ZJh4f+dRj8ktUr0LR6FWo3r4e/qYHx8SVJ+jzlpcYo/dKiORouvrPa1kwcqYkI4qMklH2jmCbZnT7bjomTJJHHT2Pg2EmMkFwOnT2PsY4uTA4Os3OIwxMIGS1XFcn5ks0b0LxtM0LNi5AtDpp0O4XCtEmFZX5Y8yGGfb15rzn75uzElOXkWsx7j1lL7J2MYOJoC7rf3MP87UZNUxPWPHAfFm3fjMDyxcgwPx3NtUMq2SMagmnJJUuRxoGJQ51n/t52ms7fAshCHSsF3MzEhNEmbNhxL6o4MMlp+Udp2NQbs/whwNCDvMqwLqOEhJf1PMe2ElxcjxDrcwkHM9UceNWtXcnB03o0rFhmiLLWBauuDHV2Y4SEM8I65GX91UrUUJgDwaIwMnwXDUhMXbwI7jSBezthIQEqYiPNnDRNIlciUCJSd6qQtYRBG3RE+KRV1Cc7P/WpT5lp6oMHD5o6LtKxbds2/N7v/Z4hQXp3EQ5pPsc5uJMWUyTms5/9rAlDpOeBBx6YnQLXVWRSpEmbgDQjIHsRmX/8x3/EJz/5SUNo9clWkUYdsP+nf/qnZm2iPhm6c+dO41dpkVtpPhWm1iBK8yZiKyJly+JOKw8RNhlpFg8cOGC0mdIstre3m2lrDW70Gduf+7mfw5IlS9DW1mYIvbSb0kKKWMpO5F7P5V75IiKvslQ+Kk/eeecdo+UUYZS9yOpf/MVfGL8qd2k/ZSfNtQYXWg/6pS99yZBSpU8kVvmudmDTfCfm9+0KK48+NLDVQuRJ3eliEq00BWHL22+h79U30P/WbrQ8/RxOHTuORmkQP/MESu+/Gz2JGQz19SPHiu1nJbMBJbMppLXGUlPY2k2uB8U6r5JXueE14yF5pVRMeTJIJ2OIU+T7tbBYn6DMZhAoKca6HduxYgfJYBkJJIOX7kC7bpN+LxK+LKK+DBJBhkUimK2rwqKd27DhqU9izVOfwOInHkZg3Urk/CSZARoTtwfTHZ3oOHkaRWIpJKMijVrbp7TESERSIrQNNYA292jqWgSBTjPshPWeWjeK6Tgyw5OYbOvF6Onz6HvvIAZefxedz7+Csz96Bi3PPIfTz76AlnffQxc7hzGOslPsMIsb6tFMIr3p8Yex8+d/Dvd8/ils+uynsO7TH8dy2pVpdz9JhwhKhqRdn/k05OHDV+WuCqqbIoZmYon54tUOba1xnZjG6Fv7cfal15GKRLHxwV1Y8fHHULRpLYlcGVIsYx2Yn9JGN5H3fF0QKVPOGqKqIAuNnluTt5tFoQWf63QFabYfeurTqLiLAyoRSf53BkZyoyl61h/WLxlpYnWcatocwZU3Pj4L0jHrulmjvKwR4bvWooztbPlnn8TWX/kS7vvqF7H04Z1mFuHc6Ra0/uQ5TL51ABiPIZhi+2EdVdgmf+4QWAInYSXCJiFZCPtc0H2huRgKn4tszHd7Of7nQ9OHhWmzU8vS3Gntm0iSni8U350EpV9lIYiASIMoEqkpcxFKTeOWl5ebjw+IsMitjDRwIncioW+++Saeeuopo+2UhtOu8ZR/kRFBBEZTtQrLxqdpeBFLkVhp6zZs2GDWJn7nO98xJOsLX/iC0dLJfSGh0VXhSWun9EnzJ9yJ5aB3UR4p7dLkimAq72WvqXDVO5HwXbt2mfwX0ZOGUuRQSwqkgdSnVbW8Qfkgf3Jjy1XlpN8yikNxade/3EkTKkKqcpPGUu5FMGVUjiKW9ggqG57SI8JvD9uX/Xzcye3hVsJpKXc65pW9KpoxFJpVK5Zh0yceQ7IkjNZzZ3Hu1EkMT45jGUlfw8P3AaubUPHEA9j5tS9hzWMPwFOjyqcA2YGLMJIATPf2Y/LIKUS6+xFS51KqHYWshIaQekhMfUbAh70kelESt3gSpWxI7I2ccEgKSmpJ+Co4MiUxcD536WiyVAQcqyLFCpymXYI2CdLQFEllpsiPXAXDqaKhsJdGSeRUh7unRicwcqbNHG1U4eNDP41IrxpHJgeOt5HMpJGRQInFzY727GQEyZFJxHuGMdHajeHjZzD4xm70/PQlnPne0zj7UxLKl99A5+mzGJqiOxKF0lXLseLB+3D3U0/iwV/6Ah781V/C/b/2VWz64lNY+qnHUbFrGzwbVyG3YjFJbSWy5WFkQ+wMRDb0T/nD1PhIhr1ak8ffHzks8MqG7Ofv2XvBE0sgoQ1bL72Dtrf2oLquAVuZxyX3b0O2vgwZPwcO7FiVnz4P85OBmmCVn/nwVQfnw6nJC5sFoQc6ZUEaSmlNpR1nvF5p+BmXtNFmpzjT4Bj9duyULmPHdqC1vUqrkmTqAYlnjgOpXFkIueYa+O/dhCWf/QS2/NovYiPJp5dxtL7yBiZeew8YHIdXG8qUR8b/nQEJJhEMETVNvWqDg6YMZSdTCAksGQk3mYWg51bYafpPawuloRNkr+eamtRUcGH4hcJQhFHPbBwiSXbqUMJVbrUbV1OMSrO0Qv/wD/9g3EmQ36ntVenWu4ngSGOmKXH9duqwQ+aknfzc5z5nptOl4dL7WiPiqOl1kcHPfOYzhsyIyFhiaMmJrioTXUVe9ExaNxEqrde04Yk0SWP8t3/7t9i0aZPZNCSy2tPTY4iVCJKIqdIhcittX3V1tdGyKmyb7jsNSrsgTa7yQIRb76l6K3IpDaeeyZ3sBZWT8k5aTj1T/ilPLTRYUL2Wxln2Ioaq4/KvAZ7q8U9/+lOjeX7yySeNfw2kpNnWYOBrX/uaCUNtQG1KZSANstqFDtuX9lWw7UOwVxdXhw/P1HlBG1SVMG1SlaMohNLFjViyejWWkDQtXr8Wa3fuQPWmdUA5CVzYbzSB+sqOp1xHCZEEkrCZDTAKh6Sx9b29mDh0CrmBcUNeG+/bbo4dkoZRa8okZNlS5A0zXf3oPdWCpcuXoXT1SkMQteZTn2w0lVVunf9OQvlHbN8vYa2f/K1nhobQrcI2XzjSlW5yapDJNMaOkDDvPYbKWBbVRaUo2X43UBKAdzoKbySB3MSM2akc7xtCtHcIkbZuTJ09j6ETJJcnT2PgZAtGWs9jemgYSZLpQFUl6lYuw+ptW7Byx3Ys2XkvlmzfgvpNG1CxdhnCzENUV5i1nGbK1Gwyse+T1z4xA7T8QGN6dS+mc9Q/OdM/ZdBHDKaIiflvnjKfHPWa9Zj6vn2U9ab7zd1oP3wUa7fdjSVPfgxY0YgcHSQDrD/SYNKfwlE9kZkN09QNk8N5iw+GXL7ftVOeikckUSTPCfdCFP42wk9u9B66l13eOOl1wjGNw8d2pmrDn/LgEaFlOwo3N6GxuhbR/kF0s25WBUIINi+GV2e5KhTnP/0Yn074+fvbAZbASNhpGlTCSlOz0spI8NljVEQ+rPZFQkwbHSToJCxFKgT7XlawWZLx7LPPGkGp6UNpZERIJFg1xai1bwpXawBVp+RHVwljPddUpNIg0qVp4D/6oz8yJOuhhx4ycX/rW98y05rS/iidIgGaxpXW6XbK5yuB0i0jkiESp7xXfslOxPDVV181pOOf/JN/YgiiaYvMQ0Gk3K4N/IM/+ANDDFVeWqcpUq+8kR/lk8ITKdRaQ2nfNNWtfK+vrzfTvfqtNOhb9NJQisT8/u//vtF0yq82Av3whz80071yryl7aZWVFm10kYbPlqfcX2/Yena9wrZtwcKmW+8jYmnJpNqJ1lBquYHWSqoeKo+1xEB5pKUMyndNkav+ShstrbTyXIRd2koN4uRHa2BfeeUVU57Ka7UpaUpFKDWIkDb0z//8z01Y/+yf/TNDQO2SCLVRkVDdK00qOw0CtLxC76L02zy63nn1UYLk1Z2PgnJXVdDnHh0pxweqHDLVZfCuW4HABpK/pjpA69xEmOhQwswYunP+Zdm41WC8Rps5fKYNNcEiM91cUVZG8upMndtpQ8FqKaPTM2YXdpE0miKtSgPD8lLasslRvvJev8nEfLz6edWmG+3CDfIaIlOTKcp4EUzRXYK0jcQRU1FkxqbgG4sg3dmPkcOnEBqPmM9Oehhf5PRZjLy5D4Nv7cPA6++h6/k3cP4nL6DjudfQ/tKb6Np9AENnOzA5MQUvG3z9+jVY/eBO7PjS57D9V7+Mrb/+S1j21CdQ9uB25NYuQbamDDnlkc6gEWsUlJXKUr6TCHZOjVD3zCfllUiF3pPduTFSiJnsUb7mi0HmowC9ZqFRFsrY36azogABBzL6ctK519/BWHsXNjy4C3WfJslcVGWmqNMBn1mzKF9qrDImT4nC8GWuGUpTHrqb+5WHtZQ7a2at5u4F846zV/vPGUTJrRk0qQ2pbhSRgN7F+vj5TyFYWozOPQeBvmF40mojzCZ6StOYukf/txMkfCTsBJ1DK9ImYfWbv/mbRjCKsPy3//bfzIYPq3WUUJXQ0xq+P/mTPzHPRG4UjsKzAk1kUvaaztOuZpFX+RXxkBvFI5LzZ3/2Z4Y4yX1heiRMteNW8YiMitRIWyZSqR3Rcq9PJUrIStMkMiAtkdYN2o0Rdyps2nW1xkLaTA0AduzYYTRmeqY6ad2pnDQI2L59u5l2FZTvMtadptBV3iI+0v6KxCvPLESodISOtZMfad6Uz9owpHAUnkiVnsm/tMkiRFqn+Ru/8RsmfuFGkUwLW59uJArTr3orLaLiVB7p+v9n7z/g6zrPO0/8h3sveiPYe28SKar3alXLRXIS23HsJJs+8Tr5x5lkNrs7+9nMJ5maadkkM9ls4kziidNsx07cVGyrd1ESJVEUe+8AiV5v+T/f59wXOLwEQAAEwKLzIx+cc895e/2d522UPT6G0CKTFmhyAcPbpGGYH4s7DMHfd999Xr6/+tWvDi7c+u3f/m396q/+qn88/PN//s+9/kE8GVmAULIg6K677vLtk77whS84kSetQ72E7GMPck+YsEseES60/nyghPxPMD5c8kSTLA+dOHDNStZ+IQF01PaC1d9oKt0QYraH/kEcTewpnR/VIm8V4vCO3aruz2l+00x1W8Nc2zTD2GAlrrotyBRE0p0zspjr7BZr29keyR2hEjmhjK50nGkjkmljqGlOVenJKt3Zp1Rbj3ItHeo70qyuvUfU+v5enX57h1qMUJ54+Q0deZrzql/Q8e8/p0PffVr92/eroTerQleP+nt61fbOuzqC7D+g5uMnvDLXzZ6j+WvXatWN1+uaB+/TNR9/WDd95pO6+pOPavVHHtD8O2828r1chTmNKhinLKQ4s8XiYGnEP9dQhnmARCW6DKY34qlIxTNh/08nQvYzlsR2Y8Si6MYHCUQ9ICSFa3stndBgQzI79xzUnudf8Y3zN911h+bfc5t9FFUrbx/+PpeXtDM7DJXHSeZwiPt3PsAPxLXp/mR8CPZHkqHUsLLmdc6u5ZYya5dq4aYr1HnqtPp27rP0ydsHmdkwM8hkxW+yQLkPnXQY8kR7wmpYOq0f//Efdw0kBJFOCgIYOly0J2hq6MjCXoqhE+OKexBD5upBQND+oEmj84R8MrSL9hE/uWfoD/KEXfwhXNjFb8LCljGYYYEFHSganzB0SwdOZwrhhQgxZImbIayXIkLYuSKka0gXyDVEknmYPA9pzhVSB4GB3G/atMlJDmSSdxAS0gU3IO5o0cgn0h0NJxJ3C5C/kChIKeQeTSaaN96TD+QBxOqpp55yrTWECaLEIhXcAyEukw3CQFyChDBPJUhf+ibyIKQVfoc0QxN8ww03uIaf52ij2beaea1oHkkv3kESf+M3fsPnuqK5hCDygcTHA+Wdekf64ib5x2IupkCQfwAtKumMdv///r//b/2f/+f/qc9+9rO+lyb+AsoLwpZJTHkgD0E8fxOMDZcF0UQ40s5/9/ap+8gJqavXflgFpUB4obB7Ckg6ZSbt6ob9qScCTyOxZxBCe5djYca+Q1pQ26iu1nYjCQU1LV/qCyawy7xDzOFKWVm5Cs3tyh5v0ZL6maqobXDNprr7VdY9oGxrl/pa2tV+rFktBw7r5I69OvrmVh199U0dMaJx8Knnte+Jp7T7u09q97ef0N7Hfqi9Tz6jPT8weel17X5ji05aWNo5dvCNdzW3qk5zFi62YBQ0Y+VyLbztJl350H3a+PD9uvpjD2rDow9rzY98RAs+dr+a7r9d6Rs3SuuXSfOMVNZaWFPevVvS5J1Usr8oi3ZIMhqDdIr5drH0MwnkET1wlGZR+lHxgpDGw6L4aqTXHwRQVBDSMmUfJQPHT2mn5X338WZdecvNquFAgboKX1DDXFxAmRxa4DP073IAsSB+lEQWxeXrqzT3mg2+7RcnHsnqC+pMRgAGYx7K2UWA0EETHjpCttFBCwWZoHOjk2T4j04pdHqYh5igVeQ9c9HQsEEeqXd0bAACyOIchlUZMmfolUUldLL4B3mBiDKMyLYwXEMHiV/4AckkLKyuhfQyfAzZ4T3EM2iKGA5muJGh95/7uZ8b3Lg64FLtVIcrJ5AcCDdpjtYxpBlxxDzEkKFYzDFcSzpDTkhPhmohOpB7NMho3UhLzEJaMYc7QYK7CEO9aItJd7Ro4T2EkjmkEMxHH33UV6KzOCaELZgD8fvJAGUUTR1lEWIdwno+GC7NS0F68UFGepEW2MFf0pC0YHEWUw54Bgmn3N97771+H9IEs5RtCCTv0IyC8D7kK26z4pxpIQzdlwLtJqSUeoU9hDwH3FMf2eSduo1bwd0E4wP91yUPqkbWTzyxynP4hHY+8bRykE0KffHYOyQiR5EGhacMe3Pvw9kIHZq9QItSZi/ZLDt9qkN1PTm17DfCuWixypcYWaMvaO9RmZHH7IlWDRh57N11UKefeUVtW3eq2shly96DOv76Fh15ZbMOPfuidj/+Q23/9uN65xvfjuSfvq2tj39f7z/zvJPIwzt369QxNJFZZWprNGv5cl8Vv+z6a3XlPbfrxo8+pOse/YjW3Xyj6q3TWWhfeVX2PjtnhmpuuUa640Zlrl6vivUrpeWLpLlNUo0RYj/2cUjCSuG81SW2QUJraTXLIh1t1wHo0CNtlv0j6UCUhIPipNNu45JgdJBGnAMPycwea9H+5172vUjXXX+dZlxthKS+UvmM5YmnfVQ5g0RpDOEKaR0yA0RPJgIa05EQGuzSxjU0yEEmhKI1mnRv1suMZFltLFs0TzPWrtC+gwek/Qd9ZIJRAOrnxQY6JOoMBJEhP8gLixvoPCEsdFIQFMgJJI8r6QWJRNCY0XmGYfPQkWEG4ooZ3MN9NJkMGQJICJo0NJZs9I12Bn9CPkF+0FJCIrFHB4s/hA9CwfwzNJcArShuoQliaBHzhIPwIGjxsBfCdamCOBF+4oT2mDQKRDG8jwvpgADSH2CWhTuQfxaZsJAIN8PwKySe39iPpxf35DEfBGjrcIeygDnmZf6zf/bP9MUvftG1dPgZygngWirng7h9tIoMPTP1guFnpgCA8/UjYDh3QhmlPkC6mQcc4kU5ZX4kH2ukOUJZ5wMILWUo/6QP74JbwT7pGa+TCM8p7xBXzPMOcOVdQHCL5wjlBLeC9pUhfMIRSGhwJ8HYENWgywBW1Pza03xKR7e8p+ypNv8dOjQviHbPULdH2n5TuJyfIixqQyCRHHPS2a90W6/q+wo6tmOPesy9KvuKOr5nv46+8IoOP/2CDnz7B9r1zce0+6vf0e6vfM0I7rPq3H9Yx/Yf0L7vP6Xt33vSiORL2v7y6zq2a49OHz2hfF9ODfUzNHf5Cq2/7WZtuvce3fjwg7rt4x/VLY9+3Mjkx7XxEx/X0ofv08IH7tbce29Xw42bVHn1OmnFQnWkc2pny5mF89Td26nmxkppiX3N1VisnEhaZIgg80OLC5tcrGIMbjHklcSu9g+jCNWHK2TmDGDWhfuigHAdDoN2YvIBA6mIULSiFI0+ZtJZK4e9Azr26ptqeX+Prrj+ejVef7XUVKt8ZbkK1pBlzAK7m4b8CIIbfBQhlOc82mhrEO3W5yXHG07A7yChIQ0Iz8N9HMG814/YfXgH4s9AMEd4St+diaJfsSLBLd29L3qrrtCsjWvVa5HnEAC236K8sm8sdj0dLK7BmQsJ4oxAIhhupTNCg0nc6ZAgmwzR0jFCKOhIeR40apCKoAWL8jG6Yp85nJhHW8MQKkPdXEMHB+FhOB2tDppJ/ArkFjMM1UMcgqYG7RULgyCkLIZgHhrhhoyi1UHjSdhDeOikwwp15rfh9lR3rvgbruF+shDShbxAkwyBh6CDQEoAJJCN01mMQpqDYA/tI8SeFewMs5I/IW/QCLNHI/6AEP7gNlo1FhYFsgRwl3doqyFCYegdgWDxLp7mPKdsTFbaQI5DmWIaAEPD3J+P+8EuV8oc5SaAZ8QJYs7CKTTt1BnqRLBHvEOc42EJdgPR44pgJkhA/D4AuyFvAuL2eB+AX6QzYccP6gQIfocwJRg7hlL3EgadT8h6zoVuYkENajt7GE4aydE5FYWNsdM5q8wsNui1wmedmU51qPfwCbXvOqTmN9/XcfaTfO0tP1axja/6dJn27d2jHU88ru1PPa1dmzdr53vbdPjAQR1rblHn6Xb1dnSpzhr2+TderyW33qx1t9+m6x+6X7d/4hHd85lP6Z7PfUZ3/tRndd2nfszJ5OL779asO25S1XUbpStWScsW+tGUaqqTqqxQ+4p4+yorN+FIwbK8Tgz0qtXYcmtnm/afOKYaNo5fMMd7akhkngoT5lUi3o2TQt5FO7hGNDP6Fy3jOfOXo3hxxCtv/PlwCO+5BplChIaBa6lcSFAqmW5BU2shtOwzsmTlk43vt29+U8vXrNIsdjBoqLb8szLqtTEikiyqsgh4WY1LPgeJs3hxb84x3xPkjHSyI0FI7hB3pkZk7as8lzOiEHtHeoXGtDSd+E2jzLw9FivQAUFQwnPsQVJ4xhd/cIt3cTOl7ka+E8kQkiGh3HkZralS49qVapg/V7ve3arCkaMWILNl8SYN3U13dySZXtBB0WEzrApZgNiRpnSYYYiQTbwZhqVT4x1EE3sQFJ6FDpArAsFj+Jb5amh8GBYP8/pwEzsMxWIW0oiboUMM+UknD0InSV5BNAkj+0LidphfSGfPb9yFaOEu75hHykIiSDThxd2z8/T8EdwMZWay/cEt4kYacc9qexaNMEUAEGfihxkACSddeR4AmWc+IJu0/OIv/qLnM+kEaYKAPvzww66hww7uBOIS/ITEQzaDmyF+vA/+hmsIb7gCruQpHxDD1dmxIrgLiP9P/dRPOemjzKGRjWMifmAHoVwx95iPFMpseIf/lEnIPAt6SD8QSFxA6W/SM55HpQj+hnYI4R6ENI6X4WB2OIm/5wODukGaUyfASGFIMDIueaJJlseokarKK/yMaPVZ4bZ6kjdCaeXFbs0E5Y5Nyjv7lGtuV+eBY2p+a5uOPf+qjj7zgnZ/+zHt/OZ3tPuJp3TQSOaxw0dVs2ShFt91qxZ96A4tuvd2rf7Ivbrm0Y/o1k/+iO776c/pvv/lc7rnF35aN9ozTvdZcOsNmvuJhzT3Yw9q3gPsM3mDEckrpTXLfONqP5e6gVNW2K7GCraRx3DNQxaLw9tWOyjRFmCLGxUlZb9Nqq3D6bRKtGXLm+q110s2mNs1RlTMitn0lKCSRL/CP3/tbrl7xSumPV1GlKHLIEp/j4SxmpskRHE2by3N4nKhQMpS4MhdyKYFUMrm1H/ipN55+jk11NdpoZUNLwtM+bX8h2pRln0lvydglFdD5N+emzNdnV06feq0Thw/oeaTLTrV0gLjjBpiPDdDTla5NYK2xwjGsaPHoufF9wgEhgn2kKEA0pGOgXl7aGj+6I/+yE8yYREJgHwyOZ6tWtirDvt0KjTKuMdQbBiC49kQovCXCiGCHruUpXw/2fTsmVpx5Xq1tbf5Ijfqq5u1d0OleTSZHoQyBgFAgnYodFhoC0kvSAbDbrzjd9g3EYIXzGOfK7+ZM8fcOVYn42YcpAGklnmCECLIAqQ/APvkB0QIcoTWk613mGMGeWVYEm0e5ujw2SeS/GblOYSSYULCR95zBjWdLIsxMB/cn2wENyEEaHohPAxve36bTAbwA6GOoMENw7ZgNAITQNhIT4Zh+YggXNgDaCl/8zd/04kTzzEb3gWEuAQJ4D6ELTwP9/FnlA3ykvmC1E2IFORnIghxJf6kBSvvCS8fTJMB3GfaByfz8KFCXgLCTHzwC8Id0jHENYQrjngagGC+9BkgjbjnGgTE3Q3PKfOlQnoigaRyJazkO/WTsplgYrjk99GkCCFsgF1uHRXnmp/Y8p6aZs1UZs2q6ChoK2/pgazyLe3qOnBEXXv26+SWrTr6zlYdfn+7Wo4d8y/FfnOjzhqShevWasVVG7Xomo2ac/3Varp+k+o3rFHdulWqX7dcVYsWKM2JO8yDnGHEcUatyqww1s2drZlXr5dmN0oVFio+yhivD5WCazHA7Dfpq7qpBBZuFLBWI4q/oRZDCBUJssFUy17mTNn92huuU+MVa520ssl20ZdBu155i/9Ggnsb3Y6MYOCcBqcfpA2NA40AQpzjmogLBU+qgjVqdkNeVZCHHd068NJrat67Xzfef58ynFfuGmvyLiKZTjSLCR3lW/QX68SVTsZPuHjpJb3x5pt638jDtvffdwON9hES5i/lLE3o8CB9f/SHf+ikhw6Rxj1v7zJ2ZTEJnQGT4dlvLpQzyBAkAyJJZ8TGxpAihg0hOF/+8pddowYhYoiXIUgaZuYMMtcL4sPiBsLiZZAyPQLwcUjKlOUkLcu/eqs8h6x+dnS0a+HqVX7YQZZsNadc14GbZziLCzwIMj0gzZgPyR6LkBA0YaQFacBqcYaeSXfIHWmJVpHOlzmRbLVCh8z2KxBGFjRA9khf5lSyxyCEkdNkGF5l4RCABEL0Gb6FBEL8IaYMxdNh4gfmIQ7kE/lJ3kAm0WaGjcRDXYGAQkTRtOIOx/lBaCDD+AFRPlc+ni9IM9zH/29+85sefkguOF9/46QBGS0u4Tn5OpyZ8DzuTrinvoHwO2As9yMhpAv5SrqwzybTJaiPPKOOTRS4TVgh9pRfpndQnuJxH0sY4wh20WSy8T9zgZl3GUgl70Zyk/cICGbCs9HCwbtgLhBw+gLKP+0f5Z+FWNRT5ijTFjKlhXuu/A7PED6Wwzs+6qgPkGXm5VIfE4wflzbRjMpkBCuHaQpjPqXW3fvUeuqUambPkzp71H3omNq371XnW1t1fOv7On3wsNrb2pWZUa+mZYu1eMN6Lbt6g1befKPmbtpohHKl0gvnGJGcobyRyDyrtDm+MWWF2ec78t88xz8jkt7F1VSqkiHspnrXSuaZHwmBYCW3NUDRvpOYDxXNrvYPYhH9GhKIYvQ0glMPt1OwhqVS85cu0fIr1qlmxTL7LK10C2xD5OFwG3Z189jgGr0bDtHbMWBMhqYXNCo0JhChsDcgHXTYtmS0xmnKQfEwYS9MEq8il1fHrn16+7mXdMXadZp50/XR1Ijqcp/aQUhRZFM+AH8Hw19sRCECX/37r+qHT/3QG8Ge7m7XIu60zhnNIuYDwSNt6PggolRx9nmlwefrHD8gQmgq2SCZbXPCxtDYg8iwfQuEhFWguI3/fIxBknCfrUIgAnRQzFWD7OAWZIaGmoUPEBU6Q8KFuwgdW2neDN3ZvdURphikrZznmk9p3849WrVwkVIL5qpg6QVpZxU+cTgT4TfX0ndTB9KMPGCrIoYBiTcaYtKQLWvQhFAe0aDRAULg0TAyZBlOfWFqAuSQPIXg0TmS7iwWIq3ptElfPgiwS94w7M7iEdIeN0IHySIitM8QNVYvQyTxF3t0mrgLoaBskA8MpUNwiQPhpkPGPRatfOITn3DyGkjpVIFw4Cd+EE82LKcck5ahzIwXoYxhn/SFwNM2kEel5S+O8Hy49zyLk8hSM/wezh4Y7d1oIF3wk3aOIywhPA888IDHBfcm8lFdGn/KF/WW7YEghuH9RMILsM+0C9xlP1DaFsog8SjNS+IHsMM9V4Df5B32qEO0V3HySDmlPaLMQgpp+yn7fKhQ/vGbdot+gSF8PqTCb+oq5YxnceEZEsyH39RN6hLtJ+WHsJWmYYLRcdmcDOTkjIznC2+gX9t37FT//gPq2XdAJ7bt0Mnde5S1glw7f65mrVqulTdcowXXX61Z69eoZsl8Zebalwqn3hg5LIM82scpWkdO9RkwZ6NTb0zsnmsZR/IVnzEXkm0RMc/vvL3zKaLYs3AxAyuqPhbG2HU0OQOhQHPNpJXirPW6GhUgs3xE4x8+EJYihioBJPMsFwfBm5HfXrwIjRJbuPz5n/+5a2UYZkTrRicLJtJBTR6iHOcvU2Z1ulPbX3hZA60d2nT33dIcCyNHjPIhYv8IaZQPUQMf/YtAXPni/tu//VvfoJsGjxWvaMQgBMwBZC4lpA/NJCs6SRs6oeefe861jB838wzFollAdlvn+1//63/1eUdorejYAWT23/27f+dDqmy1wvAq2jCICg01xORXfuVXvLODKIUOhXxAG8JQHCuwmQeHm3QUxIcOgA4idJAhb4YrezxLV1Uq09evHW+/o4WNTapeu0plbOxuLz2tBsv3EOKd1HSBvEHojIg36UlHBtFks2/IEp0VnSFlFPLJfD6ENCA90IRCEtFuQkqZM4dd7okLV7TYDJ1CCCCJP1vcEJ7OGPvkO/nNXE4IKZ076Y+2GY0qnTDD4pQb6ghhBpQF7EJq0ZQxl5S8ZQ4d+RvPq6kG/kAgKMeUYcp26NDHm6fED/cYAUBDDNmkfNJGhHcBwf3x+hEvb7gXd2esMhpwn7BiDoLFlkrcsxiJDwz8jMdjrMCNkP8QV0YuSHfKxvlokQkvwsclmlfaJBb88CFDOaXcBnfxP5iHSDLdg/YhaBIpq6FOsdCKusMVEkgdoI5xDcQRzT1CG0U94cOCNjPMacU//Cf/qU98cCPUv7igKUZrST3iSntGuWHVOx/OhD9IgrGjzDI6qi2XKkLoQ77z+3S79r75jk7u3Kf0QE71VmhmzJuruSuWSLOMUNZURhpKnx9plRnxwgNXs8pr/6iGPpxtDuMk4h1c8erVO55yRk6d7BlwE0UWZtFWMZMG83DC4MZEQXax8APNDsPsznNDOILD9jscBxiRzJF9HO1taAgmq2IFtyYDNGZ0kpy6giaNrVn46qQxoAEJDfSFaxAsE2hMzfuyXEFtW3foje88qdUrVmjJfff63MxCJfMSLQ/NtIfS8xELJiz4KYIhn7/7+7/XP33rn5wEoCWgUSSPgym+4v/Nv/k33jgyX4wGEpL4e7/3e77ZMNuYMASKVoCvcjRrEEbICBokyCoN8h//8R/7sOzv/M7vONmBoLCZMQQJgsvGyAz70mijTeAdHSALHX7rt37Lt35h4+//+B//o5sj/cn33/3d33W/2CMvLFCJw+ubCfNZmV9awXzN3fv1xB//hdbNmqfVP/lJaXG0gtqz1P8MgecRyHOvnVOG4BdxowOlo4RMonGiYyN+pCcbn1MO6cjJH8yj2aTzJX/4Hcop2kY6ez6SIPO4izv4RSdMh0rHChiGp/NjKD4eFupElD5lg0OV5Cl5/n/9X/+Xd758RFAOeIfgP4CkBrcA/uMeYZgImRkPQjgoU4xO/Pt//+/9I4qN78Nz4oSMBbhH+IkTJIRNudHOskco7pE2Id1DnONxHwmj+X+usI3kfngeD0schJP0Jw+pU3yw/et//a/9Y4G8JS4TQSgrTIXhnHvKFBuYU6YIy7niMxIIE27/wR/8gQ85//f//t99fjLPQzkiThBnPgIY1uYDiw8t2hPaOuIayh9XEA8TWn7iTTtG+YQ80uZDviGK/A6EkivPMU95CNeA4C5pEdwPvwkv5sM1bibB+HD5nHUOKANIdaWaFi7QonVrtPCKdZq1YZ1qVy+XZjeoUJGOzihnv0Ir9+wlySIbK01mN0jkDheGtqkeSPQ7ksEePt42FO1AMoP5UDCDPbd7HvCFIsVwFty/qKK4hH9nVIbwtBieEgHhOhxC5TrTzYljstwBNAB86aJFYrNjOneeIcGfyfRv3CDtSN2uHu146TXl7ANowy1GvpjfW2EfM1b2+DdYJjyo/BkKM6vF6Qw42hDi9vlf/mXVM/xtIJ402tmBrKqqo70bIX1osSA0gKHuE80njVT+qjfKfuSj/fuHr/+Dm6VDh/jQwaA9oNNhKB2SRNrRATA3DE0DK3X5sg9pTIfAEYukP+c3Q34gmXQgQTsCSYIgQWYZ7g0LUUbKF6oT74xaKNXXr72bt6jeUmiO1WPNarC6BXk/0z5llHRAI0LHxPSSqULwK8SBdKATQquI5hCNINpcBNJIx8cz3jF/k/TmYwB3AG7gHp0imh86RYgVnWGIIx0rWkc0jqQf2j7yMoQBCe4FUhbqAFe0Qwy3E0Y0qUEbBjCDnTgID1oltNRB8xPiPBXAbYQwBS0VHy7UZ/IzxGU8/pMe2EOrRv1hfl34mCJt8S+kGYjfnwvDmeXZaDIWxM2HNCH+DBsjkEzqKAu6+GjD3HjTJQC7fER+5Stf8fLLqMZkaLBDeCg7hJfySh3AP0glIyN8TEBCH3vsMf+A5WMA7SXaVdohPsIo7wzj0+YxpI87KBLQtDOlh4VX1CU+fqlrvCNd+Igin5nzTD3ho416yIc55Rj3IahBqEcIdaxUAikN5S+kd4Lx43x5z4VHPN+L9ZkCAaHMN9YoN6teed8Im4UZJpmUohNwqBBpSwD+RdrGSKyixQTnEcwgg96FFzEZvKUwFoXffD/hNvdjhcehKHG4+yYMuOLmGWEaBsF8XMxRl8HfIwC/mbsFoRgr4uEuDXvp7zhGezccqPzYoUOCKNFRh6/f8bo1JSAISK6g3pbTajl8VAvmW0NunT1bGaGKDuXrbERpxz6ZDGV/8xvf1DwjbT/zv/yMmmY0+bvyTKTJQJt90Mx877vf844CMsHwEeSBTvXY8ePe0Jdbw+lHq1q69RmB27N3j9uH/PAeDQMNP0NGdMqARhYSSQdBox4Wo5DOCIuJ0OQx54+hVzQQaCRo1HEHwsliGLQaYc4g4Ropf6LyGP1zsJVTNqc0H1blVovMWrS4KkraADrk9vY2Pf3M04Nav8lECC9X4h00LfwOQrzQptM5hmHsQBbo0Oj4eO5k357RRlCGQycW0jS4Gzo2EAgHHV/o6MK74H/8d7CLPa5oS8lDNEvxegKCeyDYI0wMPzLkDFmIuxXkfBF3J9zT1lCeKDtMCwggXPFwjgXBbeICIGqA5yH/+AgKC0UQyi5pxUcV11KhPGMOO9QX6gbuotEeTQJRxD803rgF+Y/PKwzzB6lTTB0IC7LY3xJNOSMSkEzIUohHyK/xAPMI+ckwNOFiqgYfpqFcThQhLNSFsECQD13aFUZJuOcsd6Y6MQWINIQYsuiNPUYZ9UDvxcgI+5gyB5kPI9oeyGYgkmhzIaN8mNGuQB4DIQT4G2S0NOJ9uIZ0KZXgDvfnkzYfdFz6Q+egNAZWHuhUfW9BLxs05v5mqBMzcOdFsyQJxlKggo0hkzyZvKSMZ0s8PHFfwtPRfD2j4zbgru+3WKyUwe3hKhJDGTQQdJJ8UQ5nJiCEN1yDubh5Gvc40Yi/G83tkYB7NC7YDY1GaGyG83864fHJW4fe3acDr7yhXa9u1u233KbK6zdJdUYSfeLmcLDwW/Jwzn5be7sfQ0iH88uf/7weuP9+e2VEIA3pKqjPOrojR4/of375f+pkS7N+7ud/3skBYJgNovmxj39cDTMa9ZW/+sog+Wxta9XP/+zP6aR1qKwMZT4mhJBhc450Y8EI6Yh5htgZfuf0ErQepCfEieEuhuq/9rWv+cIWzgsmznQQdMYMwzFcTKeJHYb70YYGTcFwoFREJDI6drOfofM//DNdM3+pFn/uR6VFTRowE8yNjj4EI0Ac0MD9t//+39RQ32id1m952MH55H8op1xJD/xh+Jm4MweSbWFCGQwdEgh+8pz70FEBfvM8/A6Ivx8OvA9mgrtIqTtxkNe8Jw/Zpoq8+bEf+7HB9OddqX88I7wM93/pS1/yqRJ8zPGMNB0pfBNB8J80hPBAfMIwLsPchDO0GePxF3eJO/bRlkFeKKOUa+btQfLC4ieIH34QP64hzeII6Uw4KL9cIcPUA/Ii5MdIwG0kfLRBOCFZId48h5CGcASE34SJIWAIFYSLOZoQrIDxpg1CWYbY4jdzYcMHyEh1c6wI4YdMM6WJuZqkF35CBvkYQ+PIxykaRwhj3M8QPuIUT4uRQNrHMZ60SDB9uLyGzgMoa1bgfL6lS+iYokIY/bXOI/ymcMYkejo6MDNojnZpJEtWaSJEbo8PkXnCFyogKOBU8V9wPbxHC0acQywGzdk73KHRoqGjElPBQ4UO78Nvrky+/i//5b+4ORo4zJRWbOD+mh0aL67BTHAvuM01IO5fQPx+LKBhDHZKwxaej9fNyYLlhudAvrVde9/YorLefi23L3JfBFRuaWEvhw+ZPc1HJPL11171xprhIbalyZRnlLbGGjOk85Ejh13TsXMHk+4/pQ0bNzphJC3YRJrO6ytGJOfOm6tHH3nUXadjeXvL2/r7v/87rVm9Rg8+8ID27N3rhJOOjM6YTofOgfRFm4LWhbOC0YiRx5QHhr8YjsUPpi2ErZPQSDFcyRAZmhq0eD/90z/t4cFdMFwZAp5exTJCne06eER7Xn1TaxcsUdVV66X6SuV88nNUpnElKkc8KvN4HTly1NLrDicBk5H3cTeIK+nB4iqGw+kkqU+hI8UscSv1l99xAZgfK4LZuH0Q6m2Q8AwQLvKP53wsshiGvGWhULAXzIK4G8STjxs0bpxMRL7zrtT/yQDukWZoE9kOivKFhg3tPBguPc8FzBM38gVCR52gbFL+GEZHSwipZbSA7bmYHhLmC0I84xJ/hqYTs6QL5Zs0RcuI9pcpPCMJ9QCz1CM+UpjiAcEkjISLqQwQsLDNGNpFPmTQ6lKvGD6G7JMXLC6D5Ia8mEjaAEgf/pG3gTCDkermeEBZQfMKoUSID5pI5pcj9CX4SzwIR7ADQvi4EpZzSUiDIAkuTlyeGk0wQpmL5qgNNaxeOO0/5AxgrdRq3Oywhdn9tz90gnFgr9jYs+E6mhh3fRgnzkRwhw6M5RH2zxolToTx7V+sgpmTEcwtq3IWL/saN78AjRfPsGemB52jYaOx4yufuSsQGBoEGlHmxzDkSWNMR8OXOytn0WhAFH791399sPEOlRwQN4B2gC0haDRZREIDwrtSc3Qk+Mdvhj5wb6LADYQ8Ce6H/Bk2n6YRORnhtvTq3X1Qr37zu1rQNEtrP/4xqbFaqmKxGR86w8GeZvPauX27Dzmzu8Hn/9fPa+XKVf42XRF9/Z88dlx//9W/1+bXN+uTRiAeeOhB79DQMqIt+N//9//dO9nP/eRPqtI6kv/3j80tK4Ovb37dF+zs37dP1ZVVuu7a63Ti5Anv+H7SzNIJkGd0PnyQ4A7kka2Q6CwoG5QZtCFoOhmqZwU0xAs7DP0x7AehZU4mnSQa09ApQH7C/XDosfdpi3NFtqC9j/1Ab//T4/rY/R9W+oE7VGjMaMDKfzQNJSKagHms5P//9//9qZ577nn9u3/3793vUDbOF8Ed0pOV+pBsFtXgB4SOd/HyR/xKy2MpghnqFNfw0RR3C4RnmAe8C27GzQGeU78wC8GhI6eeMywJkfrP//k/uxYJP4O7SAgHYSB/mX6ANhMiQr0njwOhDn6H6/kCf5maA7FFO862WWjVKUvng5CeEFg+lhmaJr/IQ64Mv6KRJo2IF+1ViF9pHEPaU0dIX9IIoYxTR0ibkKbDgfaY+CDUHfxEQ4m7vMPvMC+QZ0hpuxjP9/NFKDe4F78Hpb/PByHMpWEPH0A8I66T4VeCixsfOKKJUaKM5o/GAbBK1St4scCXWnXzZnbESuH+2x8nmkjRDI23HxcI4bIGzOybA9G7EXBmdtDAReGkM8VuqkhYIZ2YDZUVQDZ7unutQatURaYSm94h8w/wJY3mCgLJ0AtzYJh3F+YEccQaJIUGlUaPidoMt7FSmJXMoTFFaBy5RmGLNF/Mv6FzYoUrjXkcmKPxJAzM1aGR5nxlOrFh03QMiKdVSIuAibo5WXDNsoWp/d0deuUb39HVRsTmPvyQZanlY1W5E1HvSmLFJUJKna1t+h9//ue+rdAXv/jruu3223yOpUXKTRDXJx5/TH/1la/owQce1INGMg+z4OOrX3WySX6xmIfO8F8b8Xzsicf145/+caUzad/ovaKyUj/+qU872WQokTmaDFcyB4o5hLgf8orV57j5n/7Tf/J5V7iJGT4W+GBB84TGgo6TNKfTRTBHuURLGson7iJRPeLJ2XnUZwlCeS1vadMLf/pl9R9t1r0//VPSFSuUr8ora2Wfs+Cps8F2Pp9zAvD//MEf6K03t+g//Iff83JIuSztsMcLwguIG/Xiz/7sz3w4kHSBQIc4IZgJgt8I5Z6yDpkKaRPueR6GUEkvQHixEwA5gYzwUUadpN6FBQ3hdxz8RuvGql/qNmH8/Oc/73n0G7/xGx5O/AthIU4hfIQbLR8aPz46KUfM4eU59kZs/84DhAEtH0P1uM3qcMhwKDMTBeENbRPllJEB0oxyzqI12p1QNkaKU4h3eM99HDyP59Vw7oRnw5kbzvy5MBE7FxKkWTwNL7XwJ5gcXB5EE4QOO1xHABWewk7HhBaP32jx6HytRlATBq2HChI6AhpxGv3hMVShQpJy7WjvUE9vj33J1nsH4W7bn7g5u7V7vzUENyL7EBaOGmQYmw5+41VXOUns6406CMKDu5yg8u57W31Y58orrjDZEGk/za0QIzRTzNWCBNKQ486nP/1p13SwHyJkArKBuzTKDLkx1479F7mGCdismqWTC/Glc2KbG+Y+MdQE0WQuWEhrhA6F9EPrybY6PEMjhtsT7cBC+oH4PQj+Xihwxji+t7/xnl755nd0q5HFunvvtM95o1LVFa7RPIMCEX4Pb5leevZ5/ef/8p89Lz7/+f/VtSDllE/eW1l0zdrv/7527Nrpq7v37d3nmsoOK8901Aw9QhRIk7e2vOXbGx23MmQlVKtXrdajn3hUGzdsUC4bESHyEj9CfnEFXFlVDhklP8O2OwBzaHNCneB3yAPyk3vyfDBvPegRIWQh02A9sufYIuYga/Y417znre16/n/8tVYZuV3zmR+TmmqVK7f6YPwjEE0AyeTja8++vfoP//7fq7a2Tr/7O78b1TX8nQSEdAGsqueDij1GmSsHUQtz7mhPuA+LRXhHGqBNZNg1EDvM0Z5wj+B2nBCHdAx+km4Qo6AFow6yoh/NGCMIwTzhJN5o75hSQdnADcgxQ5VoqwkDQh0PRBd7+E85YH4tZlmgASnDT9wPYQnXyQSjIaw6ZviYtoV2buR2dnwIaU4eEBfSLpRP4h3SrhTDxbPULGZGSw/eYQcJ9QaUtnf8DiBM8d8Bo/lzMWO4NEvwwcPlQzTHgFDhe63heXPzZm2xBjlnHdVVG6NtSehISys5X/rhZAnmzTDkEm8EcQ8zrtHhgXWAdH7Ivn379cLzz+vwkcO66qpN3tBHfqAdiToaCB1CA0MHFA1hN6jaOgw0rCdOntTf/PXfuBYSsLccc3XClhDLli/TNVdfoxdeeF5f+cpfe4f28Y99XF/41S+oob7B7YQsZisL3GEoDSKCxoq5RizkYLsMhgW50gnS8bCg5C//8i+9wwF0AMwhYoUxE8jRhNE5oS1gbzcI5Je//GWPJ0O4NPK4Q+PCPWZx71/8i3/hHeV/+A//wTVvgDCOtxEK8eKKkIYguFOq7ZlWEBYLR8fr7xjR/K5uu+cu1dx1m70YUKGSE27OJJqDC7QsSv/T0uhPjRz8xE98Rj/xmc/6R0oGYl9084QRvz/8oz/Uq6+95mQDcoO2kcU2TIcIcyFJc0BHvm//PmXSGf/IIN9C3pSmUciHcIWIUB7CEGNIc9IaN6gvQYK98B6E+sS75tPNvu3JEiMyV6y/0uqehc/fF/PdtcDWebd2aMc/PqnmzVt10yc+qvLbrxOnbbH3rb32lfaBaHr9M8L0N3/7N/rud7+nn/rJn9SP/siPDIZ/MoBbCHFhSJp6QXowxEvaUw/RIoYVyQjhIm1D3cY+6c5vrrQXCHlFvaJukL6lwC0WrkD2uUKYaDcwG+oWv8kj8oN72gDqN+SUtovnaDbRFPJxyUcFcaEdCx8ZmOce4soUCcgmv0HIUzBZaVqK4EcoU8OlxUSAu/GyyH0oxyEu8fgFlMZzpDQoJZBjwVSlYYIEFys+EEQzNCpoU2gY0N79+Ze+pHZruGnka6zBv9nIFBoAtHY0RjQa2GFImblDzMviK5/hXjqK4CYElJNRrrv+ei0wuzT4vGOS+V8a6XrDOlbcgyx86tOf0sNGBug80DpgBmLHnEbCxUT1rVvf0z333K077rjTnmXdf7SQhAtSyBVCQZiYf8Q8I4aCmPBOmLu7jHSsXeMrLdEOAMJJJ8W8Mjqi/+P/+D+8o0T7+W//7b/1YW/m2aGVpMOhsSeMDJ3R8eAWE97RqtJxMWyKNoehdzpKSCV7MrJC+rd/+7e9w2XfRzow0pxwhY4XQsqwHvHG70A0JwLSlbhxJX4I8cMfiCzaHRDyajpAZXKfLEz86Nr8rl5GownRvNOIZjqnbEXUIcUpXrwavvLyS/qnf/qWE4PPfvZzlleNUedobmKOD6VX7EMDollrcWS6A4sGIBHEHTOYD+WY38F90iGeFnF/wXDphJnzSb9AHnbs3q7f//3/RzffdJM+95OfM2JtZMLdLfPTs1TIqSqfVt/WnXr5r76uxdWNWsVG7avnKTfQr1TsAy+Eqc/q26uvv64//uP/rnVr1+lXvvAFzbaPuclGSEM+BNFqUv/4TTqjGaQdIb+oD9QtPigpf9xTDwKZ4xlmsEdecSVtRgJ5SN3BX0g/dS/Mqaas4zf3gWhSDyG9rPKHcFIP+VBk+BziSThovwDpB9kkDAEhXUOY+B3H+ZSD0RD8nQ5Mp18JEiS4XFedlyA0KjQwrIhlCw0WzjAczGavaCU4vooGHIKCpoFOAOLCsOOePXuceKGNYMNY116am5AoVqCiKUTbiRaAxp6Ogc4I8ofWg7mP7217zxt+CBZzH7/97e+4uxBL3CVcED7CQadx3XXXe7iYu4TGlO0+AG5CEOk0WMEHAWTOGJpGiDDbStDJMT+LTiQ0qhBiNI+sAmQ/Q8LyN3/zN776kvgQLxZu0Olgh3mbbIuCm+yrCJmhw0LzSwfHcYhoNuk00VIyV49heNKQMLI6knlypAfATdITPyGraIYhmZg5H+Au6UW6MacRAs9QPulB2ELeT2fH4j5ZuOyPssdbdHj7Ti1avEQVyyyu1qdzrCko1dlAKrAzb/4CXWVpu87SvGnmLF9pTvijRWAFZSxfFy5coFtuvsU+kG7WqpWrnEDwDgnEIcTZF5IV30Eg4mnh7sakFNgBw70bC6gLTpaMRFLmnrI8mjV7tpWPa1RRjsbM4mR/s/aXZMm0devws6+oZc8BXWN1M7VprVQeLZ5iP01CgeTMzX4rW5T/b37zG+7WZz/3WS218jQacZsoQtpSV6nnQTuI9o8N7vlIZWcAVgez7x8af8g/mma0yHwQUi8hnmgKqZshzUMag+BPEN4THwgqRJXhZdoQ5lyGDwymWOAffvExyMbutDlMU6E9YJ41oyB8eOIGfgeCiftRuYtAfoVwIaUY7tlkYSrdjmO6/EmQIEGEyW+RL0KEhhyCxJwz5hKiraNTYJgXbR4bwzKsx2IZNI00Rgw50jmyCTMdBUPNuBUaZjQJkCaGztAs8JwGHI0eQ9vsP0mD7wTNOiQWX0BA2ax20aKFvt0IbR6/WXVJJwLhgxSeOHHch8vYPoNtLiCIaCIID6SXOXNhSJtOiN+EM2g4CBNEFi0IYMgN4ko8IGb4SUdEGqAlpQOlAyR+kEW2GoHMcgKDEwXrgHhP50baYZ6Vx8SfyfyQVMIBwYV0ovHhXUgr0oV0JT4QW0hq6YKh8SB0wghkNmgz0cDifkAwN+0oepmutjS1Dp2PBTYgN8ZnlIl/Z4I8JR0HBtj/r8LKwgIrI4s93eLhd7JpV8gm+cFuCaQx8eTjCAnpEuylzP/4u3MBtwLi7owXuBOIC+WQUYEBy6swT85MuJgPrt0tzxXUt++Qjm/boUVWTtMb11vhtjfmfVmRPDssvln7yGMYm2M5qW980FE2mQoz2SB9kUDSIWzUCz7+2J8REkfdo35SBwLRJf5B4ghpijnIHvnCNdzHJTwPeRDCEpfgB+0GdR53+RDkw4uw0U6ED2CAWdwLblPGgl+Uqbh/04Xp9i9BggTThw8E0QwNLB1TOLMZrR7gHVpMFlCwtQYaMTR/dPwQFsgQVxpqGsPQsAPuIXaBpPEe99hCiM6PIXE6HzSfaEAggBBdtBqcZoPmg7lTdMCQO0gfmsBAnOg46KDRmmCHzgC/MQP5ZIiM99ijM8EvNKs8ZzEAZJJ4AEgYBJNOiOccKwjJpsOEBIVOB7+ZWoCmk84b7QnPsEd8iR+aGdIF7QlzPtGm4RZhQ0PJkDphZyj9xRdf9O1SSFc6PjQsaEXDEYUTReiYuJI/aKbRULMVE2mL27wL5qYLg77hbyGvyvp6paqr1GLxVk9/RDaL5SeAdEOjzb6UfCDYE0vnAb+WwkkCYv9CWQzEBvA7jtHij1kk5CvCPXa4no+42+ZHzsoOHxiPWbn/RytzlBtf3V5R6fMx0VFCnSutiqZaOnTozXelrl6tvP5aaU5jFM54FIrxo8xSTinfn3j0E17+mYOaZjh+EhHSiLoRfgPSinQi7YMZQNxB+B3K4HD5MNyz0YD5UE/xN0h4Tj3Ff0Y4aOf4aKU+hKHy0H4Ef0MYRwNm45IgQYIE48UHgmjSQEK0mAPJ1zvzC8OXO7/pNPgN+WH+Iw01Q8cMvaLpZA5k6MxDxxLu0XKixWAYjd+QSkgD7qFhwX0E4oM9tKR0ABBMnkPSeIamEfIIoSSsdM4MkeM2Q3UhnAx9oT2E3KKRxE1IHmElDJAstKi4j0aV54A5ZJiF6EKk0cCgUcU9ADGG7EIMmddF2FnBHBA6N9zgypAd295AIDHHUB6dHPEmDdH0QCqZDsD0AzTFTDOgs2OeK8QANycDuAn5DUODpCHpFfLpggH/KytU3Vjv2mR1mZQZUaDT9tdDBIXri1bm+OjgaFR2GzDD/g7wnvwPdngTtuMC4fl4JIB8Q4L74Rm/wzUuwXxceI7dQTMmkOvnrS79v3/8x/rGP3zD51D+xGc+4+XSIunRIwZpvOzsUcc723X43W1abGS0/Iq1lnZW56yI4O5QTA1W/iiDlGGmdtx5151eT6jnk1WmAoKbpSQr1OvwPi48K5XJxnDuUwfZPJ/2gVEHTnMirUmr4eJQ+jtBggQJpgKX9RzN0GnS0KLNZDgJLSNzqgCkCDPBHGQMwsewNwttaLDRwDCEjBaQxhq7kDzchGR+5zvfcaIDuYPooWEJhAqSCtHDHu5BdBkep3OEeNJRoTlEM4hZyFeYb4jbHKsHeYIY4w5zHyF3+MXwNIQ2zNWkoyU+DEuiAUVrSMdDOAgrEobP2VKI+ZTEDVLAYibcRTvLnFD8ZgV5OG84kLbQMeEW4SGsuMVcS8IZOjPSkQ6OOWPEkzByDylF6/Jrv/Zrns5xNycDwS2ID/eT6fZ4QYnyLY7spu3gUbWdaNay5Sul2TNUxlnnhsF9W8tYxNWl7//gB1q4eJFuvOFG9fb3qTwTrfo1A5F7Fi//yT1C2fUnxftxCunEhxGadsotHxtM1+ADhw8dyh/TTCi7vEd7Tvnhip248BwtPIIb27e9r+8//oRPFcHugw8+oEftg2TZiuU+7O+rxi0M/vnWl1X3+3u04/vPqspI9pq77pBWLFKh0khjqphGRSEtAGVykaXVfKsHlPGQ31P55UyaBcTLV/x5wFSWveB23H/u0exT52m30BpTJ3kX6n8cUxm+BAkSJIjjsl91DpGiI2TvOwgVJIf5gQBiRmcLaHjpdOnAOPP55Zdf9lXYaPaYF/mrv/qrbp5TJoL2EnKGGcjU7/7u77pWDTKFGfxAowABhIChJWV1NtrHL37xi+4PhIxwsV8lWw5B2ujEIcRoHekoWGDA/Ev8ZhETcznZHggtK8SR7MNfwk+HG7KTeBHG+BUiAZnEPJ0SZkkftLfMyUSzCilkCgFD0YSbcALM4kfcfcLK+0DY8T8gmA9gqBNyi39oN9E68j5u5nJCHgqYyyo1UFDza2/pzSef1p133KmqW6+Xai2fjIEOpWdKe/fv0W/+xm/qjjvv0D//4m+os6fTh5eZs8n2PV0dnX4sJUSdldbcD2QHlM+drYkcCygTlHcIIuWbvA+EEeEjAjdxjw8r5r6ifec++BXPP65oMVlk19baqpaTzUYMC7rGCM+H7r1Pa69Yq1Qmbe+zFq8qH/5nv8yy3qw6dh/QvieeVtfh47r6wftUfd0GqaFa2Wore0ZI02a29NAtCGg2T7zxmwfRMDa3U1WiQrxLcaHLMOGKh6E0nBc6fAkSJPhg47IlmkQLoRNmvhLH+aE1RJsI+QtakHj06cQhTqyiZogZEolmEI0OJ+PQAXMUH1pDgIaR7XrQ/EE00fKh4YQo4g+EDT/wiyFk7EIcv/CFL/hzhHAxBP4v/+W/9OFuwhtO56BTZx4nmkdIAZpPtE1oPiGEkIDgDnIuBBJSap54o4VibifuMs8S/yCQmCONgvl4eoV7OvhwP1w4eIeGjCF2CDJxBrh/uQKiWYZGM2tlcO8hPff1f9KKeQu07KMPSrPqqXnwSxJMA0aYDh86pP/tt35Lq60M/Ivf/N/U1t7qG7Cz0frhw0d06NBhdbS3OwEkb8gzP3oxb2TQygypPpQz5wZ5wocE7pBnlDXKL2QS4R3gHR8nlH385Z4PjNJ85ne+WH9mzpzlc3s3bbpKG666yk81Gshn/WQi81jlZfZB0tevso5udew9qO3ff0Y9zae14cYbNfPuW1RoqlGhIq08GnKLlA+tl6Bg3heKYYiXSbTEZ5fAycFoZfxCgnBdbGFKkCBBgoDLlmhC2AAEihNvuP6WdeRoKOlEAzmKk6Rgh5Nytm/f7ifcsE0OcybDXpJsag7xo7Nlscsf/uEfupYSbSWT7tE6Yo6hZ7SadM74wbxH3qHVQ9OJRhHix1A1JIz5kmhGMU+ngZ+EM5AxwogEAhgnCXFSMBKwGzRfhAcJ5gMB5Rlm+I05CHJIn2CW+3AN9oL/YKQwkCaQbOZnQs4JOxrdyxWWW0Z4LK2ylkbHWvTSP35Hlb0Duu5HH5WWzrdEzyratsfKnRFNtNO///u/rz27d/tcYYatW06dUltbuxHJgqcVWsWKygrV10WEsL6hXuXpaHVyfL7mWEE5ohyiXUZ7TvnlWch3QH6Sz4FkUi6R0vIAMAdhrTPCWmHX8nI03EakjRxzSAGSsbiU9fSr58gJde3Yq8Pvva/u1natuv5azb35Oml2g/qrrGxavKLFQjRS7vwZyJv3wzxOiGaCBAkSXGS4LIkmUaLTgzRB8NAy0nkjdKahUYbs0KkGgknnyvY7bGzOHEOG2emAwZe+9CV369d//dd9WJnjHNF8MlTOUDQaT7SBDLujEfz5n/953zaIThk/OAYO82ylxLYooTNnwQwdOFpSyEQgj4QfAoeEjmQ4YjcZCOSSMHElXPg3XAc2WnEpNQuCewzPo9GEvHN8XyDMlxvOTDNLK1aZt3bo/R8+ryNbt+n2hx5U5bVXWWHLK19ueYpZs9Pb16uXX3zR5zSG9IcALl263GSZb/czY2aTr6wmnyBxUfoFjXZEyPB5ohU6hJvyELkZ/Q5XELk95AN3EbWL7shvioiVKH9qnzR+kg8LoFgM1XG8WV179qvlvZ3qa25VVX2tll6zSXVXrVNhRq0KlSn1laeVEWIu42xJmTP+6b6d+TSC+xkLb4IECRIkuLC4LBcD0dlBxhgK5hQatJhoEplbyfPQcWKO+7CIAa0SZJL9DFlww8T6QPQYEmTfSLafYa4j5BWwUIehbk7t4R2LJxiiZ5uh0FkjvENLxYpz9sTETQgFw/gMWUIeAM+CYC+YC4jfA8ycL4J/4T64ORluB6LJnFdI1Gc/+1lfrFQar8sFZ6eZEc2ylCqMvB3bs8/nGzYtWyZVpDVg3wtONM0M+b948SI/i3zduvW+/RZy7bXXaZWVQ067qa2tUVVVOK4wKi8R4bK/5m4Q0nasQv64O3YPCH8oA0GAb/huVySHPbsZFJ6zSt7+F+xDyX6osrxCmXxK6Z5+ZU+1q+3gETW/9a72vvy6jr2/y9Nh8YYrtfyWG1WxbpXUVGeFr6CckUyfl1kkmWdpMy04Zz2KhdWl+DxBggQJElx4XJZEk06TzhLCCCFk38zbbrvNSWMgN5ihU0KDyCpv9oNkVTiaSogiK7kZVgxg2xw0juwPyTAwxBMNHeYgCeFoRhb0YB9tVAgHghlWnLMtEG6FcISOPnSS8fv4M1D6PP7ufDHZ7gXiEtKAfGBDfDS6zN+bbP8uNkDLfOgcWPwr0xXqazmtg3v2ejkonzdbOWNRaN848QYbnADUNGumFi5cpJlGLBkeZ2gc+OIi+x+SLKQf4mXM3ODKhu7+e4IymC8lEl3MDDeYtasPU9szgp/hnbFOq2FKM67d2qm2A0fVYqTy0KubdfC1N3V81x5VmJ0Fa9boinvuUN3VV0rzZkabsldkVJbGTcJgXhSJ5lmwd+Gx3UakEgtFDD5LkCBBggQXBS7boXM6SxbxcDwkxx2yt2NcmxmijSaSOZxsX8SWQZBH5hGG00sGO14DCyIgmhBY5lOyeAcyyvYtaDUZAscvhswBQ5D4A8nknveQVX7zHMEPEMIzFoTwXAiMJZxx8hziyZzVV155RV//+tc9jS5/xNKJ5PAtfHbr5W9/TzOqa7XpU59QZq6RLONYhQzlLKUBs9OfjzbHh2T5kYyFqAziWnCR3EfDGAfPzrdUhHIV/Ao+RNe8k0hMsADJMjUigtjJ2U1Pr9gLs6utQ62Hjyl7/ISO7N2v9rZWX23eZOR6/oplWrx2taxySTNqza7ZS1n5MCfc76L/g4iKUQT3OLrF/BkosVf6OkGCBAkSXDhctouBAIQHLSMEk+HpQOpAmJfJed4QTYC2ja2E0EYGUhokJFM8uXgehobDc+8wY9f481IzpW5d6gjxYSsjVsczVQFCzpQByDsEk6kM5AVmL4c4jwqSgyhyzVp56+rXkZdf11tPPqW169Zq4W23qmbhHKmmXIWKcl/gMmDsiuF0qCWrrbEe0bvImckCLsbTf+guAhrZweA7sWQ6CqzYHhhpFkPk3b3qs4+v9mPN6jFyWdZyWu2nOLa1WZnqClVa/jcuWqDFq1ao1q5qbJCqyosE0tIDkkndIb4e5xLEI+wBiW7PNpggQYIECS5WXNZEM0SNTqyU2LAYhWfMG2TInJXjzLdkYQ8IczPjdvgNsQzuBjLK70Bc+c3zOII7wV7czcsRTD/gCEymEDBl4bHHHvN9SFlI9cu//Mse/yCXLYq1KixcsYKjFEXkdIcOvvS6dmx+U7MamrTsxuvUtHShNHOGZOQsX2ZlLFMmo3GjEqqi8xNCcBZqN3RfLJtF4ZPMGgceSf3GDHv7ovuuXnUePa7eU6fV39yijpZTaj52XD3dPaqpq1PjgnlqmDNHc5YuUtX8eVJTow+LK20usvm6O2l/uB30PLoJPwcRjyQvS38nSJAgQYKLHpc10YwjkL1wHzSRLBhio2qOeWRrlvA8rv0sxXCEcbhnHySEdOP6e7/3e7436O/8zu+4RvO3f/u3fc/RP/mTP/E5rJDyUjJ+2aFYq9BSRp8gBWXsWdmAkbbWDh3ZtlN733hLFYWUFhkhq1m6VDMWG+FsqpeqMsplUspZEUSb6Bo/J2fF8jv491xlrWjSL9E9iFZlm5vF55Gz9sP9sQtzLbP2u3fAh8T7T3Wo68RJDbS1q9DapuaDB9TXP2DxKqiqtkaVM5vUYGFvnD9H1QvmSzVVEot6LPwM8fspQCn7KAvnkBOg4ok/eBhCVnwyhPACnPUyQYIECRJcCrjsiea5SCH34RrHB5UwThQsqmLuKcPmP/3TP+1zXNFgvvHGG35SEppNCCfD6YGUXvawIjVENMWx3b5gxrc8yhXUeeCQDr/zvk7vPaBye84ioUr74KmfM0tVc1gkU0lBNNKW8bmcvurGYJ9Jds/dudLQzJl3pTUcJ32HyuJKcR8GtzzRgJFHy7/+zm51N7caqexQoeW0Oo6fVLc9Z0FSqrJC5Y11ali0QPWzZqquaUaktbRnHkYnkHhIGMt8+qbSGWtoILYmeB4CFOpY8XIW4uEeyUyCBAkSJLio8YHRaI4VcRKaYOwIRBPt8C/+4i/6ginOlec0I7bjYbN8tnaKk/vLHlaUGB4OFYwYe6yLz/NG7NIdvWrZe1Antu1Qx6FjKuvuVX1VteqNyJUZiSuvq1VFbY0qGmuVrihXKp0ySft1kKiNBsoz/4vlGg1jPm/UN5dTrq9fA1296m9rV7anWwNtbRo41aq+zi51n25TVaZSmapK5aoq1LQkIsCVs2coM3e2NNPIpZFK39YIvltc2AP4Gwgl2swoCG7IjZ0R7NHiEDk3PMYQ9QQJEiRIcOHxgSeapaQnJEdCNMeHkI4Mi3/ta1/zE4/YI5QN8u+55x4/SpNFQB8oUJSsGBUvZ4Bh57yRtPKCETC0iqfa1HnkhE4Z6Ww7dEQDrW3q6+1TIc8em2mly8uNaFao3MgmRzqyvZaKWuGRSip28duvlj/c5+y+v79P2e4epYxoFjgv3YR8S6WMwNZUq6qhUbWzZ2vW/Hmqm90UzR9tqJUqK3z/z0KmzLWbaQt/wYgk80oJC8P7+AGcUHIths5KhwuIhu6HEOzEMWiCl3Hjpb8TJEiQIMFFjUSjOQwCaUowPoR0Y/icjeu5ZwU/+4ZyHxZPfWAwHEkCxWfhNdeCjzEbCevL+bzI7PGTam1u1unjLeoy0tlx6rSyXT0qy+d8z0poG//dqeI1cityh78QWchd9DfSJKfKM8oa2eRYyFojlY1zZqnOPgaqqyo1c/YclaOtrKuLhsIry1XgBCP4LIvd0kNk0gkwcy7tGTwZ993/yPthEV6VloHhrIT4JEiQIEGCSxsJ0UwwqQhkc7hi9YEimcNhkGkVrwYekVbM5QRp5jH6s7xrBTVgvwYGpD4W5vRJRhCZU1nIZZVnvicgrc0Y5uPp7neW5p7uxbRHK6qMEUR+sxqchTsV5RhE1Rg99yvbLBV8QVIUtohi2qeCD4JzNSbrZiMaa7+HvHbn4jijPBTDci6MzVSCBAkSJLiYkRDNBJMOJ0559FzGQ8Lw7hjJxQcNofINVkJLO1Iqn+OscHtaFq3U5llEQQ0Yjh44vAbH7w3+c8hR/xvPA7ScrptkjiWWBl9FxBQtZiC/4RVXdJrRsLj9wp4v/uHejYyM4EiCBAkSJPhAISGaCRJcRAiVMaLpQ1foekTZz+RsmMdMsBeGzp3+FR9yCfbZKglkCzlfkMTTYBe4PZO8/Qv3COt8onv7G1mMMNYPiLixuIcjYYzOJkiQIEGCixsJ0UyQ4ByIVxDuSznQVHCi4SpleBb3L04yRwN2nGgWJX43HAJhBdiNtJhIcGkCiAc8QYIECRJ8IJAQzQQJiqAilHIhiFwgcxHRiiRUmvizScNwNdI84PFwr8Bw/g9nNriBHjOii8O7yDZIZygu7Tckc8JEc1ITKEGCBAkSXCqYoGoiQYJLFDFeFdcGBkLpYg8hWoOAZPHbXqSYO8kK8eL7iIAVUbTCpXg7ORiGpMXd5/W5JI6o0pe+PTvE4U10Db8mgPOwmiBBggQJLm0kGs0ElzQovPCYcB0VsZLuG6bbFTsI9+EEHzeYz6vc3kQn6PDbHmftT/+Ab+njRyz6pulFR32lduQFEnR/E0bkyFko+nbG60Fj4SUosRt/FRAZGe7NaOZBcVeBYtPhf+1P6YKvaLV78YdhuKYmWSSWIEGCBJc3EqKZ4JJEKLRcoSrhCs6gLnEDRXAL0YRYot1jXXekxWQJTBFWLTJmINXb71sLDXR0qb+tU73t7cobOSozolk7q0nVC+dJVWyebg4Y2Qz2I6J5RkgmFSFaFwo0G4FsEhZwFmm0n6nisZkA83Ezpb8TJEiQIMHlh4RoJrgkQaEdruBCWwapS6mB4gtXTppANDmem10ki0wz0loO2NvuXnW3tKn72HF1c9Z3yynlenvU39Nr9jnVp6CqxgatvOt21V61zhzIqpBh5mN8LuPlS6LYvorThJDQhLCVVVwG08LIZDA3+M7uw+8ECRIkSHD5IiGaCS5JUGiHK7ilRDMyN2QSxSO/skZ+IIxp45WZAcjlgNTVq57mVnWebNbA0eNqPXJc2eyAek0yVRWqmTNLNTMaXQM60NWtve+9r6Z5c3Tlxx9WxfyZUmXG3Y6UdJcv0YRk7tq1S4cPH1Z3d/fgnqkQSo7GrK6uVmVlpZ8INWvWLDU1NQ1qLwPRhHiG3wkSJEiQ4PJFQjQTXJKg0MYLbrgvpXYUb1/YY5KG2KDG7DNiBEFq71B3a6dJm/rtvmACyewyEsl54pVNjZq5ZLHq5s02glkvzWyQamuMpZojPX06+uZbeuO5F7V+zRqtevh+e89Z7uY2czcvY6LJEaN/8id/oldeeUXz5893ounpXCSc4ajRqqoqLV68WFdddZXWrVvnpBMiilmIZjDHb64JEiRIkODyQ0I0E1ySiBNNv6cYG1cJ9K740xGdslOmdG+fuo+e0qndB5Q7dExlLafU1dGpvoF+H0qvrKtRqrFB9Qvma+7yJapaNF+qN2LJmd/KKZ8xUgQhMscLRpTKu/q0+Zvf0cltO3XfZz6t8itXSykjW+VpMx+Gzy8/QDT/8A//ULt379YnP/nJ4tMoDwYGBtTX16fe3l7XenLmfVdXlzZt2qRHH31Uq1evdlIJKUWbmRDMBAkSJLi8kRDNBJckokJb/AvxM3HSYgSmjAUodlvmq8SNIJ5qU+vxk+o8cFjt+w6p5eBh1VRUqrZppqpnzlDDgnmqmlFnvxulmU1SXb1UlaF2SOmICBXK8hqw3yhEIZC5bL9q0xU6/do7evFvvq7rbrtVCx661+ylfK6msajLlmiCrVu3qr29XbfcckvxyRACeTx16pST0SeffFJPPPGEPvzhD+vzn/+8D6nHm52EbCZIkCDB5YuEaCa4REGxjYou2jE/ucYIZmEgG+1zmc2q/ehxdRw6pp5d+9V++KjyvX2qnDtXjcuWaMGq5SqfM0uqrTZiaVJeJKzuoAnkxxzFTadB9scoq71no/OU8dd+VZZlVHa4WU/9v3+hJnPrmp/8Cam+MlphlGYm5+VNoMJQeSkCcQxNCxrN3/md39GOHTv0H//jf9SaNWvOMJMQzQQJEiS4fJHMxE9wSQIKk/eV4kYyu/vUefCoOncfVPeuQ2rb8r4OP/WS9n3/We17/mU1Hz2qGSuW6qqPPKirPvWIlj58n8qvWistNKLZWK1C2tyBZBYlnwpS5sSSf/iYsncYZT011zIWslRVqaa+1oeK1dNj5mKkCWuXIUI6QRCHkwDMMBezvr5ea9eu9WH1zs7O4tsIcfMJEiRIkODyQ0I0E1yyyOWzYjuizgNHtP2Jp7X7Hx/Xge/9QEdeeFUnt2xVVVm5ll97rTY98rBWPvphVd56rQqLZytfk47Ipe99aQ5BKCFJRhyZN5guMzHC6GQy8soRJ1IsLHJUVKi+oUG9kMzubgxFzy9jxMlhSJPhJKwwB5BMBASiCkbSiiZIkCBBgssDCdFMcMkCIqiBnE7s2aeWnXt9m6Lyujo1rlyutR+6U2s/fJ8W3XuHajauk2bUqFBeUM7IZXZQW1kkmMMJJDMmpdpJzDjSKVVWV2ugt89Xotsbk0gHegZLvcwQ0mkkBCIZzLS0tPgq8woj5iA8T4hmggQJElzeSIhmgksTRmT81JmBrDqbT2nezFnacO99Wv3wg1p43+2quWGjCkvmqlBbrnzGCI2xxZyRy5wRHKc2Zr/MxV0bQiCVI5KoooXwPpVSeUU56lU/QQgEJz7oCMPrrEJnz82GhgYfRkfLGQgm5DNBggQJEly+SIhmgksSThAhmv05dXd2qaahUeI4yDkzpPoq5SqNzGQKKphBtJcRwUTTGFFAp4nDsUFeBInDf/OHKhNpQ90+Q8PlFdFvVrnb/7JCWWT8EkB8GHsyETSWXFmdfvToUd9zE7IZEIhoggQJEiS4fJEQzQSXFIYoEUTPim++oN6+fl+Uw36XlOgCGrNUGpZj5lglHiQq8Ii7w80o4Dz0IO7fcIJGs6Feffm8WltaIs2mO877SxdoHINMFMHu8ePH1dzcrIULF6q2ttafhT00p4LkJkiQIEGCiwfn6GoTJLiIAZE0ojmQyynne1dC/NA2Rgg7WVLI0YAiDNSy0Mc1aS6YHB6YCXI2inbt3Yyli1W/YK4OHz/m2yrxjNOICMfFRqMgdoFAsiIcCb+DdjNO/rjHDKvq48/HgkA0w1GVixYt8qHy4A7X4dM2QYIECRJcLkiIZoJLCmfQEid60S3D4tF9mRfqQDKD+XAP2XTiycPzwCBBMgerlyzQxg/dqRmrlpnjxYVG9np8tGzyAZGLk8pAJgPi97xjLiV7Xra1tenYsWPau3ev3nvvPb3++ut67bXX/DmI2xsNIY1aW1tdgzlz5swz5mcmSJAgQYLLH8mG7QkuSaAx9K3Uj5/WY1/+ay2eN18bP/qw74uZL4+0mhwEGejeUDFHQ3n+31e45jSKvTy5YyFQNqdCuREphvCNZPE+yHQiEMoQ50D4uPKuv7/fSSV7WnKcJNpKSOTp06f9Oe9ZJR7us9ms5syZo4997GNasmTJoFvnAtsZcbb5H/zBH+jLX/6y/uiP/shPEoL0Bs3mWNxJkCBBggSXLhKimeCSRM4IE/td6mSrvv0//koL5s7R9R/5iDSrXgOczGPghPKpIpqDKDqL+3lIUyEn5qtcLO4AAM7ISURBVG0WzxOadpIJIIYBEEuGrdEqQiQ5FvLkyZP+GzKJBhOyiUD6mENZU1OjTCbjR0XOmjXLr4sXL/Zzyuvq6tzdsRDEQCj/5b/8l3rsscecbG7YsMHDFPbXTJAgQYIElzcSopngkkTWyEoGsnK6U9//u68rY8X4nkcekeY1qS+DNrEg1oIHFAoM10KOJpFoDnFXZe0H9I45oBl7fiE0dRA4/EUgkgx/79mzR/v379ehQ4ecZEI6MVdZWelbDbEKnHuGtVmsw7WpqckJZVVVlaqrq/09msng9liBP+A3f/M39fTTT+t//s//mRDNBAkSJPiAISGaCS5JMHQOUn1Z7X9ji5qPn9B1N96osnmz1FfOyT4FZZwJIqxuDvMCWe08yUTTANHMGQfzY86jZeoRpolvUo2DcKb4k08+6VcW4gAIJItx5s2b59fZs2f7/YwZM3wTdYgkVzSZIDQLXANhDCvFx0o2sYdW89d+7dd8jidEc/369QnRTJAgQYIPEBKimeCShFNIK7qcIpnv6lFnR7vq6huUqqnSQDpaEDS0FXh8JfUkajQBq96zA8oaoUqVZ1SRKbdKVXwHpoFoBjLIfMo33nhDX/3qV7V9+3afT3nllVdqxYoVWrlype9jybA4mkrIIvYCaeQaJ4Dh3VC6RWbi13MBu8zz/JVf+RXt2rVLf/EXf6Hly5ef4W+CBAkSJLi8kRDNBJc0XLNpckYhNhIDkQl0ckibCcY3/HtOmN/79u3Te9u2aZmRqCvXr/cV55DZ6aJSEESq8ZYtW/Rf/+t/9dXiP/qjP6pPfOITTjbRVmImbpY04DoWLWUwHzDW9MMeC42+8IUvuGb1z//8z12bWupeggQJEiS4fJGMX00B6EgTTD1IZ1IaCsX2RoFu2teTyxAgNUEmByGPIbrvb9+uL33pS3r8e4+ps6vLh4unqwwEfyBunL6DMPzNaTzMx+Q55DIQTIgl71mkE66BbE424m56Xk1TmiRIkCBBgosHCdE8D4QOPOxRGDpzkHSqU4uQvikjM2kThqsLOcuLbNYJDjIdeUDeI6zgfuedt/0EHPguFGs4/yc7TCGurDRnWJrV4SzeQcv6ve99zzWKlEvI5HCEkvAEGQmldsaDkA/n40aCBAkSJLh0kRDNCSJ0zFwDwaRTZwsZtEqs8GV+2mgdeIKJAU3diRMnfDPxV15+Wd///vf1+GOP6fHHH3dy9corr3geBM3iVJIc3Gbbn2uvvVYdnZ2Dm5OHDw9AONinki2EwGSXCdxDM8liHsrcNddco5/+6Z/2OZmA8FwITHXaJ0iQIEGCix/JHM3zAAQC8sA2MkeOHPErBJO9CdEq0eFff/31vkVMgomDIhqK6YEDB/Tqq6/6lf0g2XQccgXRYi4imj3IzapVq/QjP/IjruUrJVqTSX4gk2xM/o//+I/6u7/7O/3qr/6q7rrrrsGPD8KElvPZZ5/V3LlzddNNNzkh5N1khYNySPxJl3/1r/6VxxuiCblltTnvSoHfE636Yw037rNA6fOf/7zXjz/7sz/zOZpgMvMgQYIECSYKWsHJaI2CO1yHczP+u7Tlvdxbw0SjOUGgvUSj9vd///f60z/9U9+MGjLBvoXMj6PT/+Y3v6njx4+7+Yl26h90kG6BtEEov/Wtb+lrX/uaayzZoufqq6/WQw89pI9//OMujzzyiO/V+MMf/tC3+EH7OZVpT9iY64j2kNXc5H1ACDtlgLKAtpX3EEOeTxZC/CDUuB3mXpI+F0qbGQChDJpWCHmCBAnGj9CCfTB6EWI5Xhk/gi375La/Y5XhwRta9JwJW90NFHLKFvKD2/BFRDJyg385zBQF89bDDb6P5PJCQjTHCTp1tGbbtm3T3/zN3/iwLZ05R+t9+tOfdk3SL/3SL+nhhx92MsRm2ZMNSMpkEpWLHaQ5aQxRYUU1BOrnf/7n9cu//Mv6mZ/5Gf3Yj/2YH494//3364EHHtDP/dzPad26ddq6datrl+Pas8nWpBE2BGJHGNFw8xt/Qj5BdtHoUWbQeIPJzL8QJwgd95Q7NImQTsISwLsgpb/HI2MFcQyEF4Ld0dHhz+NhSpAgwciIU49SuTwxXEzHKqW/hkHxxaAZ2qKinE32hhE3W/K4FGamjObd3rF2IGoxhyzwD78gm77/sj8Zej8o4fYyQEI0xwE6TjpaOsq33nrLN8RGi/Ybv/EbTnhuv/12n6/HudAMm3N0H8PpdPjB3vkCNwJJ4T7IhQDhCDJVCHHjynSEBQsWuOaQ02vYExIiE8JAOkOwIFyY41kYSp8qQC6RkL9o7kJ+4zfhYd4uGnDmlUICw1D2ZOUbfhFXNl9naJptjtCsT1aZmyjwm7gyfYE0QbNLmlzIMCVIcKkh1JbS6+WNscbybHMj2owlID2CazKLXUPOGCHayJF7shFddUtl+WhP53SuoPKBgir6cirvySrVby9xuBD6ICOh9tdPkDMpL16diLkXRX9G8e5SREI0x4HQQTI0iXAuNJ0ohBLQmQI6febGMT+Ts6InEyw2YUUxV/yZbpAG+Ms1SHg+FYAsQeRwH6JJWqOlRDvGsxAWrpglX3jHkYsQUkjnVCKQTOZico/2MpBbfjOHFC0s4SKcBw8e9PeTCfwCzAH98Ic/7HMzmTPqK+ANF6KcxLF06VKPO3kS6kiCBAkSjIxAzM4GPU0QNzehrgfChx7R+g93wmmnaxeHx8jh8QBANnv6lT3arNPbduv45nd16q1t6t97WOrsM4fNjDtd5i6l7b48a2S0P6tMzvou3lkbOURILy8kRHOMoKMMhIeOnXmAEJ+XXnppcEiQ5xAbBILJ3MGNGze6vfD+fIDfaKuYD/riiy8O7pM4nSAMCMPYbMLNiS9o6gKZ4d1kgziGeHLCzXXXXedncaMt43lI3wC0zUxZYPgcc1NJbkJ5wB/IJEPEpAV+8huNNkP4aLrRwu7evdvTjjBPJgHEPcrdHXfcobvvvtvnCzMvFI3qhSgjIPjLUZeEjekDIb0SJEiQoBTOt6LbYcE7Wk0Xa0vc7Hn0Od5W2f+0UaEMJNB+uwIyej0q3AxNWcpI6ul2nXpzm/b/8Hnt//6zOvrS6zr40qs68MyL0pGTRa1mCK+JRaDnWLNObN8ttXYWiajJZdo0JkRzjKBzDAJBgMRAIiE1DFOG4VCAGUgGw5gMo59vxxo6bkgDZ0a//PLLrtWDzPAuvJ9K4EcgRmjMvvOd7+gv//Iv9ZWvfMVXW4e5qMR1MsMT0i64yzZCH/3oR520hecg+Im29+tf/7oT/dtuu80JTjw8kxm2OOrr613bigaTfCKt+BBgqyXS65577vG5imj1mMcZPlomG8T7U5/6lJ8p/g//8A/6wQ9+4P6cbxkcC/AnHqfwAQDRJFwh7tMRlgTnD3JyamrLBwshHWk9k/QcHiF9II95X0QTSWkbWRj8OKcvtvaF1+fRnrgm0frR3lOnlDvd5oQTreaoZLP4gnmWjv6sDm7eot3PvKD+E6dUP3OO5q9brxm09zt3q3DgqJSNzHp8CO9ATkfe2aa3fvC01Nw6RDQD0wxRukyayoRoTgCQCIbN2aqGjvP111/3OXhBwxY6Uq5xAjpRBIIHuWRbH+Yf3nrrrR6G6SYRkIcnnnhCf/Inf+LD92h1n3rqKV/lDcGC/E52eOLuQVgg8AyLx+NOuNg0/Rvf+IaTXhZjha2NyIMQ/slG8J+8CIteIJv4ifb5ueee8w8SygqEi+FstmUaLY0mEs6QN/jL2eYsliI8f/zHf+zD9RcCIY5MI2FVPvNT0f6PFvcEFw+GFjIkGA/itZf7IE6iuJp80EEaQOYQ7j2NLH2iIWQrdUWJpx9ImeF0W7f6Dx9XqrVTZRC0EdqTYOcsxIx7Ge8b0J5XNqtlyzaVDUTD2Ni10Az6jZwBgldsp/M9fXrnva3qzPZr3Yfu1KqH7tX8O2/WsmuuilaUt7aT+W52cGS8f0Athw6r5cBhP2jEGm9/fOZxyZcPEqI5AYSOkg6dDpRFQXSgQYMTx2SQm+AGpBZyhzYPTSnzAsF0ddyQGBa7MCQLaWLVN6vsFy5cqLfffnvS5x7GQRxDPL1BKt5Dwkl3Ftx8+9vf1vPPP+8rz++8805Pn1J7UwWIL+kAieTDA00mmlWG1FkNz/xJSDKrzsPcSVAapvjv8YYX86QFaQK5/exnP+vadrZ5mg6EdI6DsKBV5sx16ggkPMElAIoenWPo94pFMZRIfx2T8PwDjZBG8Xob5t8ZBtuhojjCjzMeDvtoXBjNLs/jeReXs+xMNADnQDwMwYuUsbeUEb00i2i6+pTqyymFJtBJJyaM+J3q0MHnXtHWbz2htvd2Sr19bhdSGF0jcA0yCJwJThXNU8YLHV3a9/rb6t5tH+S9WWUsn1IeGkbRImNnoGg19PaF8rSq581SatEcpdYsVWF2rVRfob6MnHyWldtNOhqRG5wDauWir63DjFXa+2gdASTTQmN3RQ8uIyREcwIInXlDQ4Nra5h7BgEDQfsYMFznO1FA5NAaokWcDE3peEA8qCjEjyFh5kquWbPG0yDEEWIXtIdTiRCWcI82+emnn9Zjjz3mUxoefPBB16wyh5Rh61It61SEj6kSzNtFi8i0AubR4u9nPvMZXXHFFYPzdnkGKQbDhYNwEmY+KMYK7MQl5AFTB9DqvvDCC4MfAdORN0hAqA98lFF24yQ7wUUOyooJw5WhCyQ3o+1Y7FVMEkQgLSj/aC+93RkwydrHcM76DVYmmzAPMGg3nfhQXUKVIc0nAYNODpNJ+Bvl45B4WEzOQHhw1ovzRzzKXFN9A+rZd1gnXt2iIz98QQcff1ZHn3lZPe/tUVlbj6WhmTIC2vzWu9r9/Ksq9PRrgLRyTeFQeSx1F4R3QTz+eYt11oTIm1v5llbNKYvWgJdZhqTMZHCL/Io0rSYxhHYuXVOljXfcqkXXbFDWOGWBZeRGLNtOnVbO7KZmNNjvlAaMbTnRtP8M07cdOKKaMjOcsr7cwoJ7KaYDlHp0GSAhmhMABYIOmw6dU38gBpAdMJUdOW4j+B8K+XQgxAnSQHyZJ8kwdSBzDOezshiiGcI3lQjucyUPmJfJKmsIMMPqaBOZNxr2OQ2bqPOBMJ60G0teBrcIx9q1a31PTwgncyTZz5P9VfkwgGiihYaQ8mEC4uEIfpGmhJ9FZoGkjSUcceAuxJLtjliExGItSB4o/RCaLhB3NPIMn483PgmmF5QRz6MU5XMoryBH/GK0MhCTuFxuGHecLLmwkyvkNWD1uN0+Fvdv267j77yvvv1HVdbSobKeASNNReJiiUgyu9jPiHSWOffh91DrMAG4g9Gto/g71L3wOvo1hNLfgxjxxQRgbhE3CBzqklQur5atO7X3e0/rxLOvqO31t9W15X2dfulNHf3+82p/ZYt0qls6dFJ7Xn1D85pm6sZHP67ZG66QKmB1Z6eVux/dDsZzMAqkASSzy/rsU22eL9WdfaqyvNHpDp8zWWbX3MlTKrBQp9c+0gctD8Hb76LDc5ct0apNG5UnPIxsWh53HT2hpto6aeYMD0zWMh09qezDo2v3fvUdPakq7GM+FILLFAnRnCAgLUHoxINGcyo60UBIcBvhd5ykTDVK/WL+IwQKcg0hYhU1+4ZOJ+LpjIYQkgmh2759u2s3mZfIHMnvfve7vn/jcGk2lrwKaT4aeE85gNgxd/Znf/ZnfV9V0iQM3/MejSZEE+IH4uEJflCO2FGARV+QxbH4HxDMQhRwmyvElSv+BzPTiRBHploAPlAuFNlNMDZAJ/2f5R3Cv2gg0fLTyk/Knw11HpdjJ0ItoZSOp6QO1lWvYgX1dHRq19vvatvTz2nX95/Wvh88p+Y3tip38LhSnf2+xyJDw6niQhC0XYw7BO0xbp3ZYo0R7n/xOngf+QHBTdk1bS/iwjPX3BWNTzX4aAFedtq6tOe5V6RjpzT/iiu1/M7bteah+7X01psiRcKzL0rv7VLunR1q3X9Yy6/aIC2y9qS20oetCXU8qqUIcSI9s8TRym/XiRYd2vy2Dn3/OZ189lVVt3Sq+f1dav7hczrww+d16NmXdeCpF3XotTfVf7IlcjzuQfw3ccHd8ozS1r67f/059TWfVmOdEc2GentgJckIdTlfEafbddL8Srd3qzZVDpmwh9iartSfflyObcS0gEJL5+2NgRXc0Hl6QzPJiBMSwO+p8OdcCGQlrPyGMLEICE3eVVddNUhqpgOkQUgHtJicysSQ+Y033qhHH31UP/VTP+WkjzmREFHMlaZZabrGMZz5sQAiyepzphSQXiGMXFkwxPugYQ3v4gjDy1zHE4ZgjvTnHoLL3GGE/IGEg9HiPBUI/jHFhDRhQVtCNC9u+PAd+UbWUa7IrgFIUd73/0vbMzanpjVwgmLXySpVlOJSKcVo7yYLcT/G6k8o61zK09YONM3Q8ivWa87ChcoPZHVi5x7tefp57Xjshzrywuvq3L7Hvrw67OvSPgzzZsnSuWBtaETtDebxeaUrlhHy0PJOfQwVW37ZJWWMNp0tM7H7AciufUzg33CRDe5MFswttLeeXvjX2aP+9g7Ntg/12dddreobNyl9/RWqu+VqLbn9JhVSZWp++TW1bH5HDeWVql61koKnrBXGgXS0SnyQnLsH0TXcx4OPKQj1bvsAeP27T6jvyElfKV7B9IaBnJNKCGL30ZMaaG3XQFuH8mg/3cHgYhH8RryuRD4EyojGNN8/oPrqWqm6mieqsDxm7mnr1vd1au8B1ZSl1Vhj7yurzOKQG5cjEqI5QYRGBXLFVxdDoyCQsakCJAK/A8mdLoT44idxZQidrXPQULFJOHMTeTddYQrhASzCQcvKfMhPfvKTTjg3bdrkhA+tIPmD+bES4fONQ6n9EFbIH2lHOIYD9ggvmmLMjiePIa/heEvsvf/++/pv/+2/OWHl9KoQhqkunyOBU5wgu2ieE6J5EcOKWyA6LpZXvdb5Hnhji/YaOTr8xju+KXUZw4kQFsvKYLYUlNy4jIa4OWpHEEpK3G7cXJDJwFluWb1jnt5wtWU0v6lnTBskPWqt/Vl17SZtuP9ubXjoXq295w41rVyuXqsDR956W3ueeFr7nnhGrZvflY6dVmagzMTIvJFBJyw+deFsDP80BjMAb2Vao99be3Nk527teuFV7X72Fe17/jXtfc7k+Ve13+73Pfeqdr30mg5t26l8T++ZETP7w8XzfIGbPteX9q2hVks2rNfR/i51nT5hxMtiX27P7ZpasVjLrrpS+/bs0aHtO7R6uZHMWU3mQF55a8siDTAgsmdiuHB7uloedXZ0qsza2FUP3adFt16nXFOd5l13lRY++CGtufcurbr7Nr+uuPkGVc2dbY4N4xptarFddc9M/BeryO15uqZaHV2dPjwPyc909un4u+9r/zvbVG8Es6quVhWQ0ErjDm5xuBBfHrgwvc4lDiqHNyg0wkYKAvEC09GR40cgDuMB4R4rcSlFsBtIApoyVp8zPMyiE8IEoUMC4v5N1N9zgXRAS8jqbjRm7GdJfjAEzYk8EByGtMFYwoCWlv0emQ4wVsTzgnvSoDSPuI+Xk9KwhN/4CxkLbow13Vj1//jjj/scSBb/QDKZOsDKc6Y5BMTDNJ2AOCNh/9cEFzGKC1as8Km3+ZR2PveCtj75QyMlL2n7t57Q/sefU/bQMX8fSdFeKWJld7hSR9kOeyXynkVHXNGq+bUo4AwvMI8ZGJ0vBjk/0KIhTmyL8Ul196nsVIfK+rORli/45X7zAIn+Ri3iEMqs3gZ38tYd5JvqVbZ0vmbccJXWfPhebfzIA1p8/bWqNCJ6fMdO7Xz8+9r7vR+qfcv7SrX3qmzALBaH03EfCShNl5FAmNhaBxT6B3R0z17t2vyGdj7/ovY896L2PvuC9j79vPY/w/2Leu+Hz2jna5uV6+pxO45zeXIewGnSiKMfC421Wnz7Daq/ap0GqizBKtLKZcxElRGw6nI1Ll6gjt5utbe1a86iRQwbmWUj5OaKr7sxd+h1kZA2wwXdp3wU+69VGzfo+ocfkK5Yqe4FM9XSUCktnietXqLs8vkqW71UZSsXKbXASCbhCI6PhvCe9i1d0KxVy9Q+0Kddzzzje2y+98Pn9PYzzyljbfuSdWvUb/FM1VRF8fEyhQPFRWLIufy7hEDyJZggIDOsDobgQGjGSgomCtyHfECsIAz8HqufcXPjsReAf2jbIAks6mDxDdvVoC0LRC6ECaBJ27lzpy8Wwh7PsRv8Jt2QydBuxclT0GCyzRCEkZXxQdtK2iGjgc3wWUAE2cPdydS+BaIZ0iikBQjki7Ql7SDMcdI+EoJ9CDJ5wib6X/rSlzz+v/ALv+BTCgK5vZAgLhBN6kwoDyHsCS48BnOCPGFFLlf76Dn+3nYdemebli5arNU33qCFCxfpxPvb1b5rNz03FopyNsqs6kSEsPjAEM9zby+sfg3uHWjvMJ+O+mkXFoqUWd0oK2794vMIGf5lQU2/Pbd7L0tYj1wZF7BDzUMzhqBl67OPoUOvvaXd3/mB8vuPwog8bMqhxTWhTfB4RIO24R+ukSLOSWiTCBcXe1CgKhux0Iwala9arPm3Xqt1j9yvNQ9+SPXLFuvk/v3a+Z3HdPyl1yUjuOq1D100Y+YGmlXcRizFivejI4QDpKzeLV6/RuvuvEVr7rhVK2+5SatuvdmuN2vFrTdp5a32/OYbtXjdOqWqjPhg2RB8Kf6cVLjWnPynjcWnOU1acedNql+xxMh5pBUuUA7xvLpSvdkBK5aW9pA+nll5MDqvcisbrgE2C3x4+MeHpdlw6eRpUtzkff7alVp03SYvZO25PnWRWLXWThZyylk25X2NkaW/H2CORRPydCyg3a7IaNamKyx9b9Sp3i7tf/ttHdyxQ41NTVp+8w2qXbTAFw6lLW5RPTIhPTxW0YIwShRyOSCUxQTjQCAfrDZnuJKFDhCDySQlccSJFPdxbdlYOmvMoCkjvGiUJgLihuA32jMW2XDU4dVXX+3ue6Nh1+DXm2++qb/6q7/Stm3bzngPIFJsZM78TogVCO8mCk+T4lBT1hokVm6TNxxXyYcA7o9EMnmHoJ1+5513nCATxhDmkNbnA9wJQ+fxtAh+A55DGAkHm/KPxf9gl5Xuy5Ytc/tXXnmlvvCFL/g0AvZcheQFcxcSpD+EmnIUwnMxhCtBHJYfPgHTOrvOTh0xQjmnuk4bbrlFi42MrN94papYgJG3Tp9i6SySPDQpXlx43NuvvhOn1HuihUppD4Ze+1/IgpUJNE0ayPocUBaGqKVVOmnS3CZ19fk7PxGGsgIBa2lX2679at1zwBqTrAeDcjTk9igIBopXLgQV8aFcC0v7qdPa/vwr2v7tJ9X99raI8BnRcVMWloGTzSrj4AEIspEhyGb0NyI4tDIeJ5N0MX4pyIelaSFt6VqeUrYmo+z8Js285Rqtf/QhJ5zVM+q197XXdfj5l6RjpJm5B3kyf3CX0A7FshiBUhRfEQY0fqAsk9G81cu14qbrtMrI5vK7btWyu+x6961acsctWnbnzbrinju15vprfbgX+6P4MCnwkFmeWasdaTbxraHWyFd5pCwos/QiAGh2Lf29/+ErhHIHLOl9c/U++83q8ZOn1Xf4uNRh5YdygsRiEaWEpQt9gP3IZdIaqDHSmklZlprv5HGFxT2Vtv/lXg74SDALZt5ukHMh8sry2OxYHSmbPUPL77hZV37sfq27705d/eB9uu7D96vWSD8ZRLtcWWVEE7fdLrkcCTluIQpOXvKgPCYYJ0LnCJFhbhybtk/XYovg/lg66NChY4dhZMghWwGBiXTwgbB861vfcoLIVj4MWcfjDJFAK8j2QmgFSRs0sAD7mKUhgQgyxxMzYCLhKbWTt0YZv9Bkskk5HwDM1XQSav7GwxlHSCPOJccu5Iz8DM8nA7hD2IKE8AT3uZIurJonDdkuCpwrXYJ9NLe/9Eu/pF/8xV/0K2eeo8k8V9ynE6Xpea64JbgA4GONPLK2o6/ltFpPnNTCuXOlxhnWibfr4O6dUk2lGpcutgyEPFoehizl6vf2rL1Lx7ds1fanntfeV9/QwKloARw5PpjrECh+WEefO9rsK7IPM2/wmRe0/8lndeipF9T2/i4nm0bVVGbEtXPfId+wm+He5m07pL5+D6+XrcjVkRE8jl0Hw2KIyJx18OZQpblZ3Z9X1/GTTmadKJellD95Sju/9wOdfP0dqZutipyeOlGCAkEO3JmYHx5HYO46ebA6mbW2kKHtPFs3zm5Q0/UbjZA8qLnrV2v31nd1bPNb1sFwBrZZQoPrDmA/Glp1BH/iUgTm6dz9ET/8xv7A31JG2tjYE9VxWNVFXYTMDwe3O7nAybylMSXIo8iHDfdd3Wrfd1D5diPyBKynV80HD6m8ukqZxjodO3hQA7v3SgePKbf3sHrf36u2ze/q0HMva9dzL6nzKFM6zKFioo8UdPebsm5RzvX2ed/hWyUZAUVh4f+oB3Hw8xyCf+5n+F3L4qUlWnTTtZp/zUZlZjK/1Ex096jc8rWmCnKL2eDIoNXLCgnRPA9wyglDgRCT0JlPZYfO8DzELt5hj+ZfIJqQOTYRf+aZZwaJR1yrNBZgD4LEkCyn73DyDpozyBHALYjak088oa997WuuuWPlN5uVB/hXqQnvENxi+B2MJywBxAN7EDOEMKKJfPKJJ/1EHDSuLBQKZkcCYSIeEGQ+HtgDE5LG8+DHZIA4c2IP7gcQ5hB2phkwvxLSyEbr+BvyaySEd5B4NtEnT9Dgjjd/pxohHueKT4ILgzNzxHpfqw+dp05roLdXTXSOleU68v42vXdgr+ZvWKfM4vlWaSFfkU1KmgtlLpfXyfd3au/Lm12bmYaMWXm0l573g+USlZG96z7erN0vv6pDz7yo1u271XbkmJHcU2rds1/7XnpN/QeP+mbd2QNHtcsI5kkzU1ffaGR3SbSQwpz2vjpydVzADsLoaIXdQeRqZzRq1dWbVN80w/fDdFi5tUqllne26Z1vPaljr20xMt3jGkfsEiNMOlULjsalCMzxEztWE5zU8gzCmVs8VyvvvV2z16zQjvfeUz8ku99cxVEzxIU16YP+DIeYf+4uwm/CD2Hu7rPnUGr7jdZwwFxr61Dz3n3qOHbc8yM6oWZqgfsRQberlyEL1UBW7Tv36eDTL0kn21x73b57n/a8t11L1q/V0luu1+6jh7Tr6aftQ8M+YH74nA6/+Kpa3n1P7cdPWHTsQ8D6KGJ9rqYPHzNupmB9eL8KkMxaVn+H8BQxzrYK01Fsohu0sAMM+duTAftwO7r1PcnK+0BbpzIoRuobin6YDbtwR1lGojJyeeByiccFASSTRpNtawCd+1QgdMysombxDVpC/OX5aJ12MMM+ks8++6wPx0JGwLnsliK4hcYP91hgEubctRg5e/W11/Q//uIv9NWvf12LFy/WT/3kT/qwOsQi2IVQQeggrBBACHBYKT0RsJoSt0l37nPm9muvvKonHn9cm67a5IuUIHfD5Qv2EEC40PiiBYXgkcaEMYR7MoBbHFP5kY98xI/IDAhhQDOOxpmhb+a9Mq8UQCDHgnh8uGJvrHanA2HuKWkw3rKXYPoAxfBSZJ1gq3Xelam0qufPU/74Me3c/r5mLV+iBVdvcOIJojl2dvVf1q7YTe5Uu/a+vVW1ZRltvOMOrb7helWwabW5Gcqog3sjNYet7u3atl2z583X0ptv0OoP3ak199+jFWav0z5EW3ft9T0WT2/eqo59h7XcPl5X33On5lx1ZTRnz9wJ5WkipQo71BQfaja3KmprtOAKI9P1NRogZpA0tF/9AzpmxCd3rNk3+HYVZiFl9hAjLiaAGI4kzDENJALzkE2GWhnKzZWbH7MbteKWG1RWUa6jloY+LEy4SDu7I63PILQjIPgX8ibX2qGWN7aq9eUtSh1pU/rASbW/+b6OvPia9j71vN5/5jmd3n+QxrBomT9TB9Kg3CIA5SXdue8/1aq9L21W/aluZQbSan9rm3YakSy3tnjl3bdp+Ufv07zbb1R+9gx1WkHLWd5n5s9R44b1Wn7nrbrSykTDIj6AIgUByTNSEpEPnt+Wr72FrCrnzpKa6t0CMY9sTwzYJN0HLBwWEGuHM76F0kFL60Ob7QPldKu1920q4yOJU4PcK/M1FmbSJ9xfDkiI5gQQGjVIE0QKwgXOaERLMNq7sYJOmnOzGRYNGK3Dxk/eswURC2/YTxE3eE64JwJIGdi6daufLf6P//RPRjD/h/7iL/9SO3fvcgL64z/+47riSusEiiAMwc+gJQxaN+YjBjPjRdj0F+zatUvfYjGMkd3amhp9+tOf8v01cXc4t0OYAHNXWUHPla2RIOQTTZ+RgH+QXobEIeIhTIQBAsbxmXwMQEJvvvnmwbANF/bhgDnCHGSs9qYaIR58nPBRQb7Hpw4kuPAgh4IwBOxDigMDaj/RonqG9ubYR09vj+avWKorb7tFZbObjCVZ/aE+Wx5GOWxtjTtSpo5DR9VxskXLli5RzeqVSs2baeatPsXy2+3YT9qAUx3tKm+o0+IbrlH9NVeqau1yla1YrNp1K5SprXbNqg6f1Kl33teKRYs16/qrpVnWQVeYA/YfxWgUhomBUHnHbo5wz6pxGdHrsx++RRCuc7V6mu3r55BCVWWszWe6FHGy15BGBAJJWEYS4H6UCunohDOl6iULNdvk8JHDnHBgFs2E1SPCWOrWWYi9HDRrhOfErj166/Ef6r3v/kB7v/mY9n/zcR1+7Gm1vr1Nfa3tapo9R/Xksw8dT27bNxzwgXREq8g9C78O79mrk3v2a/Ws+Wp5c6sO/OA5VVjcV998vSrXWJlYvVQrH7hLVz58v9Y++CGte+heLfvQHZp187WqWbdShVmN0fC3h9/Ko/1FhgMm/J39mbl4kX3UWJmqr7LyHLS50V/SvXhTvI4AXhclfAwM5HO+/Vf+WIt2W1y69hzQgqXLfQP3071Gpq3MizmxgDpXRAj30JNLH1Nfoi5jQLrQGsVJCQ1n6Fy5YiaQs/B8oqAxYlgVwhg66tE6a8KG3/v37/cwLlmyxJ8TjtHsDQfMYw+ShFbu3XffdXL27e98R+8Y6Vy2Yrl+8Rd+wUkm2sqQJnF/4hq2EIbwfiJpU2buYavPOoC33uIUoO8pZY31T/zEZ31uJh8AgXgB/EBCnnCPJvGpp57y03g+9KEP6YYbbhg27OeDELd4WABhQNPHwii0mWx6/4lPfMKnR5BWw2liR0MIb+n1QoI4EE8WhxHXVatWnTH/9WII4wcZlExaJySaY0h+lPlm1V1GFmc1WOfNXN9li7X29ltVs2SRrwK2ryblLO8ooejavIyjwentV8uRo8oN9Ktu/jxjE+YeAouzoh/1p/hqduyebn3e0sVadu1VRmhnOHnMo9kzyeX61ZPL+mkr/YcOK9fepQXr1krzzBxNibnH9jjM8Ytq2DmAfyZu3oTfXHCK65mwD0ATH3b2RDJ/enrVw64J1sbUsJdjdZW9i+KNZrLo5KBb8d/neo5YZTBia3eVadXPnqVuI/eCZPPWkpaW48ywmt/OjmMSnhn4BPAWN29xMdKTbqj1BTCtp06ozxyrXbtSS267WesfuEcbPnS3mlYs80UseOD1010xDHk4qcCPtMWXeLEp+mmLa2tXp7bv3qWT776j2gXztf7+D6lh4xVGAquVr8woxwKemQ2qWDjXtb+aUatCdbkK5RQuc4j2lbPD/cfIAffFWkUsWLdK62+6XvkKVnxHhD56a3/97HF+je7eIMyIt9oWt/KCfTgYyTz0gxfUZiRzmbXvi2+5ycpNhU4Z0axusvBDND3v8Mtd8Cy83EDqJRgnAnFAQwWCVo7n4R0dbCCddLTM5xzP3owjAQISJ2yjAVLDHEgW3nD8Iedeg4l27sSFBTa/9mu/5ud4P/LII/rUpz6lf/ZL/0w/97M/q1tuvtmH94cLX0iX8I5wEb6QhqNimIrHI+/kaKjMnTXWAT3yiUf0hV/5Fd11z91nbOkT/A7EJpBM5PXXX3fNLASIIWvCHzc/JmA8LiUYzR00zaxyh2SyFRHpG/c/hPNSRCj/xA8izbSN66+/3svAmNM2wZQiKllRwY2ISZmJdbin2ny4b8HMOVFFY9cKIwED9lFnGeg2vEO1O99+x8mNPckOqKu9zT/4Uk0MC9oze+eEregH4uXanqQqyrV49SqtvPE6ZZtqjWSaPdoIe89cTdrWGbNmqrO5RSkjnGmGRo0QcCqMk2Nz190epjxFsRoC94FQR5/+Zq0oweBgfbNwpepqol06uovD5EZ021tOqcpIZoORNN+u6AwfIgQ3R5Kz6rP9DDTVCTBhsPj0W5oXLM4eN3tGEkfD7W4yslgqng9RGkN+MUv7OH/dal33ox/Thk9/TGs/83Gt/fGPaulH71X99RukpfNVaKxRweLj/mPH/CzeThkIqbfhJjkjwguXL9WCjevVPadRs+64SSs+cr/KSedGI5OZaJMnAsVJQTmLWN7KGPuU8huCWQbBHCSGcRkeoQ1K2QdD5Yx61+TjVuRCqRtxGRkeRvubzuVV3tGjIy++rt59R7T2+hvUcPWVTpizfT1GqDs0e47VrfrayEk8vYxxmUdvasH+kTQaDNuiraFCI/FOFILJdkCssGYzbTBeTVUcZzVSowCzbKyO/2jq5ljBhmSNl8DEzTLsyTY6H/vYx1weeeTjuuWmmzR7FntVupEz4h/AM+INyWBeJwtfGEaF2PF8ODujAa/oYBi6qzRSuemaa/SRj35UGzdtUiXzAIv5MJy7geySbxAgwsFWQAy1A/KQ+I43TCDS0kThOxdIS+b3smjpc5/7nGuLAf6H60hxuBRAvqJN//M//3Mv+2jCKTsJLjBihZOSBbnMWGXK9GSVae/2rXVyh46r/HSnyk61q/31N7Xviae087kXjXxyTr+VTzRkbjcimsx5s4JqTwq+gIgpOmHPQ+pEvD5AgrxEU7atjKcrK5SvrVJ/ZcbMWpnP5pU9fFx733xbTTW1qluwQL0D/apmLjwaIPN+wOxCFqO6NkS7HMWbuJ/x+zNwhkVz2tzNW9zYamf+lWt0oqVZrRYO7T2i/h0HVNbWqbVXrFdmtREgSDSJUKyfcT+iJ2cjPD+j/Y2lD0SSSDFdoCKdUZm1TYNv7ULL4F76g+EwFArMIMSporFetcsXacaGNaq6YoVyC2cqV5sxYm8fAalICpDUYpimus3BF8i0X00oBwtXLNNNj3xEmz79cc25/Xpp7owoQSzClAs/o73IhMvstxPMWDiDW+MB5ilDOeId2tvxOmLwdh+xe/9YsyLU/t5OHd22Q8usvMxkuket1YdUXt0dHerr7lHTjCapHEWLeRhLi1Ey95JFQjQngEBE5s6d66uq33jjDV8tzDAshBMihcaOYwDZCujrX/+6r4LmORhsYCaAsRCPQGSZE/e9733PG33mHp4v8DeQIIA/xIVKypV38SGJUgQzLCgiPVghTRqek2gO8ypKQYbuIs1GqOTM2yQMIY9K0yuEgfPPOUmHDwE0mSxcwlywMy6Y8dDQhM4vyoGREfzhY4WV6MwLhXiG+YvxdL6UQLwA807ZQ5UN5KkblL/77rtvcBuwBBcHKOnZzm4d27Fbu19+Tbufel57Hvuh9rz0umr6suo5clzZXXs00Nqh+vJq6/et1+dj1bI5Ipm4YHXMHbO/ff3q6eiM8pnRCntGefb3g4h+8dTrmgnzCDPmGh102cnTOvji6+o5elJrrrhS6dkz1Wc1Ks0CJD4SrXKxYpedecrtnvl9hGc4gsCj+GNqVZG7DAsfyqUyG+ldeP0mNS1eqENvvKVjP3zOtzRKdXRrFSNDc2aZaTy3sJtx6nupX+cCcR+yZ/GxdjCTTylrRL95/yH78FwiNRrRpE45qYrM2mWUjpu3Z4N2kRXQTHdga8qs/WZ7JaYB5NFQ097YO8+PaUKIh4uFgQVQlQvmKL9gtrI15cpZxhaYC0yeIJbQCP/C77Lib/6BiYSeOPt+p9xb2kwkDchH2n7EbXf06Ogb7/gc57pNG5xk9hf3nO04flJVZWk/GYoPtoCoHFyeGLm8JhgRkADI0cyZM334mGFpOtQvf/nLvrXPP/zDP+iv//qv/TfD1gyHssgDMhGIzlSCsEF0n376ab311lt+FjnzOtFmBr+pTGOtUMFs3DzuoBnkpIVALkerKIFYQUDYZokhKRY1le7DOR7QWRAb/PQJ7ISJoaYSlLrPFAaGzCFC9957r2666aazTs8J8Q0yGkIjw+haGJY7V6MR3Iy7D8kE5/LvYsLgx4aVrYDm5mbP4z/90z/1jzBIJufQh/Kf4OJCb1u79m55R/s2b9GpnXvVe6xZXcdOalbjDDVeY2Trlhu05sF7tf72W1XJ6nHmYg62YZaf0f8IVr8HuntVCcnMUEOjN/ESHco84sdO5kzaOlR2vFk6dFxHnntVJ3bt1epNV2km8/OqypWtyljf3S2Z27jJHoQZF/OmrUstew6oz9wYCsgQeES587bXJBDTs8z6e4Idhbtm6UJteOAeNaxbqWx9jSoqKzRgRLqSuZnEzTWB0ccu/8ZSazETNxc+lAlXxoh93/6j2mdkn30Wl153tcSCEQJrhDZ8TJe6MRaQ1qlUNO0quqfdjj4ToveRmWmDxRffKEUuFp6ckV7mz2YtXVkUxdA4JHMor7DB77MlvB0PQvYXXY3+mX/h+USQ9b1l7Xr0uDr3H9GSBQv91CPfaJ4FcZbHLJZrrK6JPlaoS+MN+CWI0FokGCcokFRatsJh2JPtaCAvTzzxhK8gZvED5OWjH/2od7LMwWMfzGC3FKEhHE7GCt+rzoDmlMUtDAuzKIYhSzQMQVs2WcAtXBvo6tbpkycVzpEFpWGHkNCYsCE5aXTttdd6muBGIL/jgTdO5nzGvIw0FGXKhIaTUx5GSDb8Q4u5efNmX7R0zz33+PA9IBzjTR+8IdZcscm5u4gPJY4RpFM8DcaT5xcSIZwhrxHmY/KR9Wd/9mc+XP6jP/qj+pmf+RmtWLFikEhfKvH7QCBvpM1I4fwlS7T66qu17o7bte7OO9Q0Z47mL12iypuuU9m166WVi3xjcV8IZATActH/OYwJDJYFSGM2p/K05bXPmYvXp5K6RSdr1gpGHk++vV2HfvCiDn//OR3eul1L1q3T/FtujDrp2kpVzp+jE50dOvDGm+rfd0T9B4+pz66t7+3S3mdf0fbnX1J/a1vRi7PLF48JF4uVfO/IEYqgt0eEGamq8OHmpffcqsUfuU+z161StrI8mjdZ1DBGC6IicuJ+uCsGHgwnmDA7oZ1xDZpJqsdI5t4j2vX4U2revlurr9qkmivX+MKgQGihMO7EqBjehMfLrgg02ld82zOukNwhyjk98LSysmcdgweZUDMNinm4hCWEdTAvziXjBP4FmQwQAtKVdp++jo+3rJW1+lr7UKC8lKVVka5QwT6mOg4edeWTZtlHG5EsxgE3xh+TSwPpf2Uo3icYB0JDwWIW5vats4aRxQ50qBAotqiBxEBEmQMIsBPslWKk52C0dwHe0duVyfMMVTJcD4H67Gc/6wtdIDITIVKjwbUR5ubut7dqxztbtWrpcpVlyv0rHZT6hJb1S0ZAuP78L/y8FjIn0sITNKLjCZs30OaPHx3W169O+4JsPXhElRaeTGUVJixsZ7pHGuEHRJxpBcxbja/gnwiIKTZdU2JBQSDA3n6U+D8SSv2eaFguBChTpCvbF7GRPyRzy5YtPheTk6PQptOohnmx55PWCSYJlvwF6+Q9H9AKlmfUNH++Zsybq8olC40fZrTvtTe1aN58pa690oiedZSs6iUPKdjuRkSwwj8rApGGrLVTh9/ZpsYZjZp55To/RcheYyG6+N+iUIfNTtu+Q9r65DM68cZ7VpcHtGDDFVp4200S2yK5vymVW51ub27Rvh07vKM+sX2XjmzboRM7dqmz5ZSaFs7XvNUrla6pci1Y8In6CaifJ/cfVFfzKdXV1vvQ+CAi4wSmeGMo3jKkXMaQfXWdOsz+3l17dOWmq6VVy/wL11eJW6IQO/5GlmLuGEIb4SjesO8v/qWyRvI6e33rpl1sgXOyRSuuu04Lbr7BiIiFkwVHlgT4Y02LWw8yhPjT+NtwPftt1H4WxdwO99MG0o2EKWYQl7B7AEXMxcM4xlBNIPBYGUlAuI4VhJlpZCg9+o9ZWd3yrq8XqJs109M7bx9CR15+Xc17D2jtTTcoQxkif9ORTyEfLkckRPM8EMgbwjA6RJPth5i3yX6JEEzeAQpRIDrjAQU0FHnar+FsuxEDw9Fs1fO3f/u37jckk7CEMI7X73MC7YW5+/5zL+vg1u26etO1vuUHW474vBozEuKN/2xG/srLLzv5uP222z0+DFN5BRtv2OjZDGXWUbZbxd3yxA910sIwp2mmqqzT4b2nV3CXRqt4j2aNhTfk0USHq0OaEzf/ku0d0MCRZp3evV9dR46r3wh/db19zTL8M4F8HzdCgMBwXvGe5+E6CWCInHnIDI+jPWc+MCB/WVzFR1Y4zCDBRQbKZCgQDP+Wp30lb8oIWPsBI34vv6q169arbP0qFZhWa+V4qBu0q5fnSPgHCfIPxpY2HXrnPV94WM9WRBXmKM9NIvsx4Xm+TPvfe1/7Nr+jeUbmlt90o+bdiiZzhq+CztMJm7mK+no1zJnt5DbX06eCtRssBqk1crx40watuHqT0o1oj1I+xEwxp/2h7uFVqi+nPW9s0d5t27Vy+XIjz9XeTkXhKgYpjmKYreGyj9korY68t10HjGhuvO56adkC5TJoGVmlH5FMd6nYSHudt/DxMyJQRa2hvzP3zc1U1gjkoePa87y1ny9tVpnFa/WtN2suJHNmvaW7xcCHj7EfwdvUokQIv4aTERAcGw6jWJt0hDQ28SBx6y+GrkEJcU6M0VgAxs8l40Ew70QzlVbK8vfEocM6dOCgug8e0rHde3Ri6zYd2r1X8xct0nwjmmzT5CTTRwiKvo7X40sExDDBeSKQCBoXiAtXb+BKMB6ygVk3H+zYhcYcV4PwGzDRG7PHjh/Ts8895wtsOP6Rjp4h80B2J4x4VGL3Hj77XZPNq8aIluzrnEB52KJXZwgLXz73kz+pO++60wkqKMZuzMAdv5pF9upTZ5eOvPWuTm/bpfk1DapAWwHiDg9aii5o1zg2lH02vUMIaTwBeD4X8ho4dlJ7v/+Mtn/juzr45DM68sbbGujuGTQTgjCVIE3QJlMe8G/Qz3BTej0PMCfznXfe8cVuTBVBQ8x81y9+8Yu+5RWa/ZC+CS4+RHXX8oarSc7KcK6oWTnWfELd2X6lOOPc6kre3vkoheclZiIJ//x3sQ4xyoGUs5qWOm4d7qgwNxvmztZ6I5cbP/Exzb4dktloBNXChHUzAlFj26Oa1ct01cMP6IYfe0Q3fvIR3fLpR7XpkYc0/8Zrog3cnZSG0BVBmBmitTaK7WbaDhyJhs/NgJ81XjTmCJYGLWPV6hL2LX6d9vHYz3A/87mNRBI24j9IMoFdQoy5ItE8TPwyu3ycD+SVaunQydff1u4nntLh17doxuzZ2vDIRzTrRvtYbzT3M+YvJLPoBq7TYoagRX7EAnopw6JBeYSwByFNB0kml5EEhOtFgIyVefK7Yt4srX3wbs3ZsEat/b06eeigujo6tWDVCi2981Zp4RwzbAEvfkiF+jOY4ZcZzpOBJABUklKNYfxZeB5/P1Y4eTDxxoYGj2cmNJDhGsBcq7vvuVu/9Eu/5MP3YU7meWkzx1Doy63FraBDKQYqfIF7+IqdGde6+npduXGjau0KAWGoDTPnRIkhvCFNcrmsuuxrsXnrdq1buERX3HmnqjnbnKhaR3CuOPN+wulShG8JYm70t5zSifd3qtbSYfaq1ZrBVkUMNRrO149zwYks6Uz54H9Jek028AuiWW/5yIp5FsR9/vOf1y/8wi/4nOAwFxlMddwTTAIsj+jUmeNM5WIo2k87Y8Wzle/Q/gyimKVcSnN3yBx3FMbo17DgnXk5b9VybXzwHtUyF3RmrfJGMrNoWc2A+2FhY45ilrDUVUrzZ0bD6vNnqdBQbSTUnGJ1smuGiuEq1gUngczN7OxV3/EWLWyaZV/GVj7t3VnxAiURCv5jMNfbFy0U8kVOQ3bdTHTr8LpI+CHvvg1URJ58nUhHr7q279WBp1/Unh88q/72Lq297Rat//B9qib+TUYyOfEoQ8iH3EbiRPPMN+NE3GqpTDeKfgbviWOI55iCMyZD0wdyjfCjjZ+9Ya02ffwBXftjH9cNn/yErv/RR3TFRx5QzfpV9rGSsf7BTFo5cZTG46yCeWmDNEkwSaBBistEEbcJqfIv54GsUvYl7vsf22/KIcJ7/OJ+wfwFeuiBB334PsyJOy/EC3vwEMSfGzJM+qdhj608LjFCID2svGFe1vmkEQ05k64Lvb3a/9a7Srd2aNnaddLiaDNn930Ut4PfE/U/gDiGr+6UdWaVljMrVq20L9bbtejaq1XOfDF75365qcnFYBoT3b6syjr7XFOSPt2lsh77HSX4pMPT3+LEllCPPvqoHnroIZ+jHE78AeHjht/hWYKLF5TPNESzu1eth45qRlOTEc26wR7iXOU3nsPce93i5lx5DyGrKFe+oVaFqrQTRjbORgOIn7RsfMt5CDCbRszZlJUre+of4jzHOyxEJgfDy4r2VG9Wzdt2qLelVWs2bIg2yXb3o3ZzNHj7SwCyWeX7B4qr6YvTbWISEIWp2NbZj5T5zyr3dJ+Rzv3HdOiF1/1s8ZMHDmrW4kVae99dWnDXLdIiNFxmp9w+viEgxTZjMB5FuZwR4nhJxtUzPgo3ZJMyUChPKz13luqvWKUZ11ypyvUrLJ/n2ocO235hGEtFxG4HMdyzSxQJ0byIEBGSYjWLl0EjcKf2H1Lr9j2+PcJIFZGFSWHO4XkPl48VFs6K6iplGVLi1JCSjsnjVBT/zb/i/ZgRMx6SJWWc9vTuA75CddncBfaVuMa/EgsWfTqeweSb4srq+WV+5K0j6rX4F4xcqrrcOo1iY1M0N9mgI3NtsSHX2a3jW97T4adf0v4nntOpN971U0yc+LsWfHJDQf5RzihvYXg8kMmwfUpCMC9yUAdj4jkFYTvVqo7Dx30rKp9DZvXZtzAbR1ZSXYey3m5GKgdm0MuxXX2Y3AiWn7NuYD9L7kJfTLOCVpCwou1kcQxD6nzaBte9XSlqMqN42dU86D54VLs2v+FzsmexXZKROV/hbAZGayVxhikFPm2gvVP9nV1qapgh1RlRtUfYx4tS+Eew/WNvxnS2oI4DR3Tw1Te1k2HyN99WdU2Nlt9yk1Y/eLcqr1ipQqN9kBrJBviZ4BIGGUjZoPwBLgyR8wHBlQJHoaZ/9jJaNHeZY7R6luBCwxszEyMMzUYyD764WWrt8FcUT8TLbUwmFcHBUg+KV28U7U9lTXVEegLRtPvhmmCeQD7Gs/XPcHDNRU+f9r++RYXOHi26epM0b5ZrBPJoRCxQIWxTheC0x2Ugp872DvXlsva1akSTLUmKHdTZqTA5wH86aOaeHX3rXb39je+q45Utyh49oXx/n+WDZQQr8kHodENgzjNQdOjxj4XS36D0d4KLGFaGiyVF7UeOOalaxNSP6gp7whSXYm0epd5CuihY/ncw7838CHZ4CknEX2wVfXAEl+IKn+jZEHjlJNXuwr9Bv+zKkDWPeow4b3/5NdfWLrj2amkGC4YgqcVFfJGNs+BumzvUb3aS6D1+Um1Hj2sRU3NmGAEfIV7ASUbxNZvh73jpVe165TWvk0tuul6r7rtbs669UoW5TcobwWQj9eiUG7OAn5HVszCyjwkuOlhmhXwk37zPKhboSPNuhYpyMlo7OcqrSw0J0bzIQVljZ7Hy3gF17j8ktXVFz4sNUpCoNHMzyRilsNNAgnIjmrmskazY4hesDZLgfN7vXYNQ7LSCjBd0TtgsNJ9W67bdmj9njsrWrY62K0lHWsSJuj0ReBL09avj1GlfZVrBEXnlFpbRGpBJAN5G5D6nA6++pZ59h7Xkiqu04q47NPvajVJjjaWHpXppOKYrYQwJ2bw0QMeXsrJbyOZ0bO9+NaTKVQ+hotIaGztXLkb1HVP2F422iRM916ZHtqOWYggRSYyeR23DmRIncrgQfvEOghhIYkRwo3svb8TD7qP5lwW1nTzh50qvNoLHmd74Gvx1O8X7Id+KIE72MpOzOJ1s1f433lZqIKuFa9f4vp58SGK3FOFZuPrK+IYGLTGSu/7hD2nhHTdKi+c4wSxYZOLhACPXmRDCs0Ka4GJAyMS4FBH9DB8QXIu5Thm3vnFYxOxfDvA6neDiBB2AF0NrfMrta7jAasmsPbHyWeR4ES5Q2+NNrf1P1xnRRIvW2h4xQQuvVyW7hkn53ceb1bJrn6/49MbUokFdQkYFDgUxRJ1EQd1HjnsHsJytSopn4oYh82j/tWkCmdQ3oO5TrarJVKjSF1DYc5PiZUoQ0oFVvb0nT6muvFK1G69UavVyFeY0Kc/+bCxaKHbYxeSbdngZIL8TXHywbIGQhWHkzuYWHdqxS2uWUqeiOYMMZfPey88IBZr8pSx6ebQPrdqZM9TWbm1BR6e/D+0YbnCliQjlMRDLuOAFH6SDv+0+eO3vYvfRb95HYXR3LcxsMcM9Jxmt+9Adatq41o8B9GHzQTsRQlgCBvr71d1yWh328db8+rva+a3v6+g772v9hg2qY4pOcW/L4P9wCM/LG+u0/vabtfqOm5VeYkS3yhKVtorVxlY/2X1jUGM8AqLYhVjGQ57gYsMZZWmwQAaEfLPCQ6Wwd9Fr+8ur8PoyzF7qbIKLCcUC5/OW7NbFWKVv8cHXTyi81jiBqKAWET2aNqS818irorpSaYZpGdYniITVXvlJRUaEyrr79N6zL2nf628Z0cy6HSdAIS4jIbwrXn0oi5/9Azp98LDqLFEaOGGB/eZ8TmRkbjqIzWCw8as/q57WNuvHLB1mcqyYvT3jS2By4fMfi1f3y9JzgBSnA7SOlCPcLJWjfAhpEl0SfMDh5caE+okE0leWLejEe7v8g2nBxg1SXY0KRoZ8pbcVHsyMBoawmbIi++icsWShTraeVqG5Oarr9rHpp4bZ6+AnV8pkkDgGn0PAiiQsbi6Ehc4rCPB6URSvF4a6ebO1cON6FRosPsWFNnG34nB7hva2Nm1/Y4veefIZ7fz+M+o9dFzL2BvZCCP7e/IlS9oEd7AVF+DD54aCkcl8Y60KFeywYf/ssY+6sPDK/Av2HcM5ZMCn4f4luPhwRq7wY/BB8QcFgLwvim/zVywrjtjt5YRQRxNcZAhtDQ1ypHU4o+0ZxGC5nKICWupnPBxpn41fUHWmQrWsPO/q8ZfR/nR2Q+cykNPRLVt1cPsOzZ4zx0hhReQA4S11/BygI8jYlY2NWw4dURMnLnH2MtoB60BwjgI9RUlxNrxDs//Mz+zq9nPbo4UCdKrWiVgDMs4oThhoc9HkIEGzGySO6QpPgosXlAFvV/w+mquYP9aik5vf8dOA0utW2gdLca5zvBMcpfBAmaj3hYqM6pcuVJ8R1GO7dnubwDcX8xwpldRPnBlOQphGE0CIguBeqPOuBT0jvBYqaxe8zeJK3bDHwS5+DodMOqOqigrVW12es2q51n30Aa34yL3SyoUSi3aYolOsY8GdIKUIz91vCxthAR5u+x3CMiyGczDBpYuQnx/AfKW8J7hIERogHyyxwnlG+bQfZzRQxZeTVYZxZzhBU4ZGgh/9R5vVtm23yvvyakyVK9fdbY0w7yOiyVd79+Fj2v7y61q5dLmWX3O1ZB3R4P5hELXREFphjCL2zwtsZ4/amk+pcdZMqXhOOW8jo24wkimGa06NaPedOq3enl41zJ4Vzc+EaMY7vClD5AfpEiGKe3z+LgjJUSoJPrgIZQCSWWYVuuWNd5U/dEKrqaOz6314N5DQQORGA2adDGZSqluyQPNXr9CeA/t16M231bZzn7oPHdNAS5tvA+Z+up0zJZDJ0QRzoWx7mIqW4+ELhJN207deM8TfxxF3K4yE1Dc2aP3112rTfR/S2oc+pOprr1BuXoMGaiqUM+ecLI6xfmPKSWVMQPArQYIPAkK5T3CRITRDUZtmf+1/NCRkza03rvyJniF+skfx3s1NAoIr7l1RQoPPKUC7X3pVr//tP6jLyGYlQ+LFic2EI2OSb+/U9hdfUWYgZw33dT4c5/EYjFzxZpTgur9mzIfbivHqO9Wmns5OP5tZDZwEVIw3LzFTNDeVwD8Pfb6gztNtyrKBeRNzRa0nisdxioDzobPy/CbKxXgHohngr4oCwjXBBxeUAcoIoxK9+w5r/5Z3tXzRYjVeuT7aJsx6Bt//0cTnPJ+j0ATdXD6VUnljvVZcd7XmLFuio7t3a/dTL2jH0y/oyFtbpa4+c9PaB2sruA4SL5NAxEaTeLk+oyBzXyrF+oE9EIVwCOG3Pwt2DKl0Wmlrq8pmNarQVKdchTV35gjTCMKw/1gR9yMuCRJ8kBDqYIKLDDRG8YYVUuH3kIniw6htjLWQMYIxWWSzFJAYLzQDefX19qivo1MHX39TPe0dSs+aZc8LqurLq8Lk6Ovv6MD2HVp3zdWqWrTQei0LnVmmsR4MXbgZJbi8irYxiX70tJxWf1ePaubPk+oj8hotWBjFkUlGSGf2quxqa1O5dU6VkN4i0aQzmi6tBb64T2iJEyQYA6jDruvr6deRV95Qd3e3FtxkH4NNDfYimjuWoq7TjnhbEmR44J63C8Ds1iyYp1W336LFV29Sw8IFqq6tVZo9fpmzbR+pnAXtJNaMh/Ib3BhNzijhweJoMgLOeB2P1mA0rTUxhs3+nllGYMpSll5oSaNwJEiQYOxI6sxFChpBMscbxCJhcarpC2n4xdd1PtJe2bOe5hZ1mfikexrJyNB5wf0ukYyFxTso+7Pq1ht10yMfUXcmpS5UHpWVUm9ONT15db67U9tfelUrli7TnI1XDm0/ZFY9dHRewVEQriOAWPmQlbHU7Ok25ViBz5xIOi/Sx8SnGLjpIvgRBJzx8vwwSORJ+7YO43jmO+GB7LmfkWeT6KUDX6McxgtznWQsBsV9K/qbIEEcg0XEQAmBQJYZ2Wvdf1AH9+7ToivXqmzDal9M5nuw+iKFYSQq3GcJ/yIiVnxm9SA9Z5YWXHeVVt99u9bde6cWX7NRqmZrIAotbhm4je6iQJ5LzgNDoR0B8RdWj/zj1YQ40eZZS+PXuDulcl4IDpReE1we+ADnb7G2J7hoUNKwhmFQ9tL0oem+PvsFjGjmc37EWb65VW/+8Bkd3bHT7RR8GD1sW46MH/g5nISuhg6pftUSzb7lWi299w7VrFmubdu26ugLr+joi5v13vd+oLp0hdbfcbvUUGuWiIxFoRgfJ0l+ExwcHcQCguU3Xb1Ksc1TyieSGaLOIFWIOjxHqZtj8GM8GNRW5nI+jO87ArBZO4/t3WRrM4km4tpgc9ujDex+kGAH8msI5hN8sBHKQbw88JHkhHAgq/27dipfU6klN14rNbIHrNXwtNGpUoIZJCrgZ0lExkL9M6GMmvFCVUaFhioVmupVaLR2gMMM7MPURzdCHYkHbopQDNUZMoj4g9gLYguxDBKMnUvOC8GB83YowUWJD2j+UpcSXPQoU2WmXGUcKcjpO94oQ9iMSnZ268Dmt3R891411NXb44KRubz1CdF2Go5JbMS9fuAeqyjpMOqrNfvGTVr30D1qrZAOvrVZJ95+V7U1tbrivntUsXRRpM0sT/u8RawGDRyXcwUt1Ec3yw+7SRvJ9CE9Oio3EHVwZcGD6QRHT3b3+FGM4hxkOtgpCoangUnQaIbK60kwAiC8UzWNIsGlgZD74VqsMi7182Zr9U3XqWLhHCtQ1mIw6kCZsdelMhqKzkVuGwq0P7QRiLnpW7SZK74jgslZFuK/R5PpQNEfLtQxZDq9T5DgckNCNC82hBbNxAlLsXWrKq9Qis3PB1j3bbD7TLagk7v26uB723X1lRu0YOUqe25ktCxlGTtFWRvrcRjKzjOPqbpc86+7Sld87EEtuP0mLbjjFm145MOq37Q+0mD4BsdR5zVRJUbcbNgWZAj2djyOTQIGyVv/gPp6+1TFtAHLIyeahO7MAE4qQlRdK2UoKosTJBgEZSRIKVzbTltSntHSq67U4k1XWgNjZbe4G0TcbpCxArPhQygIv6OtfUxizweRFN4ECS5rJETzYkSxFXYyw701xOUV5dYHWHYxROstdZlSpzu0Z8u7qjWCs2rjVVFnkTH6wfyqqUKsU3BfIFZ0UHU1mrFupZbcfqPm3nytUsuLe875nC/MYZiL/aOjmwA8WYppc9b1QmFgQNlcVhWWPz5f1BDFb2JxHAs8+13sr/1PoT2COCSaywQxjFYavG2xcpquqVahtkoFH3EYKrOhBJeW5JHcdDJZIsHsSG4lSJDgg4EpZCQJxoPQOIebQnuXUt39vtGxt9hG5vLhSEGe9RfUufuAuk+0aPnq1UqxhyPzntLR0Wu+YfoUg8KDZJjTxXAY/luHJeNc+XTBtwNhnlbApHQ0cQcCsbJr0PxOBwa1mZ7QOfc/5StTpycQwRff7sn8hORmOWuesJAPZmIakyPBJQj/GLLyQxnKWpnJ2e/QYkQl6EwBoSkqNlFnCM+D/TiwG9qJIHE3EyRIcPmDep/gIgDaqaHh2Kz2vfyG9jz9ogonTvsKkP5CXl2QN5p1jB09qaNvbtW8ugbNXLM6Ws0JGbVXoUEfxCS26t7RmHvxTgZxooew6Z557idn0HlhoSgTCQZWA9y+PRj074y3FwDxCBGU2O+JxHU04F6pOCzPK6ur1T/AOfhGNj3zI6I5aCZBgiIopnHhQ6W0nExmuQnlMLRJ4bejNDBjkQQJElxyOIOPJLiwiIazpL7WNr3/2ma989gP1f7eTnuQU6ayUtXzZkk1NVJbp469ulndJ1u0bMMGadYMsxe1xKEhP6NBn0TgC0SPif3Gf89s+/1H5CsFK2O/vYCdYWhiwNUwJ3E6tLVjAsHI5lSWLyiNVrc4dD5ViNIgEu49HazM1NTX+obx6u3zl4E68De6S5BgCF57ioWDC/XqfMtJ5M7ZUvRmUBIkSPDBA21BgosA8EQWuUAecvZvyaqVqjNSeeR9I5rNbaqev0Br775LmYYGNRvJPLxjpxatXqW6dWgzmchvzbi5MdUNO26GQhO0sKUn0cTDEQcdnHdy40Bwx4XhPoNrUbl1denZGK8fE0LR78LAgPLZrCorKiOiOUKYJgtE2yhtlAd4ZfneMGtWlB5dXf4sqdQJzgUfbaA+FTWaCKBIjSSjIbgxnIyI8LLUwnACwjVBggSXFJI+6SICRJPjGytmztCV99+lK++8VSeam3XEiGWurVN1tbXau3WrDmx+UwvWrNacW26QmuqlKiM4PjfPcK4e4TyBL4yOZ3IFF+45jlJ9WbsaBeR3vGNwC9F1okELzrh9u2H7JjrISHho7wLxs9/TMV8zaJ/ZsD03kFU5WxsxT9NCSbCmCjiN4FOaRV/laVVZefG9CLq6/WSmFMf78TtBggmAmlQqY0Eom3E5J8ZkyDBWcwkSJLjokBDNiwSQzOjG/ldWqGz2DM29doNmLF2o/Vvf04HnX9Ce517U8e07NHvRAi287SZp0WwVKtmnLrI3IsbaU4wFECyTsoG8Uqe71L1zn05t2abckZNGchhMNyJoRMc3MAfj6alGwaATlkwV5azAtxsnnDyb/l4IbS7o7enVQH+/yqvQaFpGeFCmJzyuiyLfa6uVTZep7/Rpn9/rx/xFRiYj6RMkSJAgQYIJIyGaFxk43caHhk3K5s7UaiOUC6+6QunaGtU2Nmr5jddr6Z23SvNn+h6VOSMYg9uScJkijjPIF9lGxzzJn2rTrqee177Hn9P2bz2pw6+9GR1bY2TTg8CcwazJoMUIsduJwUpsXU2t0ikjdbjvz1LGNYciPkVJcAaiVbtSe1ubsgMDqmLubGzl+VRXLNx3n+xP5axGpaoqdPr48YhoMo5+3gmdIEGCBAkSnD8SonmRIT4Pkb3t6pYt0rK7b9XSD92uFfffrfm33SAtmStVWNalyuz/GLZmj5w8L8BbfPEJ4TOyuefVzdq3eYvq58xTVTavA++8L3X1ucGB7l7tfWebssdPRRZdC+rOnBd8uNoSJlVRETnne0fyYiiKvnm5v5wa4DR5xAcBP3JGMllMUcM553hMGAOGCQePgpwPiK/H2Ryqmj1TFUZ021rbfCjfq3XMg2C2VBIkSJAgQYKpRkI0L1JABOAK+cpy5ZrqlF84S/kFTco1VilXlYk0mfaPv9NBGoKWNQpUmfbt2etzIZfdequWr1ih3u5uqaPL5wyeOnxEz//jd9S7Y1+k5XTyczbRCTIW+MpYJ3EF5assTVj8lB2I3PZN7KN30wU/AtP8zfX2qdzIvms0PULnDsekhtL8LDO/q2qq1dPREWl5ma/rmmeSJSofpZLg8kfI59K8n0wB4ZogQYIEwyEhmhcZQgMOTYCe5exHznIpl7ZnLszJTPkGy1kzCY/D3KSSFwPuxQVE61Ptl4VjxcYrVD6nyX5mjQxn1B8LRW/zKXXsO6j8kRO+NZOTQSc8Z0tk59zCNvS+3illRHNGrZGrSuU6jVj1G9lkribmXJ1pt0Wt8OTgzHAQ5oIRTCe9Azm1n2xWud0zr9Zzwr0umrf7IZtDAoZ7PhFx/+xjpLqqSn0dnZbWEE2e56NFU2Yq4r72p1QSXLbwajDNkiBBggTDISGaFxlKG27oQLSK2igOQ7Z2TRtJcI0ab+0aNz+ZKPrgMugHbM+I5sqbr9eae26TqsvVWcipn5esgjZuU9uf04xsQdUDZtNXokPAcGXi4aSgpgiJ+Z+rr/ItnQbYzqe/P3K/mBZTA9yN/PBFQBZff9bTq87Tp1XF8ZO11ZYuFjuW4dslHhLug8QRfz4RAX7NZMz7auX7+oz8QryjNwUjm4OIW4xLgssaE61vY8VUu58gQYJLHwnRvAhBpqSNBGTy0VY1CFo0SA4EM2XP03kIZyTOJ6aYNNChIL7/Hg8aajV3wzqpqU49GeaKwq5MjOdUt/eopi+n8to6e2am3TJ/zg/uh0m6ulIZI3es9vbhczwovptKFIxsIlF8Csp1d6qnp1tVtbVSY71Unim+m9pwAPLA88HTt0w1tTXKcQRlX2/0zFBG2fC7BAkSJEiQ4MIgIZoXI4wolGVzSmXzSmeNcGaNXBmHSKMdhDr09KvvwBF1vb9bZSeLW9oU5+RNNTgb2TeVt2D0U3rKjczU1xjh6pEIy+5DOvHeDtWmjHRVV8EOLeCTU8wi3W1B1ZVVvsVRF/NCIXX4Mci8pg4QfaibazWJf1+P2nt7lKpBw2pSjOc0BOVMWJ6UV1Yqi2YXjaY/i0gmkiBBggQJElwoJETzIsEgOeEP29OwCfrJVp1+6z0df/EN9e3cr1SPEUqT09t3a+f3n9XB7z+ndiObDOFOK6XwwBaMV5mfZQU1LlmoQmWF3n7qKR34/lM6deCwqsvZwDwd7S3JkPpkUS/8TWfM2bRFe0h755hyTWJwP/KTYx97cwPKVxip9j00SY/obVymEsH9iooK/wjwOZpFhCmrCRIkSJAgwYVCQjQvEgySkkCc2ru07+XXtdsI5d4nn9Gex5+WDhyXDp3UnhdeU665VY2z5ilVVR0RHEjfJNOK4Fr8GoSh/QqKTy6vWcuXatM9t6unokzpuhotXrnCZzQ6+So3M+5AcGXiGHIm0i360HmfCdrcIsmbBG/GjOh0oLJoBTw1yfKA2QNhJgMSgjQVQip4GMzfyppqZfPmc39flB4eAP6MAhxJkCBBggQJphAJ0bwYYQSg71SLtm99T3WNDVpwxXp1Hzupnje2Stv3qnP/Ia2+4gotuut21a1dGS1EcWYxCSg6Eyc0Z4gTOgR+A4ksU0V9ndbdeas2/ujDWvSRuzVv9Ur1hbmMwK6+B+d5AKeCc4VUSql0SllIJtv5EA6fw1oMfjA4BXCKW0yDghE6tIhh71P8HQyDgadTKSwMc78s+pUNdeots9B19wwFohgQyO9wkiBBggQJEkw1EqJ5kYB+f7Dv56a6Sk1LF2rpNVdp+S03qLGhUR279qt96w41pStUt2aVNLPWSGaF8hnWY8eYRRxx0jEWAeFqCGGK85L4vRMue1BorFXFsoXS/NkaqC43ommOMIzr7voSmrizE0CkvXM6WZ5WeWWFsmg00eJxSpC9c68iw1OKSFEYUsF+lHgcbs9Ip0kGblN5Q1Cq7IOkP12m3vb2s8IDSn4mSJAgQYIE04KEaF5EcGKCdsxYQeWcWVp/+y2qhLwx/FyeUX9Hp5oPHtas+kYjmTMs93LKl+XNnllAqzcMwZhstoNzLubPoHYsVeaLg7JFLWbWwtuXG4gWpmB4smB+QljL0mlVVVUrl81KfcXFL5ZuvEOmElESR4mcsTwpT2ciQg3hNZnM6I4G/EGCZrKyvk5lFp4ONm33fUuj5wkSJEiQIMGFREI0LxIMEhS/MZZQkVHDgvnKzJrp8+56mXtXUa6eXFZVtTUypmW5lzHjaZUZsUCmDUUSw8XJXaFgnDdvfDgt9Q6ot83ITskq+MH4TRCsoWaIOpqTmLLoVynPsDnpwrMi0TzT18kELjMzFIl+E4aqTLkKvf1Gqo30kg8Exd9PD1g3Rrwr6mqM+JarE40mYeGDBUxdgiRIkCBBggTnREI0LzKEBSaceNN++KgGDhzVqfd3GZ/qU+Pq5crVVel4e6t0/KR0tFnt2/do/2tbdPrgISwPyRTDNZl2hc6kjNhk+nPKnO7S4Wde1rH3dqi6YEULIjiZQTEW53tppiOimWUPTYbPi3AyOg00z32wNE5XVKi2vFJ9p43cdfZEjM+e837qQxGB5LVUVrq2VhU11Wo+cULqMfLNVksWFi9PCRIkSJAgwQVCQjQvMrhe0lhKX3uHtr/6ut597Ekd3rpd8xYvUv2NV6t+/Srtaj6ut777Xb33vSf1/vef1pEt76ofshOY3zRwi+BFtKF8mXLHWrT9safUvPltNWaqlEHDyvZDxfBMCvEK48SptKqrqzTA0HnY4sgIKG8nxZ9hEbnu/wLLzpSrwQheodeIXRd7elp1smizqf7UheNMoEH1eat1taqbPUttp+0j5HSbPeSFvQmazQQJEiRIkOACICGaFxkCl8oZUWjraNeho0dUM6NRC265QVq+UPPvvkUrbr1efWlO40lp5vwFWrZxo2YsWljkQvYnTi4gRFMB8yPSlpUp39Kqd3/wjI6++74WXX21yVXK4jFDuBgxOZvueGDHJb7KnSKbSqmiulr9uVx07OIZmsSih5MGc9UzBYpZ9D+Ew4hmfX19VInQrBb3C2UQPwrH1MNXvJMPdVVqnD8n2sTe8kMDxbPOfdsrj0WCBAkSJEgw7fA+MsHFA+gMFKVyRoPW3XKjNj50nxbdeYvKVy6RastVvWKRNjx8vzY+8pDWPHyv1tx/txZeu0mVLA4KBDPOKrgfj4BwHQnF9z6M3Z/T3udf0WEjmWtvvEmzbzRC3FivbChZzvvsj5PSmPjv8YG08S0izW5lQ4P6zZ1eTiTyxTiFIg0cv7vnBhFmM6FIxGHvPGPovLFRWV5DNIvxjOZxcm/PpxiEpgx/02nNWrzQtbzZYyec5A/OaTVMQ1ASJEiQIEGCs5AQzQsEOv7hJGRIurpKS666Uituu1FVa5ZKVRl7aIwGjjOjTjXLFiq9aI4KTbUqVNlDZxxu9fwwBjcIZ87+OtFs7dLezVu0fMZsLbzqWoljMk+1qoxV2FUVZjiK2dAiGftb1BBOBCx+gVBXGbEuM/e7WGXtJA8X8WuKEEVjEB6FTFrldbUaSJUZ4e3yoWon+4PmSixNASI9q/lpRHvWogUqr6rUqcOHpd4+f1dmz5N5mgkSJEiQ4EIhIZoXEIGGxMV5FDeWM4VMSvkKE7Y3ykBgoo11mJPHVkJZM5hD7HV+mnJyKKyE1JAd8OHr3MCAOnfs0Ilnnteu1zdr1ry50kITxrUhXyBYDnYngLBJeWpGgzL1terqhGhGGk0cd+cnG/Hgujf2hzhZ2hcqMkY0C2rvaLcwxBc/YcbiPsUg26MN5I3XNzWqflaTjh0/NjhnNJpukCBBggQJElwYJL3QxQp4Cv+cuPAnYjD+l6MOYwLJmG6l1WDBqa3WoivW6mR/j3a98aoObn1b3fms1t93t7R6iRk08pVODc49PV/gjC9+qa9TuUl7a5vE9kL+JqTSFCAefiN2riW0a6aqUnm7dnV1Da2yvxAaRDKkaYZmLJino83N0qnT0XJ0tKyGCxCiBAkSJEiQICGaFxKBu4zGwdBW+dBokcAUIA52TdlvzhtHuJ/OjCS8g/7VVWvFvXdp9Ydu14yr1mn+HTdrxcce1OzbbpBm1LgmFpJJ8N1iXMYISN2g2G/27VRtlaqaGtQKoeroNkMswYlOIJoyFMMdwsLin7qGBt9Avq+nN9o8Hu2iY5yRnCCCDx4eI/2zly5WR1+vOg4dkfotNSguvJ/6oCRIkCBBggRnISGaFwiBhpTKsOAFbMFunHgaa2ALnYAR7U0BzggrQcikVbNsgZYZsVx+581adMeNqt+0XprdGM0pLZawyQoj7jjxLk+rfs4s9bLKutPEnkEyp5RoBlgeuFbVUFFbo5QRTT8OE41mEdFbQjtZMR8ZzJV1ImlpPXfFMlU31Ok4+6r2s+r/bP+nPkQJEiRIkCBBhIRoXmCETp/rWQQgPESLmS8o392jQmunUr1ZJ5uQHXjEEOWcPgyGFf8Zwq+tlhprVaigSGXVc6pF2ZbTFu5o+D+YP9+w4o67ZX9qZjUZtzNy19XjDwbfTTXco6JPFRXKpNLK9Q9Y5KLYsXdlNId16kNzpi8FVc+ZrdqmGTpxjHmali5F8hvSnWuQBAkSJEiQYKqREM2LCXEGUGQP/tOHact0csduvff4U9IJNuRO+RAyOzai5fQFIRcCeMuiJYbIOY3G7tXRpTe+87ha3toK52RTUI+ID3mfJwZjaTfljfU+/1N+vnfOC/N0pAJpPbgYKlOuivJyZdEeOqmzDwB7H3bSPP8Yjw2e/6RvdbWa5s1RM/M02U+zLGVEfzC0Hh7OpWf1/nSGL0GCBAkSfDCREM2LEYEVGMJcQIhm26GjOrL5HamV4w7ZMTKakzgqWZhKNhHCCbEq3pelMyqcbteB17Yot/9YRDQtDmheA7k5H8SSRjUzZyhdVaksp+GwbyRJNWWRjTDoeiD2mQpVVVYpy+b0PkeTD4CpTfbh4PpcPKyq0LzlS9XT26vskaOWIGnfaoq04TV54GuETKYzfAkSJEiQ4IOJhGheaITePlzjTAqgPYNswgwGckqhNSuuJL5YQJAhOh5O+9HX0amynj41lmWit4NEdEjLF6I7EbhT5lftzCZlqqvUcaol0iZG3k8J4uH2sIdtg8rLVVFVrQHmaPax+t2eW9iigfxpBuS3PKOmBfOUrihXy4GDPk+zzBKfBWMebowVJUGCBAkSJJhqJETzQiL0/OE6HCBvvDdumS3kNMCxgkXwGK2m/8PcBUYYGm87fVoZI2JV8+Y5o8mnypSzG8IJonBHMhE4STK/yhvqVWFE8xQrz9leKG8Ez56fj9uj4YxwB6ZWkVFNY736IZrd0SlF0aupCMHI8FhTm83zitkzVW1pc/TIEflCqYLR3lj5IHxBEiRIkCBBgqlEQjQvNgzDT8L8S6eY3DOUbheMXiy6zUAiQWvzKZ+3mF64wMPpG8rbe7R8k0FuBucjVlaorr5e3aw8b4do2ksnmvHQTA0G58Sm06prmmH8Mmdh6HTNapzUTTXwKRL762HKq6ypUY2zZ6n5xEnLjDZ75hngq9MxgXYzLNAqxiJBggQJEiSYEiRE82IEzGEYOCmAxJRop0Yy75gmNhHNjzSPjNB0nmpVpqLCzzynhLEKG1DY4sE572CVZ9QwZ7b6OJGHM8+dUEG5oiH6yUYIewi3+5FOqW5Wk//uP33aH6YsDc47buMA4QhFwmft1lVr/tLFajl9Stljxy0wFhoWZBURj0OCBAkSJEgwlUiI5qUEYxOuSUOjCaGxR1NOGooEZvA6HAiLhc3PPu/NGtE8raaZM43w1PnLKIzRxvNBqzmeMBPnIGcgnVbDvDnqKMupD5LHOeu5qdFnhjDHxacrQDSN7GYyGbUfO+mnFBHDkDfTAfzxtPcfdrUwzV2+1E9oOrp7j6dJHNDwqaHiCRIkSJAgwZlIiOYlgDD/spAvGIewLAtEE7HnU0ZoAheJX8N9HBaAsBCIvRtPnzypGbNnuWYtIArjUEjPN8wRmSyods5MdWXKdOrEcam7zzWqEdUcLqDnjxBuv0LqLAPKmxpVU1OjjuYWqa3d02gq54rGQTiCgDIvG3nVLlqgugVztWv37uK0AsITzk5CpjpkCRIkSJAgQUI0LzkMaq4MkJlANIeeTgOKHCUQKSQsBCp0dKiztV2Ns2ZGe2pawIIWczJwhjtGqCpnzlCZEdpTra1GNHs9MPgWhWY6YD7V1aqhoVHd7R3RPE1CaY+nbYEW3hS9CtMU0pb+S9at0YHDByUWBRnKCswfjZZlJUiQIEGCBNOBhGheAnDqMAxpGXwyAm/g8XAChnt+lsCXisL2RMjg75g5+2k3PJH6mluU7s9q5sKFRjTtDWrXKUBEqHJK19eqpqFeXV1G8HoD0ZxOmIc11apvmqGeLo7D7IoSpRjtqYn9yMA/Px6zplJzli9RW3u7uvft40tAZZZFTHEolE2VvjdBggQJEiQ4EwnRvMjBvMTBoXNIQoxwRndGqyBdMU0nCKaGBkzPJBfcI2EgNS5s6B2E/dYjKRSl+NyIZS6fV96kkMsr7fMjpeY9+zWrskZVC1hxbu+KwZps8lcIqtzqSjXMnKnODiOaHLlo6RDNBZ1a4H7kh6ViVYVmzJ1t6ZFT98nmaK5oPLGnGkOBcXDyDxv8Ny1aqKraah3bvTc699xSBqLpeWtmQhlIkCBBggQJpgoJ0bwYESMNIFDEM4mBkUcz59qrImmIk8XoNzbNXCFnYqSQe3ue8yuEIxDQ4j+0kkXx02SMQKaC5Au+mpqra8Z8E/AiqeM3m7Of7tKBd9/XmpUrpXlz3J18OiJ9JVE6b3j8IN3ptCo4HWhgwAgeZGpq/BsJrlktT6t2VpMyFeXRPM0eC4ulyYUAsecDgARoWLpIi5cu1f6du6VTrRZYq+6WfwyeEzzSMEGCBAkSJJhKJETzYsNwDMk1lkViFdNe8tvJY/GaQ1vlkndx7addw6Ih7nNGOl0baRK9MwLpYmbcXJnSiJHItP12MauZXJkyvTmlO/qUbu1SpqVD6WOnlDp4Qv3b9ujEC6/rvX/4trJd3Vp02y3Gcqpgn0bEfNMj88sccmqDTA5CekD2Ij+KMg3AP7xij1BBphvqlOaUIo7D7On3l1EuTS/4YEALTj5nGhu0cs1qtZw4IR0+aoG1QFm2Rx8XCRIkSJAgwdQjIZoXKSACQVxDNZD1Yeo8+yGivbPf5Xabsd9l2Ugi7SOax7JIjAWl+gtKdw8o3WUEsS/rBDKDPSND6T4jjjkrBL0DStnvVHe/yjp6VNbSLh1rkfYd0YCRyPbX39Xhp17Ujm89rq3f+La2fPWbeufr39JbX/snvfHVf9Q73/qeDj73knTqtNbeeasqrlpjLMvoTFm0jU6QKDaTA99w3Em3ueqE1h6STk6uJ8+f0eBemhBPGdGsmNGgdhYEMYxPPhBGNzk9INZIJpWOPiQyKS1ZtdI116f27Y/OYreEivIiQYIECRIkmHqUFeKT/hJML0ZKeciTXRC0T5w2gzbxDSN4p95+X/f//C9IS+epUGEEk+1sBoxUcDINRAsiyrnfvX3Kd3Sp7WSzWk+cVEVlhRatXiXVVivX2aFO9nxEw5XJqKu3S1mzO2Bu9HZ2qgxC0j+gfHePCtmscuYeJJdV7pnyjFJmp7KqyjdMz5eXK1Vbo5qZTZq1eJEq586UGmtVKIfORNo1j4ihLJwPfgb9mhgVYzpAWX7ACLb05je+oxNvvquHfuST0kYjubUWLvNrOr6i+i2HONE9dey0dn3t2zq2a6/u+LSF46p1Uk1a7Gk5HfCpDyGhDdl8ThWpcmn3If3Tv/lPWr5ihTb90s9KMyrVV2HmyspV7rrrieZAggQJEiRIcG4kRPNCYpSUR0PHog2IZgVU4FSnXv7y36n8RKuu/9SnpMqUWvs7XLOX7+g2gtilgd5eDfT0qheNWl+fUkYW+7u6fdsdzkmfuWCeqowUDrS2q+dYsxrS5aqe3aSuirSymVR0VKSRyupMhZ/sU6iuVMoIZaamWhUNDaqsr1VFptzIpklVpXEVo1hVRmY4BciIrMydvIV6wNxJG8FkyB0SExWxMiOaPAngGSRsYjSnANHMGSHOlWnLP35HRza/o4c/8WMR0ayzMA2S2qmF0XkjmhbX9h4d+KcntOP5V3T/o5+QbrvWCa9v8TQNOIto2r19AqisvVcv/f5/V8vho/rYF/9/0ooFGii3D4dURuVlhHyiOXBxgrJ21sb+CRIkSJDggiEhmhcSo6W89ZVGo3zY0yicdOiknv7Tv1LmaLPWXbFR7f1dOjrQpWqIIFpMNuS2rKww0pdKp31hSlV9nTK19a6B7D3drO6ebs2oqdPAyRYdfPNdrZwzX4333qH83Kb/f3vvASTJdeZ3/tOUbW9npsfPADPAwBsSJAiABgQJmiV3uSuudGu0chdS6EIrFzop7iKkiztd6E6nU5xOipB0pz1pd6l15C65tEsuQBAA4Qg3cDMAZjDed0/77nKZdd//vXzV2T3VMz2me3q6vl/3V+leZr7Myqz61ct8L1HPiJTIfEE2FF8UkZT52UQORCp5ryU4nAlMDXNWGuI6zD2YLmQcL8rGYr5V6c+IVLKkz4yXL/46L9leIH9XrjkN0awBb37nBzjxs714nKJ5xy4reCsomiwXDEs1nP3hT/Dyn/4An/nkpxF+7pNAp+yz6yia1EhfdtHB3/sGXvzhE/iLv/FX4D90H+Kwhpov74+fuYp3QFEURVEuzcp8CyqXB31Bwr45ninZpOgNsLmark4EpRkURB43DAxgYPMmDN52K4buvQtbPnI/tn78Y9j5+KPYIbHlsY9j6JMfxfqPP4Ctj38SO7/4aQzJuM333olKIYuqiGTbrTej485d6Lx9FzpuuwnFXdsR7tgEbB5APNCFWk8B1Y4sKjkPlSBGVdyplrH9FV+GPQnJYU0EM5KgtFBfAvP7xYqP/Slj+685SQmWXYW82pXJ8DKtrwluTe2dnfB9H1Pnz9tbGK4j9k5MyVngYf32rfIjQvJ10lYIMveO8jYLYeX2kqIoitKKqGiuYvjm2MvPHvzuDuz41EPY9ctfRs+XH8WmLz2Gm7/wGLY9+jA2PvIA1n3kHvTffwc69uxEbvsQwi2DqA92Ie4qIO7IIV7XDW9DHzDYjeliFufrVYx7orBZWYtIY10Esu4aWHdVzUUceQmfTRQxWHLJew69UCZK11XCoVwyr7yHk2EvkMu8ifQ115lrpDhcBy+VMhON9Umek+5ywzr1XDX3Vb6/D8X2dsxMT4uN12y+VpwF+0DeIz6OstjWhpOsEDRbMhP8FSrxVRRFUVob/ba5njgPYdcFSbriLnP3OWYCFDdvQNedu+Dv3gKITGJ9H+KedhHJPKrtORO1fIiqCKMJeXd532VNxHE2qqISs53J2DTWXRUh8XlvJSv1+LIW3zeXvY1MMkSSWFJomjqSCMUoMyYg/Uj654LTmc42ZrRYpFk4fBWwRNNJZkruOCYZu2w0tlnW7xfzKIjQlUtloFJp5GUl8kG4Nmqv7fLkZr7EKrs6MLBuHc6yiSM+IlMkM5CwuVMURVGU5UNF83qz8NveWUISfINML2VKfDBiyIhY5FHczk1M7pX0JY0kCAOZJnOy8o1MM0lEOHIcx2aNpktoq/uIRDpm334XOHoanoz3KmVJO6dFTlmoJHzGOvOQ/uM4M979ST8lhvdiNgsu68K4SmSdbLCd62dN+bTRXUvBc8tKB5E9bsKQDRGKbE5NJk0cJaNd2vRwY9w1ovEepP5kr8uKZE3yg6JfRHOSz4M/c07sODQZuAZ7X1EURVEuiormKsNJSFpE3JtkLlmzOSMKpYhbnZexfZapeUnlG99UAGGXNY7NvZIyH++XzAdZZCoRjr6yF+++/Bq68gVE1SoOPfUM3v7O9zH7/iH4NVlrHMnKYwnmwAqLzUGiVBRGF8n4C4btWhcEx3NZ6bhKKLYi2Pm2NtOtT7H9SubdLt3tQ3ZdXA2LLof7iqXAbQUUujpQnp0FxkU2ee1aJpkmqlJcMP81w+1X+64xDJkQfYODJp+Vs0mzVpK3JHuKoiiKsmzw219ZRcypQnPmlSDKH3Hpm6kc75mkOFL1qpPTePPllzE2PYndDz6ALZ96GN233YLhE6dw7LW9IiCSSCSENcVjmZkSsmpFxJSeSlA0iwXp9zHLkkQ2Zs/HZTKJxHLl3+0bBkWyKju4Xsyio68XMZ8rzobbbftU5haINMzXSmBWy30kotm1cQjZfB5TjScX8WlSVjYVRVEUZblQ0byBoKDwDXPB4UtKC8WUpY0iFiwR7Rlaj6333on1n/oY+h+6H0OffAjdA/04c/KkSJqYkaTnvZqrvbTLSB4lKghMBZwgm8H5sVGgLBLFvSLbu5z5537n8rmfeCtD2a+jEvpo7+tBrVbFzHnJiyk5FOnle+BmSjpJ77LB5Zs9wH0kEfb2oK2jHadOnABmZk2K1f4eK4qiKDc+Kpo3IJcjKUZq+CLvdNjZjlsf/DA233+nqX2O9pxpK5MVhtgIu9UOV9J1uQqy8srCUleWaBa6u9Amsnn23DmAl63NBljRZFzO/roczL41fWzayUOVNc+7OxFnAgyPjIh9siVUkcyF0ruCu8qsikWquRw6OjowzEvn0zNm2nLtF0VRFEVxqGi2BJ4p/YszITo2rke4rl8kTWwsDBGfOo2JM8PYNrSJtilmYtuldJfll87Ka4vJo+Q3EIEa2LAO45MTqJ0TwWOlINk8SpYLcq1zOLc8t788ZLq7ke3pxumzZ21TQswiH99pE644dG7zS6OYR4fkbYqX9Kcomi7HiqIoirJ8qGiueaxOsA4yhcPP5EzpG/wQqNbwwXMvoThdxeDOW8WIAnMdOJA/FoLZcjinIzbYJPulY07w5qL5WBtXATOazaB3/TqzXZNnzohoskLTnEhd5RoWxebersU0cyTr9EV6i/29GGWj7aMTJgNevCAHnOUaY/MyF3YltrF/BvI5tPX3ocKml0Z5L2sMP7mXVVEURVGWC/2eaQkoHb75o36FnvR5ASbOjWD/O/tQnSlj/MAhRO+8D5QjESMRJlMUNl9aXFwolum4UHoYFvZxwenuleFyY9rPDHx0ikSxWaexERG8ZNE+p9neaw6X6ZbLfRrIvmVboigW0bFuAKWZWdSPnRChkwS8dJ7kZTlxeZrLG+/DrKPGHZIN0LlxgxlXOzOsoqkoiqKsCPo9s+ahjvFtZpevdfEyVpEW0ciGWLdnFwo3bcH5Dw7i0JNPAyfPiYSwAgullE0a2fmuHW55V79cLiHmoxR9H9m+XmRyWYyNjiaWZUs054vX8mBFU/YWS4rzGfRv2iheF2L68HFgtmYqLJk2Rq8LzJ2sW/KQG1pvnlE/evyk7BAZ59t9RJZz/yiKoiiti4pmK9CwiEQrWMImf0WRs1sfewQ7f+kL6Lv/LtP0zeg7++Haory6MsflZb4gyWs+j2wuhyqfyMPHP6ZYrm1gHhg8iUxZMUstRd6KA/ZRlJOnzyYVbySF2ecrvz8pwGxXFXwqVFc7cm1tGON9rCU2cZQkUhRFUZRlQkWzVTCXbp1ZWE3zwhD59f3o2rUVPbfejLC9iDOnTtm0JqnTudVKypQkz+bpSRxF0aTYMezUa05aMnmbqOmy1JL56OsyFW8mzg4Do+ONZo6YF5Of5cpUE+wNDURW2lZA12A/xnj/KNscZanmCuZFURRFaT1UNFsFaxsW+oUE28tk2R8baEcuRC3wMBtZSUtfVl29zM8hc1yn9dmBRmdZt8OtjoIp/XWeUR1F9G3cgInxcdQOHzO3IrB4OJLESfIVw26/rJVPlWoX0ezvszXPxyfs2Z/I+ErnS1EURWkNVDRbDlvSx8viVJCMGCcbdI9HRs0zuju6Os0zux3XTtKc8rklXq3a2GWl732cV0AnPRQ/t8a5VMuFzQvzgEIOgzftQCT7ceSDw8BUyd6HIJj8LX9mGttsXFL++KMCuQx6BvtRK5cR8/K5uTeCpcCNvWYzmBpUFEVRlKtBRbPV4NN/RDD4XHNGwNbaT53Hvp++YGpvb7jtViDDB1YujpOYZnFx0ikunfrSsAxzbjnmUjmlKREnl6drsSbilrPo8nwRdpFN7tLClg3wBrpx5NhR28yR7PMgnqtatRwul85fI2RF7LKJo7rvoXdoPWpxhLETJ5ORqRJNl6nGCEVRFEW5OlQ0WwbRDRGd6TMjKH1wAv6sSE9Fxh09hw/+7Ckce/8D7PrQ/WjbdZOVDzky7P19zjps2HGJxCwSzVi4hHRcDY25pccU0JkB+5rm6tYyt23pMDQZGfFWhK425Laux+nz54CTp8x9mn4cywlHsXN/6f0yF1dCk2wkC5OhOps58sxtErl16xB2tOOkeRSlfXIR3+/58yiKoijKtUFFsxVwFiHCMXz4GD545kVAZLP08ls48P0ncO7AYewRyRx84H7zSMq5S9BWBe3QnMZdKW5J10oyFzKX74Sry25TLpVjM52X89vz6LllB6qBh5lDR4CKaJ7sQi82zaebrDWLq6V5/uy+rnEN/b1oWz8ooinyOz5tZvD45KKkFNgsoPlCFEVRFOWyUdFsJcTE/FqMEx8cxlt//iTef+anKE1PY8d992DLww8CfV0iGSIcqfse51j99mFkLZ3N65BlrtK0p5kL0b5lCO19PRg+egwYm+AUkU37FPlE65YXZkbCCbgpQ+0qonvLJpw+cxo4ddYk4zHBt30enFdRFEVRrhIVzbWOsxojEnX0b9yAoZt3oJbPoG/3Dmz99CMYeOAeoLcDyIhdBLQSW9Z4Q7hGSpAazRldx4zzhGJj97xXM9/bhe7BAZwdHgZY+YaFmWzqSDKYyvaywnJorpb3svpcqe9hYNd2VKMI1fcPwVxP9/joUaZkv+xHhh1SFEVRlKtCRbNlEAkTgSgMrcfOjz+Imz7/KQx94qPouHUnMNAFhCIlPBpEkNxFbRc3Cqz1bduyTEZcJ1iiGYv05ts7sG7rZkxVK6jyGezlqrE4lmkmWrdiGAE2+8VD985t6O3vx+k33wFGZ+btL/a6UBRFUZSrRUVzrZPYoqmN7UtPMYfCun60D60DujuArI96IPIj02KXbt715znZnD92cdLpFwviuldDOqsNOboWC75KKLxBJkSfiH01G2D0zFnzHHlm0l48tyx3Vrl8nuRsRyCgAIttZjatw6Yd23GG946eTpo5Mo8ltSXCHJzLoaIoiqJcOSqaaxwKg5EHkYjx4RHMnD5nmtt5/7mXUOE9er4PL6qLGJniTBE36Sb9hK8LYx7OSJJus/SXiqXitsUFcV1TEivbwq7Nv9CYeJ2QvBT7e5HpasfJkycBNpQuFlePo8Z2L3cWuR7uDYomS1orXh2R/NjYfPMOnOclfTYoH0qK5NI5X1U0FUVRlGtF8o2srFVYekZpqFVreOuV13DkjbdREdl8+8fPYOy9D2SKHAKxuYMPnikepKg5DZrjwjGCs5GFXaFp+hSXmp6Gi3UClBYhRiQLMiWEgWxDJmChnEzgi5CsJBlaUcwlfPkPujvRs3EDRkdHgTMidn6IMJ3HFYS7oxLHZv/17b4J9XwWJ9/ZZ0taBb79zBXTMRRFURTlalHRXONQHIyIiTm0d7Sjr68PQVRHeXwS8cR0UlNEJvK/iWA2xYiS7V1u3KqcYJr6NI1hPkKzjipTeHXz7HaTWqTasULZbIq5DaFYQPf6QUTSH587J5muI/ADc+IxbyudP3f/aEby1LFlCAc/OAicEgmWHxsuL6b00/YqiqIoylWh3ydrHFu1hwVpIXbdtgeDu242T4gJZHzeFzHjxKRtG75eKgz00cVCaDbfYuEE8mLBBtBjNgskglRP2nxkxRa/7iEUcQtlHA/ltjADryb9yWVgLp8k2VpxasxXGKB9oA+VeoTJsyKaMyVjygG3RdK4PK4UOS8wl+7R047+O2/BCTZz9MFRW/tc8sR9xQ+F67XPFEVRlLWFiuYaxwkDS//CYkFMI2vEjbImWtYwHSc9lxPN4Hhqnot0+mbDDJZQ0nPS4caZ0liWAhqhlJBxtsTN1jDPyF8Qy5jYR49MzVI0TQktFdtuv9sHK4ndRnkNPCOaYS6HybFxEc2y2ThPsun2w0rCfcdKQShkMHD7bpRqVdQ+OAJUeUzYfebeJ0VRFEW5WlQ0W4Q6L5myR0yC/SzRNKJpxs2XMhvN/ziFEsK+ZnA8DyoXc8tLDbPkzJRK2scyBi6iJCiWdDQTklfPR+D7Mr/0V2Se85OIj57C1NsHcO6lvTj858/g4PefwPH975tLw8hmZCNtiSHhOlcas72syR34yPZ2m/Y0J8dFNCenZKJMlcwxfwyzT5JYbrgOXronHds3o3OwDyOHjwJTszJN/mS/8Tgxx4qiKIqiXCUqmmscIzDGZkQQ2byRiA9LCSMROz560CQQuSBW/EQCTSTTWUM66Zp+SWNUk/MsEnb+1HI4rhFJnpKgPBqBpFC6kFX5ZRHOmSr80Wn4x8+h+tb7OP3MS3jlD7+J537/j/H01/4IP/3a17H3T7+PAz9+Bqff2odibw+2330n0F6QhXPbrBpfCyTbSw7C9Rqhk556NkSxuxPjU5PA+ERSZEgRtqndvnCx3PCkNyXcfd3o37zRPiVoQvIleaL48/292J+iKIqiLBX57pdvF2VNw4oorDQTRxEKfgYTe/fhz/6/r+Erj34WweMPW4nM8PKzJObNjw1bSvppP41xiQ7xsGlmRkzn0hJO53KjmoT0sKJOrQqUK6jNzqJWkW6pgrhcRVytolaroSppyrMlzE5NoSRiVhodQ71SxUylDEmJQnubuGQbOru7kOnqRtjZgVxHO9q7OtHW3wN0tZkme+oi1cyKKeW8ShZu1mLM3yWiZby/dHIaB77zBI499QIe/crPw3vow5K/GJV8KGlZsrzyVCVfGXk79v/nP8Kx7z2Fx/72Xwc+do/YseQ3DBHJfrblng5uvSnzNH+KoiiKshRUNFsAvsVVcQOKZt4LMfb2e/jz3/l93LFhCwZu3yMJxDhkOssWC22FxKjq1ikTPN+TZCwJjcQZIyNQRjwkjTuA2G9KLJMRPLJqURUVEcmqCGW5NGsEsjQzYwQzEuGMZVmxyGW9UjMlqnVZRiRCau6/zGaRyYRoa29Hvqcb6OtGbmAA+faiyGZB8loEsnmRttCU1BpJNqWIzITkN8n/kmvTXwRuUrJZF4VrsmuzqWMRbFZQOvPk83jjT76Pj3/2MeQ+80nJt7wnOarc9RFNVk7KegEmnnoJT/y7/4SHP/cZ9P/izwEFD1E2Y0ST98MuREVTURRFuRxUNFsAvsUs0eRfNvZROXkWL33/R5g8chx9uSJCljTyKBAhC00TQZyJtbwpkwmUNR4qRtpYUmdHm36+yggKiHE9jpZkZm6RW0+WXy1Xkc1kkBGRZfuNYTGPsFCAJ/0QoeRy/SCEJ2JJWQxyOeRkeqajiGJ7m0kPGWeEkg2MZ+ytACYfDJM9EVRz/+F8Fbouomn2lXREplnJZvqlN/Di1/4Y9z/0IDq/9DnJP0XTVGlqKnTLTY0llpLH+vvH8K1/+W9xy/YduPWv/mWgM4NqkaIpx0qSNo3VzKvfn4qiKEproKLZAvANpmiSDKtzlyoYPXkakydOI6zUTLuaFD1zKFQqJp3R0rg2Z1fGoHz4fJIQxc0EJyf9yWHkSjPddEqWXyrjwE9fxPbNW9D54IfhdxYQ5nMIWGknJ5oVihy6p/pwJtfPe0oZzITpCpFsCS+JUzJN+gTTL+lkfU6E3NTrLpqxSOXr7+H53/069tx7N/p/8Usi17iuokmRRFRFMDyJH/zf/xG5sRl88m/+LWDHOpSL/JHgSRbtj4c0du9e/f5UFEVRWgMVzTWOEyTTTJDAmtx85CRM8L5J6dpJlogmSpgwKekkxi3kxUmbEb+kPy1y6fSsRCTSOL3vIL73n/4LvvCJR1H87CfZmGMil5Jcgk/3cbOk52fvnLgmXSLrc6MJJ7mwfpdOzOTzh68Eri+9zsVw+XCpYxFNX3ZDbe97eE5E85a778DgL/18QzSZ+npcOjf37MZVZKcqePFrX8eZ517Dl379N4CP3IlaB6czi3ZPuu2226WiqSiKoiwdftMprQAFTMJIQyCikJW3Pp8D2vJAeypYkcZFp0R3+1x/ZxHoSII1u908bbKcopgTo81GLMFLsEw3VStjtDyD3ECvrFPGeSKzLMazV7lN0AVNSLbso9btCFNTntFIIDE3W0N5XP+1qPhz7eAtBtzptst7Rp20XW+YDyP42Qz6N27AbKUMnD1rJgQixnxr3IeD27cuFEVRFGWpqGi2CCzVc+GEjaWJ5ghoGkwjPan0NmQaYyEL0vH+zCgpjoxlVN33EeREQjO+veQtw6Yr4Zo4mh8LstMkZO5GpLkWJZjXisb+XnV4pjUCZEKs27zJ/AAYPn0KKJfhyRvGxvFtqrlQFEVRlMuF39dKC+BEgfqwMJojU9xMTpY43Ag3jjE33pTamf65C6zmcr388fGRfMoPZ+F6eZGeQupw+WGkWTjscLLpuqsSV6KZDK6efNblt4TsOclQ20Af2gf7cfSMiObMjEySdyt5Yxbb94qiKIqyFFQ0W4CFckN5uDKBuLQmMYULPn2IK7KiKb0UzWQc1YtDTjRdntKRZrFpXO6qhZKZsNryyfyw5Nj8d3VgcNsWnB0bA8YnbRE0791VFEVRlKtERXONQ6FwcW1otrT0WmyYy99JaacbazAD8yvzrFncRkq3sf2rBJ74/AFgslgsYOP2bZiuljF97LhplYAlz1pPUFEURblaVDSVZcN5CjumMgxHJMY1Tz5bgNWmbDzxQxF+NsDPymH9G9abPJ45fEREs9z4MbDa8q0oiqLcWKhoKsuClUirKawQw+aVGiVknrlo24BjnXheTqx6WKJrunYbXawWGpWm5H3J9veivbsLJ48fB2ZKMtE+Ez99D62iKIqiXC4qmi2Ek7OF3eUgLVWsHGTWRdHkSBEcDl9N3BjMVQKK+aSlpN/sB2FVbAt/BLBUUyRzaMd2nGETR+dGJI++eSSo3Qb7Z988RVEURVk6KpotQlrSFkZzmqW8dMxTk0So/CAwz0cHwyRIxkuY9hrNuObLuyDmpVsclta5uF5ws8z6KXOyza42voH7IBG5Rn9j3MrR2D/5LDbs2onJmSlMHDxkKgP5EkHyGFK+n3y1oSiKoihLQ0WzxXDa5brLAVUkXaOcommk0z1T3QiVPfjm5YMmdqngHKa7urGbydc5zLh5oml77YRUrCSSH4+P/JT/7m2bzPPnj+zbD0yw9rlMTtrTnBNNRVEURVk6KprKitBQw0RcGjh5XFb1vT5QtJ0TUzqNqhnBXD3Cxjb1bakrkBnox5adO3D06FHg/JhsgIzkdPNnUptXRVEURVkqKprKspMJQwQiM3G1JkdcIivzhGvtCcwFKpkuybwYK70r0vlqK2L3bXtwZngYU4cOAUGYFEtfIs+KoiiKsggqmsqy4e7/y2WyCD0fU+Pj1lmc3FzKqjj5EkluFOZtSmP7rx98G+ZC8sMfAKGP/s2bEWQzOPzOPlv7vFpNUvHVlsoqiqIoylJR0VSuOU6qnE4F7W3wclm89d5++4jDgFWAhHTChUGcCd2AuE1wLNy01QB3LfNj9NHIbx3BYB8GNw3h2JEjwNkR+5zQOlWUFb1WU+4VRVGUGwEVTeWa4mSKYZ6lzcdO9nXjjoc/itlCFqiWZYKMT0r1KDuRiEwkfeaexiQMjZ4bE5bo8h5I17+aSL9PDJNNZranC9v33IqTJ06helBkM8ybezX5rCemVNlUFEVRLgcVTWVZ4IHlG6GUnlyIPY9/Cvf8wueBzkJiN/LCkrIogs9mj6I6qlHtRnfLBtxE7gNX+YeCxm0zw9z2VSCe5m1Igq8xM1zMYOvtt5r8DR88DFRq0u8+Jq5/nhVFUZQbC/cNoijXHGqJaZVIjrJsbxf6dm1HlM+iWmf5pQgXa6CLyHhsHFxShzLsUT7t7GvCayiXpuu2JRHsxoRVAt8PU+9HslfYvhX9Qxtw7LCI5viUrRAk+eUmrIG3RFEURVlBVDSVZYdtR9Z9H1EQoOaJ0NRjeDWRzZFxDO/dj7Mvvob6ibMI6oGIJkVMZnJWsxbMRrbfXEanZDZYZaYpmBxRgge6sWHbFpw6eRI4cwaoyTj+KOA0RVEURbkMVDSVZcWplS+SZSo2y5iMFyA6PYJ9f/40Dj31PI795AW8+YMngbHJhlze6ErD/FMsXaPtpqRWgvthNQqb3e28vB8DmQCbd92E6XIJ5w8fsZfPTZuaWutcURRFuTxUNJVlhwcZRcaPYgSRdIfH8d5PnsPowSPYun0Htt5xO+qsNFSpGENzcnYjw+3ldhixFKJqTbaxbtoUvahoXrdNl7zKa8z8enX037QDubY2HH7/ADBdMvfQmsbdzZYpiqIoytJQ0VSWHbqTrQ4jTM3i+E9ewKl33sOu3bsx+JF70f/w/bjpUx8DujsvLmHz4NJckOtmaIvCnPHxm6RWraIeRchkMjKUyusqybbJq4QtuBQhHtqAwfXrcP7ssG1PM8mn29uKoiiKshRUNJXlQ+SEfsK6JObSsfSce+1NHPvZ67hp+3b0338XMNCJWk8RuR0bgWJWjsjkfkazgIT0APsbwwsnLC9uDS4L6SCu24DbnHSnpqYQxzGy+XyScBFzu2AhKwtzFbHoMp/Fxm1bMTM5CZw8bSeYHwFJvhVFURRlCahoKteUhSrCfoqmX60hPn0O+559Hm3FAjZ+5EPw1vWK0IRGbOphiLpIpqsLdIHOUMASCZs/3U1Ix7Wn2VoWiwauAo3EtIgmyRaLkkhSyb/bBlMjncOpcdcLKn7MPAfA0M5tKM/OYPzgB0CpJFNtRS5FURRFWSoqmso1Z74s2SomvCZ7+PmfYezsWez40D0INg6IZPqIWIIpqcxlWwnOu5hsuWkXTk9MzcTystgamo4392dKiHDWeX+qH8Ar5OfOOpme3qYLt2vlaWxH4CO/YQDFjjZMnTkHlMsmv2y4nZfWV0NeFUVRlNWPiqZyzbGyIq8iJmwfM6iLUJ0exnsvvYotW7eg/Y5bTSPuUQDURC95ECZKlsx7IatJxpaME81IxKxaRZYVgbI5O17+WYLp5PpSkr1SMMeiw9IjORnsRd/69Th/+jQwOSNvFhvWr0n2mUpRFEVRLo2KpnJNoYIwWOZlao9LsBzs8GtvYHpsHDffe495JCV8PnZyTljYt+YOxmT7KWjV6VkUwgzAykCJTSadVQXfA/M+8A3pbEPvhnUYPTcCjJyX7Yjh8XYARVEURVkiKprKshHVIyss0yW89frr6F+/Dm037xTZkpEZU24mYS+dM5pBrXFxw8GSP4pmpYKoVEbAYTYmutjGrhLMvmYeQx/rN200NeenT5yS7ZD3UybqpXNFURRlqahoKssCRcRUKhFjmT15GufOncPmnTuAni6ZwOdni8nwOedLUJYbUWpMnp1QliuoVaqyrcmIVXzpmfnmk5z41HlWzmof2oBMIY+REyeBUlWm2rzfiO+JoiiKsvKoaCrLQrrMa+TUaXn1MbR9u710bBpr9BH4GXM/IAXMCI5JPR9qjYs0Ln2zWA2wnNbkRTLOmtrlasU23s52NQM57VapbPJ9iyXKkvGyiKbf34NMWxvOHHOiGVy4j1fLTlcURVFWHSqayrJA9zAqFdUxfOYM8n6AfM8AMDyO0vtHUN53CPUDx+FNitJIYrazyXmaOctiSubSp2M1EskG1KLkjlQvkczFNuo6w33IiknMbYWX+bs60blhPcbHxuQXwzgnmKyv5v2tKIqirB5UNJVlgfLI55rzCJs6P4a8CAqOnMCRb3wX+//kBzj0zR9i/+/9KaZefhsoszF3TxyGFYTWDmmXtLcRrH6YZ4b9YJC+Yh5dmzdgZrYEnB4GqqKgyaY0ZDO9oYqiKIqSQkVTWRZ476Xxj7qHXBAgW67h8E+eQ/zBMWzs7MO63g0ITg7j3GtvARMzJh1L0hhrhkTI3JOOzKspzbRDqxFTuizdUCLLvsBHdkM/ylEN0akzpoSa8NWWfNpINlVRFEVR5qGiqSwLFA/TvFFcR3//AEqTU6jPlLD+Yx/DwGc/g5577kKho91cUjZqY/9NrC3mtsq2PylhrGy1bOl8ReSdpb68b3wie4bvn19HYeM6FNqKGD98HChXuSHmPk7O6X4crKkfCIqiKMo1Q0VTWRaMVDECDxt27UTH+kGcLU1j7OwpDL+/D++++iJO1Gaxfs9uoD0vc4jgiOYkKnaBhqXHpdM0i1WDyQxLdkXKzD2oomaNDNrxi1eDWikW7jFbOYuyaSppyWS/pwvdgwOYODsMjE2YVO6Dw+V8Ve13RVEUZdWgoqlcY6gcDNEUPzS9+c0bcd8vfgn1LYPY9/47ePUnT+HIkQNYf/cetEsgF0g6ik3d1Gmek6/54cRsLubW5mJRuIir4sL8XCpMia7INmub07lZCminsbP49qwMbm3zw2NlpaTLYHmz315E79AGjEyIZLLx9hgI+VhNmUbsHPNxW+rSKIqiKK2JiqayDLBkUtRD7MrIRjGP/vvvwK1/6Su49cuP47bPfAJ3feVL2PSph+D1dwCBpJLkFE3brubiYe/kZH/SWWoQ171iuAC3/kuFYOxL8pwJkGsvoERtiyXq85eRls2Vxcrlwmhc4peIJfxMBt0UzXIJldNnbOUtPiUoSdVMNMlKb42iKIqy+lDRVJYVykYciLAUs+jatQ0bPnw3Nn70Pqy7e4+pZMInBM2/pHwplpzwoljFW1rMZ6nrFxkzwiZLyGbQNtCHyagClGbsOJZ2mmW5IM3XuPIkPxCS4A+GrvWDqBWyGOFzz2ertgYQJzFS2Z43X9JNDyuKoiithYqmsuzwSTOxRCRHW72QAzqKQC5MGi63srJipIwnLUGLxaVYmJ5llXQw01+PUI2qRrSL3Z2YrVRQn5k24kbRNJfWG7glrB6YG/feFEQ0o84CTpw8aUWzzns5k+l8Sb2JC7didW2VoiiKspKoaCrLinMQ41byx25UKWPq9FlgcjYpGbOWspKq5fJ1KVyeLpYvTnOCyaWysfOajKnFsWk/08vn0dvdgzCqozQ2TgM1KS9kKTlaWXgLBLfB7+1Cdn0/Tp89A5yXbaj75sOD76l79vml9pOiKIrSeqhoKssK1YkHmQlTgudh7NhJvPnE06gfPSV2JikqLCGbk5WLMS+Ns8XLCNaiphS6cMtzkZ7GoDwuFrxL0d5Zae9JZS1tbkcowUdrhn4GmTAPTzavWIqQEdGcmWabobImGvc8Fg6vDswHBPPbUTDNHI2NTwBnz5sdwBybfSbb4vZfM1bnlimKoigrgYqmsuxQNFyQzHQJZ955DzGFhTZH6ZJIp3E4gVkYrMHdLNxfOrX743Q+fagqfbWk381nSiAl7NOJ5sJOsyG+mAT7k+UkFXtMc0CxvS/TFwnzRSz942cx/uzL9mlITz+HYjaHjoE+Grc585h24fauFtx7wQ8Icw9m6KNjwyA8X8acPieiKSMl3OV/+3ohbjmrdTsVRVGU5UVFU1lWnIBQSIywiJz4sxVkKyJiNZG0qAYErBB0oZBwHMOVLrpwJYpOABcGBdFKoxNHJ5Z2HjeOf1RJlscFMo1Pw2FOQpHHTMwSSIlazYZIZCPqnolQTp/Q80UsJdcVyenYDLzDp3HmJy/gzT/4Jn76O3+At777I4zvP4Biezt2P/QAsjdvNyuKfRFSmcXsk1WKez/MeyL57N84hCAMUD1+wjbcnsgyN8FtRiN9qqsoiqK0Lp4IwCr+qlNudNzBVRd589m0Txzg7E+ew6s/eAKPf/6LwIfuBDoC0b0Lf/VwXieXjrTUsJQyTWPIlDJa0TH3DzaMZ059uK6MvJqL3ixRlZnlZJBZKcQyQAnmYvjkIpbeMQE7bhG83F+aRTw1g/Onz2Ji+Dwmzg3be0/LFQSZAD2D/ejZuhWFoQ3I9nQi39sBdBZNTXvKrr3LcSHMzyr5/ee2N5IdEfgonx3Fj/7Hf4F7Mt3Y+E/+DrCxzQh9PckvZZ3JGeldpSiKorQuKprKssKDy0qHCBxLLyMfR3/0FPY++TR+7pe+Ctx9C1BgBRqKyoVq4g5Olj3aZdkx5n5Pu+CE9LzJXCKNrmtk0w9tKvEmr1aDX5O1lspAVfIlw/XpWZSmZ1Atl1ERgSyb/goqsyVEVRFLrlOkNJL5apUKIkkXy/ycHoYB8oUCujo60CZymVk3gOJgD7LdIpf5LK0WtVDWzkvrzIUsy9bbXsgqFE3uR3bLEZ775/8GxYOncPf//E+AzT3yuyFGLaBi2hJhJmMoiqIoClHRVJaVxsFVj21JYeThwLe+j7effwlf/su/AezeBuSoj8n9ikYgKTYyxBFcAEe5YQeTcFrMkkcmSMKUmqa6nKlUAUQMjVCKTJbHpzA1MYHJiXGMjoyIAfISeYzS+VHE0s3mcqj7HqqyDAouCSmpkocklyjk8yi2tSHf3gZ/sB9hdxeyXR3Id7Yj6Gi3zTfRvMQZ2ayTyb4RSLs8k6+5otYUq1A0pVuX/ezJrn7z3/02zj71Ih79H/4hcPsO2cYIlQw3VEVTURRFuRAVTWVFiHnpnAoiovnO7/4hjr29H5/9G38DGOoHspJAxM5YGY3MeZYzFvFDc/m6Jj3VKupTk6hOTWN65DxK0i2XKyiXZmVyDTWRyZqk8bk8EU0+/rE6M4O4VEUgh3pYrsLj/YUCa0v72RB5kca2uo+j77yLdevXofv22+AN9qEu05CRXIchgpCZtBnyggChzJPJZxHKNLTlxbICc0mcz3aPfBFn3oCZSCV9kqW15lK5kWiO9UzvHBzghFUmmqZbF5/n++fj9Lf+HC/99h/h83/l1xB+6mPmR0I5x/x65m0kdi8piqIoinwnqGgqKwHv5fMpm7Mx3v3dP8LooWP4yF/768BgrxVNSiQvZVNTRocxNTGJSqmE6uSMKYGcFaEszUq/jKvNzopgTpl7PgOWMvo+AkYQigSKDkl/rpC3TkfrkW4um0UhX0ChUIAn4Xd0wG9vQ9BRRJjNIZguY/8ffB19/f3Y8MXPAX2dRjKN9FJafZFId6ZwmAs2IcOMxA1t4/Qsn+XK7ThiJ8sILsNkiv7mFphGxHa1iaYQy772vQDVl97Ct/7lv8Wjjz+Onl/4AtAeoJy3OyFnkyqKoihKAxVNZUWo8MZIkZXsTA1vfO0bOPTiq7j1rrtRYsWYfIhapYqqCGRVhHP87BlUyhXkMhlTuzsnEkNJzORyyOZz6OjsRJaXqLs64VMasxkbYcZImh8G8Fm6aKRO/kUMA5ZKimwGLKU0pY8srRTD5fVgngLlGK/9h98yeb3n138FGBDRFGGs1CMjsrxk3kz/KJWE03lrgKlYxGFjuaZ3jmSam9D81FuFJZpCRKmnbL9/HL/3T/9XfPjOe7DzN34N6M6gJKLJPKtoKoqiKAtR0VRWBLY7SVnJV2Ice+5nePvJZ9GF0IyLQt84DS9hsyQyz5LHLpna0WHlsKMNWRHKIJtDKKKYzcm4gkiiyKUpaTTeJi8LxY5wHBfOLkXPtSnEfom6zB6J3Ia1AK/8P7+NseERPEqB2jyIurgoBdnIq/lbHLPqZLGG9GnlxjV6GomS7kIaM1xfXPZkW3i3qhHNcxP4zj//lxgIcnjgb/0tYEMXykVud9C4dG7yz3m5Ga6rKIqitCQqmsqKwIvitTor3dRRm5rB1Mlz4h8iLqzMwxI8+Q9FHMNMiAy7IpWm1JHmxhJIZ3DsSNQlvXEYjk8dwkmq+fVsbELbw+T8M9OTZ7BLvvJxgL2/9V9x4sAhfP7XfxXYuRlxVgTLZ1kl77H05WRJL7QJySoamUiYy53lEktZXSSZZ3NMvE0BMxU88a/+DeKjp/HYX/sbpkJQTUSzLhIq2i9Immb76YbaaEVRFOVasUqu0SlrHR5oGRFKT6SRTf707tqGnt0St+yw3Zu2omPLEApDgwj7e2x7kwVRlzwvcfumdLEug7FEPcOSSJFEBoVTunMhaRcGS0yTafZ+SwlKkwTvpjT9Mq69rc3ci4hSSeSWYkk/8uCLOFndbAJHuyBJl37WLG44km2jO/KZ5yxF7l43gHK1AvBxlDIxkNFu8xVFURQljYqmsiJQRMydjpQ7iViEM+ZlaxFIBgUyYrA/iZpMr3E6Cz4plSKKsS+RLMM0N7QgzIrmOk2DB70NNpo+dxJ0FIqo1yLUy2VZoaTlMo1Eca7L54aVyyZwO4xoyvswMLQeZTYXNTUlb1AMj097MqkW2U9XtvsURVGUNYD7jlWU5SdlXaaETIJd22/l0dbatgGRSnNZXfopfTxYxTnNbZbslxSX5TDptG5elmmaS+8y0JYvII4iVChRbFzezMBMu1g6c8u/MG5EGrItnY7eHkR8+tLYuG0pgLc/LHYHzo26wYqiKMo1QUVTWXGccC0leIC6MKWLjKQ/LZtLiXmkvMjdpmybRKqbp/4YOJorYvFmGrewCxY6n/S6Xdyo2Lzb/VTs6DRtiU6NjiajrIayNxm03MgbrCiKolwTVDSV6wIdJO0jaaFcGA1fcTO5uBoa89fFJa1AIZu1ssTnmLOYlf0mUitzvUnXydW1iNUNm26yfdl8AUEmi8npaXHwSPaFZwTdPSbUkNpliqIoSuvC73FFWRkWyAcHXZD0cHr8csKyOHNvJ/vbcqbWezRdAqK5UkxzeZ89i2QoLYtXGjcCjf0kQp7vaMd0pWwrTrGSV7IRN8q2KIqiKCuDiqZyXaCyLIzrgV23XbvfXjSXz0uTU/a56PNK6pZXoZxw3hCilssi11bEVGkW5olOFE3ZV9fzfVQURVFWJyqaynXl+otJ6mk+Ik/ZfB4zbLaHokkFrVOg/IV3aS4Lq1kyuYcasp3Loe57mJzhpXMZx1sPkkmreRsURVGUlUdFU2lpGqVwlKX2Ijr7+jA+Pg5MTppxrOEe1SIjnK2OLbOUHRIE6OjqQonNQBnZlNG1WiKZph5/01AURVFaDxVNpeUxJZq8yTCbQWdPN0q873BcRNO0D5lcEk5KPRUhG5r9xFsLMD1rLTLMmH3lbjJYGIqiKEproqKptChz+tNQSN9HV3c3KuUyymwjMrksHAZhkqCVoXDLnmLJr+8h19aGGnchm4LibQZsSlOms1F311wUX42kJ6EoiqK0HiqaSovSXH062tvhiyjNTkyKQPEJ7aJLni2pWwy3pLRUXW4Q1129JLkNfCuacYzKxJQV8lpkHt/JvUTRZLDZKNM18yqKoiitiIqm0mKI9pj2ipJYoEHZTIiMiFS1NCPyVJUx9tI5b0M0ErUgiFvKtYrVjBFuyWRnLy+dA9Ms+Y1kHJ/iJNN4Nd2XF4apic4RiqIoSsuioqm0IJQfF/PhfYaGusgTo6GTtm9hOK5Wp652/uXG5S9K9kmhswNBLovy7CxQ4aVz3s+aPDueginJTJi5FEVRlFZFRVNR0hgzSi738sWIlcJd0ZBG2SdBsWAabp+haPIWA4omxzNVepfp7lMURWlpVDQVhVAoAzkdkku91o8aaqUkBJ79yPDyOXiFLM4OnwNKZfkkCWRsozx4PiqbiqIoLYuKpqIQI0OiSb7IkvS7mtNEPWkO2xSURKGAYm+Pfd75zIx9ZCd3lO4sRVEUJYWKpqIQFsUlwTpC7LXipPaUxlUGQlsB7WxzlI22TyWiyQlGRG2v3YmprqIoitJyqGgqikBNIvUwQFVkKuIzvGlIMiHtTK0MS3n53PdanaWXdXT396NSraB27qzsIPkoYc3zVEmwQXecoihKS6OiqSjE3JtZh5fNoJ4JUS1XgLLIpngT5UrLNLmLrHKbfSGfHF0Dvab0d2psDIgiK5kmjdltiqIoiqKiqSjE6BFLMQsF5NrbUatUgdmSEadqPTKyqSRQJn0PHb298MIQk2xLk4/tTJ6kpCiKoigOFU1FEYxoUpSyGXhteZybpDzNGKmKY9VMB/cTK0tRKDM9XSi0t2F4eNjWPKeAJiWaiqIoikJUNBXFQUkqZLHljluRW98nw/YGTdMAeZJkIa2oVe5pP16xgMH16zFC0ZycMOO0RFNRFEVJo6KptC4LLZHtaIo89d9/D27+1CPAQC8bjkTWD0xD5KYgz6ZswEpEbnwrKBZbyjQfGtx3hRz61q/DbLmM8sh5M5UT0k1DKYqiKK2NiqbSmjQkkz08DSRYazoMEXS0ozi0AejqNON80UyKpidaybB6aYN/vIOTf7ZOtpu2BmUr2SSWaNZ92W+ZEO19PajEEWbGJxq7hXvUibcqp6IoSmujoqm0Hg3JnMNKkUxgqabIZRwGNjzp57Q6JZOzsga6vWeT4yOJatJ1083ENWtYdsNibqzsqpxIeV3219TomOwI2SOpbV+zu0BRFEVZMiqaiiJYSbTUA8+U2nHYymQ9uU+TTw2SbiyqKeJZk6mcxjTEzM/2fpxhrTXTcjtIqJv7ND209XQjk89igpfOZyt2m2X/uKQcdKEoiqK0HiqaSsuRlp+LCRBliSdISJOcLgMT08D4DPxyLOMCZCVysY98FCMTJ6V5LYLH2wxkg4O2IjK5HKampoBq9YJ9cKl9rCiKoqxtVDSVloTuyGgmQRRMTitVK/CqNZTPjeD9Hz+L/V//Lk58/ylUf/Y2vLcOwHt1H4IDxxFM1+CJcBrRkiXWPV5elyWnSgDXFLFsHcWa2yjCmQlDxOZZ5xzH0ba7VjdfURRFWToqmkrLYWpFS1CEFpMh3oUZBKG5VH7ijX04/OKryJ+fxNi7H+DF73wfr3/3h3j1+z/C69/8Ls4/8xJwbkyWKaeTCFgkC2W0Skme7wd2W5vUNlfZVBRFaW1UNJWWg/dbmpB+0/h4E9hIe8jLw6Uqjr35DtrDLIbuvxdhXye8gR5svvs2bL3nThQ6O/DuK6/i7KtvALM1MUzev2nv2+Si17xsmns16ZiuNHPNb7GiKIpyGahoKi1BQ3/iOqbPDqN6ehgoixw5I1yAqwyEySnMnh3B4MAAstu3YsvDD+Cun/8ceh/+EPoe+TC2fuEzGJLxH7z5FvDBUVmeD18ktZVK8jw2daQoiqIoTVDRVFqCRiPiUR3vv7oXL3/3R8DJEaAq4839hvN903cD5Sq82QoK2RzQXkThpu1o374RtfY8UMwiv2EAQ7tuwsz0NMaPHjciy3l5YpkSU7OQNYaIpefNbV1dtllRFEVRmqGiqbQEVCEjm76PzmwBwwcPA4dFDNkcESuyuDSmLyWIMg+bMzLDvJQeBqiFISLPQ8w2NwMg091l5ps8P2oWQNFc7JL8WsWKp6IoiqLMR78dlJbAPM2GPSKGXb29iKIaJs8Nm2kOTr/AD8UwTePkxEzkgKlTzoVKr/SJcPoiobWIzbZb3PPA1yypzWv0rvVtVhRFUS4bFU2lJaAYOmHMdhTNoyZnyyXbJFFSGteQTOlhZSFDNgc/m7HtRPISexiIW9oSUPPKmWQZ9M22trbGshaypp7/nW7eyJQSe4vep7mGtlpRFEW5AlQ0lZbBSU+dJZAij9VarbkJiTM17jssFtA/MIDRkRHgPJswolcFjeebs83I8bExI1rdXV12nrWOSLjRSu4iEU3Wsl/zJbiKoijKFaGiqbQMiR4hEjEKApFFXuqmUCZOmVYlXgo3hAGGbt6B8akp1A8fAcoR/KiOgpw6GRaRVmNUxifNfZyZ3m4rqQw799ojkUturynNlC4fx2meFETZ5LgE9nGfMhRFUZTWREVTaQkoO+ZgF/vJZDIIwxD1pBKQIy1ElEVD6GFgzy5k2V7my68Bx07Di3wEszH8mixxdApn3z2A7o5OYN06WUiMWKSL1YeSi8uG1V7ix3wyXJ4XDs9DRngUSpOojojNObFilNtEGeduFeAoF4qiKErroaKptByUzEY7mUaWbKRliKLES8L1bIBwaAA3PXAfTo2OYt8TPwHefB8YngJOj2PshVdx9tBRbLt5J9Dfbc+oG7RdSauG83aJwXVND4WZ+86NFMk0laD8wG63/DeVU0VRFKUlUdFUWg8RyAtKGBeYESsDMQWbMIqKOay7/y5suv9OnDh1As9/67t4+/e+gXd//4/x9jPPYePWLei87RagPSMz+nJScd66ObkWrGVtIfsortVQFdn0Q9laXj5nSaYIJ3cnZX1NVYJSFEVRLhsVTaW1EPPzg8DUmjb3GbL2dOJCpgTT9hooo7FETSQq7O/E1k8+iHs+80n0btqAqFqBF9Wwfc8t2Pbox+Gv65MZZO7ACuqaPrFYcpmU2rKZqCiORDRD7lgjn8RJpmqmoihKa6OiqbQcgS/i6PmmNA4zs4ls1ufay0zBE4QllBTObG8Xeu+7A9t//nHc/MtfxpZf+iLW/dxnkN22EShkbAmfyCblak0LVkog4ygyQsnKVfbSud2JrIXPClWNZqIURVGUlkRFU2kZzMFOqaT8ZDN468B7OL1/n8jmjJneDM4jCoU6JTLwUS/mkB3oRmHreuS3rUcw2AW0ZU1Jpm3ySNLdgJpJHUyHo+mWyL4wtx6ISFI0GdmMiHYCnxJk7uEUAVUURVFaGxVNpSVw8sRL5n4ui6FdO5HbOIiyL+KZsaVxCyWLcJgnCbum2SJJV6vHiGQWRlzn04BEqCheksAKFlMzVh8me7b3AlyuXc5dpR7XNVDUBTcccziKkc2KbJsSTTueHbffFEVRlNZFRVNpCZzwsL1HL5/DjocewAO//lWs/9DdQFtBzKlunlFuLgsnkcbNz9LKOkvyRKpMCpZ0clgGeInd93i5eHWfVsy3k8fLCe4Es18k3LPNfbYfKv3m0nl6n5l00jX3wabGK4qiKC2FiqbSYogtiSTm2otoH+g1XVMSZ6c0hHIeiScZb5IUtkyPsyWXkEnSdctoupyVhhlOOZ4btNtx8WAaboO7G9Ntj3n8JiWT3WqEaLYMT7oBU1AuY1FxTjMrkhcXiqIoSkuioqm0FokxsUTShRnnTGoRjDelwpReSvCPwjlPOq8hC9d7OcFt4lV8J4/Nghf+a5KawWF2Izu3JIhNiaUvXXtLgERNUvFyeVVCZi5IpyjimfXlo4TbzxJjGfbNfk2FoiiK0pKoaCqthZEhJ4aUojkZYn86HCzV472IbMbHtY/ZOHGWyaGc1zEogIsFp5Nm6WoSFMl0cDy7Lj23LSMbwRLJcqVitpH3sYJNFkUxAhFL8zhObqfMRLk2M3oZswJ/chahyGgxm7f7cSEc12y8oiiK0hJ49YU3oynKWqfZEX8JFzJiJuLFgjpeOm4kv0yHcqu+ViedyY4El5detut301w2G11z36QdMmnkYyCWcUayTTV7ppEubZVpp6eB2VnMjI9h5PwIKqOTqE/O4Pw772Hs3Dl8+lf/EvwP3wVkZGmBW0sKs+MURVGUVkNFU2k9mh3xi3gQG3E3bUFWqjh/8gyK2Szy/f1sjJNnj6mFTszrnLvNJzXeliJemAU3zGQsLV24GA4vnIc00qUW0Dil2WHepcvbKptCkaxKcJ5KBZicMs09TY6N4fyZsyKWkxgbFrGcnkVldgYTM1MIcxnkxUbbwhBtxTYMbduKdY98LHkEpyynmWiaks2kX1EURWkZVDSV1sRIWKq7CLU4Ruj7KJ88i5e+9yMMDQ1h58MPAUU20B4j4mVlIS2HXKSL9KIXjjNNLcmAuf/RISbauB+SGEFjSL8blz5l0+lMvyzAXeqm1ZqQl6pIZDUCpiYRl8pAuYKZ82OYOD+K2alZGT2JyfEJzM5Mo1IuoVQqSf7qyGdErEUoB/r60dPbA78tj+L6Afjd3QjyeYTtReQ62uAXckAYWMlkXhaioqkoitKSqGgqykWo1GNkPR/xkdP46W//Poa2bsXOL30OaM+h7kWI2Ii7pKNopgsN3f2QDOKmsRtwBoYIoJFKU9woFsZ+zmhurpSeSHpECC+ote2G2XWTIllTrSrpRSJFGGuzsyjNzGJUBHJsZgrTU1MoTc+gIuOrkqbK2uKyfja0HviBdEPksjl09feiracb+c4OhOsHEXSJUGazyBQkRDg92V4/eQqSsWQXRiRlO5pJJllktKIoirK2UdFUlIvgRBPvHsUrv/OH2HLLLgz83GdFNLOo+xEqlNAkLW9tDGQokBHupDKnl8gX66hbzaxb56omklgqAdMSExOYGR7B9NgkZsZFCo0ozmBKBDFmBR1ZTrVaNZfy5zlbbC/tUxp56buNOZicMo/YRDZE0NuJSenNFXLIZ3Jo72hHsVhEVgLdXQjaivBEJP18HkEmi1CEMsiF8GVeLxShZCmlWaNklvIbeLLdybOPjFSaPoHthzKt4EalUdFUFEVpSVQ0FaUJ7qSoOtF88yD2/t6fYOsdt6L7C48BhRBREKHs+2BzQJGko2YVZMbQPDRdhsyjhMxiZEEigjMilLwHUiIaHcPIiIjlxCTGpFsS0azXIlQlEARoa2tHoVAwy+Zzw83jHnmqmtOVteLtYt3iMzLdZ63x0yPwJ2ew6cMfgrdlCH5PG+LOAvxCXmQyg1DE0fclzGXuJI+E6whCEVcWp8pSeQmcl+DdCoR6VEWd96ZKWqu78ir5YZkuXz3I/IuRrEZRFEVpLVQ0FaUJPCkYfNykE803vvYNbLvtVnR+UUSzmEHdt5WBTFoRMF4G98XTvFneDylieW4EYpOYHBvHxMgopng/5OQkZkQ0zVwie7liAZlsDoPrB1EcGERd5NLr7EDQ3gY/l5cFyvLobzTLZrJmfQ9eTV6qNVSefgFHX96LPX/pq8CubTKxDHQWk0TJAswpX0dNls0FcJCbyOe5u4+DQEawBjoV0q6Es8k2uWUIrPdjbhww8zCjSYlmM5rlXVEURVnzqGgqShN4UjCqUYQcS/5efx+v/5c/xB0fug/B5z4tkigTKWqsWEOxZI1tEcvpk6cxOXweI8PDIpSTYqo1kTgfQSZEXuSxo6cbxe4uZDra4fV0wRfR9It5ZNvbzeVr+9x1SpuYmZO6i0kap/EUNhV+Ipx98hm88+Sz+MSv/EXg9t2y/hnU2/IikXX7iE2DCKQMs+CVJZNm9IJ1cNDcP0pkgJf+2aR7+sK9TcOyTIEloyqaiqIoygJUNBWlCe6kcJfO49f247Xf/jruvHUPMvfejfrYCA6eOo7SyBiqEtPjEwh4D6NQEKHMSvRt3IDi4AA8kUqfpZQdRQSFAoK2nCktNE0khRKuMo10Y+nWWbxoSGtdc3j3J9OxtNGLYhx56jns/d4T+OJf/AsI7r9DRLOCejYwUtkQxxTpq/tpmDa9btfPtO5quyFJx3y455/PgzOk0yuKoigthYqmolwEVgYK5QyJ9x3Cs//pa6iePIvO9k7MxlVMBHXk83kM9vVjcP16dPT3Af29CPq6RSw7ke3Mw89mrFCyVNQZF32MpZZiYbG8cqy5RC2SyWepc5jjHRfzNDvNljXycZHHf/ISXv6T7+LnvvpLyH70blOBJ87YUstmy+H4eeKYsFBKmYRh0jNkwMmozbF0XQmsoiiKoiSoaCrKRajJ6WEuCI9OYuRnezHy1rsYau9C3NeD+mAv/N4eZLs7kGnLIghDgMHL3ywFFZekkFEaG2WTcraZyjOJlPHkc3rGrov0SemmN4PpKKmsKJSRFZ189mW8+Ad/gi/+BRHNh+6TlUeIRDSZhyAlgq7Pzn9p0vlamDe3LBVNRVEUZSEqmopyEXhyGH2qRYhLFUTTs8iwdk4+A+Sky5JKChZraxvrspe/XZd/C+VsIWa2BbFUzLLlhc8oz4jVnnvuVfz0a1/H5//CV5B9+MOSryqqWVFb3z7P3JFez8Xy5kjnKZ0+PV5FU1EURVlIk5uqFEVJY2Qu8OC3F5AZ6Ebck0e9I4eKuGbZj1AOIlRCDzVJE/N+SwlKFxv84QnGElHWHXLBYRdu2FxNl5inambFFw9evja1v1l0Kt2Q65R1s6kk0/g74bB0TJImLshRl4o0i41XFEVRlIWoaCrKRaCgmfslTWkdjU5Ejk/IkcHAl66EUUXWuGZlGBnvhNF1FwbHu0iPv4D0xEtFcmEiYHuakrkaa8GzJjqRPPNSvb2EPx/OqiiKoijLBb/rFEW5CJQzV+HFYu2OJ48rmbTBcWl9XBlMSSVLUk2lI3uZvCHHIp6mofcE9vGSfiSTGLWky2DNdM7XTEg5vHCcoiiKolyKqxJN3t65WCjKWkH8K4F9EhQ46fKPl8cpmAwroy6WHwohn+PDiGm6vIZO0fTs04pcNuxlfDuZo1hDvWoCqCRdDpvlSALbvub8SGNqmzcJA7vpUBRFUVqahmg2k8VLxcVolp6hKDcSFDOeJPOO3NRAQ7LS0YzFxi+E6ZIixcYszeaVNB6fVhnXEcYxMrxMLunYuHxWIjJtesoI30NGtoLBWudhLUZWTDIvW5WTcXnpz8msWQk248R7PCnNlE2WdjKceHI/NISyGelp3HEMRVEUpaW5qhLNK0FlU7mRcL40z5nSA+kELpqx2PgLkPMjsVeWPDL4FJ9I+ipxDXGtKvYnEknRNLLpSdeHV5JxNRFGP0COP+pKJfOkIKb1+HQiEUyvUrdpZbRflpBF+WKRjECMMpgqwStXZDg2l9ttSaetU2Syf9FTd8kbqCiKorQQjeaNrkQAOc9S5+PlO6Zl1/UvhOMX42LTFGXtwPMiNpexKXimqpEtrJQRIotlmTI1C0xMAzPSTSogmfY7OzqB0yN4/T9/Dbd/9AGEjz8K5GV6RqafHUb53Cgmx8dRrVZQm60g8AIU29qQzedQ7OwA1g0CXW1inzw/Y0SByCbv/ZRzLy8r8aLknG16KjJd0kuaplEURVFaDS+OY/PtcSWiKfNeU9H0zdNSLkQFVGkV7P2TkbnH0tz/WbXtY6Ii58uREzi97z2cO34ClelZlMslSS/T5L+Qz4tP+uiajTC2733sum0PCl/5MjB9HgdOHMLE5CRqpZJ5dru5rF6N4VNcZbGVctncv9nT14ft23ag4+adIp39stAAdS9GJSP54CV6U8OeNDvnbT4apPsVRVGUluWSokmZXIwrkVOymBwuJppEZVNZ6/BsYkkmRTOuVNAWZGRkAE8E88hLr+L4m/sQSKLBjUPoWTeAeiY090/6ni/j65g8OwLvxDCmDh5BXCpjx7334nhtGtO9RQzdchMKvd1APoe6H9hL7zJffbaMeGISkyPnceKDQ5gZGZV1eti8Yzt23nc3sHUT6l15WYmk5/nO0k5Zpznj5p3+bmRCul9RFEVpWbwoctfDFictm2m5vBLRvJgUBuZ50M1ZbD6VTOVGhWePO3rZ786yar2GrNicP1HG7N538N4zz2NyYgJbd+9C357dyKzvR9jdldQwl2WY89BDFImm7j+Cd//oTzF84DA2Dm3E5i8+ivrtNyPb2wmfj8bkbzmu1MzI803WWosRxTVUJkuoHDuB0wcO4dRb+xGWath+263Y+PGPAdsGJWM18d46Yj6/XXJsarFz1QwuNP070W2YoiiK0tJcUjQXk0xyrUs0OV4vnyutAM8qBo92Bksy6/IX8gKDnJLeqWEcePIZnHj9LWzeMIR1D9yH/O6dCDoLct7VUA0DhBS+ur38zZLNuBrh6POvYOyN/bhlw2a8+sKL6NixGXf/yleBjKylLY+4XkU1OV/Y6BFLSM2QnHd8jCVLOD3JQ+XYOYz89Gc4/PY+FNvbcdcnHkbmzj1AZx51McxaKPPxXOUldS6P4ursMtWrKIqitDYXiOZi910uddxSaSaUXB6lsZk4Mv3lCqUKqLIa4VlDsaRo8ghluWJNhDHj+fArEWZefxv7RTLHj5zAbfffi56HPoLM5kE5CWTOrL1Pkg2s8/j2uTT+y3BUqaF8fgx+NTaXyQ89+wL2vf02Pv8rvwr0dlqjlZWVpOPWy5ATT0b4kh8PlbiKQPqzsoLa+DTK7xzEuz98EuOnz2Ln7bdhyxc+A2waQD3noSzCy0vplFXeHyoGatehKIqiKAlepcJaBvNZKJBueLHxl0Na/ly/66aXx3HptORyZfNy0irKSsAjnMEa5a7ZoIBjylWEsxVMvnMAe7/9fdPO5a0PP4zCHbvhdxcQ5UPUQ14qp1xaWFnIHOHJaVOPaogj0VcZ6QcZ1KanUBqbQkd3L1DIyXhJGIpMSlrOR2W187M5I/YIMsLzAknqoXryNKYPn4A3PIbZE2fw/ptvo339IO559BPAHbtQzweI2fRS4CHjcx7J2WLn3CKjFUVRlPlMloHXTgKHzgOjs3ZcTwHYLh/l9wwBHfJxfiPhlctl9xXTYGEFoLQAsr+ZGF4uaQm8mBC6aa57ObK51HSKslLwjGHwDGPXk1e/FsE/P4mze98xJZlbuvqw/sEPIX/7bqAtIyIXox7wGeZUUnupnPD4NvdnJsMGOeTjSJbnsXRRwqxMXngqiAyyRc6avLIU0pd52V4m/wJWPOL5UqoCM2Wcf2sfjryzH2fOncMtd92BLbfdjtnDh7H/6RdQH5/GbY88iMI9twGDPajzCr6syw94PT0559J5InoqKoqiXJQ/fcfD198EfvzBxT8wP7mjjl+6A/jSnoUftKsTb3Z21uTUSeNCqVzYZTiBS6ddKgtFsZkMLjbOjV+qbC4ljaKsJDxjGI0jsxrBm6ng+DMv4oPnXsLmwfXY/PEHEW7lz9YMar7IYBAgBJ+ivsj55kYvPB85bGqJ2+bETEmoSGddfkh6vGgeJmWjVdHeUgnTJ07h0JvvYOzoCQTTs9i4fgN6du9AbudWU5mIlYFKp0cx/sOn8cF7B9C7Yyt2f+JjwO6dQF6Wx/MtWaSKpqIoytJ45rCH//0pD3tPX94H5V3r6/hHn6jj4W2LfDesEuaJZlocXT8bbmaph+lvXF+7MrhMI4zy5eezy1IXwQmhW6cbXiiKZt5knC/LcPMvxsL5FeV6wyOcYY7cchWYKuH83n14+6lnsX1oE9ZTMjf2AcWsJJJzUo5znn8soVz0aHanZXL+UC4Jh+YutItM1mqAaTJJBmdk3bNl4Nw5HDv4AY4fOozR4WEUwhDbt27H4M6dyG5Yj3CATSL5qGU8lEVQ20oxouFJTLz4Kva+8BLyhRzu/8QnEN57J9Ceszd98rxbmNkkT4qiKMoc/9dPPfyrZy7uMpfiHzwc4zc/5r4IVh/ezMzCEs25ykDssplNN0zS/VfCQomkMJJmUshxC2XSjpubt9l8jotNU5SVhmcO78uk9IWxHNfTZUy88gZe/+GPsWnTJmx97FMINvajLo6JIHXs85y71KGcPi0lLQflZ515NYrKOn9TMzjz9n6MHjuJ4VNnMHpuGPWZkkyLMCTr33X7HgRbtyK3rg9hKMbI5pBYW12iIotg8/BZWU6+Kp8REyXMvLkPb/74GUycG8GeRz6GTZ94COjrkXVSaGUGCVMZXUifx8xbMlpRFKVl+Z+e8PFbL893nCvlr94f458+Ov+2x9WCNzU1bb7F0nJpurEtyeQwg9Lm+i+X9DxO/thN97OEk9jSG5nG+8sS0mnJ/GFJv0hpCS+xK8r1QM4U8zd3lNowoilil+WzyY+cxvPf+BaKooJ7vvg4MjdtBfIeIpG8eSWYnLH5IW4mETk7ZcANCZLeiaZ5dOTYNE4/9xJeefIZdORyCNva0Nbbg01btyCzfgOyIoj5vk4gzNhSSZ5TlEUi/fz4qppXGS0/RkPeyynbMHv8DN7+3p/h5KEjuOnWW7HnE48A2zcDWZlXFsWKQvwzZyKzKKO5FA7bpfM1WY+iKEqL8G+e8/F/PssP22vH338owt95cPXJpjcxMSkf/4lEpi6NO8l0uH6WeDrmTV9wWZ2Xxx3paRxvRdFKoBPGtEha0ZwbnkvTTD657LhpY+/pZSrKSuJE0x6fVtRIvR4hqETwRyZx+AdP4fjBQ/jQ5z6L3B27jWTGmYz5kWWOXDvrXHcRWNPc53nJ4z05b2xJopzXUQ1+WaT2zDje/K3/ipwfYNNjj8LbvB5BZxaZnKyPcslzi/OYZVgZ5DI4ypx1kgdmI/JikeU6MnJO+zWuM0D51Dl88Gc/xqFXXkNfdx8e+MyjwJ23Au2y3KyPqmwPl8EzlMvgsnm/KQU0WamEoihKa/DsER+/9ofukb7Xlt/5ag0PbXXfOKuD4B//43/yz+YkMqmFmoQd5y6lc5ztb0RyWZ1hxHCR7w1OdzTmSy3PLZu4kk23XC7Lze+6Nn3Sa5g3oCirAB6TPMpdH4/rOoJaBC/ycP61t/DuSy/j9nvvQfu9d9h7MkMRzHQpvJu5CY1J8mLPPZ4oHOYIK3NydonQycDoJI4+8QzOvPa2aSJpy117EG7ZiCCUaUGyPuk1JZip1XMUw2BWxq5Zifxz6bJVst5AZLVr00b05os4c/AwhvcfRI9kIOzvA2RaXZbLdkMJ5+Eq3HK5tNX1kagoirK8/Oa3Mzgz1fh0vaZ8MOLhl++0N2mtFnwjdBQ/CSuZMaIoMhHHjNiEGY6kX8KlN6WTSSyGKXlckI7rdMti2HVxPbJertN8mc2nuWxSVO3X1GINzSvK9SItUySQMR5reJ8ZxZvPPY/unj50338P0NVmi/uMZMpcnOEShzKP+ojHu5yHvNeTMomKfLhwWM45ngvGGWMPB194Ge++9gbu/siHsOfhB4H+bnNZOxYJjLIh4kyAOHmcpYO9jcdLMhLYZrxpGsmT9JLfmkhkOesj09+Jvo/ei/s//xhq+RCvP/0Mpn/8PDA8iaBSR1Zyw2aV+PEne8EuTFEUpcX49j7/smuXXw5cNtexmgj+0T/67/8ZK/w40bPCJl9jEjGDUilfWhxvvnx4GYwRyNcm7yNbJAI/sOmkX0bIP0Omca3yYpYlL0YOE0HkK4cb6ZJhk8alTcY5bH96PMPNrSjXCR6LyXFKuZKj2LgkZqs49dOXcHj/e3jgsccQbtsEhJKOlW+IneWSuFJAr1LDyb1v4eUfPYltG4aAYtGUTPISPc8j1i7f+83vYaCnG5u++osIt28EukVsRS69pDRz0bOlWV6S85CTzGMvTdeTVco5mwkRrutD74Z1mBkbx7HX3kKH5C/XPwi0F1CNqzI/G1biQvgZY5aoZ6uiKC3D//Z0BofHlvdTr1Tz8KVbV0+ppjf0vyTfhpfBuswU7mo7kwxdSNaL0Bbw+SPAaK1guovxw7GdSZ+yElzqvVuIvj/KWuJyjn899lcfa+X90+9QZbl5++9FaM9ett4tCV6FvhyuWDQ/03MwGWoCl7gEYT9TadeTZIW55HuXQt8fZa2x1ONfj/3VyVp5//Q7VFlufveXo2VryL3GNpkvg9V1IV9RFEVRFEW5Kg6Prp6bklQ0FUVRFEVR1hCjs8n99KsgVDQVRVEURVHWEM2E73qFiqaiKIqiKMoaoufidchWFBVNRVEURVGUNcS2nuWpCHQlqGgqiqIoiqKsIe7esHyi2ezy+MXCO3r0mOTGs42rmwbW+QSfxf2TMx0frpiWFxh8moiMMsY6OTqGsydOotizEZm2NtPg+0BPdl67z2ykPc3GvqyMsyNNhhr9trF4VqPn04PcePOEoaSfzzd3j6zkgm2j8NyWuacqc5sW4uYn6f5W4OjZUtK3NLYM5pM+5XKQ00teIqBSgxcDR554Bif2voOPfuVL8G7aJilqqLLRdOmb/8Rbjrn0McmG0nm+BJGH977xXbz29DP45X/w94GhPtQzddOYOhtR53nB1OZpWzxP5YStDo/jwA9/jAM/24s9d9+FnY9/GujrQJTls8zlM0Dm4Blkngy0kMbjghbHfLjIeutxjIAZrcZ47l//e7RPlHDnX/k1YOuAeQZ6LMtiY+9c49K2+uq5nONfj/3Vx1p5/y61HWdGbRuaZJ18h14MPU5vLP7mt9vw9JHlec6545GtNfz7n5tOhq4/3pEjx+Q7wYpmmDydxDxRROAXxnxSw9JrvsLkhV9iOflOPfrWPrz2k2fx6EOPoOueO1CvVeTLy0fk5nOzm2+Ui32t2IRRVEe1MnfCkfmiGYpomt7k8ZbzRbOZL7t5W00wlZVFFEqczIompkp45Y+/jXCqjLt+8cvAhj4aH2py/PIoTJ4JdElSZ5952hB/yGUjH3v/5Nt48yc/xa/+w38ArO+VBcpU+RFmZuDTfyQflUiEN8ygFteQF9mslWTc06/ghT97ArffcxfWfeULQJuPmpxHPG2M+vFX5EKWIJp0Sy7BZzomPTOCH/3r/4Cbegax/Ve+KlJbAAry5Sn5j+Q8bJyTEkzu1tpk7YqiKDc0338/i3/4w2IytDz8H5+Zwedunu9O15Pg7/7dv/fP+EFPuWQJYlrA5ovmgi+X5DvEfqnIgkpVjHxwGOcOHMa6zm60b9woI/l1K1+KXI4slt9RC5bShFQKloyYeWzxqyH17ZN+VOX88RzgtthhRVl56oiqVTksPUwdPobDe9/Grm3bkN99k5Es/kDjQcvOUg5THv3pIPyBF8hBXp6cxsED7+HuW28B+kViRSbtUiVmZ81JypJ/X8QuqEXw+ANtpoZMqYYxOWdr5RL677wNKGZk4XEimWYVTUjnYA43lsGtqslKK1EVoRdgYt8BHHhlL/bcvBvZPbuBvEhw8gsxvSTXnx6nKIqylripN8LThzM4O9OkJOwacPtADf/44ZlkaHVgttTJpSsdvJAmH/1M6+bjF0u1gvHxcfMFMzE7DdTEpmWBLBQxqWQRS/sCmZ+JdAmmotxImNs6YjkfRs4jjmroGhgEMqGMs2X8PKqv5sg254X892/diJvuuwclXo3xZckszWSI6B585TXg6ElJloFXC+BPyHn57mGc+POf4Pnvfg9l+QTY8cD9QE4kU35omgvnSztR58FZ+KPSbg+XI+ctLylUKjh37IR5ZFn70NDcM92vZsMVRVFuYH7zo5d3C9vlsJzLvlIaJZr85DevyfXmudLM5t86dflS4gycyvspWVoZRTF6+vrRt2E9ir1dqIU+Ivmi5eK5vJipl/wFkyxfOpy3Uaq5YP66jDCjU+Pt9miJpnI9kYOSUa7i9LvvozQyhi233y5W2I3YjxHJeWbPuKWRLK0B+zk3I8zmsG7LRmT7e+2vRTNBXqo1PP2t7yA6cx4DHT2ovL0fh5/7GQ6++jpGh0ewftsW3PyR+5G9Zae9lB1wxkuxMCcWSibHmk8P6ZGz0krruVG8/cMfo+CH2CrrQl+XyLZMZT554iZcuERFUZS1yabOyNzV9NIJ+YF/DfnvPjyLn99dToZWD4loyleCfDHZWzP5ZZP6Akh9GTjEKy2SlL7JS+NVGZlpL2BQJLOttxuR7MWYy5NpXp0lm16qxMN+D16MOJIFN7JCmRRNlZUtzI8r7WTHLVNFU7n+yHEaR8DUDI6+tR+ZWoz1d94JdBQRhTwX7L2QS4VH/fwjfw7+OAxYUmpKCyWVnCN1rltOgJPvHsCB1/di5P2DOP7BIVPxaNP2bdh6713ouvt2ZLYMAe15+SSQ3PDcWmwlDZrnxI1Jzka7LOnO7N2PQ8++hDvvvhuF228F2jKoZT1z37Y7PV33kqtWFEVZI9y3oYrJio83zlybikG/emcJf+fDq+uSucM7cuS4+XwPAneJmjH3kX8x0eRl8Zr5QvMxWy6Z/o5sHjmKZTLdT+6jjH35cpEeroJfsE4QF4PrZRojnEItqiGOrWymL6ezEhNFOZ1/rQykXH/kJGGLCafO4flvfhe9+SJu/YWviGiKaOVC86OLVYHsEXtp3FnIbtP0vKqQpOIr79/05HyZOXYK4+8fQlCN0D24Dv6WjQizGfj5rLlcXvNic79olmdlcpXCrqDRY2msmD12PWncGJOEy+E5eH4Sr/2/X0N4dhS3/dp/A3/3ZhlfRyVrz89MMhPPRTc/u26tqbUriqKsSf7jq0X8u59dXeWgv/2hGfy3965OySS+qSQwT7rcR/6FNEoyBUpkxHvN5AstEgmkCJqlBAFqgY9IvrdYahGxJJLpOY3dxRd/AUY2ZTkmkjxy3MKSTVvamQwIZliCYqoo1wNzfMoPotpMCZXpGbS3tdlL0/Jvf3pdgsYJYzucg8HfTq4/vRRzfiTBfgYFsm3jBmz4+IMYfPQh5O++Bdn+bvjtOYCiKfmzPwQperKihQtNs9j4BDeryS7zUYlx7uXXMX76HG65/z74Q7w/VfZHyEpJdQT8wZhsmztLOX96+xRFUdY6FMR//4VxU4nncuE8nHc1Sybxjh2zJZrEyVwaJ3RpkSMUzWpNdoxMr0m3XK0izAQo5ItWXGV8HEX2S4NffCKgXBKHeXsWaba+NGmZrFZriGoR4nok8weNUk3XTmbgc1yyLvbI2rj4he1ounVeat2KcjXU5Tilvs28fQA/++Z3ceddd6Hnk48AWRHAbGiaJ2IrmjwKLzgS5w77OS55uHKmuRlNu5kCz0X2m3MpOTfMJLG89CLnnyWkac6E+etxuDF1+SxgfaTovWN45RvfQXsuhz2/8GVgyzpUsvIhIuvP8sMjgb28rWaxtSmKorQKPziQw3fez+PZYxdvO/WhzRV88eYSHr9p9d2P2Qzv6NG0aCY9KZzrmco/KUyJpnypsLJPTSSTXUpdsVA0Esj0MS+rJ/Bytm3r0n75kWbrWwyKZk3i4qLJcVyuiqZyfTHHqfw6m3xjP/Z+589x7wMfRvGRj8oUOYbNpXM5diV4FF5wJM4/1SyXPFw509yM7keaO86bLdLRfNFNcybMX4+Dv0N5BSGUcxQj49j/vR+bS/b3funzyNxhmzSqimDzAyWzQDT1XFQURZljquLhrXMZHB0PMM6mQYSuXIwtXRFuH6iiPXuxT/TVh2mwPemXD/ykZwH8zloomqRaq5pSTZZcEn5hGNFMFsTL6fzC45yBCB9lkDjhvJzvFyOaXFcitFwHQ0VTWY24Es2xl9/EG99/Eh995CFkPnq/HHiRKdFcbtG8eprmTJi/HtvH7ZC0/GE5OYvTP/0Z3n32Jdy++xb0ffHTQG8B5lZrnq8S3sLPkuTzQFEURVl7zLewBTiZo5MZiUt9IfD+TEofJZOPiKSINgQwSUvJdJfwjHBexfeJK6FRlBuHOqrm/uXIXB6WEybtaGsC/sSUn5OyaTUZqGPinfdx4LmXsWXrFvQ88hGgLcsPDyOT/Jl5gWQqiqIoaxrTvFHSvyhGEpPvh4Y8skvRNPdN2okstQzDpKq+jDIlnUlaCigrHhiuQDi5Lj47metKV15yJZOm2xjNHpsnN11RVhI+HpJH3vTxUzhz4BA2b9uGYOMGOSDlvOGPMJm66JFpD93LhDNd0YyXydx6+Gqbnucz14HZ9w7jle/9CP25IrY/8iCCzevMPamNEssF93k30FNUURRlzRL85m/+3csSTd6LyRrd8k2KOkszE/njd4UTTfe9QQk1X0eUQxnL6WYxV/DFUpNlOdFMy6OKprIascepL6J5GmcPHsKWbVtFNIc4BV6YnAeLcdGJi8GZXFwJbj6eLxc7Z2w63hDDs5vntWmYfXIaL3/j25g6O4z7PvsYwpu2AQX50cmq5eYcTJbpPkjS6CmqKIqyZrloiSa/E9z3gpFNyiW7Ep4En43OtjNZqsHL4k40zX1YMszLhpRDlmSwUINlOLzkzj7R1WS56fUs/o3D6eYyvUnIS/OyTFkf4Re6mTN5sW5pFij9iy9TUZaLmvwYo4BNnTiNM+8dwLat2+BvWC8niRzHctiyvHPRI9MeupcJZ7qiGa+AGFWexyKRQU1O7rEp7PvTP8Ppt9/DfQ9+BO333CGSmQEysqE8/1zWuMEuSLpfURRFWZMsuUTTdV1Ncveknmo9QpUmaeRyTjT5BeKaP6JsUgobX4Uy3X3vLJXG/aCyPH5Fm1XwxZB8aSeDdrTNs4qmcj3gjy8eldHoOIYPHkVPdw9ymzc1RNPcr2wPUYOcQXOkxl8eXOjSgrlj2Av8c8Nc9cWCPxDNHHJemTN6uopzP/4p3n/hFXzo/vvQ/dBH4XW3mTYzzZPB9PxTFEVpabwDBz6oX0zGGpIpUknJs6Jp+8vlCso127QRnzaSzWSQz2SRCUKEgY9yqWzbvhRBDERAA/OIPEGE1JR6unu3Elw+3DrTVKsVWRYvncemhrlvngQ0V6Lplme+AM1y7TK01rlyPWAFGTlLkJmYxRs/eBLlY6fxocc+A9y8BSj4DRHlUZo+Es3ReuHhPz/RNYCraLaaZrgzyDYnXDePscTwGCZeewsfvPga+js6sOFTH0ewbchU/qn59qpHmJyfFm6tnnOKoiitBfD/A9/N74Hwc5t3AAAAAElFTkSuQmCC)"
      ],
      "metadata": {
        "id": "FEVbScZ_vcys"
      }
    },
    {
      "cell_type": "code",
      "source": [
        "from functools import reduce"
      ],
      "metadata": {
        "id": "r-nWXze5vEoC"
      },
      "execution_count": 44,
      "outputs": []
    },
    {
      "cell_type": "code",
      "source": [
        "a=[1,2,3,4,5]\n",
        "reduce(lambda x,y : x+y,a)"
      ],
      "metadata": {
        "colab": {
          "base_uri": "https://localhost:8080/"
        },
        "id": "ZdDZ9vNfAWCJ",
        "outputId": "54964298-1e52-4cb0-aa65-51c82652b6cb"
      },
      "execution_count": 46,
      "outputs": [
        {
          "output_type": "execute_result",
          "data": {
            "text/plain": [
              "15"
            ]
          },
          "metadata": {},
          "execution_count": 46
        }
      ]
    },
    {
      "cell_type": "code",
      "source": [
        "sum(a)"
      ],
      "metadata": {
        "colab": {
          "base_uri": "https://localhost:8080/"
        },
        "id": "ptb42VP-Adw_",
        "outputId": "b287c85f-47b9-45ee-d671-23beda20e812"
      },
      "execution_count": 47,
      "outputs": [
        {
          "output_type": "execute_result",
          "data": {
            "text/plain": [
              "15"
            ]
          },
          "metadata": {},
          "execution_count": 47
        }
      ]
    },
    {
      "cell_type": "code",
      "source": [
        "%%timeit\n",
        "a=[1,2,3,4,5]\n",
        "reduce(lambda x,y : x+y,a)"
      ],
      "metadata": {
        "colab": {
          "base_uri": "https://localhost:8080/"
        },
        "id": "FUAqVujMAjGQ",
        "outputId": "44853c45-a8ef-48b5-9b41-2cc41ce92547"
      },
      "execution_count": 48,
      "outputs": [
        {
          "output_type": "stream",
          "name": "stdout",
          "text": [
            "666 ns ± 189 ns per loop (mean ± std. dev. of 7 runs, 1000000 loops each)\n"
          ]
        }
      ]
    },
    {
      "cell_type": "code",
      "source": [
        "%%timeit\n",
        "sum(a)"
      ],
      "metadata": {
        "colab": {
          "base_uri": "https://localhost:8080/"
        },
        "id": "ddrB2auxCy6r",
        "outputId": "42a258a3-a013-432d-9ae6-b6675316247d"
      },
      "execution_count": 49,
      "outputs": [
        {
          "output_type": "stream",
          "name": "stdout",
          "text": [
            "132 ns ± 26.4 ns per loop (mean ± std. dev. of 7 runs, 10000000 loops each)\n"
          ]
        }
      ]
    },
    {
      "cell_type": "code",
      "source": [
        "b=reversed(a)"
      ],
      "metadata": {
        "id": "VJewjaLDC1WM"
      },
      "execution_count": 50,
      "outputs": []
    },
    {
      "cell_type": "code",
      "source": [
        "print(reduce(lambda x,y:x*y,a)==reduce(lambda x,y:x*y,b))"
      ],
      "metadata": {
        "colab": {
          "base_uri": "https://localhost:8080/"
        },
        "id": "oq_rBT9_DTEo",
        "outputId": "cf1586db-ccf3-4138-9a31-18861564ad48"
      },
      "execution_count": 51,
      "outputs": [
        {
          "output_type": "stream",
          "name": "stdout",
          "text": [
            "True\n"
          ]
        }
      ]
    },
    {
      "cell_type": "code",
      "source": [
        "#find the maximum element from a list (reduce)\n",
        "print(reduce(lambda x,y: x if x>y else y, a))"
      ],
      "metadata": {
        "colab": {
          "base_uri": "https://localhost:8080/"
        },
        "id": "CF40PCUdDd7u",
        "outputId": "dcac1925-b621-4352-e680-11ea9d3c1f8a"
      },
      "execution_count": 54,
      "outputs": [
        {
          "output_type": "stream",
          "name": "stdout",
          "text": [
            "5\n"
          ]
        }
      ]
    },
    {
      "cell_type": "code",
      "source": [
        "reduce(max,a)"
      ],
      "metadata": {
        "colab": {
          "base_uri": "https://localhost:8080/"
        },
        "id": "zy4K1raOD7mL",
        "outputId": "abb28dc5-8e6f-413d-f7fa-600f7b5622ca"
      },
      "execution_count": 55,
      "outputs": [
        {
          "output_type": "execute_result",
          "data": {
            "text/plain": [
              "5"
            ]
          },
          "metadata": {},
          "execution_count": 55
        }
      ]
    },
    {
      "cell_type": "markdown",
      "source": [
        "args - argument"
      ],
      "metadata": {
        "id": "Q2cH3KMuFQ6z"
      }
    },
    {
      "cell_type": "code",
      "source": [
        "def summ(a,b):\n",
        "  return a+b"
      ],
      "metadata": {
        "id": "B82Xp4N4ElOQ"
      },
      "execution_count": 75,
      "outputs": []
    },
    {
      "cell_type": "code",
      "source": [
        "print(summ(1,2))"
      ],
      "metadata": {
        "colab": {
          "base_uri": "https://localhost:8080/"
        },
        "id": "vIPqC27JFfZt",
        "outputId": "aa7f7df8-64a4-4198-954d-1258de6ed130"
      },
      "execution_count": 76,
      "outputs": [
        {
          "output_type": "stream",
          "name": "stdout",
          "text": [
            "3\n"
          ]
        }
      ]
    },
    {
      "cell_type": "code",
      "source": [
        "# can't take three inputs only two want to give\n",
        "# here args come into play\n",
        "def summation(x,y, *args):\n",
        "  result= x+y\n",
        "  if args:\n",
        "    result += sum(args)\n",
        "  return result"
      ],
      "metadata": {
        "id": "6xamf_ByFhiP"
      },
      "execution_count": 84,
      "outputs": []
    },
    {
      "cell_type": "code",
      "source": [
        "summation(1,2)"
      ],
      "metadata": {
        "colab": {
          "base_uri": "https://localhost:8080/"
        },
        "id": "1J-kHFERGndW",
        "outputId": "a833f182-b5d1-4ff7-9144-377ccdfa5ed7"
      },
      "execution_count": 85,
      "outputs": [
        {
          "output_type": "execute_result",
          "data": {
            "text/plain": [
              "3"
            ]
          },
          "metadata": {},
          "execution_count": 85
        }
      ]
    },
    {
      "cell_type": "code",
      "source": [
        "summation(1,2,3,4)"
      ],
      "metadata": {
        "colab": {
          "base_uri": "https://localhost:8080/",
          "height": 245
        },
        "id": "KsKn2ba7Gpyg",
        "outputId": "56029c2e-a86c-4685-8ac8-fdb68751ac9e"
      },
      "execution_count": 87,
      "outputs": [
        {
          "output_type": "error",
          "ename": "TypeError",
          "evalue": "sum() missing 1 required positional argument: 'b'",
          "traceback": [
            "\u001b[0;31m---------------------------------------------------------------------------\u001b[0m",
            "\u001b[0;31mTypeError\u001b[0m                                 Traceback (most recent call last)",
            "\u001b[0;32m<ipython-input-87-1cee2476eac9>\u001b[0m in \u001b[0;36m<cell line: 0>\u001b[0;34m()\u001b[0m\n\u001b[0;32m----> 1\u001b[0;31m \u001b[0msummation\u001b[0m\u001b[0;34m(\u001b[0m\u001b[0;36m1\u001b[0m\u001b[0;34m,\u001b[0m\u001b[0;36m2\u001b[0m\u001b[0;34m,\u001b[0m\u001b[0;36m3\u001b[0m\u001b[0;34m,\u001b[0m\u001b[0;36m4\u001b[0m\u001b[0;34m)\u001b[0m\u001b[0;34m\u001b[0m\u001b[0;34m\u001b[0m\u001b[0m\n\u001b[0m",
            "\u001b[0;32m<ipython-input-84-56867afd7dc3>\u001b[0m in \u001b[0;36msummation\u001b[0;34m(x, y, *args)\u001b[0m\n\u001b[1;32m      4\u001b[0m   \u001b[0mresult\u001b[0m\u001b[0;34m=\u001b[0m \u001b[0mx\u001b[0m\u001b[0;34m+\u001b[0m\u001b[0my\u001b[0m\u001b[0;34m\u001b[0m\u001b[0;34m\u001b[0m\u001b[0m\n\u001b[1;32m      5\u001b[0m   \u001b[0;32mif\u001b[0m \u001b[0margs\u001b[0m\u001b[0;34m:\u001b[0m\u001b[0;34m\u001b[0m\u001b[0;34m\u001b[0m\u001b[0m\n\u001b[0;32m----> 6\u001b[0;31m     \u001b[0mresult\u001b[0m \u001b[0;34m+=\u001b[0m \u001b[0msum\u001b[0m\u001b[0;34m(\u001b[0m\u001b[0margs\u001b[0m\u001b[0;34m)\u001b[0m\u001b[0;34m\u001b[0m\u001b[0;34m\u001b[0m\u001b[0m\n\u001b[0m\u001b[1;32m      7\u001b[0m   \u001b[0;32mreturn\u001b[0m \u001b[0mresult\u001b[0m\u001b[0;34m\u001b[0m\u001b[0;34m\u001b[0m\u001b[0m\n",
            "\u001b[0;31mTypeError\u001b[0m: sum() missing 1 required positional argument: 'b'"
          ]
        }
      ]
    },
    {
      "cell_type": "code",
      "source": [
        "def summation(x,y, *praveen):\n",
        "  result= x+y\n",
        "  if praveen:\n",
        "    result += sum(praveen)\n",
        "  return result"
      ],
      "metadata": {
        "id": "JoSL31PpGrkw"
      },
      "execution_count": 91,
      "outputs": []
    },
    {
      "cell_type": "code",
      "source": [
        "summation(1,2)"
      ],
      "metadata": {
        "colab": {
          "base_uri": "https://localhost:8080/"
        },
        "id": "6P7OnRm8IQwM",
        "outputId": "37dd8941-e7a6-4b1f-ec9e-ff2f5d923e1e"
      },
      "execution_count": 92,
      "outputs": [
        {
          "output_type": "execute_result",
          "data": {
            "text/plain": [
              "3"
            ]
          },
          "metadata": {},
          "execution_count": 92
        }
      ]
    },
    {
      "cell_type": "code",
      "source": [
        "summation(1,2,3)"
      ],
      "metadata": {
        "colab": {
          "base_uri": "https://localhost:8080/",
          "height": 245
        },
        "id": "-eXJfZh_IR9j",
        "outputId": "43c16ae8-7e90-41d7-e778-42c6c0cb267e"
      },
      "execution_count": 93,
      "outputs": [
        {
          "output_type": "error",
          "ename": "TypeError",
          "evalue": "sum() missing 1 required positional argument: 'b'",
          "traceback": [
            "\u001b[0;31m---------------------------------------------------------------------------\u001b[0m",
            "\u001b[0;31mTypeError\u001b[0m                                 Traceback (most recent call last)",
            "\u001b[0;32m<ipython-input-93-b5f0ac83c4d8>\u001b[0m in \u001b[0;36m<cell line: 0>\u001b[0;34m()\u001b[0m\n\u001b[0;32m----> 1\u001b[0;31m \u001b[0msummation\u001b[0m\u001b[0;34m(\u001b[0m\u001b[0;36m1\u001b[0m\u001b[0;34m,\u001b[0m\u001b[0;36m2\u001b[0m\u001b[0;34m,\u001b[0m\u001b[0;36m3\u001b[0m\u001b[0;34m)\u001b[0m\u001b[0;34m\u001b[0m\u001b[0;34m\u001b[0m\u001b[0m\n\u001b[0m",
            "\u001b[0;32m<ipython-input-91-b915694c1cc8>\u001b[0m in \u001b[0;36msummation\u001b[0;34m(x, y, *praveen)\u001b[0m\n\u001b[1;32m      2\u001b[0m   \u001b[0mresult\u001b[0m\u001b[0;34m=\u001b[0m \u001b[0mx\u001b[0m\u001b[0;34m+\u001b[0m\u001b[0my\u001b[0m\u001b[0;34m\u001b[0m\u001b[0;34m\u001b[0m\u001b[0m\n\u001b[1;32m      3\u001b[0m   \u001b[0;32mif\u001b[0m \u001b[0mpraveen\u001b[0m\u001b[0;34m:\u001b[0m\u001b[0;34m\u001b[0m\u001b[0;34m\u001b[0m\u001b[0m\n\u001b[0;32m----> 4\u001b[0;31m     \u001b[0mresult\u001b[0m \u001b[0;34m+=\u001b[0m \u001b[0msum\u001b[0m\u001b[0;34m(\u001b[0m\u001b[0mpraveen\u001b[0m\u001b[0;34m)\u001b[0m\u001b[0;34m\u001b[0m\u001b[0;34m\u001b[0m\u001b[0m\n\u001b[0m\u001b[1;32m      5\u001b[0m   \u001b[0;32mreturn\u001b[0m \u001b[0mresult\u001b[0m\u001b[0;34m\u001b[0m\u001b[0;34m\u001b[0m\u001b[0m\n",
            "\u001b[0;31mTypeError\u001b[0m: sum() missing 1 required positional argument: 'b'"
          ]
        }
      ]
    },
    {
      "cell_type": "markdown",
      "source": [
        "![image.png](data:image/png;base64,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)\n",
        "\n",
        "can't able to crete more inputs"
      ],
      "metadata": {
        "id": "XZF8dvV5JBwf"
      }
    },
    {
      "cell_type": "code",
      "source": [
        "# **kwargs -> keyword arguments -> dictionary\n",
        "# *args-> tuple\n",
        "def create_person(name,age,gender,**extra_info):\n",
        "  person={\n",
        "      'name':name,\n",
        "      'age':age,\n",
        "      'gender':gender\n",
        "  }\n",
        "\n",
        "  if extra_info:\n",
        "    person.update(extra_info)\n",
        "\n",
        "  return person\n",
        "\n",
        "create_person(name='Rohit', age=1500, gender=\"Male\", color:'Blue',hobby:'Chess')\n"
      ],
      "metadata": {
        "colab": {
          "base_uri": "https://localhost:8080/",
          "height": 106
        },
        "id": "zvIZDfPdITJY",
        "outputId": "cc025495-4124-4b14-f905-b4c74994f267"
      },
      "execution_count": 99,
      "outputs": [
        {
          "output_type": "error",
          "ename": "SyntaxError",
          "evalue": "positional argument follows keyword argument (<ipython-input-99-4fd6220dd567>, line 15)",
          "traceback": [
            "\u001b[0;36m  File \u001b[0;32m\"<ipython-input-99-4fd6220dd567>\"\u001b[0;36m, line \u001b[0;32m15\u001b[0m\n\u001b[0;31m    create_person(name='Rohit', age=1500, gender=\"Male\", color:'Blue',hobby:'Chess')\u001b[0m\n\u001b[0m                                                              ^\u001b[0m\n\u001b[0;31mSyntaxError\u001b[0m\u001b[0;31m:\u001b[0m positional argument follows keyword argument\n"
          ]
        }
      ]
    },
    {
      "cell_type": "code",
      "source": [
        "def random(a,b,c,*args,**kwargs):\n",
        "  print(a,b,c)\n",
        "  print(args)\n",
        "  print(kwargs)"
      ],
      "metadata": {
        "id": "mjbvwfXzKaRp"
      },
      "execution_count": 104,
      "outputs": []
    },
    {
      "cell_type": "code",
      "source": [
        "random(1,2,3,4,54,66,x=10,n=20)"
      ],
      "metadata": {
        "colab": {
          "base_uri": "https://localhost:8080/"
        },
        "id": "lUM528EvM8IL",
        "outputId": "fbf907de-026a-489c-a292-a9449c6d0382"
      },
      "execution_count": 106,
      "outputs": [
        {
          "output_type": "stream",
          "name": "stdout",
          "text": [
            "1 2 3\n",
            "(4, 54, 66)\n",
            "{'x': 10, 'n': 20}\n"
          ]
        }
      ]
    },
    {
      "cell_type": "code",
      "source": [],
      "metadata": {
        "id": "O76T75WFNCgT"
      },
      "execution_count": null,
      "outputs": []
    }
  ]
}