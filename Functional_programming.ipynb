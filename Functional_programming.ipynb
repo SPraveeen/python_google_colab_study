{
  "nbformat": 4,
  "nbformat_minor": 0,
  "metadata": {
    "colab": {
      "provenance": [],
      "authorship_tag": "ABX9TyPrd7pkhQiy2n7f4ah25IEr",
      "include_colab_link": true
    },
    "kernelspec": {
      "name": "python3",
      "display_name": "Python 3"
    },
    "language_info": {
      "name": "python"
    }
  },
  "cells": [
    {
      "cell_type": "markdown",
      "metadata": {
        "id": "view-in-github",
        "colab_type": "text"
      },
      "source": [
        "<a href=\"https://colab.research.google.com/github/SPraveeen/python_google_colab_study/blob/main/Functional_programming.ipynb\" target=\"_parent\"><img src=\"https://colab.research.google.com/assets/colab-badge.svg\" alt=\"Open In Colab\"/></a>"
      ]
    },
    {
      "cell_type": "markdown",
      "source": [
        "**Agenda**\n",
        "1.   `Functional Programming`\n",
        "2.   `Lambda Function`\n",
        "3.   `Exmples`\n",
        "4.   `Higher order functions`\n",
        "5.   `Decorators`\n",
        "\n"
      ],
      "metadata": {
        "id": "p0dy0coSLAV_"
      }
    },
    {
      "cell_type": "code",
      "source": [
        "#lambda function\n",
        "#check whether number is positive or not\n",
        "def check_number(a):\n",
        "  if (a>=0):\n",
        "    return 'Positive number'\n",
        "  else :\n",
        "    return 'Negative Number'"
      ],
      "metadata": {
        "id": "8cv0yYDTLXiK"
      },
      "execution_count": 1,
      "outputs": []
    },
    {
      "cell_type": "code",
      "source": [
        "print(check_number(-5))"
      ],
      "metadata": {
        "colab": {
          "base_uri": "https://localhost:8080/"
        },
        "id": "9gDHsPPhONbv",
        "outputId": "fcaa7267-aa73-481d-8fa3-160fc74121c6"
      },
      "execution_count": 4,
      "outputs": [
        {
          "output_type": "stream",
          "name": "stdout",
          "text": [
            "Negative Number\n"
          ]
        }
      ]
    },
    {
      "cell_type": "code",
      "source": [
        "def func(n):\n",
        "  return True if n>=0 else False"
      ],
      "metadata": {
        "id": "RmdZf7o6OQia"
      },
      "execution_count": 5,
      "outputs": []
    },
    {
      "cell_type": "code",
      "source": [
        "func(-100)"
      ],
      "metadata": {
        "colab": {
          "base_uri": "https://localhost:8080/"
        },
        "id": "s78ZZVTGOw3q",
        "outputId": "96a2c2f2-d5bb-4234-86dd-1215f9f2aed2"
      },
      "execution_count": 6,
      "outputs": [
        {
          "output_type": "execute_result",
          "data": {
            "text/plain": [
              "False"
            ]
          },
          "metadata": {},
          "execution_count": 6
        }
      ]
    },
    {
      "cell_type": "code",
      "source": [
        "#syntax -> for lambda function ( lambda i/p : o/p) --> lambda -> anonyms function\n",
        "find_square=lambda s : s**2\n",
        "find_square(5)"
      ],
      "metadata": {
        "colab": {
          "base_uri": "https://localhost:8080/"
        },
        "id": "TMDQdJjuOyKa",
        "outputId": "9315ac95-d52b-4b29-f297-5a3ffb9c092e"
      },
      "execution_count": 7,
      "outputs": [
        {
          "output_type": "execute_result",
          "data": {
            "text/plain": [
              "25"
            ]
          },
          "metadata": {},
          "execution_count": 7
        }
      ]
    },
    {
      "cell_type": "code",
      "source": [
        "(lambda x : x**2)(10)"
      ],
      "metadata": {
        "colab": {
          "base_uri": "https://localhost:8080/"
        },
        "id": "hFa7krtsRCRL",
        "outputId": "51381d54-8028-474d-d85f-6370eb1f16ad"
      },
      "execution_count": 8,
      "outputs": [
        {
          "output_type": "execute_result",
          "data": {
            "text/plain": [
              "100"
            ]
          },
          "metadata": {},
          "execution_count": 8
        }
      ]
    },
    {
      "cell_type": "code",
      "source": [
        "#l.sort update values\n",
        "l=[1,3,4,5,2]\n",
        "l.sort()"
      ],
      "metadata": {
        "id": "7aFf8LJfReJp"
      },
      "execution_count": 9,
      "outputs": []
    },
    {
      "cell_type": "code",
      "source": [
        "l"
      ],
      "metadata": {
        "colab": {
          "base_uri": "https://localhost:8080/"
        },
        "id": "4TxzVfs5TB6b",
        "outputId": "77649ee4-5807-4cf9-a049-e6df4cff345f"
      },
      "execution_count": 10,
      "outputs": [
        {
          "output_type": "execute_result",
          "data": {
            "text/plain": [
              "[1, 2, 3, 4, 5]"
            ]
          },
          "metadata": {},
          "execution_count": 10
        }
      ]
    },
    {
      "cell_type": "code",
      "source": [],
      "metadata": {
        "id": "T8vcTmhfTC-o"
      },
      "execution_count": null,
      "outputs": []
    }
  ]
}