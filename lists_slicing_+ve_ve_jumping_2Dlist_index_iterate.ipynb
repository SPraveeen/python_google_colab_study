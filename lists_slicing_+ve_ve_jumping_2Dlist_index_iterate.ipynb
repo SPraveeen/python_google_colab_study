{
  "nbformat": 4,
  "nbformat_minor": 0,
  "metadata": {
    "colab": {
      "provenance": [],
      "authorship_tag": "ABX9TyPlX3X86yidMWrUtEB3XM4E",
      "include_colab_link": true
    },
    "kernelspec": {
      "name": "python3",
      "display_name": "Python 3"
    },
    "language_info": {
      "name": "python"
    }
  },
  "cells": [
    {
      "cell_type": "markdown",
      "metadata": {
        "id": "view-in-github",
        "colab_type": "text"
      },
      "source": [
        "<a href=\"https://colab.research.google.com/github/SPraveeen/python_google_colab_study/blob/main/lists_slicing_%2Bve_ve_jumping_2Dlist_index_iterate.ipynb\" target=\"_parent\"><img src=\"https://colab.research.google.com/assets/colab-badge.svg\" alt=\"Open In Colab\"/></a>"
      ]
    },
    {
      "cell_type": "code",
      "execution_count": null,
      "metadata": {
        "colab": {
          "base_uri": "https://localhost:8080/"
        },
        "id": "_VNnzzurqvPh",
        "outputId": "7112143b-35c6-48ae-b684-6c7ce53b292e"
      },
      "outputs": [
        {
          "output_type": "stream",
          "name": "stdout",
          "text": [
            "01234"
          ]
        }
      ],
      "source": [
        "for i in range(5):\n",
        "  print(i,end='')"
      ]
    },
    {
      "cell_type": "code",
      "source": [
        "x=[1,2,3,4]\n",
        "print(x[0:2])"
      ],
      "metadata": {
        "colab": {
          "base_uri": "https://localhost:8080/"
        },
        "id": "Rp2vNOU2q_-Z",
        "outputId": "a6b96168-2bca-4508-deb3-f3c32817747e"
      },
      "execution_count": null,
      "outputs": [
        {
          "output_type": "stream",
          "name": "stdout",
          "text": [
            "[1, 2]\n"
          ]
        }
      ]
    },
    {
      "cell_type": "code",
      "source": [
        "runs=[62,85,74,10,12,101,122,9,81,55]\n",
        "#first 5 matches\n",
        "runs[0:5]"
      ],
      "metadata": {
        "colab": {
          "base_uri": "https://localhost:8080/"
        },
        "id": "FHVLxXMOrhk2",
        "outputId": "c2359cb1-fdb5-4f60-c7b1-e4b225798030"
      },
      "execution_count": null,
      "outputs": [
        {
          "output_type": "execute_result",
          "data": {
            "text/plain": [
              "[62, 85, 74, 10, 12]"
            ]
          },
          "metadata": {},
          "execution_count": 2
        }
      ]
    },
    {
      "cell_type": "code",
      "source": [
        "#last 5 matches\n",
        "runs[-5:]"
      ],
      "metadata": {
        "colab": {
          "base_uri": "https://localhost:8080/"
        },
        "id": "XY2E7u4FsIR1",
        "outputId": "09dfe205-e6e3-4b1c-fbc1-d04931b094f2"
      },
      "execution_count": null,
      "outputs": [
        {
          "output_type": "execute_result",
          "data": {
            "text/plain": [
              "[101, 122, 9, 81, 55]"
            ]
          },
          "metadata": {},
          "execution_count": 12
        }
      ]
    },
    {
      "cell_type": "code",
      "source": [
        "runs[-1:]"
      ],
      "metadata": {
        "colab": {
          "base_uri": "https://localhost:8080/"
        },
        "id": "uvOp3wLMsS3l",
        "outputId": "7856ce44-b708-4e84-e013-e2c409558e55"
      },
      "execution_count": null,
      "outputs": [
        {
          "output_type": "execute_result",
          "data": {
            "text/plain": [
              "[55]"
            ]
          },
          "metadata": {},
          "execution_count": 14
        }
      ]
    },
    {
      "cell_type": "code",
      "source": [
        "runs[:] #gives whole list"
      ],
      "metadata": {
        "colab": {
          "base_uri": "https://localhost:8080/"
        },
        "id": "8BpwkUf9shO0",
        "outputId": "9c452e3b-db85-4b1b-d8b6-40713bbab2b1"
      },
      "execution_count": null,
      "outputs": [
        {
          "output_type": "execute_result",
          "data": {
            "text/plain": [
              "[62, 85, 74, 10, 12, 101, 122, 9, 81, 55]"
            ]
          },
          "metadata": {},
          "execution_count": 15
        }
      ]
    },
    {
      "cell_type": "code",
      "source": [
        "#create a new list of runs made is last 5 matches\n",
        "new_runs=[]\n",
        "for i in range(1,6):\n",
        "  new_runs.append(runs[-i])\n",
        "\n",
        "print(new_runs)"
      ],
      "metadata": {
        "colab": {
          "base_uri": "https://localhost:8080/"
        },
        "id": "2x3lGKobs3iU",
        "outputId": "f1fe610d-fed9-4d0e-cc5e-e81c0953d618"
      },
      "execution_count": null,
      "outputs": [
        {
          "output_type": "stream",
          "name": "stdout",
          "text": [
            "[55, 81, 9, 122, 101]\n"
          ]
        }
      ]
    },
    {
      "cell_type": "code",
      "source": [
        "#start stop\n",
        "print(runs[5:])\n",
        "print(runs[:5])"
      ],
      "metadata": {
        "colab": {
          "base_uri": "https://localhost:8080/"
        },
        "id": "hUqjzxdHucJV",
        "outputId": "be794b4f-dbb6-425c-badb-eb14b20a0082"
      },
      "execution_count": null,
      "outputs": [
        {
          "output_type": "stream",
          "name": "stdout",
          "text": [
            "[101, 122, 9, 81, 55]\n",
            "[62, 85, 74, 10, 12]\n"
          ]
        }
      ]
    },
    {
      "cell_type": "code",
      "source": [
        "runs[::-1]"
      ],
      "metadata": {
        "colab": {
          "base_uri": "https://localhost:8080/"
        },
        "id": "rrjmKQolDtSH",
        "outputId": "285129e9-f272-4609-deca-6f83d6600152"
      },
      "execution_count": null,
      "outputs": [
        {
          "output_type": "execute_result",
          "data": {
            "text/plain": [
              "[55, 81, 9, 122, 101, 12, 10, 74, 85, 62]"
            ]
          },
          "metadata": {},
          "execution_count": 23
        }
      ]
    },
    {
      "cell_type": "code",
      "source": [
        "runs[::2]"
      ],
      "metadata": {
        "colab": {
          "base_uri": "https://localhost:8080/"
        },
        "id": "ms7ro_S9EBxV",
        "outputId": "547d675b-d6bc-49d9-f8e3-446a75bd3a34"
      },
      "execution_count": null,
      "outputs": [
        {
          "output_type": "execute_result",
          "data": {
            "text/plain": [
              "[62, 74, 12, 122, 81]"
            ]
          },
          "metadata": {},
          "execution_count": 24
        }
      ]
    },
    {
      "cell_type": "code",
      "source": [
        "##create a new list of runs made in odd matches\n",
        "runss=[]\n",
        "for i in range(0,len(runs)):\n",
        "  if(i%2 !=0 ):\n",
        "    runss.append(runs[i])\n",
        "\n",
        "print(runss)"
      ],
      "metadata": {
        "colab": {
          "base_uri": "https://localhost:8080/"
        },
        "id": "tE5O2TjkEFjV",
        "outputId": "686491f8-4c27-4726-9fcd-3d743cdab3ff"
      },
      "execution_count": null,
      "outputs": [
        {
          "output_type": "stream",
          "name": "stdout",
          "text": [
            "[85, 10, 101, 9, 55, 10, 9, 10, 9, 10]\n"
          ]
        }
      ]
    },
    {
      "cell_type": "code",
      "source": [
        "runs[-2:-5:-1]"
      ],
      "metadata": {
        "colab": {
          "base_uri": "https://localhost:8080/"
        },
        "id": "cVGvD0BpE1cV",
        "outputId": "5e950372-6a9c-4ec1-9b3c-eabee4c431bb"
      },
      "execution_count": null,
      "outputs": [
        {
          "output_type": "execute_result",
          "data": {
            "text/plain": [
              "[81, 9, 122]"
            ]
          },
          "metadata": {},
          "execution_count": 3
        }
      ]
    },
    {
      "cell_type": "code",
      "source": [
        "runs[-2::-1]"
      ],
      "metadata": {
        "colab": {
          "base_uri": "https://localhost:8080/"
        },
        "id": "lxj9ivHfde7z",
        "outputId": "ba8a7fb1-3f5c-4e06-af88-1c3cf8ecf9fa"
      },
      "execution_count": null,
      "outputs": [
        {
          "output_type": "execute_result",
          "data": {
            "text/plain": [
              "[81, 9, 122, 101, 12, 10, 74, 85, 62]"
            ]
          },
          "metadata": {},
          "execution_count": 4
        }
      ]
    },
    {
      "cell_type": "code",
      "source": [
        "a=[10,20,30,440,50,60,70,80,90,100]"
      ],
      "metadata": {
        "id": "0uK4jMmMdpYy"
      },
      "execution_count": null,
      "outputs": []
    },
    {
      "cell_type": "code",
      "source": [
        "a[3:5]"
      ],
      "metadata": {
        "colab": {
          "base_uri": "https://localhost:8080/"
        },
        "id": "j1eVQRU7dxhD",
        "outputId": "3f4d3bd2-f409-4210-c0b8-460329b77a26"
      },
      "execution_count": null,
      "outputs": [
        {
          "output_type": "execute_result",
          "data": {
            "text/plain": [
              "[440, 50]"
            ]
          },
          "metadata": {},
          "execution_count": 6
        }
      ]
    },
    {
      "cell_type": "code",
      "source": [
        "a[:]"
      ],
      "metadata": {
        "colab": {
          "base_uri": "https://localhost:8080/"
        },
        "id": "TFwgEmoVdyzC",
        "outputId": "16eba094-8f84-4198-d9a7-f65b5300bc32"
      },
      "execution_count": null,
      "outputs": [
        {
          "output_type": "execute_result",
          "data": {
            "text/plain": [
              "[10, 20, 30, 440, 50, 60, 70, 80, 90, 100]"
            ]
          },
          "metadata": {},
          "execution_count": 7
        }
      ]
    },
    {
      "cell_type": "code",
      "source": [
        "a[-2:-5:-1]"
      ],
      "metadata": {
        "colab": {
          "base_uri": "https://localhost:8080/"
        },
        "id": "kLCaQRmGd0yC",
        "outputId": "193ff468-9d50-45e0-9aae-dc032d76c4c8"
      },
      "execution_count": null,
      "outputs": [
        {
          "output_type": "execute_result",
          "data": {
            "text/plain": [
              "[90, 80, 70]"
            ]
          },
          "metadata": {},
          "execution_count": 8
        }
      ]
    },
    {
      "cell_type": "code",
      "source": [
        "a.reverse()\n",
        "a"
      ],
      "metadata": {
        "colab": {
          "base_uri": "https://localhost:8080/"
        },
        "id": "Nw0N9-u6d30C",
        "outputId": "0d0aaeaa-b03b-4cb9-9781-06601e6f24e0"
      },
      "execution_count": null,
      "outputs": [
        {
          "output_type": "execute_result",
          "data": {
            "text/plain": [
              "[100, 90, 80, 70, 60, 50, 440, 30, 20, 10]"
            ]
          },
          "metadata": {},
          "execution_count": 3
        }
      ]
    },
    {
      "cell_type": "code",
      "source": [
        "list(reversed(a))"
      ],
      "metadata": {
        "colab": {
          "base_uri": "https://localhost:8080/"
        },
        "id": "0-8SHLmCI6Dv",
        "outputId": "713837bd-1c0d-4c87-d078-b0739812b54a"
      },
      "execution_count": null,
      "outputs": [
        {
          "output_type": "execute_result",
          "data": {
            "text/plain": [
              "[100, 90, 80, 70, 60, 50, 440, 30, 20, 10]"
            ]
          },
          "metadata": {},
          "execution_count": 5
        }
      ]
    },
    {
      "cell_type": "code",
      "source": [
        "a"
      ],
      "metadata": {
        "colab": {
          "base_uri": "https://localhost:8080/"
        },
        "id": "fPbx1FVbJCGv",
        "outputId": "13e352a8-29e2-44dc-8327-b81c954bc92b"
      },
      "execution_count": null,
      "outputs": [
        {
          "output_type": "execute_result",
          "data": {
            "text/plain": [
              "[10, 20, 30, 440, 50, 60, 70, 80, 90, 100]"
            ]
          },
          "metadata": {},
          "execution_count": 6
        }
      ]
    },
    {
      "cell_type": "code",
      "source": [
        "a[::-1]"
      ],
      "metadata": {
        "colab": {
          "base_uri": "https://localhost:8080/"
        },
        "id": "U4DLAn9BJELO",
        "outputId": "8f608999-de1c-41d3-94dc-e4874b3c8067"
      },
      "execution_count": null,
      "outputs": [
        {
          "output_type": "execute_result",
          "data": {
            "text/plain": [
              "[100, 90, 80, 70, 60, 50, 440, 30, 20, 10]"
            ]
          },
          "metadata": {},
          "execution_count": 7
        }
      ]
    },
    {
      "cell_type": "code",
      "source": [
        "#list within a list\n",
        "l1=['a','b',[0,1]]\n",
        "l1[2]"
      ],
      "metadata": {
        "colab": {
          "base_uri": "https://localhost:8080/"
        },
        "id": "8CoV-i6IJGrN",
        "outputId": "2a3123f8-b22f-45f9-9a0d-3ef37bc7a534"
      },
      "execution_count": null,
      "outputs": [
        {
          "output_type": "execute_result",
          "data": {
            "text/plain": [
              "[0, 1]"
            ]
          },
          "metadata": {},
          "execution_count": 8
        }
      ]
    },
    {
      "cell_type": "code",
      "source": [
        "l2=[[1,2,3],[4,5,6],[7,8,9]]\n",
        "l2[0]"
      ],
      "metadata": {
        "colab": {
          "base_uri": "https://localhost:8080/"
        },
        "id": "X9L202rPJmlO",
        "outputId": "ec391287-e132-43a6-c135-08d29edc16c2"
      },
      "execution_count": null,
      "outputs": [
        {
          "output_type": "execute_result",
          "data": {
            "text/plain": [
              "[1, 2, 3]"
            ]
          },
          "metadata": {},
          "execution_count": 9
        }
      ]
    },
    {
      "cell_type": "code",
      "source": [
        "for i in range(0,len(l2)):\n",
        "  print(l2[i])"
      ],
      "metadata": {
        "colab": {
          "base_uri": "https://localhost:8080/"
        },
        "id": "DtCRj4ipJ5lu",
        "outputId": "485db698-2d0b-4603-a3e0-4af36adc029d"
      },
      "execution_count": null,
      "outputs": [
        {
          "output_type": "stream",
          "name": "stdout",
          "text": [
            "[1, 2, 3]\n",
            "[4, 5, 6]\n",
            "[7, 8, 9]\n"
          ]
        }
      ]
    },
    {
      "cell_type": "code",
      "source": [
        "l2[0][2]"
      ],
      "metadata": {
        "colab": {
          "base_uri": "https://localhost:8080/"
        },
        "id": "d8gPcphuJ_xN",
        "outputId": "b4469a35-74da-458d-d83b-a40e679aa47e"
      },
      "execution_count": null,
      "outputs": [
        {
          "output_type": "execute_result",
          "data": {
            "text/plain": [
              "3"
            ]
          },
          "metadata": {},
          "execution_count": 15
        }
      ]
    },
    {
      "cell_type": "code",
      "source": [
        "a=[[1,2,[3,4,[5,6]]]]\n",
        "a[0]"
      ],
      "metadata": {
        "colab": {
          "base_uri": "https://localhost:8080/"
        },
        "id": "t1ScXcHNKu5t",
        "outputId": "52fad069-b241-4b4b-9408-383179a2c3d0"
      },
      "execution_count": null,
      "outputs": [
        {
          "output_type": "execute_result",
          "data": {
            "text/plain": [
              "[1, 2, [3, 4, [5, 6]]]"
            ]
          },
          "metadata": {},
          "execution_count": 17
        }
      ]
    },
    {
      "cell_type": "code",
      "source": [
        "a[0][2]"
      ],
      "metadata": {
        "colab": {
          "base_uri": "https://localhost:8080/"
        },
        "id": "TuEWn_RRLLE9",
        "outputId": "29e8353c-becd-4d80-a3ab-00ebb2dc33d1"
      },
      "execution_count": null,
      "outputs": [
        {
          "output_type": "execute_result",
          "data": {
            "text/plain": [
              "[3, 4, [5, 6]]"
            ]
          },
          "metadata": {},
          "execution_count": 18
        }
      ]
    },
    {
      "cell_type": "code",
      "source": [
        "a[0][2][2]"
      ],
      "metadata": {
        "colab": {
          "base_uri": "https://localhost:8080/"
        },
        "id": "DxGwON79LS6t",
        "outputId": "cd703a05-aa60-4395-ccb0-758eb69df1e0"
      },
      "execution_count": null,
      "outputs": [
        {
          "output_type": "execute_result",
          "data": {
            "text/plain": [
              "[5, 6]"
            ]
          },
          "metadata": {},
          "execution_count": 20
        }
      ]
    },
    {
      "cell_type": "code",
      "source": [
        "a[0][2][2][0]"
      ],
      "metadata": {
        "colab": {
          "base_uri": "https://localhost:8080/"
        },
        "id": "6MqjF4dKLVgN",
        "outputId": "1e070050-a946-4684-a1c1-5def2fdeded2"
      },
      "execution_count": null,
      "outputs": [
        {
          "output_type": "execute_result",
          "data": {
            "text/plain": [
              "5"
            ]
          },
          "metadata": {},
          "execution_count": 21
        }
      ]
    },
    {
      "cell_type": "code",
      "source": [
        "z=[[10,20,30],[40,50,60],[70,80,90]]"
      ],
      "metadata": {
        "id": "DrjgXBZ4LZ2d"
      },
      "execution_count": null,
      "outputs": []
    },
    {
      "cell_type": "code",
      "source": [
        "for i in z:\n",
        "  for j in i:\n",
        "    print(j,end=' ')\n",
        "  print()"
      ],
      "metadata": {
        "colab": {
          "base_uri": "https://localhost:8080/"
        },
        "id": "Lwu9xoRgMFrd",
        "outputId": "7322618a-3560-446c-e6f1-b0f89b00831f"
      },
      "execution_count": null,
      "outputs": [
        {
          "output_type": "stream",
          "name": "stdout",
          "text": [
            "10 20 30 \n",
            "40 50 60 \n",
            "70 80 90 \n"
          ]
        }
      ]
    },
    {
      "cell_type": "code",
      "source": [
        "#user to give value and make a list\n",
        "n=int(input(\"Enter how many index list you need to add \"))\n",
        "empty_li=[]\n",
        "for i in range(n):\n",
        "  elements=input(f'Enter the {i} element ')\n",
        "  empty_li.append(elements)\n",
        "\n",
        "print(empty_li)"
      ],
      "metadata": {
        "colab": {
          "base_uri": "https://localhost:8080/"
        },
        "id": "JZqeUVcxMJL8",
        "outputId": "57b84d4f-6a38-4fe5-fbe0-b17619f11f62"
      },
      "execution_count": null,
      "outputs": [
        {
          "output_type": "stream",
          "name": "stdout",
          "text": [
            "Enter how many index list you need to add 4\n",
            "Enter the 0 element 10\n",
            "Enter the 1 element 20\n",
            "Enter the 2 element 30\n",
            "Enter the 3 element 40\n",
            "['10', '20', '30', '40']\n"
          ]
        }
      ]
    },
    {
      "cell_type": "code",
      "source": [
        "inner_list=[]"
      ],
      "metadata": {
        "id": "7INrKy8SO5FM"
      },
      "execution_count": null,
      "outputs": []
    },
    {
      "cell_type": "code",
      "source": [
        "#take 3x3 matrix from user and print sum of all elemenets and also in each row\n",
        "a=[]\n",
        "for i in range(3):\n",
        "  inner_list=[]\n",
        "  for i in range(3):\n",
        "    inner_list.append(int(input()))\n",
        "  a.append(inner_list)\n",
        "\n",
        "print(a)"
      ],
      "metadata": {
        "colab": {
          "base_uri": "https://localhost:8080/"
        },
        "id": "arJ3HiQlnHEf",
        "outputId": "2413df49-0f42-4c98-8249-3fec9776f171"
      },
      "execution_count": null,
      "outputs": [
        {
          "output_type": "stream",
          "name": "stdout",
          "text": [
            "65\n",
            "23\n",
            "41\n",
            "78\n",
            "33\n",
            "24\n",
            "57\n",
            "51\n",
            "34\n",
            "[[65, 23, 41], [78, 33, 24], [57, 51, 34]]\n"
          ]
        }
      ]
    },
    {
      "cell_type": "code",
      "source": [],
      "metadata": {
        "id": "VJaul-yApW6-"
      },
      "execution_count": null,
      "outputs": []
    }
  ]
}