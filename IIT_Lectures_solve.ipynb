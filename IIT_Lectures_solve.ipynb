{
  "nbformat": 4,
  "nbformat_minor": 0,
  "metadata": {
    "colab": {
      "provenance": [],
      "authorship_tag": "ABX9TyP0uVre20PJUISBXHTjPCn8",
      "include_colab_link": true
    },
    "kernelspec": {
      "name": "python3",
      "display_name": "Python 3"
    },
    "language_info": {
      "name": "python"
    }
  },
  "cells": [
    {
      "cell_type": "markdown",
      "metadata": {
        "id": "view-in-github",
        "colab_type": "text"
      },
      "source": [
        "<a href=\"https://colab.research.google.com/github/SPraveeen/python_google_colab_study/blob/main/IIT_Lectures_solve.ipynb\" target=\"_parent\"><img src=\"https://colab.research.google.com/assets/colab-badge.svg\" alt=\"Open In Colab\"/></a>"
      ]
    },
    {
      "cell_type": "code",
      "execution_count": null,
      "metadata": {
        "id": "_YMHtyabf0Rp",
        "colab": {
          "base_uri": "https://localhost:8080/"
        },
        "outputId": "163a3c35-7959-413f-9e72-c8399761a21e"
      },
      "outputs": [
        {
          "output_type": "stream",
          "name": "stdout",
          "text": [
            "hello world\n"
          ]
        }
      ],
      "source": [
        "print(\"hello\",\"world\")"
      ]
    },
    {
      "cell_type": "code",
      "source": [
        "print(\"hel\",,,\"eorld\")"
      ],
      "metadata": {
        "colab": {
          "base_uri": "https://localhost:8080/",
          "height": 106
        },
        "id": "xaNba4iNqOet",
        "outputId": "5c803a1d-c204-4b46-c0b1-c6bffd9e6672"
      },
      "execution_count": null,
      "outputs": [
        {
          "output_type": "error",
          "ename": "SyntaxError",
          "evalue": "invalid syntax (<ipython-input-2-e2a5baefc9ef>, line 1)",
          "traceback": [
            "\u001b[0;36m  File \u001b[0;32m\"<ipython-input-2-e2a5baefc9ef>\"\u001b[0;36m, line \u001b[0;32m1\u001b[0m\n\u001b[0;31m    print(\"hel\",,,\"eorld\")\u001b[0m\n\u001b[0m                ^\u001b[0m\n\u001b[0;31mSyntaxError\u001b[0m\u001b[0;31m:\u001b[0m invalid syntax\n"
          ]
        }
      ]
    },
    {
      "cell_type": "code",
      "source": [
        "print(\"hello\",\"world\",\"earth\")"
      ],
      "metadata": {
        "colab": {
          "base_uri": "https://localhost:8080/"
        },
        "id": "gdYwrb8FqR-R",
        "outputId": "64489750-3f54-48f4-bee1-76db9e0f505d"
      },
      "execution_count": null,
      "outputs": [
        {
          "output_type": "stream",
          "name": "stdout",
          "text": [
            "hello world earth\n"
          ]
        }
      ]
    },
    {
      "cell_type": "code",
      "source": [
        "print(\"hello\",12,24.5)"
      ],
      "metadata": {
        "colab": {
          "base_uri": "https://localhost:8080/"
        },
        "id": "WS2r1N2SqU7J",
        "outputId": "01b53e6d-f327-454c-e502-ce003df90865"
      },
      "execution_count": null,
      "outputs": [
        {
          "output_type": "stream",
          "name": "stdout",
          "text": [
            "hello 12 24.5\n"
          ]
        }
      ]
    },
    {
      "cell_type": "code",
      "source": [
        "print('hello')"
      ],
      "metadata": {
        "colab": {
          "base_uri": "https://localhost:8080/"
        },
        "id": "0LgKFB0YqXjn",
        "outputId": "8ded7fa8-534c-42a8-cfec-f096bf20e2f3"
      },
      "execution_count": null,
      "outputs": [
        {
          "output_type": "stream",
          "name": "stdout",
          "text": [
            "hello\n"
          ]
        }
      ]
    },
    {
      "cell_type": "code",
      "source": [
        "print['hello']"
      ],
      "metadata": {
        "colab": {
          "base_uri": "https://localhost:8080/",
          "height": 141
        },
        "id": "RcvTe7s2qZTH",
        "outputId": "3a27bed9-0f84-408d-a58e-291d91867437"
      },
      "execution_count": null,
      "outputs": [
        {
          "output_type": "error",
          "ename": "TypeError",
          "evalue": "'builtin_function_or_method' object is not subscriptable",
          "traceback": [
            "\u001b[0;31m---------------------------------------------------------------------------\u001b[0m",
            "\u001b[0;31mTypeError\u001b[0m                                 Traceback (most recent call last)",
            "\u001b[0;32m<ipython-input-6-5300111ac94f>\u001b[0m in \u001b[0;36m<cell line: 0>\u001b[0;34m()\u001b[0m\n\u001b[0;32m----> 1\u001b[0;31m \u001b[0mprint\u001b[0m\u001b[0;34m[\u001b[0m\u001b[0;34m'hello'\u001b[0m\u001b[0;34m]\u001b[0m\u001b[0;34m\u001b[0m\u001b[0;34m\u001b[0m\u001b[0m\n\u001b[0m",
            "\u001b[0;31mTypeError\u001b[0m: 'builtin_function_or_method' object is not subscriptable"
          ]
        }
      ]
    },
    {
      "cell_type": "code",
      "source": [
        "print(\"hello\")\n",
        "# print{\"hello\"}\n",
        "# print[\"hello\"]\n",
        "print<\"hello\">"
      ],
      "metadata": {
        "colab": {
          "base_uri": "https://localhost:8080/",
          "height": 106
        },
        "id": "hkX7jDHrqbu5",
        "outputId": "9844d625-d091-4c8b-f347-1dc5412a22e8"
      },
      "execution_count": null,
      "outputs": [
        {
          "output_type": "error",
          "ename": "SyntaxError",
          "evalue": "invalid syntax (<ipython-input-9-95e1b5041892>, line 4)",
          "traceback": [
            "\u001b[0;36m  File \u001b[0;32m\"<ipython-input-9-95e1b5041892>\"\u001b[0;36m, line \u001b[0;32m4\u001b[0m\n\u001b[0;31m    print<\"hello\">\u001b[0m\n\u001b[0m                  ^\u001b[0m\n\u001b[0;31mSyntaxError\u001b[0m\u001b[0;31m:\u001b[0m invalid syntax\n"
          ]
        }
      ]
    },
    {
      "cell_type": "markdown",
      "source": [
        "9) Write a python code that has the below output as it is\n",
        "```\n",
        "it's sunday\n",
        "he is \"The President\""
      ],
      "metadata": {
        "id": "fY6DN68yqnb4"
      }
    },
    {
      "cell_type": "code",
      "source": [
        "print(\"It's sunday, he is \\\"The President\\\"\")"
      ],
      "metadata": {
        "colab": {
          "base_uri": "https://localhost:8080/"
        },
        "id": "wZ6AMSF9qgUP",
        "outputId": "c60ead68-93cb-4a9f-a151-218f425d9f0c"
      },
      "execution_count": null,
      "outputs": [
        {
          "output_type": "stream",
          "name": "stdout",
          "text": [
            "It's sunday, he is \"The President\"\n"
          ]
        }
      ]
    },
    {
      "cell_type": "markdown",
      "source": [
        "10) Correct the mistake so that the output is as below\n",
        "```\n",
        "i'm from sathy\n",
        "my name is \"Gokul\"\n",
        "i like 'red' color\n",
        "```\n",
        "\n",
        "CODE :\n",
        "```\n",
        "print('I'm from sathy`)\n",
        "print('my name is \"Gokul')\n",
        "print('i like 'red' color')\n",
        "```"
      ],
      "metadata": {
        "id": "YnNOYi3BrDK5"
      }
    },
    {
      "cell_type": "code",
      "source": [
        "print(\"I'm from sathy\")\n",
        "print('my name is \"Gokul\"')\n",
        "print('i like \\'red\\' color')"
      ],
      "metadata": {
        "colab": {
          "base_uri": "https://localhost:8080/"
        },
        "id": "f9b43-sgq4pf",
        "outputId": "b4d78586-c5cf-4fd3-8afd-42c6f5bde96b"
      },
      "execution_count": null,
      "outputs": [
        {
          "output_type": "stream",
          "name": "stdout",
          "text": [
            "I'm from sathy\n",
            "my name is \"Gokul\"\n",
            "i like 'red' color\n"
          ]
        }
      ]
    },
    {
      "cell_type": "markdown",
      "source": [
        "9) Take an input from command line as \"GOKUL\" and store it in a variable 'a' , what will be the output?\n",
        "```\n",
        "LINE-1\n",
        "print(a*2)\n",
        "```"
      ],
      "metadata": {
        "id": "y6f-B_zNreC_"
      }
    },
    {
      "cell_type": "code",
      "source": [
        "n=input()\n",
        "print(n*2)"
      ],
      "metadata": {
        "colab": {
          "base_uri": "https://localhost:8080/"
        },
        "id": "-DLVEy_zrZ0k",
        "outputId": "cd8f1029-1e66-4b7d-92d7-4dc42331af21"
      },
      "execution_count": null,
      "outputs": [
        {
          "output_type": "stream",
          "name": "stdout",
          "text": [
            "gokuk\n",
            "gokukgokuk\n"
          ]
        }
      ]
    },
    {
      "cell_type": "markdown",
      "source": [
        "10) Replace LINE-1 and LINE-2, so that we take input from user,  a number as input form user and we should print the square of the number as output.\n",
        "```\n",
        "LINE-1\n",
        "LINE-2\n",
        "```"
      ],
      "metadata": {
        "id": "j1-ABAVHsB0W"
      }
    },
    {
      "cell_type": "code",
      "source": [
        "n=int(input())\n",
        "print(n**2)"
      ],
      "metadata": {
        "colab": {
          "base_uri": "https://localhost:8080/"
        },
        "id": "2Hx1gPXxr96g",
        "outputId": "a0aec3ca-db0a-478c-c895-b5e72f5eb545"
      },
      "execution_count": null,
      "outputs": [
        {
          "output_type": "stream",
          "name": "stdout",
          "text": [
            "2\n",
            "4\n"
          ]
        }
      ]
    },
    {
      "cell_type": "markdown",
      "source": [
        "1. what wil be the value of n at the end of execution\n",
        "    ```\n",
        "    n=str(input())\n",
        "    print(\"Which placre are you in?\")\n",
        "    n=str(input())\n",
        "    print(\"Hello\",n,\"How is the weather in ,n )\n",
        "    ```"
      ],
      "metadata": {
        "id": "lwLujPGItCUT"
      }
    },
    {
      "cell_type": "code",
      "source": [
        "n=str(input())\n",
        "print(\"Which placre are you in?\")\n",
        "n=str(input())\n",
        "print(f'\"Hello\",{n},\"How is the weather in ,{n}' )"
      ],
      "metadata": {
        "colab": {
          "base_uri": "https://localhost:8080/"
        },
        "id": "pBSHnQJAsG_7",
        "outputId": "25b809f8-b6dc-4ec0-c37f-25e01c93ca4b"
      },
      "execution_count": null,
      "outputs": [
        {
          "output_type": "stream",
          "name": "stdout",
          "text": [
            "gokul\n",
            "Which placre are you in?\n",
            "sathy\n",
            "\"Hello\",sathy,\"How is the weather in ,sathy\n"
          ]
        }
      ]
    },
    {
      "cell_type": "markdown",
      "source": [
        "1. Write a python code that takes side of a cube as input and prints volume of the cube as output."
      ],
      "metadata": {
        "id": "QaYkxi_OCbAj"
      }
    },
    {
      "cell_type": "code",
      "source": [
        "a=int(input())\n",
        "volume_cube=a**3\n",
        "print(volume_cube)"
      ],
      "metadata": {
        "id": "Wbm0L75-tEQa",
        "colab": {
          "base_uri": "https://localhost:8080/"
        },
        "outputId": "c0634a88-f6b0-4773-f233-5f81dec2707d"
      },
      "execution_count": null,
      "outputs": [
        {
          "output_type": "stream",
          "name": "stdout",
          "text": [
            "10\n",
            "1000\n"
          ]
        }
      ]
    },
    {
      "cell_type": "markdown",
      "source": [
        "write a python code that takes radius of circle as input and prints the area of the circle"
      ],
      "metadata": {
        "id": "ZgXqE2kSDHv0"
      }
    },
    {
      "cell_type": "code",
      "source": [
        "radius=int(input())\n",
        "a_circle=3.14*radius**2\n",
        "print(a_circle)"
      ],
      "metadata": {
        "colab": {
          "base_uri": "https://localhost:8080/"
        },
        "id": "GGZW_FMIC_Wh",
        "outputId": "779e1237-85cd-493a-83de-2fa42adba4fa"
      },
      "execution_count": null,
      "outputs": [
        {
          "output_type": "stream",
          "name": "stdout",
          "text": [
            "23\n",
            "1661.0600000000002\n"
          ]
        }
      ]
    },
    {
      "cell_type": "markdown",
      "source": [
        "1. what will be the output of below code?\n",
        "    ```\n",
        "    l=[10,20,30]\n",
        "    print(l[3])\n",
        "    print(l[2])\n",
        "    print(l[1])\n",
        "    print(l[0])\n",
        "    ```"
      ],
      "metadata": {
        "id": "6q1XhTZtDskt"
      }
    },
    {
      "cell_type": "code",
      "source": [
        "\n",
        "l=[10,20,30]\n",
        "# print(l[3])\n",
        "print(l[2])\n",
        "print(l[1])\n",
        "print(l[0])\n"
      ],
      "metadata": {
        "colab": {
          "base_uri": "https://localhost:8080/"
        },
        "id": "FtupAhhXDig5",
        "outputId": "330aac7d-aecb-4573-c994-156adc58c066"
      },
      "execution_count": null,
      "outputs": [
        {
          "output_type": "stream",
          "name": "stdout",
          "text": [
            "30\n",
            "20\n",
            "10\n"
          ]
        }
      ]
    },
    {
      "cell_type": "code",
      "source": [
        "print(l[3])"
      ],
      "metadata": {
        "colab": {
          "base_uri": "https://localhost:8080/",
          "height": 141
        },
        "id": "-8knSRZIDzLT",
        "outputId": "3a545846-feeb-469a-8f77-04fe4a243268"
      },
      "execution_count": null,
      "outputs": [
        {
          "output_type": "error",
          "ename": "IndexError",
          "evalue": "list index out of range",
          "traceback": [
            "\u001b[0;31m---------------------------------------------------------------------------\u001b[0m",
            "\u001b[0;31mIndexError\u001b[0m                                Traceback (most recent call last)",
            "\u001b[0;32m<ipython-input-5-3cd715d2711a>\u001b[0m in \u001b[0;36m<cell line: 0>\u001b[0;34m()\u001b[0m\n\u001b[0;32m----> 1\u001b[0;31m \u001b[0mprint\u001b[0m\u001b[0;34m(\u001b[0m\u001b[0ml\u001b[0m\u001b[0;34m[\u001b[0m\u001b[0;36m3\u001b[0m\u001b[0;34m]\u001b[0m\u001b[0;34m)\u001b[0m\u001b[0;34m\u001b[0m\u001b[0;34m\u001b[0m\u001b[0m\n\u001b[0m",
            "\u001b[0;31mIndexError\u001b[0m: list index out of range"
          ]
        }
      ]
    },
    {
      "cell_type": "code",
      "source": [
        "l=[10,20,30]\n",
        "print(type(l))\n",
        "print(l[2])\n",
        "print(type(l[2]))"
      ],
      "metadata": {
        "colab": {
          "base_uri": "https://localhost:8080/"
        },
        "id": "7YN8q1v1D19q",
        "outputId": "14718333-3f28-47be-ab2d-7a3985e9cad6"
      },
      "execution_count": null,
      "outputs": [
        {
          "output_type": "stream",
          "name": "stdout",
          "text": [
            "<class 'list'>\n",
            "30\n",
            "<class 'int'>\n"
          ]
        }
      ]
    },
    {
      "cell_type": "code",
      "source": [
        "x=True\n",
        "y=False\n",
        "print(type(x))\n",
        "print(type(y))"
      ],
      "metadata": {
        "colab": {
          "base_uri": "https://localhost:8080/"
        },
        "id": "4dk4BvT3D7Me",
        "outputId": "5a63fbd2-bfc5-40c8-e977-a76a282e35f7"
      },
      "execution_count": null,
      "outputs": [
        {
          "output_type": "stream",
          "name": "stdout",
          "text": [
            "<class 'bool'>\n",
            "<class 'bool'>\n"
          ]
        }
      ]
    },
    {
      "cell_type": "code",
      "source": [
        "a=int(5.7)\n",
        "b=int('10')\n",
        "c=int(\"212\")\n",
        "d=float(\"1.2\")\n",
        "# e=int(\"1.2\")\n",
        "print(a)\n",
        "print(b)\n",
        "print(c)\n",
        "print(d)\n",
        "# print(e)"
      ],
      "metadata": {
        "colab": {
          "base_uri": "https://localhost:8080/"
        },
        "id": "ye6H1Ew1EOs1",
        "outputId": "6faee620-6198-4971-d745-6112e1768675"
      },
      "execution_count": null,
      "outputs": [
        {
          "output_type": "stream",
          "name": "stdout",
          "text": [
            "5\n",
            "10\n",
            "212\n",
            "1.2\n"
          ]
        }
      ]
    },
    {
      "cell_type": "code",
      "source": [
        "a=5.7\n",
        "b=6\n",
        "c=0\n",
        "d=\"abc\"\n",
        "e=\"False\"\n",
        "f=\"\"\n",
        "g=-10\n",
        "h=0\n",
        "i=0.0\n",
        "j=\"0\"\n",
        "print(bool(a))\n",
        "print(bool(b))\n",
        "print(bool(c))\n",
        "print(bool(d))\n",
        "print(bool(e))\n",
        "print(bool(f))\n",
        "print(bool(g))\n",
        "print(bool(h))\n",
        "print(bool(i))\n",
        "print(bool(j))"
      ],
      "metadata": {
        "colab": {
          "base_uri": "https://localhost:8080/"
        },
        "id": "nwgg9zATEX8F",
        "outputId": "d7c7b5e2-f109-4501-ca66-f8d8e6dc9edf"
      },
      "execution_count": null,
      "outputs": [
        {
          "output_type": "stream",
          "name": "stdout",
          "text": [
            "True\n",
            "True\n",
            "False\n",
            "True\n",
            "True\n",
            "False\n",
            "True\n",
            "False\n",
            "False\n",
            "True\n"
          ]
        }
      ]
    },
    {
      "cell_type": "code",
      "source": [
        "a=\"gokul\"\n",
        "b=\"india\"\n",
        "c=a*b\n",
        "print(c)"
      ],
      "metadata": {
        "colab": {
          "base_uri": "https://localhost:8080/",
          "height": 193
        },
        "id": "3pMN2zAXEkPD",
        "outputId": "5f74f7c6-c8e6-42d0-e858-f0711444b7a8"
      },
      "execution_count": null,
      "outputs": [
        {
          "output_type": "error",
          "ename": "TypeError",
          "evalue": "can't multiply sequence by non-int of type 'str'",
          "traceback": [
            "\u001b[0;31m---------------------------------------------------------------------------\u001b[0m",
            "\u001b[0;31mTypeError\u001b[0m                                 Traceback (most recent call last)",
            "\u001b[0;32m<ipython-input-11-b397f7b3114d>\u001b[0m in \u001b[0;36m<cell line: 0>\u001b[0;34m()\u001b[0m\n\u001b[1;32m      1\u001b[0m \u001b[0ma\u001b[0m\u001b[0;34m=\u001b[0m\u001b[0;34m\"gokul\"\u001b[0m\u001b[0;34m\u001b[0m\u001b[0;34m\u001b[0m\u001b[0m\n\u001b[1;32m      2\u001b[0m \u001b[0mb\u001b[0m\u001b[0;34m=\u001b[0m\u001b[0;34m\"india\"\u001b[0m\u001b[0;34m\u001b[0m\u001b[0;34m\u001b[0m\u001b[0m\n\u001b[0;32m----> 3\u001b[0;31m \u001b[0mc\u001b[0m\u001b[0;34m=\u001b[0m\u001b[0ma\u001b[0m\u001b[0;34m*\u001b[0m\u001b[0mb\u001b[0m\u001b[0;34m\u001b[0m\u001b[0;34m\u001b[0m\u001b[0m\n\u001b[0m\u001b[1;32m      4\u001b[0m \u001b[0mprint\u001b[0m\u001b[0;34m(\u001b[0m\u001b[0mc\u001b[0m\u001b[0;34m)\u001b[0m\u001b[0;34m\u001b[0m\u001b[0;34m\u001b[0m\u001b[0m\n",
            "\u001b[0;31mTypeError\u001b[0m: can't multiply sequence by non-int of type 'str'"
          ]
        }
      ]
    },
    {
      "cell_type": "code",
      "source": [
        "a=[1,2,3]\n",
        "b=[4,5,6,7,8]\n",
        "c=a+b\n",
        "print(c)"
      ],
      "metadata": {
        "colab": {
          "base_uri": "https://localhost:8080/"
        },
        "id": "_bFaOnWhExqj",
        "outputId": "afa930ca-58e0-4be1-b07d-535f4ebea015"
      },
      "execution_count": null,
      "outputs": [
        {
          "output_type": "stream",
          "name": "stdout",
          "text": [
            "[1, 2, 3, 4, 5, 6, 7, 8]\n"
          ]
        }
      ]
    },
    {
      "cell_type": "code",
      "source": [
        "a=11\n",
        "b=15\n",
        "c=a/b\n",
        "print(c)"
      ],
      "metadata": {
        "colab": {
          "base_uri": "https://localhost:8080/"
        },
        "id": "MafkqQ4zE46H",
        "outputId": "73733273-5f5c-43ee-c83b-05e05166829b"
      },
      "execution_count": null,
      "outputs": [
        {
          "output_type": "stream",
          "name": "stdout",
          "text": [
            "0.7333333333333333\n"
          ]
        }
      ]
    },
    {
      "cell_type": "code",
      "source": [
        "l1=[7/3,7//3,7%3,7**3]\n",
        "print(l1)"
      ],
      "metadata": {
        "colab": {
          "base_uri": "https://localhost:8080/"
        },
        "id": "VoK7z_yUFAVz",
        "outputId": "bfd09edb-6503-44a8-cd57-5d914d688dd4"
      },
      "execution_count": null,
      "outputs": [
        {
          "output_type": "stream",
          "name": "stdout",
          "text": [
            "[2.3333333333333335, 2, 1, 343]\n"
          ]
        }
      ]
    },
    {
      "cell_type": "markdown",
      "source": [],
      "metadata": {
        "id": "AbeQgvFOHrhI"
      }
    },
    {
      "cell_type": "markdown",
      "source": [
        " Accept a positive integer as input and\n",
        " print True if it is a perfect square and False otherwise.\n",
        "For example, if the input is 25 , then you must print True . If the input is 15 , then you must print False\n",
        "doubt"
      ],
      "metadata": {
        "id": "O0njIMWUGO2r"
      }
    },
    {
      "cell_type": "code",
      "source": [
        "n=int(input())\n",
        "# 25\n",
        "sqrt_num=n**0.5\n",
        "# 5\n",
        "print(sqrt_num**2==n)\n",
        "# 25 == 25"
      ],
      "metadata": {
        "colab": {
          "base_uri": "https://localhost:8080/"
        },
        "id": "-I7272aWFIJ_",
        "outputId": "b6a14a92-0a70-4c36-ec99-e2e5e35908c1"
      },
      "execution_count": null,
      "outputs": [
        {
          "output_type": "stream",
          "name": "stdout",
          "text": [
            "5\n",
            "False\n"
          ]
        }
      ]
    },
    {
      "cell_type": "markdown",
      "source": [
        "  Accept a two digit number as input and print the sum of its digits. What about a three digit number"
      ],
      "metadata": {
        "id": "twMq6yf0H5JF"
      }
    },
    {
      "cell_type": "code",
      "source": [
        "n=int(input())\n",
        "print(n//10 + n%10)"
      ],
      "metadata": {
        "colab": {
          "base_uri": "https://localhost:8080/"
        },
        "id": "Xx3TRa5iHJci",
        "outputId": "6513a4d9-903f-4122-aacb-da86e81af5fb"
      },
      "execution_count": null,
      "outputs": [
        {
          "output_type": "stream",
          "name": "stdout",
          "text": [
            "25\n",
            "7\n"
          ]
        }
      ]
    },
    {
      "cell_type": "markdown",
      "source": [
        "What about a three digit number"
      ],
      "metadata": {
        "id": "jZtaYRbyJKzu"
      }
    },
    {
      "cell_type": "code",
      "source": [
        "n=int(input())\n",
        "print(n//100+((n//10)%10)+n%10)"
      ],
      "metadata": {
        "colab": {
          "base_uri": "https://localhost:8080/"
        },
        "id": "AjwDWqFgJET5",
        "outputId": "3dad5fbd-4318-4f21-f59a-f26fdf91863b"
      },
      "execution_count": null,
      "outputs": [
        {
          "output_type": "stream",
          "name": "stdout",
          "text": [
            "123\n",
            "6\n"
          ]
        }
      ]
    },
    {
      "cell_type": "code",
      "source": [
        "n=int(input())\n",
        "m=int(input())\n",
        "print(0<n<m<10)\n",
        "print(m-n==1)"
      ],
      "metadata": {
        "colab": {
          "base_uri": "https://localhost:8080/"
        },
        "id": "9P8ZlkIvJXAO",
        "outputId": "23845691-2b81-49bb-e014-fb286c8e690b"
      },
      "execution_count": null,
      "outputs": [
        {
          "output_type": "stream",
          "name": "stdout",
          "text": [
            "8\n",
            "9\n",
            "True\n",
            "True\n"
          ]
        }
      ]
    },
    {
      "cell_type": "markdown",
      "source": [
        "Accept the score of a student in an exam as input.\n",
        "Print True if the student has scored between 90 and 100 ,\n",
        "both endpoints included, and False otherwise. You can assume that the score is an integer."
      ],
      "metadata": {
        "id": "sQ_sHHedUsZK"
      }
    },
    {
      "cell_type": "code",
      "source": [
        "marks=int(input())\n",
        "print(90<=marks<=100)"
      ],
      "metadata": {
        "colab": {
          "base_uri": "https://localhost:8080/"
        },
        "id": "NJZ2oHWmLEbu",
        "outputId": "700e6d1a-6fc8-4dfc-fcde-9b8ce76e9250"
      },
      "execution_count": null,
      "outputs": [
        {
          "output_type": "stream",
          "name": "stdout",
          "text": [
            "90\n",
            "True\n"
          ]
        }
      ]
    },
    {
      "cell_type": "markdown",
      "source": [
        "g(x) is the smallest integer greater than or equal to the real number x.\n",
        "For example,  g(1.2) is  2 and  g(4.8) is\n",
        "5. Accept a positive real number\n",
        "x as input and print\n",
        "g(x)"
      ],
      "metadata": {
        "id": "krtx5BXyVLrs"
      }
    },
    {
      "cell_type": "code",
      "source": [
        "m=float(input())\n",
        "real_no=int(-((-m)//1))\n",
        "print(real_no)"
      ],
      "metadata": {
        "colab": {
          "base_uri": "https://localhost:8080/"
        },
        "id": "XpD2crmkU3_p",
        "outputId": "3518087e-69f8-4052-afc9-8986c9354fa9"
      },
      "execution_count": null,
      "outputs": [
        {
          "output_type": "stream",
          "name": "stdout",
          "text": [
            "1.2\n",
            "2\n"
          ]
        }
      ]
    },
    {
      "cell_type": "code",
      "source": [
        "a=-10.8\n",
        "b=10.8\n",
        "print(a//1)\n",
        "print(b//1)"
      ],
      "metadata": {
        "colab": {
          "base_uri": "https://localhost:8080/"
        },
        "id": "4YafCEyRVnx7",
        "outputId": "a246a97b-60dc-4297-dad1-27853898ab1e"
      },
      "execution_count": null,
      "outputs": [
        {
          "output_type": "stream",
          "name": "stdout",
          "text": [
            "-11.0\n",
            "10.0\n"
          ]
        }
      ]
    },
    {
      "cell_type": "markdown",
      "source": [
        "f(x) is the greatest integer less than or equal to the real number x. For example,\n",
        "𝑓(1.2)  is 1 and  f(4.8) is 4. Accept a positive real number  x as input and print f(x).\n",
        "Use the previous question as a hint."
      ],
      "metadata": {
        "id": "UY0tt313Ylui"
      }
    },
    {
      "cell_type": "code",
      "source": [
        "m=float(input())\n",
        "print(int(m))"
      ],
      "metadata": {
        "colab": {
          "base_uri": "https://localhost:8080/"
        },
        "id": "VAWdd4e_YUjf",
        "outputId": "ea6471fd-1c75-45fb-b5af-2e539e8aeeb3"
      },
      "execution_count": null,
      "outputs": [
        {
          "output_type": "stream",
          "name": "stdout",
          "text": [
            "4.8\n",
            "4\n"
          ]
        }
      ]
    },
    {
      "cell_type": "markdown",
      "source": [
        "Use Python as a calculator and find the square root of the number:12345678987654321."
      ],
      "metadata": {
        "id": "OVUEdM1MZbWS"
      }
    },
    {
      "cell_type": "code",
      "source": [
        "a=12345678987654321\n",
        "sq_rt=a**0.5\n",
        "print(sq_rt)"
      ],
      "metadata": {
        "colab": {
          "base_uri": "https://localhost:8080/"
        },
        "id": "3-jxwOoDY3rT",
        "outputId": "898f57b3-6dc2-4ba3-bcea-dea250ef9684"
      },
      "execution_count": null,
      "outputs": [
        {
          "output_type": "stream",
          "name": "stdout",
          "text": [
            "111111111.0\n"
          ]
        }
      ]
    },
    {
      "cell_type": "markdown",
      "source": [
        "Find the number of digits in 7 power 100\n",
        "  . Treat this as a programming question and not as a mathematical question.\n",
        " You should be able to do this using the concepts that you have learned so far."
      ],
      "metadata": {
        "id": "q05E7eLVZt6x"
      }
    },
    {
      "cell_type": "code",
      "source": [
        "a=7**100\n",
        "b=str(a)\n",
        "print(len(b))"
      ],
      "metadata": {
        "colab": {
          "base_uri": "https://localhost:8080/"
        },
        "id": "d8E8pVtyZjnN",
        "outputId": "ef657a37-49a2-4cff-e120-7c5df4f6e2f3"
      },
      "execution_count": null,
      "outputs": [
        {
          "output_type": "stream",
          "name": "stdout",
          "text": [
            "85\n"
          ]
        }
      ]
    },
    {
      "cell_type": "markdown",
      "source": [
        "Accept a word as input.\n",
        "Assume that all characters in the word are in lower case.\n",
        "Print True if the first and last letter of the word are the same, and False otherwise.\n",
        "You should be able to do this using the concepts introduced in this week.\n",
        "\n",
        "Conditional statements can be used.\n",
        "They will be introduced in the next week.\n",
        "But the challenge is to solve this problem without using conditional statements!\n",
        "As an interesting exercise, can you list down some words that follow this pattern?"
      ],
      "metadata": {
        "id": "_xynjrCmaA4R"
      }
    },
    {
      "cell_type": "code",
      "source": [
        "n=input()\n",
        "print(n[0]==n[-1])"
      ],
      "metadata": {
        "colab": {
          "base_uri": "https://localhost:8080/"
        },
        "id": "Q2BoibhrZ6Js",
        "outputId": "af0fce0d-ecac-4de0-ad03-22cb93318521"
      },
      "execution_count": null,
      "outputs": [
        {
          "output_type": "stream",
          "name": "stdout",
          "text": [
            "kosij\n",
            "False\n"
          ]
        }
      ]
    },
    {
      "cell_type": "markdown",
      "source": [
        "Accept a positive integer,\n",
        "x , as input from the user. Without using the * symbol anywhere in your code, print\n",
        "10 * 𝑥, i.e. the product of the integer input and the number 10."
      ],
      "metadata": {
        "id": "_moDE7m7aYHQ"
      }
    },
    {
      "cell_type": "code",
      "source": [
        "n=input()\n",
        "print(n+'0')"
      ],
      "metadata": {
        "colab": {
          "base_uri": "https://localhost:8080/"
        },
        "id": "hjMjoDNQaQb6",
        "outputId": "eaf90625-c082-4c7d-9924-78711d2ddd5a"
      },
      "execution_count": null,
      "outputs": [
        {
          "output_type": "stream",
          "name": "stdout",
          "text": [
            "10\n",
            "100\n"
          ]
        }
      ]
    },
    {
      "cell_type": "code",
      "source": [
        "a=1+4/2\n",
        "print(a)\n",
        "print(type(a))"
      ],
      "metadata": {
        "colab": {
          "base_uri": "https://localhost:8080/"
        },
        "id": "OhR5ojFFau45",
        "outputId": "4a61577e-110f-4881-de6d-f8959135aba3"
      },
      "execution_count": null,
      "outputs": [
        {
          "output_type": "stream",
          "name": "stdout",
          "text": [
            "3.0\n",
            "<class 'float'>\n"
          ]
        }
      ]
    },
    {
      "cell_type": "code",
      "source": [
        "print(1>0 and -1<0 and 1==1)"
      ],
      "metadata": {
        "colab": {
          "base_uri": "https://localhost:8080/"
        },
        "id": "Gf6y_eF3bpnP",
        "outputId": "dfd6868d-899c-4feb-c246-6c01c5fcdbb2"
      },
      "execution_count": null,
      "outputs": [
        {
          "output_type": "stream",
          "name": "stdout",
          "text": [
            "True\n"
          ]
        }
      ]
    },
    {
      "cell_type": "code",
      "source": [
        "print(1+3/4**2*0)"
      ],
      "metadata": {
        "colab": {
          "base_uri": "https://localhost:8080/"
        },
        "id": "-urftsBXbzMS",
        "outputId": "18a67327-cac4-4838-f54a-bb5577bc37e3"
      },
      "execution_count": null,
      "outputs": [
        {
          "output_type": "stream",
          "name": "stdout",
          "text": [
            "1.0\n"
          ]
        }
      ]
    },
    {
      "cell_type": "code",
      "source": [
        "print(10**3+9**3)\n",
        "print(12**3+1**3)"
      ],
      "metadata": {
        "colab": {
          "base_uri": "https://localhost:8080/"
        },
        "id": "K3z22Szjb9Z0",
        "outputId": "53f395c7-dec5-452c-f290-2f8fbbfad61d"
      },
      "execution_count": null,
      "outputs": [
        {
          "output_type": "stream",
          "name": "stdout",
          "text": [
            "1729\n",
            "1729\n"
          ]
        }
      ]
    },
    {
      "cell_type": "code",
      "source": [
        "e=bool\n",
        "e\n",
        "a=not e\n",
        "not not e\n",
        "print(a)"
      ],
      "metadata": {
        "colab": {
          "base_uri": "https://localhost:8080/"
        },
        "id": "3xSMy6QYcNlr",
        "outputId": "adbe1ca6-71e3-475c-e2fa-21dcb0d45274"
      },
      "execution_count": null,
      "outputs": [
        {
          "output_type": "stream",
          "name": "stdout",
          "text": [
            "False\n"
          ]
        }
      ]
    },
    {
      "cell_type": "code",
      "source": [
        "e1=bool\n",
        "e2=bool\n",
        "e3=not(e1 or e2)\n",
        "e4=(not e1 )and (not e2)\n",
        "print(e3)\n",
        "print(e4)\n",
        "print(e3==e4)"
      ],
      "metadata": {
        "colab": {
          "base_uri": "https://localhost:8080/"
        },
        "id": "jZoIWtkFcpfE",
        "outputId": "2f984969-d7bb-4833-e92d-d29ea631c1e9"
      },
      "execution_count": null,
      "outputs": [
        {
          "output_type": "stream",
          "name": "stdout",
          "text": [
            "False\n",
            "False\n",
            "True\n"
          ]
        }
      ]
    },
    {
      "cell_type": "code",
      "source": [
        "e1=bool\n",
        "e2=bool\n",
        "e1 and e2 and 1/0\n",
        "print(e2)"
      ],
      "metadata": {
        "colab": {
          "base_uri": "https://localhost:8080/",
          "height": 193
        },
        "id": "Jz5_rGvDdEUw",
        "outputId": "fcf82aeb-3203-4f8b-eda6-00e81559f07e"
      },
      "execution_count": null,
      "outputs": [
        {
          "output_type": "error",
          "ename": "ZeroDivisionError",
          "evalue": "division by zero",
          "traceback": [
            "\u001b[0;31m---------------------------------------------------------------------------\u001b[0m",
            "\u001b[0;31mZeroDivisionError\u001b[0m                         Traceback (most recent call last)",
            "\u001b[0;32m<ipython-input-63-d9cd10c42f3c>\u001b[0m in \u001b[0;36m<cell line: 0>\u001b[0;34m()\u001b[0m\n\u001b[1;32m      1\u001b[0m \u001b[0me1\u001b[0m\u001b[0;34m=\u001b[0m\u001b[0mbool\u001b[0m\u001b[0;34m\u001b[0m\u001b[0;34m\u001b[0m\u001b[0m\n\u001b[1;32m      2\u001b[0m \u001b[0me2\u001b[0m\u001b[0;34m=\u001b[0m\u001b[0mbool\u001b[0m\u001b[0;34m\u001b[0m\u001b[0;34m\u001b[0m\u001b[0m\n\u001b[0;32m----> 3\u001b[0;31m \u001b[0me1\u001b[0m \u001b[0;32mand\u001b[0m \u001b[0me2\u001b[0m \u001b[0;32mand\u001b[0m \u001b[0;36m1\u001b[0m\u001b[0;34m/\u001b[0m\u001b[0;36m0\u001b[0m\u001b[0;34m\u001b[0m\u001b[0;34m\u001b[0m\u001b[0m\n\u001b[0m\u001b[1;32m      4\u001b[0m \u001b[0mprint\u001b[0m\u001b[0;34m(\u001b[0m\u001b[0me2\u001b[0m\u001b[0;34m)\u001b[0m\u001b[0;34m\u001b[0m\u001b[0;34m\u001b[0m\u001b[0m\n",
            "\u001b[0;31mZeroDivisionError\u001b[0m: division by zero"
          ]
        }
      ]
    },
    {
      "cell_type": "code",
      "source": [
        "print(\"a+'b'+c+''+d\")"
      ],
      "metadata": {
        "colab": {
          "base_uri": "https://localhost:8080/"
        },
        "id": "cudsEmyidw7-",
        "outputId": "862cb504-4063-479a-cb06-e65568cbddb6"
      },
      "execution_count": null,
      "outputs": [
        {
          "output_type": "stream",
          "name": "stdout",
          "text": [
            "a+'b'+c+''+d\n"
          ]
        }
      ]
    },
    {
      "cell_type": "code",
      "source": [
        "print(1, 2, 3, 4, 5)"
      ],
      "metadata": {
        "colab": {
          "base_uri": "https://localhost:8080/"
        },
        "id": "bM-CUo5bejfX",
        "outputId": "b9b479c7-c0f7-4dcf-c3b2-78e856577567"
      },
      "execution_count": null,
      "outputs": [
        {
          "output_type": "stream",
          "name": "stdout",
          "text": [
            "1 2 3 4 5\n"
          ]
        }
      ]
    },
    {
      "cell_type": "code",
      "source": [
        "print(not 0 and 10//5==2)"
      ],
      "metadata": {
        "colab": {
          "base_uri": "https://localhost:8080/"
        },
        "id": "M5PR_KucetCh",
        "outputId": "ff514aab-e918-43a4-af83-0dda3f8d47d8"
      },
      "execution_count": null,
      "outputs": [
        {
          "output_type": "stream",
          "name": "stdout",
          "text": [
            "True\n"
          ]
        }
      ]
    },
    {
      "cell_type": "code",
      "source": [
        "a != True\n",
        "print(a)"
      ],
      "metadata": {
        "colab": {
          "base_uri": "https://localhost:8080/"
        },
        "id": "zj6Q9cjzfTNd",
        "outputId": "34360b5e-8f31-4638-8830-d68988687aed"
      },
      "execution_count": null,
      "outputs": [
        {
          "output_type": "stream",
          "name": "stdout",
          "text": [
            "True\n"
          ]
        }
      ]
    },
    {
      "cell_type": "code",
      "source": [
        "10**2"
      ],
      "metadata": {
        "colab": {
          "base_uri": "https://localhost:8080/"
        },
        "id": "adDBjorBho0K",
        "outputId": "55fd4568-20f5-4300-f9b3-b97b82a633be"
      },
      "execution_count": null,
      "outputs": [
        {
          "output_type": "execute_result",
          "data": {
            "text/plain": [
              "100"
            ]
          },
          "metadata": {},
          "execution_count": 78
        }
      ]
    },
    {
      "cell_type": "markdown",
      "source": [
        "1. Create any variable and assign some value and delete it."
      ],
      "metadata": {
        "id": "Q0zQxu5GjhHW"
      }
    },
    {
      "cell_type": "code",
      "source": [
        "a=10\n",
        "print(a)\n",
        "del a\n",
        "# print(a)"
      ],
      "metadata": {
        "colab": {
          "base_uri": "https://localhost:8080/"
        },
        "id": "RXxp4-Iwh7AZ",
        "outputId": "7c9c6014-81fc-40fc-a47c-36b67922a6e6"
      },
      "execution_count": null,
      "outputs": [
        {
          "output_type": "stream",
          "name": "stdout",
          "text": [
            "10\n"
          ]
        }
      ]
    },
    {
      "cell_type": "code",
      "source": [
        "print('it\\'s a beautiful day')\n",
        "print(\"we are from \\\"IIT Madras\\\" Madras\")"
      ],
      "metadata": {
        "colab": {
          "base_uri": "https://localhost:8080/"
        },
        "id": "KZ09qwTZjlmi",
        "outputId": "cd255280-bde1-4e67-c4ec-317888a6bbc6"
      },
      "execution_count": null,
      "outputs": [
        {
          "output_type": "stream",
          "name": "stdout",
          "text": [
            "it's a beautiful day\n",
            "we are from \"IIT Madras\" Madras\n"
          ]
        }
      ]
    },
    {
      "cell_type": "code",
      "source": [
        "print('hi i\\'m \\t praveen')"
      ],
      "metadata": {
        "colab": {
          "base_uri": "https://localhost:8080/"
        },
        "id": "wfWG3DRElg25",
        "outputId": "efd167ae-86e6-4736-b42b-a675c2485bad"
      },
      "execution_count": null,
      "outputs": [
        {
          "output_type": "stream",
          "name": "stdout",
          "text": [
            "hi i'm \t praveen\n"
          ]
        }
      ]
    },
    {
      "cell_type": "code",
      "source": [
        "print(\"a for apple.\\nb for banana.\\nc for cat.\\nd for dog\")"
      ],
      "metadata": {
        "colab": {
          "base_uri": "https://localhost:8080/"
        },
        "id": "KyZI5W8QmPyH",
        "outputId": "5523d7c2-9d31-4d2f-eb51-523ca773ce7a"
      },
      "execution_count": null,
      "outputs": [
        {
          "output_type": "stream",
          "name": "stdout",
          "text": [
            "a for apple.\n",
            "b for banana.\n",
            "c for cat.\n",
            "d for dog\n"
          ]
        }
      ]
    },
    {
      "cell_type": "code",
      "source": [
        "# do the following operations\n",
        "\n",
        "x=\"PytHON StRIng METhodS\"\n",
        "\n",
        "# convert the string in lower case\n",
        "print(x.lower())\n",
        "\n",
        "# convert the string in Upper case\n",
        "print(x.upper())\n",
        "\n",
        "# convert the first character to upper case\n",
        "print(x.capitalize())\n",
        "\n",
        "# convert first character of each word to upper case\n",
        "print(x.title())\n",
        "\n",
        "# swap the case of the string\n",
        "print(x.swapcase())"
      ],
      "metadata": {
        "colab": {
          "base_uri": "https://localhost:8080/"
        },
        "id": "eqlMpn5rmrcV",
        "outputId": "e83358c2-efe1-4d7d-8774-e01c8e0f9fc7"
      },
      "execution_count": null,
      "outputs": [
        {
          "output_type": "stream",
          "name": "stdout",
          "text": [
            "python string methods\n",
            "PYTHON STRING METHODS\n",
            "Python string methods\n",
            "Python String Methods\n",
            "pYThon sTriNG metHODs\n"
          ]
        }
      ]
    },
    {
      "cell_type": "code",
      "source": [
        "x=\"      python       \"\n",
        "\n",
        "# remove all the white spaces in the string from both side\n",
        "\n",
        "print(x.strip())\n",
        "\n",
        "# remove all the white spaces in the string from right side\n",
        "\n",
        "print(x.rstrip())\n",
        "\n",
        "\n",
        "# remove all the white spaces in the string from left side\n",
        "print(x.lstrip())\n"
      ],
      "metadata": {
        "colab": {
          "base_uri": "https://localhost:8080/"
        },
        "id": "MUU0QEWdnTjF",
        "outputId": "8564873d-8be1-4ff4-a27e-002a1445c0d2"
      },
      "execution_count": null,
      "outputs": [
        {
          "output_type": "stream",
          "name": "stdout",
          "text": [
            "python\n",
            "      python\n",
            "python       \n"
          ]
        }
      ]
    },
    {
      "cell_type": "code",
      "source": [
        "# check if all the  character in the string are digits\n",
        "x=\"123\"\n",
        "y=\"abc123\"\n",
        "print(x.isdigit())\n",
        "print(y.isdigit())\n",
        "\n",
        "# check if all the character in the string are alphabets\n",
        "a=\"abc\"\n",
        "b=\"123abc\"\n",
        "print(a.isalpha())\n",
        "print(a.isalpha())\n",
        "\n",
        "\n",
        "# check if all the characters are alpha-numeric\n",
        "m=\"abc123\"\n",
        "n=\"ab@*#123\"\n",
        "print(m.isalnum())\n",
        "print(n.isalnum())"
      ],
      "metadata": {
        "colab": {
          "base_uri": "https://localhost:8080/"
        },
        "id": "-LLzkEtFnbvF",
        "outputId": "a91bab3c-c33a-4ce1-ae1f-e129a94b855e"
      },
      "execution_count": null,
      "outputs": [
        {
          "output_type": "stream",
          "name": "stdout",
          "text": [
            "True\n",
            "False\n",
            "True\n",
            "True\n",
            "True\n",
            "False\n"
          ]
        }
      ]
    },
    {
      "cell_type": "code",
      "source": [
        "x=input()\n",
        "# print true is all characters are lower case\n",
        "print(x.islower())\n",
        "# print True if all the characters are upper case\n",
        "print(x.isupper())\n",
        "# print True if the string follows the rules of title (all the words have starting letter in capital)\n",
        "print(x.istitle())"
      ],
      "metadata": {
        "colab": {
          "base_uri": "https://localhost:8080/"
        },
        "id": "dWfyCLxXneTz",
        "outputId": "50bb9c1b-2d67-402c-e16d-46244af07f53"
      },
      "execution_count": null,
      "outputs": [
        {
          "output_type": "stream",
          "name": "stdout",
          "text": [
            "iiii\n",
            "True\n",
            "False\n",
            "False\n"
          ]
        }
      ]
    },
    {
      "cell_type": "code",
      "source": [
        "# print True if the input string starts with I and ends with N\n",
        "\n",
        "x=input()\n",
        "\n",
        "print(x.startswith('I' ),x.endswith('N'))"
      ],
      "metadata": {
        "colab": {
          "base_uri": "https://localhost:8080/"
        },
        "id": "eSO94mQCniey",
        "outputId": "0a25bea7-1bed-4ddc-fc39-7a04522b9959"
      },
      "execution_count": null,
      "outputs": [
        {
          "output_type": "stream",
          "name": "stdout",
          "text": [
            "input\n",
            "False False\n"
          ]
        }
      ]
    },
    {
      "cell_type": "code",
      "source": [
        "x=\"i am gokul and i live in sathyamangalam\"\n",
        "\n",
        "# print the number of times \"a\" is present in the string\n",
        "print(x.count(\"a\"))"
      ],
      "metadata": {
        "colab": {
          "base_uri": "https://localhost:8080/"
        },
        "id": "Lhuw6c3bn9Xe",
        "outputId": "cdcbaafb-7709-4945-bf73-6b6131d120d9"
      },
      "execution_count": null,
      "outputs": [
        {
          "output_type": "stream",
          "name": "stdout",
          "text": [
            "7\n"
          ]
        }
      ]
    },
    {
      "cell_type": "code",
      "source": [
        "print(\"Python String Methods\".index('o'))"
      ],
      "metadata": {
        "colab": {
          "base_uri": "https://localhost:8080/"
        },
        "id": "17w1gVGHoDdJ",
        "outputId": "1fd8ad33-3d80-4c1f-9935-6a9bc20fda49"
      },
      "execution_count": null,
      "outputs": [
        {
          "output_type": "stream",
          "name": "stdout",
          "text": [
            "4\n"
          ]
        }
      ]
    },
    {
      "cell_type": "code",
      "source": [
        "print(\"Python String Methods\".index('0'))"
      ],
      "metadata": {
        "colab": {
          "base_uri": "https://localhost:8080/",
          "height": 141
        },
        "id": "w_ECtZ6AoJOJ",
        "outputId": "dc5bd43f-165a-4c87-b2e7-ff8244952a41"
      },
      "execution_count": null,
      "outputs": [
        {
          "output_type": "error",
          "ename": "ValueError",
          "evalue": "substring not found",
          "traceback": [
            "\u001b[0;31m---------------------------------------------------------------------------\u001b[0m",
            "\u001b[0;31mValueError\u001b[0m                                Traceback (most recent call last)",
            "\u001b[0;32m<ipython-input-97-c327ccb2c444>\u001b[0m in \u001b[0;36m<cell line: 0>\u001b[0;34m()\u001b[0m\n\u001b[0;32m----> 1\u001b[0;31m \u001b[0mprint\u001b[0m\u001b[0;34m(\u001b[0m\u001b[0;34m\"Python String Methods\"\u001b[0m\u001b[0;34m.\u001b[0m\u001b[0mindex\u001b[0m\u001b[0;34m(\u001b[0m\u001b[0;34m'0'\u001b[0m\u001b[0;34m)\u001b[0m\u001b[0;34m)\u001b[0m\u001b[0;34m\u001b[0m\u001b[0;34m\u001b[0m\u001b[0m\n\u001b[0m",
            "\u001b[0;31mValueError\u001b[0m: substring not found"
          ]
        }
      ]
    },
    {
      "cell_type": "code",
      "source": [
        "# replace all the occurence of 'py' with 'python' in the given string\n",
        "\n",
        "x=\"python is a programming language. python is easy to learn.I love pykkara false\"\n",
        "print(x.replace('py','python'))"
      ],
      "metadata": {
        "colab": {
          "base_uri": "https://localhost:8080/"
        },
        "id": "gT-zE_SUoLxO",
        "outputId": "4ff722b8-971a-47c9-d645-2055ec59d139"
      },
      "execution_count": null,
      "outputs": [
        {
          "output_type": "stream",
          "name": "stdout",
          "text": [
            "pythonthon is a programming language. pythonthon is easy to learn.I love pythonkkara false\n"
          ]
        }
      ]
    },
    {
      "cell_type": "code",
      "source": [
        "# predict the output\n",
        "\n",
        "x=\"python is a programming  language. python is easy to learn.I love pykkara false\"\n",
        "\n",
        "print(x.index(\"python\",10))\n",
        "print(x.index(\"python\",0,10))\n",
        "# print(x.index(\"python\",10,20))"
      ],
      "metadata": {
        "colab": {
          "base_uri": "https://localhost:8080/"
        },
        "id": "t8dIQW27oQV9",
        "outputId": "c37fc316-7e74-4cf2-e165-cefaffb93428"
      },
      "execution_count": null,
      "outputs": [
        {
          "output_type": "stream",
          "name": "stdout",
          "text": [
            "35\n",
            "0\n"
          ]
        }
      ]
    },
    {
      "cell_type": "code",
      "source": [
        "x=\"abcdefghijklmnopqrstuvwxyz\"\n",
        "i=8\n",
        "print(x[i])\n",
        "print(x[-i])\n",
        "print(x[(i+26)%26])"
      ],
      "metadata": {
        "colab": {
          "base_uri": "https://localhost:8080/"
        },
        "id": "lEnvz9UH3V7y",
        "outputId": "0fb4ce58-8a4b-4f87-f57c-520c38526c4f"
      },
      "execution_count": null,
      "outputs": [
        {
          "output_type": "stream",
          "name": "stdout",
          "text": [
            "i\n",
            "s\n",
            "i\n"
          ]
        }
      ]
    },
    {
      "cell_type": "markdown",
      "source": [
        "write a python script for the below test case,\n",
        "Note the input will be of 5 characters long,\n",
        "\n",
        "\n",
        "testcase 1\n",
        "'''\n",
        "INPUT : 'gokul'\n",
        "OUTPUT : 'hplvm'\n",
        "'''\n",
        "\n",
        "testcase 2\n",
        "'''\n",
        "INPUT: 'abcde'\n",
        "OUTPUT: 'bcdef'\n",
        "'''"
      ],
      "metadata": {
        "id": "gTPuSLrO32_h"
      }
    },
    {
      "cell_type": "code",
      "source": [
        "alphabets='abcdefghijklmnopqrstuvwxyz'"
      ],
      "metadata": {
        "id": "wjzmjc0k71P3"
      },
      "execution_count": null,
      "outputs": []
    },
    {
      "cell_type": "code",
      "source": [
        "inpu='abcde'\n",
        "i=0\n",
        "b=''\n",
        "k=1\n",
        "b=b+alphabets[alphabets.index(inpu[i])+k]\n",
        "b=b+alphabets[alphabets.index(inpu[i+1])+k]\n",
        "b=b+alphabets[alphabets.index(inpu[i+2])+k]\n",
        "b=b+alphabets[alphabets.index(inpu[i+3])+k]\n",
        "b=b+alphabets[alphabets.index(inpu[i+4])+k]\n",
        "print(b)"
      ],
      "metadata": {
        "colab": {
          "base_uri": "https://localhost:8080/"
        },
        "id": "0H5rmkSb_loO",
        "outputId": "f20cd318-b997-43e9-bb32-05947d852226"
      },
      "execution_count": null,
      "outputs": [
        {
          "output_type": "stream",
          "name": "stdout",
          "text": [
            "bcdef\n"
          ]
        }
      ]
    },
    {
      "cell_type": "code",
      "source": [
        "s='gokul'\n",
        "alphabets.index(s[0])"
      ],
      "metadata": {
        "colab": {
          "base_uri": "https://localhost:8080/"
        },
        "id": "-fRP891OBRbP",
        "outputId": "84247f79-844c-4cb1-91de-9bbf31404096"
      },
      "execution_count": null,
      "outputs": [
        {
          "output_type": "execute_result",
          "data": {
            "text/plain": [
              "6"
            ]
          },
          "metadata": {},
          "execution_count": 13
        }
      ]
    },
    {
      "cell_type": "code",
      "source": [
        "a=15\n",
        "print(a**0.5)"
      ],
      "metadata": {
        "colab": {
          "base_uri": "https://localhost:8080/"
        },
        "id": "x7TOAqIKogxH",
        "outputId": "d65b28df-2ffd-4251-9788-8ab1d3b5707e"
      },
      "execution_count": null,
      "outputs": [
        {
          "output_type": "stream",
          "name": "stdout",
          "text": [
            "3.872983346207417\n"
          ]
        }
      ]
    },
    {
      "cell_type": "code",
      "source": [
        "a=int(input(\"num :\"))\n",
        "print(type(a))\n",
        "\n",
        "b=a**0.5\n",
        "print(type(b))\n",
        "\n",
        "if(b**2==a):\n",
        "  print(True)\n",
        "else:\n",
        "  print(False)"
      ],
      "metadata": {
        "colab": {
          "base_uri": "https://localhost:8080/"
        },
        "id": "RZAzRcxb-pT3",
        "outputId": "9dcb2195-8e69-401c-925b-fb4439175fd7"
      },
      "execution_count": null,
      "outputs": [
        {
          "output_type": "stream",
          "name": "stdout",
          "text": [
            "num :67\n",
            "<class 'int'>\n",
            "<class 'float'>\n",
            "True\n"
          ]
        }
      ]
    },
    {
      "cell_type": "code",
      "source": [
        "67**0.5"
      ],
      "metadata": {
        "colab": {
          "base_uri": "https://localhost:8080/"
        },
        "id": "vbRESTb4JsOg",
        "outputId": "46875957-2f4f-43c3-9f96-a0076c31df3a"
      },
      "execution_count": null,
      "outputs": [
        {
          "output_type": "execute_result",
          "data": {
            "text/plain": [
              "8.18535277187245"
            ]
          },
          "metadata": {},
          "execution_count": 111
        }
      ]
    },
    {
      "cell_type": "code",
      "source": [
        "type(8.18535277187245**2)"
      ],
      "metadata": {
        "colab": {
          "base_uri": "https://localhost:8080/"
        },
        "id": "KwKdKIR-K1r2",
        "outputId": "4d6ebc9c-d689-4931-bb7f-8daed6a33dec"
      },
      "execution_count": null,
      "outputs": [
        {
          "output_type": "execute_result",
          "data": {
            "text/plain": [
              "float"
            ]
          },
          "metadata": {},
          "execution_count": 113
        }
      ]
    },
    {
      "cell_type": "code",
      "source": [
        "type(0.5)"
      ],
      "metadata": {
        "colab": {
          "base_uri": "https://localhost:8080/"
        },
        "id": "NupsOnSkLGor",
        "outputId": "25be7302-4139-42f4-e740-2f94f92584d6"
      },
      "execution_count": null,
      "outputs": [
        {
          "output_type": "execute_result",
          "data": {
            "text/plain": [
              "float"
            ]
          },
          "metadata": {},
          "execution_count": 114
        }
      ]
    },
    {
      "cell_type": "code",
      "source": [
        "# int/str'abcd'/float 4.0"
      ],
      "metadata": {
        "id": "fYZRYPVGL7xo"
      },
      "execution_count": null,
      "outputs": []
    },
    {
      "cell_type": "markdown",
      "source": [
        " write a python code , for the following test cases\n",
        "\n",
        " testcase 1\n",
        "'''\n",
        "INPUT: 'a'\n",
        "OUTPUT: 1\n",
        "'''\n",
        "\n",
        "testcase 2\n",
        "'''\n",
        "INPUT:'b'\n",
        "OUTPUT: 2\n",
        "'''\n",
        "\n",
        " testcase 3\n",
        "'''\n",
        "INPUT:'y'\n",
        "OUTPUT: 25\n",
        "'''"
      ],
      "metadata": {
        "id": "04QfQ4HMBgKP"
      }
    },
    {
      "cell_type": "code",
      "source": [
        "alphabets='abcdefghijklmnopqrstuvwxyz'\n",
        "i=input()\n",
        "alphabets.index(i)+1"
      ],
      "metadata": {
        "colab": {
          "base_uri": "https://localhost:8080/"
        },
        "id": "-9enj-Fu_XDT",
        "outputId": "189b96e4-378c-42cf-d595-3c2be01bef70"
      },
      "execution_count": null,
      "outputs": [
        {
          "name": "stdout",
          "output_type": "stream",
          "text": [
            "y\n"
          ]
        },
        {
          "output_type": "execute_result",
          "data": {
            "text/plain": [
              "25"
            ]
          },
          "metadata": {},
          "execution_count": 5
        }
      ]
    },
    {
      "cell_type": "markdown",
      "source": [
        "write a python code where you will take an input number k and a string s.\n",
        " you have to move the string by k characters to the right\n",
        "\n",
        "TestCase 1\n",
        "'''\n",
        "INPUT:\n",
        "    s='abcdefg'\n",
        "    k=2\n",
        "\n",
        "OUTPUT: 'cdefghi`\n",
        "'''\n",
        "\n",
        "TestCase 2\n",
        "'''\n",
        "INPUT:\n",
        "    s='chennai'\n",
        "    k=20\n",
        "OUTPUT:\n",
        "    'wbyhhuc'\n",
        "'''"
      ],
      "metadata": {
        "id": "Mzpk6sqFEk1_"
      }
    },
    {
      "cell_type": "code",
      "source": [
        "alphabets='abcdefghijklmnopqrstuvwxyz'\n",
        "s='chennai'\n",
        "k=20\n",
        "i=0\n",
        "b=''\n",
        "b=b+alphabets[(alphabets.index(s[i])+k)%26]\n",
        "b=b+alphabets[(alphabets.index(s[i+1])+k)%26]\n",
        "b=b+alphabets[(alphabets.index(s[i+2])+k)%26]\n",
        "b=b+alphabets[(alphabets.index(s[i+3])+k)%26]\n",
        "b=b+alphabets[(alphabets.index(s[i+4])+k)%26]\n",
        "b=b+alphabets[(alphabets.index(s[i+5])+k)%26]\n",
        "b=b+alphabets[(alphabets.index(s[i+6])+k)%26]\n",
        "\n",
        "print(b)\n"
      ],
      "metadata": {
        "colab": {
          "base_uri": "https://localhost:8080/"
        },
        "id": "Kfk0xjQBCWqQ",
        "outputId": "3da6f93d-2aab-4149-c2f7-2506001a95b0"
      },
      "execution_count": null,
      "outputs": [
        {
          "output_type": "stream",
          "name": "stdout",
          "text": [
            "wbyhhuc\n"
          ]
        }
      ]
    },
    {
      "cell_type": "markdown",
      "source": [
        "take year of birth (YOB) as input,\n",
        "print the current age of the person and also print if the person is eligible to vote or not\n",
        "HINT : subtract current year from YOB"
      ],
      "metadata": {
        "id": "rVbguS_NWCgx"
      }
    },
    {
      "cell_type": "code",
      "source": [
        "dob=int(input(\"Enter your dob: \"))\n",
        "curr_age=(2025-dob)\n",
        "print(\"Your current age is\",curr_age)\n",
        "if curr_age >=18:\n",
        "  print('you\\'re eligible for vote')\n",
        "else:\n",
        "  print(\"You aren't eligible for vote\")"
      ],
      "metadata": {
        "colab": {
          "base_uri": "https://localhost:8080/"
        },
        "id": "wVC1XLRuF9JL",
        "outputId": "deaabe8c-b181-4a39-c484-0d0457c05eab"
      },
      "execution_count": null,
      "outputs": [
        {
          "output_type": "stream",
          "name": "stdout",
          "text": [
            "Enter your dob: 2003\n",
            "Your current age is 22\n",
            "you're eligible for vote\n"
          ]
        }
      ]
    },
    {
      "cell_type": "markdown",
      "source": [
        "find whether the given number is even or odd"
      ],
      "metadata": {
        "id": "HY4DsUNnXxtA"
      }
    },
    {
      "cell_type": "code",
      "source": [
        "a=int(input(\"num :\"))\n",
        "if(a%2==0):\n",
        "  print('even')\n",
        "else:\n",
        "  print(\"odd\")"
      ],
      "metadata": {
        "colab": {
          "base_uri": "https://localhost:8080/"
        },
        "id": "D3_uptTwWjWc",
        "outputId": "3f72f2df-093f-49d8-cc7f-e65ef8582827"
      },
      "execution_count": null,
      "outputs": [
        {
          "output_type": "stream",
          "name": "stdout",
          "text": [
            "num :5\n",
            "odd\n"
          ]
        }
      ]
    },
    {
      "cell_type": "markdown",
      "source": [
        "find whether given no ends with 0 or 5 or any other number"
      ],
      "metadata": {
        "id": "xOKEH3vjYGxM"
      }
    },
    {
      "cell_type": "code",
      "source": [
        "a=int(input(\"num :\"))\n",
        "if (a%5==0 and a%10==0):\n",
        "  print(0)\n",
        "elif(a%5==0):\n",
        "  print(5)\n",
        "else:\n",
        "  print('other')\n"
      ],
      "metadata": {
        "colab": {
          "base_uri": "https://localhost:8080/"
        },
        "id": "fw_M6BGfX91p",
        "outputId": "17db433c-bac2-4aa0-df24-c62eb9fadd65"
      },
      "execution_count": null,
      "outputs": [
        {
          "output_type": "stream",
          "name": "stdout",
          "text": [
            "num :14\n",
            "other\n"
          ]
        }
      ]
    },
    {
      "cell_type": "markdown",
      "source": [
        "how to find the value of log(x) in\n",
        "python, where x is a positive number,\n",
        " answer=2.30...."
      ],
      "metadata": {
        "id": "BIjDG___Zs4V"
      }
    },
    {
      "cell_type": "code",
      "source": [
        "import math\n",
        "a=math.log(10)\n",
        "print(a)"
      ],
      "metadata": {
        "colab": {
          "base_uri": "https://localhost:8080/"
        },
        "id": "p8xmkCwGYuDU",
        "outputId": "a26ada6b-6d82-4a0a-e614-2f069cd7061e"
      },
      "execution_count": null,
      "outputs": [
        {
          "output_type": "stream",
          "name": "stdout",
          "text": [
            "2.302585092994046\n"
          ]
        }
      ]
    },
    {
      "cell_type": "markdown",
      "source": [
        " find the sine value of x,\n",
        " where x=45, answer= 0.85...."
      ],
      "metadata": {
        "id": "S0YNIO2qaAZL"
      }
    },
    {
      "cell_type": "code",
      "source": [
        "import math\n",
        "x=45\n",
        "print(math.sin(x))"
      ],
      "metadata": {
        "colab": {
          "base_uri": "https://localhost:8080/"
        },
        "id": "DCTKAX_oZ5qJ",
        "outputId": "d35a48c7-6b59-4e82-b4c9-3b36d4af80cb"
      },
      "execution_count": null,
      "outputs": [
        {
          "output_type": "stream",
          "name": "stdout",
          "text": [
            "0.8509035245341184\n"
          ]
        }
      ]
    },
    {
      "cell_type": "markdown",
      "source": [
        "find square root of 10,\n",
        "find which one is wrong"
      ],
      "metadata": {
        "id": "duf4snh9aRwi"
      }
    },
    {
      "cell_type": "code",
      "source": [
        "z=10\n",
        "a=z**0.5\n",
        "print (a)\n",
        "b=math.sqrt(z)\n",
        "print(b)"
      ],
      "metadata": {
        "colab": {
          "base_uri": "https://localhost:8080/"
        },
        "id": "YpBZ9R3FaKKi",
        "outputId": "cb39a469-4f43-4cc7-afd4-73e46bff2722"
      },
      "execution_count": null,
      "outputs": [
        {
          "output_type": "stream",
          "name": "stdout",
          "text": [
            "3.1622776601683795\n",
            "3.1622776601683795\n"
          ]
        }
      ]
    },
    {
      "cell_type": "code",
      "source": [
        "math.factorial(5)"
      ],
      "metadata": {
        "colab": {
          "base_uri": "https://localhost:8080/"
        },
        "id": "BkrXhWwnac2P",
        "outputId": "8356a967-70eb-4db2-d5cf-6d6869bed00e"
      },
      "execution_count": null,
      "outputs": [
        {
          "output_type": "execute_result",
          "data": {
            "text/plain": [
              "120"
            ]
          },
          "metadata": {},
          "execution_count": 16
        }
      ]
    },
    {
      "cell_type": "markdown",
      "source": [
        " take x,y as input,\n",
        "find   x to the power y"
      ],
      "metadata": {
        "id": "dOyzS26lavSP"
      }
    },
    {
      "cell_type": "code",
      "source": [
        "x=10\n",
        "y=2\n",
        "math.pow(x,y)"
      ],
      "metadata": {
        "colab": {
          "base_uri": "https://localhost:8080/"
        },
        "id": "TDCBpoKFarzJ",
        "outputId": "a366d40b-312e-4339-f665-9a29ac026512"
      },
      "execution_count": null,
      "outputs": [
        {
          "output_type": "execute_result",
          "data": {
            "text/plain": [
              "100.0"
            ]
          },
          "metadata": {},
          "execution_count": 18
        }
      ]
    },
    {
      "cell_type": "markdown",
      "source": [
        "print a random number\n",
        "between 0 to 1 using\n",
        "random library\n"
      ],
      "metadata": {
        "id": "bwgiGfWza-SH"
      }
    },
    {
      "cell_type": "code",
      "source": [
        "import random"
      ],
      "metadata": {
        "id": "eqpvBmAQa0Na"
      },
      "execution_count": null,
      "outputs": []
    },
    {
      "cell_type": "code",
      "source": [
        "a=random.random()\n",
        "a"
      ],
      "metadata": {
        "colab": {
          "base_uri": "https://localhost:8080/"
        },
        "id": "FTZq3T8TbFkb",
        "outputId": "ecfd1194-080b-4680-dd3e-6ace851486a9"
      },
      "execution_count": null,
      "outputs": [
        {
          "output_type": "execute_result",
          "data": {
            "text/plain": [
              "0.7193481399369689"
            ]
          },
          "metadata": {},
          "execution_count": 31
        }
      ]
    },
    {
      "cell_type": "markdown",
      "source": [
        "week 2 official questions"
      ],
      "metadata": {
        "id": "yxqEWY54bn0f"
      }
    },
    {
      "cell_type": "code",
      "source": [
        "a=1\n",
        "print(type(a))\n",
        "a=1.0\n",
        "print(type(a))\n",
        "a='1'\n",
        "print(type(a))"
      ],
      "metadata": {
        "id": "3midBtJhbJLf",
        "colab": {
          "base_uri": "https://localhost:8080/"
        },
        "outputId": "f0635683-f61e-445b-b612-10dcb25b1d93"
      },
      "execution_count": null,
      "outputs": [
        {
          "output_type": "stream",
          "name": "stdout",
          "text": [
            "<class 'int'>\n",
            "<class 'float'>\n",
            "<class 'str'>\n"
          ]
        }
      ]
    },
    {
      "cell_type": "code",
      "source": [
        "x,y,z=3,4,5\n",
        "x,y,z=x**2,y**2,z**2\n",
        "# 9+16==25 true\n",
        "print(x+y==z)"
      ],
      "metadata": {
        "colab": {
          "base_uri": "https://localhost:8080/"
        },
        "id": "06ZIDPd7CABd",
        "outputId": "6fc867bb-f480-4f86-83e6-5a457649c26b"
      },
      "execution_count": null,
      "outputs": [
        {
          "output_type": "stream",
          "name": "stdout",
          "text": [
            "True\n"
          ]
        }
      ]
    },
    {
      "cell_type": "code",
      "source": [
        "good_variable=10\n",
        "a_=1\n",
        "_a=2\n",
        "1_a=10\n",
        "is=10\n",
        "bad variable=100"
      ],
      "metadata": {
        "colab": {
          "base_uri": "https://localhost:8080/",
          "height": 106
        },
        "id": "qVFK0l_lCpRs",
        "outputId": "e8ef418c-a3b0-4a22-b0a7-e09e9c22c36c"
      },
      "execution_count": null,
      "outputs": [
        {
          "output_type": "error",
          "ename": "SyntaxError",
          "evalue": "invalid decimal literal (<ipython-input-4-7c082cce5e68>, line 4)",
          "traceback": [
            "\u001b[0;36m  File \u001b[0;32m\"<ipython-input-4-7c082cce5e68>\"\u001b[0;36m, line \u001b[0;32m4\u001b[0m\n\u001b[0;31m    1_a=10\u001b[0m\n\u001b[0m     ^\u001b[0m\n\u001b[0;31mSyntaxError\u001b[0m\u001b[0;31m:\u001b[0m invalid decimal literal\n"
          ]
        }
      ]
    },
    {
      "cell_type": "code",
      "source": [
        "x,y=1,2\n",
        "print(x,y)\n",
        "x,y=y,x\n",
        "print(x,y)"
      ],
      "metadata": {
        "colab": {
          "base_uri": "https://localhost:8080/"
        },
        "id": "YbZLv8QsC4R8",
        "outputId": "adae9780-ab87-4663-c437-f886647e093b"
      },
      "execution_count": null,
      "outputs": [
        {
          "output_type": "stream",
          "name": "stdout",
          "text": [
            "1 2\n",
            "2 1\n"
          ]
        }
      ]
    },
    {
      "cell_type": "code",
      "source": [
        "if True:\n",
        "  print('first')\n",
        "else:\n",
        "  print('second')"
      ],
      "metadata": {
        "colab": {
          "base_uri": "https://localhost:8080/"
        },
        "id": "qUBbNsf-DHxG",
        "outputId": "e98a14b4-5140-46ac-ede5-6bea5eecc4b8"
      },
      "execution_count": null,
      "outputs": [
        {
          "output_type": "stream",
          "name": "stdout",
          "text": [
            "first\n"
          ]
        }
      ]
    },
    {
      "cell_type": "code",
      "source": [
        "x=True\n",
        "if x== True:\n",
        "  print('works')\n"
      ],
      "metadata": {
        "colab": {
          "base_uri": "https://localhost:8080/"
        },
        "id": "my5WN1qxEe0I",
        "outputId": "2670f373-fe06-4f0b-a012-8b6359d319ca"
      },
      "execution_count": null,
      "outputs": [
        {
          "output_type": "stream",
          "name": "stdout",
          "text": [
            "works\n"
          ]
        }
      ]
    },
    {
      "cell_type": "code",
      "source": [
        "x=True\n",
        "if x:\n",
        "  print('works')"
      ],
      "metadata": {
        "colab": {
          "base_uri": "https://localhost:8080/"
        },
        "id": "30m5S5U4Ev1i",
        "outputId": "490f4477-6cd4-4483-9e4c-30decb263f21"
      },
      "execution_count": null,
      "outputs": [
        {
          "output_type": "stream",
          "name": "stdout",
          "text": [
            "works\n"
          ]
        }
      ]
    },
    {
      "cell_type": "code",
      "source": [
        "# find no which multiple of 10 and multiple of 5 and others\n",
        "x=int(input())\n",
        "if (x%10==0 and x%5==0):\n",
        "  print(\"Multiple of 10 and 5\")\n",
        "elif(x%5==0):\n",
        "  print('multiple of 5')\n",
        "else:\n",
        "  print('others')"
      ],
      "metadata": {
        "colab": {
          "base_uri": "https://localhost:8080/"
        },
        "id": "WxZF6L5sE3Pu",
        "outputId": "ba70498f-cf37-445c-b143-3f95fccdc925"
      },
      "execution_count": null,
      "outputs": [
        {
          "output_type": "stream",
          "name": "stdout",
          "text": [
            "10\n",
            "Multiple of 10\n"
          ]
        }
      ]
    },
    {
      "cell_type": "code",
      "source": [
        "# find leap year or not\n",
        "year=int(input())\n",
        "if year % 400 == 0:\n",
        "  print('Leap Year')\n",
        "elif year % 4 == 0 and year % 100 !=0:\n",
        "  print('Leap year')\n",
        "else:\n",
        "  print('Not Leap Year')"
      ],
      "metadata": {
        "colab": {
          "base_uri": "https://localhost:8080/"
        },
        "id": "Q94pfQCxFteG",
        "outputId": "13312d2c-94b4-4ed3-bd9a-f382b63c040b"
      },
      "execution_count": null,
      "outputs": [
        {
          "output_type": "stream",
          "name": "stdout",
          "text": [
            "1900\n",
            "Not Leap Year\n"
          ]
        }
      ]
    },
    {
      "cell_type": "code",
      "source": [
        "a=int(input(\"Print last number in wordings: \"))\n",
        "x=str(a)\n",
        "print(x)\n",
        "print(type(x))\n",
        "print(x[-1])\n",
        "if x[-1] == '0':\n",
        "  print('zero')\n",
        "elif x[-1]=='1':\n",
        "  print('one')\n",
        "elif x[-1]=='2':\n",
        "  print('two')\n",
        "elif x[-1]=='3':\n",
        "  print('three')\n",
        "elif x[-1]=='4':\n",
        "  print('four')\n",
        "elif x[-1]=='5':\n",
        "  print('five')\n",
        "elif x[-1]=='6':\n",
        "  print('six')\n",
        "elif x[-1]=='7':\n",
        "  print('seven')\n",
        "elif x[-1]=='8':\n",
        "  print('eight')\n",
        "else:\n",
        "  print('nine')"
      ],
      "metadata": {
        "colab": {
          "base_uri": "https://localhost:8080/"
        },
        "id": "pAIjhFi0Gaqu",
        "outputId": "9679f22d-8734-4b33-d770-8f62d92c2da3"
      },
      "execution_count": null,
      "outputs": [
        {
          "output_type": "stream",
          "name": "stdout",
          "text": [
            "Print last number in wordings: 7431\n",
            "7431\n",
            "<class 'str'>\n",
            "1\n",
            "one\n"
          ]
        }
      ]
    },
    {
      "cell_type": "code",
      "source": [
        "x='1234'\n",
        "print(x[-1])"
      ],
      "metadata": {
        "colab": {
          "base_uri": "https://localhost:8080/"
        },
        "id": "9mPsz-ivIh68",
        "outputId": "eef27a79-5442-4a99-be96-e209ed0d284c"
      },
      "execution_count": null,
      "outputs": [
        {
          "output_type": "stream",
          "name": "stdout",
          "text": [
            "4\n"
          ]
        }
      ]
    },
    {
      "cell_type": "code",
      "source": [
        "#find equlateral,scalene,isoceles in triangle\n",
        "a=int(input(\"side 1 length \"))\n",
        "b=int(input(\"side 2 length \"))\n",
        "c=int(input(\"side 3 length \"))\n",
        "if a==b==c:\n",
        "  print(\"equilateral\")\n",
        "elif (a==b) or (b==c) or (c==a):\n",
        "  print(\"isoceles\")\n",
        "else:\n",
        "  print('scalene')\n"
      ],
      "metadata": {
        "colab": {
          "base_uri": "https://localhost:8080/"
        },
        "id": "vziNhQVkJm-W",
        "outputId": "fdebd7c3-89df-45ea-85b4-69e283cb1f1a"
      },
      "execution_count": null,
      "outputs": [
        {
          "output_type": "stream",
          "name": "stdout",
          "text": [
            "side 1 length 7\n",
            "side 2 length 8\n",
            "side 3 length 0\n",
            "scalene\n"
          ]
        }
      ]
    },
    {
      "cell_type": "code",
      "source": [
        "a=int(input(\"side 1 length \"))\n",
        "b=int(input(\"side 2 length \"))\n",
        "c=int(input(\"side 3 length \"))\n",
        "# if a==b+c or b==a+c or c==a+b:\n",
        "if (a+b-c==0) or (b+c-a==0) or (c+a-b==0):\n",
        "  print(\"good triplet\")\n",
        "else:\n",
        "  print(\"bad triplet\")"
      ],
      "metadata": {
        "colab": {
          "base_uri": "https://localhost:8080/"
        },
        "id": "wHG5T9DdLjIB",
        "outputId": "da67068a-5ef0-45ba-96fe-0445cda20183"
      },
      "execution_count": null,
      "outputs": [
        {
          "output_type": "stream",
          "name": "stdout",
          "text": [
            "side 1 length 3\n",
            "side 2 length 1\n",
            "side 3 length 1\n",
            "bad triplet\n"
          ]
        }
      ]
    },
    {
      "cell_type": "code",
      "source": [
        "a=int(input(\"side 1 length \"))\n",
        "b=int(input(\"side 2 length \"))\n",
        "c=int(input(\"side 3 length \"))\n",
        "if(a+b<=c) or (b+c<=a) or(c+a<=b):\n",
        "  print(False)\n",
        "else:\n",
        "  print(True)"
      ],
      "metadata": {
        "colab": {
          "base_uri": "https://localhost:8080/"
        },
        "id": "UqhQFJm2MC2G",
        "outputId": "8bb9ab34-24a9-4d20-8800-e063fca7fda6"
      },
      "execution_count": null,
      "outputs": [
        {
          "output_type": "stream",
          "name": "stdout",
          "text": [
            "side 1 length 2\n",
            "side 2 length 3\n",
            "side 3 length 2\n",
            "True\n"
          ]
        }
      ]
    },
    {
      "cell_type": "code",
      "source": [
        "a,b,c,d=int(input()),int(input()),int(input()),int(input())\n",
        "if(a<=b<=c<=d):\n",
        "  print(\"ascending Order\")\n",
        "else:\n",
        "  print(\"not in ascending order\")"
      ],
      "metadata": {
        "colab": {
          "base_uri": "https://localhost:8080/"
        },
        "id": "OHMkC24JNhDW",
        "outputId": "fe022b86-ae33-489d-839b-e512a19788ec"
      },
      "execution_count": null,
      "outputs": [
        {
          "output_type": "stream",
          "name": "stdout",
          "text": [
            "4\n",
            "3\n",
            "6\n",
            "2\n",
            "not in ascending order\n"
          ]
        }
      ]
    },
    {
      "cell_type": "code",
      "source": [
        "import calendar"
      ],
      "metadata": {
        "id": "haZJUtBpN7SX"
      },
      "execution_count": null,
      "outputs": []
    },
    {
      "cell_type": "code",
      "source": [
        "a=calendar.weekday(int(input(\"Year: \")),int(input(\"Month: \")),int(input(\"Day: \")))\n",
        "if a==0:\n",
        "  print('Monday')\n",
        "elif a==1:\n",
        "  print(\"Tuesday\")\n",
        "elif a==2:\n",
        "  print('wednesday')\n",
        "elif a==3:\n",
        "  print('Thursday')\n",
        "elif a==4:\n",
        "  print('Friday')\n",
        "elif a==5:\n",
        "  print('Saturday')\n",
        "else:\n",
        "  print('Sunday')"
      ],
      "metadata": {
        "colab": {
          "base_uri": "https://localhost:8080/"
        },
        "id": "gu8W2mrvOLtq",
        "outputId": "702e2b82-deb3-4984-e6a3-0c0b0dd54fa9"
      },
      "execution_count": null,
      "outputs": [
        {
          "output_type": "stream",
          "name": "stdout",
          "text": [
            "Year: 1999\n",
            "Month: 1\n",
            "Day: 27\n",
            "wednesday\n"
          ]
        }
      ]
    },
    {
      "cell_type": "markdown",
      "source": [
        "Find sandwich numbers ex ; 123/853 (1st - 3rd no -- 2nd\n"
      ],
      "metadata": {
        "id": "-Xyu1lCBjfXD"
      }
    },
    {
      "cell_type": "code",
      "source": [
        "a=input()\n",
        "first,second,last=int(a[0]),int(a[1]),int(a[2])\n",
        "if abs(first-last)==second:\n",
        "  print(\"sandwich\")\n",
        "else:\n",
        "  print(\"not sandwich\")"
      ],
      "metadata": {
        "id": "FKrfS4m0OS4E",
        "colab": {
          "base_uri": "https://localhost:8080/"
        },
        "outputId": "fe7fa048-f8d4-42a4-8343-11dd785606b6"
      },
      "execution_count": null,
      "outputs": [
        {
          "output_type": "stream",
          "name": "stdout",
          "text": [
            "333\n",
            "not sandwich\n"
          ]
        }
      ]
    },
    {
      "cell_type": "code",
      "source": [
        "msg=\"txt me when u receive this msg.\"\n",
        "msg=msg.replace('txt','text')\n",
        "msg=msg.replace('u','you')\n",
        "msg=msg.replace('msg','message')\n",
        "print(msg)"
      ],
      "metadata": {
        "colab": {
          "base_uri": "https://localhost:8080/"
        },
        "id": "R2X-ogJ6kShV",
        "outputId": "76ac1b4b-ae89-4777-b3c5-fa426e1d55ca"
      },
      "execution_count": null,
      "outputs": [
        {
          "output_type": "stream",
          "name": "stdout",
          "text": [
            "text me when you receive this message.\n"
          ]
        }
      ]
    },
    {
      "cell_type": "code",
      "source": [
        "a=input(\"give me a sentence: \")\n",
        "print(a.count(' ')+1)"
      ],
      "metadata": {
        "colab": {
          "base_uri": "https://localhost:8080/"
        },
        "id": "gRc3o7X9kz1f",
        "outputId": "0b79c0f9-8c44-424a-eb87-437ff433e7c6"
      },
      "execution_count": null,
      "outputs": [
        {
          "output_type": "stream",
          "name": "stdout",
          "text": [
            "give me a sentence: this sentence is not true\n",
            "5\n"
          ]
        }
      ]
    },
    {
      "cell_type": "code",
      "source": [
        "a=input(\"give me a paragraph: \")\n",
        "print(a.count('.'))"
      ],
      "metadata": {
        "colab": {
          "base_uri": "https://localhost:8080/"
        },
        "id": "LyhwMmXkluAN",
        "outputId": "2df07c64-366c-468c-b955-3d559a1834e0"
      },
      "execution_count": null,
      "outputs": [
        {
          "output_type": "stream",
          "name": "stdout",
          "text": [
            "give me a paragraph: this is a char. it is red in color.\n",
            "2\n"
          ]
        }
      ]
    },
    {
      "cell_type": "code",
      "source": [
        "a=input(\"give me a phone no: \")\n",
        "b=a.replace('O','0')\n",
        "print(int(b))"
      ],
      "metadata": {
        "colab": {
          "base_uri": "https://localhost:8080/"
        },
        "id": "e3Hwrwd1mPPd",
        "outputId": "1cad3707-0ce5-4e61-c0ee-eca05ab71efe"
      },
      "execution_count": null,
      "outputs": [
        {
          "output_type": "stream",
          "name": "stdout",
          "text": [
            "give me a phone no: 85249O2324\n",
            "8524902324\n"
          ]
        }
      ]
    },
    {
      "cell_type": "code",
      "source": [
        "a=3**100\n",
        "b=str(a)\n",
        "print(b.count('0'))"
      ],
      "metadata": {
        "colab": {
          "base_uri": "https://localhost:8080/"
        },
        "id": "eKa2I0Simuq6",
        "outputId": "e02fcfb6-62cb-46d9-dc38-abe1ed699714"
      },
      "execution_count": null,
      "outputs": [
        {
          "output_type": "stream",
          "name": "stdout",
          "text": [
            "7\n"
          ]
        }
      ]
    },
    {
      "cell_type": "code",
      "source": [
        "lines = '''one\n",
        "two\n",
        "three\n",
        "'''\n",
        "print('\\n' in lines)\n",
        "print(lines.count('\\n'))"
      ],
      "metadata": {
        "colab": {
          "base_uri": "https://localhost:8080/"
        },
        "id": "pF4CRDnGnOhE",
        "outputId": "6fdf5a71-9384-4d67-9737-9d9c4d93dcd6"
      },
      "execution_count": null,
      "outputs": [
        {
          "output_type": "stream",
          "name": "stdout",
          "text": [
            "True\n",
            "3\n"
          ]
        }
      ]
    },
    {
      "cell_type": "code",
      "source": [
        "import math"
      ],
      "metadata": {
        "id": "42d8I-UpntOf"
      },
      "execution_count": null,
      "outputs": []
    },
    {
      "cell_type": "code",
      "source": [
        "x=float(input())\n",
        "sigmoid=1.0/(1+math.exp(-x))\n",
        "print(sigmoid)"
      ],
      "metadata": {
        "colab": {
          "base_uri": "https://localhost:8080/"
        },
        "id": "VNrU0BA2n4mq",
        "outputId": "9dc1b452-1c77-4b8b-f426-d885a8673953"
      },
      "execution_count": null,
      "outputs": [
        {
          "output_type": "stream",
          "name": "stdout",
          "text": [
            "3\n",
            "0.9525741268224334\n"
          ]
        }
      ]
    },
    {
      "cell_type": "code",
      "source": [
        "# diff between find and index\n",
        "a='this is a trial'\n",
        "print(a.find('iss'))\n",
        "# print(a.index('iss'))"
      ],
      "metadata": {
        "colab": {
          "base_uri": "https://localhost:8080/"
        },
        "id": "tSh58TxfoOFC",
        "outputId": "276022c2-b15e-4ecb-b7d5-7a482d6224ab"
      },
      "execution_count": null,
      "outputs": [
        {
          "output_type": "stream",
          "name": "stdout",
          "text": [
            "-1\n"
          ]
        }
      ]
    },
    {
      "cell_type": "code",
      "source": [
        "print(a.index('iss'))"
      ],
      "metadata": {
        "colab": {
          "base_uri": "https://localhost:8080/",
          "height": 141
        },
        "id": "Dn65aqZModgi",
        "outputId": "8352eedd-d962-4566-febe-dc2cbe489a3f"
      },
      "execution_count": null,
      "outputs": [
        {
          "output_type": "error",
          "ename": "ValueError",
          "evalue": "substring not found",
          "traceback": [
            "\u001b[0;31m---------------------------------------------------------------------------\u001b[0m",
            "\u001b[0;31mValueError\u001b[0m                                Traceback (most recent call last)",
            "\u001b[0;32m<ipython-input-32-6aeae296e5b2>\u001b[0m in \u001b[0;36m<cell line: 0>\u001b[0;34m()\u001b[0m\n\u001b[0;32m----> 1\u001b[0;31m \u001b[0mprint\u001b[0m\u001b[0;34m(\u001b[0m\u001b[0ma\u001b[0m\u001b[0;34m.\u001b[0m\u001b[0mindex\u001b[0m\u001b[0;34m(\u001b[0m\u001b[0;34m'iss'\u001b[0m\u001b[0;34m)\u001b[0m\u001b[0;34m)\u001b[0m\u001b[0;34m\u001b[0m\u001b[0;34m\u001b[0m\u001b[0m\n\u001b[0m",
            "\u001b[0;31mValueError\u001b[0m: substring not found"
          ]
        }
      ]
    },
    {
      "cell_type": "code",
      "source": [
        "import random"
      ],
      "metadata": {
        "id": "CfmbW3t9oufG"
      },
      "execution_count": null,
      "outputs": []
    },
    {
      "cell_type": "code",
      "source": [
        "a='HT'\n",
        "b=random.choice(a)\n",
        "print(b)"
      ],
      "metadata": {
        "colab": {
          "base_uri": "https://localhost:8080/"
        },
        "id": "mkvJARnOo--_",
        "outputId": "f5dec70f-c6fa-4508-fd5e-3a85729c8d62"
      },
      "execution_count": null,
      "outputs": [
        {
          "output_type": "stream",
          "name": "stdout",
          "text": [
            "T\n"
          ]
        }
      ]
    },
    {
      "cell_type": "code",
      "source": [
        "start,end=input(),input()\n",
        "positions='ABCDEFGH'\n",
        "start_hori,start_vert=positions.index(start[0]),int(start[1])\n",
        "end_hori,end_vert=positions.index(end[0]),int(end[1])\n",
        "if abs(start_hori-end_hori)== abs(start_vert-end_vert):\n",
        "  print('yes')\n",
        "else:\n",
        "  print('no')"
      ],
      "metadata": {
        "colab": {
          "base_uri": "https://localhost:8080/",
          "height": 245
        },
        "id": "xY-7jir8pGVL",
        "outputId": "9f9c6be6-11e4-41d0-f84e-7b504abd6474"
      },
      "execution_count": null,
      "outputs": [
        {
          "name": "stdout",
          "output_type": "stream",
          "text": [
            "1\n",
            "3\n"
          ]
        },
        {
          "output_type": "error",
          "ename": "ValueError",
          "evalue": "substring not found",
          "traceback": [
            "\u001b[0;31m---------------------------------------------------------------------------\u001b[0m",
            "\u001b[0;31mValueError\u001b[0m                                Traceback (most recent call last)",
            "\u001b[0;32m<ipython-input-43-80d0e387bcf3>\u001b[0m in \u001b[0;36m<cell line: 0>\u001b[0;34m()\u001b[0m\n\u001b[1;32m      1\u001b[0m \u001b[0mstart\u001b[0m\u001b[0;34m,\u001b[0m\u001b[0mend\u001b[0m\u001b[0;34m=\u001b[0m\u001b[0minput\u001b[0m\u001b[0;34m(\u001b[0m\u001b[0;34m)\u001b[0m\u001b[0;34m,\u001b[0m\u001b[0minput\u001b[0m\u001b[0;34m(\u001b[0m\u001b[0;34m)\u001b[0m\u001b[0;34m\u001b[0m\u001b[0;34m\u001b[0m\u001b[0m\n\u001b[1;32m      2\u001b[0m \u001b[0mpositions\u001b[0m\u001b[0;34m=\u001b[0m\u001b[0;34m'ABCDEFGH'\u001b[0m\u001b[0;34m\u001b[0m\u001b[0;34m\u001b[0m\u001b[0m\n\u001b[0;32m----> 3\u001b[0;31m \u001b[0mstart_hori\u001b[0m\u001b[0;34m,\u001b[0m\u001b[0mstart_vert\u001b[0m\u001b[0;34m=\u001b[0m\u001b[0mpositions\u001b[0m\u001b[0;34m.\u001b[0m\u001b[0mindex\u001b[0m\u001b[0;34m(\u001b[0m\u001b[0mstart\u001b[0m\u001b[0;34m[\u001b[0m\u001b[0;36m0\u001b[0m\u001b[0;34m]\u001b[0m\u001b[0;34m)\u001b[0m\u001b[0;34m,\u001b[0m\u001b[0mint\u001b[0m\u001b[0;34m(\u001b[0m\u001b[0mstart\u001b[0m\u001b[0;34m[\u001b[0m\u001b[0;36m1\u001b[0m\u001b[0;34m]\u001b[0m\u001b[0;34m)\u001b[0m\u001b[0;34m\u001b[0m\u001b[0;34m\u001b[0m\u001b[0m\n\u001b[0m\u001b[1;32m      4\u001b[0m \u001b[0mend_hori\u001b[0m\u001b[0;34m,\u001b[0m\u001b[0mend_vert\u001b[0m\u001b[0;34m=\u001b[0m\u001b[0mpositions\u001b[0m\u001b[0;34m.\u001b[0m\u001b[0mindex\u001b[0m\u001b[0;34m(\u001b[0m\u001b[0mend\u001b[0m\u001b[0;34m[\u001b[0m\u001b[0;36m0\u001b[0m\u001b[0;34m]\u001b[0m\u001b[0;34m)\u001b[0m\u001b[0;34m,\u001b[0m\u001b[0mint\u001b[0m\u001b[0;34m(\u001b[0m\u001b[0mend\u001b[0m\u001b[0;34m[\u001b[0m\u001b[0;36m1\u001b[0m\u001b[0;34m]\u001b[0m\u001b[0;34m)\u001b[0m\u001b[0;34m\u001b[0m\u001b[0;34m\u001b[0m\u001b[0m\n\u001b[1;32m      5\u001b[0m \u001b[0;32mif\u001b[0m \u001b[0mabs\u001b[0m\u001b[0;34m(\u001b[0m\u001b[0mstart_hori\u001b[0m\u001b[0;34m-\u001b[0m\u001b[0mend_hori\u001b[0m\u001b[0;34m)\u001b[0m\u001b[0;34m==\u001b[0m \u001b[0mabs\u001b[0m\u001b[0;34m(\u001b[0m\u001b[0mstart_vert\u001b[0m\u001b[0;34m-\u001b[0m\u001b[0mend_vert\u001b[0m\u001b[0;34m)\u001b[0m\u001b[0;34m:\u001b[0m\u001b[0;34m\u001b[0m\u001b[0;34m\u001b[0m\u001b[0m\n",
            "\u001b[0;31mValueError\u001b[0m: substring not found"
          ]
        }
      ]
    },
    {
      "cell_type": "code",
      "source": [
        "n=int(input())\n",
        "if n!=0:\n",
        "  if n%2==0:\n",
        "    print(\"yes\")\n",
        "  else:\n",
        "    print(\"no\")\n",
        "else:\n",
        "  print(\"enter positive numbers\")"
      ],
      "metadata": {
        "id": "0_hRNuAerb-O",
        "colab": {
          "base_uri": "https://localhost:8080/"
        },
        "outputId": "2b3c0ce0-7582-4786-dd22-5c3224b7a3fc"
      },
      "execution_count": 4,
      "outputs": [
        {
          "output_type": "stream",
          "name": "stdout",
          "text": [
            "5\n",
            "no\n"
          ]
        }
      ]
    },
    {
      "cell_type": "code",
      "source": [
        "results=input()\n",
        "print(\"your results were\",results)\n",
        "no_of_matches=len(results)\n",
        "print(\"no_of matches was\",no_of_matches)\n",
        "win_no=results.count('w')\n",
        "print(\"No of victories\",win_no)\n",
        "if results.find('www') != -1:\n",
        "  print(\"It has three winning streaks\")\n",
        "else:\n",
        "  print(\"don't have three winnning streaks\")\n",
        "\n",
        "first_win=results.find('w')\n",
        "if first_win == -1:\n",
        "  print(\"Hasn't won a match\")\n",
        "else:\n",
        "  print(\"first win at \",first_win+1)"
      ],
      "metadata": {
        "colab": {
          "base_uri": "https://localhost:8080/"
        },
        "id": "bNxIgHVVEaOR",
        "outputId": "a7745331-84c0-483c-fa41-bcc1a0f3675e"
      },
      "execution_count": 6,
      "outputs": [
        {
          "output_type": "stream",
          "name": "stdout",
          "text": [
            "wwwlw\n",
            "your results were wwwlw\n",
            "no_of matches was 5\n",
            "No of victories 4\n",
            "It has three winning streaks\n",
            "It's first win was 0\n",
            "first win at  1\n"
          ]
        }
      ]
    },
    {
      "cell_type": "code",
      "source": [
        "alphabets='abcdefghijklmnopqrstuvwxyz'\n",
        "i=0\n",
        "k=1\n",
        "print(alphabets[i+k])"
      ],
      "metadata": {
        "colab": {
          "base_uri": "https://localhost:8080/"
        },
        "id": "f3w5prhGG9u0",
        "outputId": "ad9a42b7-5d3b-4f1d-ee0f-98608422acfe"
      },
      "execution_count": 14,
      "outputs": [
        {
          "output_type": "stream",
          "name": "stdout",
          "text": [
            "b\n"
          ]
        }
      ]
    },
    {
      "cell_type": "code",
      "source": [
        "name=input()\n",
        "if name.isalpha():\n",
        "  print(\"valid\")\n",
        "else:\n",
        "  print(\"Invalid\")"
      ],
      "metadata": {
        "colab": {
          "base_uri": "https://localhost:8080/"
        },
        "id": "9YVRLPI4IGhp",
        "outputId": "7ec81555-8cb8-4c91-e814-12caea200fda"
      },
      "execution_count": 17,
      "outputs": [
        {
          "output_type": "stream",
          "name": "stdout",
          "text": [
            "gdy%\n",
            "Invalid\n"
          ]
        }
      ]
    },
    {
      "cell_type": "markdown",
      "source": [
        "week 2 GA"
      ],
      "metadata": {
        "id": "qrEZbGjnK1rG"
      }
    },
    {
      "cell_type": "code",
      "source": [
        "a,b,c,d=input()"
      ],
      "metadata": {
        "colab": {
          "base_uri": "https://localhost:8080/"
        },
        "id": "mrDBcsAMJYCm",
        "outputId": "fe89bcd2-ecbc-417b-97ed-85e8c664c889"
      },
      "execution_count": 18,
      "outputs": [
        {
          "name": "stdout",
          "output_type": "stream",
          "text": [
            "1234\n"
          ]
        }
      ]
    },
    {
      "cell_type": "code",
      "source": [
        "print(b)"
      ],
      "metadata": {
        "colab": {
          "base_uri": "https://localhost:8080/"
        },
        "id": "mr1bT6nOKjFX",
        "outputId": "2c7cddb2-c3be-43dc-8747-9ba1bf7aa353"
      },
      "execution_count": 20,
      "outputs": [
        {
          "output_type": "stream",
          "name": "stdout",
          "text": [
            "2\n"
          ]
        }
      ]
    },
    {
      "cell_type": "code",
      "source": [
        "x=bool(False)"
      ],
      "metadata": {
        "id": "1OCbfUVCKlT8"
      },
      "execution_count": 21,
      "outputs": []
    },
    {
      "cell_type": "code",
      "source": [
        "print(x)"
      ],
      "metadata": {
        "colab": {
          "base_uri": "https://localhost:8080/"
        },
        "id": "R-uQSc_WLP8y",
        "outputId": "f4b6a390-11ee-448e-d3ec-d302f001c5be"
      },
      "execution_count": 22,
      "outputs": [
        {
          "output_type": "stream",
          "name": "stdout",
          "text": [
            "False\n"
          ]
        }
      ]
    }
  ]
}