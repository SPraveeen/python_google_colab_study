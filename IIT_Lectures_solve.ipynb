{
  "nbformat": 4,
  "nbformat_minor": 0,
  "metadata": {
    "colab": {
      "provenance": [],
      "authorship_tag": "ABX9TyPNIqAvnH8tnQsKl01A5n9y",
      "include_colab_link": true
    },
    "kernelspec": {
      "name": "python3",
      "display_name": "Python 3"
    },
    "language_info": {
      "name": "python"
    }
  },
  "cells": [
    {
      "cell_type": "markdown",
      "metadata": {
        "id": "view-in-github",
        "colab_type": "text"
      },
      "source": [
        "<a href=\"https://colab.research.google.com/github/SPraveeen/python_google_colab_study/blob/main/IIT_Lectures_solve.ipynb\" target=\"_parent\"><img src=\"https://colab.research.google.com/assets/colab-badge.svg\" alt=\"Open In Colab\"/></a>"
      ]
    },
    {
      "cell_type": "code",
      "execution_count": null,
      "metadata": {
        "id": "_YMHtyabf0Rp",
        "colab": {
          "base_uri": "https://localhost:8080/"
        },
        "outputId": "163a3c35-7959-413f-9e72-c8399761a21e"
      },
      "outputs": [
        {
          "output_type": "stream",
          "name": "stdout",
          "text": [
            "hello world\n"
          ]
        }
      ],
      "source": [
        "print(\"hello\",\"world\")"
      ]
    },
    {
      "cell_type": "code",
      "source": [
        "print(\"hel\",,,\"eorld\")"
      ],
      "metadata": {
        "colab": {
          "base_uri": "https://localhost:8080/",
          "height": 106
        },
        "id": "xaNba4iNqOet",
        "outputId": "5c803a1d-c204-4b46-c0b1-c6bffd9e6672"
      },
      "execution_count": null,
      "outputs": [
        {
          "output_type": "error",
          "ename": "SyntaxError",
          "evalue": "invalid syntax (<ipython-input-2-e2a5baefc9ef>, line 1)",
          "traceback": [
            "\u001b[0;36m  File \u001b[0;32m\"<ipython-input-2-e2a5baefc9ef>\"\u001b[0;36m, line \u001b[0;32m1\u001b[0m\n\u001b[0;31m    print(\"hel\",,,\"eorld\")\u001b[0m\n\u001b[0m                ^\u001b[0m\n\u001b[0;31mSyntaxError\u001b[0m\u001b[0;31m:\u001b[0m invalid syntax\n"
          ]
        }
      ]
    },
    {
      "cell_type": "code",
      "source": [
        "print(\"hello\",\"world\",\"earth\")"
      ],
      "metadata": {
        "colab": {
          "base_uri": "https://localhost:8080/"
        },
        "id": "gdYwrb8FqR-R",
        "outputId": "64489750-3f54-48f4-bee1-76db9e0f505d"
      },
      "execution_count": null,
      "outputs": [
        {
          "output_type": "stream",
          "name": "stdout",
          "text": [
            "hello world earth\n"
          ]
        }
      ]
    },
    {
      "cell_type": "code",
      "source": [
        "print(\"hello\",12,24.5)"
      ],
      "metadata": {
        "colab": {
          "base_uri": "https://localhost:8080/"
        },
        "id": "WS2r1N2SqU7J",
        "outputId": "01b53e6d-f327-454c-e502-ce003df90865"
      },
      "execution_count": null,
      "outputs": [
        {
          "output_type": "stream",
          "name": "stdout",
          "text": [
            "hello 12 24.5\n"
          ]
        }
      ]
    },
    {
      "cell_type": "code",
      "source": [
        "print('hello')"
      ],
      "metadata": {
        "colab": {
          "base_uri": "https://localhost:8080/"
        },
        "id": "0LgKFB0YqXjn",
        "outputId": "8ded7fa8-534c-42a8-cfec-f096bf20e2f3"
      },
      "execution_count": null,
      "outputs": [
        {
          "output_type": "stream",
          "name": "stdout",
          "text": [
            "hello\n"
          ]
        }
      ]
    },
    {
      "cell_type": "code",
      "source": [
        "print['hello']"
      ],
      "metadata": {
        "colab": {
          "base_uri": "https://localhost:8080/",
          "height": 141
        },
        "id": "RcvTe7s2qZTH",
        "outputId": "3a27bed9-0f84-408d-a58e-291d91867437"
      },
      "execution_count": null,
      "outputs": [
        {
          "output_type": "error",
          "ename": "TypeError",
          "evalue": "'builtin_function_or_method' object is not subscriptable",
          "traceback": [
            "\u001b[0;31m---------------------------------------------------------------------------\u001b[0m",
            "\u001b[0;31mTypeError\u001b[0m                                 Traceback (most recent call last)",
            "\u001b[0;32m<ipython-input-6-5300111ac94f>\u001b[0m in \u001b[0;36m<cell line: 0>\u001b[0;34m()\u001b[0m\n\u001b[0;32m----> 1\u001b[0;31m \u001b[0mprint\u001b[0m\u001b[0;34m[\u001b[0m\u001b[0;34m'hello'\u001b[0m\u001b[0;34m]\u001b[0m\u001b[0;34m\u001b[0m\u001b[0;34m\u001b[0m\u001b[0m\n\u001b[0m",
            "\u001b[0;31mTypeError\u001b[0m: 'builtin_function_or_method' object is not subscriptable"
          ]
        }
      ]
    },
    {
      "cell_type": "code",
      "source": [
        "print(\"hello\")\n",
        "# print{\"hello\"}\n",
        "# print[\"hello\"]\n",
        "print<\"hello\">"
      ],
      "metadata": {
        "colab": {
          "base_uri": "https://localhost:8080/",
          "height": 106
        },
        "id": "hkX7jDHrqbu5",
        "outputId": "9844d625-d091-4c8b-f347-1dc5412a22e8"
      },
      "execution_count": null,
      "outputs": [
        {
          "output_type": "error",
          "ename": "SyntaxError",
          "evalue": "invalid syntax (<ipython-input-9-95e1b5041892>, line 4)",
          "traceback": [
            "\u001b[0;36m  File \u001b[0;32m\"<ipython-input-9-95e1b5041892>\"\u001b[0;36m, line \u001b[0;32m4\u001b[0m\n\u001b[0;31m    print<\"hello\">\u001b[0m\n\u001b[0m                  ^\u001b[0m\n\u001b[0;31mSyntaxError\u001b[0m\u001b[0;31m:\u001b[0m invalid syntax\n"
          ]
        }
      ]
    },
    {
      "cell_type": "markdown",
      "source": [
        "9) Write a python code that has the below output as it is\n",
        "```\n",
        "it's sunday\n",
        "he is \"The President\""
      ],
      "metadata": {
        "id": "fY6DN68yqnb4"
      }
    },
    {
      "cell_type": "code",
      "source": [
        "print(\"It's sunday, he is \\\"The President\\\"\")"
      ],
      "metadata": {
        "colab": {
          "base_uri": "https://localhost:8080/"
        },
        "id": "wZ6AMSF9qgUP",
        "outputId": "c60ead68-93cb-4a9f-a151-218f425d9f0c"
      },
      "execution_count": null,
      "outputs": [
        {
          "output_type": "stream",
          "name": "stdout",
          "text": [
            "It's sunday, he is \"The President\"\n"
          ]
        }
      ]
    },
    {
      "cell_type": "markdown",
      "source": [
        "10) Correct the mistake so that the output is as below\n",
        "```\n",
        "i'm from sathy\n",
        "my name is \"Gokul\"\n",
        "i like 'red' color\n",
        "```\n",
        "\n",
        "CODE :\n",
        "```\n",
        "print('I'm from sathy`)\n",
        "print('my name is \"Gokul')\n",
        "print('i like 'red' color')\n",
        "```"
      ],
      "metadata": {
        "id": "YnNOYi3BrDK5"
      }
    },
    {
      "cell_type": "code",
      "source": [
        "print(\"I'm from sathy\")\n",
        "print('my name is \"Gokul\"')\n",
        "print('i like \\'red\\' color')"
      ],
      "metadata": {
        "colab": {
          "base_uri": "https://localhost:8080/"
        },
        "id": "f9b43-sgq4pf",
        "outputId": "b4d78586-c5cf-4fd3-8afd-42c6f5bde96b"
      },
      "execution_count": null,
      "outputs": [
        {
          "output_type": "stream",
          "name": "stdout",
          "text": [
            "I'm from sathy\n",
            "my name is \"Gokul\"\n",
            "i like 'red' color\n"
          ]
        }
      ]
    },
    {
      "cell_type": "markdown",
      "source": [
        "9) Take an input from command line as \"GOKUL\" and store it in a variable 'a' , what will be the output?\n",
        "```\n",
        "LINE-1\n",
        "print(a*2)\n",
        "```"
      ],
      "metadata": {
        "id": "y6f-B_zNreC_"
      }
    },
    {
      "cell_type": "code",
      "source": [
        "n=input()\n",
        "print(n*2)"
      ],
      "metadata": {
        "colab": {
          "base_uri": "https://localhost:8080/"
        },
        "id": "-DLVEy_zrZ0k",
        "outputId": "cd8f1029-1e66-4b7d-92d7-4dc42331af21"
      },
      "execution_count": null,
      "outputs": [
        {
          "output_type": "stream",
          "name": "stdout",
          "text": [
            "gokuk\n",
            "gokukgokuk\n"
          ]
        }
      ]
    },
    {
      "cell_type": "markdown",
      "source": [
        "10) Replace LINE-1 and LINE-2, so that we take input from user,  a number as input form user and we should print the square of the number as output.\n",
        "```\n",
        "LINE-1\n",
        "LINE-2\n",
        "```"
      ],
      "metadata": {
        "id": "j1-ABAVHsB0W"
      }
    },
    {
      "cell_type": "code",
      "source": [
        "n=int(input())\n",
        "print(n**2)"
      ],
      "metadata": {
        "colab": {
          "base_uri": "https://localhost:8080/"
        },
        "id": "2Hx1gPXxr96g",
        "outputId": "a0aec3ca-db0a-478c-c895-b5e72f5eb545"
      },
      "execution_count": null,
      "outputs": [
        {
          "output_type": "stream",
          "name": "stdout",
          "text": [
            "2\n",
            "4\n"
          ]
        }
      ]
    },
    {
      "cell_type": "markdown",
      "source": [
        "1. what wil be the value of n at the end of execution\n",
        "    ```\n",
        "    n=str(input())\n",
        "    print(\"Which placre are you in?\")\n",
        "    n=str(input())\n",
        "    print(\"Hello\",n,\"How is the weather in ,n )\n",
        "    ```"
      ],
      "metadata": {
        "id": "lwLujPGItCUT"
      }
    },
    {
      "cell_type": "code",
      "source": [
        "n=str(input())\n",
        "print(\"Which placre are you in?\")\n",
        "n=str(input())\n",
        "print(f'\"Hello\",{n},\"How is the weather in ,{n}' )"
      ],
      "metadata": {
        "colab": {
          "base_uri": "https://localhost:8080/"
        },
        "id": "pBSHnQJAsG_7",
        "outputId": "25b809f8-b6dc-4ec0-c37f-25e01c93ca4b"
      },
      "execution_count": null,
      "outputs": [
        {
          "output_type": "stream",
          "name": "stdout",
          "text": [
            "gokul\n",
            "Which placre are you in?\n",
            "sathy\n",
            "\"Hello\",sathy,\"How is the weather in ,sathy\n"
          ]
        }
      ]
    },
    {
      "cell_type": "markdown",
      "source": [
        "1. Write a python code that takes side of a cube as input and prints volume of the cube as output."
      ],
      "metadata": {
        "id": "QaYkxi_OCbAj"
      }
    },
    {
      "cell_type": "code",
      "source": [
        "a=int(input())\n",
        "volume_cube=a**3\n",
        "print(volume_cube)"
      ],
      "metadata": {
        "id": "Wbm0L75-tEQa",
        "colab": {
          "base_uri": "https://localhost:8080/"
        },
        "outputId": "c0634a88-f6b0-4773-f233-5f81dec2707d"
      },
      "execution_count": null,
      "outputs": [
        {
          "output_type": "stream",
          "name": "stdout",
          "text": [
            "10\n",
            "1000\n"
          ]
        }
      ]
    },
    {
      "cell_type": "markdown",
      "source": [
        "write a python code that takes radius of circle as input and prints the area of the circle"
      ],
      "metadata": {
        "id": "ZgXqE2kSDHv0"
      }
    },
    {
      "cell_type": "code",
      "source": [
        "radius=int(input())\n",
        "a_circle=3.14*radius**2\n",
        "print(a_circle)"
      ],
      "metadata": {
        "colab": {
          "base_uri": "https://localhost:8080/"
        },
        "id": "GGZW_FMIC_Wh",
        "outputId": "779e1237-85cd-493a-83de-2fa42adba4fa"
      },
      "execution_count": null,
      "outputs": [
        {
          "output_type": "stream",
          "name": "stdout",
          "text": [
            "23\n",
            "1661.0600000000002\n"
          ]
        }
      ]
    },
    {
      "cell_type": "markdown",
      "source": [
        "1. what will be the output of below code?\n",
        "    ```\n",
        "    l=[10,20,30]\n",
        "    print(l[3])\n",
        "    print(l[2])\n",
        "    print(l[1])\n",
        "    print(l[0])\n",
        "    ```"
      ],
      "metadata": {
        "id": "6q1XhTZtDskt"
      }
    },
    {
      "cell_type": "code",
      "source": [
        "\n",
        "l=[10,20,30]\n",
        "# print(l[3])\n",
        "print(l[2])\n",
        "print(l[1])\n",
        "print(l[0])\n"
      ],
      "metadata": {
        "colab": {
          "base_uri": "https://localhost:8080/"
        },
        "id": "FtupAhhXDig5",
        "outputId": "330aac7d-aecb-4573-c994-156adc58c066"
      },
      "execution_count": null,
      "outputs": [
        {
          "output_type": "stream",
          "name": "stdout",
          "text": [
            "30\n",
            "20\n",
            "10\n"
          ]
        }
      ]
    },
    {
      "cell_type": "code",
      "source": [
        "print(l[3])"
      ],
      "metadata": {
        "colab": {
          "base_uri": "https://localhost:8080/",
          "height": 141
        },
        "id": "-8knSRZIDzLT",
        "outputId": "3a545846-feeb-469a-8f77-04fe4a243268"
      },
      "execution_count": null,
      "outputs": [
        {
          "output_type": "error",
          "ename": "IndexError",
          "evalue": "list index out of range",
          "traceback": [
            "\u001b[0;31m---------------------------------------------------------------------------\u001b[0m",
            "\u001b[0;31mIndexError\u001b[0m                                Traceback (most recent call last)",
            "\u001b[0;32m<ipython-input-5-3cd715d2711a>\u001b[0m in \u001b[0;36m<cell line: 0>\u001b[0;34m()\u001b[0m\n\u001b[0;32m----> 1\u001b[0;31m \u001b[0mprint\u001b[0m\u001b[0;34m(\u001b[0m\u001b[0ml\u001b[0m\u001b[0;34m[\u001b[0m\u001b[0;36m3\u001b[0m\u001b[0;34m]\u001b[0m\u001b[0;34m)\u001b[0m\u001b[0;34m\u001b[0m\u001b[0;34m\u001b[0m\u001b[0m\n\u001b[0m",
            "\u001b[0;31mIndexError\u001b[0m: list index out of range"
          ]
        }
      ]
    },
    {
      "cell_type": "code",
      "source": [
        "l=[10,20,30]\n",
        "print(type(l))\n",
        "print(l[2])\n",
        "print(type(l[2]))"
      ],
      "metadata": {
        "colab": {
          "base_uri": "https://localhost:8080/"
        },
        "id": "7YN8q1v1D19q",
        "outputId": "14718333-3f28-47be-ab2d-7a3985e9cad6"
      },
      "execution_count": null,
      "outputs": [
        {
          "output_type": "stream",
          "name": "stdout",
          "text": [
            "<class 'list'>\n",
            "30\n",
            "<class 'int'>\n"
          ]
        }
      ]
    },
    {
      "cell_type": "code",
      "source": [
        "x=True\n",
        "y=False\n",
        "print(type(x))\n",
        "print(type(y))"
      ],
      "metadata": {
        "colab": {
          "base_uri": "https://localhost:8080/"
        },
        "id": "4dk4BvT3D7Me",
        "outputId": "5a63fbd2-bfc5-40c8-e977-a76a282e35f7"
      },
      "execution_count": null,
      "outputs": [
        {
          "output_type": "stream",
          "name": "stdout",
          "text": [
            "<class 'bool'>\n",
            "<class 'bool'>\n"
          ]
        }
      ]
    },
    {
      "cell_type": "code",
      "source": [
        "a=int(5.7)\n",
        "b=int('10')\n",
        "c=int(\"212\")\n",
        "d=float(\"1.2\")\n",
        "# e=int(\"1.2\")\n",
        "print(a)\n",
        "print(b)\n",
        "print(c)\n",
        "print(d)\n",
        "# print(e)"
      ],
      "metadata": {
        "colab": {
          "base_uri": "https://localhost:8080/"
        },
        "id": "ye6H1Ew1EOs1",
        "outputId": "6faee620-6198-4971-d745-6112e1768675"
      },
      "execution_count": null,
      "outputs": [
        {
          "output_type": "stream",
          "name": "stdout",
          "text": [
            "5\n",
            "10\n",
            "212\n",
            "1.2\n"
          ]
        }
      ]
    },
    {
      "cell_type": "code",
      "source": [
        "a=5.7\n",
        "b=6\n",
        "c=0\n",
        "d=\"abc\"\n",
        "e=\"False\"\n",
        "f=\"\"\n",
        "g=-10\n",
        "h=0\n",
        "i=0.0\n",
        "j=\"0\"\n",
        "print(bool(a))\n",
        "print(bool(b))\n",
        "print(bool(c))\n",
        "print(bool(d))\n",
        "print(bool(e))\n",
        "print(bool(f))\n",
        "print(bool(g))\n",
        "print(bool(h))\n",
        "print(bool(i))\n",
        "print(bool(j))"
      ],
      "metadata": {
        "colab": {
          "base_uri": "https://localhost:8080/"
        },
        "id": "nwgg9zATEX8F",
        "outputId": "d7c7b5e2-f109-4501-ca66-f8d8e6dc9edf"
      },
      "execution_count": null,
      "outputs": [
        {
          "output_type": "stream",
          "name": "stdout",
          "text": [
            "True\n",
            "True\n",
            "False\n",
            "True\n",
            "True\n",
            "False\n",
            "True\n",
            "False\n",
            "False\n",
            "True\n"
          ]
        }
      ]
    },
    {
      "cell_type": "code",
      "source": [
        "a=\"gokul\"\n",
        "b=\"india\"\n",
        "c=a*b\n",
        "print(c)"
      ],
      "metadata": {
        "colab": {
          "base_uri": "https://localhost:8080/",
          "height": 193
        },
        "id": "3pMN2zAXEkPD",
        "outputId": "5f74f7c6-c8e6-42d0-e858-f0711444b7a8"
      },
      "execution_count": null,
      "outputs": [
        {
          "output_type": "error",
          "ename": "TypeError",
          "evalue": "can't multiply sequence by non-int of type 'str'",
          "traceback": [
            "\u001b[0;31m---------------------------------------------------------------------------\u001b[0m",
            "\u001b[0;31mTypeError\u001b[0m                                 Traceback (most recent call last)",
            "\u001b[0;32m<ipython-input-11-b397f7b3114d>\u001b[0m in \u001b[0;36m<cell line: 0>\u001b[0;34m()\u001b[0m\n\u001b[1;32m      1\u001b[0m \u001b[0ma\u001b[0m\u001b[0;34m=\u001b[0m\u001b[0;34m\"gokul\"\u001b[0m\u001b[0;34m\u001b[0m\u001b[0;34m\u001b[0m\u001b[0m\n\u001b[1;32m      2\u001b[0m \u001b[0mb\u001b[0m\u001b[0;34m=\u001b[0m\u001b[0;34m\"india\"\u001b[0m\u001b[0;34m\u001b[0m\u001b[0;34m\u001b[0m\u001b[0m\n\u001b[0;32m----> 3\u001b[0;31m \u001b[0mc\u001b[0m\u001b[0;34m=\u001b[0m\u001b[0ma\u001b[0m\u001b[0;34m*\u001b[0m\u001b[0mb\u001b[0m\u001b[0;34m\u001b[0m\u001b[0;34m\u001b[0m\u001b[0m\n\u001b[0m\u001b[1;32m      4\u001b[0m \u001b[0mprint\u001b[0m\u001b[0;34m(\u001b[0m\u001b[0mc\u001b[0m\u001b[0;34m)\u001b[0m\u001b[0;34m\u001b[0m\u001b[0;34m\u001b[0m\u001b[0m\n",
            "\u001b[0;31mTypeError\u001b[0m: can't multiply sequence by non-int of type 'str'"
          ]
        }
      ]
    },
    {
      "cell_type": "code",
      "source": [
        "a=[1,2,3]\n",
        "b=[4,5,6,7,8]\n",
        "c=a+b\n",
        "print(c)"
      ],
      "metadata": {
        "colab": {
          "base_uri": "https://localhost:8080/"
        },
        "id": "_bFaOnWhExqj",
        "outputId": "afa930ca-58e0-4be1-b07d-535f4ebea015"
      },
      "execution_count": null,
      "outputs": [
        {
          "output_type": "stream",
          "name": "stdout",
          "text": [
            "[1, 2, 3, 4, 5, 6, 7, 8]\n"
          ]
        }
      ]
    },
    {
      "cell_type": "code",
      "source": [
        "a=11\n",
        "b=15\n",
        "c=a/b\n",
        "print(c)"
      ],
      "metadata": {
        "colab": {
          "base_uri": "https://localhost:8080/"
        },
        "id": "MafkqQ4zE46H",
        "outputId": "73733273-5f5c-43ee-c83b-05e05166829b"
      },
      "execution_count": null,
      "outputs": [
        {
          "output_type": "stream",
          "name": "stdout",
          "text": [
            "0.7333333333333333\n"
          ]
        }
      ]
    },
    {
      "cell_type": "code",
      "source": [
        "l1=[7/3,7//3,7%3,7**3]\n",
        "print(l1)"
      ],
      "metadata": {
        "colab": {
          "base_uri": "https://localhost:8080/"
        },
        "id": "VoK7z_yUFAVz",
        "outputId": "bfd09edb-6503-44a8-cd57-5d914d688dd4"
      },
      "execution_count": null,
      "outputs": [
        {
          "output_type": "stream",
          "name": "stdout",
          "text": [
            "[2.3333333333333335, 2, 1, 343]\n"
          ]
        }
      ]
    },
    {
      "cell_type": "markdown",
      "source": [],
      "metadata": {
        "id": "AbeQgvFOHrhI"
      }
    },
    {
      "cell_type": "markdown",
      "source": [
        " Accept a positive integer as input and\n",
        " print True if it is a perfect square and False otherwise.\n",
        "For example, if the input is 25 , then you must print True . If the input is 15 , then you must print False\n",
        "doubt"
      ],
      "metadata": {
        "id": "O0njIMWUGO2r"
      }
    },
    {
      "cell_type": "code",
      "source": [
        "n=int(input())\n",
        "# 25\n",
        "sqrt_num=n**0.5\n",
        "# 5\n",
        "print(sqrt_num**2==n)\n",
        "# 25 == 25"
      ],
      "metadata": {
        "colab": {
          "base_uri": "https://localhost:8080/"
        },
        "id": "-I7272aWFIJ_",
        "outputId": "b6a14a92-0a70-4c36-ec99-e2e5e35908c1"
      },
      "execution_count": null,
      "outputs": [
        {
          "output_type": "stream",
          "name": "stdout",
          "text": [
            "5\n",
            "False\n"
          ]
        }
      ]
    },
    {
      "cell_type": "markdown",
      "source": [
        "  Accept a two digit number as input and print the sum of its digits. What about a three digit number"
      ],
      "metadata": {
        "id": "twMq6yf0H5JF"
      }
    },
    {
      "cell_type": "code",
      "source": [
        "n=int(input())\n",
        "print(n//10 + n%10)"
      ],
      "metadata": {
        "colab": {
          "base_uri": "https://localhost:8080/"
        },
        "id": "Xx3TRa5iHJci",
        "outputId": "6513a4d9-903f-4122-aacb-da86e81af5fb"
      },
      "execution_count": null,
      "outputs": [
        {
          "output_type": "stream",
          "name": "stdout",
          "text": [
            "25\n",
            "7\n"
          ]
        }
      ]
    },
    {
      "cell_type": "markdown",
      "source": [
        "What about a three digit number"
      ],
      "metadata": {
        "id": "jZtaYRbyJKzu"
      }
    },
    {
      "cell_type": "code",
      "source": [
        "n=int(input())\n",
        "print(n//100+((n//10)%10)+n%10)"
      ],
      "metadata": {
        "colab": {
          "base_uri": "https://localhost:8080/"
        },
        "id": "AjwDWqFgJET5",
        "outputId": "3dad5fbd-4318-4f21-f59a-f26fdf91863b"
      },
      "execution_count": null,
      "outputs": [
        {
          "output_type": "stream",
          "name": "stdout",
          "text": [
            "123\n",
            "6\n"
          ]
        }
      ]
    },
    {
      "cell_type": "code",
      "source": [
        "n=int(input())\n",
        "m=int(input())\n",
        "print(0<n<m<10)\n",
        "print(m-n==1)"
      ],
      "metadata": {
        "colab": {
          "base_uri": "https://localhost:8080/"
        },
        "id": "9P8ZlkIvJXAO",
        "outputId": "23845691-2b81-49bb-e014-fb286c8e690b"
      },
      "execution_count": null,
      "outputs": [
        {
          "output_type": "stream",
          "name": "stdout",
          "text": [
            "8\n",
            "9\n",
            "True\n",
            "True\n"
          ]
        }
      ]
    },
    {
      "cell_type": "markdown",
      "source": [
        "Accept the score of a student in an exam as input.\n",
        "Print True if the student has scored between 90 and 100 ,\n",
        "both endpoints included, and False otherwise. You can assume that the score is an integer."
      ],
      "metadata": {
        "id": "sQ_sHHedUsZK"
      }
    },
    {
      "cell_type": "code",
      "source": [
        "marks=int(input())\n",
        "print(90<=marks<=100)"
      ],
      "metadata": {
        "colab": {
          "base_uri": "https://localhost:8080/"
        },
        "id": "NJZ2oHWmLEbu",
        "outputId": "700e6d1a-6fc8-4dfc-fcde-9b8ce76e9250"
      },
      "execution_count": null,
      "outputs": [
        {
          "output_type": "stream",
          "name": "stdout",
          "text": [
            "90\n",
            "True\n"
          ]
        }
      ]
    },
    {
      "cell_type": "markdown",
      "source": [
        "g(x) is the smallest integer greater than or equal to the real number x.\n",
        "For example,  g(1.2) is  2 and  g(4.8) is\n",
        "5. Accept a positive real number\n",
        "x as input and print\n",
        "g(x)"
      ],
      "metadata": {
        "id": "krtx5BXyVLrs"
      }
    },
    {
      "cell_type": "code",
      "source": [
        "m=float(input())\n",
        "real_no=int(-((-m)//1))\n",
        "print(real_no)"
      ],
      "metadata": {
        "colab": {
          "base_uri": "https://localhost:8080/"
        },
        "id": "XpD2crmkU3_p",
        "outputId": "3518087e-69f8-4052-afc9-8986c9354fa9"
      },
      "execution_count": null,
      "outputs": [
        {
          "output_type": "stream",
          "name": "stdout",
          "text": [
            "1.2\n",
            "2\n"
          ]
        }
      ]
    },
    {
      "cell_type": "code",
      "source": [
        "a=-10.8\n",
        "b=10.8\n",
        "print(a//1)\n",
        "print(b//1)"
      ],
      "metadata": {
        "colab": {
          "base_uri": "https://localhost:8080/"
        },
        "id": "4YafCEyRVnx7",
        "outputId": "a246a97b-60dc-4297-dad1-27853898ab1e"
      },
      "execution_count": null,
      "outputs": [
        {
          "output_type": "stream",
          "name": "stdout",
          "text": [
            "-11.0\n",
            "10.0\n"
          ]
        }
      ]
    },
    {
      "cell_type": "markdown",
      "source": [
        "f(x) is the greatest integer less than or equal to the real number x. For example,\n",
        "𝑓(1.2)  is 1 and  f(4.8) is 4. Accept a positive real number  x as input and print f(x).\n",
        "Use the previous question as a hint."
      ],
      "metadata": {
        "id": "UY0tt313Ylui"
      }
    },
    {
      "cell_type": "code",
      "source": [
        "m=float(input())\n",
        "print(int(m))"
      ],
      "metadata": {
        "colab": {
          "base_uri": "https://localhost:8080/"
        },
        "id": "VAWdd4e_YUjf",
        "outputId": "ea6471fd-1c75-45fb-b5af-2e539e8aeeb3"
      },
      "execution_count": null,
      "outputs": [
        {
          "output_type": "stream",
          "name": "stdout",
          "text": [
            "4.8\n",
            "4\n"
          ]
        }
      ]
    },
    {
      "cell_type": "markdown",
      "source": [
        "Use Python as a calculator and find the square root of the number:12345678987654321."
      ],
      "metadata": {
        "id": "OVUEdM1MZbWS"
      }
    },
    {
      "cell_type": "code",
      "source": [
        "a=12345678987654321\n",
        "sq_rt=a**0.5\n",
        "print(sq_rt)"
      ],
      "metadata": {
        "colab": {
          "base_uri": "https://localhost:8080/"
        },
        "id": "3-jxwOoDY3rT",
        "outputId": "898f57b3-6dc2-4ba3-bcea-dea250ef9684"
      },
      "execution_count": null,
      "outputs": [
        {
          "output_type": "stream",
          "name": "stdout",
          "text": [
            "111111111.0\n"
          ]
        }
      ]
    },
    {
      "cell_type": "markdown",
      "source": [
        "Find the number of digits in 7 power 100\n",
        "  . Treat this as a programming question and not as a mathematical question.\n",
        " You should be able to do this using the concepts that you have learned so far."
      ],
      "metadata": {
        "id": "q05E7eLVZt6x"
      }
    },
    {
      "cell_type": "code",
      "source": [
        "a=7**100\n",
        "b=str(a)\n",
        "print(len(b))"
      ],
      "metadata": {
        "colab": {
          "base_uri": "https://localhost:8080/"
        },
        "id": "d8E8pVtyZjnN",
        "outputId": "ef657a37-49a2-4cff-e120-7c5df4f6e2f3"
      },
      "execution_count": null,
      "outputs": [
        {
          "output_type": "stream",
          "name": "stdout",
          "text": [
            "85\n"
          ]
        }
      ]
    },
    {
      "cell_type": "markdown",
      "source": [
        "Accept a word as input.\n",
        "Assume that all characters in the word are in lower case.\n",
        "Print True if the first and last letter of the word are the same, and False otherwise.\n",
        "You should be able to do this using the concepts introduced in this week.\n",
        "\n",
        "Conditional statements can be used.\n",
        "They will be introduced in the next week.\n",
        "But the challenge is to solve this problem without using conditional statements!\n",
        "As an interesting exercise, can you list down some words that follow this pattern?"
      ],
      "metadata": {
        "id": "_xynjrCmaA4R"
      }
    },
    {
      "cell_type": "code",
      "source": [
        "n=input()\n",
        "print(n[0]==n[-1])"
      ],
      "metadata": {
        "colab": {
          "base_uri": "https://localhost:8080/"
        },
        "id": "Q2BoibhrZ6Js",
        "outputId": "af0fce0d-ecac-4de0-ad03-22cb93318521"
      },
      "execution_count": null,
      "outputs": [
        {
          "output_type": "stream",
          "name": "stdout",
          "text": [
            "kosij\n",
            "False\n"
          ]
        }
      ]
    },
    {
      "cell_type": "markdown",
      "source": [
        "Accept a positive integer,\n",
        "x , as input from the user. Without using the * symbol anywhere in your code, print\n",
        "10 * 𝑥, i.e. the product of the integer input and the number 10."
      ],
      "metadata": {
        "id": "_moDE7m7aYHQ"
      }
    },
    {
      "cell_type": "code",
      "source": [
        "n=input()\n",
        "print(n+'0')"
      ],
      "metadata": {
        "colab": {
          "base_uri": "https://localhost:8080/"
        },
        "id": "hjMjoDNQaQb6",
        "outputId": "eaf90625-c082-4c7d-9924-78711d2ddd5a"
      },
      "execution_count": null,
      "outputs": [
        {
          "output_type": "stream",
          "name": "stdout",
          "text": [
            "10\n",
            "100\n"
          ]
        }
      ]
    },
    {
      "cell_type": "code",
      "source": [
        "a=1+4/2\n",
        "print(a)\n",
        "print(type(a))"
      ],
      "metadata": {
        "colab": {
          "base_uri": "https://localhost:8080/"
        },
        "id": "OhR5ojFFau45",
        "outputId": "4a61577e-110f-4881-de6d-f8959135aba3"
      },
      "execution_count": null,
      "outputs": [
        {
          "output_type": "stream",
          "name": "stdout",
          "text": [
            "3.0\n",
            "<class 'float'>\n"
          ]
        }
      ]
    },
    {
      "cell_type": "code",
      "source": [
        "print(1>0 and -1<0 and 1==1)"
      ],
      "metadata": {
        "colab": {
          "base_uri": "https://localhost:8080/"
        },
        "id": "Gf6y_eF3bpnP",
        "outputId": "dfd6868d-899c-4feb-c246-6c01c5fcdbb2"
      },
      "execution_count": null,
      "outputs": [
        {
          "output_type": "stream",
          "name": "stdout",
          "text": [
            "True\n"
          ]
        }
      ]
    },
    {
      "cell_type": "code",
      "source": [
        "print(1+3/4**2*0)"
      ],
      "metadata": {
        "colab": {
          "base_uri": "https://localhost:8080/"
        },
        "id": "-urftsBXbzMS",
        "outputId": "18a67327-cac4-4838-f54a-bb5577bc37e3"
      },
      "execution_count": null,
      "outputs": [
        {
          "output_type": "stream",
          "name": "stdout",
          "text": [
            "1.0\n"
          ]
        }
      ]
    },
    {
      "cell_type": "code",
      "source": [
        "print(10**3+9**3)\n",
        "print(12**3+1**3)"
      ],
      "metadata": {
        "colab": {
          "base_uri": "https://localhost:8080/"
        },
        "id": "K3z22Szjb9Z0",
        "outputId": "53f395c7-dec5-452c-f290-2f8fbbfad61d"
      },
      "execution_count": null,
      "outputs": [
        {
          "output_type": "stream",
          "name": "stdout",
          "text": [
            "1729\n",
            "1729\n"
          ]
        }
      ]
    },
    {
      "cell_type": "code",
      "source": [
        "e=bool\n",
        "e\n",
        "a=not e\n",
        "not not e\n",
        "print(a)"
      ],
      "metadata": {
        "colab": {
          "base_uri": "https://localhost:8080/"
        },
        "id": "3xSMy6QYcNlr",
        "outputId": "adbe1ca6-71e3-475c-e2fa-21dcb0d45274"
      },
      "execution_count": null,
      "outputs": [
        {
          "output_type": "stream",
          "name": "stdout",
          "text": [
            "False\n"
          ]
        }
      ]
    },
    {
      "cell_type": "code",
      "source": [
        "e1=bool\n",
        "e2=bool\n",
        "e3=not(e1 or e2)\n",
        "e4=(not e1 )and (not e2)\n",
        "print(e3)\n",
        "print(e4)\n",
        "print(e3==e4)"
      ],
      "metadata": {
        "colab": {
          "base_uri": "https://localhost:8080/"
        },
        "id": "jZoIWtkFcpfE",
        "outputId": "2f984969-d7bb-4833-e92d-d29ea631c1e9"
      },
      "execution_count": null,
      "outputs": [
        {
          "output_type": "stream",
          "name": "stdout",
          "text": [
            "False\n",
            "False\n",
            "True\n"
          ]
        }
      ]
    },
    {
      "cell_type": "code",
      "source": [
        "e1=bool\n",
        "e2=bool\n",
        "e1 and e2 and 1/0\n",
        "print(e2)"
      ],
      "metadata": {
        "colab": {
          "base_uri": "https://localhost:8080/",
          "height": 193
        },
        "id": "Jz5_rGvDdEUw",
        "outputId": "fcf82aeb-3203-4f8b-eda6-00e81559f07e"
      },
      "execution_count": null,
      "outputs": [
        {
          "output_type": "error",
          "ename": "ZeroDivisionError",
          "evalue": "division by zero",
          "traceback": [
            "\u001b[0;31m---------------------------------------------------------------------------\u001b[0m",
            "\u001b[0;31mZeroDivisionError\u001b[0m                         Traceback (most recent call last)",
            "\u001b[0;32m<ipython-input-63-d9cd10c42f3c>\u001b[0m in \u001b[0;36m<cell line: 0>\u001b[0;34m()\u001b[0m\n\u001b[1;32m      1\u001b[0m \u001b[0me1\u001b[0m\u001b[0;34m=\u001b[0m\u001b[0mbool\u001b[0m\u001b[0;34m\u001b[0m\u001b[0;34m\u001b[0m\u001b[0m\n\u001b[1;32m      2\u001b[0m \u001b[0me2\u001b[0m\u001b[0;34m=\u001b[0m\u001b[0mbool\u001b[0m\u001b[0;34m\u001b[0m\u001b[0;34m\u001b[0m\u001b[0m\n\u001b[0;32m----> 3\u001b[0;31m \u001b[0me1\u001b[0m \u001b[0;32mand\u001b[0m \u001b[0me2\u001b[0m \u001b[0;32mand\u001b[0m \u001b[0;36m1\u001b[0m\u001b[0;34m/\u001b[0m\u001b[0;36m0\u001b[0m\u001b[0;34m\u001b[0m\u001b[0;34m\u001b[0m\u001b[0m\n\u001b[0m\u001b[1;32m      4\u001b[0m \u001b[0mprint\u001b[0m\u001b[0;34m(\u001b[0m\u001b[0me2\u001b[0m\u001b[0;34m)\u001b[0m\u001b[0;34m\u001b[0m\u001b[0;34m\u001b[0m\u001b[0m\n",
            "\u001b[0;31mZeroDivisionError\u001b[0m: division by zero"
          ]
        }
      ]
    },
    {
      "cell_type": "code",
      "source": [
        "print(\"a+'b'+c+''+d\")"
      ],
      "metadata": {
        "colab": {
          "base_uri": "https://localhost:8080/"
        },
        "id": "cudsEmyidw7-",
        "outputId": "862cb504-4063-479a-cb06-e65568cbddb6"
      },
      "execution_count": null,
      "outputs": [
        {
          "output_type": "stream",
          "name": "stdout",
          "text": [
            "a+'b'+c+''+d\n"
          ]
        }
      ]
    },
    {
      "cell_type": "code",
      "source": [
        "print(1, 2, 3, 4, 5)"
      ],
      "metadata": {
        "colab": {
          "base_uri": "https://localhost:8080/"
        },
        "id": "bM-CUo5bejfX",
        "outputId": "b9b479c7-c0f7-4dcf-c3b2-78e856577567"
      },
      "execution_count": null,
      "outputs": [
        {
          "output_type": "stream",
          "name": "stdout",
          "text": [
            "1 2 3 4 5\n"
          ]
        }
      ]
    },
    {
      "cell_type": "code",
      "source": [
        "print(not 0 and 10//5==2)"
      ],
      "metadata": {
        "colab": {
          "base_uri": "https://localhost:8080/"
        },
        "id": "M5PR_KucetCh",
        "outputId": "ff514aab-e918-43a4-af83-0dda3f8d47d8"
      },
      "execution_count": null,
      "outputs": [
        {
          "output_type": "stream",
          "name": "stdout",
          "text": [
            "True\n"
          ]
        }
      ]
    },
    {
      "cell_type": "code",
      "source": [
        "a != True\n",
        "print(a)"
      ],
      "metadata": {
        "colab": {
          "base_uri": "https://localhost:8080/"
        },
        "id": "zj6Q9cjzfTNd",
        "outputId": "34360b5e-8f31-4638-8830-d68988687aed"
      },
      "execution_count": null,
      "outputs": [
        {
          "output_type": "stream",
          "name": "stdout",
          "text": [
            "True\n"
          ]
        }
      ]
    },
    {
      "cell_type": "code",
      "source": [
        "10**2"
      ],
      "metadata": {
        "colab": {
          "base_uri": "https://localhost:8080/"
        },
        "id": "adDBjorBho0K",
        "outputId": "55fd4568-20f5-4300-f9b3-b97b82a633be"
      },
      "execution_count": null,
      "outputs": [
        {
          "output_type": "execute_result",
          "data": {
            "text/plain": [
              "100"
            ]
          },
          "metadata": {},
          "execution_count": 78
        }
      ]
    },
    {
      "cell_type": "markdown",
      "source": [
        "1. Create any variable and assign some value and delete it."
      ],
      "metadata": {
        "id": "Q0zQxu5GjhHW"
      }
    },
    {
      "cell_type": "code",
      "source": [
        "a=10\n",
        "print(a)\n",
        "del a\n",
        "# print(a)"
      ],
      "metadata": {
        "colab": {
          "base_uri": "https://localhost:8080/"
        },
        "id": "RXxp4-Iwh7AZ",
        "outputId": "7c9c6014-81fc-40fc-a47c-36b67922a6e6"
      },
      "execution_count": null,
      "outputs": [
        {
          "output_type": "stream",
          "name": "stdout",
          "text": [
            "10\n"
          ]
        }
      ]
    },
    {
      "cell_type": "code",
      "source": [
        "print('it\\'s a beautiful day')\n",
        "print(\"we are from \\\"IIT Madras\\\" Madras\")"
      ],
      "metadata": {
        "colab": {
          "base_uri": "https://localhost:8080/"
        },
        "id": "KZ09qwTZjlmi",
        "outputId": "cd255280-bde1-4e67-c4ec-317888a6bbc6"
      },
      "execution_count": null,
      "outputs": [
        {
          "output_type": "stream",
          "name": "stdout",
          "text": [
            "it's a beautiful day\n",
            "we are from \"IIT Madras\" Madras\n"
          ]
        }
      ]
    },
    {
      "cell_type": "code",
      "source": [
        "print('hi i\\'m \\t praveen')"
      ],
      "metadata": {
        "colab": {
          "base_uri": "https://localhost:8080/"
        },
        "id": "wfWG3DRElg25",
        "outputId": "efd167ae-86e6-4736-b42b-a675c2485bad"
      },
      "execution_count": null,
      "outputs": [
        {
          "output_type": "stream",
          "name": "stdout",
          "text": [
            "hi i'm \t praveen\n"
          ]
        }
      ]
    },
    {
      "cell_type": "code",
      "source": [
        "print(\"a for apple.\\nb for banana.\\nc for cat.\\nd for dog\")"
      ],
      "metadata": {
        "colab": {
          "base_uri": "https://localhost:8080/"
        },
        "id": "KyZI5W8QmPyH",
        "outputId": "5523d7c2-9d31-4d2f-eb51-523ca773ce7a"
      },
      "execution_count": null,
      "outputs": [
        {
          "output_type": "stream",
          "name": "stdout",
          "text": [
            "a for apple.\n",
            "b for banana.\n",
            "c for cat.\n",
            "d for dog\n"
          ]
        }
      ]
    },
    {
      "cell_type": "code",
      "source": [
        "# do the following operations\n",
        "\n",
        "x=\"PytHON StRIng METhodS\"\n",
        "\n",
        "# convert the string in lower case\n",
        "print(x.lower())\n",
        "\n",
        "# convert the string in Upper case\n",
        "print(x.upper())\n",
        "\n",
        "# convert the first character to upper case\n",
        "print(x.capitalize())\n",
        "\n",
        "# convert first character of each word to upper case\n",
        "print(x.title())\n",
        "\n",
        "# swap the case of the string\n",
        "print(x.swapcase())"
      ],
      "metadata": {
        "colab": {
          "base_uri": "https://localhost:8080/"
        },
        "id": "eqlMpn5rmrcV",
        "outputId": "e83358c2-efe1-4d7d-8774-e01c8e0f9fc7"
      },
      "execution_count": null,
      "outputs": [
        {
          "output_type": "stream",
          "name": "stdout",
          "text": [
            "python string methods\n",
            "PYTHON STRING METHODS\n",
            "Python string methods\n",
            "Python String Methods\n",
            "pYThon sTriNG metHODs\n"
          ]
        }
      ]
    },
    {
      "cell_type": "code",
      "source": [
        "x=\"      python       \"\n",
        "\n",
        "# remove all the white spaces in the string from both side\n",
        "\n",
        "print(x.strip())\n",
        "\n",
        "# remove all the white spaces in the string from right side\n",
        "\n",
        "print(x.rstrip())\n",
        "\n",
        "\n",
        "# remove all the white spaces in the string from left side\n",
        "print(x.lstrip())\n"
      ],
      "metadata": {
        "colab": {
          "base_uri": "https://localhost:8080/"
        },
        "id": "MUU0QEWdnTjF",
        "outputId": "8564873d-8be1-4ff4-a27e-002a1445c0d2"
      },
      "execution_count": null,
      "outputs": [
        {
          "output_type": "stream",
          "name": "stdout",
          "text": [
            "python\n",
            "      python\n",
            "python       \n"
          ]
        }
      ]
    },
    {
      "cell_type": "code",
      "source": [
        "# check if all the  character in the string are digits\n",
        "x=\"123\"\n",
        "y=\"abc123\"\n",
        "print(x.isdigit())\n",
        "print(y.isdigit())\n",
        "\n",
        "# check if all the character in the string are alphabets\n",
        "a=\"abc\"\n",
        "b=\"123abc\"\n",
        "print(a.isalpha())\n",
        "print(a.isalpha())\n",
        "\n",
        "\n",
        "# check if all the characters are alpha-numeric\n",
        "m=\"abc123\"\n",
        "n=\"ab@*#123\"\n",
        "print(m.isalnum())\n",
        "print(n.isalnum())"
      ],
      "metadata": {
        "colab": {
          "base_uri": "https://localhost:8080/"
        },
        "id": "-LLzkEtFnbvF",
        "outputId": "a91bab3c-c33a-4ce1-ae1f-e129a94b855e"
      },
      "execution_count": null,
      "outputs": [
        {
          "output_type": "stream",
          "name": "stdout",
          "text": [
            "True\n",
            "False\n",
            "True\n",
            "True\n",
            "True\n",
            "False\n"
          ]
        }
      ]
    },
    {
      "cell_type": "code",
      "source": [
        "x=input()\n",
        "# print true is all characters are lower case\n",
        "print(x.islower())\n",
        "# print True if all the characters are upper case\n",
        "print(x.isupper())\n",
        "# print True if the string follows the rules of title (all the words have starting letter in capital)\n",
        "print(x.istitle())"
      ],
      "metadata": {
        "colab": {
          "base_uri": "https://localhost:8080/"
        },
        "id": "dWfyCLxXneTz",
        "outputId": "50bb9c1b-2d67-402c-e16d-46244af07f53"
      },
      "execution_count": null,
      "outputs": [
        {
          "output_type": "stream",
          "name": "stdout",
          "text": [
            "iiii\n",
            "True\n",
            "False\n",
            "False\n"
          ]
        }
      ]
    },
    {
      "cell_type": "code",
      "source": [
        "# print True if the input string starts with I and ends with N\n",
        "\n",
        "x=input()\n",
        "\n",
        "print(x.startswith('I' ),x.endswith('N'))"
      ],
      "metadata": {
        "colab": {
          "base_uri": "https://localhost:8080/"
        },
        "id": "eSO94mQCniey",
        "outputId": "0a25bea7-1bed-4ddc-fc39-7a04522b9959"
      },
      "execution_count": null,
      "outputs": [
        {
          "output_type": "stream",
          "name": "stdout",
          "text": [
            "input\n",
            "False False\n"
          ]
        }
      ]
    },
    {
      "cell_type": "code",
      "source": [
        "x=\"i am gokul and i live in sathyamangalam\"\n",
        "\n",
        "# print the number of times \"a\" is present in the string\n",
        "print(x.count(\"a\"))"
      ],
      "metadata": {
        "colab": {
          "base_uri": "https://localhost:8080/"
        },
        "id": "Lhuw6c3bn9Xe",
        "outputId": "cdcbaafb-7709-4945-bf73-6b6131d120d9"
      },
      "execution_count": null,
      "outputs": [
        {
          "output_type": "stream",
          "name": "stdout",
          "text": [
            "7\n"
          ]
        }
      ]
    },
    {
      "cell_type": "code",
      "source": [
        "print(\"Python String Methods\".index('o'))"
      ],
      "metadata": {
        "colab": {
          "base_uri": "https://localhost:8080/"
        },
        "id": "17w1gVGHoDdJ",
        "outputId": "1fd8ad33-3d80-4c1f-9935-6a9bc20fda49"
      },
      "execution_count": null,
      "outputs": [
        {
          "output_type": "stream",
          "name": "stdout",
          "text": [
            "4\n"
          ]
        }
      ]
    },
    {
      "cell_type": "code",
      "source": [
        "print(\"Python String Methods\".index('0'))"
      ],
      "metadata": {
        "colab": {
          "base_uri": "https://localhost:8080/",
          "height": 141
        },
        "id": "w_ECtZ6AoJOJ",
        "outputId": "dc5bd43f-165a-4c87-b2e7-ff8244952a41"
      },
      "execution_count": null,
      "outputs": [
        {
          "output_type": "error",
          "ename": "ValueError",
          "evalue": "substring not found",
          "traceback": [
            "\u001b[0;31m---------------------------------------------------------------------------\u001b[0m",
            "\u001b[0;31mValueError\u001b[0m                                Traceback (most recent call last)",
            "\u001b[0;32m<ipython-input-97-c327ccb2c444>\u001b[0m in \u001b[0;36m<cell line: 0>\u001b[0;34m()\u001b[0m\n\u001b[0;32m----> 1\u001b[0;31m \u001b[0mprint\u001b[0m\u001b[0;34m(\u001b[0m\u001b[0;34m\"Python String Methods\"\u001b[0m\u001b[0;34m.\u001b[0m\u001b[0mindex\u001b[0m\u001b[0;34m(\u001b[0m\u001b[0;34m'0'\u001b[0m\u001b[0;34m)\u001b[0m\u001b[0;34m)\u001b[0m\u001b[0;34m\u001b[0m\u001b[0;34m\u001b[0m\u001b[0m\n\u001b[0m",
            "\u001b[0;31mValueError\u001b[0m: substring not found"
          ]
        }
      ]
    },
    {
      "cell_type": "code",
      "source": [
        "# replace all the occurence of 'py' with 'python' in the given string\n",
        "\n",
        "x=\"python is a programming language. python is easy to learn.I love pykkara false\"\n",
        "print(x.replace('py','python'))"
      ],
      "metadata": {
        "colab": {
          "base_uri": "https://localhost:8080/"
        },
        "id": "gT-zE_SUoLxO",
        "outputId": "4ff722b8-971a-47c9-d645-2055ec59d139"
      },
      "execution_count": null,
      "outputs": [
        {
          "output_type": "stream",
          "name": "stdout",
          "text": [
            "pythonthon is a programming language. pythonthon is easy to learn.I love pythonkkara false\n"
          ]
        }
      ]
    },
    {
      "cell_type": "code",
      "source": [
        "# predict the output\n",
        "\n",
        "x=\"python is a programming  language. python is easy to learn.I love pykkara false\"\n",
        "\n",
        "print(x.index(\"python\",10))\n",
        "print(x.index(\"python\",0,10))\n",
        "# print(x.index(\"python\",10,20))"
      ],
      "metadata": {
        "colab": {
          "base_uri": "https://localhost:8080/"
        },
        "id": "t8dIQW27oQV9",
        "outputId": "c37fc316-7e74-4cf2-e165-cefaffb93428"
      },
      "execution_count": null,
      "outputs": [
        {
          "output_type": "stream",
          "name": "stdout",
          "text": [
            "35\n",
            "0\n"
          ]
        }
      ]
    },
    {
      "cell_type": "code",
      "source": [
        "x=\"abcdefghijklmnopqrstuvwxyz\"\n",
        "i=8\n",
        "print(x[i])\n",
        "print(x[-i])\n",
        "print(x[(i+26)%26])"
      ],
      "metadata": {
        "colab": {
          "base_uri": "https://localhost:8080/"
        },
        "id": "lEnvz9UH3V7y",
        "outputId": "0fb4ce58-8a4b-4f87-f57c-520c38526c4f"
      },
      "execution_count": null,
      "outputs": [
        {
          "output_type": "stream",
          "name": "stdout",
          "text": [
            "i\n",
            "s\n",
            "i\n"
          ]
        }
      ]
    },
    {
      "cell_type": "markdown",
      "source": [
        "write a python script for the below test case,\n",
        "Note the input will be of 5 characters long,\n",
        "\n",
        "\n",
        "testcase 1\n",
        "'''\n",
        "INPUT : 'gokul'\n",
        "OUTPUT : 'hplvm'\n",
        "'''\n",
        "\n",
        "testcase 2\n",
        "'''\n",
        "INPUT: 'abcde'\n",
        "OUTPUT: 'bcdef'\n",
        "'''"
      ],
      "metadata": {
        "id": "gTPuSLrO32_h"
      }
    },
    {
      "cell_type": "code",
      "source": [
        "alphabets='abcdefghijklmnopqrstuvwxyz'"
      ],
      "metadata": {
        "id": "wjzmjc0k71P3"
      },
      "execution_count": null,
      "outputs": []
    },
    {
      "cell_type": "code",
      "source": [
        "inpu='abcde'\n",
        "i=0\n",
        "b=''\n",
        "k=1\n",
        "b=b+alphabets[alphabets.index(inpu[i])+k]\n",
        "b=b+alphabets[alphabets.index(inpu[i+1])+k]\n",
        "b=b+alphabets[alphabets.index(inpu[i+2])+k]\n",
        "b=b+alphabets[alphabets.index(inpu[i+3])+k]\n",
        "b=b+alphabets[alphabets.index(inpu[i+4])+k]\n",
        "print(b)"
      ],
      "metadata": {
        "colab": {
          "base_uri": "https://localhost:8080/"
        },
        "id": "0H5rmkSb_loO",
        "outputId": "f20cd318-b997-43e9-bb32-05947d852226"
      },
      "execution_count": null,
      "outputs": [
        {
          "output_type": "stream",
          "name": "stdout",
          "text": [
            "bcdef\n"
          ]
        }
      ]
    },
    {
      "cell_type": "code",
      "source": [
        "s='gokul'\n",
        "alphabets.index(s[0])"
      ],
      "metadata": {
        "colab": {
          "base_uri": "https://localhost:8080/"
        },
        "id": "-fRP891OBRbP",
        "outputId": "84247f79-844c-4cb1-91de-9bbf31404096"
      },
      "execution_count": null,
      "outputs": [
        {
          "output_type": "execute_result",
          "data": {
            "text/plain": [
              "6"
            ]
          },
          "metadata": {},
          "execution_count": 13
        }
      ]
    },
    {
      "cell_type": "code",
      "source": [
        "a=15\n",
        "print(a**0.5)"
      ],
      "metadata": {
        "colab": {
          "base_uri": "https://localhost:8080/"
        },
        "id": "x7TOAqIKogxH",
        "outputId": "d65b28df-2ffd-4251-9788-8ab1d3b5707e"
      },
      "execution_count": null,
      "outputs": [
        {
          "output_type": "stream",
          "name": "stdout",
          "text": [
            "3.872983346207417\n"
          ]
        }
      ]
    },
    {
      "cell_type": "code",
      "source": [
        "a=int(input(\"num :\"))\n",
        "print(type(a))\n",
        "\n",
        "b=a**0.5\n",
        "print(type(b))\n",
        "\n",
        "if(b**2==a):\n",
        "  print(True)\n",
        "else:\n",
        "  print(False)"
      ],
      "metadata": {
        "colab": {
          "base_uri": "https://localhost:8080/"
        },
        "id": "RZAzRcxb-pT3",
        "outputId": "9dcb2195-8e69-401c-925b-fb4439175fd7"
      },
      "execution_count": null,
      "outputs": [
        {
          "output_type": "stream",
          "name": "stdout",
          "text": [
            "num :67\n",
            "<class 'int'>\n",
            "<class 'float'>\n",
            "True\n"
          ]
        }
      ]
    },
    {
      "cell_type": "code",
      "source": [
        "67**0.5"
      ],
      "metadata": {
        "colab": {
          "base_uri": "https://localhost:8080/"
        },
        "id": "vbRESTb4JsOg",
        "outputId": "46875957-2f4f-43c3-9f96-a0076c31df3a"
      },
      "execution_count": null,
      "outputs": [
        {
          "output_type": "execute_result",
          "data": {
            "text/plain": [
              "8.18535277187245"
            ]
          },
          "metadata": {},
          "execution_count": 111
        }
      ]
    },
    {
      "cell_type": "code",
      "source": [
        "type(8.18535277187245**2)"
      ],
      "metadata": {
        "colab": {
          "base_uri": "https://localhost:8080/"
        },
        "id": "KwKdKIR-K1r2",
        "outputId": "4d6ebc9c-d689-4931-bb7f-8daed6a33dec"
      },
      "execution_count": null,
      "outputs": [
        {
          "output_type": "execute_result",
          "data": {
            "text/plain": [
              "float"
            ]
          },
          "metadata": {},
          "execution_count": 113
        }
      ]
    },
    {
      "cell_type": "code",
      "source": [
        "type(0.5)"
      ],
      "metadata": {
        "colab": {
          "base_uri": "https://localhost:8080/"
        },
        "id": "NupsOnSkLGor",
        "outputId": "25be7302-4139-42f4-e740-2f94f92584d6"
      },
      "execution_count": null,
      "outputs": [
        {
          "output_type": "execute_result",
          "data": {
            "text/plain": [
              "float"
            ]
          },
          "metadata": {},
          "execution_count": 114
        }
      ]
    },
    {
      "cell_type": "code",
      "source": [
        "# int/str'abcd'/float 4.0"
      ],
      "metadata": {
        "id": "fYZRYPVGL7xo"
      },
      "execution_count": null,
      "outputs": []
    },
    {
      "cell_type": "markdown",
      "source": [
        " write a python code , for the following test cases\n",
        "\n",
        " testcase 1\n",
        "'''\n",
        "INPUT: 'a'\n",
        "OUTPUT: 1\n",
        "'''\n",
        "\n",
        "testcase 2\n",
        "'''\n",
        "INPUT:'b'\n",
        "OUTPUT: 2\n",
        "'''\n",
        "\n",
        " testcase 3\n",
        "'''\n",
        "INPUT:'y'\n",
        "OUTPUT: 25\n",
        "'''"
      ],
      "metadata": {
        "id": "04QfQ4HMBgKP"
      }
    },
    {
      "cell_type": "code",
      "source": [
        "alphabets='abcdefghijklmnopqrstuvwxyz'\n",
        "i=input()\n",
        "alphabets.index(i)+1"
      ],
      "metadata": {
        "colab": {
          "base_uri": "https://localhost:8080/"
        },
        "id": "-9enj-Fu_XDT",
        "outputId": "189b96e4-378c-42cf-d595-3c2be01bef70"
      },
      "execution_count": null,
      "outputs": [
        {
          "name": "stdout",
          "output_type": "stream",
          "text": [
            "y\n"
          ]
        },
        {
          "output_type": "execute_result",
          "data": {
            "text/plain": [
              "25"
            ]
          },
          "metadata": {},
          "execution_count": 5
        }
      ]
    },
    {
      "cell_type": "markdown",
      "source": [
        "write a python code where you will take an input number k and a string s.\n",
        " you have to move the string by k characters to the right\n",
        "\n",
        "TestCase 1\n",
        "'''\n",
        "INPUT:\n",
        "    s='abcdefg'\n",
        "    k=2\n",
        "\n",
        "OUTPUT: 'cdefghi`\n",
        "'''\n",
        "\n",
        "TestCase 2\n",
        "'''\n",
        "INPUT:\n",
        "    s='chennai'\n",
        "    k=20\n",
        "OUTPUT:\n",
        "    'wbyhhuc'\n",
        "'''"
      ],
      "metadata": {
        "id": "Mzpk6sqFEk1_"
      }
    },
    {
      "cell_type": "code",
      "source": [
        "alphabets='abcdefghijklmnopqrstuvwxyz'\n",
        "s='chennai'\n",
        "k=20\n",
        "i=0\n",
        "b=''\n",
        "b=b+alphabets[(alphabets.index(s[i])+k)%26]\n",
        "b=b+alphabets[(alphabets.index(s[i+1])+k)%26]\n",
        "b=b+alphabets[(alphabets.index(s[i+2])+k)%26]\n",
        "b=b+alphabets[(alphabets.index(s[i+3])+k)%26]\n",
        "b=b+alphabets[(alphabets.index(s[i+4])+k)%26]\n",
        "b=b+alphabets[(alphabets.index(s[i+5])+k)%26]\n",
        "b=b+alphabets[(alphabets.index(s[i+6])+k)%26]\n",
        "\n",
        "print(b)\n"
      ],
      "metadata": {
        "colab": {
          "base_uri": "https://localhost:8080/"
        },
        "id": "Kfk0xjQBCWqQ",
        "outputId": "3da6f93d-2aab-4149-c2f7-2506001a95b0"
      },
      "execution_count": null,
      "outputs": [
        {
          "output_type": "stream",
          "name": "stdout",
          "text": [
            "wbyhhuc\n"
          ]
        }
      ]
    },
    {
      "cell_type": "markdown",
      "source": [
        "take year of birth (YOB) as input,\n",
        "print the current age of the person and also print if the person is eligible to vote or not\n",
        "HINT : subtract current year from YOB"
      ],
      "metadata": {
        "id": "rVbguS_NWCgx"
      }
    },
    {
      "cell_type": "code",
      "source": [
        "dob=int(input(\"Enter your dob: \"))\n",
        "curr_age=(2025-dob)\n",
        "print(\"Your current age is\",curr_age)\n",
        "if curr_age >=18:\n",
        "  print('you\\'re eligible for vote')\n",
        "else:\n",
        "  print(\"You aren't eligible for vote\")"
      ],
      "metadata": {
        "colab": {
          "base_uri": "https://localhost:8080/"
        },
        "id": "wVC1XLRuF9JL",
        "outputId": "deaabe8c-b181-4a39-c484-0d0457c05eab"
      },
      "execution_count": null,
      "outputs": [
        {
          "output_type": "stream",
          "name": "stdout",
          "text": [
            "Enter your dob: 2003\n",
            "Your current age is 22\n",
            "you're eligible for vote\n"
          ]
        }
      ]
    },
    {
      "cell_type": "markdown",
      "source": [
        "find whether the given number is even or odd"
      ],
      "metadata": {
        "id": "HY4DsUNnXxtA"
      }
    },
    {
      "cell_type": "code",
      "source": [
        "a=int(input(\"num :\"))\n",
        "if(a%2==0):\n",
        "  print('even')\n",
        "else:\n",
        "  print(\"odd\")"
      ],
      "metadata": {
        "colab": {
          "base_uri": "https://localhost:8080/"
        },
        "id": "D3_uptTwWjWc",
        "outputId": "3f72f2df-093f-49d8-cc7f-e65ef8582827"
      },
      "execution_count": null,
      "outputs": [
        {
          "output_type": "stream",
          "name": "stdout",
          "text": [
            "num :5\n",
            "odd\n"
          ]
        }
      ]
    },
    {
      "cell_type": "markdown",
      "source": [
        "find whether given no ends with 0 or 5 or any other number"
      ],
      "metadata": {
        "id": "xOKEH3vjYGxM"
      }
    },
    {
      "cell_type": "code",
      "source": [
        "a=int(input(\"num :\"))\n",
        "if (a%5==0 and a%10==0):\n",
        "  print(0)\n",
        "elif(a%5==0):\n",
        "  print(5)\n",
        "else:\n",
        "  print('other')\n"
      ],
      "metadata": {
        "colab": {
          "base_uri": "https://localhost:8080/"
        },
        "id": "fw_M6BGfX91p",
        "outputId": "17db433c-bac2-4aa0-df24-c62eb9fadd65"
      },
      "execution_count": null,
      "outputs": [
        {
          "output_type": "stream",
          "name": "stdout",
          "text": [
            "num :14\n",
            "other\n"
          ]
        }
      ]
    },
    {
      "cell_type": "markdown",
      "source": [
        "how to find the value of log(x) in\n",
        "python, where x is a positive number,\n",
        " answer=2.30...."
      ],
      "metadata": {
        "id": "BIjDG___Zs4V"
      }
    },
    {
      "cell_type": "code",
      "source": [
        "import math\n",
        "a=math.log(10)\n",
        "print(a)"
      ],
      "metadata": {
        "colab": {
          "base_uri": "https://localhost:8080/"
        },
        "id": "p8xmkCwGYuDU",
        "outputId": "a26ada6b-6d82-4a0a-e614-2f069cd7061e"
      },
      "execution_count": null,
      "outputs": [
        {
          "output_type": "stream",
          "name": "stdout",
          "text": [
            "2.302585092994046\n"
          ]
        }
      ]
    },
    {
      "cell_type": "markdown",
      "source": [
        " find the sine value of x,\n",
        " where x=45, answer= 0.85...."
      ],
      "metadata": {
        "id": "S0YNIO2qaAZL"
      }
    },
    {
      "cell_type": "code",
      "source": [
        "import math\n",
        "x=45\n",
        "print(math.sin(x))"
      ],
      "metadata": {
        "colab": {
          "base_uri": "https://localhost:8080/"
        },
        "id": "DCTKAX_oZ5qJ",
        "outputId": "d35a48c7-6b59-4e82-b4c9-3b36d4af80cb"
      },
      "execution_count": null,
      "outputs": [
        {
          "output_type": "stream",
          "name": "stdout",
          "text": [
            "0.8509035245341184\n"
          ]
        }
      ]
    },
    {
      "cell_type": "markdown",
      "source": [
        "find square root of 10,\n",
        "find which one is wrong"
      ],
      "metadata": {
        "id": "duf4snh9aRwi"
      }
    },
    {
      "cell_type": "code",
      "source": [
        "z=10\n",
        "a=z**0.5\n",
        "print (a)\n",
        "b=math.sqrt(z)\n",
        "print(b)"
      ],
      "metadata": {
        "colab": {
          "base_uri": "https://localhost:8080/"
        },
        "id": "YpBZ9R3FaKKi",
        "outputId": "cb39a469-4f43-4cc7-afd4-73e46bff2722"
      },
      "execution_count": null,
      "outputs": [
        {
          "output_type": "stream",
          "name": "stdout",
          "text": [
            "3.1622776601683795\n",
            "3.1622776601683795\n"
          ]
        }
      ]
    },
    {
      "cell_type": "code",
      "source": [
        "math.factorial(5)"
      ],
      "metadata": {
        "colab": {
          "base_uri": "https://localhost:8080/"
        },
        "id": "BkrXhWwnac2P",
        "outputId": "8356a967-70eb-4db2-d5cf-6d6869bed00e"
      },
      "execution_count": null,
      "outputs": [
        {
          "output_type": "execute_result",
          "data": {
            "text/plain": [
              "120"
            ]
          },
          "metadata": {},
          "execution_count": 16
        }
      ]
    },
    {
      "cell_type": "markdown",
      "source": [
        " take x,y as input,\n",
        "find   x to the power y"
      ],
      "metadata": {
        "id": "dOyzS26lavSP"
      }
    },
    {
      "cell_type": "code",
      "source": [
        "x=10\n",
        "y=2\n",
        "math.pow(x,y)"
      ],
      "metadata": {
        "colab": {
          "base_uri": "https://localhost:8080/"
        },
        "id": "TDCBpoKFarzJ",
        "outputId": "a366d40b-312e-4339-f665-9a29ac026512"
      },
      "execution_count": null,
      "outputs": [
        {
          "output_type": "execute_result",
          "data": {
            "text/plain": [
              "100.0"
            ]
          },
          "metadata": {},
          "execution_count": 18
        }
      ]
    },
    {
      "cell_type": "markdown",
      "source": [
        "print a random number\n",
        "between 0 to 1 using\n",
        "random library\n"
      ],
      "metadata": {
        "id": "bwgiGfWza-SH"
      }
    },
    {
      "cell_type": "code",
      "source": [
        "import random"
      ],
      "metadata": {
        "id": "eqpvBmAQa0Na"
      },
      "execution_count": null,
      "outputs": []
    },
    {
      "cell_type": "code",
      "source": [
        "a=random.random()\n",
        "a"
      ],
      "metadata": {
        "colab": {
          "base_uri": "https://localhost:8080/"
        },
        "id": "FTZq3T8TbFkb",
        "outputId": "ecfd1194-080b-4680-dd3e-6ace851486a9"
      },
      "execution_count": null,
      "outputs": [
        {
          "output_type": "execute_result",
          "data": {
            "text/plain": [
              "0.7193481399369689"
            ]
          },
          "metadata": {},
          "execution_count": 31
        }
      ]
    },
    {
      "cell_type": "markdown",
      "source": [
        "week 2 official questions"
      ],
      "metadata": {
        "id": "yxqEWY54bn0f"
      }
    },
    {
      "cell_type": "code",
      "source": [
        "a=1\n",
        "print(type(a))\n",
        "a=1.0\n",
        "print(type(a))\n",
        "a='1'\n",
        "print(type(a))"
      ],
      "metadata": {
        "id": "3midBtJhbJLf",
        "colab": {
          "base_uri": "https://localhost:8080/"
        },
        "outputId": "f0635683-f61e-445b-b612-10dcb25b1d93"
      },
      "execution_count": null,
      "outputs": [
        {
          "output_type": "stream",
          "name": "stdout",
          "text": [
            "<class 'int'>\n",
            "<class 'float'>\n",
            "<class 'str'>\n"
          ]
        }
      ]
    },
    {
      "cell_type": "code",
      "source": [
        "x,y,z=3,4,5\n",
        "x,y,z=x**2,y**2,z**2\n",
        "# 9+16==25 true\n",
        "print(x+y==z)"
      ],
      "metadata": {
        "colab": {
          "base_uri": "https://localhost:8080/"
        },
        "id": "06ZIDPd7CABd",
        "outputId": "6fc867bb-f480-4f86-83e6-5a457649c26b"
      },
      "execution_count": null,
      "outputs": [
        {
          "output_type": "stream",
          "name": "stdout",
          "text": [
            "True\n"
          ]
        }
      ]
    },
    {
      "cell_type": "code",
      "source": [
        "good_variable=10\n",
        "a_=1\n",
        "_a=2\n",
        "1_a=10\n",
        "is=10\n",
        "bad variable=100"
      ],
      "metadata": {
        "colab": {
          "base_uri": "https://localhost:8080/",
          "height": 106
        },
        "id": "qVFK0l_lCpRs",
        "outputId": "e8ef418c-a3b0-4a22-b0a7-e09e9c22c36c"
      },
      "execution_count": null,
      "outputs": [
        {
          "output_type": "error",
          "ename": "SyntaxError",
          "evalue": "invalid decimal literal (<ipython-input-4-7c082cce5e68>, line 4)",
          "traceback": [
            "\u001b[0;36m  File \u001b[0;32m\"<ipython-input-4-7c082cce5e68>\"\u001b[0;36m, line \u001b[0;32m4\u001b[0m\n\u001b[0;31m    1_a=10\u001b[0m\n\u001b[0m     ^\u001b[0m\n\u001b[0;31mSyntaxError\u001b[0m\u001b[0;31m:\u001b[0m invalid decimal literal\n"
          ]
        }
      ]
    },
    {
      "cell_type": "code",
      "source": [
        "x,y=1,2\n",
        "print(x,y)\n",
        "x,y=y,x\n",
        "print(x,y)"
      ],
      "metadata": {
        "colab": {
          "base_uri": "https://localhost:8080/"
        },
        "id": "YbZLv8QsC4R8",
        "outputId": "adae9780-ab87-4663-c437-f886647e093b"
      },
      "execution_count": null,
      "outputs": [
        {
          "output_type": "stream",
          "name": "stdout",
          "text": [
            "1 2\n",
            "2 1\n"
          ]
        }
      ]
    },
    {
      "cell_type": "code",
      "source": [
        "if True:\n",
        "  print('first')\n",
        "else:\n",
        "  print('second')"
      ],
      "metadata": {
        "colab": {
          "base_uri": "https://localhost:8080/"
        },
        "id": "qUBbNsf-DHxG",
        "outputId": "e98a14b4-5140-46ac-ede5-6bea5eecc4b8"
      },
      "execution_count": null,
      "outputs": [
        {
          "output_type": "stream",
          "name": "stdout",
          "text": [
            "first\n"
          ]
        }
      ]
    },
    {
      "cell_type": "code",
      "source": [
        "x=True\n",
        "if x== True:\n",
        "  print('works')\n"
      ],
      "metadata": {
        "colab": {
          "base_uri": "https://localhost:8080/"
        },
        "id": "my5WN1qxEe0I",
        "outputId": "2670f373-fe06-4f0b-a012-8b6359d319ca"
      },
      "execution_count": null,
      "outputs": [
        {
          "output_type": "stream",
          "name": "stdout",
          "text": [
            "works\n"
          ]
        }
      ]
    },
    {
      "cell_type": "code",
      "source": [
        "x=True\n",
        "if x:\n",
        "  print('works')"
      ],
      "metadata": {
        "colab": {
          "base_uri": "https://localhost:8080/"
        },
        "id": "30m5S5U4Ev1i",
        "outputId": "490f4477-6cd4-4483-9e4c-30decb263f21"
      },
      "execution_count": null,
      "outputs": [
        {
          "output_type": "stream",
          "name": "stdout",
          "text": [
            "works\n"
          ]
        }
      ]
    },
    {
      "cell_type": "code",
      "source": [
        "# find no which multiple of 10 and multiple of 5 and others\n",
        "x=int(input())\n",
        "if (x%10==0 and x%5==0):\n",
        "  print(\"Multiple of 10 and 5\")\n",
        "elif(x%5==0):\n",
        "  print('multiple of 5')\n",
        "else:\n",
        "  print('others')"
      ],
      "metadata": {
        "colab": {
          "base_uri": "https://localhost:8080/"
        },
        "id": "WxZF6L5sE3Pu",
        "outputId": "ba70498f-cf37-445c-b143-3f95fccdc925"
      },
      "execution_count": null,
      "outputs": [
        {
          "output_type": "stream",
          "name": "stdout",
          "text": [
            "10\n",
            "Multiple of 10\n"
          ]
        }
      ]
    },
    {
      "cell_type": "code",
      "source": [
        "# find leap year or not\n",
        "year=int(input())\n",
        "if year % 400 == 0:\n",
        "  print('Leap Year')\n",
        "elif year % 4 == 0 and year % 100 !=0:\n",
        "  print('Leap year')\n",
        "else:\n",
        "  print('Not Leap Year')"
      ],
      "metadata": {
        "colab": {
          "base_uri": "https://localhost:8080/"
        },
        "id": "Q94pfQCxFteG",
        "outputId": "13312d2c-94b4-4ed3-bd9a-f382b63c040b"
      },
      "execution_count": null,
      "outputs": [
        {
          "output_type": "stream",
          "name": "stdout",
          "text": [
            "1900\n",
            "Not Leap Year\n"
          ]
        }
      ]
    },
    {
      "cell_type": "code",
      "source": [
        "a=int(input(\"Print last number in wordings: \"))\n",
        "x=str(a)\n",
        "print(x)\n",
        "print(type(x))\n",
        "print(x[-1])\n",
        "if x[-1] == '0':\n",
        "  print('zero')\n",
        "elif x[-1]=='1':\n",
        "  print('one')\n",
        "elif x[-1]=='2':\n",
        "  print('two')\n",
        "elif x[-1]=='3':\n",
        "  print('three')\n",
        "elif x[-1]=='4':\n",
        "  print('four')\n",
        "elif x[-1]=='5':\n",
        "  print('five')\n",
        "elif x[-1]=='6':\n",
        "  print('six')\n",
        "elif x[-1]=='7':\n",
        "  print('seven')\n",
        "elif x[-1]=='8':\n",
        "  print('eight')\n",
        "else:\n",
        "  print('nine')"
      ],
      "metadata": {
        "colab": {
          "base_uri": "https://localhost:8080/"
        },
        "id": "pAIjhFi0Gaqu",
        "outputId": "9679f22d-8734-4b33-d770-8f62d92c2da3"
      },
      "execution_count": null,
      "outputs": [
        {
          "output_type": "stream",
          "name": "stdout",
          "text": [
            "Print last number in wordings: 7431\n",
            "7431\n",
            "<class 'str'>\n",
            "1\n",
            "one\n"
          ]
        }
      ]
    },
    {
      "cell_type": "code",
      "source": [
        "x='1234'\n",
        "print(x[-1])"
      ],
      "metadata": {
        "colab": {
          "base_uri": "https://localhost:8080/"
        },
        "id": "9mPsz-ivIh68",
        "outputId": "eef27a79-5442-4a99-be96-e209ed0d284c"
      },
      "execution_count": null,
      "outputs": [
        {
          "output_type": "stream",
          "name": "stdout",
          "text": [
            "4\n"
          ]
        }
      ]
    },
    {
      "cell_type": "code",
      "source": [
        "#find equlateral,scalene,isoceles in triangle\n",
        "a=int(input(\"side 1 length \"))\n",
        "b=int(input(\"side 2 length \"))\n",
        "c=int(input(\"side 3 length \"))\n",
        "if a==b==c:\n",
        "  print(\"equilateral\")\n",
        "elif (a==b) or (b==c) or (c==a):\n",
        "  print(\"isoceles\")\n",
        "else:\n",
        "  print('scalene')\n"
      ],
      "metadata": {
        "colab": {
          "base_uri": "https://localhost:8080/"
        },
        "id": "vziNhQVkJm-W",
        "outputId": "fdebd7c3-89df-45ea-85b4-69e283cb1f1a"
      },
      "execution_count": null,
      "outputs": [
        {
          "output_type": "stream",
          "name": "stdout",
          "text": [
            "side 1 length 7\n",
            "side 2 length 8\n",
            "side 3 length 0\n",
            "scalene\n"
          ]
        }
      ]
    },
    {
      "cell_type": "code",
      "source": [
        "a=int(input(\"side 1 length \"))\n",
        "b=int(input(\"side 2 length \"))\n",
        "c=int(input(\"side 3 length \"))\n",
        "# if a==b+c or b==a+c or c==a+b:\n",
        "if (a+b-c==0) or (b+c-a==0) or (c+a-b==0):\n",
        "  print(\"good triplet\")\n",
        "else:\n",
        "  print(\"bad triplet\")"
      ],
      "metadata": {
        "colab": {
          "base_uri": "https://localhost:8080/"
        },
        "id": "wHG5T9DdLjIB",
        "outputId": "da67068a-5ef0-45ba-96fe-0445cda20183"
      },
      "execution_count": null,
      "outputs": [
        {
          "output_type": "stream",
          "name": "stdout",
          "text": [
            "side 1 length 3\n",
            "side 2 length 1\n",
            "side 3 length 1\n",
            "bad triplet\n"
          ]
        }
      ]
    },
    {
      "cell_type": "code",
      "source": [
        "a=int(input(\"side 1 length \"))\n",
        "b=int(input(\"side 2 length \"))\n",
        "c=int(input(\"side 3 length \"))\n",
        "if(a+b<=c) or (b+c<=a) or(c+a<=b):\n",
        "  print(False)\n",
        "else:\n",
        "  print(True)"
      ],
      "metadata": {
        "colab": {
          "base_uri": "https://localhost:8080/"
        },
        "id": "UqhQFJm2MC2G",
        "outputId": "8bb9ab34-24a9-4d20-8800-e063fca7fda6"
      },
      "execution_count": null,
      "outputs": [
        {
          "output_type": "stream",
          "name": "stdout",
          "text": [
            "side 1 length 2\n",
            "side 2 length 3\n",
            "side 3 length 2\n",
            "True\n"
          ]
        }
      ]
    },
    {
      "cell_type": "code",
      "source": [
        "a,b,c,d=int(input()),int(input()),int(input()),int(input())\n",
        "if(a<=b<=c<=d):\n",
        "  print(\"ascending Order\")\n",
        "else:\n",
        "  print(\"not in ascending order\")"
      ],
      "metadata": {
        "colab": {
          "base_uri": "https://localhost:8080/"
        },
        "id": "OHMkC24JNhDW",
        "outputId": "fe022b86-ae33-489d-839b-e512a19788ec"
      },
      "execution_count": null,
      "outputs": [
        {
          "output_type": "stream",
          "name": "stdout",
          "text": [
            "4\n",
            "3\n",
            "6\n",
            "2\n",
            "not in ascending order\n"
          ]
        }
      ]
    },
    {
      "cell_type": "code",
      "source": [
        "import calendar"
      ],
      "metadata": {
        "id": "haZJUtBpN7SX"
      },
      "execution_count": null,
      "outputs": []
    },
    {
      "cell_type": "code",
      "source": [
        "a=calendar.weekday(int(input(\"Year: \")),int(input(\"Month: \")),int(input(\"Day: \")))\n",
        "if a==0:\n",
        "  print('Monday')\n",
        "elif a==1:\n",
        "  print(\"Tuesday\")\n",
        "elif a==2:\n",
        "  print('wednesday')\n",
        "elif a==3:\n",
        "  print('Thursday')\n",
        "elif a==4:\n",
        "  print('Friday')\n",
        "elif a==5:\n",
        "  print('Saturday')\n",
        "else:\n",
        "  print('Sunday')"
      ],
      "metadata": {
        "colab": {
          "base_uri": "https://localhost:8080/"
        },
        "id": "gu8W2mrvOLtq",
        "outputId": "702e2b82-deb3-4984-e6a3-0c0b0dd54fa9"
      },
      "execution_count": null,
      "outputs": [
        {
          "output_type": "stream",
          "name": "stdout",
          "text": [
            "Year: 1999\n",
            "Month: 1\n",
            "Day: 27\n",
            "wednesday\n"
          ]
        }
      ]
    },
    {
      "cell_type": "markdown",
      "source": [
        "Find sandwich numbers ex ; 123/853 (1st - 3rd no -- 2nd\n"
      ],
      "metadata": {
        "id": "-Xyu1lCBjfXD"
      }
    },
    {
      "cell_type": "code",
      "source": [
        "a=input()\n",
        "first,second,last=int(a[0]),int(a[1]),int(a[2])\n",
        "if abs(first-last)==second:\n",
        "  print(\"sandwich\")\n",
        "else:\n",
        "  print(\"not sandwich\")"
      ],
      "metadata": {
        "id": "FKrfS4m0OS4E",
        "colab": {
          "base_uri": "https://localhost:8080/"
        },
        "outputId": "fe7fa048-f8d4-42a4-8343-11dd785606b6"
      },
      "execution_count": null,
      "outputs": [
        {
          "output_type": "stream",
          "name": "stdout",
          "text": [
            "333\n",
            "not sandwich\n"
          ]
        }
      ]
    },
    {
      "cell_type": "code",
      "source": [
        "msg=\"txt me when u receive this msg.\"\n",
        "msg=msg.replace('txt','text')\n",
        "msg=msg.replace('u','you')\n",
        "msg=msg.replace('msg','message')\n",
        "print(msg)"
      ],
      "metadata": {
        "colab": {
          "base_uri": "https://localhost:8080/"
        },
        "id": "R2X-ogJ6kShV",
        "outputId": "76ac1b4b-ae89-4777-b3c5-fa426e1d55ca"
      },
      "execution_count": null,
      "outputs": [
        {
          "output_type": "stream",
          "name": "stdout",
          "text": [
            "text me when you receive this message.\n"
          ]
        }
      ]
    },
    {
      "cell_type": "code",
      "source": [
        "a=input(\"give me a sentence: \")\n",
        "print(a.count(' ')+1)"
      ],
      "metadata": {
        "colab": {
          "base_uri": "https://localhost:8080/"
        },
        "id": "gRc3o7X9kz1f",
        "outputId": "0b79c0f9-8c44-424a-eb87-437ff433e7c6"
      },
      "execution_count": null,
      "outputs": [
        {
          "output_type": "stream",
          "name": "stdout",
          "text": [
            "give me a sentence: this sentence is not true\n",
            "5\n"
          ]
        }
      ]
    },
    {
      "cell_type": "code",
      "source": [
        "a=input(\"give me a paragraph: \")\n",
        "print(a.count('.'))"
      ],
      "metadata": {
        "colab": {
          "base_uri": "https://localhost:8080/"
        },
        "id": "LyhwMmXkluAN",
        "outputId": "2df07c64-366c-468c-b955-3d559a1834e0"
      },
      "execution_count": null,
      "outputs": [
        {
          "output_type": "stream",
          "name": "stdout",
          "text": [
            "give me a paragraph: this is a char. it is red in color.\n",
            "2\n"
          ]
        }
      ]
    },
    {
      "cell_type": "code",
      "source": [
        "a=input(\"give me a phone no: \")\n",
        "b=a.replace('O','0')\n",
        "print(int(b))"
      ],
      "metadata": {
        "colab": {
          "base_uri": "https://localhost:8080/"
        },
        "id": "e3Hwrwd1mPPd",
        "outputId": "1cad3707-0ce5-4e61-c0ee-eca05ab71efe"
      },
      "execution_count": null,
      "outputs": [
        {
          "output_type": "stream",
          "name": "stdout",
          "text": [
            "give me a phone no: 85249O2324\n",
            "8524902324\n"
          ]
        }
      ]
    },
    {
      "cell_type": "code",
      "source": [
        "a=3**100\n",
        "b=str(a)\n",
        "print(b.count('0'))"
      ],
      "metadata": {
        "colab": {
          "base_uri": "https://localhost:8080/"
        },
        "id": "eKa2I0Simuq6",
        "outputId": "e02fcfb6-62cb-46d9-dc38-abe1ed699714"
      },
      "execution_count": null,
      "outputs": [
        {
          "output_type": "stream",
          "name": "stdout",
          "text": [
            "7\n"
          ]
        }
      ]
    },
    {
      "cell_type": "code",
      "source": [
        "lines = '''one\n",
        "two\n",
        "three\n",
        "'''\n",
        "print('\\n' in lines)\n",
        "print(lines.count('\\n'))"
      ],
      "metadata": {
        "colab": {
          "base_uri": "https://localhost:8080/"
        },
        "id": "pF4CRDnGnOhE",
        "outputId": "6fdf5a71-9384-4d67-9737-9d9c4d93dcd6"
      },
      "execution_count": null,
      "outputs": [
        {
          "output_type": "stream",
          "name": "stdout",
          "text": [
            "True\n",
            "3\n"
          ]
        }
      ]
    },
    {
      "cell_type": "code",
      "source": [
        "import math"
      ],
      "metadata": {
        "id": "42d8I-UpntOf"
      },
      "execution_count": null,
      "outputs": []
    },
    {
      "cell_type": "code",
      "source": [
        "x=float(input())\n",
        "sigmoid=1.0/(1+math.exp(-x))\n",
        "print(sigmoid)"
      ],
      "metadata": {
        "colab": {
          "base_uri": "https://localhost:8080/"
        },
        "id": "VNrU0BA2n4mq",
        "outputId": "9dc1b452-1c77-4b8b-f426-d885a8673953"
      },
      "execution_count": null,
      "outputs": [
        {
          "output_type": "stream",
          "name": "stdout",
          "text": [
            "3\n",
            "0.9525741268224334\n"
          ]
        }
      ]
    },
    {
      "cell_type": "code",
      "source": [
        "# diff between find and index\n",
        "a='this is a trial'\n",
        "print(a.find('iss'))\n",
        "# print(a.index('iss'))"
      ],
      "metadata": {
        "colab": {
          "base_uri": "https://localhost:8080/"
        },
        "id": "tSh58TxfoOFC",
        "outputId": "276022c2-b15e-4ecb-b7d5-7a482d6224ab"
      },
      "execution_count": null,
      "outputs": [
        {
          "output_type": "stream",
          "name": "stdout",
          "text": [
            "-1\n"
          ]
        }
      ]
    },
    {
      "cell_type": "code",
      "source": [
        "print(a.index('iss'))"
      ],
      "metadata": {
        "colab": {
          "base_uri": "https://localhost:8080/",
          "height": 141
        },
        "id": "Dn65aqZModgi",
        "outputId": "8352eedd-d962-4566-febe-dc2cbe489a3f"
      },
      "execution_count": null,
      "outputs": [
        {
          "output_type": "error",
          "ename": "ValueError",
          "evalue": "substring not found",
          "traceback": [
            "\u001b[0;31m---------------------------------------------------------------------------\u001b[0m",
            "\u001b[0;31mValueError\u001b[0m                                Traceback (most recent call last)",
            "\u001b[0;32m<ipython-input-32-6aeae296e5b2>\u001b[0m in \u001b[0;36m<cell line: 0>\u001b[0;34m()\u001b[0m\n\u001b[0;32m----> 1\u001b[0;31m \u001b[0mprint\u001b[0m\u001b[0;34m(\u001b[0m\u001b[0ma\u001b[0m\u001b[0;34m.\u001b[0m\u001b[0mindex\u001b[0m\u001b[0;34m(\u001b[0m\u001b[0;34m'iss'\u001b[0m\u001b[0;34m)\u001b[0m\u001b[0;34m)\u001b[0m\u001b[0;34m\u001b[0m\u001b[0;34m\u001b[0m\u001b[0m\n\u001b[0m",
            "\u001b[0;31mValueError\u001b[0m: substring not found"
          ]
        }
      ]
    },
    {
      "cell_type": "code",
      "source": [
        "import random"
      ],
      "metadata": {
        "id": "CfmbW3t9oufG"
      },
      "execution_count": null,
      "outputs": []
    },
    {
      "cell_type": "code",
      "source": [
        "a='HT'\n",
        "b=random.choice(a)\n",
        "print(b)"
      ],
      "metadata": {
        "colab": {
          "base_uri": "https://localhost:8080/"
        },
        "id": "mkvJARnOo--_",
        "outputId": "f5dec70f-c6fa-4508-fd5e-3a85729c8d62"
      },
      "execution_count": null,
      "outputs": [
        {
          "output_type": "stream",
          "name": "stdout",
          "text": [
            "T\n"
          ]
        }
      ]
    },
    {
      "cell_type": "code",
      "source": [
        "start,end=input(),input()\n",
        "positions='ABCDEFGH'\n",
        "start_hori,start_vert=positions.index(start[0]),int(start[1])\n",
        "end_hori,end_vert=positions.index(end[0]),int(end[1])\n",
        "if abs(start_hori-end_hori)== abs(start_vert-end_vert):\n",
        "  print('yes')\n",
        "else:\n",
        "  print('no')"
      ],
      "metadata": {
        "colab": {
          "base_uri": "https://localhost:8080/",
          "height": 245
        },
        "id": "xY-7jir8pGVL",
        "outputId": "9f9c6be6-11e4-41d0-f84e-7b504abd6474"
      },
      "execution_count": null,
      "outputs": [
        {
          "name": "stdout",
          "output_type": "stream",
          "text": [
            "1\n",
            "3\n"
          ]
        },
        {
          "output_type": "error",
          "ename": "ValueError",
          "evalue": "substring not found",
          "traceback": [
            "\u001b[0;31m---------------------------------------------------------------------------\u001b[0m",
            "\u001b[0;31mValueError\u001b[0m                                Traceback (most recent call last)",
            "\u001b[0;32m<ipython-input-43-80d0e387bcf3>\u001b[0m in \u001b[0;36m<cell line: 0>\u001b[0;34m()\u001b[0m\n\u001b[1;32m      1\u001b[0m \u001b[0mstart\u001b[0m\u001b[0;34m,\u001b[0m\u001b[0mend\u001b[0m\u001b[0;34m=\u001b[0m\u001b[0minput\u001b[0m\u001b[0;34m(\u001b[0m\u001b[0;34m)\u001b[0m\u001b[0;34m,\u001b[0m\u001b[0minput\u001b[0m\u001b[0;34m(\u001b[0m\u001b[0;34m)\u001b[0m\u001b[0;34m\u001b[0m\u001b[0;34m\u001b[0m\u001b[0m\n\u001b[1;32m      2\u001b[0m \u001b[0mpositions\u001b[0m\u001b[0;34m=\u001b[0m\u001b[0;34m'ABCDEFGH'\u001b[0m\u001b[0;34m\u001b[0m\u001b[0;34m\u001b[0m\u001b[0m\n\u001b[0;32m----> 3\u001b[0;31m \u001b[0mstart_hori\u001b[0m\u001b[0;34m,\u001b[0m\u001b[0mstart_vert\u001b[0m\u001b[0;34m=\u001b[0m\u001b[0mpositions\u001b[0m\u001b[0;34m.\u001b[0m\u001b[0mindex\u001b[0m\u001b[0;34m(\u001b[0m\u001b[0mstart\u001b[0m\u001b[0;34m[\u001b[0m\u001b[0;36m0\u001b[0m\u001b[0;34m]\u001b[0m\u001b[0;34m)\u001b[0m\u001b[0;34m,\u001b[0m\u001b[0mint\u001b[0m\u001b[0;34m(\u001b[0m\u001b[0mstart\u001b[0m\u001b[0;34m[\u001b[0m\u001b[0;36m1\u001b[0m\u001b[0;34m]\u001b[0m\u001b[0;34m)\u001b[0m\u001b[0;34m\u001b[0m\u001b[0;34m\u001b[0m\u001b[0m\n\u001b[0m\u001b[1;32m      4\u001b[0m \u001b[0mend_hori\u001b[0m\u001b[0;34m,\u001b[0m\u001b[0mend_vert\u001b[0m\u001b[0;34m=\u001b[0m\u001b[0mpositions\u001b[0m\u001b[0;34m.\u001b[0m\u001b[0mindex\u001b[0m\u001b[0;34m(\u001b[0m\u001b[0mend\u001b[0m\u001b[0;34m[\u001b[0m\u001b[0;36m0\u001b[0m\u001b[0;34m]\u001b[0m\u001b[0;34m)\u001b[0m\u001b[0;34m,\u001b[0m\u001b[0mint\u001b[0m\u001b[0;34m(\u001b[0m\u001b[0mend\u001b[0m\u001b[0;34m[\u001b[0m\u001b[0;36m1\u001b[0m\u001b[0;34m]\u001b[0m\u001b[0;34m)\u001b[0m\u001b[0;34m\u001b[0m\u001b[0;34m\u001b[0m\u001b[0m\n\u001b[1;32m      5\u001b[0m \u001b[0;32mif\u001b[0m \u001b[0mabs\u001b[0m\u001b[0;34m(\u001b[0m\u001b[0mstart_hori\u001b[0m\u001b[0;34m-\u001b[0m\u001b[0mend_hori\u001b[0m\u001b[0;34m)\u001b[0m\u001b[0;34m==\u001b[0m \u001b[0mabs\u001b[0m\u001b[0;34m(\u001b[0m\u001b[0mstart_vert\u001b[0m\u001b[0;34m-\u001b[0m\u001b[0mend_vert\u001b[0m\u001b[0;34m)\u001b[0m\u001b[0;34m:\u001b[0m\u001b[0;34m\u001b[0m\u001b[0;34m\u001b[0m\u001b[0m\n",
            "\u001b[0;31mValueError\u001b[0m: substring not found"
          ]
        }
      ]
    },
    {
      "cell_type": "code",
      "source": [
        "n=int(input())\n",
        "if n!=0:\n",
        "  if n%2==0:\n",
        "    print(\"yes\")\n",
        "  else:\n",
        "    print(\"no\")\n",
        "else:\n",
        "  print(\"enter positive numbers\")"
      ],
      "metadata": {
        "id": "0_hRNuAerb-O",
        "colab": {
          "base_uri": "https://localhost:8080/"
        },
        "outputId": "2b3c0ce0-7582-4786-dd22-5c3224b7a3fc"
      },
      "execution_count": null,
      "outputs": [
        {
          "output_type": "stream",
          "name": "stdout",
          "text": [
            "5\n",
            "no\n"
          ]
        }
      ]
    },
    {
      "cell_type": "code",
      "source": [
        "results=input()\n",
        "print(\"your results were\",results)\n",
        "no_of_matches=len(results)\n",
        "print(\"no_of matches was\",no_of_matches)\n",
        "win_no=results.count('w')\n",
        "print(\"No of victories\",win_no)\n",
        "if results.find('www') != -1:\n",
        "  print(\"It has three winning streaks\")\n",
        "else:\n",
        "  print(\"don't have three winnning streaks\")\n",
        "\n",
        "first_win=results.find('w')\n",
        "if first_win == -1:\n",
        "  print(\"Hasn't won a match\")\n",
        "else:\n",
        "  print(\"first win at \",first_win+1)"
      ],
      "metadata": {
        "colab": {
          "base_uri": "https://localhost:8080/"
        },
        "id": "bNxIgHVVEaOR",
        "outputId": "a7745331-84c0-483c-fa41-bcc1a0f3675e"
      },
      "execution_count": null,
      "outputs": [
        {
          "output_type": "stream",
          "name": "stdout",
          "text": [
            "wwwlw\n",
            "your results were wwwlw\n",
            "no_of matches was 5\n",
            "No of victories 4\n",
            "It has three winning streaks\n",
            "It's first win was 0\n",
            "first win at  1\n"
          ]
        }
      ]
    },
    {
      "cell_type": "code",
      "source": [
        "alphabets='abcdefghijklmnopqrstuvwxyz'\n",
        "i=0\n",
        "k=1\n",
        "print(alphabets[i+k])"
      ],
      "metadata": {
        "colab": {
          "base_uri": "https://localhost:8080/"
        },
        "id": "f3w5prhGG9u0",
        "outputId": "ad9a42b7-5d3b-4f1d-ee0f-98608422acfe"
      },
      "execution_count": null,
      "outputs": [
        {
          "output_type": "stream",
          "name": "stdout",
          "text": [
            "b\n"
          ]
        }
      ]
    },
    {
      "cell_type": "code",
      "source": [
        "name=input()\n",
        "if name.isalpha():\n",
        "  print(\"valid\")\n",
        "else:\n",
        "  print(\"Invalid\")"
      ],
      "metadata": {
        "colab": {
          "base_uri": "https://localhost:8080/"
        },
        "id": "9YVRLPI4IGhp",
        "outputId": "7ec81555-8cb8-4c91-e814-12caea200fda"
      },
      "execution_count": null,
      "outputs": [
        {
          "output_type": "stream",
          "name": "stdout",
          "text": [
            "gdy%\n",
            "Invalid\n"
          ]
        }
      ]
    },
    {
      "cell_type": "markdown",
      "source": [
        "week 2 GA"
      ],
      "metadata": {
        "id": "qrEZbGjnK1rG"
      }
    },
    {
      "cell_type": "code",
      "source": [
        "a,b,c,d=input()"
      ],
      "metadata": {
        "colab": {
          "base_uri": "https://localhost:8080/"
        },
        "id": "mrDBcsAMJYCm",
        "outputId": "fe89bcd2-ecbc-417b-97ed-85e8c664c889"
      },
      "execution_count": null,
      "outputs": [
        {
          "name": "stdout",
          "output_type": "stream",
          "text": [
            "1234\n"
          ]
        }
      ]
    },
    {
      "cell_type": "code",
      "source": [
        "print(b)"
      ],
      "metadata": {
        "colab": {
          "base_uri": "https://localhost:8080/"
        },
        "id": "mr1bT6nOKjFX",
        "outputId": "2c7cddb2-c3be-43dc-8747-9ba1bf7aa353"
      },
      "execution_count": null,
      "outputs": [
        {
          "output_type": "stream",
          "name": "stdout",
          "text": [
            "2\n"
          ]
        }
      ]
    },
    {
      "cell_type": "code",
      "source": [
        "x=bool(False)"
      ],
      "metadata": {
        "id": "1OCbfUVCKlT8"
      },
      "execution_count": null,
      "outputs": []
    },
    {
      "cell_type": "code",
      "source": [
        "print(x)"
      ],
      "metadata": {
        "colab": {
          "base_uri": "https://localhost:8080/"
        },
        "id": "R-uQSc_WLP8y",
        "outputId": "f4b6a390-11ee-448e-d3ec-d302f001c5be"
      },
      "execution_count": null,
      "outputs": [
        {
          "output_type": "stream",
          "name": "stdout",
          "text": [
            "False\n"
          ]
        }
      ]
    },
    {
      "cell_type": "markdown",
      "source": [
        "![image.png](data:image/png;base64,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)"
      ],
      "metadata": {
        "id": "I_y2pM6dZIjC"
      }
    },
    {
      "cell_type": "markdown",
      "source": [
        "![image.png](data:image/png;base64,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)"
      ],
      "metadata": {
        "id": "Wbpy7996ZOTk"
      }
    },
    {
      "cell_type": "code",
      "source": [
        "\n",
        "def is_allowed(start,end):\n",
        "  print(start,'start')\n",
        "  print(end,\"end\")\n",
        "  alpha=\"ABCDEFGH\"\n",
        "  start_diff=abs(alpha.index(start[0])-int(start[1]))\n",
        "  print(start_diff,\"Start diff\")\n",
        "  end_diff=abs(alpha.index(start[0])-int(end[1]))\n",
        "  print(end_diff,\"end_diff\")\n",
        "\n",
        "\n",
        "print(is_allowed(\"C3\",\"E5\")==\"YES\")\n",
        "print(is_allowed(\"H8\",\"A1\")==\"YES\")\n",
        "print(is_allowed(\"B2\",\"D3\")==\"NO\")\n",
        "\n"
      ],
      "metadata": {
        "colab": {
          "base_uri": "https://localhost:8080/"
        },
        "id": "ujO8udyzZJet",
        "outputId": "f6e87087-da5a-4e51-cd51-da25d032baf6"
      },
      "execution_count": null,
      "outputs": [
        {
          "output_type": "stream",
          "name": "stdout",
          "text": [
            "C3 start\n",
            "E5 end\n",
            "1 Start diff\n",
            "3 end_diff\n",
            "False\n",
            "H8 start\n",
            "A1 end\n",
            "1 Start diff\n",
            "6 end_diff\n",
            "False\n",
            "B2 start\n",
            "D3 end\n",
            "1 Start diff\n",
            "2 end_diff\n",
            "False\n"
          ]
        }
      ]
    },
    {
      "cell_type": "code",
      "source": [
        "x=bool(False)"
      ],
      "metadata": {
        "id": "sJWzj89RbHst"
      },
      "execution_count": null,
      "outputs": []
    },
    {
      "cell_type": "code",
      "source": [
        "print(x)"
      ],
      "metadata": {
        "colab": {
          "base_uri": "https://localhost:8080/"
        },
        "id": "2owP1SD0cSxp",
        "outputId": "3d80d404-b2b3-4275-9f49-dbc3e766fee3"
      },
      "execution_count": null,
      "outputs": [
        {
          "output_type": "stream",
          "name": "stdout",
          "text": [
            "False\n"
          ]
        }
      ]
    },
    {
      "cell_type": "code",
      "source": [
        "x=bool(input())\n",
        "x"
      ],
      "metadata": {
        "colab": {
          "base_uri": "https://localhost:8080/"
        },
        "id": "hHvNU5m0cUF9",
        "outputId": "d5021eff-59aa-40cc-f042-a1e9a4d01724"
      },
      "execution_count": null,
      "outputs": [
        {
          "name": "stdout",
          "output_type": "stream",
          "text": [
            "True\n"
          ]
        },
        {
          "output_type": "execute_result",
          "data": {
            "text/plain": [
              "True"
            ]
          },
          "metadata": {},
          "execution_count": 4
        }
      ]
    },
    {
      "cell_type": "code",
      "source": [
        "print(\"when did India got Independence\")\n",
        "n=int(input(\"year: \"))\n",
        "if (n==1947):\n",
        "  print(\"Righht\")\n",
        "else:\n",
        "  print(\"try again\")\n",
        "  n=int(input('year: '))\n",
        "  if (n==1947):\n",
        "    print(\"yes\")\n",
        "  else:\n",
        "    print(\"second attempt was wrong\")"
      ],
      "metadata": {
        "id": "jWqIfoWpcbsD",
        "colab": {
          "base_uri": "https://localhost:8080/"
        },
        "outputId": "f8b6bafe-7456-434f-ab80-22b3e6001139"
      },
      "execution_count": null,
      "outputs": [
        {
          "output_type": "stream",
          "name": "stdout",
          "text": [
            "when did India got Independence\n",
            "year: 1938\n",
            "try again\n",
            "year: 1947\n",
            "yes\n"
          ]
        }
      ]
    },
    {
      "cell_type": "code",
      "source": [
        "print(\"when did India got Independence\")\n",
        "n=int(input(\"year: \"))\n",
        "\n",
        "while(n != 1947):\n",
        "  print(\"try again: \")\n",
        "  n=int(input(\"year\"))\n",
        "\n",
        "print(\"correct\")"
      ],
      "metadata": {
        "colab": {
          "base_uri": "https://localhost:8080/"
        },
        "id": "RJG3zU2iQTHD",
        "outputId": "fc2bcb5c-1e61-4c93-e813-ba9886a2eecb"
      },
      "execution_count": null,
      "outputs": [
        {
          "output_type": "stream",
          "name": "stdout",
          "text": [
            "when did India got Independence\n",
            "year: 1978\n",
            "try again: \n",
            "year1990\n",
            "try again: \n",
            "year1947\n",
            "correct\n"
          ]
        }
      ]
    },
    {
      "cell_type": "code",
      "source": [
        "start,end=input(\"Starting Point\"),input(\"End Point\")\n",
        "positions='ABCDEFGH'\n",
        "hori_start,vert_start=positions.index(start[0]),int(start[1])\n",
        "hori_end,vert_end=positions.index(end[0]),int(end[1])\n",
        "if abs((hori_start-hori_end))==abs((vert_start-vert_end)):\n",
        "  print(\"yes\")\n",
        "else:\n",
        "  print(\"no\")"
      ],
      "metadata": {
        "colab": {
          "base_uri": "https://localhost:8080/"
        },
        "id": "_PgS4yGKQ2K3",
        "outputId": "12b55dbf-a2f5-415b-d960-e7a177ebce77"
      },
      "execution_count": null,
      "outputs": [
        {
          "output_type": "stream",
          "name": "stdout",
          "text": [
            "Starting PointC3\n",
            "End PointE5\n",
            "yes\n"
          ]
        }
      ]
    },
    {
      "cell_type": "markdown",
      "source": [
        "take a string as input and print it back by removing the first and last character of the input string"
      ],
      "metadata": {
        "id": "YJ2SUC_EU68b"
      }
    },
    {
      "cell_type": "code",
      "source": [
        "n=input(\"input: \")\n",
        "print(n[1:-1])\n"
      ],
      "metadata": {
        "colab": {
          "base_uri": "https://localhost:8080/"
        },
        "id": "3mjpa5Z4SrYk",
        "outputId": "9c79fefe-ef15-4768-e7f6-eacce4c95d85"
      },
      "execution_count": null,
      "outputs": [
        {
          "output_type": "stream",
          "name": "stdout",
          "text": [
            "input: hari\n",
            "ar\n"
          ]
        }
      ]
    },
    {
      "cell_type": "markdown",
      "source": [
        "print  15 numbers using while loop , starting from 10"
      ],
      "metadata": {
        "id": "ChDwUWItWM0Q"
      }
    },
    {
      "cell_type": "code",
      "source": [
        "i=int(input(\"enter the starting no: \"))\n",
        "n=int(input(\"how many no's do you want to print: \"))\n",
        "while i <= n:\n",
        "  print(i)\n",
        "  i +=1\n",
        "\n",
        "print(\"enter no greater than starting no\")"
      ],
      "metadata": {
        "colab": {
          "base_uri": "https://localhost:8080/"
        },
        "id": "R6Tk9_HDVUED",
        "outputId": "17195846-789b-4d06-e761-2210af121d2e"
      },
      "execution_count": null,
      "outputs": [
        {
          "output_type": "stream",
          "name": "stdout",
          "text": [
            "enter the starting no: 2\n",
            "how many no's do you want to print: 3\n",
            "2\n",
            "3\n",
            "enter no greater than starting no\n"
          ]
        }
      ]
    },
    {
      "cell_type": "code",
      "source": [
        "list(range(1))"
      ],
      "metadata": {
        "id": "Qz3PFZLGWbEo",
        "colab": {
          "base_uri": "https://localhost:8080/"
        },
        "outputId": "5b6d90b8-c25c-4ece-ec41-2e06ecefff98"
      },
      "execution_count": null,
      "outputs": [
        {
          "output_type": "execute_result",
          "data": {
            "text/plain": [
              "[1, 2, 3, 4, 5, 6]"
            ]
          },
          "metadata": {},
          "execution_count": 11
        }
      ]
    },
    {
      "cell_type": "markdown",
      "source": [
        " take a string as input and print it back by removing the first and last character of the input string"
      ],
      "metadata": {
        "id": "JXjslK2p0rVi"
      }
    },
    {
      "cell_type": "code",
      "source": [
        "a=int(input())\n",
        "b=str(a)\n",
        "print (b[::-1])\n",
        "print(type(b))"
      ],
      "metadata": {
        "colab": {
          "base_uri": "https://localhost:8080/"
        },
        "id": "QFcraZOOwcKg",
        "outputId": "5a351ef5-789f-47ba-f756-a1e02d3e6d6c"
      },
      "execution_count": null,
      "outputs": [
        {
          "output_type": "stream",
          "name": "stdout",
          "text": [
            "12345678\n",
            "87654321\n",
            "<class 'str'>\n"
          ]
        }
      ]
    },
    {
      "cell_type": "code",
      "source": [
        "e='e'\n",
        "l1=['q','w',e,1,2,2.0,{'id':1}]\n",
        "# l2=[1,2,2.0]\n",
        "print(l1)\n",
        "# print(l2)"
      ],
      "metadata": {
        "colab": {
          "base_uri": "https://localhost:8080/"
        },
        "id": "dY-Qo39P03tt",
        "outputId": "1e35a200-cd69-4464-a2ca-118ded8db67b"
      },
      "execution_count": null,
      "outputs": [
        {
          "output_type": "stream",
          "name": "stdout",
          "text": [
            "['q', 'w', 'e', 1, 2, 2.0, {'id': 1}]\n"
          ]
        }
      ]
    },
    {
      "cell_type": "code",
      "source": [
        "len('vasims')"
      ],
      "metadata": {
        "colab": {
          "base_uri": "https://localhost:8080/"
        },
        "id": "YTosVtHX1_Fr",
        "outputId": "35ef1442-0f09-4b57-a656-cf52ca446320"
      },
      "execution_count": null,
      "outputs": [
        {
          "output_type": "execute_result",
          "data": {
            "text/plain": [
              "6"
            ]
          },
          "metadata": {},
          "execution_count": 37
        }
      ]
    },
    {
      "cell_type": "code",
      "source": [
        "alphabets='abcdefghijklmnopqrstuvwxyz'\n",
        "n=input().lower()\n",
        "if len(n)==1:\n",
        "  single_no=alphabets.index(n)+1\n",
        "  print(single_no)\n",
        "else:\n",
        "  first_value,second_value=n\n",
        "  str1=alphabets.index(first_value)+1\n",
        "  str2=alphabets.index(second_value)+1\n",
        "  result=str1 * 26 + str2\n",
        "  print(result)"
      ],
      "metadata": {
        "colab": {
          "base_uri": "https://localhost:8080/"
        },
        "id": "J0pnGXBJ4n7W",
        "outputId": "024e2643-a690-483e-ec5c-e53c32a59452"
      },
      "execution_count": null,
      "outputs": [
        {
          "output_type": "stream",
          "name": "stdout",
          "text": [
            "aa\n",
            "27\n"
          ]
        }
      ]
    },
    {
      "cell_type": "markdown",
      "source": [
        "print all odd number between 3 to 30 , using while loop"
      ],
      "metadata": {
        "id": "bj0zGX8PYC9S"
      }
    },
    {
      "cell_type": "code",
      "source": [
        "i=3\n",
        "while i <=30:\n",
        "  if i%2 != 0:\n",
        "    print(i)\n",
        "  i += 1"
      ],
      "metadata": {
        "id": "2pkA93DuD0_-",
        "colab": {
          "base_uri": "https://localhost:8080/"
        },
        "outputId": "1ff6d529-3e3b-445a-dfd1-48e7bbb37dd2"
      },
      "execution_count": null,
      "outputs": [
        {
          "output_type": "stream",
          "name": "stdout",
          "text": [
            "3\n",
            "5\n",
            "7\n",
            "9\n",
            "11\n",
            "13\n",
            "15\n",
            "17\n",
            "19\n",
            "21\n",
            "23\n",
            "25\n",
            "27\n",
            "29\n"
          ]
        }
      ]
    },
    {
      "cell_type": "markdown",
      "source": [
        "find the factorial of a number using while loop, take number n as input"
      ],
      "metadata": {
        "id": "OT3WaYLcY9cd"
      }
    },
    {
      "cell_type": "code",
      "source": [
        "n=int(input(\"find factorial: \"))\n",
        "fact =1\n",
        "i=1\n",
        "if n>=0:\n",
        "  while i<=n:\n",
        "    fact *= i\n",
        "    i+=1\n",
        "  print(fact)\n",
        "\n",
        "else:\n",
        "  print('Not defined')"
      ],
      "metadata": {
        "colab": {
          "base_uri": "https://localhost:8080/"
        },
        "id": "xjVKLk22YQ5M",
        "outputId": "850a78b2-62d6-4c16-e726-70e1bdbe2295"
      },
      "execution_count": null,
      "outputs": [
        {
          "output_type": "stream",
          "name": "stdout",
          "text": [
            "find factorial: -7\n",
            "Not defined\n"
          ]
        }
      ]
    },
    {
      "cell_type": "markdown",
      "source": [
        "find the no of digits in the given no"
      ],
      "metadata": {
        "id": "WE51XspBarXJ"
      }
    },
    {
      "cell_type": "code",
      "source": [
        "n=int(input(\"Enter the numbers\"))\n",
        "b=abs(n)\n",
        "c=str(b)\n",
        "print(len(c))"
      ],
      "metadata": {
        "colab": {
          "base_uri": "https://localhost:8080/"
        },
        "id": "mgq60lguZ-Wb",
        "outputId": "8f233113-0bc2-4bce-e041-91af86c47b36"
      },
      "execution_count": null,
      "outputs": [
        {
          "output_type": "stream",
          "name": "stdout",
          "text": [
            "Enter the numbers-4\n",
            "1\n"
          ]
        }
      ]
    },
    {
      "cell_type": "markdown",
      "source": [
        "reverse the digits in the given number"
      ],
      "metadata": {
        "id": "C_KtD5WOdDQR"
      }
    },
    {
      "cell_type": "code",
      "source": [
        "a=int(input(\"Enter the numbers: \"))\n",
        "if a>0:\n",
        "  c=str(a)\n",
        "  print(c[::-1])\n",
        "else:\n",
        "  d=abs(a)\n",
        "  e=str(d)\n",
        "  print('-'+e[::-1])"
      ],
      "metadata": {
        "colab": {
          "base_uri": "https://localhost:8080/"
        },
        "id": "1lttg9uHccOc",
        "outputId": "41cf9998-74af-44ef-ebe9-ad5904b3fda8"
      },
      "execution_count": null,
      "outputs": [
        {
          "output_type": "stream",
          "name": "stdout",
          "text": [
            "Enter the numbers: -1234\n",
            "-4321\n"
          ]
        }
      ]
    },
    {
      "cell_type": "markdown",
      "source": [
        "find palindrome or not"
      ],
      "metadata": {
        "id": "S1_cpR1hhii9"
      }
    },
    {
      "cell_type": "code",
      "source": [
        "a=input(\"Enter the number: \")\n",
        "b=a[::-1]\n",
        "c=int(a)\n",
        "\n",
        "if c>0:\n",
        "  if a==b:\n",
        "    print(\"palindrome\")\n",
        "  else:\n",
        "    print(\"Not a palindrome\")\n",
        "\n",
        "else:\n",
        "  d=abs(c)\n",
        "  e=str(d)\n",
        "  f=('-'+ e[::-1])\n",
        "  if a==f:\n",
        "    print(\"palindrome\")\n",
        "  else:\n",
        "    print(\"Not a palindrome\")"
      ],
      "metadata": {
        "colab": {
          "base_uri": "https://localhost:8080/"
        },
        "id": "RV6BZJW_dOSk",
        "outputId": "c4949df5-59c5-4f4a-994a-8bf8a65b1c38"
      },
      "execution_count": null,
      "outputs": [
        {
          "output_type": "stream",
          "name": "stdout",
          "text": [
            "Enter the number: -1234\n",
            "Not a palindrome\n"
          ]
        }
      ]
    },
    {
      "cell_type": "code",
      "source": [
        "for i in range(10):\n",
        "  print(i,\"Hello India\")"
      ],
      "metadata": {
        "colab": {
          "base_uri": "https://localhost:8080/"
        },
        "id": "WPS6j2ryivE7",
        "outputId": "16ec0e1f-d39c-405e-aa6d-cc34d5b427da"
      },
      "execution_count": null,
      "outputs": [
        {
          "output_type": "stream",
          "name": "stdout",
          "text": [
            "0 Hello India\n",
            "1 Hello India\n",
            "2 Hello India\n",
            "3 Hello India\n",
            "4 Hello India\n",
            "5 Hello India\n",
            "6 Hello India\n",
            "7 Hello India\n",
            "8 Hello India\n",
            "9 Hello India\n"
          ]
        }
      ]
    },
    {
      "cell_type": "markdown",
      "source": [
        " take a number as input and find the sum of numbers from 1 to that number"
      ],
      "metadata": {
        "id": "U_4s1jY-khOR"
      }
    },
    {
      "cell_type": "code",
      "source": [
        "n=int(input(\"Enter a number: \"))\n",
        "sum=0\n",
        "for i in range(1,(n+1)):\n",
        "  print(i)\n",
        "  sum += i\n",
        "print(sum)"
      ],
      "metadata": {
        "id": "ZSDqDvf8kbKa",
        "colab": {
          "base_uri": "https://localhost:8080/"
        },
        "outputId": "a95c3fcf-5ff5-4089-8f71-903bd1d9fb98"
      },
      "execution_count": null,
      "outputs": [
        {
          "output_type": "stream",
          "name": "stdout",
          "text": [
            "Enter a number: 5\n",
            "1\n",
            "2\n",
            "3\n",
            "4\n",
            "5\n",
            "15\n"
          ]
        }
      ]
    },
    {
      "cell_type": "code",
      "source": [
        "n=int(input(\"which table you want to print: \"))\n",
        "for i in range(1,11):\n",
        "  print (i * n)"
      ],
      "metadata": {
        "colab": {
          "base_uri": "https://localhost:8080/"
        },
        "id": "QjKusOWxwUxu",
        "outputId": "b0ced99b-7048-4b87-fd15-04a42a7c3a43"
      },
      "execution_count": null,
      "outputs": [
        {
          "output_type": "stream",
          "name": "stdout",
          "text": [
            "which table you want to print: 2\n",
            "2\n",
            "4\n",
            "6\n",
            "8\n",
            "10\n",
            "12\n",
            "14\n",
            "16\n",
            "18\n",
            "20\n"
          ]
        }
      ]
    },
    {
      "cell_type": "code",
      "source": [
        "for i in range(1,11,2):\n",
        "  print(i)\n",
        "print('--------------------')\n",
        "for i in range(1,11,3):\n",
        "  print(i)\n",
        "print('--------------------')\n",
        "for i in range(9,-2,-1):\n",
        "  print(i)\n",
        "print('--------------------')\n",
        "for i in range(9,-1,-2):\n",
        "  print(i)\n",
        "print('--------------------')"
      ],
      "metadata": {
        "colab": {
          "base_uri": "https://localhost:8080/"
        },
        "id": "tIMasD0DxM7b",
        "outputId": "d91b90be-e05a-4124-fa7d-70aa8b0b33ee"
      },
      "execution_count": null,
      "outputs": [
        {
          "output_type": "stream",
          "name": "stdout",
          "text": [
            "1\n",
            "3\n",
            "5\n",
            "7\n",
            "9\n",
            "--------------------\n",
            "1\n",
            "4\n",
            "7\n",
            "10\n",
            "--------------------\n",
            "9\n",
            "8\n",
            "7\n",
            "6\n",
            "5\n",
            "4\n",
            "3\n",
            "2\n",
            "1\n",
            "0\n",
            "-1\n",
            "--------------------\n",
            "9\n",
            "7\n",
            "5\n",
            "3\n",
            "1\n",
            "--------------------\n"
          ]
        }
      ]
    },
    {
      "cell_type": "markdown",
      "source": [
        " print all the letters of 'chennai' in a separate line using for loop"
      ],
      "metadata": {
        "id": "MrsFVvfryFAM"
      }
    },
    {
      "cell_type": "code",
      "source": [
        "a='chennai'\n",
        "for i in range(len(a)):\n",
        "  print (a[i])"
      ],
      "metadata": {
        "colab": {
          "base_uri": "https://localhost:8080/"
        },
        "id": "dEOoi543xyZw",
        "outputId": "461438fd-4c2a-4ead-d7b6-5850bbe6ccc0"
      },
      "execution_count": null,
      "outputs": [
        {
          "output_type": "stream",
          "name": "stdout",
          "text": [
            "c\n",
            "h\n",
            "e\n",
            "n\n",
            "n\n",
            "a\n",
            "i\n"
          ]
        }
      ]
    },
    {
      "cell_type": "markdown",
      "source": [
        " write a code to get the output as below using for loop\n",
        " note: you can use two for loops if needed\n",
        "'''\n",
        "OUTPUT: '1 2 3 4 5 6 7 8 9'\n",
        "OUTPUT: '1,2,3,4,5,6,7,8,9,'\n",
        "\n",
        "'''"
      ],
      "metadata": {
        "id": "lLYp7vS1ymze"
      }
    },
    {
      "cell_type": "code",
      "source": [
        "for i in range(1,10):\n",
        "  print(i,end=' ')\n",
        "print('-----------------')\n",
        "for j in range(1,10):\n",
        "  print(j,end=',')"
      ],
      "metadata": {
        "colab": {
          "base_uri": "https://localhost:8080/"
        },
        "id": "cAVFkxfkyQ2S",
        "outputId": "d896c560-dbc4-4ae5-ca1c-972492336c0f"
      },
      "execution_count": null,
      "outputs": [
        {
          "output_type": "stream",
          "name": "stdout",
          "text": [
            "1 2 3 4 5 6 7 8 9 -----------------\n",
            "1,2,3,4,5,6,7,8,9,"
          ]
        }
      ]
    },
    {
      "cell_type": "code",
      "source": [
        "# predict the output\n",
        "\n",
        "print(1,2,3,4,5)\n",
        "print(1,2,3,4,5,sep='/')\n",
        "print(1,2,3,4,5,sep='|')\n",
        "print(1,2,3,4,5,sep='-')"
      ],
      "metadata": {
        "colab": {
          "base_uri": "https://localhost:8080/"
        },
        "id": "TqjkF0rIy562",
        "outputId": "c9f8b9d8-9f46-4207-b3e9-13d5c927a5b3"
      },
      "execution_count": null,
      "outputs": [
        {
          "output_type": "stream",
          "name": "stdout",
          "text": [
            "1 2 3 4 5\n",
            "1/2/3/4/5\n",
            "1|2|3|4|5\n",
            "1-2-3-4-5\n"
          ]
        }
      ]
    },
    {
      "cell_type": "code",
      "source": [
        "#  modify a code so that the output is as below\n",
        "\n",
        "print(1,2,3,4,5)\n",
        "\n",
        "# expected output is  : 1.2.3.4.5\n",
        "\n",
        "print(1,2,3,4,5 , sep='.')"
      ],
      "metadata": {
        "colab": {
          "base_uri": "https://localhost:8080/"
        },
        "id": "XqdAvBHszOBe",
        "outputId": "9c602122-c790-44de-c4e6-a070e5109683"
      },
      "execution_count": null,
      "outputs": [
        {
          "output_type": "stream",
          "name": "stdout",
          "text": [
            "1 2 3 4 5\n",
            "1.2.3.4.5\n"
          ]
        }
      ]
    },
    {
      "cell_type": "code",
      "source": [
        "d=10\n",
        "m=5\n",
        "y=2021\n",
        "print(\"Today's date is \", d,m,y, sep='/')\n",
        "print(d,m,y,sep='/')"
      ],
      "metadata": {
        "colab": {
          "base_uri": "https://localhost:8080/"
        },
        "id": "ZjjAiZA1zht2",
        "outputId": "8869a6c7-35f3-4dbe-c78a-3c5821207554"
      },
      "execution_count": null,
      "outputs": [
        {
          "output_type": "stream",
          "name": "stdout",
          "text": [
            "Today's date is /10/5/2021\n",
            "10/5/2021\n"
          ]
        }
      ]
    },
    {
      "cell_type": "code",
      "source": [
        "num=int(input())\n",
        "for i in range(1,11):\n",
        "  print('%d x %d = %d' % (num,i,num*i))"
      ],
      "metadata": {
        "colab": {
          "base_uri": "https://localhost:8080/"
        },
        "id": "1kA6v39Gzx2l",
        "outputId": "7f2c1da8-df0e-48d7-bd2e-cf7b0db797ef"
      },
      "execution_count": null,
      "outputs": [
        {
          "output_type": "stream",
          "name": "stdout",
          "text": [
            "2\n",
            "2 x 1 = 2\n",
            "2 x 2 = 4\n",
            "2 x 3 = 6\n",
            "2 x 4 = 8\n",
            "2 x 5 = 10\n",
            "2 x 6 = 12\n",
            "2 x 7 = 14\n",
            "2 x 8 = 16\n",
            "2 x 9 = 18\n",
            "2 x 10 = 20\n"
          ]
        }
      ]
    },
    {
      "cell_type": "code",
      "source": [
        "n=int(input(\"which table you need to print: \"))\n",
        "for i in range(1,11):\n",
        "  print(f'{i} * {n} = {i*n}' )"
      ],
      "metadata": {
        "colab": {
          "base_uri": "https://localhost:8080/"
        },
        "id": "kFL6Ovgc0rjp",
        "outputId": "213b7cad-53c0-4db4-e120-b26cf720e434"
      },
      "execution_count": null,
      "outputs": [
        {
          "output_type": "stream",
          "name": "stdout",
          "text": [
            "which table you need to print: 6\n",
            "1 * 6 = 6\n",
            "2 * 6 = 12\n",
            "3 * 6 = 18\n",
            "4 * 6 = 24\n",
            "5 * 6 = 30\n",
            "6 * 6 = 36\n",
            "7 * 6 = 42\n",
            "8 * 6 = 48\n",
            "9 * 6 = 54\n",
            "10 * 6 = 60\n"
          ]
        }
      ]
    },
    {
      "cell_type": "code",
      "source": [
        "l=[1,2,3,4]\n",
        "for i in range(len(l)):\n",
        "  print(l[i]>2,end=' ')"
      ],
      "metadata": {
        "id": "MNwPiwls6QtT",
        "colab": {
          "base_uri": "https://localhost:8080/"
        },
        "outputId": "77cd1b0c-23df-495a-cf28-c14525fec2f9"
      },
      "execution_count": null,
      "outputs": [
        {
          "output_type": "stream",
          "name": "stdout",
          "text": [
            "False False True True "
          ]
        }
      ]
    },
    {
      "cell_type": "code",
      "source": [
        "help(list)"
      ],
      "metadata": {
        "colab": {
          "base_uri": "https://localhost:8080/"
        },
        "id": "sWkWxSE2IY-X",
        "outputId": "42b3e2f2-d364-4e2e-a178-b13c65f5fa5e"
      },
      "execution_count": null,
      "outputs": [
        {
          "output_type": "stream",
          "name": "stdout",
          "text": [
            "Help on class list in module builtins:\n",
            "\n",
            "class list(object)\n",
            " |  list(iterable=(), /)\n",
            " |  \n",
            " |  Built-in mutable sequence.\n",
            " |  \n",
            " |  If no argument is given, the constructor creates a new empty list.\n",
            " |  The argument must be an iterable if specified.\n",
            " |  \n",
            " |  Methods defined here:\n",
            " |  \n",
            " |  __add__(self, value, /)\n",
            " |      Return self+value.\n",
            " |  \n",
            " |  __contains__(self, key, /)\n",
            " |      Return key in self.\n",
            " |  \n",
            " |  __delitem__(self, key, /)\n",
            " |      Delete self[key].\n",
            " |  \n",
            " |  __eq__(self, value, /)\n",
            " |      Return self==value.\n",
            " |  \n",
            " |  __ge__(self, value, /)\n",
            " |      Return self>=value.\n",
            " |  \n",
            " |  __getattribute__(self, name, /)\n",
            " |      Return getattr(self, name).\n",
            " |  \n",
            " |  __getitem__(...)\n",
            " |      x.__getitem__(y) <==> x[y]\n",
            " |  \n",
            " |  __gt__(self, value, /)\n",
            " |      Return self>value.\n",
            " |  \n",
            " |  __iadd__(self, value, /)\n",
            " |      Implement self+=value.\n",
            " |  \n",
            " |  __imul__(self, value, /)\n",
            " |      Implement self*=value.\n",
            " |  \n",
            " |  __init__(self, /, *args, **kwargs)\n",
            " |      Initialize self.  See help(type(self)) for accurate signature.\n",
            " |  \n",
            " |  __iter__(self, /)\n",
            " |      Implement iter(self).\n",
            " |  \n",
            " |  __le__(self, value, /)\n",
            " |      Return self<=value.\n",
            " |  \n",
            " |  __len__(self, /)\n",
            " |      Return len(self).\n",
            " |  \n",
            " |  __lt__(self, value, /)\n",
            " |      Return self<value.\n",
            " |  \n",
            " |  __mul__(self, value, /)\n",
            " |      Return self*value.\n",
            " |  \n",
            " |  __ne__(self, value, /)\n",
            " |      Return self!=value.\n",
            " |  \n",
            " |  __repr__(self, /)\n",
            " |      Return repr(self).\n",
            " |  \n",
            " |  __reversed__(self, /)\n",
            " |      Return a reverse iterator over the list.\n",
            " |  \n",
            " |  __rmul__(self, value, /)\n",
            " |      Return value*self.\n",
            " |  \n",
            " |  __setitem__(self, key, value, /)\n",
            " |      Set self[key] to value.\n",
            " |  \n",
            " |  __sizeof__(self, /)\n",
            " |      Return the size of the list in memory, in bytes.\n",
            " |  \n",
            " |  append(self, object, /)\n",
            " |      Append object to the end of the list.\n",
            " |  \n",
            " |  clear(self, /)\n",
            " |      Remove all items from list.\n",
            " |  \n",
            " |  copy(self, /)\n",
            " |      Return a shallow copy of the list.\n",
            " |  \n",
            " |  count(self, value, /)\n",
            " |      Return number of occurrences of value.\n",
            " |  \n",
            " |  extend(self, iterable, /)\n",
            " |      Extend list by appending elements from the iterable.\n",
            " |  \n",
            " |  index(self, value, start=0, stop=9223372036854775807, /)\n",
            " |      Return first index of value.\n",
            " |      \n",
            " |      Raises ValueError if the value is not present.\n",
            " |  \n",
            " |  insert(self, index, object, /)\n",
            " |      Insert object before index.\n",
            " |  \n",
            " |  pop(self, index=-1, /)\n",
            " |      Remove and return item at index (default last).\n",
            " |      \n",
            " |      Raises IndexError if list is empty or index is out of range.\n",
            " |  \n",
            " |  remove(self, value, /)\n",
            " |      Remove first occurrence of value.\n",
            " |      \n",
            " |      Raises ValueError if the value is not present.\n",
            " |  \n",
            " |  reverse(self, /)\n",
            " |      Reverse *IN PLACE*.\n",
            " |  \n",
            " |  sort(self, /, *, key=None, reverse=False)\n",
            " |      Sort the list in ascending order and return None.\n",
            " |      \n",
            " |      The sort is in-place (i.e. the list itself is modified) and stable (i.e. the\n",
            " |      order of two equal elements is maintained).\n",
            " |      \n",
            " |      If a key function is given, apply it once to each list item and sort them,\n",
            " |      ascending or descending, according to their function values.\n",
            " |      \n",
            " |      The reverse flag can be set to sort in descending order.\n",
            " |  \n",
            " |  ----------------------------------------------------------------------\n",
            " |  Class methods defined here:\n",
            " |  \n",
            " |  __class_getitem__(...)\n",
            " |      See PEP 585\n",
            " |  \n",
            " |  ----------------------------------------------------------------------\n",
            " |  Static methods defined here:\n",
            " |  \n",
            " |  __new__(*args, **kwargs)\n",
            " |      Create and return a new object.  See help(type) for accurate signature.\n",
            " |  \n",
            " |  ----------------------------------------------------------------------\n",
            " |  Data and other attributes defined here:\n",
            " |  \n",
            " |  __hash__ = None\n",
            "\n"
          ]
        }
      ]
    },
    {
      "cell_type": "markdown",
      "source": [
        "write a code to print the below output ,\n",
        "using nested for loops\n",
        "\n",
        "input=\"abcd\"\n",
        "'''\n",
        "0 0 a a\n",
        "0 1 a b\n",
        "0 2 a c\n",
        "0 3 a d\n",
        "1 0 b a\n",
        "1 1 b b\n",
        "1 2 b c\n",
        "1 3 b d\n",
        "2 0 c a\n",
        "2 1 c b\n",
        "2 2 c c\n",
        "2 3 c d\n",
        "3 0 d a\n",
        "3 1 d b\n",
        "3 2 d c\n",
        "3 3 d d\n",
        "'''"
      ],
      "metadata": {
        "id": "_WwgwrFhQCoD"
      }
    },
    {
      "cell_type": "code",
      "source": [
        "a='abcd'\n",
        "for i in range(len(a)):\n",
        "  for j in range(len(a)):\n",
        "    print(i,j,a[i],a[j])"
      ],
      "metadata": {
        "id": "pk6JrzMRglCS",
        "colab": {
          "base_uri": "https://localhost:8080/"
        },
        "outputId": "e35889c8-8d15-4b2b-c3b4-cd1dcf7335e4"
      },
      "execution_count": null,
      "outputs": [
        {
          "output_type": "stream",
          "name": "stdout",
          "text": [
            "0 0 a a\n",
            "0 1 a b\n",
            "0 2 a c\n",
            "0 3 a d\n",
            "1 0 b a\n",
            "1 1 b b\n",
            "1 2 b c\n",
            "1 3 b d\n",
            "2 0 c a\n",
            "2 1 c b\n",
            "2 2 c c\n",
            "2 3 c d\n",
            "3 0 d a\n",
            "3 1 d b\n",
            "3 2 d c\n",
            "3 3 d d\n"
          ]
        }
      ]
    },
    {
      "cell_type": "code",
      "source": [
        "s='VIBGYOR'\n",
        "t='VIBGYOR'\n",
        "for i in range(len(s)):\n",
        "  for j in range(len(t)):\n",
        "    print(s[i],s[j])"
      ],
      "metadata": {
        "colab": {
          "base_uri": "https://localhost:8080/"
        },
        "id": "QL5e4GoMQNmv",
        "outputId": "2a46de6b-1d64-4d09-cdf4-df288140fb25"
      },
      "execution_count": null,
      "outputs": [
        {
          "output_type": "stream",
          "name": "stdout",
          "text": [
            "V V\n",
            "V I\n",
            "V B\n",
            "V G\n",
            "V Y\n",
            "V O\n",
            "V R\n",
            "I V\n",
            "I I\n",
            "I B\n",
            "I G\n",
            "I Y\n",
            "I O\n",
            "I R\n",
            "B V\n",
            "B I\n",
            "B B\n",
            "B G\n",
            "B Y\n",
            "B O\n",
            "B R\n",
            "G V\n",
            "G I\n",
            "G B\n",
            "G G\n",
            "G Y\n",
            "G O\n",
            "G R\n",
            "Y V\n",
            "Y I\n",
            "Y B\n",
            "Y G\n",
            "Y Y\n",
            "Y O\n",
            "Y R\n",
            "O V\n",
            "O I\n",
            "O B\n",
            "O G\n",
            "O Y\n",
            "O O\n",
            "O R\n",
            "R V\n",
            "R I\n",
            "R B\n",
            "R G\n",
            "R Y\n",
            "R O\n",
            "R R\n"
          ]
        }
      ]
    },
    {
      "cell_type": "markdown",
      "source": [
        "find all prime numbers less than the entered number"
      ],
      "metadata": {
        "id": "amEAX9c0Qv7A"
      }
    },
    {
      "cell_type": "code",
      "source": [
        "email=input()\n",
        "for c in email:\n",
        "  if c=='@':\n",
        "    break\n",
        "  print (c)"
      ],
      "metadata": {
        "colab": {
          "base_uri": "https://localhost:8080/"
        },
        "id": "8qynuOOJQeHg",
        "outputId": "3c10eac7-fb17-402a-e8a0-d6dd4ba5ebd9"
      },
      "execution_count": null,
      "outputs": [
        {
          "output_type": "stream",
          "name": "stdout",
          "text": [
            "praveenop@gmail.com\n",
            "p\n",
            "r\n",
            "a\n",
            "v\n",
            "e\n",
            "e\n",
            "n\n",
            "o\n",
            "p\n"
          ]
        }
      ]
    },
    {
      "cell_type": "markdown",
      "source": [
        "**ADDITIONAL QUESTIONS WEEK 3**"
      ],
      "metadata": {
        "id": "JwavKrPangJ8"
      }
    },
    {
      "cell_type": "code",
      "source": [
        "i=1\n",
        "sum=0\n",
        "while(i<=100):\n",
        "  if(i%2 != 0):\n",
        "    sum = sum+i\n",
        "  i+=1\n",
        "print(sum)"
      ],
      "metadata": {
        "id": "SxPF34pyZChm",
        "colab": {
          "base_uri": "https://localhost:8080/"
        },
        "outputId": "e0403207-9326-458f-bdd5-fbd3794800e7"
      },
      "execution_count": null,
      "outputs": [
        {
          "output_type": "stream",
          "name": "stdout",
          "text": [
            "2500\n"
          ]
        }
      ]
    },
    {
      "cell_type": "code",
      "source": [
        "n=1\n",
        "total=0\n",
        "while(n<=100):\n",
        "    if n%2!=0:\n",
        "        total+=n\n",
        "    n+=1\n",
        "print(total)"
      ],
      "metadata": {
        "colab": {
          "base_uri": "https://localhost:8080/"
        },
        "id": "m-v5kbRZoswX",
        "outputId": "d2993eb1-06ce-4d4d-b768-f5a6481ee127"
      },
      "execution_count": null,
      "outputs": [
        {
          "output_type": "stream",
          "name": "stdout",
          "text": [
            "2500\n"
          ]
        }
      ]
    },
    {
      "cell_type": "code",
      "source": [
        "for i in range(10,0,-1):\n",
        "  if(i%2==0):\n",
        "    print(i)"
      ],
      "metadata": {
        "colab": {
          "base_uri": "https://localhost:8080/"
        },
        "id": "IJNKJ1o8uta9",
        "outputId": "5ce2cf0b-23cb-45cd-9ea8-51c8aa385924"
      },
      "execution_count": null,
      "outputs": [
        {
          "output_type": "stream",
          "name": "stdout",
          "text": [
            "10\n",
            "8\n",
            "6\n",
            "4\n",
            "2\n"
          ]
        }
      ]
    },
    {
      "cell_type": "code",
      "source": [
        "n=int(input())\n",
        "fact=1\n",
        "sum=0\n",
        "for i in range(1,n+1):\n",
        "  fact*=i\n",
        "  # print(fact,end=' ')\n",
        "  sum+=fact\n",
        "print(sum/n)"
      ],
      "metadata": {
        "colab": {
          "base_uri": "https://localhost:8080/"
        },
        "id": "Utf6UzlcvQEH",
        "outputId": "2ef70f0d-15b7-4a64-a7a5-89f9f18bfb48"
      },
      "execution_count": null,
      "outputs": [
        {
          "output_type": "stream",
          "name": "stdout",
          "text": [
            "5\n",
            "30.6\n"
          ]
        }
      ]
    },
    {
      "cell_type": "markdown",
      "source": [
        "DEMO\n"
      ],
      "metadata": {
        "id": "eeS9J9e99uDF"
      }
    },
    {
      "cell_type": "code",
      "source": [
        "n = int(input())\n",
        "total = 0\n",
        "for i in range(1,n+1):\n",
        "    fact = 1\n",
        "    j = 1\n",
        "    while j <= i:\n",
        "        fact *= j\n",
        "        j += 1\n",
        "    total += fact\n",
        "avg = total / n\n",
        "print(avg)"
      ],
      "metadata": {
        "colab": {
          "base_uri": "https://localhost:8080/"
        },
        "id": "IbCHPtgVwbMC",
        "outputId": "dc689085-fc69-4270-dc04-b7aeda0b5147"
      },
      "execution_count": null,
      "outputs": [
        {
          "output_type": "stream",
          "name": "stdout",
          "text": [
            "5\n",
            "30.6\n"
          ]
        }
      ]
    },
    {
      "cell_type": "code",
      "source": [
        "l1=[1,2,3,4,5,6,7,8,9,10]\n",
        "for i in l1:\n",
        "  if(l1[i-1]%i==0):\n",
        "    print(i)"
      ],
      "metadata": {
        "id": "vfzN66rg9k1B",
        "colab": {
          "base_uri": "https://localhost:8080/",
          "height": 106
        },
        "outputId": "1a0b1517-f1e6-47ef-f9af-9f17f56887e4"
      },
      "execution_count": null,
      "outputs": [
        {
          "output_type": "error",
          "ename": "IndentationError",
          "evalue": "expected an indented block after 'if' statement on line 4 (<ipython-input-26-bfd5f016cbfd>, line 5)",
          "traceback": [
            "\u001b[0;36m  File \u001b[0;32m\"<ipython-input-26-bfd5f016cbfd>\"\u001b[0;36m, line \u001b[0;32m5\u001b[0m\n\u001b[0;31m    print(i)\u001b[0m\n\u001b[0m    ^\u001b[0m\n\u001b[0;31mIndentationError\u001b[0m\u001b[0;31m:\u001b[0m expected an indented block after 'if' statement on line 4\n"
          ]
        }
      ]
    },
    {
      "cell_type": "code",
      "source": [
        "a={'vasims':7894613131,\n",
        "   'brindhan':874655464,\n",
        "   'babuyogesh':25468451}"
      ],
      "metadata": {
        "id": "Ky4vURtvffI-"
      },
      "execution_count": null,
      "outputs": []
    },
    {
      "cell_type": "code",
      "source": [
        "a['brindhan']=4444444"
      ],
      "metadata": {
        "id": "T10hrLDnq6ni"
      },
      "execution_count": null,
      "outputs": []
    },
    {
      "cell_type": "code",
      "source": [
        "print(a['brindhan'])"
      ],
      "metadata": {
        "colab": {
          "base_uri": "https://localhost:8080/"
        },
        "id": "5l2yXJIJrEyd",
        "outputId": "66c0a4bf-6912-49bc-f2d8-b18396be5831"
      },
      "execution_count": null,
      "outputs": [
        {
          "output_type": "stream",
          "name": "stdout",
          "text": [
            "4444444\n"
          ]
        }
      ]
    },
    {
      "cell_type": "code",
      "source": [
        "a.pop('babuyogesh')"
      ],
      "metadata": {
        "colab": {
          "base_uri": "https://localhost:8080/"
        },
        "id": "6LGhRoIgrQt6",
        "outputId": "9f1595ab-a365-4ea9-e7d9-87c046e8f909"
      },
      "execution_count": null,
      "outputs": [
        {
          "output_type": "execute_result",
          "data": {
            "text/plain": [
              "25468451"
            ]
          },
          "metadata": {},
          "execution_count": 32
        }
      ]
    },
    {
      "cell_type": "code",
      "source": [
        "print(a)"
      ],
      "metadata": {
        "colab": {
          "base_uri": "https://localhost:8080/"
        },
        "id": "KGx8UI7Erv5-",
        "outputId": "21cbb0a8-5477-4101-a203-b5013baf26de"
      },
      "execution_count": null,
      "outputs": [
        {
          "output_type": "stream",
          "name": "stdout",
          "text": [
            "{'vasims': 7894613131, 'brindhan': 4444444}\n"
          ]
        }
      ]
    },
    {
      "cell_type": "code",
      "source": [
        "a['Ram_sir']=7895456322"
      ],
      "metadata": {
        "id": "yK6V4jowr0qb"
      },
      "execution_count": null,
      "outputs": []
    },
    {
      "cell_type": "code",
      "source": [
        "# for i in a:\n",
        "print (list(a.keys()))"
      ],
      "metadata": {
        "colab": {
          "base_uri": "https://localhost:8080/"
        },
        "id": "i22To6pAsKXt",
        "outputId": "6fd34e52-40f9-4677-c056-416a72f10e27"
      },
      "execution_count": null,
      "outputs": [
        {
          "output_type": "stream",
          "name": "stdout",
          "text": [
            "['vasims', 'brindhan', 'Ram_sir']\n"
          ]
        }
      ]
    },
    {
      "cell_type": "markdown",
      "source": [
        "![image.png](data:image/png;base64,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)"
      ],
      "metadata": {
        "id": "BfkFEZBxh5YE"
      }
    },
    {
      "cell_type": "code",
      "source": [
        "alphabets='abcdefghijklmnopqrstuvwxyz'\n",
        "vowels='aeiou'"
      ],
      "metadata": {
        "id": "0W_MruOnsLUr"
      },
      "execution_count": null,
      "outputs": []
    },
    {
      "cell_type": "code",
      "source": [
        "a=input(\"Enter the name: \")\n",
        "for i in a:\n",
        "  if(i in vowels):\n",
        "    break\n",
        "  print(i,end=',')"
      ],
      "metadata": {
        "colab": {
          "base_uri": "https://localhost:8080/"
        },
        "id": "G71YP29liG8F",
        "outputId": "6aa4532e-02c7-4161-97bb-03820d18a4bb"
      },
      "execution_count": null,
      "outputs": [
        {
          "output_type": "stream",
          "name": "stdout",
          "text": [
            "Enter the name: demon\n",
            "d,"
          ]
        }
      ]
    },
    {
      "cell_type": "markdown",
      "source": [
        "![image.png](data:image/png;base64,iVBORw0KGgoAAAANSUhEUgAAAx0AAAEICAYAAAA6HZmSAAAAAXNSR0IArs4c6QAAAARnQU1BAACxjwv8YQUAAAAJcEhZcwAADsMAAA7DAcdvqGQAAJEESURBVHhe7f17cFzXfeeLfvmW/IrDvkJi0SbYGuWPOZK6UNXtEEazQArWDWwoISxZM5QyDUwVSF3ZotRAXBnQuaPuOYXWHybGxwRwRUmZkF23wD4lwcex0ZgSJshhEBLDhsG45xJsSklcw1GTVJEOQTYl60kSj33/2Ht3r73W2q/u3nj+PlW7Clh77fV+/db6/VavUxRFAUEQBEEQBEEQax43ogHvl/2f/3t98T+CIAiCIAiCIAgPIKGDIAiCIAiCIAhPIaGDIAiCIAiCIAhPIaGDIAiCIAiCIAhPIaGDIAiCIAiCIAhPIaGDIAiCIAiCIAhPIaGDIAiCIAiCIAhPIaGDIAiCIAiCIAhPIaGDIAiCIAiCIAhX8D8MaAcJHQRBEARBEARBeAoJHQRBEARBEARBeAoJHQRBEARBEARBeMo6xa1CViXMpNHZkoD/WBZddfxLgiB4cgMhdFyMYWygFT7+JVFlcugLdSAfH0P/XpvSXvSxzEXa1iif3r6Du3fvYm5ugX+1Itm0aQPu2bIZWzZv5l8tDS7a/Eqoi02bNmDL5s24Z0v1y7cw0onmHj+S2S4E+JfLDEVRMDs3h4UFxbV+fjVYv349tmzexDsTS4zTtiDzx7rxf5dOOmbS6AyF0DlSKDrx70IDOf4NgALS0RBC0TQkXxIEQRCEpxQ++BAffvQJ7tydg6Koi6eV/ty5O4v3f/sxPvjwIz67y5pbxbqYFfK0nJ47d2fxwYcf49YHH/JZWDN89MmnuH7zfdz64CN8+Mmn+HgJnrt37/LJIlYxJaGjZheaGoDMpasGDwBQmBpHBgAGxyGKHVeRnwTCj+2y34mtaUV/lt8lyaEv1CcJl1g5UB1Kme4zEdQluPHrBUsd/7IggK5sljtJKCAd7UR6hnGC2VjmJbK0ucEkH6uADz78CLOzc7h3yyZ8/t7NuPeeTavi+dw9m7Fl80bcvjOLu3dn+WwvSz67fQd3Z+dwz5ZN+Py9W4Q8LadHL9+7s3O4ffsOn5VVz4Ki4NPP7mDTpg34wue24HNbNuHeezYXn3f/v/9PfLtZe+L/Nz5j3lXz2biBtPzXEkxt++B/UC5YXL2UAdojiCCF8Wnu5fQ4UgD828ucDLXviRUM1aGU3ITzUnHj1wuWOv5ly8wZjE/yjiuQ1ZIPCbOz89i0aQM2rMLFy6aNG7Bxw3p8/Oln/KtlyWe372DjhvUrZiGpl++na1DomJubh6Io2LJpI/8K77y+Gwff7cbPT5/GqdOncfSBXjy5+1W8w3skCJcYRoZAYwRAHnnDblgO44NApLEN/gYgNWEUSQpX8gAiaNJ2/AojnUVVq9xACKFQCCF9F1xT0+qbRkkt60AKQAodIc0vp6ZVGOnUwtAeJ7uxMzn0RZlvQiGEQk52+XLo09JnH2/Jb1H9TFBPU/2w4UjV1yT+Sg9bdloepvuK79WyBArTfcU0FB9B5Y1JMxOGoWwM7mbp1XFSh5ofNl1CWcpxlicNLt1i2iXp4E9n+DCEuBy2D609dAwCGOwwSY9Lv0wbUx+z9sy3JTN/GqbxX1TLi68rPR0mZVNe++dg2nppDLH6XlK3fLrN/BnCNOYhNxBCqCWBDDJItOj+ZWOZLO86WpyG9PDlYlNHgDSO0lgr5ksfF2CXDzYsu/IT2iDz2PR5Nj2wmycg6Yv8e4b5hcrtBt55fTf2dL+FW/wLD7k1egh7HCzk1q1fh4UFUW9aRSxrWXnnBvQ6ddj2+LqOplGo8cPP++O4OzuHdevX8c6OWYp6MCvf3ADfrsGUH98WZf0ckvIW60ZFrEfen22fcdqPNZSFBayXCYc33sKJN4B9bY9jq+b00PeOYh+GcGJ0MWuGWJUoBs4rR4JBJZq+WXI6d0QJBqPK8HVFuZmOKsHgEeV88eVNZfjFoBLsZ1zSUSX44rAy3B9UjpwrOqtcH1aiQaO7GGaJ8/1BeXwvDitMCiWcV44waVKkYclQ8x/ky0BLN5tP3e+R9LASlaVH+8YQjh6+JByDm+zb68NKNBhVhtNHuO81zh3hylsSLptm1v3cEbVsrnPukvqSYV6HsjQ4rUOnedLjV9uoHPl3LLIwxDbjpn2IfcMcc79qGvh0yNJm0m7OHVGCtnUoj19ar1p4fFkV26fuJkuLg3pQFKY8+XRrcduHKWtj8jwq188r54v5sB7/DHB9Q1ofiqT8ZeXC+5Eipk2tH7EuZG3ZNB/StEvKz3G6JfUh+dZynjBJ6/lzQukqiqIov5kpKDff/0D56OOPy36mfhxUgs8PKZcl77x6Lv/0oBIM9ipTknfsc/P9D5QbhQ/4bGvcVIb7jWOprP4rHkfM+iRHpXWxFPVgWr6ydmhaDtrcqrm56pvV6DPSupT0Y4bbt+8oMzdvCeVh1i69qptPP/2UTxqxDFhYWHD0zM/PC8/c3FzxmZ2dLT53795VODF3G/ycXUduIgU0NGFXDeCrb0LYcBKi2XPs2Fb0DwCYTGB8x1hl+s4zaRwfBCLH2NsffGjtiACTCZyQ7hboBNAVNd4ZEXg6hrBMPUxGQwxxVne6phX9xyLA4HFhVyjVk8d+yc1CuTcTyPDhIIAuPpzpcaQQRuxpJr01rdjfDmROnuF2WTJInPRjjMsbAKCuiyvvANriYam6XOokEGfDqGtDrCGFjpY89rPuWjr40y2nFEaOI4UIkob0+tD6Ugxh2zp0mqccTvRkEI7H0VrD+i0hTweLPAy9zRznd7D5erVoH9UhjNio8RYUWXuWtrm6NsQagFSS37Gzx7fdL5x85iZSmqplBvlrJXfV7ssPv1Z+0rTI2r8V7Ulj/dd1YSweRqbnRLH+5XUra2PqWBVp5NpATQABk3bjBvWUWBxfVLW10kmwtFwqqCMAiBzrN7Rb3979iCCD8SkHoTkcZ9X6jWC/LN3M+CCtD308Y+oNMJ8nClfyxTmHJVBn1n9NuPEWfrh7N/YYHvZk4RZGu1X3g28AONuLJ1m/r79dCuvCq1w4fFgaWpyvXQCAt/Fa0e8hjN5Qvbzzuur25OEpAEM4yIbpepffh9aocf4xr38n40gB6ZclbbSmFfF4uPS/C9QTHa7s2LJ1Uw+Q1QVXD0wdGOJ2W7b3+xGWjXMNEUQagPwVpny1edx/f8kJDvtmNfqM037shN9cmQJ21uIr/AsAOHsZv+HdeC686r6siTUDJ3T4sOsxdlGnqlYVjcRr/PCzHUbraE31/JJb5uYOfZLTJ+sidU2IgOvwTnBwNKwjNYqvaxIGCwBAe5PkSjyu3Fik4ZQWa3ZIwzRBXTSKmIYhzQuAi/kyFkMFnDmZkYepXVpQjjAj5Mm0DepYpEPHLAyTyxWk5Set1yohWYDp7bnUD8zanNanJ/MQr4iwQciTrmrZhSZOGFXtvvQyNkuLLExzBAEB+saHvkiyqFuhjakbKqkDvFpElZAswIvlEG+zKZcK6kg2Rko2j8xwNc42+MFtL3GY14dcdVfS5/Q+PplADy/su+JtvPZUL3DoFzil6aWrz/N4qOhnK1p6NZ31ZwDsLOmwnzp9Gqe+97AhxH2vsOGo6iYH+QVxkbfx2u4JNJ4+jVM/60Y98+ah76lh/PxQPYB9OMrG2VtSaSkftf4FHI0j5hfDqH3PJRdexZOHge6fsWXHl63zerg1egh7Xhgy1MXRZ4ZwkBHqdC6fOIReHCrV19lePOlmMSyMIWr7Dj/WhrbHwoZNQbmgLOlXQt+sTp9x1Y8tuYXL7/JuKl/ZzrZiCboweKIWP69KOyZWI4JCn2F3cyaPvKGRB9DE7MCr9hyyBbPMzR1XL2WMdgLFp8OZ0bKgE+zwO5cIpzzQy83MuJ4bdOqaEEEKHZxNwPFBINIhnqDIw1Th9d9VW4ulwuQUDEDx0gIHwoxdnszboI5VOlTUMFh9d/1pRmKlGN9qbS7T08zlIYTmngzv2yFcW50eR0qb2AKNEXFzQi9jN+2/Iqzqlm9jPrQOJNW+ppULrzNdGfyGjUSY9aSOKsPpOOurb0KYFwSmTyAxyZ7SqvXB2gYVH+lYZNJviydaWjkJevUOuHEZl3m3SnjkeXz/EdbhftTuBPDuZekiduiFCTQaBBwP4e0vKhm3LPuue269V81aeBtDh6eAZ44a6kK1N5hC719zAuCeQ/hRi770fRj7DtUDZycwxQkn5nBjyMwZjE+q/VntD+M4M4OS4PCgX5iv7alOn3Hajz1BFzZegCpAk8BBWCAIHexOJK8yAV36nhzHmRlzCb1qNMQwls0iK3nMr47UjZvziI2y3yQR4b0uCwLoGo0hzA46Dn+AqYhuDHyRK69jyzPHjlj0PEWQlLSzbDaLrKla1vIjckyS/mwW2bJ+pMq4kFZVLbXd7vv9pRMHYXNiuaJeO5vNjqmnEgdC5oa0ZWA8hTGqprJUt46qgJNxVlMhNAhMB/KIjRrVRwAgHB8TwlEf0a8Zvr396jfHVPWQ5pC1UazAfY+j+1A9pg4/gT27d+OH1TCANaj1PIHes7yHEvteYQSO+x7Hj04fRst9Rj/VQL8kwG9oU2r7Xg5sbTmE7p1T6H3KqGJWFpogWb+d02EyEQBrv2Zc+m79Wi2AKVz+F4OzJaX1DqdCatD6MFHddEE1+oyjfmzLVtQ+wLup/ObKlOH/ouqaLmwslpBNrGhEoYPZiTSqTGhoQkn+mtUuY+Vs21GmusH0CSQmRV1KfQfHCdJdWBffi0fWLGK55d5MINOeNAwSjgUO/XtEkORsS9Qd/KXCake7gPxFWO4MOc2TzO7AiFU6VOzDMCINy0378ALLNlc+pbLhVS1LqgfC5oRlWsT2b4b0+2t59TeDAJu6tWpjPrQOZLWNiAwSb7pYzFphUMeQqFJZlsvS4HycLSCdTHGLI35BZFUfZVLXhWw2i7F42LktkMbWlsOqas3PugFN+ChX1/yd13dzaj2/QPdO3tcio52Ih+O8jr+2e14OVW+jJdWpnx+CJnxUSQgsi3rU/j7vZkHRroPfZGW0PkzsOZxRnT7jvB/b85Xt9ea2G7qtx4VXNZskYjWiSH5lvBxk4UiEDm138+JxVcVHkN7VzpZKHvd0d5PfNXSHZAAwLFZskKj9qAsrp/k1qqEZ4FUutMWRk0WYJRJ9a/XIdamQqJvoaL8ZILYtDid5srURsEiHjm0YHBW3Dy+waHOVoG8yTPGnGfo4kccZYXPCIi1C+zdHNhEbDbMt6tZRG1PTKavP8mDSI82nRbksEc7HWXUha612Y1EfFaKm02jU65j7HsePdNuKs73odb3gfRsTb0BQ61kuCHVS0QaItgiWtNHijwSXiS4E/vxQPaYOH3Z/6nFfLWoBTF3hG8E1XD4L4IFaS7WedzJDAGpR6+bESdtIyF85I5xmqKcgeZyR2nM4pTp9xnk/tmfr1xtRjyFMXGBd1T5Qv+cbahk/8nzJ5uYVaJchSC5WIAgOidCh6+9m5IZJRak6g0zZHa2EupMq6Sz6zUkHJLrX02nzHS9tkWTYvZxJo1OqH2nCZALNnI1FT08GaN/v+KgzEE0iwoeDHPoOpLhw1Jt2INHzdqpOoA5+xhsqCiOd6m8vLAJmdejbG1dvxeLv8NduR2mTtC0d53lSb7TK9PSYtgn1xhDObsaAHkaz+FsLM2mk+fbH16u0fZj/2KaIG7/mBJ5Wb2xqFnTgC0iPWIVsFb+2ydCTEPq7ruefkGxOOG//Fgx2GOtjug8dBsNsN20shz6+XPSdYonRbBFtp9OpQFpsayb5LL+OKsQsH47HWfXmMVUlzfiwdVTMv/A7BkBuhM+znMJIp5AW/eRTNh/JuDV6SLtBinH71QSmJGo3KO7umun7S9R3LrxpqV7lBFXdh1/cuUA/WTPcepZDX0uiAuGgdOORwX5HH+NccQuj3fxC9BamTk2ZLv6t60Gzy3jjoKFu33n9IIZQj+7vGg3/h15g4tZ+e6L+0NMuVYBUoSDTkyjasxXR7DETPRnrMcSGavQZ5/3YAfc9jrZnjOWnlvE+tBVtZBh0AUQXPso8TSTWBlKho3jTk2SnGfpiA2aqCy7RjAaLkxkzGQeiqk6vMNEdGOcCYZHYSLwMxF3ouYbjYxjbcbz0fUsCiI+51O0PoCs7hthF1kCsA3kunMJIp5Y+Xg9T+9Z0oczAl2EohB7EkR2Nub9tpBz4+It1qKqxJB/UdLJDIdXI8cEkspJrhg3wYVrkybe3H9ljfsEQvDT4yurC2NZ8e/uRHZUIfy0JYdfQafsIRMfUBbHmTxBoGNz4NaWmFf3ZMcTAlrdW5pd4z0as4t+2Qy1xYWLVFj3Sk0VpmYvt34rIsSz2X2JtCFKIHOP1k522sW3w8+Wi6cJb6jsLtgziwsCIdnpicvtWJXVUERb5cDLO5gZCCE00Cbri2WwSfoOwrtrNJNtFo9aOk8XgLPFt9wtpUW273Nm8DL1gvKZVv0VJdlphtD3gr1jdipZe7fYj/V2msXhy8mS5tgqPPI+jz/Dp5BfpVmiXI+g2L6EQQqFxNGWzSGptsCzqusSx0OUcWoK7Enj3E+hFN35uov9vXQ/aackr+wxldvCNfTgqsZnZ90ojJvQwtJvMSoblzinemMirmjN9XThtckXlfQYO+7FTHvqefiuYVsbvmtdZEV34aLvs7pYwYk2xTpEpXa1ZcujTFkaWC5FqMZNGp4XReGGkE80nmzBmt0AnFolFbh9rFZt+QSwy032mRuPQBJIOJB0Lk9Xm+o1b2LhpA7Zs2si/WhXcvjuHdevWwfflL/Gvlh0zhfexYd06bNmyiX+1eNx4Cz98qhe1r8gFTJ6VVL7V5O7sLD747cf43L2b+VeLyob163HvvffyzsQS4kYskPnV3fh3iqKYnHQQy4Krl8q9ho8gCGIxqJJNWgVs2LAeyoI48a0WFhQFG9avjKl608aNmJcsQpYzK6l8q8mG9euxoChYWFjgXxGEZ6y9nrackOrkquQGQugY5H6pnCAIYrGR2ckBqh1KtBmJSe6XyheZL3zuXszNL+D2nVnMzy+squfT23cBRcGXv/QFPtvLki9+4XNYWFDw2e0lrIsFBQqABd5d8nx6+y4W5hfwxS98js/KqmfDhg3YsGE9bt+dw93ZeczNL2B+YfEffjecWN2QepWBpVGfUQUMzrEhRmpVy46laR9rDlKvWoboAgbn3L50alUsd+fm8MFvP8LCKjvx2LhhPf4fW7/MOy9r7s7N4cMPP8bc/PLfQd+wfj1+50ufx+ZNS6gOtoQoioJbH3yE2bk5/tWi8fl7t+CLX/g870wsIW7EAplfK/UqEjoIgiCIFY+iKJidm8PCCljsOmHDxo3YtHED77ximJ2dw/z8PO+8bFjp5VtNFEUB1q3jnRcHRcG6pYqbkOJGLJD5JaGDIAiCIAiCIAhL3IgFMr9WQgfZdBAEQRAEQRAE4SkkdBAEQRAEQRAE4SkkdBAEQRAEQRAE4SkkdBAEQRAEQRAE4SkkdBAEQRAEQRAE4SkkdBAEQRAEQRAE4SkkdBAEQRAEQRAE4SkkdBAEQRAEQRAE4SkkdBAEQRAEQRAE4SlFoWN2bg6ffvoZPfRU9Hzy6Wf47PZt4ZcovaIw0olQqA85/sVSMZNGZyiEvumSU24ghFA0jQLrb8WQQ18ohM6RlZD6AtLREEIh7VmxZU4sLxa/D1Q0ZkjGoKqy0sOvGi7aRVXypMZXHN8G3M16QpuqSprc4qLMiKog1PsSUxQ65ufncfvuLD30VPTcuXMXH33yGWZufYA7d+8aWxtBeEhuoBkJxDCWzSKbzSI70Aof74kgCGLFUUA62oFUe1Id27JZZKMB3hNBLHuKQse6deuwedMGelbr88HfIP5YE47/s+Sd9nz8f/+/8UePNWnPX+J/Svxs3rQB//O47qcJf/Qf/wYfs+83b8Tn7tmMDevW4bcffWJsbR7g29uPbLYLZQ+/032ud4yI5UgO44NA+LFdq0zQKCAd7UR6hnevEm7avxu/VSWHvuV0mllFCiOd1d/1rWlFfzaLrjr+xQphxaQ/gK5sFv172RHHo/46cwbjk0CkseyZbpkgKzPCk3FAIxCtbAOuMNKFriqmjWw6VjM33sIPd+/Gnt27seepXkzx7xlujR7Ck4drcfT0aZw6fRo/P3QZB3cfwugNo793Xt+Ng+924+eav6MP9OLJ3a/iHaM3bN60EQsLyqKpWZVLbiLFOxHE8kFbbHiFm/bvxm9VmR7HEsXsMQWcOZnhHYmVjMf9lViNLOdxoIAzf1fdtFUkdLzz+m7s6X4Lt/gXHrJW4qwK9z2OH2nCwamfdaOef1/kbQwdnkL9oafxkOayteUQundOofev3y55u/EWTrwB7Gt7HFs1p4e+dxT7MIQTo8bSWb9+HQCYCh25AU0nVdMrLeqpSnY0i35ZnX1NR1G06VB1RvumtZ1ZNmyJPmvHIIDBjqIfq92GwnQfl9bq6UoWRjq1sDi7BInOrZhnHVFf1jTc4o41H58sXBU1XlkYHFblDhjriKn/Urr5NPHvWXS/HUgByPQ0G+OcSaMzpO08MukylCmfXt0/CxOOsRxK5cWXD19vUoS4S2HmBkIItSSQQQaJFkl8TtqjWf7/3kX7d9RXJHVm1j44+HIr5UML80AKQAodJnkUvxfbcKkfcHrxsrq2QIjLLI9CvXLxTPchFGpGYpJps7I2I4yPDtIr0dUvjaFO88/7E8udxVRvXJIWadisH8M34phWQmsfhjrgwzbLn4Y0faV6FuKd7mPCNKbNrr/q5Aa4vJu1IaCUn5YEMgBSB2TflN/35PBlyJVDFcsMVnOUJI6ify590nTKEPol/42YBllZuutPvB/1Ka1RzMYBm3lyJoc+Pq2S+IW+aTqXcXmd7sPXv/4tvDwJZBLfwte//nV8/etfL9XJdB++/vWv4w//8A+Zp19o7wKKxu07d5SPPv7Y1TP146ASfH5IuSx559WzVuKs+pMfUg4Gg0rvLyXvftmrBIMHlaG80f3yTw8qwWCvMmXyv/6Ylc9vZgrK/Py83sQMnO8PKsFgUAm+OKzcLLreVIZfDCrB4BHlPO+3f1gZfjGqDF9nXiiKcjMd5fyfV44EtbD7DaGo7gY3LT6DmwXnjihHzrEOkjCvDyvRYNDg73w/n08RNR9BJRg05lF1l7kZy0hFTU80zZRoOqoEXxxWhvvZMNR8R9M3lfMGd1laS+XJhivNu0l61boW6+hIeliJCuViUifXzyvnubo3IuZdUfT6iCrD6SNimCbpVc4dUYJcHbLhyMr35jmjuxqG2F4NmPg5f45Jp4kf/Z2z9miWf5OylmLlVxKv7l+oXyPytnxTOX+OK2PBj4rYtuR1WupfkrHFrHyLVN4HpG3KrM0W02WWXnlZFDEbg5yGp30vS5eiWIQvq2vBr0mez50vpYH7RppGRVKmsnTzfgTk7Vo+PzH9XfUl5sWsv2ppE9qQLM0yhHLUkbVBed8T6kgWpjQ9fBzVLTP3c5/d/CJH9q0RPp+KdVk66k9ifhWFa+9mfiznSe29tA4kaZLUu1VbXFhY0J5p5SfBoBIdvsG4LSgL/7+fKMFgVPnFvywo8/Pzxefc/zinzM/PK3Nzc8rc3JwyOztreO7evasIJx23Rg+p6jjs8zqz241bGO1W3Q++AeBsL5408SsNS3JioPrTVHQuvCrx6zxOU268hR+yakCs6lHxYdWEXMbJplsIqxTfaxe4cpGUhxnvvL4bP+ROFKrBrfcuA6hF7X38GwC4jMuaitVvrkwBO2vxFd4LAJy9jN/wbraEEXuJ1TX0oXUgiQhSOM7vWAwmkO/oR2uN0dmUhhjGDIZ2AbTFw8DguL0kbkZdF6dnXIUwOSLHjHn07d2PCDIYn7LZwbFiMoF8IxuuD60dEWR6mnF8R9wQX+DpGMKT4zjD79Y0xBA36OEG0HUsAgweZ3ZWcjjRk0E4LglTUqepnjz2C7qmV5GX6S7XBBBwWvcCGSRO+rn2ANP0oq4LyXYgleR3bjNIXGoy6CP79u5HZDKB5qTfWD51bYg1WNdb4UoeaGjCLi5fgTo+nSY4bo9m+a8OhZHjSCGCpCF8H1pfiiE8mcAJyW6lztVLGaC9ibPJ8iFQ50ADeSaN44NA5JjRpsu3N45YQwaJN8VeyfsNRMdM/QpU0AfM25QVYcRGufRqfWncokzNcRZe7s0EMkJeq8RMHnmE0VTPhV0XMLXLCzRGAEmeVXW/CJq0PiBNd10bYg1W5e6D/0EAF/PMe9U+LNIeASbzuFp019RgHvSXrR+P9qTRnqGmFfvbgczJMybps6aSvidDWoZCO/emzOznPi2s9v3S+YVvH0ZM+iWD+7J00J/KaO888nkSar1wY7oQvxUVtMXClUtAw6NlzV1GoePCq3jyMND9M00lR3++9zDjaStaejV9/mcA7Czp94t+a41h/awb9Wd70Wu2cL7wKvZkGjWbAlYZyE2cHLpw8dRltJ1+XlMfehuvPdULHPqFMZ/F93AV563RQ9jzwhD2vVJ6f/SZIalNxOUTh9CLQ5q/o9h3thdP2gge77yuCigntv8CP2rRFZuqx2+uyK09tn6tlvnvFi6/y/zL8JXt5opblkgWXEAATdKGX5pcnCAzKPZt9wPII88vqCtADbNayPK4Df4GIHOpNIy7RxYuANlgCADIIH+Nc5JNGnVNxklhehwpWZg1u9Aky4Ow2EQxv6kDolpCJcjag2l69YWORPgShCENafiQ5JnBt90PTCbQwwvYFWDWHs3SVzn6QkBSl1q9pybMa3LbjjAw2CFVo7CjMDWOjLRt+7DrMZnw5cavhEr6gEWbMkU2Ptb44QeQv1JGm3EUnscXMtT44UcGiZfNhAAJuuBgaEdaOuNtWrszS7dWv4aFsBGhXqbHkUIETdEmRAwLOJMNERfIvt22wzp95lTW90TMylBs59UvM1nflM994R3bDP87wqJfqpRRlk76UzntnUeWJjO0+J0gqxOnbdG3fQcw+TISZcxdBqFD3fGuHltbnkcLu3t+Xy1qAUxd4Vc0ADCEg5lGawHCDUVhYwKNP+MEihuXUb2cqvYQeOYovv9IyVW1deBsIgBgzyFGcHgY+w7VA2cnMMUJJ2CEjYM4ilOnTzPfvY3XhFMa4/PaBS6wlU6DH2UMNVVH0Mc9sDpNXHmcDPSFK3l1V72oz6w/qs4qjzzM0mmXrsNfzoKUx79dnGzU9Prh5ycOALjfj7BM+KomdV0Yi4dFOxQXOG2PsvxXB3VRYVaX4o6oEd/efvUEQKqrbs3VSxnTccGLDQZ5Ho0seZuqlJk88p62lwC6RtWd42YTHXQRiWDILyK1dLN68frT3GNjCMvVS24ipS301A2w4mJTi9N/v+HrJaSyvidgWfecALAkZaa2g0xPj6HN6KczbYLQUsKyXwLVL8si5bR3I/I0aQg2KqptY2XI7XAN1HXhb2JhZBLfUm05OkeEspHZ8yqKYhQ6isbDT+3GHskufTkYVawOYoj3UGQfjjICx9aWwzjVWzJYdoyu5lQUNg4bBR+oBtbdh+oxdfgJ7NldocqSJsDUb+d71f2o3Qng3cuGU4zarxlzpJ4mTOHyv+gujFqXJmyIgtjD+L7hhEZ8WAHIDrOTCqMQuhW1DzD/MpidlKwqdGPai8zvQGSzyB6L8D7XOBEk2fJhH8fqPeq1itnsmLrDeaC8wXoloF75rLUjfWJysvBeRe0xEFXTPhZXTz1CgnEnsarQrsTNZpOIFDcprE82ffVNBrWR3ERKutMcOSYZd7JZ62vVDTvZ2m6/ttBTT+JUYcdMHXJNskRlpm5SGDe2Oi7GMCZVP1omlNHe7dEv2cgjNsq28yQWawbw7e3Dr371K/zDf/l3wC9fxrf/8A/xh/8f+1xxNh0llaKfH4ImfJS7KFcXz0Z1raPYx3urJjfewg9fMBdrWLa2HFbT9LNuQBM+3NhXVJd61P6++tc7rz+B3rP8e29RBZ+S7YaRkq3HV7bXm9tumNl6WCE9xisgf5F3W3pybyaQQQRJbnBTd1BWP/wRt4zq7y770DrADNZO9O5dYJnea3lkqrZD54C6LmbhzdoIyFk+7VGuAqGi9WWZWpIEXQBLtgOZnhO2k7KVKoB8Z1Ne11cv2eyEa8jzaGRZtaly4NVDPEXbXBiV23wZkC1yWTWgitLN7GRzJyglYce5bcLiUb2+B9iVIX8SsERlNpPG8cGwcaHtQOCw7JdA9ctSiov2bsf0CSQmRTsY/bRqUanrxD/8wz/gv8UagBNJjJiWsYpgSK6jL8p/fqgeU4cPuz/1uPFLTJwF6g8dEk8avMJwRWwjJpyc2Ojf2NmbmGGqMnYNl88CeKDW8rTmncyQYWH/0PcYuxAcVIUh3mi92upVjzRiH6Yw8Ss277cwdWoKeKaxdI3u1xtRjyFMGMJ+GxNvAPV7vmGZTzmSQUC751yqV7rUSFQ5nC5YFgUvf89AdrTMqzjw+u1VQz2yl6ahEizSa7aT6jXqhO1QBWdZtEeJ6otOmT9ophoOS8YGDn73u4SZfrasXNUFrOhXgqz9uegDS9Wm3GFmU1ceqt2NDWY2XwaYdsaXOVBxulUbhTzO8DvzWtryV844tE1YTKrd9yzKUFLmS1Jm1/LICJsJDrDolyrVLksLHLV3J0g2MK7l7fubR/h2NqEBk5Ix1ggjdNzCaDf/I2/awtPkZiN151tujyBbjN8aPWGhXuUMyzhZisKELnyU8nZr9JCwKL/1qwlMSdSfYBunZpfxxkFDmO+8fhBDqEf3d42qUUMvGG/QOvEGDL+PwaILILrwUTpxqq56lZ4HVri8NXoYvWe59N/3ONqeMeZBzec+tJVl4J5BooU9Ziwg/bK6g7vfi5tTBLTdGtlAw6EOsMYbLAojnepvFywy+mLLuFOSQ5+JPn9VmEygmVX7mUmj80CKu0lEvT0p09MsqsfMpJEWFocycujjbRu0W4qqL4iqt7JkepqF3+3oGAQiHfY7aJVQGOkU7FX0E4yiUaWmO81PltVpj87bv5Vf9baoFDoM9ab1ZRtd69wArzZXQDppXJyru5QS4aKmFfF4GKkDxjAKIz1ITIYRe1pcJPB+cwMdSEHuV8BhH3DeprTdVdkibwlRb7Bzd8GBrD1iJo0e3p5iJo1OXn1Q37W1WdSptxml0CGUuYqe7mZ+/EAB6RG+1XLUqQbQiZ4MN87odgQJ1VDaoi0D5v3VKyrpezIC0aR6Gx//2yeyMq9WmbmhrgvJduY3e4oPP47w6HOT0R6EpdplCTht72WMA5oQZTj918ejqqKl7e+MaSuMdIlz19DLmMS/w6N6Oc2M4M927sTOV4yLbe6kYwgHDTvmT6AX3fi54VanEkYbEO0pqig9jO//rBv1b2i79bt3q7c2vbIPeOOgeKWsQ6zjlFAUPmpxgolz6AXjyYCuBiZbrNvFubXlME69ss8Q5sE39uGoxJ5k3yuNmNDD0G7QsruRShc+2q484U7VTfKL5Gwa2bC2thw2qNSpv04upv+h7+k3c2n5fNe8fdjSEMPYqB/HiwNHMxKIYcxK/7bKqFdmlgYxYbGsoxn9Fg1eQyH0IK4dlS4yNa3oH40BBqPJcTRpNhDVRz3OHttxvBRfSwKIjwl2Gr69/cgKaVP9Ozv23QY/dKO70rf+Y1nj9X7Voq4L2dEY8ky96nqyxutoq49vu9/QnkJFGw2m/de0ol9bxKp+NCG9Su3Rcfu39KuqwSUfZOutGYkHk7aqD9t2gLt4QPIdn1dmUeDb24/sMb8hjOYeP5JZ2fXaESSz+5Fn9cEHIyZ+eZz3AedtSrs0oWhkWp1LEyqmphX92ST8fB/mF08sdV3IHosY2/PLQJzXMa/xw8/8wKR52cjQTjxNbt5R0z2GGD9+hJqRuMR75lEXV7Ib/dRNHvnJooBZf/WM8vuenAC6smOIXWTrqAN5WTuvVpk5Rv2xvPFG3l4nq40B1oKHbKwIGfpctcvSaXsvZxzQDNTZsF8G4lVfA/jQ2n8c/27yZXyL+XFA3/Yd+D+fVf/XfxjwwMWX8N/+odN27bZO0UzM79y9i9nZWf49US1uvIUfPtWL2lfkgs1q5ONP7+C+rb+DDRs28K+QG1gBBmAEQawKCiOdmjCyeBsaBEFUD+s1Qw59oQ7gmBPhlbBCduuUFTL/iqJI3RcWFviTDoKoDndm5wBAKnAQBEEQBEFUBe1H+AQbB2LZURQ6FADzCwv0ePYoUDRJT3y3ip75edy+O4f5eQX33rPZ2NoIgiAIgiBcIrUbgmbL0JJAhrc5IZYlRfWq23fu4IMPP+HfE0RZ3LtlM37nS1/gnYtYH5USBEFUD1KvIohVgC5gcM4RUquqGjK1KCtk/q3Uq4pCB0EQBEEQBEEQaxO3IoHMv5XQQTYdBEEQBEEQBEF4CgkdBEEQBEEQBEF4CgkdBEEQBEEQBEE4RqZCZQcJHQRBEARBEARBeAoJHQRBEARBEARBeAoJHQRBEARBEARBeAoJHQRBEARBEARBeAoJHQRBEARBEARBeAoJHQRBEARBEARBeAoJHQRBEARBEARBeAoJHQRBEARBEARBeAoJHQRBEARBEARBeAoJHQRBEARBEARBeAoJHQRBEARBEARBeAoJHQRBEARBEARBeAoJHQRBEARBEARBeAoJHQRBEARBEASxhlEUhXeqGnrYJHQQBEEQBEEQBOEpJHQQBEEQBEEQBOEpJHQQBEEQBEEQBOEpJHQQBEEQBEEQBOEpJHQQBEEQBEEQBOEpJHQQBEEQBEEQBOEpJHQQBEEQBEEQBOEp6xQvL+ZddHLoC3Ugpf/bnkQ2GjB6sSA3EELHxRjGBlrh41+uAQojnWju8SOZ7YLzUqsuXqdBDF9tM/n4GPr3Oq91MRx7ZN84b3PlpdMM5/GuZKpbZlbcvn0HH336GeYXFGA1DalE1VkHYMOG9bjnni34wufu5V8vCctvPFi8vustBaSjzUhMav82LKcydsBMGp0tCfiPZdFVx78kVhtuxQEz/4qiCO90t5V50jHdh1CoE+kZ1rGAdLQDqfYkstms+rgQOAiCqC6FkU6EQiHjE02jwHtc4Xz06Wf44KNPsH4dcM/mjbh3yyZ66DF9Nm/ZhAVFwceffIbPbt/hmxOxisgNNCOBGMb0NclKEjgIwgNWptAhY+YMxieBSKMDQWO6D6GBHO9KLAN8e/uRdXF6UDkBdGWzrnfTyklnOd+sVNRTHSA2qk222Syy2THEkEDzogke5dVtiQLSUX5zQ+Szz25j44b12LJ5EzZuWI8NZT3/iP/S9Ci+2fQ6/ll45/757dhf4JtNj+I/jn0gvHP9/OPr+GbTo/jmX/2j8O6f/+pRfPMv/ht+y38j89fEPn+BsVuiv+o9anlWJf8uHzGvxjrdtGE9PnfPZmzcsL46Qoeb+cyNX6JCchgfBMKP7SJBgyA0Vo/Q4YLcRFEBiyAID1AFrH601hhc0doRASYTODHNui9TtI0MK+7OzWFhQcGWzZv4VwTDQ987jVOnteeVffzr1UX4aCmvp3+B7p1DOLj7VbzDeduwYT3uzs5hfn6ee+MON/OZG78EQRDVxlOh4yc/+QmefPJJPProo/jzP/9zXL9+nfdSBXLoC4UQakkgAyB1QFPjkO3mzKTRGQqhYxDAYEdR5aNzhNt31fyV1ELMdju1uG39sajf9E3ramIWqidaOvokC7TcAOd/Jo1OLX6jWksf9JLg1V1k4ao4zVcB6SjrTwyzMNJZTGduQEwTj5pG7j1fTjZh6PD57RwpwLfdz/lS86q2AS0/srbDlXk56ZR+oyO0ORN/AvZ1YIllvFo7kJaHdVmZcr8fYd6Nh2nLpTZTqkMzv2z5q2XA1q1KqT1al1tuQB9TMki0yMpGZWFOXTCuW8e6vo3Xdu/GHv55/W3WE8fD+P7p0zh1+nk8xL8qg60th3Hq9Gn8qGUr/8o9jzyvLqC/9zD/hpDw0CNsOW1FS9s+AJdx+QbjDGC91mhmZ+eML3Rmcujj2qhhLHY6n7nxK4wHZmO/0zmCpTT38WOzs3FE7LMh0/FO5tdmvObnX1MkYRvSr79X7UszPc224ecG9DDsylUc03TE+cVsrcGEyZWBLFwd27FYw7ZuLcdsYtWjeER/f78SDAYNz/PPP897K49zR5RgMKoMX2fcrg8r0WBQOXKOcZNyUxl+MagE+8/zL5Tz/XpajyjsW9Xd6KbHF03fLLmdO6IEbdNwXjmil4khDZo762aRp/P9QSX44rBSjP36sBINRpXh9BFDmm6mo6q/c0Z3WRneTEel+VfdufK2SK8s/uF+eT541LiY+CXpVBRFOX9OrD8WWZrl+VPzoadZ9p2iiHkrJ53CN2ybY+tS2uaM6WTd7OpAhtN4ZWlWFOu2aYVp+bJoYQt9Setfhrwx7V7s02KZldqArG1w6TKpU5bPPrut/GamoHz08cfMM6X0BoPKwZ9eEdyCwV5lyuB3ZT9TPw4qweeHlMuSd6bPL3uVYPCgMpSXvKvaI6uDpXku//SgtN4/+O2Hym9mCspnn93mm5XGeeUI16b5/mk1n4mY+13suU/sw3y6xL6rKDeV4X7jeCXtt7JxkUP2nTSvArKwtXLlxlJ5HuQ4L3/zMMWxWvV7JD2sRNn0njui+rvOucvGdLOxWNYGpOmVlI3lmE0sJQsLC66e+fl56TM3N6fMzs4anrt37yp37txRPDnpeP/99zE4OMg74+zZszh58iTvvMwIIzZq1LsPPB1DGCmMszuhbyaQaYghzuqL17Uh1gCkkuY7GkUaYhgzGLoH0BYPA4Pjwm6qczJIXGoy6LD79u5HZDKB5qRfktYMxqfElEaOGfPv2xtHrCGDxJullBVGjiOFCJJsHmpasb8dyPScMOZhMoHxHWNl3X5RuJIHGpqwy6CmAwTqLCwjZtLo6ckgHI8b1HvUfLAeRXz1TQhDLJfC1DgyCKOpXq6dW1Y6i4QRe8loYBiIJhFBCsdNdpPgtg6k2Merloex7aNYHhE0uanT6T40S+rFlPaksc3UdWEsHpbkLYPEST/Xn6yJHDOqfvn27kdEUu/V42F8/2fdqMcQDhZPPG5htJs7Del+C7cM36l+fjhqdFVRT1SK7y68KpyuvHaB/wYmJzGHMMruxN94Cz/k/MjToGMMUx6vQ4S4RdUkVxjKhQ1LS7PZCZT2XaV56T08hfpDT5dxghVAF9emZXNR9Vi8uc/wbU0r+o9FgMHjNqclPrRGjeOVrN9Kx0UDOZyQjEN6Xl2PufCh9aUYwhWrjTorf7ekTgJxNr11bYg1pNDRksd+ydyRmpDMHPxYXNOKOD8Wz6RxfJBfP5ip1Lofs4mVA39zFYsnQse7777LOxX5X//rf/FOywvJwhE1fvgB5K/og5GZgZgPux4LA5N5XDW4i4jfQlP9ySNvOfBaY2ZIL4sPADKX+JSG4b+fc9LzVRSICjhzMgO0NwlG0YHGiCQP5ot1O3zb/cBkAj0WE4HAtbyJgKDlwwp90X7yDDN56vndb7pYLiudRfzwC+EG0CSkg8VtHchwEG/NLjQ18BORPmm3CXHzGI7kDwBJF4bdsrZsJgSZtW85MmFpG/wNsv5QRe77Bhp3Anj3siZYbEVLb8nW4egz/AcoqudMHX5TWHjfGj2BIexDm65CpatBnT6NUz/rRj3nX+UWRrsPYugZ1u7gNE6dPoyW+xhv9z2OHxXfHYW1FcYEendPoFHz//ND9Rh6oczF+oVXseepCTT+jLOJEIQxh5w6jD2ZRhP7iofx/Vf2AW+cMApcgFpOJ4aAZ47i+4/w7+xghMmnelH7SpXU3FCaizxhCec+1DUJwoMz1H5bwnxcLDI9jpRsftDGOvMxwCJs6TjpEkfl7x5peQPyfADAxbww54R3bONcxLHYdCOqrgkRSR5M00WsajwROv7Vv/pXvFORf/2v/zXvtPKYySPP6moyT3NPhve9wpAtRHmuIj9p1A0uLSxlhopOwjShuLttrxerU7iSryjOQGMEmBzHmaLutIOb0cpIZ5EGP8Qh3Q63dSDBUbzaThW7C2k2aUsIRNnbq5owHgpJ9JQrx7/dPi1Lz1bUPgDg7GX8hn9lxSNPo3vnECYMi/hbmDpVzg76NVw+y7tVyNlatDG2KFtb2rAPwFDG5ATBFH2h38YIQJpNxNkJTAmCgT1TD7Qxtii6fQVTlo88je6dU+j9z5xQc+FN9J6tR/d3y7FjYYXJo8ALshMsh/B2B+zvUC0FSz33CTYnzG9gAMVxUbZI1lHnB9ZWyywsHquwffA/KF+wrwacjK9XL2UApNDBtQuzNuskTGL14YnQ8eUvfxnt7e28M3bu3InGxkbeecUSOcYuqNhnbVyLGo6PSfKeldxaVBnqTUhZZI+px7TNIYlxWjXhdt1Md3A4Fj2di1UHXHnkJlLyXTlbAujKJhGBUVWPsGMr6vfUY+gEs3C98UtMnGVOORyj7+4fVHfizVSL3LCzFl8xONyPWsOJjkNu/BITZ1FKm/68MARgCpf/hf/Anvrt3LHt79eiHsDl9/SU6UJNL4aKQp1M+CkXrbwN4TtBM0Y+kOeunU4iwntdApZi7tMvd/Ab4h6zVZmVE0FSSLv2kMpP+TQwv0nCPU5PuInVjSdCBwBEo1G0t7fjq1/9Kj7/+c+jqakJ/+k//Sfe28qkCkeeyxcnajmLoIoio64L2WwWY/Gwpf5v5WpqrIqRxZG6GQ7TWcSBSoJIFerAcbxseZipVziFV4cwR9q/ruWxCPupHnELl9+VLdLt2drShn3Mbv+tX01g6plGl6ccGkU1rKPYV1zgV2g3IeOBWrgViQCg/tAvONUv9XGv5mRO7deYlD3yNLp3oiTUXXgTvWf34Wi1busSBB0HTJ9AYlK0PdJPGpaMKsx90jHLLl+avUA4ztsGaie+RezHxfLnB6uwC8hfBPCgv8xxcXnjpL637XCmXkesbTwTOqAJHsPDwzh9+jR6e3tRU+N6a3SZYqdv7zXqws8bMshf4934hTdv47G46MbeYjo17vdLjcGL+XBAUcVq2oFqlQm26SwimwDtFvfVqAPn8QaejiE8OY4zI+NIIYL9Ze9a8YsEc2STu/o7A/anTssSbSe/fs83yliMP4zGZ6bQ+9dva6pVKFP1h0W/pvco9hkM3CtEzyd/ymDHfbWoBTB16pfuTkhccOtXE5hCPWp/n3VlTzvUUw73amv2GAQdR0js65Zc6K7C3CdRQbK7qENHUMkRhBUH42LZ9iMWYTtRwfUU53NbOcjGYl4DgLfxIAgZngodyxNN91I2cLhAXYTJfl25gPRIJSEz6MZp3I0guQG5jmS1SB0w6tznBpqRmAwj9nRpQFVvDUmhg7/7HEBuhC+T8imMdAr3d+feTFirOxVvcOox5KMw0mOjs8ug3e6VOKDe1NJmFpdGWekskkGihS3HAtLRDtvFfeV14CLeml1oasgg0ZNydOqTG5DZbZTCN79ZhmGww3gX/HQfOgbhyIC9KpgKr2Vw4y388KleTO3sRrdrlSiVh77bjfo3JvDOhTfR+0CZqj8XXhVvobowgSGZKpJTzvailwnznb/uxRRr4O6Yh7HvUD1wthdPCgLQLdwqx6bj8GHGSPxtDB2ekqtN6acdLzyB3rLU1nT4dL6N155Sy6PRzUmNtjA2qCHOpNEp2Gu5mc/c+DWn4rlvMoFmVu1Uu23Q6qIO+VyYQ5/2+1wsxXHRVLVVvSky09Ms/tbETBppi0WzegNiCh2GvBeQftnZPFE5mtDH3eDnam4rB8lYrN5EyIzF+u1XByS/uTGdlswHMrTfKRHaFrFaWINCBxCIjqkDh2boJAw8TqhpRX92DDFouvusMdol3nO5+NA6IMYx3qip7nhBexLZ7H7kGSO7jsEIkoKNQABd2SyS7aLhWEcVb0X2bfeXfvBRD/9iDGM2usOBaBZjcRiMBXsQR3Y0Zv/jdEBpV8vhLRvlphO6XcaoH8fZNgQn31ZWB+7i1QzKTW6V4tm2w1j2xfAfTDrW+44cy2L/JcZg9UAKkWOLqBusXeVZMpoVhTsrpg4/UbJLeKoXOPQLnOp9vIxTDo37HkfbM0M4+MIQ9oXLP+UwpEuzmdhXyQ1LzxxFNw4Xwzv4xj4cLfNHDre2HFZv3uLtOnY/gaEybDr2vXII+M96GNqtXVK1Kd3IHBWfckwV49Pi3NmNn7sujwC6RmMIsxdFvAzEJTYMbuYzN35NqXDuC8fHMLbjeOm7lgQQH7OxpfChdSCpXv9ejG8cTdkskoL5aABd2THELnKXbDALWd/efmRHYwBvEN+SsFbzgg+tA1kkH2TToY1rA8brfL0iEBXH/B7EVVtCT1DtX5yMxYGoatPIz4WhA+MGf8TaZZ1idaEuQRCERmGkE809fiQdCg1lM5NGp2YwWs5vuywms3PzKLz/W9y7ZRM2bFiTezirhlujh/Dk4dqyBSa33J2dx+zcPGp8X8Y640/ar1Jy6At1IB8fExarBEEsPW7FATP/CwsLvBMURYGiKGvzpIMgCLeoOsOLptq0Qti0cQM2bliPO7NzWDAZgIkVwIVX8eThKex7ZXEEjgVFwd3ZOWzetHGNCBwEQRB00kEQhAMW7ZQDK+ukQ2em8D4AYMO6dcB6WkSuFP7xr76JPxtS//5u39/h/yXTvKo2inpCtmH9emz98hexYcMG3scqhU46CGI541YcMPNPJx0EQZSBZtQXCi2ewLFCqfH9LjZv2gisWwdlAfSskOdf7/87/M3fqs+z/5v43osH69bhni2bsPV3v7SGBA6CIAg66SAIgiAIgiCINY1bccDMP510EARBEARBEARRMWYChx0kdBAEQRAEQRAE4SkkdBAEQRAEQRAE4SkkdBAEQRAEQRAE4SkkdBAEQRAEQRAE4SkkdBAEQRAEQRAE4SkkdBAEQRAEQRAE4SkkdBAEQRAEQRAE4SkkdBAEQRAEQRAE4Sn0i+QEQRBVYH5hAbOzcwANqYQF69evx8aNG7B+Pe35EQSxfHAjDlj5tfpF8lUmdOTQF+pASv+3PYlsNGD0YkFuIISOizGMDbTCx79cAxRGOtHc40cy2wXnpVZdvE6DGL7aZvLxMfTvdV7rYjj2yL5x3ubKS6cZzuNdyVS3zKz45NPP8NEnn/HOBGHK5+7Zgi998fO885Kw/MaDxeu73lJAOtqMxKT2b8NyKmMHzKTR2ZKA/1gWXXX8S2K14UYcsPJrJXSszK2W6T6EQp1Iz7COBaSjHUi1J5HNZtXHhcBBEER1KYx0IhQKiU80jQLveQXzwYcf4aNPPsPmTRtw75ZN9NBj+2zcsB6f3r6DTz4lQXU1kxtoRgIxjOlrkpUkcBCEB6xMoUPGzBmMTwKRRgeCxnQfQgM53pVYBvj29iPr4vSgcgLoymZd76aVk85yvlnJXL2UUU8b9Ql30Sfe8uq2RAHpKL+5YWRhYQG378xi06YN2LxpIzZsWF/m84/4L02P4ptNr+OfhXfun9+O/QW+2fQo/uPYB8I7188/vo5vNj2Kb/7VPwrv/vmvHsU3/+K/4bf8NzJ/TezzFxi7Jfqr3qOWZ1Xy7/IR8yqW3T1bNmHTRlXwqBg385kbv0SF5DA+CIQf27VI4x1BLH9Wj9DhgtxEUQGLIAhCjraRYcXc3DwAYPPGDfwrguGh753GqdPa88o+/vXq45mjpfyePo1T33uY94EN69djfl6zA6oAN/OZG78EQRDVxlOh4y//8i/xne98B48++ih+8IMf8K+rRA59oRBCLQlkAKQOaCocst2cmTQ6QyF0DAIY7Ciqe3SOcMoemr+SSojZbqcWt60/FvWbvmldTcxC7URLR98066iSG+D8z6TRqcVvVGvpg14SvLqLLFwVp/kqIB1l/YlhFkY6i+nMDYhp4lHTyL3ny8kmDB0+v50jBfi2+zlfal7VNqDlR9Z2uDIvJ53Sb3SENmfiT8C+DiyxjFdrB9LysC4roID8RSC8Yxv/wh6mLZfaTKkOzfyy5a+WAVu3KqX2aF1uuQF9TMkg0SIrGxVdd3XdunWM69t4bfdu7OGf199m/PA8jO+fPo1Tp5/HQ/yrMtjachinTp/Gj1q28q/c88jzpgtnonz0NjM/rwquAjM59HFt1DAWO53P3PgVxgOzsd/pHMFSmvv4sdl8HGER+2zIdLyT+bUZr/n51xRJ2Ib06+9V+9JMT7Nt+LkBPQy7chXHNB1xfjFbazBhcmUgC1fHdizWsK1byzGbWI0Y7D8Uj/izP/szJRgMGp5/82/+De+tPM4dUYLBqDJ8nXG7PqxEg0HlyDnGTcpNZfjFoBLsP8+/UM7362k9orBvVXejmx5fNH2z5HbuiBK0TcN55YheJoY0aO6sm0WezvcHleCLw0ox9uvDSjQYVYbTRwxpupmOqv7OGd1lZXgzHZXmX3XnytsivbL4h/vl+eBR42Lil6RTURTl/Dmx/lhkaZbnT82HnmbZd4oi5q2cdArfsG2OrUtpmzOmk3WzqwMZTuOVpVlRrNumitrP7NIhRQtb6Eta/zKEybR7sU+LZVZqA7K2wdWfSZ2yfPbZbeU3MwXlo48/Zp4ppTcYVA7+9IrgFgz2KlMGvyv7mfpxUAk+P6RclrwzfX7ZqwSDB5WhvORd1R5ZHSzOM/XjoBL88ZTgzj8f/PZD5TczBeWzz27zzUrjvHKEa9N8/7Saz0TM/S723Cf2YT5dYt9VlJvKcL9xvJL2W9m4yCH7TppXAVnYWrlyY6k8D3Kcl795mOJYrfo9kh5Womx6zx1R/V3n3GVjutlYLGsD0vRKysZyzCaWkoWFBcfP/Py86TM7O2t47t69q9y9e1e5c+eO4slJx/Xr1zExMcE7491338V//a//lXdeZoQRGzXq3QeejiGMFMbZndA3E8g0xBBn9cXr2hBrAFJJ8x2NIg0xjBkM3QNoi4eBwXFhN9U5GSQuNRl02H179yMymUBz0i9JawbjU2JKI8eM+fftjSPWkEHizVLKCiPHkUIESTYPNa3Y3w5kek4Y8zCZwPiOsbJuvyhcyQMNTdhVY3QP1FlYRsyk0dOTQTgeRyvznZoP1qOIr74JYYjlUpgaRwZhNNXLtXPLSmeRMGIvGe0cAtEkIkjhuMluEtzWgRT7eNXyMLZ9FMsjgibTOr2K/CSzy6c/Frt9Au1JY5up68JYPCzJWwaJk36uP1kTOdbPtY39iEjqvXo8jO//rBv1GMLB4onHLYx2c6ch3W/hluE71c8PR42uKuqJSvHdhVeF05XXLvDfwOQk5hBGbzBebryFH3J+5GnQMYYpj9chQtyv4h3ejxsM5cKGpaXZ7ARK+66svLxxUBKfWwLo4tq0bC6qHos39xm+rWlF/7EIMHjc5rTEh9aocbyS9VvpuGgghxOS+UHPq+sxFz60vhRDeDKBExXVi7Pyd0vqJBBn01vXhlhDCh0teeyXzB2pCcnMwY/FNa2I82PxTBrHB/n1gw+tHRFAKBv3YzaxOvBE6Lh1y3xyev/993mn5YVk4YgaP/wA8lf0wcjMQMyHXY+Fgck8rhrcRcRvoan+5JG3HHitMTOkl8UHAJlLfErD8N/POen5KgpEBZw5mQHamwSj6EBjRJIH88W6Hb7tfmAygR6LiUDgWt5EQNDyYYW+aD95hpk89fzuN0xSLGWls4gffiHcAJqEdLC4rQMZDuKt2YWmBn4i0iftNiHuEqoRt9GIfAwxJNDMqzmYIGvLZkKQWfuWIxOWtsHfIOsPVeS+b6BxJ4B3L2uCxVa09Jb0/o8+w38A1U/bPkwdflNYvN4aPYEh7EObrkKlq0GdPo1TP+tGPedf5RZGuw9iiLc5OH0YLfcx3u57HD8qvjsKayuMCfTunkCj5v/nh+ox9EKZi/ULr2LPUxNo/Jke9y/QvXMIBwVhzCGnDmNPptEYVlEQeBjff2Uf8MYJo8AFqOV0Ygh45ii+/wj/zpqS/YoeHyfQVYI2F3nCEs59qGsShAdnqP22hPm4WGR6HCnZ/KCNdeZjgEXY0nHSJY7K3z3S8gbk+QCAi3lhzpGpyfJjselGVF0TIpI8mKaLWNV4InRs2yY2UJ2vfe1rvNPKYyaPPKuryTzNPRne9wpDthDlUXexWd3g4nNAZqjoJEwTirvb9nqxOoUr+YriDDRGgMlxnCnqTju4Ga2MdBZp8MO8x5jhtg4kOIpX26lidyHNJm1bfGgdUE9SOng93wrxb3eblqVgK2ofAHD2Mn7Dv7LikafRvXMIE4ZF/C1MnZpC/aGnXdqAXMPls7xbhZytRRtji7K1pQ37AAxlTE4QTNEX+m2MAKQKXTg7gakyFu5TD7QxtihaWGDK8pGn0b1zCr3/mRNqLryJ3rP16P5uJXYsW9HS+wt5+E7h7Q7Y36FaCpZ67hNsTpjfwACK46Jskayjzg+srZZZWDxWYfvgf1C+YF8NOBlfr17KAEihg5+PTNqskzCJ1YcnQseXvvQlPPvss7wzHnvsMTz66KO884olcozfydWftXEtajg+Jsl7FtmsUXWlUtSrZrPIHlOPaZtDEuO0asLtupnu4HAsejoXqw648shNpOS7co5QT1JW6+TsDVtRv6ceQyeYheuNX2LiLHPK4Rh9d19T/zFTLXLDzlp8xeBwP2oNJzoOufFLTJxlVZO054UhAFO4/C/8B/bUb+eObX+/FvUALr+np0wXanoxVBTqZMJPuZQpaOrGyAfyiI2y/TqJCO91CViKuU+/3MFviHvMVmVWTgRJIe3aQyo/5dPA/CYJ95R/dTmxmvBE6ACA5557Dj/60Y/Q0tKCPXv24Nlnn8WPfvQj3tvKpApHnssXJ2o5i6CKIqOuC9lsFmPxsKX+b+VqaqyKkcWRuhkO01nEgUqCSBXqwHG8bHmYqVc4Rb3VCg/6bb+X9q9reSzCfqpH3MLld2WLdHu2trRhH7Pbf+tXE5h6ptHlKYdGUQ3rKPZVxfbAhAdq4VYkAoD6Q7/gVL/Ux62akxW1X2NS9sjT6N6JklB34U30nt2Ho0t5W9f0CSQmRdsj/aRhyajC3Ccds+zypdkLhOO8baB24lvEflwsf36wCtv5uLYScVLf23Y4U68j1jaeCR3QTjZ6enrw4x//GM899xz/egVjp2/vNerCzxsyyF/j3fiFN2/jsbjoxt5iOjXu90uNwYv5cEBRxWragWqVCbbpLCKbAO0W99WoA+fxBp6OITw5jjMj40ghgv1l71pZqSgYkU3u6u8M2J86LUu0nfz6Pd8oYzH+MBqfmULvX7+tqVahQtUfMNf0HsU+g4F7hej55E8Z7LivFrUApk790t0JiQtu/WoCU6hH7e+zruxph3rK4V5tzYzyBU2pfd2SC91VmPskp5x2F3XoCCo5grDiYFws237EImwnKrie4nxuKwfZWMxrAPA2HgQhw1OhY3mi6V7KBg4XqIuwBJoF3f0C0iOVhMygG6dxN4LkBuQ6ktUidcB4N3huoBmJyTBiT5cGVPXWkBQ6JEbBuRG+TMqnMNIp3N+dezNhre5UvMGpx5CPwkiPjc4ug3a7V+KAelNLm1lcGmWls0gGiRa2HAtIRztsF/eV14GLeGt2oakhg0RPytmpz3SfUB7qvfEdSPG315gx2GG8C366Dx2DsDFgryKmwmsZ3HgLP3yqF1M7u9HtWiVK5aHvdqP+jQm8c+FN9D5QpurPhVfFW6guTGBIporklLO96GXCfOevezHFGrg75mHsO1QPnO3Fk4IAdAu3yrHpOHyYMeJ+G0OHp+RqU/ppxwtPoLcstTUdYzpvjR5G71lgX9vj7gRNbWHM3hiImTQ6BXstN/OZG7/mVDz3TSbQzKqdarcNWl3UIZ8Lc+jTfp+LpTgumqq2qjdFZnqaxd+amEkjLYxbJdQbEFPoMOS9gPTLzuaJytGEPu4GP1dzWzlIxuJm/jIR/farA5Lf3JhO25/4A9oc4dImklhRrEGhAwhEx9SBQzN0EgYeJ9S0or94Gw9njHaJ91wuPrQOiHGMN2qqO17QnkQ2ux95xsiuYzCCpGAjoN5OlGwXDcc6TrL+KsO33V/6wUc9/IsxjNnoDgeiWYzFYTAW7EEc2dEYnJVc6aYrftdfRrnphG6XMerHcbYNwcm3ldWBu3g1g3KTW6UE7vcjz5VHKNSBfHwM2QHjtZdmRI5lsf8SY7B6IIXIsUXUDdau8iwZzYrCnRVTh58o2SU81Qsc+gVO9bpcfLLc9zjanhnCwReGsC9c/imHIV2azcS+Vyr4IcFnjqIbh4vhHXxjH46W+SOHW1sOqzdv8XYdu5/AUBk2HfteOQT8Zz0M7dYuqdqUbmSOCk85rmHoqVK6nzwMdP+sHNWwALpGYwizF0W8DMQlNgxu5jM3fk2pcO4Lx8cwtuN46buWBBAfs7Gl0C6h0G3lQiGEQuNoymaRbOf9BtCVHUPsInfJBrOQ9e3tR3Y0BvAG8S0JazUv+NA6kEXyQTYdzUg8mHQ8rlVKICqO+T2Iq7aEnqDavzgZiwNR1aaRnwtDB8YN/oi1yzrF8FOBBEEQcgojnWju8SMpFUqqyEwanZrBaDm/7bKYzM8v4MatD3DPlk3YuGFN7uGsGm6NHsKTh2vLFpjccmd2DvPzC6jx/S7/apWinnTm42PCYpUgiKXHjThg5XdhYcHwv+5XUZS1edJBEIRbVJ3hRVNtWiFs2LAemzdtxO07s7AYg4nlzoVX8eThKex7ZXEEjvn5BczOzmPL5k38K4IgiFULnXQQBGHLop1yYGWddOjcuPUB5ucXsH7dOqxbt45/TSxT/unYY/jB/6X+/d3/4yQOyDSvqsyCsgBFUQXWrb/zJWxYMydkdNJBEMsZN+KAlV866SAIogw0o75QaPEEjhXKfVu/jC987h5s2LgB6zTBg57l//xvz/4d/uZv1efZR8T3XjybN27EFz9/L+7b+uU1JHAQBLEWsBJGQCcdBEEQBEEQBLG2cSMOmPlVFEV4RycdBEEQBEEQBEEsGiR0EARBEARBEAThKSR0EARBEARBEAThKSR0EARBEARBEAThKSR0EARBEARBEAThKSR0EARBEARBEAThKSR0EARBEARBEAThKSR0EARBEARBEAThKSR0EARBEARBEAThKatM6MihLxRCSH8GcrwHS3IDIYSiaRT4F2uEwkgnQqE+uCu16uJ1GsTw1TbTOeKu1sVw7JF947zNlZdOM5zHuzZY7PKYX1jA7Tt3cfv2HXroKfu5c/cu5k1+GXgpWez+ZE91x8+lo7I1zpIzk0ZnKIS+af4FsVZYmULHdB9CoU6kZ1jHAtLRDqTak8hms+oTDbAeCIJYErSJ0moRok1GxcnUpUC3kvjok89wo/ABPvjwY3zw0Sf00FP28/5vP8aNm+/j1gcfYm5unm9qxKqC1jjEymdlCh0yZs5gfBKINDrohNN9K2+HYI3g29uPbLYLDmqxSgTQlc2if6+Pf2FJOeks55sVz0wanaEOpHh3lpk0OlsSQHysOJmOxfPoWETBIxDNIjvQCnetoERhpNPRLur7H3yITz79DFu2bMLn792CL3zO7fMJJv73P8IffzuOiU/4d2U8/+s4/vjbf4Q/Hvyf4jvXz//EiW//Ef7428dxmXt391Rc6i48enqY5+VTn4j+qvhcHvwj/PH/fhJ3Je8W47EvG71cxfL4/Oe2YPOmjbg7O4ePPv6Eb27l4WZ+dOOXqAw3axyCWKasHqHDBbkJyyUQQRBVoDDSiVBLApn2JJLt/NsSuTcTyDTEEGcEP9/eOGINKXSsiAVNAWdOZnhHgfmFBdyZncOmTRuwacN6rFvH+yDwyPM4dfq09hzFPv79KuHW6CHs2b0be3bvxpOHp/jXDG/jtd0HcfnQL4plUnv4Cex5/W0AwDoAmzdtwD1bNuHO7FxVTjvczI9u/BIEQXgudLz33nv49a9/jdu3b/OvqoSmutGSQAZA6oCFrqOmwtExCGCwo6jKIexQCqoevCqXDqdfaeqPRf2mb1pXE2O+59VPLPQfBZ3ZmTQ6tfhV2wFRTcXoLg9XxWm+CkhHWX9imIWRzmI6cwNimnhkdg9COdmEocPnt3OkAN92P+eL1fXV8iNrO1yZl5NO6Tc6Qpsz8SdgXweWWMartQNpeViXlU44PmajApDD+CAQfmwXd8rgw67HwsDguEU5lPoSX9diuph+x+RZ7/vO+xMX9nQfQqFmJCaBTE+zZR3Mzc0BADZv2lh0e+d1deFpfF7FO8x3Rraipfc0Tp0+jJb7+HdloC/yv/cw/6YMHsb3T5/GqdPP4yH+FWFga8vhonD180P1/Osit0ZPYAj70NayVXN5GN9/ZR/wxgmM3ij527Benco/u3O35MhRmO7j+rqszTuYH934FcYXs7nE6ZzD4qb/yxDHzpBJ3xXTJ87X5aUB8nQYvnWxxgHcrTEsbF3E+cosXKauuPhk4eqU1gNWfsWyEeqHGavZ+AV/xPJA8YgrV64oL774ohIMBpVgMKj8yZ/8iXL69GneW3mcO6IEg1Fl+Drjdn1YiQaDypFzjJuUm8rwi0El2H+ef6Gc71fTGgweUdi3qrvRTY8vmr5Zcjt3RAnapuG8ckQrE2MaNHfWzSJP5/uDSvDFYaUY+/VhJRqMKsPpI4Y03UxHVX/njO6yMryZjkrzr7pz5W2RXln8w/3yfPCocTHxS9KpKIpy/pxYfyyyNMvzp+ZDT7PsO0UR81ZOOoVv2DbH1qW0zRnTybrZ1YEMp/HK0qwo1m1ThtBedazCMSnTEqW+ZMivFqasfx1JDytRSTqE9OlhmIQtqwe7Mv/ss9vKb2YKykcff1x8pn4cVILPDymXebdgUOn9ZcltpT+Xf3pQCQZ7lSnJO/NnSukNBpWDP70ieVe9R1YHi/mYl80VZej5oBL88RTnLi+X38wUlPd/+yHf7EqcO8L1M8n4YTE/ipj7Xey5VNZHZf3f2EdvKsP9xrFAOv7L0sch5ksrG8lYY8SiDvhvrcZKAy7WGNJyURHHfmYMZcM4d0T1d51zl6WXGVdl7rJx1XZ+uz5cXPvI2iLhnIWFBcfP/Py89Jmbm1NmZ2cNz927d5W7d+8qd+7cUTw76XjttdcwOTlZ/P/atWvo7+/HBx98YPC3/AgjNmrUuw88HUMYKYwzkrNMJQR1bYg1AKkkv5sgoSGGMcMOcABtcbudXTsySFxqMtgn+PbuR2QygeakX5LWDManxJRGjhnzr6q6ZJB4s5SywshxpBBBks1DTSv2twOZnhPGPEwmML5jDF11rKMzClfyQEMTdtUY3QN1FrvnM2n09GQQjsfRynyn5oP1KOKrb0IYYrkUpsaRQRhN9XKt/7LSWSSM2EtGe4JANIkIUjgu3f1RcVUHUuzjVcvD2PZRLI8ImsqoU5Ew/Pfzbi7g+2FNK/qPRYDB48Juaaonj/1ubDfak0Z7H718T56x7+Nl8tD3foHuncDQC6UTD/FERDwNuTV6CHu638Itzh369/q7G2/hh9zpyg9HZV+9jdeEU5hDhh124BZGuzk/JmlQMfqXx+sUPn182txiDO+1C7q7lmazfGnlWVleZFzD5bNA/XZ555i6co13sqauixuDqzHnWLF4c6nT/m/Eh9aocSzw7d2PCDf+S9PHMpPG8UF+3vShtSMCTCZwwmLHXTqGw4fWl2II23xriydrDCB1Eoiz4da1qaqwLXnsl8xFqQlJbO1JY1usaUU8HjbMW9KyMZ3fMkic9HP5JZYjnggd169fx9/+7d/yzrh8+TL++3//77zz8kKycESNH34A+Sv6QGSjEjKZx1WDu4j4LTTVnzzylgOlNWZGZrL4ACBziU+pbAHIq7poOuztTYJRdKAxIsmD+WLdDt92PzCZQI/F4lvgWt5EQNDyYYV0Uannd79BiGEpK51F/PAL4QbQJKSDxW0dyHAQb80uNDXwE0cOJ3oyCMfbhLhdcy0PU2uI+/0II4O8zdpK2rbrmoTFAwBpeVkh60/bdjjr4+WzFfV76gFcxmVtEf3Q93Q7B3N1nK0tbdh3thdDxcWyxo23cOINYF/b49gKAPc9jh/Z2k3cwmj3QQw9c5SxsZCpdenqXupz9Bn2Hc9lnOg+DPwHzf8r+zB1+InyFus33sIPdx8EXmHjnkLvU6Iw5owJ9O6eQCNTxkMv6ILHVrT8h27Uy8oWwDt/3Yupnd3oLqpAVYkbl3GZdwMA3I/anbxbeYjqplVkCedS0/5vyzb4DRtTZukrYboBU9eEiCGvPOZjuHzcdYcszdVYY8jCBSzG1ot5YQ4L79jGufAbXOZlYza/maaLWFZ4InRYnWa8//77vNPKYyaPPIw63PrT3GO6hFohyBaiPFeRnzTq8hafAzLDQidhmlDXhbF4uFTWgk6qSOFKvqI4A40RYHIcZ/RBzcmtIWWks0iDH+IQbIfbOpDgKF5tx47dNZweR0oq1JXB/X6YioGa8CgKweUjm+yWI1u/VgtgCpf/hX9jxcPYd6geQxnVyFjn1q8mMLWzG/seMTjboO6yV5vG/8AILY88je6dwNSpX8pPECzQF/psnh76bjfqMYQJiWBgy9latDG2KFtb2rAPKJXlfY+j7Rnj6RMgEeiWObweveOxwiuWei4VbE5U+6zSezV9/u3mY93VSxkAKXTw47DdrX3aGC4fk3zwPyhfsK8GrMpTxf38Zh8msRzwROiora3F7/3e7/HOAIA/+IM/4J1WLJFj2l3ZwrM2rkUNM1ecGp9+0xOBclCvms0ie0w9rm4OWRnRVQFul8x0J4tj0dO5WHXAlUduIiXfxSwb+9MMwhlbv96IeoOR8S1MnZoqY1GsGywfVNWNtNuSKqMWtdwpSe0DAM5exm9YZ1vexsQbAM724klWveqpXkwBuPyeWxEGwM5afMXgoJ0mvHu5KBDpQs0J5mRGJvxUjftqUcu7AeUJhLrh98UYxthx4liE97kkLMVcmhtQjbP9hrjHbFVwpTRw5co8bq9jJ0osyvxGLCqeCB333HMP/v2///e8M/bu3YtvfOMbvPPKQzgiXk2Ix5Yi6hG0qJrlMXVdyGazGIuHLfV1Kz9CZlWMzI95TXGYziIOVAhEqlAHjuNly8Ne3cAVFn3J6YmVtAy0HcqVyq33LgOoR+3v829suO9xtD0zhYlfaQvjG7/ExNl9aCxnUVy8vvYo9unCh8SWpGKEBb9DBNUv9flRNdWcHqgtCWvaacfU4TfVMrjxFk68UY/u/+BWoHOKKviY2W6Y2XrIyL2ZQAYRJDl7JrWPLSEW/d8pZfV/zQ4jHOdtDbUddh0H6Stf3dJqDC8gfxHAg/7qjLPLDKvyVLEqG2Il44nQAQD/9t/+WyQSCbS0tGDPnj149tlnEY/HeW8rFDt9e69RF37eINt15hfevI3H4qIbe4vp1NBsAUR9Xme/pwBWxWragWqVCbbpLCITkOwW99WoA+fxBp6OITw5jjMj40ghgv1V270z60t8m7NAooJgZ/i/vFFPJ7CzEfVlXIv7UHhfcWF861cTwKGnK7zCVr8K9yj2YQgHq3LqgdKJBbuwd4R2CvHGRPUFIJ0bv8SExIibPe145697MfVMW3WuLpai2fbw+bwwgSHUo/Hr7kpNpk6pqgYtJWb93wUV9H9BJUcQVuzTZ3bZhj0WY7gTlV5PcT5XloNMmDBqFFiUDbGi8UzoAIBvf/vb6OnpwY9//GM899xz/OslQtOVrLAxq4uwBJoF3f0C0iOVhMygG5NxN3jkBux0RSsjdcB4R3puoBmJyTBiT5cGQPWWj5T0V6NzI3yZlE9hpFO4b1vftTNVdyrecNFjyEdhpMeor2uFdrtX4oB6c0mbWVwaZaWzSAaJFrYcC0hHO2wX95XXgYt4a3ahqSGDRE/KmSDggkA0iQhnhK/WlbHNmTKZQDOrxqbdXmZl+F9dtF05i4WJc25htPsJ9J6tYAf9kafRvXMIExfextDhWuY3Hlxw4VXRwPvCBIZc7rAbMQos6m9Q1KP7u25/I2QrWtr2qeFJbpS6dYN3ccDZXvTyalOG38fQKJ52PIGDb5STdneotiVsub2N114YAlwKO+omivE2pMJIp/o7GwbczI9u/JpT8VxaTv+Xzq059Gm/hcGip8/0khD9lqYDkt+GmE5bnnQXfwTVkPcC0i87m3cqRxOquNugXM2V5TDYYfxdjuk+NHOXk1Q+v0Gt05BLG0vCUzwVOpYrgeiY2tE1wyT5j9LYUNOK/uwYYtB091lDtEu853LxoXVAjGO8UVPd8YL2JLLZ/ci3lOLrGIwgKehQBtCVzSLZLhrQdZxk/VWGb7u/9GNIevgXYxiz0fUNRLMYiwMJJh89iCM7GjM3XDZQuumK3/WXUW46oeutjvpxnG1DcPJtZXXgLl7NoNzkRqfKCKArm4SfMSZt7vFL2pyccHwMYzuOl/LfkgBsf5SwmvjQOqAKTno/FRYfVhhsE55AL7rxc+GWKDeoi/KhFw5i6JnGsk85pg4/YbwK94Uh7HulAvWlnd34eXiiGN6Th4Hun5WZz0eeV09eeLuO3bvR+yveswOeOYpuHC6GcfCNfThq8iOH6mkHXC/8WcRfJB/CwWIe2Kt/H8b3Dept2q+Tu/0xR+2iC3aMMhsP3cyPbvyaUuFcWl7/F/tsKDSOpmwWyXbOa00r+rnxKRQy2usFoqp9DD8HhA6MG4IS8aF1IIvkg2w6mpF4MImsm6u9KyAQFeeQHsQ9tPeJIJnNYv8lpjwPpBA5xtu/VDa/EcuTdYqiKLwjQRAET2GkUxMGZELJUpBDX6gD+fjYijDWvH37Dj746BN84XNb+FfESuLCq9jzwuXyBSaP+PjTO7hnyyZ8+Utf5F+tUlZW/yeI5Y4bccDMr6Iowjv9f0VR1uZJB0EQblF1fKvy2xxrlE2bNgEA5uYX+FfESuHGW/jhC0OoP3RoWQkcepu6ZwsJtARBLF9I6CAIwhZVx1di60E4ZsOG9di0aSNu35klwWOFUVSHeqoXOPSL8lXMPGBufgG378xi06aNuGfLZv41QRBEVeFPMtxA6lUEQZigqi+olxZElpFalc7KVK/44MOPcPvOLNavW4d169bxrwnCFfMLC9iwYT1+54ufx2btNG1tsDL7P0EsV5yKA1b+7NSrSOggCIJYZD757Dbm5+exsEAnHkT5rF+nnp7ds2UzCbAEQVSEU3HAyh8JHQRBEARBEARBmOJUHLDyZyd0kE0HQRAEQRAEQRCeQkIHQRAEQRAEQRCeQkIHQRAEQRAEQRCeQkIHQRAEQRAEQRCeQkIHQRAEQRAEQRCeQkIHQRAEQRAEQRCeQkIHQRAEQRAEQRCeQkIHQRAEQRAEQRCeQkIHQRAEQRAEQRCessqEjhz6QiGE9Gcgx3uwJDcQQiiaRoF/sUYojHQiFOqDu1KrLl6nQQxfbTOdI+5qXQzHHtk3zttceek0w3m8a5HKxpGlRG1jeto7kZ7hfRBLzkwanaEQ+qb5F6ubVTvmuKlPN349pbrzidfI5k6RlZWntcrKFDqm+yQTagHpaAdS7Ulks1n1iQZYDwRBEDas4HFkug/NPUBsVEt3th+tNbyn5YVRSNKechem2oJOCE+YK1YYer4shF+hHC38EgRBeIGiKLyT4LYyhQ4ZM2cwPglEGh0sEKb7aFBepvj29iOb7YKDWqwSAXRls+jf6+NfWFJOOsv5hlhkVvA4kptIAQ1N2LXMBQ2dwkgnJyRlkc2OIYYEmssRPK7lkUEEyWJYK0f4MmW6D6GWBDK8O4NYjmOIXexYVm0TAALRLLIDrXA30pYojHQu8S52Dn22u+021LSiP5tFVx3/YrEpb95zxaKPj4uQJ6JiVo/Q4YLcRIp3IgiCcAWNI5WhCuG8QOBDa0cEmEzgxJKroCwlBeQGOhE6kEI4nkSsgX+vk8OJngzC8ThTjj60vhRDeLBjGajxVIsCzpy0Er0WgelxUI93Do2PhAzPhY733nsPv/71r3H79m3+VZXQ9K+13aDUAYvjZe2YumMQwGBH8Sha2D0RjunNjuc53W9TfyzqN33TupoY8z2/u2eh/ynox86k0anFbzxqL+3M8EfwsnBVnOargHSU9SeGWRjpLKYzNyCmiUequ8mXk00YOnx+O0cK8G33c75YPVAtP7K2w5V5OemUfqMjtDkTfwL2dWCJZbxaO5CWh3VZAUBhuk9Ud5G2cVm7NYatvjNph1J1Sx6xnIxpr8Y4clFeJnoZ83mX6iDzfY9/L6KXW8cggMkEmkOhUnkw5cu2T0MbEdqtpCxN64lv36VwXLVDlvv9CPNuDihcyQMNfmzjXzhhJoc+vn1IyiE3oNcvX0+iX0DSv6JpFGr84EchER+ADCLHsujfa5Gj6XGkEEZTPbe7W7MLTQ1AakLSfl1Rmq/4+pW3c/O25nzO4sKe7kMo1IzEJJDpaRbC5SnNOWKfl38j+jPmTXt/IAUghQ62LhlfMMxxsnDkc7rbNiXEYZs/GeLYYz4/iX6lZab7MR0f+dJiEMagkElaGIRxVUxnqS04K1tiEVA85NChQ0owGFSCwaDyrW99S8lms7yX8jh3RAkGo8rwdcbt+rASDQaVI+cYNyk3leEXg0qw/zz/Qjnfr6Y1GDyisG9Vd6ObHl80fbPkdu6IErRNw3nliFYmxjRo7qybRZ7O9weV4IvDSjH268NKNBhVhtNHDGm6mY6q/s4Z3WVleDMdleZfdefK2yK9sviH++X54FHjYuKXpFNRFOX8ObH+WGRpludPzYeeZtl3iiLmrZx0Ct+wbY6tS2mbM6aTdbOrAxlO45WlWVGs22aRc0e49+bpDfJpFvIhy7/2hu8LApJ49XGA/85JvhTFdByRlpc2LgjtQ++zupuQZ8Uk7XKk5cCMC7IwpO1dNo5VYXxxijRNDiimhX/hiPPKEa58+L5QcjNzdzBHMO3dvo3pyNuaYtbeNKTtwTWl+UqaD6Evm7c1IT2O+75i2f95SuO8bPzn25Wsf8nHBtOydpMPyfjipk2JbvK02iOWp2n+BL8m7fH6eeV8sWxN/MgwGSss505Z+xPSaTbn6+UoxrnWWVhYcPTMz89Ln7m5OWVubk6ZnZ0tPnfv3i0+d+7cUTw76Whra8PJkyeL/9+4cQPPPfcc3n33XYO/5UcYsVGj3n3g6RjCSGGc3Z14M4FMQwxxVn+wrg2xBiCVFHdABBpiGDMYqAbQFg8Dg+PW0r0lGSQuNRl0Gn179yMymUBz0i9JawbjU2JKI8eM+fftjSPWkEHiTXbn+ThSiCDJ5qGmFfvbgUzPCWMeJhMY3zFWlh6runsp6qkH6ix07mfS6BFUDvR8sB5FfPVNCEMsl8LUODKyHUWNstJZJIzYS0Zd50A0iQhSOG6xO+SqDqTYx6uWh7Hto1geETRZ1WldF1fnFm28PWnUxdXzcfKM1pcCaDL8r5PD+CAQfmyXqa64tJx0FZQqq/GoJ2l55JldtNxECmiPIIIM8tdK7moZ+uHX2ox0TEEAXcciwODxCnbmMkic9HPjDQCpao5ab8l22ThWnfHFkuk+NMvS5ICrlzLMSY/bHc0AurjykY37Kk7miALSL0vqs6YV8Xg55zgWlHu64wZJPvql7dKsrVlg2/fLI3LMqLrn27sfEW5sr+rYUFE+nLQpbayLtzH+dHXEcZxx1M6rwVXkZXZvNQEEXPZZlDN3zqTR2ZJApj3p+JIPfk0TiI4JaxpicfBE6Lh8+TL+6Z/+iXcGAPyP//E/eKflhaTxQzsOz1/Rhw6zhY4Pux4LA5N5XDW4i4jfyhcsbhEGAg1ZfACQucSnNAz//ZyTnq/iYlHTr21vEoyiA40RSR7MF+t2+Lb7gckEeiwW3wLX8iYCgpYPK6QThZ7f/aYLobLSWaS08CxhtsjWcVsHMhzEK1XT0Ber7OTnDFG9TUXWbrftMPalQKM4ueqLhv2mxoPm5STPW4XUNXELG3WsiDR2oandGNfVS2y6zMYUWZjukYZrpppjUtYwqSeYhS8dX0QM6iIHgGSZxqCBKG9AnsVYHEi0uFE7YTBTg3I0R6gLM1m5qIJ8dbh6ydzOge8/lSDLh1m7lPq1QNamKk+7bENkG/wNbJus7thQUT4ctSkV/3Y3pesFajmmDtioPznE1dypCxzCpq0VsrbAr2mIxcIToWN+fp53KrKwsMA7rTxm8sjDqF+qP8095pPAykC2EOVRJ1RWX7O0aJAZjzkJ04S6LozFw6WylujR8hSu5CuKU1hwObnRqIx0Filrp9JtHUhwFK+2k8buaFosVnkE/WOnaZOh7Z6XdqcsFg1FtMXfDllOffA/COBi3nld2cItbKbHkdImvUBjhJnkNCFDT5c2psgXFPxiyT2ycC37yf1+hLmTGa8wCgtNGA+5OaGwxre3Xz21cbJAEvTKO8o3HLasz+qxbYe5+HL1UsZhH68uXue5eiz22FAp6oaQsS0XkE6mLDfEqo8PrQPqibhu31KWUK/jeO5MoaMlgYzkhJ5YOXgidHz1q1/FfffdxzsDAGpra3mnFUvkmLizpj5r41rUcHxMkves5EaaylBvuckie0y91aY5JDHQqybcDp4jVaKlSOdi1QFXHo6uZtWNCS/GMMam61iE9+kCbnfKiTC46BjTqJaVtvC7319Sl5jJI+9QcFtbBNCVTSKC6qk+2J/86YbCee763iQqaa2LhpOddGJVoKoFMcbsoWYkHnSuZlQ91Otps9kxVaX8QGUbBU7nznB8TDu9dLCJQCxLPBE6Nm/ejJdffpl3xrPPPov6+nreeeVhcuy5OrCanHUq33kti7ouZLNZjMXDEl3iEpWrqbEqRk520zkcprNIWYuGKtSB43jZ8rBQA2LIvZlQfzOBu5df3V0vH9bGxJkwaFVOBeQvAnjQb5kXt5TaH1dWjMoGb89hPaZY7ciWj2U/0VQURVXLxUCts2pheaIDANMnkJgUbQD004qysKzP6mFeh9Vt29L+U0n5LAsWf2yomOkTSExyv0Wz6AIHiw+tA7qAXoWNAsu5U1WjVW0zU+iQCCVyZP3DWjWR8A5PhA4ACAaD+OlPf4qXXnoJP/jBD3D06FE899xzvLcVip2+vdeoixlvkKlU8AvvpdWH1I29xXRqaKohvK5xMR8OKKpYTZe/m26bziKyQdFucV+NOnAeb+DpGMKT4zgzoqoLmdtQMEhUOyoe6DWbm9REGmdOOrErsSgnr05KtJOh/BR/mqGl5WIeZwz2HLAeU1yos7nCRCcfTk+zPENTHawSztSMJALWtbzlj/JZoy1oJfWpCpxVwqwOq922JWpGdpdrLH+WYGyokIquhS4XR79Poo5fsnZSDtZzZ+l3aCyv4S0iC0dbQ7nZTCSqgmdCBwA88MAD+M53voM//dM/xc6dO/nXS4SmqykbaFygLsJkv5xbQHqkkpAZ9J1R7haZ3EAFusYOSB0wHpPmBpqRmAwj9nSpe6o3gaTQIblLOzfCl0n5FEY6BX1RfRfddIe7eINTjyEfhZEeJJwuZnT7gQOq0VqbWVwaZaWzSIY7Li4gHe2wXdxXXgcu4q3ZhaaGDBI9KUcDtSq0GW9/KYx0qne3V4hqG5FAYtLZgqe4M2boq6XbhezqVo7VOKLpXvckkOEW7r76JoQnE0gMiguaQDSp3gTF/37IAa90ttWbsTI9zcLvdnQMApEOb/WmcwMydYxSGzTeKMSh39FfLKsc+iQ7n7mBEDoGbXTAtYW7YZd2Jo3OSuyPmB85NBjIajfrVQ+9DtmxzmHb1mxYHC3c+Hap58OTdinDXIirBDdjg3qqJLvNbPHw7Y0jBv6GtpDxNy2EvuEM/RTZeGOiNv4YyKGPX/fMpHHcsFllNT4aKWvu1G6B4+d4M8Q1TQdSMK5p9N+K4dNCVBdPhY7lCq8X6WjQ5alpRX92TDIANCNxifdcLj60DohxjDdqx49e0J5ENrsf+ZZSfB2DESQFGwFVpzPZzuqXav5LNyVXjG+7v/RDbXr4F2MYs7GbCURLN9fo3/UgjuxozOHNMaWbrvhdfxnlphO6XcaoH8fZNgQn31ZWB+7i1RZRJre0CGjGgWyZuCt/C7SrqZ3vxKsqAMkH2X6k6UJz6l9usBpHdANfoe1oGwnSnXUE0JUdQ+wiezlAB/LxMe9UKOq6kB2NIc+2Xc22oZwrrt2wbYexfxrqRdoGGbRTiFJb3Aa/odzUR+2D/NjFE0DXqLpzWvz2ZSCu6auXjVa2YC8cqUa4PHVdyB7zM2XprG2ramfOBPdwfAxjO46X8tGSALxslwKa8TJzJXJ1FocuxgZ+TOMX3l4zk0ZnqAd4ibffy2Isni9tPgl9wyE1rejn22toHE1Ce90GP7/uaUnAf8x465zV+MhS7txZvMq/RbZ5wRJB0tGahlgM1imKovCOBEEQPIWRTjT3+JG0mQy8J4c+bTFeztWqxMqnMNKJ5pNNGOMXhoRjcgMhdMDOCJn62vKggHTUwmh8Jo3OlnE0jfZj15STvrE26nX5zFkrA6figJk/3Z19z/69sLCwNk86CIJwi2oPY29DsQho19AKKmDEGkFti16rf61uchgfNKqXECuYa3ntYgrqG8TyhoQOgiBsUe1hlsNCX9UxXhbCD7FEqCoxXqt/rW4C6CL1khWEbvTO3+ik2eYUx0SHfWORfkeGIHhI6CAIwoQc+jQd2KU+otaN/HQbh9WsEkAQBMHj29vP2e5oj2aD5WRMLI6jLQlk2pP2wglBVBmy6SAIgiAIgiCINYxTccDMH9l0EARBEARBEASx5JDQQRAEQRAEQRCEp5DQQRAEQRAEQRCEp5DQQRAEQRAEQRCEp5DQQRAEQRAEQRCEp5DQQRAEQRAEQRCEp5DQQRAEQRAEQRCEp5DQQRAEQRAEQRCEp5DQQRAEQRAEQRCEp6wyoSOHvlAIIf0ZyPEeLMkNhBCKplHgX6wRCiOdCIX64K7UqovXaRDDV9tM54i7WhfDsUf2jfM2V146zXAer8fMpNEZCqFvuuS0bNK2mpCUM7GM8ai+ZGPQkuJRPlcO1R3XCWK5szKFjuk+hEKdSM+wjgWkox1ItSeRzWbVJxpgPRAEsarQNhksNxe4jQjtqd4iRx5+deNYArTFoFXZqgtY800e9T0/ThMEQRBrlZUpdMiYOYPxSSDS6EDQmO4TJkhieeDb249stgsOarFKBNCVzaJ/r49/YUk56SznG8Kc3EAHUg0xjJluLuTQF+I2IrJZZI9FkDpQJaFgJo88woiNMuFrT1cd73mFMN2HUEsCGd6doTDSieYeMPkeQ+xih2Fc9e3tR7I9g8TLi3dqVRjpXB27xjWt6K+oDeXQJznRWLoxqIB0lARQgljrrB6hwwW5iRTvRBDESmImjeODQKSjFebioipQCieedW2INQCp5OIthlcGBeQGOhE6kEI4nkSsgX+vk8OJngzC8Thaa3Q3H1pfiiE82GEQ5gJPxxCeTOBENQQ8Wwo4c9JKVFpDTI9jWc1y2qYgQRBrG0+FjpMnTyIej+PP//zP8Zd/+Zf86yqhqTdoO3OpA/KjfqCkMtAxCGCwo6gWIOyM6aoFxcdsh4ZXrTDzx6J+0zetq4kx3/N67Bb6roLe+0wanVr8RrWH0m4Xrw4hC1fFab4KSEdZf2KYhZHOYjpzA2KaeKQ6x3w52YShw+e3c6QA33Y/54vVqdXyI2s7XJmXk07pNzpCmzPxJ2BfB5ZYxmulvmRdVgBQmO7jwpa08TIpTI0jgwiaytoJ9sH/IO9WJtfyyMAPf3Hx7YKZHPq4upP1tdyAXs4O+yVfp9E0CjV+8C1fxAcgg8ixLPr3buNflpgeRwphNNVz4l7NLjQ1AKkJpk3I3MqGz7/6lMbSZiQmgUxPs/GdjtA/JeXHjKOl8Up9hHlCQmm849MqxmU5NkrGfmftQOuXB1IAUujQ/ZiOWy7mI8a/sRy5tPNfDOjzcwaJFnO/fHmbjS38uG7mj6VU1vbjpVhGOuxcoWIabjFNfHyycFUc58u2npg6ZcYCJ+2XIDxH8YjXX39dCQaDhufQoUO8t/I4d0QJBqPK8HXG7fqwEg0GlSPnGDcpN5XhF4NKsP88/0I536+n9YjCvlXdjW56fNH0zZLbuSNK0DYN55UjepkY0qC5s24WeTrfH1SCLw4rxdivDyvRYFQZTh8xpOlmOqr6O2d0l5XhzXRUmn/VnStvi/TK4h/ul+eDR42LiV+STkVRlPPnxPpjkaVZnj81H3qaZd8pipi3ctIpfMO2ObYupW3OmE7Wza4OZDiNV5ZmRbFum0XOHeHem6eX9Se0bQHzPuwMSTrK5dwRefk44rxyhEsDX/4lNzN3B+OS5mY/NrGYl7FpmzCpOyv/zpG1f0VRzp236SMq0n4tG6/NykrzKwubRT7G6HUlGY/MxkazfmEatmzMFstcdHcxH8ncZO1Nhsn4yJa3rM3y4Yp51dqp5XjB1oukDqRuYtnJ2lepDtkw1DRF0zeV8wZ3Wf8olb/t2G6SXrFM1G+PpIeVqE25EATLwsKCo2d+fl76zM3NKXNzc8rs7GzxuXv3bvG5ffu24slJx4cffoi/+qu/4p1x8uRJ/P3f/z3vvMwIIzZq1HkNPB1DGCmMs7tObyaQaYghztoCuFHbEHTRA2iLh4HBcdOdEHsySFxqMtgn+PbuR2QygeakX5LWDManxJRGjhnz79sbR6whg8SbpZQVRo4jhQiSbB5qWrG/Hcj0nDDmYTKB8R1jZeknF67kgYYm7OJ2kgN1FlrJM2n0COofej5YjyK++iaEIZaLurMu2d3VKCudRcKIvWRUEwpEk4ggheMWu1Ou6kCKfbxqeRjbPpyeNNR1cXVejTYOAFeRnwTCOyx2403RLpzgy61MClfyxh1lk91TOQF0cWmQjTUqTsalAtIvS8almlbE4+HS/9WgwQ+npa+eLuaR508V3KDZzgj9ry7gwD5Bpg6mts9ku8l43Z40tt26LozFww77lTiGBqJjwhgKlDM2OmkHZeBkPtJOuGJPS8abk2fEMnRDe9JoVycLV1epNJStD60dEcChCl/kWD83J+xHRDLeu2IygXwjG66apkxPM47vMLY5Vd1wHGf4vsD3WQTQdSwCDB5nTrHk7Vivf36uSPXksX/ASv2UIBYfT4SOq1ev8k5F3nvvPd5peSFZOEJTTchf0Tt1DuODQPixXVyH9mHXY2FgMg/zElARv63O5GxmSC+LDwAyl/iUhuG/n3PS81WcgDTd6fYmYcIPNEYkeZAsFhzi2+4HJhPosVh8C1zLmwgIWj6skE12xfzuNy5aGMpKZxGZek4ATUI6WNzWgQwH8UrVY/TJr02I2w5Rva0MZvLIA/Bv5+vXBIO6UTPGHxurmjGtapjLGZFrhuplqTOYqUE5Gpc0YUzS11XhsTpcvWRuN7Fth2T8u9+PMDLIX2MdXVLjhx9lGqWbqYPpfUWyCJSNo2YCuIhMGOfHUB15ukxx1A7cI20z0vlINmZUjqy8+bZkutFR14SIo/xLvsU2+Btk86AbZOHCom4lfeFBv1D+ar4YgcisHWtjtJAHydxAEEuNJ0LH1q1beaciv/u7v8s7rTy0RQ+rO6w/zT3mE/LKwMmkoi5uWLuY4nNAZr7oJEwTijuMWlkL+qsi6u5z+XEKCxEnN6OVkc4iLnaNS7itAwmO4tV2EtkdN7PJT4Kgp+00bVZcy1verCSg3QSkCwVx9KhpMdOZrpRiW+gR9PgFeP3sUEf5BsBuhbEy2bbDXHy5eilj2q7sF4VWBNA1qhqlN4dCUhsJMyzHg2oIRBVhkq7lSF0TIkihg+03ji50qA6qsCueKlbUZ5YJTk5t1XbM2sXoj2rLxOMkTIJYbDwROn7v934PjY2NvDMeeOAB/Mmf/AnvvGKJHBOvyVSf6uyiLnfC8TFJ3rPIZo1H2JVS3E0+ph6jN3u5YIS4w2S6w8ax6OlcrDrgyiM3kZLvuLLolzZcjGGMTdexCO9z0fHt7cdYPMypLlQXXU3PfDGrG/zmuet2k1j6EnIAf5qxGBSFxyQixcWXuWEuUW00wY/d6GhJwH+skqt9XdLAjSfM4/ba85VJBElJ3rNZyS19BLEM8UToAICf/OQnePbZZ/HVr34VX/ziF9HY2Iif/vSnvLeVSRWOs5cv/HG6jGocSZdBXRey2aztglGuFuAGVsXIXI3JFIfpLFLWAq4KdeA4XrY8zFQLjeTeTCCDCJKcTrG6W1ch9/srVhWqipqXFZqKn6iqqDF9AolJUcdcP60oi0Ual8z7VwH5iyaqIlU9gdGuQh6V67LzmKfXvJ6kZej4hE0el5Va2koh92YCGe53bxZL4ODVrVYTTsZxy3ZMECsEz4QOAHjuuecwPDyMv//7v8dPfvIT/vUKxk7f3mvUhZ83yHZn+YW3mX7y4mC7i6ypTIjGgc7v8S+qWE07UK0ywTadRWQTid3ivhp14DzeogHkyDhSiGC/k11FiZpNNRde0oWhQ6oi/FhgqdJTRFzsOl/YytAEUcm4pJ7WVQle11zHTA3RZGFfMWa67Dxm6bU4tZOFqf6+k/2Jp3wM1cZsN5sXyw5VqFwqtR3nNjUe4eVvn1zMC31WUGO1aMcEsVLwVOhYnmh39Fe0WCv96FWzoLtfQHqkkpAZdCNe7naV3IC3OqypA0Z96dxAMxKTxltL1Fs/UuiQqDfkRvgyKZ/CSKdwE5C+i246+RdvcDLq1BdGeqS6r1K0270SB9TbgNrM4tIoK51FMki0sOVYumHJanFfeR24iLdmF5oaMkj0pBwtnFShzXijTGGkU/2NnEpxuticSaNTpt423YdmyS0wRvT79cWyLVFAekAs58JIJ5p7MsINRga0BYThNqOZNDorsnkp3eRjuNBAu82teqg36xj7V+nmLL6v2AtgDspaVpf6aVFRyDETuvT0Ngu/29FhZo8w2GG8CEDz6/TyBHEM7RBvfvIQdVe82gt09QcgIbFltFUjNd0IcoE2rqcOSG6Hm07bnyg7RBdujCdoOfRV1DdtmEygmbOV6TyQ4i4vUW8Uy/Q0i5dUzKSR5svEBNXOzrlNFEFUkzUodOjXF5YM0oQO7ISaVvRnxxCDbtjIGHVd4j2Xiw+tA2Ic442a6o4XtCeRze5HnjFW6xiMICnYCKgqDsl20bCv4yTrrzJ82/2lH3zUw78Yw5iN3UwgmsVYHAajux7ENZUMJ5RuuuJ3/WWUm07odhmjfhxn2xCcfFtZHbiLV1vQmtw0I6AZU7Nl4q78rXC4cVDjh19qaK/aUVjrgGuG+pYClg9+of+H0NzjR9JW7USiH/8yEM+O2V7rbEldF7Kj3MKwGuHy1HUhe8zP9K9mJB5MIitc0cmfkspwUNayutTqsVTOPrQOJNUrwjU/xcWpVi55to8K35eIHMti/yWmDA+ktB9NtGozOhEkHY2hHsL3P2FzzD2FkU6tLfH2BGOIXeywFjxqWtGvCX5qmVgImBYEoqXb4YxtYZz3Wj41rejn+1BoHE3V7kNFwoiNZjG243gpvpYEEB8T7DR8e/vF/q359/bsliCqwzpFURTekSAIgkfdwfcjKRVKFpmZNDq9NGKdSaOzZRxNo4u4UFyNOKmn5VTWTtJrwbLqI9XEplwKI51oPtmEMUHoJAhipeBUHDDzp7uz79m/FxYW1uZJB0EQblF3rJ2ql3iOrmoh+2G3KlCYGkfG4ndZCGfoP6LKq1yxUFmvfK5eypheIEAQBKFDQgdBELao9jASW48lJBDVVGms1DrKxLe3X1BtINyh2vCIv3rPQ2W9AjCxL4RmI9AxuHj2KgRBrFxIvYogCBNy6Cv+8FZk9amMEASPjRqRHatWvUpDFTA4x4YYqVURxCrAqThg5s+JehUJHQRBEARBEASxhnEqDpj5cyJ0kHoVQRAEQRAEQRCeQkIHQRAEQRAEQRCeQkIHQRAEQRAEQRCeQkIHQRAEQRAEQRCeQkIHQRAEQRAEQRCeQkIHQRAEQRAEQRCeQkIHQRAEQRAEQRCeQkIHQRAEQRAEQRCessqEjhz6QiGE9Gcgx3uwJDcQQiiaRoF/sUYojHQiFOqDu1KrLsshDV4jtLOZNDpDIfRNG/3ZIYTjAOEbN3G78WuL2lc7R9ykfg0x3Vcax6pW5mucqrbfpWFVjo/LoF5WZbm6YRnUgadUmD9h3lzD2P0woJmb/vfKFDqm+xAKdSI9wzoWkI52INWeRDabVZ9ogPVAEASx/JlJo/NACpFj2jiWzaKrjvdUIjcQsl0wqX64x+WmjDncZs+qEZa0fFktNrTFTCnPXD1owuPKLgeCIIjqsDKFDhkzZzA+CUQaHQga031VnHCJauLb249stgsOanFp8KLt1LSi32ZhKSMQzSI70Aof/8KCcr4hFpfC1DgyiKDJSXuY7kPHYBixUfM+kxsIoWMwgqS+GZPNIptNIjLYUZ22PJNHHmHERtnw7YWlZc1MGp2hDqR4d5aZNDpbEkB8rJjfsXgeHazgUdeFsXgYqQPWQqFTvB8fC0hH+Q09jylz/CuRQx8v7JnhxfhNLH+kbcx5u6F5s3qsHqHDBbkJy6mEIEyhtkMsHwpIJ1NA+3601vDvSgSiWclCNYC2eBgYPL64C8wVQGGkE6GWBDLtSSTb+bclcm8mkGmIIb63tBTx7Y0j1pBCB7Ow9e3djwhSOL4SVAm1zbsVxfS4tXDIQOM3UcRFuyGqh+dCx3vvvYdf//rXuH37Nv+qSmhH4C0JZACkDlioDmhH4R2DAAY7ikfigl65cGRutvPDqxWY+WNRv+mbFvW2hWN8Cz1EQcdwJo1OLX5VP1U87je6y8NVcZqvAtJR1p8YZmGks5jOkoqH+e6CVLeWLyebMFyVsQ7vj8+z07bDwau19E0D23aEjZ4M9Wxl66CVt9a2hTYgqWM+z7JvdPi0ytMgw2l7kSOkme27VuopFv1DRwibD9/QRq3as/bOquxM3pXgy4krYy2vzT0ZACl0CGngcHO6K8G33c87lce1PDLww28h+Jgjlrksz87qiIEfw6NpFGr8cJrjcHzMRj03h/FBIPzYLm7304ddj4WBwXFmfAqgqR3InDxj0z7sEcdH8/FC9Csb50JFP7kBfR7NINFifCcjN6D1Jb6sJd8U/bL1p/cXST8u+ef7DDu2aGEdSBn6i7QfOh6/+fhM2pfgz8mY52ZeclOvZuEyaeLik4Wr42wecNAPmTUJG7/gr4gYpty/3J88nRqGNuai3WjIxnfp3GIRBqGheMihQ4eUYDCoBINB5Vvf+paSzWZ5L+Vx7ogSDEaV4euM2/VhJRoMKkfOMW5SbirDLwaVYP95/oVyvl9NazB4RGHfqu5GNz2+aPpmye3cESVom4bzyhGtTIxp0NxZN4s8ne8PKsEXh5Vi7NeHlWgwqgynjxjSdDMdVf2dM7rLyvBmOirNv+rOlbdFemXxD/fL88GjxsXEL0mnoijK+XNi/ZVwUcZm+ZPWpXnbkSFrN8U2JtRdKS7Zd4oipolvA0LZqa7K+XOl+uC/0eMW8iqpSz6dpv6kZcdTqiPDt0IdmZe5PL9GbqaPSMcJoY0Gg0IbENqFSVvU02zMB4ckXjGvKk7ypbjwZ4ZpO3PLuSMVhHNTGe5n2qOs3N3UkWJS1mbt3Aahv+jI+oKOrJ3I3MpArHPztif4NUmDYSw18SNDOpbp/VU27vUPK8MvSsKWlKWbuVjIpyl2Y0kF7cvlmGc/L7moV83vkfSwEmXD0Pvldc5dUt6m/UOWV1l6Zf6uDxfXJLIyF3EyFpjU4fXzynm+XbFI8iyWozn8OCD/1jjXrkQWFhZsn/n5eekzNzdXfGZnZ5XZ2Vnl7t27xefOnTvK7du3Fc9OOtra2nDy5Mni/zdu3MBzzz2Hd9991+Bv+SHqRweejiGMFMbZnRjJ0Trq2hBrAFJJB9JuQwxjhp00Xd2B3SFzSwaJS03oNxz370dkMoHmpF+S1gzGp8SURo4Z86+qDGSQeLOUssLIcaQQQZLNQ00r9rcDmZ4TxjxMJjC+Y6wsnd3ClTzQ0IRd3C5qoM5qF1LDURnncKIng3A8blRRqetCst1hXcqY7kPHoFiWgWgSEeZ/GYHGCMC1N0BXDTDX9b96KQO0N3FqND4E6hxoorYnjfVT04p4PCzWJUc1+oHhWwTQdSzCqP3Ido4BoIAzJ2X5NeLb22WsV72NSnadI8f6DX5VtRimj9Q1Gf/XmR5HCmE01ZuXs7SchLy64+qlDNDgxzb+hQMKI53S9lkOhSt5446h6Q6lDB9ao0ZdaaHcGWzrCAWkX5aUtdaeq0sY/vt5NxPu9yOMDPLX+BeLR0VjqSlhxF5i68+H1oGkXJ1sMIF8h7H+rHE2F1cT+/Zl0pddjnn285J7UieBOBtuXZuq6teSx37JPJ2akMTmYB5wNfcjg8RJP5dfM5yMBVeRl53u1gQQcNyuKqeiuXaN44nQcfXqVfzTP/0T7wwAyOUkDX05IRmUoR3L56/oDd/maH0yj6sGdxHxW13dIY98GQsQHaEzasjiA4DMJT6lsomUX/iZL/jUBTOfB+sFmRW+7X5gMoEefgJzgCzPQhlbLBgDjRFgchxnyqgPdSEmExBUVQtL9AnMMClobS7eJpS5zrYdYWCww+Fiz0h4h7h09dU32UzwlfcDPOgX6ohf3EvTMX0CickwYk+blYY5gnobYFJX2+BvYPuITE3GiV2FWTmJeXVOAfmLJuUnxaiS0HyyCWOCYWV5qMbNnBH5sQhSB2xUHkxRy13ESR2pixJZWavtqEpcyyPDu+nIBAxhDll8KhlLTZHNl9J+ApP6s0AWtqflKEsf377M+rLzMU/8VjIvlYEsXADSeRoAcDEvCEj284Dbud8iXY7gxwL1/2pdzFAulcy1ax1PhI6PP/6Ydyry4Ycf8k4rj5k88gAyPc2CTp+qj72ScaKbrU7srG5s8TkgM81yEqYJ2u0vxbKuss6kKhyYpE+2eHBIJbvQopBnLRzp+Pb2q6czVnZNJvi3m4drShX6gWySE9B35phdxNxESr4oERD1f52mTUbg6RjCkwmc0CcbJ3YVWjnJy5hf1DhF64OO8aF1gBEKXgJ6QiGp/n1VKPbbHvtTHMEmoBkJV3ljsCzrKnK/31yAuZZHRrp5U049VxGPx1Jbyh4PlxFVGPOWM/b9xu3c7yRMBtuxoHSSZmvz5iGVzLVrHU+EjtraWtx33328MwDgD/7gD3inFQt7j77xqVxlYSUQZq6KND5ujtDtKe6kHosAkwk0r4FOzu/uO11kqzcVZTEWV3diQnYGdlVgMfqB8dTJbLeRY7pPnbQeZH67Ry+bcqnZhSbmFMrV9bbLiZpW9I+qqiqCGkyVUNuwtdCuGy/7DW1oDDHpScdywzpvy5G1OJZ6wWKMecsZL+Z+52NBAF3MO3Xh78SQv7osxVy7GvBE6Ljnnnvw8ssv88549tln8Y1vfIN3Xnl4esS71IjHoyLl7s5WSF0X08nL04PnsTzWttixtGPbDmdH7aYYFrcOF9kM+uIiKdWzFSmrLVehHzhuQ6wakoNTn6Lak6A/rZ1ClQ17CmWuamDAspw0dSAnJz4GeLWDMnBxm1NZ2PWfmTSOD6oLGKOal9tTHAbLsq4iFvFYnZ66r2ePqNZYKh3jNNW/1YhFva8G7PPl0dxf1lign94mEYHR5nQxcTvXrnU8EToAIBgM4qc//Sleeukl/OAHP8DRo0fx3HPP8d5WKGY6q4uFugj1BtnuHb+4kqj/LCJOdlAdY6FT7/R0QYYqzMjsIZzWHVPGjhbZcsz0bHlkk4j9Ln4V+oFEr1guVKjGlpmTZ5CesLOhYBBsHipfEOm/uzA+cgbjjuxKLMpJmlcXyMrPKZqqiFdYLb5ZBPWLitKlLYokZa2252phVqf8WKmxWGpfRbR02FD5WCoZWzSVQzebJCsHs3pfLJzVa7nYzwPezv1C/3A0Fmh2kpWMhVXA6Vy71vFM6ACABx54AN/5znfwp3/6p9i5cyf/eonwwf8gKu40um53s6AXW0B6pJKQGfTdbu5GjNyAzS/lVkjqgPGoMjfQLBjt6gsvw6/vauRG+DIpn8JIp6CzmXszYbMYdoN6g1Cmp9kYj377VIfxZhbHbUc3BucM3tzUXbGMDzhbZOcG+CNmfbffgeA02CH8ZkRzT8bScB3V6AeTCTSz6h0zaXSa5NdX34TwZAKJQRsbCoCZHI27uGpbZv2VgzrJpXoSyDgpW2i3lvF5RQ59Jnm1x6nhagHpqNhHgRz6WiS38HCod/bz7YqlgPQAX/dqv23uyVjfjiUd37R0GTy6wYfWDlV1yGAwPZNGT5V17vU6ZeMpjPQIYyXg4NSnaHskqysrtEUwt8OqpoNxcDqWanZssk0YORkkWtg0a7eHIYL9Fu2qmphv8PC4GL8tqHjMc4Tzeq0qDuYBT+Z+x2NBDn18ueunJC6FXOftRsTJXGs/dq5NPBU6liuB6Jh6lZxmiFSWHl5NK/qzY4hB04tlDZ8u8Z7LxYfWATGO8cYK9dKtaE8im92PfPHHoULoGIwgKehqqnqVyXbxqsyO0k3JFePb7i8Za+nhX4xhrJq6s3VdyI7GkGfjOZBHbFS83cd521GPfvnyGW/U9KkdUbrpyn6RDWzbAeZHvUIle4YB4zWEIhEks1nsv8QYRx5IIXIsa7h+WUpF/SCM2GgWYzuOl75rSQBmP8ymGZTLb5kRUY392B86c1v+5qhXd7qZ6ALoyo4hdpE1wOxA3iyvDnA2afrgf1Dso8W4LduGdipkKVj54BfqPoTmHj+StrdjaUahum1BKIRQaBxNmqpC2Wj9Gayx78tAXKofXgkBdGWT8DPxqPnmx0onp6aaGgl/QuKAQFQcZ3oQF9q5o7G0phX92iaM6kdcWBpoiGFs1I/jxTCbkUCVx2c7NAP5Yt74RSmD8/HbgorGPOc4rdfq4XQe8GLudzoWbBPHG80OxHau4nHRbnjKn2uJdYqiKLwjQRDE8qOAdFQb3MtcqFeN6T5NMBUXmIuH1+WRQ1+oAzhmJzwQ1qjlmI+PmS+MZtLobBlHk017Uk+Q/Egu5qLehNyAJrTQQosgVjxORQEzf6y7/jfvpijK2jzpIAhiBTLj1IbCe3Ju7Eo8Q1MlqsQQ2IrpcaQaYmgjgaMi9B9Ts1I3KkyNI7Pk7YkgCMJbSOggCGIFoOmKL4eF2XQfOgaXh/CDui5NhcxGDaYc6rpIXaBSNJ14S9sWTRXQyWlVZb//QxAEsbSQehVBEMuX6b7Sj061e6VG5ARNlWkSmi2KtRoMQVQPVT1L7QXLp+2RehVBrB6cigJm/nhVKpmboigkdBAEQRAEQRDEWsWpKGDmjxcwZG5k00EQBEEQBEEQhOeQ0EEQBEEQBEEQhKeQ0EEQBEEQBEEQhKeQ0EEQBEEQBEEQhKeQ0EEQBEEQBEEQhKeQ0EEQBEEQBEEQhKeQ0EEQBEEQBEEQhKeQ0EEQBEEQBEEQhKeQ0EEQBEEQBEEQhKeQ0EEQBEEQBEEQhKeQ0EEQBEEQBEEQhKeQ0EEQBEEQBEEQhKeQ0EEQBEEQBEEQhKeQ0EEQBEEQBEEQhKeQ0EEQBEEQBEEQhKeQ0EEQBEEQBEEQhKeQ0EEQBEEQBEEQhKeQ0EEQBEEQBEEQhKeQ0EEQBEEQBEEQhKf8/wEP46WvoXH+4AAAAABJRU5ErkJggg==)"
      ],
      "metadata": {
        "id": "qaK6Ovgqjg38"
      }
    },
    {
      "cell_type": "code",
      "source": [
        "start=int(input())\n",
        "stop=int(input())\n",
        "for i in range(start,(stop+1)):\n",
        "  if(i%3 != 0 or i%5 !=0 or i%10 !=0):\n",
        "    if(i%3==0 and i%5==0) or (i%5==0 and i%10==0) or (i%10==0 and i%3==0):\n",
        "      pass\n",
        "    elif(i%10==0):\n",
        "      print(i,\"Divisible by 10\")\n",
        "      continue\n",
        "    elif(i%5==0):\n",
        "      print(i,\"Divisible by 5\")\n",
        "      continue\n",
        "    elif(i%3==0):\n",
        "      print(i,\"Divisible by 3\")\n",
        "      continue\n",
        "    print(i)"
      ],
      "metadata": {
        "colab": {
          "base_uri": "https://localhost:8080/"
        },
        "id": "py_7cMBVjS5U",
        "outputId": "0f2a8f10-ae38-4aa1-86f8-efaa120a7ef9"
      },
      "execution_count": null,
      "outputs": [
        {
          "output_type": "stream",
          "name": "stdout",
          "text": [
            "17\n",
            "29\n",
            "17\n",
            "18 Divisible by 3\n",
            "19\n",
            "20\n",
            "21 Divisible by 3\n",
            "22\n",
            "23\n",
            "24 Divisible by 3\n",
            "25 Divisible by 5\n",
            "26\n",
            "27 Divisible by 3\n",
            "28\n",
            "29\n"
          ]
        }
      ]
    },
    {
      "cell_type": "code",
      "source": [
        "start=int(input())\n",
        "stop=int(input())\n",
        "for i in range (start,stop+1):\n",
        "    if i%3==0 and i%5==0 and i%10==0:\n",
        "        break\n",
        "    elif (i%3==0 and i%5==0) or (i%5==0 and i%10==0) or (i%3==0 and\n",
        "i%10==0):\n",
        "        pass\n",
        "    elif i%3==0:\n",
        "        print(i,\"Divisible by 3\")\n",
        "    elif i%5==0:\n",
        "        print(i,\"Divisible by 5\")\n",
        "    elif i%10==0:\n",
        "        print(i,\"Divisible by 10\")\n",
        "    else:\n",
        "        print(i)"
      ],
      "metadata": {
        "colab": {
          "base_uri": "https://localhost:8080/"
        },
        "id": "kA78sL_6kajW",
        "outputId": "45b8a764-8387-49a4-a00e-a2037a4f3869"
      },
      "execution_count": null,
      "outputs": [
        {
          "output_type": "stream",
          "name": "stdout",
          "text": [
            "17\n",
            "29\n",
            "17\n",
            "18 Divisible by 3\n",
            "19\n",
            "21 Divisible by 3\n",
            "22\n",
            "23\n",
            "24 Divisible by 3\n",
            "25 Divisible by 5\n",
            "26\n",
            "27 Divisible by 3\n",
            "28\n",
            "29\n"
          ]
        }
      ]
    },
    {
      "cell_type": "code",
      "source": [
        "a=int(input(\"Enter the students mark from 1 to 100: \"))\n",
        "if a>60 and a<71:\n",
        "  print(\"Grade A\")\n",
        "elif a>70 and a<81:\n",
        "  print('Grade B')\n",
        "elif a>80 and a<91:\n",
        "  print('Grade c')\n",
        "elif a>90 and a<101:\n",
        "  print('Grade d')\n",
        "else:\n",
        "  print(\"fail\")"
      ],
      "metadata": {
        "colab": {
          "base_uri": "https://localhost:8080/"
        },
        "id": "9rxms2IHnUUU",
        "outputId": "eab39ed3-c960-44e2-eb19-4e87ceb7ec55"
      },
      "execution_count": null,
      "outputs": [
        {
          "output_type": "stream",
          "name": "stdout",
          "text": [
            "Enter the students mark from 1 to 100: 100\n",
            "Grade d\n"
          ]
        }
      ]
    },
    {
      "cell_type": "code",
      "source": [
        "a=int(input())\n",
        "for i in range(1,(a+1)):\n",
        "  print(f\"Currrent Number is : {i} and the cube is {i**3}\")"
      ],
      "metadata": {
        "colab": {
          "base_uri": "https://localhost:8080/"
        },
        "id": "6TA_fGexq4Fy",
        "outputId": "c4b5b3d4-8928-4932-da1f-6b1677f1d17e"
      },
      "execution_count": null,
      "outputs": [
        {
          "output_type": "stream",
          "name": "stdout",
          "text": [
            "6\n",
            "Currrent Number is : 1 and the cube is 1\n",
            "Currrent Number is : 2 and the cube is 8\n",
            "Currrent Number is : 3 and the cube is 27\n",
            "Currrent Number is : 4 and the cube is 64\n",
            "Currrent Number is : 5 and the cube is 125\n",
            "Currrent Number is : 6 and the cube is 216\n"
          ]
        }
      ]
    },
    {
      "cell_type": "code",
      "source": [
        "print(\"The sum of {} , {} and {} is {}\".format(1,2,3,6) )\n",
        "print(\"The sum of {0} , {1} and {2} is {3}\".format(1,2,3,6) )\n",
        "print(\"The sum of {0} , {1} and {c} is {d}\".format(1,2,c=3,d=6) )\n",
        "print(\"The sum of {a} , {b} and {c} is {d}\".format(d=1,b=2,c=3,a=6) )"
      ],
      "metadata": {
        "colab": {
          "base_uri": "https://localhost:8080/"
        },
        "id": "-rbmCMQfsdCU",
        "outputId": "c7424bd4-35c6-49d0-bb21-28f9547ebd40"
      },
      "execution_count": null,
      "outputs": [
        {
          "output_type": "stream",
          "name": "stdout",
          "text": [
            "The sum of 1 , 2 and 3 is 6\n",
            "The sum of 1 , 2 and 3 is 6\n",
            "The sum of 1 , 2 and 3 is 6\n",
            "The sum of 6 , 2 and 3 is 1\n"
          ]
        }
      ]
    },
    {
      "cell_type": "code",
      "source": [
        "import math"
      ],
      "metadata": {
        "id": "VLZtxyzgxJeE"
      },
      "execution_count": null,
      "outputs": []
    },
    {
      "cell_type": "code",
      "source": [
        "a=6\n",
        "# sum=0\n",
        "for i in range(1,a+1):\n",
        "  l=[]\n",
        "  for j in range(i):\n",
        "    # print(1,end='')\n",
        "    l.append(1)\n",
        "  print()\n",
        "  print(l)\n",
        "  res=0\n",
        "  for k in l:\n",
        "    res += k\n",
        "  print(res)"
      ],
      "metadata": {
        "colab": {
          "base_uri": "https://localhost:8080/"
        },
        "id": "tCW_UIpZtZUE",
        "outputId": "8bcfd0e7-42a0-41c6-d675-c70065c59ccf"
      },
      "execution_count": null,
      "outputs": [
        {
          "output_type": "stream",
          "name": "stdout",
          "text": [
            "\n",
            "[1]\n",
            "1\n",
            "\n",
            "[1, 1]\n",
            "2\n",
            "\n",
            "[1, 1, 1]\n",
            "3\n",
            "\n",
            "[1, 1, 1, 1]\n",
            "4\n",
            "\n",
            "[1, 1, 1, 1, 1]\n",
            "5\n",
            "\n",
            "[1, 1, 1, 1, 1, 1]\n",
            "6\n"
          ]
        }
      ]
    },
    {
      "cell_type": "code",
      "source": [
        "n = int(input())\n",
        "num = \"1\"\n",
        "total = 0\n",
        "for i in range(1 , n + 1):\n",
        "    total += int(num * i)\n",
        "avg = total / n\n",
        "print(avg)"
      ],
      "metadata": {
        "colab": {
          "base_uri": "https://localhost:8080/"
        },
        "id": "jepdL3K9xQCU",
        "outputId": "4a289b1c-f640-485c-cc48-e452c64c87c3"
      },
      "execution_count": null,
      "outputs": [
        {
          "output_type": "stream",
          "name": "stdout",
          "text": [
            "6\n",
            "20576.0\n"
          ]
        }
      ]
    },
    {
      "cell_type": "markdown",
      "source": [
        "doubt 9,4"
      ],
      "metadata": {
        "id": "6zAHPctC2ihe"
      }
    },
    {
      "cell_type": "code",
      "source": [
        "total = 0\n",
        "for i in range(1 , 7):\n",
        "    total += int(num * i)\n",
        "avg = total/6\n",
        "print(avg)"
      ],
      "metadata": {
        "colab": {
          "base_uri": "https://localhost:8080/"
        },
        "id": "T6HEhGUC1Yoz",
        "outputId": "2c7cd155-148d-4bf3-90d1-513d0cea9b72"
      },
      "execution_count": null,
      "outputs": [
        {
          "output_type": "stream",
          "name": "stdout",
          "text": [
            "20576.0\n"
          ]
        }
      ]
    },
    {
      "cell_type": "code",
      "source": [
        "a=6\n",
        "# sum=0\n",
        "for i in range(1,a+1):\n",
        "  for j in range(i):\n",
        "    print(1,end='')\n",
        "  c=print(end='+')"
      ],
      "metadata": {
        "colab": {
          "base_uri": "https://localhost:8080/"
        },
        "id": "IJ_MnOIZ2PAj",
        "outputId": "4b9d6f49-8f71-479b-f5b2-ef4e81a74c28"
      },
      "execution_count": null,
      "outputs": [
        {
          "output_type": "stream",
          "name": "stdout",
          "text": [
            "1+11+111+1111+11111+111111+"
          ]
        }
      ]
    },
    {
      "cell_type": "code",
      "source": [
        "name = input()\n",
        "age = input()\n",
        "# message=\"Hii!, I am {}, I am {} year's old\".format(name,age)\n",
        "print(f\"Hii!, I am {name}, I am {age} year's old\")\n",
        "# print(message)"
      ],
      "metadata": {
        "colab": {
          "base_uri": "https://localhost:8080/"
        },
        "id": "X0O4ebfc20kS",
        "outputId": "e613216e-b384-4c62-d998-de3148969671"
      },
      "execution_count": null,
      "outputs": [
        {
          "output_type": "stream",
          "name": "stdout",
          "text": [
            "Rahul\n",
            "21\n",
            "Hii!, I am Rahul, I am 21 year's old\n"
          ]
        }
      ]
    },
    {
      "cell_type": "code",
      "source": [
        "num=1\n",
        "for i in range(2,11):\n",
        "  default=True\n",
        "  for j in range(2,i):\n",
        "    # print(i,j)\n",
        "    if(i%j==0):\n",
        "      default=False\n",
        "      print('prime no',i)\n",
        "      break\n",
        "  if default == False:\n",
        "    num+=1\n",
        "print(num)"
      ],
      "metadata": {
        "colab": {
          "base_uri": "https://localhost:8080/"
        },
        "id": "A0NFqFSM4Ivj",
        "outputId": "d1f01674-8516-4625-8273-4b2668fa4c92"
      },
      "execution_count": null,
      "outputs": [
        {
          "output_type": "stream",
          "name": "stdout",
          "text": [
            "prime no 4\n",
            "prime no 6\n",
            "prime no 8\n",
            "prime no 9\n",
            "prime no 10\n",
            "6\n"
          ]
        }
      ]
    },
    {
      "cell_type": "markdown",
      "source": [
        "![image.png](data:image/png;base64,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)"
      ],
      "metadata": {
        "id": "cKPO5j2aRuvr"
      }
    },
    {
      "cell_type": "code",
      "source": [
        "for i in range(5,0,-1):\n",
        "  for j in range(i,0,-1):\n",
        "    print(j,end='')\n",
        "  print()"
      ],
      "metadata": {
        "id": "ytmYSryP-22C",
        "colab": {
          "base_uri": "https://localhost:8080/"
        },
        "outputId": "135cc343-a7d0-4e70-9808-87e41efc8623"
      },
      "execution_count": null,
      "outputs": [
        {
          "output_type": "stream",
          "name": "stdout",
          "text": [
            "54321\n",
            "4321\n",
            "321\n",
            "21\n",
            "1\n"
          ]
        }
      ]
    },
    {
      "cell_type": "code",
      "source": [
        "for i in range(5,0,-1):\n",
        "  for j in range(2,i+1):\n",
        "    print(j,end='')\n",
        "  print()"
      ],
      "metadata": {
        "colab": {
          "base_uri": "https://localhost:8080/"
        },
        "id": "cs3gnLQcSFM-",
        "outputId": "bf86241e-7b72-4129-bebc-86dc93cac556"
      },
      "execution_count": null,
      "outputs": [
        {
          "output_type": "stream",
          "name": "stdout",
          "text": [
            "2345\n",
            "234\n",
            "23\n",
            "2\n",
            "\n"
          ]
        }
      ]
    },
    {
      "cell_type": "code",
      "source": [
        "for i in range(5,0,-1):\n",
        "  print(\" \" * (5 - i),end='')\n",
        "  for j in range(i,0,-1):\n",
        "    print(j,end='')\n",
        "  for j in range(2,i+1):\n",
        "    print(j,end='')\n",
        "  print()"
      ],
      "metadata": {
        "colab": {
          "base_uri": "https://localhost:8080/"
        },
        "id": "qrYUe9lSSspV",
        "outputId": "0763a525-caff-45a3-af7d-b8c7c3c5a6f9"
      },
      "execution_count": null,
      "outputs": [
        {
          "output_type": "stream",
          "name": "stdout",
          "text": [
            "543212345\n",
            " 4321234\n",
            "  32123\n",
            "   212\n",
            "    1\n"
          ]
        }
      ]
    },
    {
      "cell_type": "code",
      "source": [
        "a=input(\"Enter string of length 10: \")\n",
        "while (len(a)!=10):\n",
        "  print(\"your entry was wrong\")\n",
        "  a=input(\"Please enter string of length 10: \")\n",
        "print(\"your 10 chararcters are\",a)\n",
        "\n",
        "valid = False\n",
        "\n",
        "for i in range(len(a) - 4):\n",
        "    # Check if the current 5 characters are the same\n",
        "    if a[i] == a[i+1] == a[i+2] == a[i+3] == a[i+4]:\n",
        "        valid = True\n",
        "        break\n",
        "\n",
        "print(valid)\n"
      ],
      "metadata": {
        "colab": {
          "base_uri": "https://localhost:8080/"
        },
        "id": "3qb9vj33TnOD",
        "outputId": "91d83988-8626-4e5e-c047-85de4c0de6c4"
      },
      "execution_count": null,
      "outputs": [
        {
          "output_type": "stream",
          "name": "stdout",
          "text": [
            "Enter string of length 10: jfhrteyuio\n",
            "your 10 chararcters are jfhrteyuio\n",
            "False\n"
          ]
        }
      ]
    },
    {
      "cell_type": "code",
      "source": [
        "n=int(input())\n",
        "for i in range(1,n+1):\n",
        "  for j in range(1,i+1):\n",
        "    print(j,end=' ')\n",
        "  print()"
      ],
      "metadata": {
        "colab": {
          "base_uri": "https://localhost:8080/"
        },
        "id": "9L0ra6-HZUCi",
        "outputId": "de3c35ab-2da4-4f55-dd0e-2974372f403b"
      },
      "execution_count": null,
      "outputs": [
        {
          "output_type": "stream",
          "name": "stdout",
          "text": [
            "10\n",
            "1 \n",
            "1 2 \n",
            "1 2 3 \n",
            "1 2 3 4 \n",
            "1 2 3 4 5 \n",
            "1 2 3 4 5 6 \n",
            "1 2 3 4 5 6 7 \n",
            "1 2 3 4 5 6 7 8 \n",
            "1 2 3 4 5 6 7 8 9 \n",
            "1 2 3 4 5 6 7 8 9 10 \n"
          ]
        }
      ]
    },
    {
      "cell_type": "code",
      "source": [
        "n=input(\"Enter string need to reverse: \")\n",
        "rev=\"\"\n",
        "for char in n:\n",
        "  rev = char + rev\n",
        "print(rev)"
      ],
      "metadata": {
        "colab": {
          "base_uri": "https://localhost:8080/"
        },
        "id": "8Qa2pvFWnM02",
        "outputId": "615c12d6-bc85-4148-8f77-95dac75d495d"
      },
      "execution_count": null,
      "outputs": [
        {
          "output_type": "stream",
          "name": "stdout",
          "text": [
            "Enter string need to reverse: praveen\n",
            "neevarp\n"
          ]
        }
      ]
    },
    {
      "cell_type": "code",
      "source": [
        "text=\"hello\"\n",
        "rev_text = \"\"\n",
        "for char in text:\n",
        "    rev_text = char + rev_text\n",
        "print(rev_text)"
      ],
      "metadata": {
        "colab": {
          "base_uri": "https://localhost:8080/"
        },
        "id": "LJgWJPldoAfa",
        "outputId": "7dceeb68-49cf-4d35-dd0a-28ddf8aa25dc"
      },
      "execution_count": null,
      "outputs": [
        {
          "output_type": "stream",
          "name": "stdout",
          "text": [
            "olleh\n"
          ]
        }
      ]
    },
    {
      "cell_type": "code",
      "source": [
        "n=input()\n",
        "if(n[::-1]==n):\n",
        "  print(\"palindrome\")\n",
        "else:\n",
        "  print(\"not palindrome\")"
      ],
      "metadata": {
        "colab": {
          "base_uri": "https://localhost:8080/"
        },
        "id": "NbE1-SUBonH1",
        "outputId": "0672d3b1-f70f-4e5c-ee05-0284bbba82ff"
      },
      "execution_count": null,
      "outputs": [
        {
          "output_type": "stream",
          "name": "stdout",
          "text": [
            "asa\n",
            "palindrome\n"
          ]
        }
      ]
    },
    {
      "cell_type": "code",
      "source": [
        "n=input()\n",
        "rev=\"\"\n",
        "for char in n:\n",
        "  rev = char + rev\n",
        "if n==rev:\n",
        "  print(\"pali\")\n",
        "else:\n",
        "  print(\"not pali\")"
      ],
      "metadata": {
        "colab": {
          "base_uri": "https://localhost:8080/"
        },
        "id": "bgoMqTrWpX82",
        "outputId": "9a52f70b-2492-4fe5-ce1d-6ab8156cfee9"
      },
      "execution_count": null,
      "outputs": [
        {
          "output_type": "stream",
          "name": "stdout",
          "text": [
            "asa\n",
            "pali\n"
          ]
        }
      ]
    },
    {
      "cell_type": "code",
      "source": [
        "n=input()\n",
        "res=''\n",
        "first_char=True\n",
        "for char in n:\n",
        "  if first_char==True:\n",
        "    res = res+char\n",
        "    first_char=False\n",
        "  if char==' ':\n",
        "    first_char=True\n",
        "print(res)"
      ],
      "metadata": {
        "colab": {
          "base_uri": "https://localhost:8080/"
        },
        "id": "yNHmF0K0putj",
        "outputId": "74407aaa-7923-4b30-b3f3-a6d89d5523be"
      },
      "execution_count": null,
      "outputs": [
        {
          "output_type": "stream",
          "name": "stdout",
          "text": [
            "hdhd kkkk\n",
            "hk\n"
          ]
        }
      ]
    },
    {
      "cell_type": "code",
      "source": [
        "a=input(\"Enter string with letters exactly 10 characters: \")\n",
        "while(len(a)!=10):\n",
        "  a=input(\"your input is not correct: Try again!\")\n",
        "print(a)\n",
        "\n",
        "for i in range(len(a)-4):\n",
        "  if a[i]==a[i+1] and a[i+1]==a[i+2] and a[i+2]==a[i+3] and a[i+3]==a[i+4]:\n",
        "    print('True')\n",
        "    break\n",
        "print(\"False\")"
      ],
      "metadata": {
        "id": "QUdcni416BGG",
        "colab": {
          "base_uri": "https://localhost:8080/",
          "height": 0
        },
        "outputId": "9a284da4-51e3-49c5-9a04-b24ec186a9d8"
      },
      "execution_count": 15,
      "outputs": [
        {
          "output_type": "stream",
          "name": "stdout",
          "text": [
            "Enter string with letters exactly 10 characters: 1111123456\n",
            "1111123456\n",
            "True\n",
            "False\n"
          ]
        }
      ]
    },
    {
      "cell_type": "code",
      "source": [
        "b=\"aaaaasdfgh\"\n",
        "\n",
        "a=list(b)\n",
        "print(a)\n",
        "valid = False\n",
        "\n",
        "if a[0]==a[1]==a[2]==a[3]==a[4]:\n",
        "  valid=True\n",
        "else:\n",
        "  valid=False\n",
        "\n",
        "print(valid)"
      ],
      "metadata": {
        "colab": {
          "base_uri": "https://localhost:8080/",
          "height": 0
        },
        "id": "bAsZRiCJxDg3",
        "outputId": "a149a729-431d-4b4c-c603-28351f91f9a5"
      },
      "execution_count": 32,
      "outputs": [
        {
          "output_type": "stream",
          "name": "stdout",
          "text": [
            "['a', 'a', 'a', 'a', 'a', 's', 'd', 'f', 'g', 'h']\n",
            "True\n"
          ]
        }
      ]
    },
    {
      "cell_type": "code",
      "source": [
        "b = \"sdaaaaaamji\"\n",
        "valid = False\n",
        "\n",
        "for i in range(1,len(b) - 3):\n",
        "    if b[i] == b[i+1] == b[i+2] == b[i+3] == b[i+4] == b[i+5]:\n",
        "        valid = True\n",
        "        break\n",
        "\n",
        "print(valid)"
      ],
      "metadata": {
        "colab": {
          "base_uri": "https://localhost:8080/",
          "height": 0
        },
        "id": "ST4aniFs1UbO",
        "outputId": "3ad74d85-f6f5-47c0-f29b-31ba34a7a623"
      },
      "execution_count": 39,
      "outputs": [
        {
          "output_type": "stream",
          "name": "stdout",
          "text": [
            "True\n"
          ]
        }
      ]
    },
    {
      "cell_type": "code",
      "source": [
        "range(5-3)"
      ],
      "metadata": {
        "colab": {
          "base_uri": "https://localhost:8080/",
          "height": 0
        },
        "id": "LbgXpkER4DW5",
        "outputId": "631172d3-e654-4555-8c2f-cc2626645ff0"
      },
      "execution_count": 40,
      "outputs": [
        {
          "output_type": "execute_result",
          "data": {
            "text/plain": [
              "range(0, 2)"
            ]
          },
          "metadata": {},
          "execution_count": 40
        }
      ]
    },
    {
      "cell_type": "code",
      "source": [
        "a='abcdef'\n",
        "reverse=''\n",
        "for i in a:\n",
        "  reverse= i+reverse\n",
        "print(reverse)"
      ],
      "metadata": {
        "colab": {
          "base_uri": "https://localhost:8080/",
          "height": 0
        },
        "id": "MU9-bh146rcO",
        "outputId": "0c0b3213-736c-4229-ff3e-6c5f809cdaad"
      },
      "execution_count": 56,
      "outputs": [
        {
          "output_type": "stream",
          "name": "stdout",
          "text": [
            "fedcba\n"
          ]
        }
      ]
    },
    {
      "cell_type": "code",
      "source": [
        "a='abcdef'\n",
        "for char in a:\n",
        "  reverse= char+reverse\n",
        "print(reverse)"
      ],
      "metadata": {
        "colab": {
          "base_uri": "https://localhost:8080/",
          "height": 0
        },
        "id": "8YiqoojmCiUQ",
        "outputId": "af5a1c46-e290-4afc-8178-b27f5d5fe568"
      },
      "execution_count": 55,
      "outputs": [
        {
          "output_type": "stream",
          "name": "stdout",
          "text": [
            "fedcbafedcba\n"
          ]
        }
      ]
    },
    {
      "cell_type": "code",
      "source": [
        "type(char)"
      ],
      "metadata": {
        "colab": {
          "base_uri": "https://localhost:8080/",
          "height": 0
        },
        "id": "oOEP1RYkClDg",
        "outputId": "ad0137e5-110a-488f-d080-806764198e67"
      },
      "execution_count": 53,
      "outputs": [
        {
          "output_type": "execute_result",
          "data": {
            "text/plain": [
              "str"
            ]
          },
          "metadata": {},
          "execution_count": 53
        }
      ]
    },
    {
      "cell_type": "code",
      "source": [
        "a=5\n",
        "for i in range (1,6):\n",
        "  for j in range(1,i+1):\n",
        "    print (j,end=\"\")\n",
        "  print()"
      ],
      "metadata": {
        "colab": {
          "base_uri": "https://localhost:8080/",
          "height": 0
        },
        "id": "1kw7wCmZCmwo",
        "outputId": "06275ef4-029a-47a2-aeec-0a8c28886fa6"
      },
      "execution_count": 62,
      "outputs": [
        {
          "output_type": "stream",
          "name": "stdout",
          "text": [
            "1\n",
            "12\n",
            "123\n",
            "1234\n",
            "12345\n"
          ]
        }
      ]
    },
    {
      "cell_type": "code",
      "source": [
        "a=input()\n",
        "de=False\n",
        "for i in range(len(a)-4):\n",
        "  if a[i]==a[i+1]==a[i+2]==a[i+3]==a[i+4]:\n",
        "    de=True\n",
        "    break\n",
        "print(de)"
      ],
      "metadata": {
        "colab": {
          "base_uri": "https://localhost:8080/",
          "height": 0
        },
        "id": "Qn01s1J2GcGp",
        "outputId": "5b656a15-ae27-426b-d776-f92fa9a4e255"
      },
      "execution_count": 61,
      "outputs": [
        {
          "output_type": "stream",
          "name": "stdout",
          "text": [
            "aaaaasdfgh\n",
            "True\n"
          ]
        }
      ]
    },
    {
      "cell_type": "code",
      "source": [
        "st=input()\n",
        "rev=''\n",
        "for i in st:\n",
        "  rev = i+rev\n",
        "print(rev)"
      ],
      "metadata": {
        "colab": {
          "base_uri": "https://localhost:8080/"
        },
        "id": "ePnJK73oH1o1",
        "outputId": "2656d11e-f953-4497-e3d9-79b023f119d2"
      },
      "execution_count": 65,
      "outputs": [
        {
          "output_type": "stream",
          "name": "stdout",
          "text": [
            "arun\n",
            "nura\n"
          ]
        }
      ]
    },
    {
      "cell_type": "code",
      "source": [
        "a=input()\n",
        "answer=''\n",
        "flag=True\n",
        "for i in a:\n",
        "  if flag==True:\n",
        "    answer += i\n",
        "    flag=False\n",
        "  if i==' ':\n",
        "    flag=True\n",
        "print(answer)"
      ],
      "metadata": {
        "colab": {
          "base_uri": "https://localhost:8080/"
        },
        "id": "uE54sgV_I8DO",
        "outputId": "f3bfb553-104e-4478-ccda-9136dceeb702"
      },
      "execution_count": 84,
      "outputs": [
        {
          "output_type": "stream",
          "name": "stdout",
          "text": [
            "vas brin mari\n",
            "vbm\n"
          ]
        }
      ]
    },
    {
      "cell_type": "code",
      "source": [
        "from itertools import count\n",
        "a=input()\n",
        "box=0\n",
        "egg=0\n",
        "for i in a:\n",
        "  if i == '|':\n",
        "    box = box+1\n",
        "  if i=='0':\n",
        "    egg = egg+1\n",
        "print(\"total no of boxes\",box-1)\n",
        "print(\"total no of eggs\", egg)\n",
        "print(\"empty boxes\",(box-1)-egg )"
      ],
      "metadata": {
        "colab": {
          "base_uri": "https://localhost:8080/"
        },
        "id": "Z-NoDqruMQIT",
        "outputId": "abb71e8f-af72-4ce1-b253-c2c56e4cbee2"
      },
      "execution_count": 100,
      "outputs": [
        {
          "output_type": "stream",
          "name": "stdout",
          "text": [
            "|0||0|||0|\n",
            "total no of boxes 6\n",
            "total no of eggs 3\n",
            "empty boxes 3\n"
          ]
        }
      ]
    },
    {
      "cell_type": "code",
      "source": [
        "a=input()\n",
        "count=0\n",
        "for i in a:\n",
        "  if i=='w':\n",
        "    count=count+1\n",
        "print(count)"
      ],
      "metadata": {
        "colab": {
          "base_uri": "https://localhost:8080/"
        },
        "id": "lw3NHBPFVWtO",
        "outputId": "19505b21-b8aa-43a7-80df-6d539d23fea0"
      },
      "execution_count": 108,
      "outputs": [
        {
          "output_type": "stream",
          "name": "stdout",
          "text": [
            "wlwwl\n",
            "3\n"
          ]
        }
      ]
    },
    {
      "cell_type": "code",
      "source": [
        "a='wlwwwl'\n",
        "flag=False\n",
        "count=0\n",
        "for i in range(len(a)-3):\n",
        "  if a[i]==a[i+1]==a[i+2]=='w':\n",
        "    count=count+1\n",
        "print(count)"
      ],
      "metadata": {
        "colab": {
          "base_uri": "https://localhost:8080/"
        },
        "id": "lMRzdU-qZ9nY",
        "outputId": "58384e1e-85bb-4163-ac8c-b825947604fe"
      },
      "execution_count": 118,
      "outputs": [
        {
          "output_type": "stream",
          "name": "stdout",
          "text": [
            "1\n"
          ]
        }
      ]
    },
    {
      "cell_type": "code",
      "source": [
        "a=input()\n",
        "initial=0\n",
        "w_count=0\n",
        "for i in a:\n",
        "  if i == 'w':\n",
        "    w_count+=1\n",
        "    # print(w_count)\n",
        "    if initial < w_count:\n",
        "      initial = w_count\n",
        "  if i=='l':\n",
        "    w_count=0\n",
        "print(initial)"
      ],
      "metadata": {
        "colab": {
          "base_uri": "https://localhost:8080/"
        },
        "id": "ur8Wq-8bcf_a",
        "outputId": "1d61c8db-21c1-4429-9f1b-1c5ba11c369e"
      },
      "execution_count": 122,
      "outputs": [
        {
          "output_type": "stream",
          "name": "stdout",
          "text": [
            "wlwwwl\n",
            "1\n",
            "2\n",
            "3\n",
            "4\n"
          ]
        }
      ]
    },
    {
      "cell_type": "code",
      "source": [
        "#"
      ],
      "metadata": {
        "id": "-3hGYoAKfSxX"
      },
      "execution_count": null,
      "outputs": []
    }
  ]
}