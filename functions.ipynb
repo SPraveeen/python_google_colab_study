{
  "nbformat": 4,
  "nbformat_minor": 0,
  "metadata": {
    "colab": {
      "provenance": [],
      "authorship_tag": "ABX9TyPDBF/ZB/gid9Or+SexsTwr",
      "include_colab_link": true
    },
    "kernelspec": {
      "name": "python3",
      "display_name": "Python 3"
    },
    "language_info": {
      "name": "python"
    }
  },
  "cells": [
    {
      "cell_type": "markdown",
      "metadata": {
        "id": "view-in-github",
        "colab_type": "text"
      },
      "source": [
        "<a href=\"https://colab.research.google.com/github/SPraveeen/python_google_colab_study/blob/main/functions.ipynb\" target=\"_parent\"><img src=\"https://colab.research.google.com/assets/colab-badge.svg\" alt=\"Open In Colab\"/></a>"
      ]
    },
    {
      "cell_type": "code",
      "source": [
        "bread=['wheat','multigrain','maida']\n",
        "toppings=['jam','cheese','egg']\n",
        "for i in bread:\n",
        "  for j in toppings:\n",
        "    print(i,j)"
      ],
      "metadata": {
        "colab": {
          "base_uri": "https://localhost:8080/"
        },
        "id": "hcgjKUCgLxhW",
        "outputId": "538f33b0-f737-4b20-dd12-7bcc65d64f66"
      },
      "execution_count": null,
      "outputs": [
        {
          "output_type": "stream",
          "name": "stdout",
          "text": [
            "wheat jam\n",
            "wheat cheese\n",
            "wheat egg\n",
            "multigrain jam\n",
            "multigrain cheese\n",
            "multigrain egg\n",
            "maida jam\n",
            "maida cheese\n",
            "maida egg\n"
          ]
        }
      ]
    },
    {
      "cell_type": "code",
      "source": [
        "for i in range(3):\n",
        "  for j in range(3):\n",
        "    print(i,j)"
      ],
      "metadata": {
        "colab": {
          "base_uri": "https://localhost:8080/"
        },
        "id": "Xfl51nycVTvw",
        "outputId": "56027324-af7f-4507-91da-bb6c059cd6dc"
      },
      "execution_count": null,
      "outputs": [
        {
          "output_type": "stream",
          "name": "stdout",
          "text": [
            "0 0\n",
            "0 1\n",
            "0 2\n",
            "1 0\n",
            "1 1\n",
            "1 2\n",
            "2 0\n",
            "2 1\n",
            "2 2\n"
          ]
        }
      ]
    },
    {
      "cell_type": "code",
      "source": [
        "for i in range(3):\n",
        "  for j in range(3):\n",
        "    print('*',end=' ')\n",
        "  print()"
      ],
      "metadata": {
        "colab": {
          "base_uri": "https://localhost:8080/"
        },
        "id": "brTF_MvGV8ZA",
        "outputId": "2043ebb0-58b7-440e-f811-5788029f6532"
      },
      "execution_count": null,
      "outputs": [
        {
          "output_type": "stream",
          "name": "stdout",
          "text": [
            "* * * \n",
            "* * * \n",
            "* * * \n"
          ]
        }
      ]
    },
    {
      "cell_type": "code",
      "source": [
        "n=3\n",
        "for j in range(n):\n",
        "  for i in range(n):\n",
        "    print('*',end='')\n",
        "  print()\n",
        "  n=n-1"
      ],
      "metadata": {
        "colab": {
          "base_uri": "https://localhost:8080/"
        },
        "id": "R_CTFTo5WFm2",
        "outputId": "6536a59e-6490-4d43-af96-ec474c2dff5e"
      },
      "execution_count": null,
      "outputs": [
        {
          "output_type": "stream",
          "name": "stdout",
          "text": [
            "***\n",
            "**\n",
            "*\n"
          ]
        }
      ]
    },
    {
      "cell_type": "code",
      "source": [
        "for i in range(3):\n",
        "  for j in range(i,3): #i==0 0,1,2 ;; i==1 1,2 ; i==2 2\n",
        "    print('*',end='')\n",
        "  print()"
      ],
      "metadata": {
        "colab": {
          "base_uri": "https://localhost:8080/"
        },
        "id": "HbA7mF6fW1jw",
        "outputId": "d1aa2a04-4f20-437d-f941-dbc849f1c85e"
      },
      "execution_count": null,
      "outputs": [
        {
          "output_type": "stream",
          "name": "stdout",
          "text": [
            "***\n",
            "**\n",
            "*\n"
          ]
        }
      ]
    },
    {
      "cell_type": "code",
      "source": [
        "#gcd find of two numbers\n",
        "first_num=int(input(\"Enter the number: \"))\n",
        "second_num=int(input(\"Enter the second number: \"))\n",
        "x=min(first_num,second_num)\n",
        "\n",
        "for i in range(x,0,-1):\n",
        "  if first_num%i==0 and second_num%i==0:\n",
        "    print(i)\n",
        "    break"
      ],
      "metadata": {
        "colab": {
          "base_uri": "https://localhost:8080/"
        },
        "id": "FraEFo1ZY6vf",
        "outputId": "4e3e2116-867a-4cd4-fd91-481d89479327"
      },
      "execution_count": null,
      "outputs": [
        {
          "output_type": "stream",
          "name": "stdout",
          "text": [
            "Enter the number: 16\n",
            "Enter the second number: 24\n",
            "8\n"
          ]
        }
      ]
    },
    {
      "cell_type": "code",
      "source": [
        "#lcm find of two numbers\n",
        "first_num=int(input(\"Enter the number: \"))\n",
        "second_num=int(input(\"Enter the second number: \"))\n",
        "x=max(first_num,second_num)\n",
        "while True:\n",
        "  if(x%first_num==0 and x%second_num==0):\n",
        "    print(x)\n",
        "    break\n",
        "  x=x+1"
      ],
      "metadata": {
        "colab": {
          "base_uri": "https://localhost:8080/"
        },
        "id": "oKUcvWFgdkG5",
        "outputId": "cc17bcd9-e86b-49eb-9894-e643d6bbf91a"
      },
      "execution_count": null,
      "outputs": [
        {
          "output_type": "stream",
          "name": "stdout",
          "text": [
            "Enter the number: 6\n",
            "Enter the second number: 8\n",
            "24\n"
          ]
        }
      ]
    },
    {
      "cell_type": "markdown",
      "source": [
        "**Functions**"
      ],
      "metadata": {
        "id": "97atrcA2geM8"
      }
    },
    {
      "cell_type": "code",
      "source": [
        "def guest_checklist():\n",
        "  print(\"Dust the room\")\n",
        "  print(\"Make Tea\")"
      ],
      "metadata": {
        "id": "5c64XZSUgDau"
      },
      "execution_count": null,
      "outputs": []
    },
    {
      "cell_type": "code",
      "source": [
        "guest_checklist()"
      ],
      "metadata": {
        "colab": {
          "base_uri": "https://localhost:8080/"
        },
        "id": "-wVz6pmexh-i",
        "outputId": "bf610d6e-f39f-4e1d-8df3-0ff404a30698"
      },
      "execution_count": null,
      "outputs": [
        {
          "output_type": "stream",
          "name": "stdout",
          "text": [
            "Dust the room\n",
            "Make Tea\n"
          ]
        }
      ]
    },
    {
      "cell_type": "code",
      "source": [
        "def make_tea():\n",
        "  print(\"Hey! I'm making tea\")"
      ],
      "metadata": {
        "id": "pBTrCikLxkgf"
      },
      "execution_count": null,
      "outputs": []
    },
    {
      "cell_type": "code",
      "source": [
        "for i in range(5):\n",
        "  make_tea()"
      ],
      "metadata": {
        "colab": {
          "base_uri": "https://localhost:8080/"
        },
        "id": "a_uDNSAtxsIv",
        "outputId": "bd620517-2419-49ca-d3a0-c123a00d9942"
      },
      "execution_count": null,
      "outputs": [
        {
          "output_type": "stream",
          "name": "stdout",
          "text": [
            "Hey! I'm making tea\n",
            "Hey! I'm making tea\n",
            "Hey! I'm making tea\n",
            "Hey! I'm making tea\n",
            "Hey! I'm making tea\n"
          ]
        }
      ]
    },
    {
      "cell_type": "code",
      "source": [
        "#square function\n",
        "def sqr(n):\n",
        "  print(n**2)"
      ],
      "metadata": {
        "id": "vAw_x_GDxyBd"
      },
      "execution_count": null,
      "outputs": []
    },
    {
      "cell_type": "code",
      "source": [
        "sqr(5)"
      ],
      "metadata": {
        "colab": {
          "base_uri": "https://localhost:8080/"
        },
        "id": "aBHMaBnKylRY",
        "outputId": "bb7ee6e9-e207-419a-86de-acec8969e4d8"
      },
      "execution_count": null,
      "outputs": [
        {
          "output_type": "stream",
          "name": "stdout",
          "text": [
            "25\n"
          ]
        }
      ]
    },
    {
      "cell_type": "code",
      "source": [
        "#squareroot\n",
        "def sq_rt(n):\n",
        "  print(n**0.5)"
      ],
      "metadata": {
        "id": "tviDRjNdymeN"
      },
      "execution_count": null,
      "outputs": []
    },
    {
      "cell_type": "code",
      "source": [
        "sq_rt(9)"
      ],
      "metadata": {
        "colab": {
          "base_uri": "https://localhost:8080/"
        },
        "id": "K3aAW1rSy2uu",
        "outputId": "a7cd31f1-ba5c-469e-ce61-fd1ab0ac2ef6"
      },
      "execution_count": null,
      "outputs": [
        {
          "output_type": "stream",
          "name": "stdout",
          "text": [
            "3.0\n"
          ]
        }
      ]
    },
    {
      "cell_type": "code",
      "source": [
        "##two inputs\n",
        "def area_rectangle(l,b):\n",
        "  print(l*b)"
      ],
      "metadata": {
        "id": "1fHO1Bd1y4Re"
      },
      "execution_count": null,
      "outputs": []
    },
    {
      "cell_type": "code",
      "source": [
        "help(area_rectangle)"
      ],
      "metadata": {
        "colab": {
          "base_uri": "https://localhost:8080/"
        },
        "id": "kgBeodeOzK1N",
        "outputId": "fa8bc072-3194-42bd-db68-1ce4035221be"
      },
      "execution_count": null,
      "outputs": [
        {
          "output_type": "stream",
          "name": "stdout",
          "text": [
            "Help on function area_rectangle in module __main__:\n",
            "\n",
            "area_rectangle(l, b)\n",
            "    ##two inputs\n",
            "\n"
          ]
        }
      ]
    },
    {
      "cell_type": "code",
      "source": [
        "area_rectangle(4,3)"
      ],
      "metadata": {
        "colab": {
          "base_uri": "https://localhost:8080/"
        },
        "id": "yB7pYQD4zNnd",
        "outputId": "02e8f0d3-aa93-4bdf-af9f-4393f86b150f"
      },
      "execution_count": null,
      "outputs": [
        {
          "output_type": "stream",
          "name": "stdout",
          "text": [
            "12\n"
          ]
        }
      ]
    },
    {
      "cell_type": "code",
      "source": [
        "def greet(name):\n",
        "  print(f'Hello, {name}')"
      ],
      "metadata": {
        "id": "og7OHsuMzRHP"
      },
      "execution_count": null,
      "outputs": []
    },
    {
      "cell_type": "code",
      "source": [
        "greet(\"Sanjay\")"
      ],
      "metadata": {
        "colab": {
          "base_uri": "https://localhost:8080/"
        },
        "id": "NIKXGQPlznAu",
        "outputId": "0922712e-a38c-4ed5-8e3c-d9e652533945"
      },
      "execution_count": null,
      "outputs": [
        {
          "output_type": "stream",
          "name": "stdout",
          "text": [
            "Hello, Sanjay\n"
          ]
        }
      ]
    },
    {
      "cell_type": "code",
      "source": [
        "def randon():\n",
        "  print(\"Hello before return\")\n",
        "  return 1\n",
        "  print(\"Hello after return\")"
      ],
      "metadata": {
        "id": "O8Nx45f7zpiS"
      },
      "execution_count": null,
      "outputs": []
    },
    {
      "cell_type": "code",
      "source": [
        "randon()"
      ],
      "metadata": {
        "colab": {
          "base_uri": "https://localhost:8080/"
        },
        "id": "CxZVVNT73Chl",
        "outputId": "ab3c80fb-b8d7-4d1f-f3be-00a630f82349"
      },
      "execution_count": null,
      "outputs": [
        {
          "output_type": "stream",
          "name": "stdout",
          "text": [
            "Hello before return\n"
          ]
        },
        {
          "output_type": "execute_result",
          "data": {
            "text/plain": [
              "1"
            ]
          },
          "metadata": {},
          "execution_count": 2
        }
      ]
    },
    {
      "cell_type": "code",
      "source": [
        "def xyz(a,b,c=None):\n",
        "  print(a,b,c)#here c is not complusoru"
      ],
      "metadata": {
        "id": "PjMDPh123RI_"
      },
      "execution_count": null,
      "outputs": []
    },
    {
      "cell_type": "code",
      "source": [
        "xyz(1,2)"
      ],
      "metadata": {
        "colab": {
          "base_uri": "https://localhost:8080/"
        },
        "id": "oBnLASXNCSKN",
        "outputId": "88fe0721-26c8-4498-9cf6-7e5e749cc60f"
      },
      "execution_count": null,
      "outputs": [
        {
          "output_type": "stream",
          "name": "stdout",
          "text": [
            "1 2 None\n"
          ]
        }
      ]
    },
    {
      "cell_type": "code",
      "source": [
        "xyz(1,2,3)"
      ],
      "metadata": {
        "colab": {
          "base_uri": "https://localhost:8080/"
        },
        "id": "uE_wVVQuCUtA",
        "outputId": "7dc02ca4-ae1a-4f77-a94a-c29d2894a60e"
      },
      "execution_count": null,
      "outputs": [
        {
          "output_type": "stream",
          "name": "stdout",
          "text": [
            "1 2 3\n"
          ]
        }
      ]
    },
    {
      "cell_type": "code",
      "source": [
        "def func1(l,b=4):\n",
        "  print(l*b)"
      ],
      "metadata": {
        "id": "ut199DXRCWpP"
      },
      "execution_count": null,
      "outputs": []
    },
    {
      "cell_type": "code",
      "source": [
        "func1(10)"
      ],
      "metadata": {
        "colab": {
          "base_uri": "https://localhost:8080/"
        },
        "id": "mqaDrQhkCilF",
        "outputId": "0265b45e-0668-437c-dc9a-6ab2b79ab8e3"
      },
      "execution_count": null,
      "outputs": [
        {
          "output_type": "stream",
          "name": "stdout",
          "text": [
            "40\n"
          ]
        }
      ]
    },
    {
      "cell_type": "code",
      "source": [
        "func1(10,5)"
      ],
      "metadata": {
        "colab": {
          "base_uri": "https://localhost:8080/"
        },
        "id": "yPJWRc3tCkZb",
        "outputId": "1e5bda27-7af3-4613-cbfd-f93e02c19e0a"
      },
      "execution_count": null,
      "outputs": [
        {
          "output_type": "stream",
          "name": "stdout",
          "text": [
            "50\n"
          ]
        }
      ]
    },
    {
      "cell_type": "code",
      "source": [
        "def func1(l=10,b):\n",
        "  print(l*b)"
      ],
      "metadata": {
        "colab": {
          "base_uri": "https://localhost:8080/",
          "height": 106
        },
        "id": "fjw8rA8dCmGb",
        "outputId": "790b341b-2b57-4d72-c22a-ec078545effb"
      },
      "execution_count": null,
      "outputs": [
        {
          "output_type": "error",
          "ename": "SyntaxError",
          "evalue": "non-default argument follows default argument (<ipython-input-9-f70122237c4c>, line 1)",
          "traceback": [
            "\u001b[0;36m  File \u001b[0;32m\"<ipython-input-9-f70122237c4c>\"\u001b[0;36m, line \u001b[0;32m1\u001b[0m\n\u001b[0;31m    def func1(l=10,b):\u001b[0m\n\u001b[0m                   ^\u001b[0m\n\u001b[0;31mSyntaxError\u001b[0m\u001b[0;31m:\u001b[0m non-default argument follows default argument\n"
          ]
        }
      ]
    },
    {
      "cell_type": "code",
      "source": [
        "#global variables\n",
        "def random():\n",
        "  ba=50\n",
        "  print(\"It's random \",ba)"
      ],
      "metadata": {
        "id": "-nEkmBsaCp6z"
      },
      "execution_count": null,
      "outputs": []
    },
    {
      "cell_type": "code",
      "source": [
        "random()"
      ],
      "metadata": {
        "colab": {
          "base_uri": "https://localhost:8080/"
        },
        "id": "TQbjzl53DBtF",
        "outputId": "0b9c667c-a3a0-4c5d-e189-a0a6b199f325"
      },
      "execution_count": null,
      "outputs": [
        {
          "output_type": "stream",
          "name": "stdout",
          "text": [
            "It's random  50\n"
          ]
        }
      ]
    },
    {
      "cell_type": "code",
      "source": [
        "ba=10\n",
        "def random():\n",
        "  ba=50\n",
        "  print(\"It's random\",ba)\n",
        "random()\n",
        "\n",
        "print(\"it's outside\",ba)"
      ],
      "metadata": {
        "colab": {
          "base_uri": "https://localhost:8080/"
        },
        "id": "H3D4tPy1DCnv",
        "outputId": "59a7084a-5d92-43b3-b9ef-c40b6febd182"
      },
      "execution_count": null,
      "outputs": [
        {
          "output_type": "stream",
          "name": "stdout",
          "text": [
            "It's random 50\n",
            "it's outside 10\n"
          ]
        }
      ]
    },
    {
      "cell_type": "code",
      "source": [
        "a=10\n",
        "def randomz():\n",
        "  global a\n",
        "  a=20\n",
        "\n",
        "print(a)"
      ],
      "metadata": {
        "colab": {
          "base_uri": "https://localhost:8080/"
        },
        "id": "EUn_5D5wDOFL",
        "outputId": "a84b4157-f017-4346-d6aa-9a39d8ea1c56"
      },
      "execution_count": null,
      "outputs": [
        {
          "output_type": "stream",
          "name": "stdout",
          "text": [
            "10\n"
          ]
        }
      ]
    },
    {
      "cell_type": "code",
      "source": [],
      "metadata": {
        "id": "YrnLocCaENWm"
      },
      "execution_count": null,
      "outputs": []
    }
  ]
}