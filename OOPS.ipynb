{
  "nbformat": 4,
  "nbformat_minor": 0,
  "metadata": {
    "colab": {
      "provenance": [],
      "authorship_tag": "ABX9TyMBPRk5l4gvke3T58KS30qQ",
      "include_colab_link": true
    },
    "kernelspec": {
      "name": "python3",
      "display_name": "Python 3"
    },
    "language_info": {
      "name": "python"
    }
  },
  "cells": [
    {
      "cell_type": "markdown",
      "metadata": {
        "id": "view-in-github",
        "colab_type": "text"
      },
      "source": [
        "<a href=\"https://colab.research.google.com/github/SPraveeen/python_google_colab_study/blob/main/OOPS.ipynb\" target=\"_parent\"><img src=\"https://colab.research.google.com/assets/colab-badge.svg\" alt=\"Open In Colab\"/></a>"
      ]
    },
    {
      "cell_type": "code",
      "execution_count": null,
      "metadata": {
        "id": "zx9NG_Qm9_Yy"
      },
      "outputs": [],
      "source": [
        "#classes (like generic) blueprint, //ex: humans\n",
        "#objects(like more specific) // ex: shivank\n",
        "\n",
        "#class ->humans\n",
        "#properties -> nose/hands/legs/stomach/backbone\n",
        "#funtions/actions ->can walk(),can run(),can eat(), can dance()\n",
        "\n",
        "#initializantion\n",
        "#hand=2, leg=2\n",
        "\n",
        "#to create\n",
        "#class Human: //class\n",
        "  # properties\n",
        "  # methods\n",
        "  # pass\n",
        "\n",
        "#shivank = Human() //object\n",
        "\n",
        "#like god everything in python is object\n",
        "\n",
        "#oops and functional -> programming paradigms"
      ]
    },
    {
      "cell_type": "code",
      "source": [
        "class person:\n",
        "  pass"
      ],
      "metadata": {
        "id": "SzCzyKxqF38k"
      },
      "execution_count": null,
      "outputs": []
    },
    {
      "cell_type": "code",
      "source": [
        "p1=person()\n",
        "p2=person()\n",
        "p3=person()"
      ],
      "metadata": {
        "id": "H-aNp-iM7Jl2"
      },
      "execution_count": null,
      "outputs": []
    },
    {
      "cell_type": "code",
      "source": [
        "p1.name='Aaksash'\n",
        "p1.age=20\n",
        "p1.height=147.20\n",
        "\n",
        "p2.name='shankar'\n",
        "p2.age=30\n",
        "p2.height=153.8\n",
        "\n",
        "p3.name='Guru'\n",
        "p3.age=45\n",
        "p3.height = 132.7\n",
        "\n",
        "print(p1.name,p2.name,p3.name,p3.height)"
      ],
      "metadata": {
        "colab": {
          "base_uri": "https://localhost:8080/"
        },
        "id": "sNW1BsVA7L6D",
        "outputId": "957dd2ea-71b8-42ba-93d0-e282a7b04601"
      },
      "execution_count": null,
      "outputs": [
        {
          "output_type": "stream",
          "name": "stdout",
          "text": [
            "Aaksash shankar Guru 132.7\n"
          ]
        }
      ]
    },
    {
      "cell_type": "code",
      "source": [
        "class Male:\n",
        "  age=0\n",
        "  job='unemployed'\n",
        "\n",
        "m1=Male()\n",
        "m1.name='gobi'\n",
        "\n",
        "print(m1.name)\n",
        "print(m1.age)\n",
        "print(m1.job)"
      ],
      "metadata": {
        "colab": {
          "base_uri": "https://localhost:8080/"
        },
        "id": "lD2P_Tl18MqW",
        "outputId": "18c7235c-bf66-482d-f7e2-f1cc8b720a27"
      },
      "execution_count": null,
      "outputs": [
        {
          "output_type": "stream",
          "name": "stdout",
          "text": [
            "gobi\n",
            "0\n",
            "unemployed\n"
          ]
        }
      ]
    },
    {
      "cell_type": "code",
      "source": [
        "class Box:\n",
        "  length=0\n",
        "  breadth=0\n",
        "  height=0\n"
      ],
      "metadata": {
        "id": "FojNZH_F80JD"
      },
      "execution_count": null,
      "outputs": []
    },
    {
      "cell_type": "code",
      "source": [
        "b1=Box()\n",
        "b1.length=3\n",
        "b1.breadth=4\n",
        "b1.height=5\n",
        "print(\"Volume = \",b1.length*b1.breadth*b1.height)"
      ],
      "metadata": {
        "colab": {
          "base_uri": "https://localhost:8080/"
        },
        "id": "w5wjQOyo86xS",
        "outputId": "662b32f8-05a8-4de8-e006-90c38efdaaf9"
      },
      "execution_count": null,
      "outputs": [
        {
          "output_type": "stream",
          "name": "stdout",
          "text": [
            "Volume =  60\n"
          ]
        }
      ]
    },
    {
      "cell_type": "code",
      "source": [
        "class Box:\n",
        "  length=0\n",
        "  breadth=0\n",
        "  height=0\n",
        "\n",
        "  def volume(self):\n",
        "    return self.length * self.breadth * self.height"
      ],
      "metadata": {
        "id": "ZtGF-DHkOHMp"
      },
      "execution_count": null,
      "outputs": []
    },
    {
      "cell_type": "code",
      "source": [
        "b1=Box()\n",
        "b1.length =4\n",
        "b1.breadth =3\n",
        "b1.height = 5\n",
        "\n",
        "print(b1.volume())"
      ],
      "metadata": {
        "colab": {
          "base_uri": "https://localhost:8080/"
        },
        "id": "tBc-VW_EOYbw",
        "outputId": "6584ef72-2eed-4f50-875a-7d5d41038cad"
      },
      "execution_count": null,
      "outputs": [
        {
          "output_type": "stream",
          "name": "stdout",
          "text": [
            "60\n"
          ]
        }
      ]
    },
    {
      "cell_type": "code",
      "source": [
        "class circle:\n",
        "  radius=0\n",
        "\n",
        "  def find_area(self):\n",
        "    return (3.14) * (self.radius) * (self.radius)"
      ],
      "metadata": {
        "id": "xjC16itVOlbg"
      },
      "execution_count": null,
      "outputs": []
    },
    {
      "cell_type": "code",
      "source": [
        "c1=circle()\n",
        "c1.radius=50\n",
        "print(c1.find_area())"
      ],
      "metadata": {
        "colab": {
          "base_uri": "https://localhost:8080/"
        },
        "id": "RJFF3zrgPkKz",
        "outputId": "2a1eda3f-9633-4c07-b79a-19f0ef373227"
      },
      "execution_count": null,
      "outputs": [
        {
          "output_type": "stream",
          "name": "stdout",
          "text": [
            "7850.0\n"
          ]
        }
      ]
    },
    {
      "cell_type": "code",
      "source": [
        "##__init__\n",
        "\n",
        "##dunder method (starting 2 underscore and then keyword with eneding two underscore)\n",
        "\n",
        "class box:\n",
        "  length=0\n",
        "  breadth=0\n",
        "  height=0\n",
        "\n",
        "  def __init__(self,length,breadth,height):\n",
        "    self.length=length\n",
        "    self.breadth=breadth\n",
        "    self.height=height\n",
        "\n",
        "  def volume(self):\n",
        "    return self.length * self.breadth * self.height"
      ],
      "metadata": {
        "id": "kan2cFB_Py4w"
      },
      "execution_count": null,
      "outputs": []
    },
    {
      "cell_type": "code",
      "source": [
        "b1=box(4,5,6)\n",
        "print(b1.volume())"
      ],
      "metadata": {
        "colab": {
          "base_uri": "https://localhost:8080/"
        },
        "id": "NPupySS1SW9w",
        "outputId": "3bfead5e-17ed-4dfd-b89e-72dde165cfca"
      },
      "execution_count": null,
      "outputs": [
        {
          "output_type": "stream",
          "name": "stdout",
          "text": [
            "120\n"
          ]
        }
      ]
    },
    {
      "cell_type": "code",
      "source": [
        "b2=box(4,4,4)\n",
        "print(b2.volume())"
      ],
      "metadata": {
        "colab": {
          "base_uri": "https://localhost:8080/"
        },
        "id": "ZfkyjgBhSjnO",
        "outputId": "85a6fdad-6e7d-4962-ab81-87e665f777ef"
      },
      "execution_count": null,
      "outputs": [
        {
          "output_type": "stream",
          "name": "stdout",
          "text": [
            "64\n"
          ]
        }
      ]
    },
    {
      "cell_type": "code",
      "source": [
        "##class and instance variables\n",
        "class student:\n",
        "  name=\"Bipin\"\n",
        "\n",
        "  def __init__(self,name,age):\n",
        "    self.name=name\n",
        "    self.age=age\n",
        "\n",
        "  def hello(self):\n",
        "    print(f'Hello {self.name}')\n",
        "\n",
        "bipin=student(\"Ayush\",20)\n",
        "bipin.hello()"
      ],
      "metadata": {
        "colab": {
          "base_uri": "https://localhost:8080/"
        },
        "id": "TiENiMNsSuci",
        "outputId": "a823d2de-fe23-4391-f3cb-c9674d10da58"
      },
      "execution_count": null,
      "outputs": [
        {
          "output_type": "stream",
          "name": "stdout",
          "text": [
            "Hello Ayush\n"
          ]
        }
      ]
    },
    {
      "cell_type": "code",
      "source": [
        "# Abstarction\n",
        "# need to know how to drive a car, not neccerisly know what inside a engine\n",
        "\n",
        "#encapsulation\n",
        "#wrapping up the properties and their related methods together in a class\n",
        "\n",
        "s1_name =\"Rohan\"\n",
        "s1_marks=20\n",
        "\n",
        "s2_name=\"Yash\"\n",
        "s2_marks=40\n",
        "\n",
        "#this is not easy way of declaring and istakes can happen"
      ],
      "metadata": {
        "id": "9-6m2Rh1W-Re"
      },
      "execution_count": null,
      "outputs": []
    },
    {
      "cell_type": "code",
      "source": [
        "class student:\n",
        "  name=''\n",
        "  marks=0\n",
        "\n",
        "  def __init__(self,name,marks):\n",
        "    self.name=name\n",
        "    self.marks=marks\n",
        "\n",
        "rohan=student('Rohan',20)\n",
        "yash=student('Yash',40)"
      ],
      "metadata": {
        "id": "nTwCwtTqbCL8"
      },
      "execution_count": null,
      "outputs": []
    },
    {
      "cell_type": "code",
      "source": [
        "#polymorphism\n",
        "#same entity but different behaviour\n",
        "print(4+5) #here adding\n",
        "print(\"Hello\"+\"World\") #here concatinating"
      ],
      "metadata": {
        "colab": {
          "base_uri": "https://localhost:8080/"
        },
        "id": "Oa6fZa5rbWQr",
        "outputId": "3966ef9a-bfdb-4dc5-e9db-be0e9efdce1a"
      },
      "execution_count": null,
      "outputs": [
        {
          "output_type": "stream",
          "name": "stdout",
          "text": [
            "9\n",
            "HelloWorld\n"
          ]
        }
      ]
    },
    {
      "cell_type": "code",
      "source": [
        "#inheritance\n",
        "#car -> sedan/suv/hatchback\n",
        "#car some similarities\n",
        "#different cars different properties"
      ],
      "metadata": {
        "id": "lcv2onQPbxPL"
      },
      "execution_count": null,
      "outputs": []
    },
    {
      "cell_type": "markdown",
      "source": [
        "**Class -2**\n",
        "\n",
        "\n",
        "1.   ***`Encapsulation`***\n",
        "2.   ***`Access Modifiers in python`***\n",
        "3.   ***`getters and setters in py`***\n",
        "4.   ***`inheritance`***\n",
        "5.   ***`super()`***\n",
        "6.   ***`method overriding`***\n",
        "7.   ***`method resolution order in python`***\n",
        "8.   ***`Dunder / Magic methods`***\n",
        "\n",
        "\n",
        "\n",
        "\n",
        "\n",
        "\n",
        "\n",
        "\n",
        "\n"
      ],
      "metadata": {
        "id": "DeaVrx6uaO8k"
      }
    },
    {
      "cell_type": "code",
      "source": [
        "#dunder/magic methods\n",
        "#__init__ {constrctor}\n",
        "#__str__ {when we print object inside this will print} {to pr}\n",
        "#__add__ {add two object value}\n",
        "#__lt__ {to compare two methods}\n",
        "class Employee:\n",
        "\n",
        "  def __init__(self,name,age):\n",
        "    self.name=name\n",
        "    self.age=age\n",
        "\n",
        "e1=Employee('Shankar',30)\n",
        "print(e1.name,e1.age)"
      ],
      "metadata": {
        "colab": {
          "base_uri": "https://localhost:8080/"
        },
        "id": "nMp4_L1aaNfQ",
        "outputId": "cc010612-4bd7-4c25-e894-f9eaf7153435"
      },
      "execution_count": null,
      "outputs": [
        {
          "output_type": "stream",
          "name": "stdout",
          "text": [
            "Shankar 30\n"
          ]
        }
      ]
    },
    {
      "cell_type": "code",
      "source": [
        "class Employee1:\n",
        "\n",
        "  def __init__(self,name,age,salary):\n",
        "    self.name=name\n",
        "    self.age=age\n",
        "    self.salary=salary\n",
        "\n",
        "  def __str__(self):\n",
        "    return f'{self.name}->{self.age}->{self.salary}'\n",
        "\n",
        "  def __add__(self,other):\n",
        "    return self.salary + other.salary\n",
        "\n",
        "  def __lt__(self,other):\n",
        "    return self.salary > other.salary"
      ],
      "metadata": {
        "id": "T9NmeptS1aD_"
      },
      "execution_count": null,
      "outputs": []
    },
    {
      "cell_type": "code",
      "source": [
        "Ashok =Employee1(\"Ashok\",30,50000)\n",
        "Prakash = Employee1(\"Prakash\",28,70000)\n",
        "print(Prakash)\n",
        "print(Ashok)\n",
        "print(Ashok+Prakash)\n",
        "print(Ashok<Prakash)"
      ],
      "metadata": {
        "colab": {
          "base_uri": "https://localhost:8080/"
        },
        "id": "73oinFpV2PtQ",
        "outputId": "6147b89e-75f8-434b-8844-ad961bfdc4fe"
      },
      "execution_count": null,
      "outputs": [
        {
          "output_type": "stream",
          "name": "stdout",
          "text": [
            "Prakash->28->70000\n",
            "Ashok->30->50000\n",
            "120000\n",
            "False\n"
          ]
        }
      ]
    },
    {
      "cell_type": "code",
      "source": [
        "#access modifiers\n",
        "# public->can be access inside and outside class\n",
        "# private->only accessible inside class\n",
        "\n",
        "# to declare private give (__salary)\n",
        "class Employee1:\n",
        "\n",
        "  def __init__(self,name,age,salary):\n",
        "    self.name=name\n",
        "    self.age=age\n",
        "    self.__salary=salary\n",
        "\n",
        "  def __str__(self):\n",
        "    return f'{self.name}->{self.age}->{self.salary}'\n",
        "\n",
        "  def __add__(self,other):\n",
        "    return self.salary + other.salary\n",
        "\n",
        "  def __lt__(self,other):\n",
        "    return self.salary > other.salary\n",
        "\n",
        "e1=Employee1('ddd','dddd',4444)\n",
        "e1.__salary"
      ],
      "metadata": {
        "colab": {
          "base_uri": "https://localhost:8080/",
          "height": 176
        },
        "id": "2T6VAbKZ2h5v",
        "outputId": "6016f8d7-6b9b-4c08-b87b-bb0c30552921"
      },
      "execution_count": null,
      "outputs": [
        {
          "output_type": "error",
          "ename": "AttributeError",
          "evalue": "'Employee1' object has no attribute '__salary'",
          "traceback": [
            "\u001b[0;31m---------------------------------------------------------------------------\u001b[0m",
            "\u001b[0;31mAttributeError\u001b[0m                            Traceback (most recent call last)",
            "\u001b[0;32m<ipython-input-12-d07642968da2>\u001b[0m in \u001b[0;36m<cell line: 0>\u001b[0;34m()\u001b[0m\n\u001b[1;32m     21\u001b[0m \u001b[0;34m\u001b[0m\u001b[0m\n\u001b[1;32m     22\u001b[0m \u001b[0me1\u001b[0m\u001b[0;34m=\u001b[0m\u001b[0mEmployee1\u001b[0m\u001b[0;34m(\u001b[0m\u001b[0;34m'ddd'\u001b[0m\u001b[0;34m,\u001b[0m\u001b[0;34m'dddd'\u001b[0m\u001b[0;34m,\u001b[0m\u001b[0;36m4444\u001b[0m\u001b[0;34m)\u001b[0m\u001b[0;34m\u001b[0m\u001b[0;34m\u001b[0m\u001b[0m\n\u001b[0;32m---> 23\u001b[0;31m \u001b[0me1\u001b[0m\u001b[0;34m.\u001b[0m\u001b[0m__salary\u001b[0m\u001b[0;34m\u001b[0m\u001b[0;34m\u001b[0m\u001b[0m\n\u001b[0m",
            "\u001b[0;31mAttributeError\u001b[0m: 'Employee1' object has no attribute '__salary'"
          ]
        }
      ]
    },
    {
      "cell_type": "code",
      "source": [
        "#to access private we use getters and setters through public can access private\n",
        "#getter -> to access private\n",
        "#setter -> to change values\n",
        "class Employee1:\n",
        "\n",
        "  def __init__(self,name,age,salary):\n",
        "    self.name=name\n",
        "    self.age=age\n",
        "    self.__salary=salary\n",
        "\n",
        "  def get_salary(self):\n",
        "    return self.__salary\n",
        "\n",
        "e1=Employee1('ddd','dddd',4444)\n",
        "# e1.__salary\n",
        "e1.get_salary()"
      ],
      "metadata": {
        "colab": {
          "base_uri": "https://localhost:8080/"
        },
        "id": "yaXs0nc4-WPy",
        "outputId": "3571fab6-dc44-4fc8-a4e1-e47bac811b8a"
      },
      "execution_count": null,
      "outputs": [
        {
          "output_type": "execute_result",
          "data": {
            "text/plain": [
              "4444"
            ]
          },
          "metadata": {},
          "execution_count": 16
        }
      ]
    },
    {
      "cell_type": "code",
      "source": [
        "class Employee1:\n",
        "\n",
        "  def __init__(self,name,age,salary):\n",
        "    self.name=name\n",
        "    self.age=age\n",
        "    self.__salary=salary\n",
        "\n",
        "  def get_salary(self):\n",
        "    return self.__salary\n",
        "\n",
        "  def set_salary(self,salary):\n",
        "    self.__salary=salary\n",
        "\n",
        "e1=Employee1('ddd','dddd',4444)\n",
        "# e1.__salary\n",
        "print(e1.get_salary())\n",
        "e1.set_salary(20000)\n",
        "print(e1.get_salary())\n"
      ],
      "metadata": {
        "colab": {
          "base_uri": "https://localhost:8080/"
        },
        "id": "CscVaobo-vjH",
        "outputId": "5d05e9bd-5cd8-4a59-dbe5-7e54ee0bb862"
      },
      "execution_count": null,
      "outputs": [
        {
          "output_type": "stream",
          "name": "stdout",
          "text": [
            "4444\n",
            "20000\n"
          ]
        }
      ]
    },
    {
      "cell_type": "code",
      "source": [
        "#inheritance\n",
        "class Vehicle:\n",
        "  wheels=4\n",
        "  engine='xyz'\n",
        "  typee='hatchback'\n",
        "\n",
        "class car(Vehicle):\n",
        "  pass\n",
        "\n",
        "c1=car()\n",
        "c1.wheels"
      ],
      "metadata": {
        "colab": {
          "base_uri": "https://localhost:8080/"
        },
        "id": "1tjZkd7eAEKr",
        "outputId": "6750dc78-8881-4822-edcd-5040a0961d2a"
      },
      "execution_count": null,
      "outputs": [
        {
          "output_type": "execute_result",
          "data": {
            "text/plain": [
              "4"
            ]
          },
          "metadata": {},
          "execution_count": 18
        }
      ]
    },
    {
      "cell_type": "code",
      "source": [
        "class vechicle:\n",
        "  wheels=6\n",
        "  def vehicle_info(self):\n",
        "    print(\"Inside the class function\")\n",
        "\n",
        "class car1(vechicle):\n",
        "  def car_info(self):\n",
        "    print(\"Inside the car class\")\n",
        "\n",
        "c1=car1()\n",
        "c1.vehicle_info()\n",
        "c1.car_info()\n"
      ],
      "metadata": {
        "colab": {
          "base_uri": "https://localhost:8080/"
        },
        "id": "uBzYAd6fDnQO",
        "outputId": "71855f7e-56c4-4df7-e34c-b7add3b4dfc0"
      },
      "execution_count": null,
      "outputs": [
        {
          "output_type": "stream",
          "name": "stdout",
          "text": [
            "Inside the class function\n",
            "Inside the car class\n"
          ]
        }
      ]
    },
    {
      "cell_type": "code",
      "source": [
        "#multiple inheritance\n",
        "class person:\n",
        "  def person_info(self,name,age):\n",
        "    print('Inside the person class')\n",
        "    print(name,age)\n",
        "class company:\n",
        "  def compay_info(self,name,location):\n",
        "    print('Inside the company class')\n",
        "    print(name,location)\n",
        "class employee(person,company):\n",
        "  pass\n",
        "\n",
        "e1=employee()\n",
        "e1.compay_info('xyx','hyderabad')"
      ],
      "metadata": {
        "colab": {
          "base_uri": "https://localhost:8080/"
        },
        "id": "Plt8sfIAEcf9",
        "outputId": "50533615-a1d3-4192-bcba-692a9e2f95f3"
      },
      "execution_count": null,
      "outputs": [
        {
          "output_type": "stream",
          "name": "stdout",
          "text": [
            "Inside the company class\n",
            "xyx hyderabad\n"
          ]
        }
      ]
    },
    {
      "cell_type": "code",
      "source": [
        "#multileve inheritance\n",
        "# vehicle -> car ->sportscar\n",
        "\n",
        "class vehicle:\n",
        "  def vehicle_info():\n",
        "    print('Inside the vehicle class')\n",
        "class car(vehicle):\n",
        "  pass\n",
        "class sportscar(car):\n",
        "  pass"
      ],
      "metadata": {
        "id": "fNIt331dJRap"
      },
      "execution_count": null,
      "outputs": []
    },
    {
      "cell_type": "code",
      "source": [
        "#heirarchial inheritance\n",
        "# vehicle (car,truck)\n",
        "\n",
        "class vechicle:\n",
        "  def vehicle_info(self):\n",
        "    print(\"Inside vehicle\")\n",
        "\n",
        "class car(vechicle):\n",
        "  def car_info(self):\n",
        "    print(\"inside car_info\")\n",
        "\n",
        "class truck(vechicle):\n",
        "  def truck_info(self):\n",
        "    print(\"inside truck_info\")\n",
        "\n",
        "t=truck()\n",
        "t.vehicle_info()\n",
        "c=car()\n",
        "c.vehicle_info()"
      ],
      "metadata": {
        "colab": {
          "base_uri": "https://localhost:8080/"
        },
        "id": "1eFx_OoVKdb2",
        "outputId": "96a1026e-15ad-4662-9727-80a37db67f51"
      },
      "execution_count": null,
      "outputs": [
        {
          "output_type": "stream",
          "name": "stdout",
          "text": [
            "Inside vehicle\n",
            "Inside vehicle\n"
          ]
        }
      ]
    },
    {
      "cell_type": "code",
      "source": [
        "#method_overriding with same method mname but want to access parent, use 'super()' keyword\n",
        "\n",
        "class A:\n",
        "  def __init__(self,a,b,c):\n",
        "    self.a=a\n",
        "    self.b=b\n",
        "    self.c=c\n",
        "class B(A):\n",
        "  def __init__(self,d):\n",
        "    self.d=d\n",
        "b=B(10)\n",
        "b.d"
      ],
      "metadata": {
        "id": "zfPzWDikP-3U",
        "colab": {
          "base_uri": "https://localhost:8080/"
        },
        "outputId": "bf035178-96c1-4f97-85f1-af8d238984c4"
      },
      "execution_count": null,
      "outputs": [
        {
          "output_type": "execute_result",
          "data": {
            "text/plain": [
              "10"
            ]
          },
          "metadata": {},
          "execution_count": 35
        }
      ]
    },
    {
      "cell_type": "code",
      "source": [
        "class A:\n",
        "  def __init__(self,a,b,c):\n",
        "    self.a=a\n",
        "    self.b=b\n",
        "    self.c=c\n",
        "class B(A):\n",
        "  def __init__(self,d):\n",
        "    self.d=d\n",
        "b=B(10)\n",
        "b.a"
      ],
      "metadata": {
        "colab": {
          "base_uri": "https://localhost:8080/",
          "height": 176
        },
        "id": "lKCUYyOch7G8",
        "outputId": "98cac82a-d772-4150-9b6c-dae0d1ad26fd"
      },
      "execution_count": null,
      "outputs": [
        {
          "output_type": "error",
          "ename": "AttributeError",
          "evalue": "'B' object has no attribute 'a'",
          "traceback": [
            "\u001b[0;31m---------------------------------------------------------------------------\u001b[0m",
            "\u001b[0;31mAttributeError\u001b[0m                            Traceback (most recent call last)",
            "\u001b[0;32m<ipython-input-37-5260775aee7d>\u001b[0m in \u001b[0;36m<cell line: 0>\u001b[0;34m()\u001b[0m\n\u001b[1;32m      8\u001b[0m     \u001b[0mself\u001b[0m\u001b[0;34m.\u001b[0m\u001b[0md\u001b[0m\u001b[0;34m=\u001b[0m\u001b[0md\u001b[0m\u001b[0;34m\u001b[0m\u001b[0;34m\u001b[0m\u001b[0m\n\u001b[1;32m      9\u001b[0m \u001b[0mb\u001b[0m\u001b[0;34m=\u001b[0m\u001b[0mB\u001b[0m\u001b[0;34m(\u001b[0m\u001b[0;36m10\u001b[0m\u001b[0;34m)\u001b[0m\u001b[0;34m\u001b[0m\u001b[0;34m\u001b[0m\u001b[0m\n\u001b[0;32m---> 10\u001b[0;31m \u001b[0mb\u001b[0m\u001b[0;34m.\u001b[0m\u001b[0ma\u001b[0m\u001b[0;34m\u001b[0m\u001b[0;34m\u001b[0m\u001b[0m\n\u001b[0m",
            "\u001b[0;31mAttributeError\u001b[0m: 'B' object has no attribute 'a'"
          ]
        }
      ]
    },
    {
      "cell_type": "code",
      "source": [
        "#to use parent class\n",
        "class A:\n",
        "  def __init__(self,a,b,c):\n",
        "    self.a=a\n",
        "    self.b=b\n",
        "    self.c=c\n",
        "class B(A):\n",
        "  def __init__(self,a,b,c,d):\n",
        "    super().__init__(a,b,c)\n",
        "    self.d=d\n",
        "b=B(10,20,30,40)\n",
        "b.b"
      ],
      "metadata": {
        "colab": {
          "base_uri": "https://localhost:8080/"
        },
        "id": "P4urXqlfh-eq",
        "outputId": "d8030dd9-77c2-4214-c75a-cc43d51f032f"
      },
      "execution_count": null,
      "outputs": [
        {
          "output_type": "execute_result",
          "data": {
            "text/plain": [
              "20"
            ]
          },
          "metadata": {},
          "execution_count": 41
        }
      ]
    },
    {
      "cell_type": "code",
      "source": [],
      "metadata": {
        "id": "e1dcQ6SuiKyJ"
      },
      "execution_count": null,
      "outputs": []
    }
  ]
}